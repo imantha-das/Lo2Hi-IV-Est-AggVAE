{
 "cells": [
  {
   "cell_type": "code",
   "execution_count": 40,
   "metadata": {},
   "outputs": [],
   "source": [
    "import os\n",
    "import numpy as np\n",
    "import torch\n",
    "import geopandas as gpd\n",
    "\n",
    "import torch.nn as nn\n",
    "import torch.nn.functional as F\n",
    "from torch.utils.data import DataLoader, Dataset\n",
    "\n",
    "import pyro \n",
    "import pyro.distributions as dist\n",
    "from pyro.infer import MCMC, NUTS, Predictive, SVI, RenyiELBO\n",
    "\n",
    "import matplotlib.pyplot as plt\n",
    "import plotly.express as px\n",
    "from termcolor import colored\n"
   ]
  },
  {
   "cell_type": "markdown",
   "metadata": {},
   "source": [
    "## Helper Funcs"
   ]
  },
  {
   "cell_type": "code",
   "execution_count": 41,
   "metadata": {},
   "outputs": [],
   "source": [
    "DEVICE = \"cuda\" if torch.cuda.is_available else \"cpu\"\n",
    "\n",
    "def check_tensor_cuda(t):\n",
    "    assert isinstance(x, torch.Tensor) and x.is_cuda, colored(\"Var not a torch tensor or not using cuda\",\"red\")\n"
   ]
  },
  {
   "cell_type": "markdown",
   "metadata": {},
   "source": [
    "## GP Kernel Funcs"
   ]
  },
  {
   "cell_type": "code",
   "execution_count": 42,
   "metadata": {},
   "outputs": [],
   "source": [
    "def dist_euclid(x:torch.Tensor,z:torch.Tensor)->torch.Tensor:\n",
    "    \"\"\"\n",
    "    x : Lat/Lon values, Shape : (*,2)\n",
    "    z : Also lat/lon values in this situation \n",
    "    \"\"\"\n",
    "    check_tensor_cuda(x);check_tensor_cuda(z)\n",
    "\n",
    "    if len(x.shape) == 1:\n",
    "        x = x.reshape(x.shape[0], 1) #shape : (num_grid_pts, 1)\n",
    "    if len(z.shape) == 1:\n",
    "        z = z.reshape(z.shape[0], 1) #shape : (num_grid_pts, 1)\n",
    "\n",
    "    n_x , m = x.shape\n",
    "    n_z , m_z = z.shape \n",
    "    assert m == m_z\n",
    "\n",
    "    delta = torch.zeros((n_x, n_z)).to(DEVICE) #shape : (num_grid_pts, num_grid_pts)\n",
    "    for d in torch.arange(m): #num_grid_pts ; i.e 0..1919\n",
    "        x_d = x[:, d] #take col vector from sq mat\n",
    "        z_d = z[:, d]\n",
    "        delta = (x_d.unsqueeze(1) - z_d)**2 \n",
    "    \n",
    "    check_tensor_cuda(delta)\n",
    "    return torch.sqrt(delta) #shape : (num_grid_pts, num_grid_pts) \n",
    "\n",
    "def exp_sq_kernel(x:torch.Tensor,z:torch.Tensor,var:float, length:float, noise:float, jitter = 1e-4)->torch.Tensor:\n",
    "    \"\"\"\n",
    "    Kernel Function\n",
    "    Inputs \n",
    "        - x : Lat/Lon values of grid points\n",
    "        - z : Lat/Lon values of grid points\n",
    "        - var : variance hyperparam for kernel\n",
    "        - length : length hyperparam for kernel\n",
    "        - noise : noise\n",
    "        - jitter : some noise for numerical stability\n",
    "    \"\"\"\n",
    "    check_tensor_cuda(x) ; check_tensor_cuda(z)\n",
    "\n",
    "    dist = dist_euclid(x,z) #shape : (num_grid_pts, num_grid_pts)\n",
    "    deltaXsq = torch.pow(dist/length, 2.0) #square dist\n",
    "    k = var * torch.exp(-0.5 * deltaXsq)\n",
    "    k += (noise + jitter) * torch.eye(x.shape[0]).to(DEVICE)\n",
    "\n",
    "    check_tensor_cuda(k)\n",
    "    return k #shape : (num_grid_points, num_grid_points) "
   ]
  },
  {
   "cell_type": "markdown",
   "metadata": {},
   "source": [
    "## Aggregation Funcs"
   ]
  },
  {
   "cell_type": "code",
   "execution_count": 43,
   "metadata": {},
   "outputs": [],
   "source": [
    "def M_g(M:torch.Tensor,g:torch.Tensor):\n",
    "    \"\"\"\n",
    "    Aggregation function\n",
    "    Inputs\n",
    "        - M : Matrix with binary entries m_{ij} show wheather point j is in polygon i \n",
    "        - g : Vector of Gp draws over grid \n",
    "    Output\n",
    "        - matmul(M,g) : Vector of sums over each polygon\n",
    "    \"\"\"\n",
    "    check_tensor_cuda(M) ; check_tensor_cuda(g)\n",
    "\n",
    "    return torch.matmul(M,g) #shape : (num_regions,)\n",
    "\n",
    "#* This is slightly different from the gp.py script version which does the sampling posterior as well\n",
    "def gp_aggr(args):\n",
    "    \"\"\"\n",
    "    Aggregated GP\n",
    "    Inputs\n",
    "        - args : Dictionary containing the following \n",
    "            - n_obs : number of observations/cases ; shp : (num_all_regions,) <- all regions include both hi res and low res regions\n",
    "            - x : lat/lon grid point values ; shp : (num_grid_pts, 2)\n",
    "            - gp_kernel : exponential kernel function\n",
    "            - jitter : random noise for numerical stability ; scaler\n",
    "            - M1 (M_lo/M_old) : Matrix with binary entries m_{ij} show wheather point j is in polygon i \n",
    "            - M2 (M_hi/M_new) : Matrix with binary entries m_{ij} show wheather point j is in polygon i \n",
    "    \"\"\"\n",
    "    x = args[\"x\"]\n",
    "    gp_kernel = args[\"gp_kernel\"]\n",
    "    jitter = args[\"jitter\"]\n",
    "    noise = args[\"noise\"]\n",
    "    M1 = args[\"M1\"] #Low\n",
    "    #! ASK SWAPNIL : We dont train on High Resolution data Right\n",
    "    #M2 = args[\"M2\"] #new/hi\n",
    "\n",
    "    check_tensor_cuda(x); \n",
    "    check_tensor_cuda(M1); \n",
    "    #check_tensor_cuda(M2)\n",
    "\n",
    "    length = pyro.sample(\"kernel_length\", dist.InverseGamma(3,3)).to(DEVICE)\n",
    "    var = pyro.sample(\"kernel_var\", dist.HalfNormal(0.05)).to(DEVICE)\n",
    "    k = gp_kernel(x,x,var,length,noise,jitter)\n",
    "    f = pyro.sample(\n",
    "        \"f\", \n",
    "        dist.MultivariateNormal(loc = torch.zeros(x.shape[0]).to(DEVICE), covariance_matrix = k)\n",
    "    ).to(DEVICE)\n",
    "\n",
    "    # Aggregate\n",
    "    gp_aggr_m1 = pyro.deterministic(\"gp_aggr_m1\", M_g(M1,f)).to(DEVICE) #shp : (num_regions_m1,)\n",
    "    #! NO NEED TO CONCATENATE \n",
    "    # gp_aggr_m2 = pyro.deterministic(\"gp_aggr_m2\", M_g(M2,f)).to(DEVICE) #shp : (num_regions_m2,)\n",
    "    # gp_aggr = pyro.deterministic(\"gp_aggr\", torch.cat([gp_aggr_m1, gp_aggr_m2])).to(DEVICE) #shp : (num_regions_m1 + num_regions_m2,)\n"
   ]
  },
  {
   "cell_type": "markdown",
   "metadata": {},
   "source": [
    "## VAE Funcs"
   ]
  },
  {
   "cell_type": "code",
   "execution_count": 44,
   "metadata": {},
   "outputs": [],
   "source": [
    "class VaeEncoder(nn.Module):\n",
    "    def __init__(self, input_dim = 2, hidden_dim = 1000, z_dim = 80):\n",
    "        super(VaeEncoder, self).__init__()\n",
    "        self.fc1 = nn.Linear(input_dim, hidden_dim)\n",
    "        self.fc21 = nn.Linear(hidden_dim, z_dim)\n",
    "        self.fc22 = nn.Linear(hidden_dim, z_dim)\n",
    "\n",
    "    def forward(self, x): # x.shape : (1920,2) \n",
    "        z = F.elu(self.fc1(x)) #(num_grid_pts, 2) -> (num_grid_pts, 50) where batch_size = num_grid_pts\n",
    "        z_mu = self.fc21(z) #(num_grid_pts, 50) -> (num_grid_pts, 40)\n",
    "        z_sigma = torch.exp(self.fc22(z)) #(num_grid_pts, 50) -> (num_grid_pts, 40)\n",
    "        \n",
    "        check_tensor_cuda(z_mu) ; check_tensor_cuda(z_sigma)\n",
    "        return z_mu, z_sigma\n",
    "\n",
    "class VaeDecoder(nn.Module):\n",
    "    def __init__(self, z_dim = 40, hidden_dim = 40, output_dim = 2):\n",
    "        super(VaeDecoder,self).__init__()\n",
    "        self.fc1 = nn.Linear(z_dim, hidden_dim)\n",
    "        self.fc2 = nn.Linear(hidden_dim, output_dim)\n",
    "        self.z_dim = z_dim\n",
    "\n",
    "    def forward(self, z): #z.shape (1920, 40)\n",
    "        z_new = F.elu(self.fc1(z)) #(num_grid_pts, 40) -> (num_grid_pts, 50) where num_grid_pts == batch_soze \n",
    "        x_recon = self.fc2(z_new) #(num_grid_pts, 50) -> (num_grid_pts, 2)\n",
    "\n",
    "        check_tensor_cuda(x_recon)\n",
    "        return x_recon\n",
    "\n",
    "class VAE(nn.Module):\n",
    "    def __init__(self, input_dim = 2,  hidden_dim = 50, z_dim = 40, output_dim = 2):\n",
    "        super(VAE, self).__init__()\n",
    "\n",
    "        self.encoder = VaeEncoder(input_dim, hidden_dim, z_dim)\n",
    "        self.decoder = VaeDecoder(z_dim , hidden_dim, output_dim)\n",
    "        self.z_dim = z_dim\n",
    "\n",
    "    def guide(self, x):\n",
    "        \"\"\"Variational Distribution , q(z|x)\"\"\"\n",
    "        pyro.module(\"encoder\", self.encoder)\n",
    "        with pyro.plate(\"data\", x.shape[0]):\n",
    "            z_mu, z_sigma = self.encoder.forward(x) #(num_grid_pts, 40),(num_grid_pts, 40)\n",
    "            check_tensor_cuda(z_mu) ; check_tensor_cuda(z_sigma)\n",
    "            # sample the latent z\n",
    "            z = pyro.sample(\"latent\", dist.Normal(z_mu, z_sigma).to_event(1))\n",
    "            #print(f\"latent z : {colored(z, 'red')}\")\n",
    "            return z\n",
    "\n",
    "    def model(self, x):\n",
    "        pyro.module(\"decoder\", self.decoder)\n",
    "        with pyro.plate(\"data\", x.shape[0]):\n",
    "            z_mu = x.new_zeros(torch.Size((x.shape[0], self.z_dim))) #(num_grid_pts, 40)\n",
    "            z_sigma = x.new_ones(torch.Size((x.shape[0], self.z_dim))) #(num_grid_pts, 40)\n",
    "            z = pyro.sample(\"latent\", dist.Normal(z_mu,z_sigma).to_event(1))\n",
    "            gen_mu = self.decoder(z) #(num_grid_pts, 2)\n",
    "            pyro.sample(\"obs\", dist.Normal(gen_mu, 1).to_event(1), obs = x) #we have set the variance to 1\n",
    "\n",
    "def training_loop(x,args):\n",
    "    input_dims  = args[\"input_dims\"]\n",
    "    hidden_dims = args[\"hidden_dims\"]\n",
    "    z_dim = args[\"z_dim\"]\n",
    "    output_dims = args[\"output_dims\"]\n",
    "    num_epochs = args[\"num_epochs\"]\n",
    "    learning_rate = args[\"learning_rate\"]\n",
    "\n",
    "    vae = VAE(input_dims,hidden_dims,z_dim,output_dims)\n",
    "    vae = vae.to(DEVICE)\n",
    "    optimizer = pyro.optim.Adam({\"lr\" : learning_rate})\n",
    "    svi = SVI(vae.model, vae.guide, optimizer, loss = RenyiELBO())\n",
    "\n",
    "    losses = []\n",
    "    for epoch in range(num_epochs):\n",
    "        print(f\"epoch : {epoch}\")\n",
    "        x = x.to(DEVICE)\n",
    "        train_loss = svi.step(x) #* DOES SVI STEP HANDLE GRADIENTS\n",
    "        losses.append(train_loss)\n",
    "        print(f\"Train Loss : {train_loss}\")\n",
    "\n",
    "    return vae, losses\n"
   ]
  },
  {
   "cell_type": "markdown",
   "metadata": {},
   "source": [
    "## Load Data"
   ]
  },
  {
   "cell_type": "code",
   "execution_count": 45,
   "metadata": {},
   "outputs": [],
   "source": [
    "data_dir = \"../data/processed\"\n",
    "\n",
    "# Lat/Lon Values of artificial grid\n",
    "x = np.load(os.path.join(data_dir,\"lat_lon_x.npy\"))\n",
    "pol_pt_lo = np.load(os.path.join(data_dir, \"low/pol_pt_lo.npy\"))\n",
    "pol_pt_hi = np.load(os.path.join(data_dir, \"high/pol_pt_hi.npy\"))\n",
    "df_lo = gpd.read_file(os.path.join(data_dir, \"low\", \"us_census_divisions\", \"us_census_divisions.shp\"))\n",
    "df_hi = gpd.read_file(os.path.join(data_dir, \"high\", \"us_state_divisions\", \"us_state_divisions.shp\"))\n",
    "\n",
    "# Convert to Torch Tensors\n",
    "x = torch.tensor(x, dtype = torch.float32).to(DEVICE)\n",
    "pol_pt_lo = torch.tensor(pol_pt_lo, dtype = torch.float32).to(DEVICE)\n",
    "pol_pt_hi = torch.tensor(pol_pt_hi, dtype = torch.float32).to(DEVICE)\n",
    "# This is your y\n",
    "n_obs = torch.tensor(df_lo.tot_cases, dtype = torch.int32).to(DEVICE)"
   ]
  },
  {
   "cell_type": "markdown",
   "metadata": {},
   "source": [
    "## Prior Predictive Check"
   ]
  },
  {
   "cell_type": "code",
   "execution_count": 46,
   "metadata": {},
   "outputs": [],
   "source": [
    "args = {\n",
    "    \"n_obs\" : n_obs,\n",
    "    \"x\" : x,\n",
    "    \"gp_kernel\" : exp_sq_kernel,\n",
    "    \"jitter\" : 1e-4,\n",
    "    \"noise\" : 1e-4,\n",
    "    \"M1\" : pol_pt_lo,\n",
    "    #! WE dont neew Hi-Res but if we do \n",
    "    #\"M2\" : pol_pt_new,\n",
    "\n",
    "    # VAE training\n",
    "    \"num_epochs\" : 20,\n",
    "    \"learning_rate\" : 0.0005,\n",
    "    \"batch_size\" : 100,\n",
    "    \"input_dims\" : 2,\n",
    "    \"hidden_dims\" : 50,\n",
    "    \"z_dim\" : 40,\n",
    "    \"output_dims\" : 2,\n",
    "    \"num_train\" : 100,\n",
    "    \"num_test\" : 100,\n",
    "    \"vae_var\" : 1\n",
    "}"
   ]
  },
  {
   "cell_type": "code",
   "execution_count": 47,
   "metadata": {},
   "outputs": [
    {
     "data": {
      "application/vnd.plotly.v1+json": {
       "config": {
        "plotlyServerURL": "https://plot.ly"
       },
       "data": [
        {
         "hovertemplate": "<extra></extra>",
         "legendgroup": "",
         "line": {
          "color": "#636efa",
          "dash": "solid"
         },
         "marker": {
          "symbol": "circle"
         },
         "mode": "lines",
         "name": "",
         "orientation": "v",
         "showlegend": false,
         "type": "scatter",
         "xaxis": "x",
         "yaxis": "y"
        },
        {
         "line": {
          "color": "black",
          "width": 0.5
         },
         "opacity": 0.2,
         "type": "scatter",
         "x": [
          1,
          2,
          3,
          4,
          5,
          6,
          7,
          8,
          9
         ],
         "y": [
          20.64046859741211,
          -3.1397948265075684,
          16.033580780029297,
          37.10581970214844,
          11.512639999389648,
          21.667613983154297,
          -4.382707595825195,
          34.16627883911133,
          -19.34296226501465
         ]
        },
        {
         "line": {
          "color": "black",
          "width": 0.5
         },
         "opacity": 0.2,
         "type": "scatter",
         "x": [
          1,
          2,
          3,
          4,
          5,
          6,
          7,
          8,
          9
         ],
         "y": [
          11.311685562133789,
          -0.652434229850769,
          2.7089030742645264,
          23.77058982849121,
          3.5742998123168945,
          14.18651008605957,
          4.64285945892334,
          18.053916931152344,
          6.442647457122803
         ]
        },
        {
         "line": {
          "color": "black",
          "width": 0.5
         },
         "opacity": 0.2,
         "type": "scatter",
         "x": [
          1,
          2,
          3,
          4,
          5,
          6,
          7,
          8,
          9
         ],
         "y": [
          -34.70812225341797,
          -23.505826950073242,
          -17.376192092895508,
          -94.3799057006836,
          -9.614395141601562,
          -32.91508102416992,
          -36.277854919433594,
          -57.16114044189453,
          -62.97644805908203
         ]
        },
        {
         "line": {
          "color": "black",
          "width": 0.5
         },
         "opacity": 0.2,
         "type": "scatter",
         "x": [
          1,
          2,
          3,
          4,
          5,
          6,
          7,
          8,
          9
         ],
         "y": [
          -7.506441593170166,
          -14.047149658203125,
          -1.3522007465362549,
          -22.76813507080078,
          -7.782564640045166,
          -10.450479507446289,
          -10.870299339294434,
          -2.7958250045776367,
          -38.48859786987305
         ]
        },
        {
         "line": {
          "color": "black",
          "width": 0.5
         },
         "opacity": 0.2,
         "type": "scatter",
         "x": [
          1,
          2,
          3,
          4,
          5,
          6,
          7,
          8,
          9
         ],
         "y": [
          2.1239771842956543,
          -6.381628513336182,
          1.2064356803894043,
          -5.414626598358154,
          1.5451074838638306,
          -0.4054133892059326,
          -8.160758972167969,
          4.010261535644531,
          -13.075089454650879
         ]
        },
        {
         "line": {
          "color": "black",
          "width": 0.5
         },
         "opacity": 0.2,
         "type": "scatter",
         "x": [
          1,
          2,
          3,
          4,
          5,
          6,
          7,
          8,
          9
         ],
         "y": [
          -2.32820463180542,
          1.4250317811965942,
          0.5828918218612671,
          -3.7954840660095215,
          -0.9260436296463013,
          -1.3956599235534668,
          0.46581876277923584,
          -9.163871765136719,
          5.897528648376465
         ]
        },
        {
         "line": {
          "color": "black",
          "width": 0.5
         },
         "opacity": 0.2,
         "type": "scatter",
         "x": [
          1,
          2,
          3,
          4,
          5,
          6,
          7,
          8,
          9
         ],
         "y": [
          26.049816131591797,
          -11.620378494262695,
          14.441082954406738,
          25.894195556640625,
          3.409193754196167,
          10.32847785949707,
          -15.46945571899414,
          31.017318725585938,
          -26.056507110595703
         ]
        },
        {
         "line": {
          "color": "black",
          "width": 0.5
         },
         "opacity": 0.2,
         "type": "scatter",
         "x": [
          1,
          2,
          3,
          4,
          5,
          6,
          7,
          8,
          9
         ],
         "y": [
          10.585573196411133,
          -11.862656593322754,
          1.8969264030456543,
          2.2452735900878906,
          5.411228179931641,
          5.458488941192627,
          -6.315508842468262,
          20.486303329467773,
          -14.83455753326416
         ]
        },
        {
         "line": {
          "color": "black",
          "width": 0.5
         },
         "opacity": 0.2,
         "type": "scatter",
         "x": [
          1,
          2,
          3,
          4,
          5,
          6,
          7,
          8,
          9
         ],
         "y": [
          -18.954723358154297,
          14.17336368560791,
          -8.394322395324707,
          -19.79222869873047,
          -11.92699909210205,
          -15.925079345703125,
          15.637319564819336,
          -39.46437072753906,
          29.287111282348633
         ]
        },
        {
         "line": {
          "color": "black",
          "width": 0.5
         },
         "opacity": 0.2,
         "type": "scatter",
         "x": [
          1,
          2,
          3,
          4,
          5,
          6,
          7,
          8,
          9
         ],
         "y": [
          -0.7246495485305786,
          -0.123970627784729,
          0.12405568361282349,
          -5.393353462219238,
          0.08791646361351013,
          -3.280916690826416,
          -6.374876976013184,
          -3.2411699295043945,
          7.7177510261535645
         ]
        },
        {
         "line": {
          "color": "black",
          "width": 0.5
         },
         "opacity": 0.2,
         "type": "scatter",
         "x": [
          1,
          2,
          3,
          4,
          5,
          6,
          7,
          8,
          9
         ],
         "y": [
          12.88357925415039,
          9.45905590057373,
          1.5641671419143677,
          57.81660461425781,
          0.8449932336807251,
          19.513643264770508,
          16.20882797241211,
          38.05805587768555,
          11.281801223754883
         ]
        },
        {
         "line": {
          "color": "black",
          "width": 0.5
         },
         "opacity": 0.2,
         "type": "scatter",
         "x": [
          1,
          2,
          3,
          4,
          5,
          6,
          7,
          8,
          9
         ],
         "y": [
          4.30596923828125,
          16.936031341552734,
          5.603704929351807,
          41.131675720214844,
          3.3237829208374023,
          15.688837051391602,
          18.18381690979004,
          8.196001052856445,
          32.688072204589844
         ]
        },
        {
         "line": {
          "color": "black",
          "width": 0.5
         },
         "opacity": 0.2,
         "type": "scatter",
         "x": [
          1,
          2,
          3,
          4,
          5,
          6,
          7,
          8,
          9
         ],
         "y": [
          4.955112934112549,
          4.6389665603637695,
          4.360109329223633,
          11.798770904541016,
          -1.2226780652999878,
          -1.577726125717163,
          6.223123550415039,
          -4.37174129486084,
          -4.703583240509033
         ]
        },
        {
         "line": {
          "color": "black",
          "width": 0.5
         },
         "opacity": 0.2,
         "type": "scatter",
         "x": [
          1,
          2,
          3,
          4,
          5,
          6,
          7,
          8,
          9
         ],
         "y": [
          4.101005554199219,
          -5.131638526916504,
          1.0560479164123535,
          -1.9933419227600098,
          1.4891996383666992,
          -0.6038000583648682,
          -2.2163822650909424,
          3.3379993438720703,
          -6.7959442138671875
         ]
        },
        {
         "line": {
          "color": "black",
          "width": 0.5
         },
         "opacity": 0.2,
         "type": "scatter",
         "x": [
          1,
          2,
          3,
          4,
          5,
          6,
          7,
          8,
          9
         ],
         "y": [
          -10.968595504760742,
          2.7821857929229736,
          -5.36612606048584,
          -14.307914733886719,
          -3.2417490482330322,
          -4.716849327087402,
          -0.15548694133758545,
          -13.6033296585083,
          6.0859222412109375
         ]
        },
        {
         "line": {
          "color": "black",
          "width": 0.5
         },
         "opacity": 0.2,
         "type": "scatter",
         "x": [
          1,
          2,
          3,
          4,
          5,
          6,
          7,
          8,
          9
         ],
         "y": [
          -4.390493392944336,
          8.559385299682617,
          -4.614406585693359,
          23.372682571411133,
          -0.5560558438301086,
          12.200995445251465,
          8.322731018066406,
          11.097891807556152,
          8.775358200073242
         ]
        },
        {
         "line": {
          "color": "black",
          "width": 0.5
         },
         "opacity": 0.2,
         "type": "scatter",
         "x": [
          1,
          2,
          3,
          4,
          5,
          6,
          7,
          8,
          9
         ],
         "y": [
          -12.114057540893555,
          -19.418399810791016,
          -1.06118643283844,
          -58.32106399536133,
          -1.892977237701416,
          -19.296709060668945,
          -23.419200897216797,
          -27.326961517333984,
          -30.75687599182129
         ]
        },
        {
         "line": {
          "color": "black",
          "width": 0.5
         },
         "opacity": 0.2,
         "type": "scatter",
         "x": [
          1,
          2,
          3,
          4,
          5,
          6,
          7,
          8,
          9
         ],
         "y": [
          0.1846720278263092,
          0.5181159973144531,
          0.6690254211425781,
          1.2161071300506592,
          -0.09954793006181717,
          -0.055130839347839355,
          1.0392831563949585,
          -0.022536516189575195,
          1.743762731552124
         ]
        },
        {
         "line": {
          "color": "black",
          "width": 0.5
         },
         "opacity": 0.2,
         "type": "scatter",
         "x": [
          1,
          2,
          3,
          4,
          5,
          6,
          7,
          8,
          9
         ],
         "y": [
          4.0008544921875,
          -3.4305102825164795,
          1.0590740442276,
          7.9097723960876465,
          -2.12667179107666,
          0.21115350723266602,
          -1.065496563911438,
          2.949151039123535,
          -8.820969581604004
         ]
        },
        {
         "line": {
          "color": "black",
          "width": 0.5
         },
         "opacity": 0.2,
         "type": "scatter",
         "x": [
          1,
          2,
          3,
          4,
          5,
          6,
          7,
          8,
          9
         ],
         "y": [
          -6.383892059326172,
          6.99354362487793,
          -3.130786418914795,
          -4.844856262207031,
          -2.9731976985931396,
          -5.665136337280273,
          5.7367048263549805,
          -11.789963722229004,
          20.095890045166016
         ]
        },
        {
         "line": {
          "color": "black",
          "width": 0.5
         },
         "opacity": 0.2,
         "type": "scatter",
         "x": [
          1,
          2,
          3,
          4,
          5,
          6,
          7,
          8,
          9
         ],
         "y": [
          -3.505253314971924,
          -6.134726524353027,
          4.676000118255615,
          -31.140869140625,
          1.2788379192352295,
          -9.239917755126953,
          -11.306432723999023,
          -20.055633544921875,
          -15.340264320373535
         ]
        },
        {
         "line": {
          "color": "black",
          "width": 0.5
         },
         "opacity": 0.2,
         "type": "scatter",
         "x": [
          1,
          2,
          3,
          4,
          5,
          6,
          7,
          8,
          9
         ],
         "y": [
          -3.461641550064087,
          -0.36079204082489014,
          -5.5240092277526855,
          -6.393338680267334,
          -1.4836909770965576,
          -1.594893455505371,
          0.22847914695739746,
          -0.495607852935791,
          3.5300981998443604
         ]
        },
        {
         "line": {
          "color": "black",
          "width": 0.5
         },
         "opacity": 0.2,
         "type": "scatter",
         "x": [
          1,
          2,
          3,
          4,
          5,
          6,
          7,
          8,
          9
         ],
         "y": [
          1.3609660863876343,
          9.63376235961914,
          -2.1460626125335693,
          13.181379318237305,
          -1.0572969913482666,
          3.513024091720581,
          12.019280433654785,
          -5.692271709442139,
          20.62682342529297
         ]
        },
        {
         "line": {
          "color": "black",
          "width": 0.5
         },
         "opacity": 0.2,
         "type": "scatter",
         "x": [
          1,
          2,
          3,
          4,
          5,
          6,
          7,
          8,
          9
         ],
         "y": [
          1.0811516046524048,
          5.636971473693848,
          -1.0332579612731934,
          18.568998336791992,
          3.273184299468994,
          11.706501960754395,
          2.3838090896606445,
          13.464107513427734,
          8.120752334594727
         ]
        },
        {
         "line": {
          "color": "black",
          "width": 0.5
         },
         "opacity": 0.2,
         "type": "scatter",
         "x": [
          1,
          2,
          3,
          4,
          5,
          6,
          7,
          8,
          9
         ],
         "y": [
          -0.6238529682159424,
          6.860513687133789,
          0.23296986520290375,
          4.131478309631348,
          -2.794977903366089,
          -3.3302574157714844,
          8.833462715148926,
          -7.9273271560668945,
          14.282903671264648
         ]
        },
        {
         "line": {
          "color": "black",
          "width": 0.5
         },
         "opacity": 0.2,
         "type": "scatter",
         "x": [
          1,
          2,
          3,
          4,
          5,
          6,
          7,
          8,
          9
         ],
         "y": [
          -2.6281352043151855,
          7.163753032684326,
          -7.511227607727051,
          11.049315452575684,
          -5.392786026000977,
          1.494631290435791,
          10.118962287902832,
          -7.719889163970947,
          4.008030891418457
         ]
        },
        {
         "line": {
          "color": "black",
          "width": 0.5
         },
         "opacity": 0.2,
         "type": "scatter",
         "x": [
          1,
          2,
          3,
          4,
          5,
          6,
          7,
          8,
          9
         ],
         "y": [
          1.527274489402771,
          5.218307971954346,
          0.28816789388656616,
          10.875129699707031,
          1.5199370384216309,
          5.092209815979004,
          5.48584508895874,
          4.416925430297852,
          8.2709321975708
         ]
        },
        {
         "line": {
          "color": "black",
          "width": 0.5
         },
         "opacity": 0.2,
         "type": "scatter",
         "x": [
          1,
          2,
          3,
          4,
          5,
          6,
          7,
          8,
          9
         ],
         "y": [
          23.12857437133789,
          -1.1141161918640137,
          9.927666664123535,
          27.201372146606445,
          5.101666450500488,
          4.761350154876709,
          5.139100551605225,
          14.245463371276855,
          20.830307006835938
         ]
        },
        {
         "line": {
          "color": "black",
          "width": 0.5
         },
         "opacity": 0.2,
         "type": "scatter",
         "x": [
          1,
          2,
          3,
          4,
          5,
          6,
          7,
          8,
          9
         ],
         "y": [
          -0.9759364128112793,
          -1.1672481298446655,
          1.294564127922058,
          0.1756889820098877,
          -0.6558732986450195,
          0.4179114103317261,
          0.2503430247306824,
          1.150044322013855,
          -1.1808828115463257
         ]
        },
        {
         "line": {
          "color": "black",
          "width": 0.5
         },
         "opacity": 0.2,
         "type": "scatter",
         "x": [
          1,
          2,
          3,
          4,
          5,
          6,
          7,
          8,
          9
         ],
         "y": [
          16.099586486816406,
          8.901865005493164,
          10.828176498413086,
          40.83340835571289,
          6.816185474395752,
          18.06412696838379,
          6.044933319091797,
          24.785234451293945,
          8.498682022094727
         ]
        },
        {
         "line": {
          "color": "black",
          "width": 0.5
         },
         "opacity": 0.2,
         "type": "scatter",
         "x": [
          1,
          2,
          3,
          4,
          5,
          6,
          7,
          8,
          9
         ],
         "y": [
          15.408647537231445,
          -11.486429214477539,
          7.077838897705078,
          8.848508834838867,
          4.0105366706848145,
          3.509169340133667,
          -6.249155521392822,
          21.983524322509766,
          -19.217700958251953
         ]
        },
        {
         "line": {
          "color": "black",
          "width": 0.5
         },
         "opacity": 0.2,
         "type": "scatter",
         "x": [
          1,
          2,
          3,
          4,
          5,
          6,
          7,
          8,
          9
         ],
         "y": [
          -11.971334457397461,
          8.26966667175293,
          -4.52726936340332,
          -21.214637756347656,
          -3.960405111312866,
          -11.035028457641602,
          5.6288862228393555,
          -28.368024826049805,
          17.682117462158203
         ]
        },
        {
         "line": {
          "color": "black",
          "width": 0.5
         },
         "opacity": 0.2,
         "type": "scatter",
         "x": [
          1,
          2,
          3,
          4,
          5,
          6,
          7,
          8,
          9
         ],
         "y": [
          -7.512781143188477,
          -2.0923891067504883,
          -6.219425201416016,
          -16.781574249267578,
          -1.479752540588379,
          -6.103304386138916,
          -3.991065502166748,
          -4.17585563659668,
          -9.042387962341309
         ]
        },
        {
         "line": {
          "color": "black",
          "width": 0.5
         },
         "opacity": 0.2,
         "type": "scatter",
         "x": [
          1,
          2,
          3,
          4,
          5,
          6,
          7,
          8,
          9
         ],
         "y": [
          27.67799186706543,
          11.579221725463867,
          7.820415496826172,
          77.41867065429688,
          10.402966499328613,
          31.177261352539062,
          10.41337776184082,
          55.137779235839844,
          23.762590408325195
         ]
        },
        {
         "line": {
          "color": "black",
          "width": 0.5
         },
         "opacity": 0.2,
         "type": "scatter",
         "x": [
          1,
          2,
          3,
          4,
          5,
          6,
          7,
          8,
          9
         ],
         "y": [
          -0.34622645378112793,
          -5.061178207397461,
          -1.0362581014633179,
          4.381635665893555,
          -1.4308791160583496,
          3.7445218563079834,
          -4.584039688110352,
          5.501991271972656,
          -11.640583038330078
         ]
        },
        {
         "line": {
          "color": "black",
          "width": 0.5
         },
         "opacity": 0.2,
         "type": "scatter",
         "x": [
          1,
          2,
          3,
          4,
          5,
          6,
          7,
          8,
          9
         ],
         "y": [
          20.035831451416016,
          9.33143424987793,
          6.492443084716797,
          64.11009216308594,
          6.147528171539307,
          25.27491569519043,
          12.45155143737793,
          39.51366424560547,
          -8.486732482910156
         ]
        },
        {
         "line": {
          "color": "black",
          "width": 0.5
         },
         "opacity": 0.2,
         "type": "scatter",
         "x": [
          1,
          2,
          3,
          4,
          5,
          6,
          7,
          8,
          9
         ],
         "y": [
          -8.465105056762695,
          22.146682739257812,
          -4.152871131896973,
          13.568038940429688,
          -5.417728900909424,
          -1.4617881774902344,
          27.519947052001953,
          -17.906618118286133,
          48.59092712402344
         ]
        },
        {
         "line": {
          "color": "black",
          "width": 0.5
         },
         "opacity": 0.2,
         "type": "scatter",
         "x": [
          1,
          2,
          3,
          4,
          5,
          6,
          7,
          8,
          9
         ],
         "y": [
          8.670723915100098,
          1.2135624885559082,
          4.349343776702881,
          21.526390075683594,
          1.5406917333602905,
          8.687593460083008,
          3.8054511547088623,
          13.85093879699707,
          2.7749640941619873
         ]
        },
        {
         "line": {
          "color": "black",
          "width": 0.5
         },
         "opacity": 0.2,
         "type": "scatter",
         "x": [
          1,
          2,
          3,
          4,
          5,
          6,
          7,
          8,
          9
         ],
         "y": [
          0.8319201469421387,
          -1.9324917793273926,
          0.6865003108978271,
          -0.3467898368835449,
          -0.4996216297149658,
          -0.8750667572021484,
          -0.3613167405128479,
          0.3951794505119324,
          -2.7801549434661865
         ]
        },
        {
         "line": {
          "color": "black",
          "width": 0.5
         },
         "opacity": 0.2,
         "type": "scatter",
         "x": [
          1,
          2,
          3,
          4,
          5,
          6,
          7,
          8,
          9
         ],
         "y": [
          -4.362063884735107,
          -3.8114986419677734,
          -0.5101068615913391,
          -21.347517013549805,
          -0.19635918736457825,
          -7.525481224060059,
          -8.446534156799316,
          -12.164250373840332,
          -8.524179458618164
         ]
        },
        {
         "line": {
          "color": "black",
          "width": 0.5
         },
         "opacity": 0.2,
         "type": "scatter",
         "x": [
          1,
          2,
          3,
          4,
          5,
          6,
          7,
          8,
          9
         ],
         "y": [
          -0.998030424118042,
          8.161054611206055,
          1.412449598312378,
          8.81422233581543,
          -1.180807113647461,
          0.3649829626083374,
          9.014442443847656,
          -6.711454391479492,
          10.093238830566406
         ]
        },
        {
         "line": {
          "color": "black",
          "width": 0.5
         },
         "opacity": 0.2,
         "type": "scatter",
         "x": [
          1,
          2,
          3,
          4,
          5,
          6,
          7,
          8,
          9
         ],
         "y": [
          12.319347381591797,
          1.9334313869476318,
          8.973838806152344,
          25.11090087890625,
          3.953484296798706,
          12.661806106567383,
          -0.22211718559265137,
          16.02574920654297,
          13.131460189819336
         ]
        },
        {
         "line": {
          "color": "black",
          "width": 0.5
         },
         "opacity": 0.2,
         "type": "scatter",
         "x": [
          1,
          2,
          3,
          4,
          5,
          6,
          7,
          8,
          9
         ],
         "y": [
          -11.979168891906738,
          -2.594266653060913,
          -4.121587753295898,
          -45.12376403808594,
          -7.141137599945068,
          -23.270584106445312,
          -0.467789888381958,
          -39.714813232421875,
          -4.423053741455078
         ]
        },
        {
         "line": {
          "color": "black",
          "width": 0.5
         },
         "opacity": 0.2,
         "type": "scatter",
         "x": [
          1,
          2,
          3,
          4,
          5,
          6,
          7,
          8,
          9
         ],
         "y": [
          2.323544502258301,
          3.427539587020874,
          -1.0045827627182007,
          14.110759735107422,
          0.7862091660499573,
          5.667020320892334,
          2.7901103496551514,
          9.18027114868164,
          1.5845140218734741
         ]
        },
        {
         "line": {
          "color": "black",
          "width": 0.5
         },
         "opacity": 0.2,
         "type": "scatter",
         "x": [
          1,
          2,
          3,
          4,
          5,
          6,
          7,
          8,
          9
         ],
         "y": [
          -9.842697143554688,
          5.4238667488098145,
          -5.246007919311523,
          -12.709609031677246,
          -4.171314239501953,
          -7.316469192504883,
          5.5131378173828125,
          -19.151912689208984,
          11.852028846740723
         ]
        },
        {
         "line": {
          "color": "black",
          "width": 0.5
         },
         "opacity": 0.2,
         "type": "scatter",
         "x": [
          1,
          2,
          3,
          4,
          5,
          6,
          7,
          8,
          9
         ],
         "y": [
          -27.06321144104004,
          -9.802203178405762,
          -15.90703010559082,
          -72.97190856933594,
          -0.9315639734268188,
          -15.393646240234375,
          -7.714531421661377,
          -35.57679748535156,
          -2.1928558349609375
         ]
        },
        {
         "line": {
          "color": "black",
          "width": 0.5
         },
         "opacity": 0.2,
         "type": "scatter",
         "x": [
          1,
          2,
          3,
          4,
          5,
          6,
          7,
          8,
          9
         ],
         "y": [
          5.73203706741333,
          -4.743459701538086,
          2.060154438018799,
          0.40035122632980347,
          1.7097060680389404,
          0.15507519245147705,
          -5.812905788421631,
          1.7975072860717773,
          -0.4351181983947754
         ]
        },
        {
         "line": {
          "color": "black",
          "width": 0.5
         },
         "opacity": 0.2,
         "type": "scatter",
         "x": [
          1,
          2,
          3,
          4,
          5,
          6,
          7,
          8,
          9
         ],
         "y": [
          -13.939611434936523,
          -5.522790431976318,
          -2.434166193008423,
          -48.55830383300781,
          -0.6692739725112915,
          -21.13922691345215,
          -9.485508918762207,
          -27.25172996520996,
          -6.191006660461426
         ]
        },
        {
         "line": {
          "color": "black",
          "width": 0.5
         },
         "opacity": 0.2,
         "type": "scatter",
         "x": [
          1,
          2,
          3,
          4,
          5,
          6,
          7,
          8,
          9
         ],
         "y": [
          -9.104208946228027,
          -7.193556785583496,
          -2.1805200576782227,
          -37.98033905029297,
          -4.509922981262207,
          -18.078006744384766,
          -9.831504821777344,
          -28.03966522216797,
          -15.291635513305664
         ]
        },
        {
         "line": {
          "color": "black",
          "width": 0.5
         },
         "opacity": 0.2,
         "type": "scatter",
         "x": [
          1,
          2,
          3,
          4,
          5,
          6,
          7,
          8,
          9
         ],
         "y": [
          -12.632749557495117,
          -4.584886074066162,
          -5.038609504699707,
          -39.816707611083984,
          -5.505397796630859,
          -14.56668472290039,
          -0.32372021675109863,
          -34.950191497802734,
          17.678970336914062
         ]
        },
        {
         "line": {
          "color": "black",
          "width": 0.5
         },
         "opacity": 0.2,
         "type": "scatter",
         "x": [
          1,
          2,
          3,
          4,
          5,
          6,
          7,
          8,
          9
         ],
         "y": [
          -2.7033984661102295,
          -15.044708251953125,
          -2.8893628120422363,
          -0.6261463165283203,
          4.872622013092041,
          12.276094436645508,
          -15.863265991210938,
          26.184627532958984,
          -10.758452415466309
         ]
        },
        {
         "line": {
          "color": "black",
          "width": 0.5
         },
         "opacity": 0.2,
         "type": "scatter",
         "x": [
          1,
          2,
          3,
          4,
          5,
          6,
          7,
          8,
          9
         ],
         "y": [
          -0.0879058837890625,
          22.73550033569336,
          -1.3878142833709717,
          41.77423095703125,
          1.9412163496017456,
          16.039749145507812,
          28.091604232788086,
          8.956855773925781,
          69.02497863769531
         ]
        },
        {
         "line": {
          "color": "black",
          "width": 0.5
         },
         "opacity": 0.2,
         "type": "scatter",
         "x": [
          1,
          2,
          3,
          4,
          5,
          6,
          7,
          8,
          9
         ],
         "y": [
          1.9680912494659424,
          -7.5435075759887695,
          1.1100035905838013,
          -15.503161430358887,
          1.9245322942733765,
          -4.899991035461426,
          -11.549112319946289,
          -17.684682846069336,
          -28.8593807220459
         ]
        },
        {
         "line": {
          "color": "black",
          "width": 0.5
         },
         "opacity": 0.2,
         "type": "scatter",
         "x": [
          1,
          2,
          3,
          4,
          5,
          6,
          7,
          8,
          9
         ],
         "y": [
          4.279064178466797,
          19.224878311157227,
          -7.1672163009643555,
          63.91835021972656,
          4.491994857788086,
          30.751686096191406,
          21.865812301635742,
          37.336936950683594,
          36.43282699584961
         ]
        },
        {
         "line": {
          "color": "black",
          "width": 0.5
         },
         "opacity": 0.2,
         "type": "scatter",
         "x": [
          1,
          2,
          3,
          4,
          5,
          6,
          7,
          8,
          9
         ],
         "y": [
          -12.366694450378418,
          -1.0732769966125488,
          -4.999761581420898,
          -27.98486328125,
          -4.039393424987793,
          -12.857221603393555,
          -3.631401777267456,
          -22.899066925048828,
          -2.081770420074463
         ]
        },
        {
         "line": {
          "color": "black",
          "width": 0.5
         },
         "opacity": 0.2,
         "type": "scatter",
         "x": [
          1,
          2,
          3,
          4,
          5,
          6,
          7,
          8,
          9
         ],
         "y": [
          -3.0616238117218018,
          0.08610165119171143,
          -0.6202504634857178,
          -5.78892707824707,
          0.15496772527694702,
          -2.2840535640716553,
          -2.4854001998901367,
          -3.3572566509246826,
          -1.314081072807312
         ]
        },
        {
         "line": {
          "color": "black",
          "width": 0.5
         },
         "opacity": 0.2,
         "type": "scatter",
         "x": [
          1,
          2,
          3,
          4,
          5,
          6,
          7,
          8,
          9
         ],
         "y": [
          -6.283411026000977,
          3.0652201175689697,
          -0.6479690074920654,
          -5.117171287536621,
          -1.4805997610092163,
          -2.3360438346862793,
          0.7240215539932251,
          -8.4306058883667,
          3.537181854248047
         ]
        },
        {
         "line": {
          "color": "black",
          "width": 0.5
         },
         "opacity": 0.2,
         "type": "scatter",
         "x": [
          1,
          2,
          3,
          4,
          5,
          6,
          7,
          8,
          9
         ],
         "y": [
          -0.6388654708862305,
          14.020365715026855,
          1.2810966968536377,
          8.146596908569336,
          -7.124931335449219,
          -8.631999015808105,
          14.826434135437012,
          -18.41631317138672,
          11.275657653808594
         ]
        },
        {
         "line": {
          "color": "black",
          "width": 0.5
         },
         "opacity": 0.2,
         "type": "scatter",
         "x": [
          1,
          2,
          3,
          4,
          5,
          6,
          7,
          8,
          9
         ],
         "y": [
          -9.083857536315918,
          -2.819277048110962,
          -1.2500059604644775,
          -26.510089874267578,
          -1.7572205066680908,
          -8.422886848449707,
          -8.584592819213867,
          -18.373790740966797,
          4.060927391052246
         ]
        },
        {
         "line": {
          "color": "black",
          "width": 0.5
         },
         "opacity": 0.2,
         "type": "scatter",
         "x": [
          1,
          2,
          3,
          4,
          5,
          6,
          7,
          8,
          9
         ],
         "y": [
          -13.088187217712402,
          -2.7235565185546875,
          -4.339498996734619,
          -42.78086853027344,
          -4.170297622680664,
          -18.362699508666992,
          0.2566506862640381,
          -31.71588897705078,
          10.409249305725098
         ]
        },
        {
         "line": {
          "color": "black",
          "width": 0.5
         },
         "opacity": 0.2,
         "type": "scatter",
         "x": [
          1,
          2,
          3,
          4,
          5,
          6,
          7,
          8,
          9
         ],
         "y": [
          -2.594852924346924,
          3.6115689277648926,
          -3.344109296798706,
          3.106092691421509,
          -0.5597612857818604,
          0.9911811351776123,
          5.946384429931641,
          -1.2167916297912598,
          19.132007598876953
         ]
        },
        {
         "line": {
          "color": "black",
          "width": 0.5
         },
         "opacity": 0.2,
         "type": "scatter",
         "x": [
          1,
          2,
          3,
          4,
          5,
          6,
          7,
          8,
          9
         ],
         "y": [
          3.5970585346221924,
          0.05062723159790039,
          3.6394424438476562,
          5.421841144561768,
          -0.4314277768135071,
          -1.5420382022857666,
          -0.9956893920898438,
          1.1970701217651367,
          -7.66717004776001
         ]
        },
        {
         "line": {
          "color": "black",
          "width": 0.5
         },
         "opacity": 0.2,
         "type": "scatter",
         "x": [
          1,
          2,
          3,
          4,
          5,
          6,
          7,
          8,
          9
         ],
         "y": [
          1.9739813804626465,
          -1.2247402667999268,
          0.9930359125137329,
          2.701795816421509,
          0.903241753578186,
          1.928514003753662,
          -1.2744145393371582,
          4.35597038269043,
          -2.148125648498535
         ]
        },
        {
         "line": {
          "color": "black",
          "width": 0.5
         },
         "opacity": 0.2,
         "type": "scatter",
         "x": [
          1,
          2,
          3,
          4,
          5,
          6,
          7,
          8,
          9
         ],
         "y": [
          27.189441680908203,
          1.0416505336761475,
          5.946967601776123,
          40.47100067138672,
          4.641648292541504,
          10.157045364379883,
          9.389183044433594,
          32.48015594482422,
          -0.10369181632995605
         ]
        },
        {
         "line": {
          "color": "black",
          "width": 0.5
         },
         "opacity": 0.2,
         "type": "scatter",
         "x": [
          1,
          2,
          3,
          4,
          5,
          6,
          7,
          8,
          9
         ],
         "y": [
          10.702018737792969,
          -1.7845271825790405,
          4.096646308898926,
          19.35650634765625,
          4.7009477615356445,
          8.911280632019043,
          -1.9823553562164307,
          24.502742767333984,
          -8.200180053710938
         ]
        },
        {
         "line": {
          "color": "black",
          "width": 0.5
         },
         "opacity": 0.2,
         "type": "scatter",
         "x": [
          1,
          2,
          3,
          4,
          5,
          6,
          7,
          8,
          9
         ],
         "y": [
          0.2544780671596527,
          -0.3308084011077881,
          0.38866573572158813,
          -1.2629706859588623,
          -0.8216195106506348,
          -0.7243537902832031,
          -0.8282173871994019,
          1.0370904207229614,
          -0.39003729820251465
         ]
        },
        {
         "line": {
          "color": "black",
          "width": 0.5
         },
         "opacity": 0.2,
         "type": "scatter",
         "x": [
          1,
          2,
          3,
          4,
          5,
          6,
          7,
          8,
          9
         ],
         "y": [
          2.3545117378234863,
          -0.3171761631965637,
          1.386664628982544,
          0.2985990047454834,
          0.9707470536231995,
          0.027327001094818115,
          1.6013540029525757,
          1.8031933307647705,
          2.9103713035583496
         ]
        },
        {
         "line": {
          "color": "black",
          "width": 0.5
         },
         "opacity": 0.2,
         "type": "scatter",
         "x": [
          1,
          2,
          3,
          4,
          5,
          6,
          7,
          8,
          9
         ],
         "y": [
          -7.869260787963867,
          5.924435138702393,
          7.872152805328369,
          -6.3721418380737305,
          -0.8506141901016235,
          -2.2086431980133057,
          6.719752788543701,
          -3.105848550796509,
          27.133913040161133
         ]
        },
        {
         "line": {
          "color": "black",
          "width": 0.5
         },
         "opacity": 0.2,
         "type": "scatter",
         "x": [
          1,
          2,
          3,
          4,
          5,
          6,
          7,
          8,
          9
         ],
         "y": [
          -3.6213905811309814,
          -2.2406792640686035,
          -2.2155816555023193,
          -8.84152603149414,
          -2.3091490268707275,
          -4.566898345947266,
          -1.7910577058792114,
          -10.772055625915527,
          -3.0470385551452637
         ]
        },
        {
         "line": {
          "color": "black",
          "width": 0.5
         },
         "opacity": 0.2,
         "type": "scatter",
         "x": [
          1,
          2,
          3,
          4,
          5,
          6,
          7,
          8,
          9
         ],
         "y": [
          -32.41088104248047,
          -0.005029201507568359,
          -17.240665435791016,
          -54.23337936401367,
          -0.4797949194908142,
          -2.7973947525024414,
          -4.849456787109375,
          -40.24677658081055,
          1.547508716583252
         ]
        },
        {
         "line": {
          "color": "black",
          "width": 0.5
         },
         "opacity": 0.2,
         "type": "scatter",
         "x": [
          1,
          2,
          3,
          4,
          5,
          6,
          7,
          8,
          9
         ],
         "y": [
          -10.204008102416992,
          2.3561625480651855,
          -7.085850715637207,
          -9.971160888671875,
          -4.20354700088501,
          -1.6419968605041504,
          4.086413383483887,
          -19.756277084350586,
          6.836844444274902
         ]
        },
        {
         "line": {
          "color": "black",
          "width": 0.5
         },
         "opacity": 0.2,
         "type": "scatter",
         "x": [
          1,
          2,
          3,
          4,
          5,
          6,
          7,
          8,
          9
         ],
         "y": [
          -9.564910888671875,
          4.709465503692627,
          -3.0705065727233887,
          3.250364303588867,
          -0.5968230366706848,
          7.323431015014648,
          -0.874396800994873,
          -3.328744888305664,
          2.871030807495117
         ]
        },
        {
         "line": {
          "color": "black",
          "width": 0.5
         },
         "opacity": 0.2,
         "type": "scatter",
         "x": [
          1,
          2,
          3,
          4,
          5,
          6,
          7,
          8,
          9
         ],
         "y": [
          -2.256528615951538,
          -0.7953009605407715,
          -1.6000909805297852,
          -8.923418998718262,
          2.6867268085479736,
          1.2785049676895142,
          -8.611059188842773,
          -3.494719982147217,
          -10.383646965026855
         ]
        },
        {
         "line": {
          "color": "black",
          "width": 0.5
         },
         "opacity": 0.2,
         "type": "scatter",
         "x": [
          1,
          2,
          3,
          4,
          5,
          6,
          7,
          8,
          9
         ],
         "y": [
          -2.2718558311462402,
          1.6942886114120483,
          -0.07660213112831116,
          -15.046075820922852,
          -4.702757358551025,
          -12.888432502746582,
          3.8626317977905273,
          -14.27548599243164,
          2.728308916091919
         ]
        },
        {
         "line": {
          "color": "black",
          "width": 0.5
         },
         "opacity": 0.2,
         "type": "scatter",
         "x": [
          1,
          2,
          3,
          4,
          5,
          6,
          7,
          8,
          9
         ],
         "y": [
          -2.9118945598602295,
          -4.1560378074646,
          -1.8359520435333252,
          -10.753122329711914,
          -0.1950247883796692,
          -1.7267065048217773,
          -4.470439910888672,
          -8.561376571655273,
          -9.925537109375
         ]
        },
        {
         "line": {
          "color": "black",
          "width": 0.5
         },
         "opacity": 0.2,
         "type": "scatter",
         "x": [
          1,
          2,
          3,
          4,
          5,
          6,
          7,
          8,
          9
         ],
         "y": [
          86.9600830078125,
          5.965465068817139,
          41.58142852783203,
          153.34262084960938,
          27.65872573852539,
          56.74530029296875,
          12.316970825195312,
          120.72746276855469,
          23.317380905151367
         ]
        },
        {
         "line": {
          "color": "black",
          "width": 0.5
         },
         "opacity": 0.2,
         "type": "scatter",
         "x": [
          1,
          2,
          3,
          4,
          5,
          6,
          7,
          8,
          9
         ],
         "y": [
          8.325355529785156,
          7.785184383392334,
          4.028793811798096,
          37.41481399536133,
          3.054546356201172,
          12.404892921447754,
          8.514970779418945,
          20.951091766357422,
          -1.039710521697998
         ]
        },
        {
         "line": {
          "color": "black",
          "width": 0.5
         },
         "opacity": 0.2,
         "type": "scatter",
         "x": [
          1,
          2,
          3,
          4,
          5,
          6,
          7,
          8,
          9
         ],
         "y": [
          -24.137794494628906,
          2.4378340244293213,
          -11.875324249267578,
          -48.19013977050781,
          -4.400867462158203,
          -16.20018768310547,
          -2.631303310394287,
          -42.10425567626953,
          9.583576202392578
         ]
        },
        {
         "line": {
          "color": "black",
          "width": 0.5
         },
         "opacity": 0.2,
         "type": "scatter",
         "x": [
          1,
          2,
          3,
          4,
          5,
          6,
          7,
          8,
          9
         ],
         "y": [
          5.661261081695557,
          -2.3425230979919434,
          5.506404876708984,
          2.111919403076172,
          0.6232492923736572,
          2.6362462043762207,
          -10.041686058044434,
          6.579456329345703,
          -14.362196922302246
         ]
        },
        {
         "line": {
          "color": "black",
          "width": 0.5
         },
         "opacity": 0.2,
         "type": "scatter",
         "x": [
          1,
          2,
          3,
          4,
          5,
          6,
          7,
          8,
          9
         ],
         "y": [
          4.077589988708496,
          -0.9828393459320068,
          2.583789825439453,
          5.576177597045898,
          0.8783159255981445,
          1.3240302801132202,
          0.03757643699645996,
          5.920283794403076,
          -7.149261474609375
         ]
        },
        {
         "line": {
          "color": "black",
          "width": 0.5
         },
         "opacity": 0.2,
         "type": "scatter",
         "x": [
          1,
          2,
          3,
          4,
          5,
          6,
          7,
          8,
          9
         ],
         "y": [
          -19.212717056274414,
          -2.217848539352417,
          -17.812742233276367,
          -33.92144775390625,
          -7.415359020233154,
          -10.508177757263184,
          -2.3574020862579346,
          -23.070974349975586,
          -4.894326210021973
         ]
        },
        {
         "line": {
          "color": "black",
          "width": 0.5
         },
         "opacity": 0.2,
         "type": "scatter",
         "x": [
          1,
          2,
          3,
          4,
          5,
          6,
          7,
          8,
          9
         ],
         "y": [
          3.5411109924316406,
          -12.29220199584961,
          2.2050671577453613,
          0.23564815521240234,
          2.770528793334961,
          7.752265453338623,
          -22.06692886352539,
          18.3922119140625,
          -35.54558563232422
         ]
        },
        {
         "line": {
          "color": "black",
          "width": 0.5
         },
         "opacity": 0.2,
         "type": "scatter",
         "x": [
          1,
          2,
          3,
          4,
          5,
          6,
          7,
          8,
          9
         ],
         "y": [
          -19.770370483398438,
          -10.949670791625977,
          -4.209474086761475,
          -72.9373779296875,
          -4.550503253936768,
          -27.96260643005371,
          -14.924335479736328,
          -48.11418151855469,
          -10.590587615966797
         ]
        },
        {
         "line": {
          "color": "black",
          "width": 0.5
         },
         "opacity": 0.2,
         "type": "scatter",
         "x": [
          1,
          2,
          3,
          4,
          5,
          6,
          7,
          8,
          9
         ],
         "y": [
          24.426626205444336,
          3.520148992538452,
          15.009451866149902,
          57.284881591796875,
          6.505457878112793,
          22.105270385742188,
          5.376182556152344,
          46.04372787475586,
          3.5742838382720947
         ]
        },
        {
         "line": {
          "color": "black",
          "width": 0.5
         },
         "opacity": 0.2,
         "type": "scatter",
         "x": [
          1,
          2,
          3,
          4,
          5,
          6,
          7,
          8,
          9
         ],
         "y": [
          11.749428749084473,
          -10.337688446044922,
          7.879363059997559,
          7.526771545410156,
          -0.8863985538482666,
          -1.6195106506347656,
          -7.168444633483887,
          17.579423904418945,
          -18.850065231323242
         ]
        },
        {
         "line": {
          "color": "black",
          "width": 0.5
         },
         "opacity": 0.2,
         "type": "scatter",
         "x": [
          1,
          2,
          3,
          4,
          5,
          6,
          7,
          8,
          9
         ],
         "y": [
          19.317344665527344,
          7.997021675109863,
          5.280550956726074,
          64.19820404052734,
          7.75247049331665,
          27.15132713317871,
          10.524120330810547,
          50.65287780761719,
          20.59541130065918
         ]
        },
        {
         "line": {
          "color": "black",
          "width": 0.5
         },
         "opacity": 0.2,
         "type": "scatter",
         "x": [
          1,
          2,
          3,
          4,
          5,
          6,
          7,
          8,
          9
         ],
         "y": [
          19.016210556030273,
          0.09218215942382812,
          9.676444053649902,
          23.52376365661621,
          6.783175468444824,
          8.673323631286621,
          5.126286029815674,
          10.047653198242188,
          11.177567481994629
         ]
        },
        {
         "line": {
          "color": "black",
          "width": 0.5
         },
         "opacity": 0.2,
         "type": "scatter",
         "x": [
          1,
          2,
          3,
          4,
          5,
          6,
          7,
          8,
          9
         ],
         "y": [
          16.70939064025879,
          6.109197616577148,
          7.053947925567627,
          34.383140563964844,
          -0.31241607666015625,
          9.181099891662598,
          16.3557186126709,
          15.790274620056152,
          28.48145294189453
         ]
        },
        {
         "line": {
          "color": "black",
          "width": 0.5
         },
         "opacity": 0.2,
         "type": "scatter",
         "x": [
          1,
          2,
          3,
          4,
          5,
          6,
          7,
          8,
          9
         ],
         "y": [
          7.034229755401611,
          -0.7259102463722229,
          2.49094295501709,
          12.79397964477539,
          2.919957160949707,
          5.782322883605957,
          1.624894618988037,
          12.665928840637207,
          -1.1822584867477417
         ]
        },
        {
         "line": {
          "color": "black",
          "width": 0.5
         },
         "opacity": 0.2,
         "type": "scatter",
         "x": [
          1,
          2,
          3,
          4,
          5,
          6,
          7,
          8,
          9
         ],
         "y": [
          -8.39138412475586,
          3.797498941421509,
          -5.059154510498047,
          -6.454701900482178,
          -2.543379545211792,
          -0.4232046604156494,
          5.25061559677124,
          -23.37837028503418,
          9.770859718322754
         ]
        },
        {
         "line": {
          "color": "black",
          "width": 0.5
         },
         "opacity": 0.2,
         "type": "scatter",
         "x": [
          1,
          2,
          3,
          4,
          5,
          6,
          7,
          8,
          9
         ],
         "y": [
          2.0251002311706543,
          11.057629585266113,
          4.465884208679199,
          12.7132568359375,
          0.914532482624054,
          1.164151668548584,
          4.762930393218994,
          -3.123617649078369,
          20.40206527709961
         ]
        },
        {
         "line": {
          "color": "black",
          "width": 0.5
         },
         "opacity": 0.2,
         "type": "scatter",
         "x": [
          1,
          2,
          3,
          4,
          5,
          6,
          7,
          8,
          9
         ],
         "y": [
          -0.7711429595947266,
          1.236116886138916,
          0.7912737131118774,
          -11.298151969909668,
          -0.20625147223472595,
          -6.345703125,
          0.7989648580551147,
          -10.353163719177246,
          0.29881423711776733
         ]
        },
        {
         "line": {
          "color": "black",
          "width": 0.5
         },
         "opacity": 0.2,
         "type": "scatter",
         "x": [
          1,
          2,
          3,
          4,
          5,
          6,
          7,
          8,
          9
         ],
         "y": [
          12.78731632232666,
          -4.56518030166626,
          6.998956680297852,
          13.197429656982422,
          4.970058441162109,
          6.057812213897705,
          -1.8198087215423584,
          17.220014572143555,
          -4.978400707244873
         ]
        },
        {
         "line": {
          "color": "black",
          "width": 0.5
         },
         "opacity": 0.2,
         "type": "scatter",
         "x": [
          1,
          2,
          3,
          4,
          5,
          6,
          7,
          8,
          9
         ],
         "y": [
          -7.790135860443115,
          -0.5712869167327881,
          -2.044046640396118,
          -18.885986328125,
          -0.13694441318511963,
          -2.8923637866973877,
          -4.4117326736450195,
          -13.66940689086914,
          -3.4541006088256836
         ]
        },
        {
         "line": {
          "color": "black",
          "width": 0.5
         },
         "opacity": 0.2,
         "type": "scatter",
         "x": [
          1,
          2,
          3,
          4,
          5,
          6,
          7,
          8,
          9
         ],
         "y": [
          -8.664423942565918,
          13.171394348144531,
          -7.999836444854736,
          13.304312705993652,
          -0.25931692123413086,
          8.859613418579102,
          9.69338607788086,
          0.14780521392822266,
          4.778367042541504
         ]
        },
        {
         "line": {
          "color": "black",
          "width": 0.5
         },
         "opacity": 0.2,
         "type": "scatter",
         "x": [
          1,
          2,
          3,
          4,
          5,
          6,
          7,
          8,
          9
         ],
         "y": [
          0.010615706443786621,
          -2.998878002166748,
          1.0305944681167603,
          -2.358069896697998,
          -0.5183666348457336,
          -1.974178671836853,
          -5.179004192352295,
          2.134922981262207,
          -6.848074913024902
         ]
        },
        {
         "line": {
          "color": "black",
          "width": 0.5
         },
         "opacity": 0.2,
         "type": "scatter",
         "x": [
          1,
          2,
          3,
          4,
          5,
          6,
          7,
          8,
          9
         ],
         "y": [
          12.744736671447754,
          -3.1824448108673096,
          3.520582675933838,
          12.419000625610352,
          0.9228464961051941,
          -0.48165035247802734,
          -0.7020273208618164,
          14.841588020324707,
          -4.337135314941406
         ]
        },
        {
         "line": {
          "color": "black",
          "width": 0.5
         },
         "opacity": 0.2,
         "type": "scatter",
         "x": [
          1,
          2,
          3,
          4,
          5,
          6,
          7,
          8,
          9
         ],
         "y": [
          37.484127044677734,
          16.216367721557617,
          23.503040313720703,
          93.85164642333984,
          9.089444160461426,
          30.101877212524414,
          17.65323257446289,
          56.23186111450195,
          12.275257110595703
         ]
        },
        {
         "line": {
          "color": "black",
          "width": 0.5
         },
         "opacity": 0.2,
         "type": "scatter",
         "x": [
          1,
          2,
          3,
          4,
          5,
          6,
          7,
          8,
          9
         ],
         "y": [
          -2.8841140270233154,
          12.912837982177734,
          -0.648807168006897,
          5.742824077606201,
          -3.39277982711792,
          -3.668850898742676,
          19.047588348388672,
          -14.0342435836792,
          34.62018966674805
         ]
        },
        {
         "line": {
          "color": "black",
          "width": 0.5
         },
         "opacity": 0.2,
         "type": "scatter",
         "x": [
          1,
          2,
          3,
          4,
          5,
          6,
          7,
          8,
          9
         ],
         "y": [
          -19.18536376953125,
          -9.079002380371094,
          -12.192291259765625,
          -32.48064041137695,
          -9.14664077758789,
          -14.4468994140625,
          -8.761738777160645,
          -17.66085433959961,
          -45.27399826049805
         ]
        },
        {
         "line": {
          "color": "black",
          "width": 0.5
         },
         "opacity": 0.2,
         "type": "scatter",
         "x": [
          1,
          2,
          3,
          4,
          5,
          6,
          7,
          8,
          9
         ],
         "y": [
          -1.7810227870941162,
          -2.9235382080078125,
          0.04755657911300659,
          -1.3075546026229858,
          -1.034820795059204,
          -0.811821460723877,
          -4.653616905212402,
          1.6923918724060059,
          -16.776945114135742
         ]
        },
        {
         "line": {
          "color": "black",
          "width": 0.5
         },
         "opacity": 0.2,
         "type": "scatter",
         "x": [
          1,
          2,
          3,
          4,
          5,
          6,
          7,
          8,
          9
         ],
         "y": [
          -0.2385401427745819,
          -1.2373530864715576,
          0.21471861004829407,
          -2.262876510620117,
          0.008984729647636414,
          -0.677601158618927,
          -1.4233648777008057,
          -0.2810092568397522,
          -1.8746600151062012
         ]
        },
        {
         "line": {
          "color": "black",
          "width": 0.5
         },
         "opacity": 0.2,
         "type": "scatter",
         "x": [
          1,
          2,
          3,
          4,
          5,
          6,
          7,
          8,
          9
         ],
         "y": [
          12.696163177490234,
          -1.172684669494629,
          2.202430486679077,
          45.198482513427734,
          1.9076969623565674,
          19.490367889404297,
          10.533341407775879,
          28.829198837280273,
          9.77609634399414
         ]
        },
        {
         "line": {
          "color": "black",
          "width": 0.5
         },
         "opacity": 0.2,
         "type": "scatter",
         "x": [
          1,
          2,
          3,
          4,
          5,
          6,
          7,
          8,
          9
         ],
         "y": [
          11.543822288513184,
          1.1177289485931396,
          4.716858863830566,
          5.320929050445557,
          2.5315933227539062,
          -1.913509488105774,
          -0.7460930347442627,
          0.4639918804168701,
          0.0607830286026001
         ]
        },
        {
         "line": {
          "color": "black",
          "width": 0.5
         },
         "opacity": 0.2,
         "type": "scatter",
         "x": [
          1,
          2,
          3,
          4,
          5,
          6,
          7,
          8,
          9
         ],
         "y": [
          25.588348388671875,
          18.09163475036621,
          15.493511199951172,
          80.05950927734375,
          4.2574334144592285,
          23.35743522644043,
          21.70362663269043,
          45.895294189453125,
          37.400474548339844
         ]
        },
        {
         "line": {
          "color": "black",
          "width": 0.5
         },
         "opacity": 0.2,
         "type": "scatter",
         "x": [
          1,
          2,
          3,
          4,
          5,
          6,
          7,
          8,
          9
         ],
         "y": [
          -11.20541763305664,
          -5.21358585357666,
          -4.420184135437012,
          -35.642398834228516,
          -2.049633264541626,
          -12.80474853515625,
          -5.821253299713135,
          -21.81768035888672,
          0.0643758773803711
         ]
        },
        {
         "line": {
          "color": "black",
          "width": 0.5
         },
         "opacity": 0.2,
         "type": "scatter",
         "x": [
          1,
          2,
          3,
          4,
          5,
          6,
          7,
          8,
          9
         ],
         "y": [
          -2.944382905960083,
          -6.689560890197754,
          -1.174485206604004,
          -19.713037490844727,
          1.863153338432312,
          -6.8164520263671875,
          -9.629223823547363,
          -5.063407897949219,
          -12.292183876037598
         ]
        },
        {
         "line": {
          "color": "black",
          "width": 0.5
         },
         "opacity": 0.2,
         "type": "scatter",
         "x": [
          1,
          2,
          3,
          4,
          5,
          6,
          7,
          8,
          9
         ],
         "y": [
          -2.9403061866760254,
          -5.304050445556641,
          0.17536313831806183,
          -17.5672664642334,
          -2.0922389030456543,
          -8.311185836791992,
          -5.848461151123047,
          -9.34616756439209,
          -11.02701473236084
         ]
        },
        {
         "line": {
          "color": "black",
          "width": 0.5
         },
         "opacity": 0.2,
         "type": "scatter",
         "x": [
          1,
          2,
          3,
          4,
          5,
          6,
          7,
          8,
          9
         ],
         "y": [
          -6.3469133377075195,
          -4.713318824768066,
          -1.5450669527053833,
          -14.26467514038086,
          -1.9292716979980469,
          -4.241599082946777,
          -8.890073776245117,
          -12.910100936889648,
          -9.55402660369873
         ]
        },
        {
         "line": {
          "color": "black",
          "width": 0.5
         },
         "opacity": 0.2,
         "type": "scatter",
         "x": [
          1,
          2,
          3,
          4,
          5,
          6,
          7,
          8,
          9
         ],
         "y": [
          -15.037391662597656,
          -18.123416900634766,
          -5.642891883850098,
          -59.95530700683594,
          -2.0252931118011475,
          -18.730361938476562,
          -24.328449249267578,
          -26.832876205444336,
          -31.49597930908203
         ]
        },
        {
         "line": {
          "color": "black",
          "width": 0.5
         },
         "opacity": 0.2,
         "type": "scatter",
         "x": [
          1,
          2,
          3,
          4,
          5,
          6,
          7,
          8,
          9
         ],
         "y": [
          12.285813331604004,
          28.22293472290039,
          4.618842601776123,
          64.43602752685547,
          5.2820634841918945,
          23.708295822143555,
          25.010875701904297,
          16.70977783203125,
          57.909637451171875
         ]
        },
        {
         "line": {
          "color": "black",
          "width": 0.5
         },
         "opacity": 0.2,
         "type": "scatter",
         "x": [
          1,
          2,
          3,
          4,
          5,
          6,
          7,
          8,
          9
         ],
         "y": [
          17.630016326904297,
          -3.699847459793091,
          7.691920757293701,
          31.69834327697754,
          2.8667664527893066,
          10.443307876586914,
          -0.5455898642539978,
          27.71976089477539,
          -4.831079483032227
         ]
        },
        {
         "line": {
          "color": "black",
          "width": 0.5
         },
         "opacity": 0.2,
         "type": "scatter",
         "x": [
          1,
          2,
          3,
          4,
          5,
          6,
          7,
          8,
          9
         ],
         "y": [
          -19.070716857910156,
          13.921441078186035,
          -8.592218399047852,
          -9.97142505645752,
          -4.374296188354492,
          -2.529592990875244,
          14.043730735778809,
          -21.91301727294922,
          30.310138702392578
         ]
        },
        {
         "line": {
          "color": "black",
          "width": 0.5
         },
         "opacity": 0.2,
         "type": "scatter",
         "x": [
          1,
          2,
          3,
          4,
          5,
          6,
          7,
          8,
          9
         ],
         "y": [
          -42.087371826171875,
          -20.3023624420166,
          -24.290607452392578,
          -99.58077239990234,
          -8.888566017150879,
          -32.8170280456543,
          -30.082056045532227,
          -42.70608139038086,
          -47.391143798828125
         ]
        },
        {
         "line": {
          "color": "black",
          "width": 0.5
         },
         "opacity": 0.2,
         "type": "scatter",
         "x": [
          1,
          2,
          3,
          4,
          5,
          6,
          7,
          8,
          9
         ],
         "y": [
          0.6337193250656128,
          -0.8380783796310425,
          -0.9791945815086365,
          0.9708993434906006,
          2.9592227935791016,
          5.4428205490112305,
          -1.5485557317733765,
          1.5057969093322754,
          -1.6651619672775269
         ]
        },
        {
         "line": {
          "color": "black",
          "width": 0.5
         },
         "opacity": 0.2,
         "type": "scatter",
         "x": [
          1,
          2,
          3,
          4,
          5,
          6,
          7,
          8,
          9
         ],
         "y": [
          -4.7877116203308105,
          11.493885040283203,
          -5.153021812438965,
          11.417852401733398,
          -2.8744802474975586,
          1.926072120666504,
          12.241825103759766,
          -1.4348206520080566,
          25.69331932067871
         ]
        },
        {
         "line": {
          "color": "black",
          "width": 0.5
         },
         "opacity": 0.2,
         "type": "scatter",
         "x": [
          1,
          2,
          3,
          4,
          5,
          6,
          7,
          8,
          9
         ],
         "y": [
          11.17732048034668,
          11.078897476196289,
          1.6305187940597534,
          23.72950553894043,
          3.7562336921691895,
          4.856122970581055,
          18.314964294433594,
          11.139778137207031,
          24.68587303161621
         ]
        },
        {
         "line": {
          "color": "black",
          "width": 0.5
         },
         "opacity": 0.2,
         "type": "scatter",
         "x": [
          1,
          2,
          3,
          4,
          5,
          6,
          7,
          8,
          9
         ],
         "y": [
          -11.859481811523438,
          -13.320770263671875,
          -3.5404887199401855,
          -49.43714904785156,
          -2.4701807498931885,
          -16.417633056640625,
          -17.088470458984375,
          -29.50399398803711,
          -26.948328018188477
         ]
        },
        {
         "line": {
          "color": "black",
          "width": 0.5
         },
         "opacity": 0.2,
         "type": "scatter",
         "x": [
          1,
          2,
          3,
          4,
          5,
          6,
          7,
          8,
          9
         ],
         "y": [
          7.551814079284668,
          8.280461311340332,
          0.045744940638542175,
          28.28401756286621,
          0.6303689479827881,
          9.090481758117676,
          8.264322280883789,
          7.029012680053711,
          8.753220558166504
         ]
        },
        {
         "line": {
          "color": "black",
          "width": 0.5
         },
         "opacity": 0.2,
         "type": "scatter",
         "x": [
          1,
          2,
          3,
          4,
          5,
          6,
          7,
          8,
          9
         ],
         "y": [
          -0.9291734099388123,
          -1.6517927646636963,
          1.1278225183486938,
          -8.491432189941406,
          2.5222008228302,
          -1.0704593658447266,
          -2.3960084915161133,
          -4.908721923828125,
          4.841923713684082
         ]
        },
        {
         "line": {
          "color": "black",
          "width": 0.5
         },
         "opacity": 0.2,
         "type": "scatter",
         "x": [
          1,
          2,
          3,
          4,
          5,
          6,
          7,
          8,
          9
         ],
         "y": [
          -0.07278096675872803,
          12.847146034240723,
          2.757002353668213,
          22.775630950927734,
          0.9583127498626709,
          8.306487083435059,
          12.469605445861816,
          4.868488311767578,
          25.7984561920166
         ]
        },
        {
         "line": {
          "color": "black",
          "width": 0.5
         },
         "opacity": 0.2,
         "type": "scatter",
         "x": [
          1,
          2,
          3,
          4,
          5,
          6,
          7,
          8,
          9
         ],
         "y": [
          -4.488035678863525,
          6.778298854827881,
          5.354920387268066,
          -1.6935787200927734,
          -0.2179730236530304,
          -0.9927868843078613,
          0.15971732139587402,
          2.0385050773620605,
          7.058581829071045
         ]
        },
        {
         "line": {
          "color": "black",
          "width": 0.5
         },
         "opacity": 0.2,
         "type": "scatter",
         "x": [
          1,
          2,
          3,
          4,
          5,
          6,
          7,
          8,
          9
         ],
         "y": [
          12.168417930603027,
          0.1305367648601532,
          7.50329065322876,
          12.58991527557373,
          4.956809043884277,
          4.527139663696289,
          0.1675615906715393,
          10.87234115600586,
          8.816088676452637
         ]
        },
        {
         "line": {
          "color": "black",
          "width": 0.5
         },
         "opacity": 0.2,
         "type": "scatter",
         "x": [
          1,
          2,
          3,
          4,
          5,
          6,
          7,
          8,
          9
         ],
         "y": [
          29.385772705078125,
          28.032917022705078,
          5.926664352416992,
          122.35298156738281,
          9.26945686340332,
          51.030460357666016,
          35.0056266784668,
          64.88587188720703,
          28.161243438720703
         ]
        },
        {
         "line": {
          "color": "black",
          "width": 0.5
         },
         "opacity": 0.2,
         "type": "scatter",
         "x": [
          1,
          2,
          3,
          4,
          5,
          6,
          7,
          8,
          9
         ],
         "y": [
          11.685306549072266,
          23.602569580078125,
          2.6882996559143066,
          66.35952758789062,
          5.155158519744873,
          25.043071746826172,
          23.835735321044922,
          29.51250648498535,
          54.40162658691406
         ]
        },
        {
         "line": {
          "color": "black",
          "width": 0.5
         },
         "opacity": 0.2,
         "type": "scatter",
         "x": [
          1,
          2,
          3,
          4,
          5,
          6,
          7,
          8,
          9
         ],
         "y": [
          9.387002944946289,
          -7.7582197189331055,
          8.277204513549805,
          1.0838499069213867,
          3.39211368560791,
          0.9829000234603882,
          -14.239547729492188,
          10.547630310058594,
          -1.8794445991516113
         ]
        },
        {
         "line": {
          "color": "black",
          "width": 0.5
         },
         "opacity": 0.2,
         "type": "scatter",
         "x": [
          1,
          2,
          3,
          4,
          5,
          6,
          7,
          8,
          9
         ],
         "y": [
          4.548737049102783,
          6.1609787940979,
          2.3091251850128174,
          18.27181053161621,
          1.6352218389511108,
          5.945582866668701,
          8.832710266113281,
          6.618076324462891,
          14.378868103027344
         ]
        },
        {
         "line": {
          "color": "black",
          "width": 0.5
         },
         "opacity": 0.2,
         "type": "scatter",
         "x": [
          1,
          2,
          3,
          4,
          5,
          6,
          7,
          8,
          9
         ],
         "y": [
          32.575233459472656,
          -15.544755935668945,
          13.475573539733887,
          34.59635925292969,
          9.987937927246094,
          19.731426239013672,
          -4.99849271774292,
          47.324649810791016,
          -19.729639053344727
         ]
        },
        {
         "line": {
          "color": "black",
          "width": 0.5
         },
         "opacity": 0.2,
         "type": "scatter",
         "x": [
          1,
          2,
          3,
          4,
          5,
          6,
          7,
          8,
          9
         ],
         "y": [
          4.124814987182617,
          -1.391045331954956,
          1.6609108448028564,
          -1.0340584516525269,
          -0.005890697240829468,
          -2.5488710403442383,
          -0.30003905296325684,
          -3.2197115421295166,
          -4.455193519592285
         ]
        },
        {
         "line": {
          "color": "black",
          "width": 0.5
         },
         "opacity": 0.2,
         "type": "scatter",
         "x": [
          1,
          2,
          3,
          4,
          5,
          6,
          7,
          8,
          9
         ],
         "y": [
          6.132134437561035,
          -2.1538805961608887,
          3.828477144241333,
          6.93410587310791,
          -0.16398538649082184,
          0.5380476713180542,
          0.10683977603912354,
          9.259987831115723,
          -6.853400230407715
         ]
        },
        {
         "line": {
          "color": "black",
          "width": 0.5
         },
         "opacity": 0.2,
         "type": "scatter",
         "x": [
          1,
          2,
          3,
          4,
          5,
          6,
          7,
          8,
          9
         ],
         "y": [
          18.568119049072266,
          1.9817100763320923,
          6.734100818634033,
          33.12474060058594,
          0.13964849710464478,
          4.4834489822387695,
          7.829710006713867,
          17.895557403564453,
          -5.085899353027344
         ]
        },
        {
         "line": {
          "color": "black",
          "width": 0.5
         },
         "opacity": 0.2,
         "type": "scatter",
         "x": [
          1,
          2,
          3,
          4,
          5,
          6,
          7,
          8,
          9
         ],
         "y": [
          -10.421854019165039,
          0.4288463592529297,
          -4.752732753753662,
          -21.926259994506836,
          -2.9075546264648438,
          -8.627113342285156,
          -0.6851174831390381,
          -19.20084571838379,
          6.343822002410889
         ]
        },
        {
         "line": {
          "color": "black",
          "width": 0.5
         },
         "opacity": 0.2,
         "type": "scatter",
         "x": [
          1,
          2,
          3,
          4,
          5,
          6,
          7,
          8,
          9
         ],
         "y": [
          15.102636337280273,
          3.651972770690918,
          1.410776972770691,
          37.774742126464844,
          4.219900131225586,
          13.490130424499512,
          14.86288070678711,
          26.42552947998047,
          20.115142822265625
         ]
        },
        {
         "line": {
          "color": "black",
          "width": 0.5
         },
         "opacity": 0.2,
         "type": "scatter",
         "x": [
          1,
          2,
          3,
          4,
          5,
          6,
          7,
          8,
          9
         ],
         "y": [
          -1.5609614849090576,
          -21.083898544311523,
          1.1772832870483398,
          -8.860403060913086,
          1.1980228424072266,
          4.822388648986816,
          -26.086963653564453,
          11.427876472473145,
          -73.89276885986328
         ]
        },
        {
         "line": {
          "color": "black",
          "width": 0.5
         },
         "opacity": 0.2,
         "type": "scatter",
         "x": [
          1,
          2,
          3,
          4,
          5,
          6,
          7,
          8,
          9
         ],
         "y": [
          9.44417953491211,
          13.383938789367676,
          2.412501811981201,
          48.034141540527344,
          0.4363957643508911,
          15.793258666992188,
          20.320283889770508,
          26.8486328125,
          28.763124465942383
         ]
        },
        {
         "line": {
          "color": "black",
          "width": 0.5
         },
         "opacity": 0.2,
         "type": "scatter",
         "x": [
          1,
          2,
          3,
          4,
          5,
          6,
          7,
          8,
          9
         ],
         "y": [
          14.654348373413086,
          -1.2618952989578247,
          4.7570695877075195,
          35.51466751098633,
          2.5954504013061523,
          15.323394775390625,
          1.6557966470718384,
          23.954357147216797,
          -9.414127349853516
         ]
        },
        {
         "line": {
          "color": "black",
          "width": 0.5
         },
         "opacity": 0.2,
         "type": "scatter",
         "x": [
          1,
          2,
          3,
          4,
          5,
          6,
          7,
          8,
          9
         ],
         "y": [
          -13.284252166748047,
          -23.08608055114746,
          -5.118671417236328,
          -78.28379821777344,
          -1.6053440570831299,
          -25.56328010559082,
          -36.26609802246094,
          -38.94987487792969,
          -26.9567813873291
         ]
        },
        {
         "line": {
          "color": "black",
          "width": 0.5
         },
         "opacity": 0.2,
         "type": "scatter",
         "x": [
          1,
          2,
          3,
          4,
          5,
          6,
          7,
          8,
          9
         ],
         "y": [
          7.797093868255615,
          -0.44823169708251953,
          4.857612609863281,
          9.947704315185547,
          3.5061631202697754,
          7.050309181213379,
          1.434471607208252,
          12.123916625976562,
          9.12001895904541
         ]
        },
        {
         "line": {
          "color": "black",
          "width": 0.5
         },
         "opacity": 0.2,
         "type": "scatter",
         "x": [
          1,
          2,
          3,
          4,
          5,
          6,
          7,
          8,
          9
         ],
         "y": [
          27.168617248535156,
          -7.423107624053955,
          7.035819053649902,
          38.29888153076172,
          6.7527313232421875,
          17.910869598388672,
          6.649604320526123,
          45.46322250366211,
          -9.775800704956055
         ]
        },
        {
         "line": {
          "color": "black",
          "width": 0.5
         },
         "opacity": 0.2,
         "type": "scatter",
         "x": [
          1,
          2,
          3,
          4,
          5,
          6,
          7,
          8,
          9
         ],
         "y": [
          -8.31916618347168,
          -1.5685925483703613,
          -3.9953763484954834,
          -23.029659271240234,
          -2.1356453895568848,
          -8.913071632385254,
          -5.0346784591674805,
          -15.471595764160156,
          -3.3744914531707764
         ]
        },
        {
         "line": {
          "color": "black",
          "width": 0.5
         },
         "opacity": 0.2,
         "type": "scatter",
         "x": [
          1,
          2,
          3,
          4,
          5,
          6,
          7,
          8,
          9
         ],
         "y": [
          -0.8470652103424072,
          0.4611845016479492,
          0.5819500684738159,
          -18.883481979370117,
          -3.8398663997650146,
          -14.084800720214844,
          -4.317227840423584,
          -21.04868507385254,
          -19.255477905273438
         ]
        },
        {
         "line": {
          "color": "black",
          "width": 0.5
         },
         "opacity": 0.2,
         "type": "scatter",
         "x": [
          1,
          2,
          3,
          4,
          5,
          6,
          7,
          8,
          9
         ],
         "y": [
          0.32744526863098145,
          0.7864432334899902,
          -2.8819382190704346,
          9.127408981323242,
          1.7911360263824463,
          7.028992652893066,
          -0.34841227531433105,
          7.742920875549316,
          0.7861958742141724
         ]
        },
        {
         "line": {
          "color": "black",
          "width": 0.5
         },
         "opacity": 0.2,
         "type": "scatter",
         "x": [
          1,
          2,
          3,
          4,
          5,
          6,
          7,
          8,
          9
         ],
         "y": [
          3.4116413593292236,
          -5.2871785163879395,
          -4.8189005851745605,
          -17.48513412475586,
          -0.15204167366027832,
          -12.435999870300293,
          2.625357151031494,
          -12.973699569702148,
          -8.582915306091309
         ]
        },
        {
         "line": {
          "color": "black",
          "width": 0.5
         },
         "opacity": 0.2,
         "type": "scatter",
         "x": [
          1,
          2,
          3,
          4,
          5,
          6,
          7,
          8,
          9
         ],
         "y": [
          7.438570976257324,
          -13.352365493774414,
          4.583226203918457,
          -19.06876564025879,
          4.638119220733643,
          -5.306636333465576,
          -16.991125106811523,
          1.6841435432434082,
          -23.722126007080078
         ]
        },
        {
         "line": {
          "color": "black",
          "width": 0.5
         },
         "opacity": 0.2,
         "type": "scatter",
         "x": [
          1,
          2,
          3,
          4,
          5,
          6,
          7,
          8,
          9
         ],
         "y": [
          -5.3297343254089355,
          11.928389549255371,
          6.863830089569092,
          -2.2124438285827637,
          -8.371733665466309,
          -10.570720672607422,
          15.23300552368164,
          -14.179673194885254,
          36.17087173461914
         ]
        },
        {
         "line": {
          "color": "black",
          "width": 0.5
         },
         "opacity": 0.2,
         "type": "scatter",
         "x": [
          1,
          2,
          3,
          4,
          5,
          6,
          7,
          8,
          9
         ],
         "y": [
          -20.58989143371582,
          -7.08873176574707,
          -8.996368408203125,
          -52.57508850097656,
          -4.988056182861328,
          -18.095500946044922,
          -11.025012016296387,
          -34.77872848510742,
          -8.637055397033691
         ]
        },
        {
         "line": {
          "color": "black",
          "width": 0.5
         },
         "opacity": 0.2,
         "type": "scatter",
         "x": [
          1,
          2,
          3,
          4,
          5,
          6,
          7,
          8,
          9
         ],
         "y": [
          4.019826889038086,
          -1.9064949750900269,
          4.530448913574219,
          0.8661315441131592,
          0.7385646104812622,
          -1.7064822912216187,
          0.9730498790740967,
          4.8231072425842285,
          11.258956909179688
         ]
        },
        {
         "line": {
          "color": "black",
          "width": 0.5
         },
         "opacity": 0.2,
         "type": "scatter",
         "x": [
          1,
          2,
          3,
          4,
          5,
          6,
          7,
          8,
          9
         ],
         "y": [
          -1.2236387729644775,
          -1.6540639400482178,
          -0.27217626571655273,
          -5.729628562927246,
          0.17625942826271057,
          -1.5126491785049438,
          -2.885075092315674,
          0.051252156496047974,
          -5.094145774841309
         ]
        },
        {
         "line": {
          "color": "black",
          "width": 0.5
         },
         "opacity": 0.2,
         "type": "scatter",
         "x": [
          1,
          2,
          3,
          4,
          5,
          6,
          7,
          8,
          9
         ],
         "y": [
          19.399219512939453,
          -3.038703441619873,
          10.402676582336426,
          15.671316146850586,
          2.4345543384552,
          -3.3157219886779785,
          -1.2803516387939453,
          11.816152572631836,
          -11.530722618103027
         ]
        },
        {
         "line": {
          "color": "black",
          "width": 0.5
         },
         "opacity": 0.2,
         "type": "scatter",
         "x": [
          1,
          2,
          3,
          4,
          5,
          6,
          7,
          8,
          9
         ],
         "y": [
          -0.09278690069913864,
          0.9289098381996155,
          -0.05670654773712158,
          1.6826395988464355,
          -0.33465081453323364,
          0.11040067672729492,
          1.1225981712341309,
          -1.2499351501464844,
          1.8729631900787354
         ]
        },
        {
         "line": {
          "color": "black",
          "width": 0.5
         },
         "opacity": 0.2,
         "type": "scatter",
         "x": [
          1,
          2,
          3,
          4,
          5,
          6,
          7,
          8,
          9
         ],
         "y": [
          3.7023260593414307,
          -4.423486709594727,
          2.4466137886047363,
          -2.7282307147979736,
          2.35142183303833,
          0.5079452395439148,
          -4.724220275878906,
          2.569295883178711,
          -7.6405205726623535
         ]
        },
        {
         "line": {
          "color": "black",
          "width": 0.5
         },
         "opacity": 0.2,
         "type": "scatter",
         "x": [
          1,
          2,
          3,
          4,
          5,
          6,
          7,
          8,
          9
         ],
         "y": [
          6.529124736785889,
          -3.6630821228027344,
          3.647368907928467,
          13.545205116271973,
          -0.8383817076683044,
          3.0664751529693604,
          -1.891520380973816,
          15.988997459411621,
          -9.943901062011719
         ]
        },
        {
         "line": {
          "color": "black",
          "width": 0.5
         },
         "opacity": 0.2,
         "type": "scatter",
         "x": [
          1,
          2,
          3,
          4,
          5,
          6,
          7,
          8,
          9
         ],
         "y": [
          -6.493054389953613,
          2.096384048461914,
          0.07638359069824219,
          -20.88129425048828,
          -1.8936553001403809,
          -10.984655380249023,
          -0.5845766067504883,
          -21.215923309326172,
          12.775015830993652
         ]
        },
        {
         "line": {
          "color": "black",
          "width": 0.5
         },
         "opacity": 0.2,
         "type": "scatter",
         "x": [
          1,
          2,
          3,
          4,
          5,
          6,
          7,
          8,
          9
         ],
         "y": [
          -14.093764305114746,
          16.936769485473633,
          -7.442374229431152,
          10.0152587890625,
          -7.175600051879883,
          1.9195818901062012,
          14.269451141357422,
          -9.060076713562012,
          36.24751281738281
         ]
        },
        {
         "line": {
          "color": "black",
          "width": 0.5
         },
         "opacity": 0.2,
         "type": "scatter",
         "x": [
          1,
          2,
          3,
          4,
          5,
          6,
          7,
          8,
          9
         ],
         "y": [
          4.950605392456055,
          -5.836024761199951,
          7.97222375869751,
          -5.517515182495117,
          3.478034496307373,
          -3.9216208457946777,
          -8.450398445129395,
          3.4963560104370117,
          -4.9438276290893555
         ]
        },
        {
         "line": {
          "color": "black",
          "width": 0.5
         },
         "opacity": 0.2,
         "type": "scatter",
         "x": [
          1,
          2,
          3,
          4,
          5,
          6,
          7,
          8,
          9
         ],
         "y": [
          -1.5361133813858032,
          0.8121583461761475,
          0.7244548797607422,
          -3.4469501972198486,
          -1.0360292196273804,
          -3.4078474044799805,
          -0.4319685697555542,
          -4.628077983856201,
          -2.834559917449951
         ]
        },
        {
         "line": {
          "color": "black",
          "width": 0.5
         },
         "opacity": 0.2,
         "type": "scatter",
         "x": [
          1,
          2,
          3,
          4,
          5,
          6,
          7,
          8,
          9
         ],
         "y": [
          6.683533668518066,
          1.8854413032531738,
          3.4521291255950928,
          21.054616928100586,
          1.7344645261764526,
          8.282974243164062,
          2.366694450378418,
          15.122477531433105,
          2.8020567893981934
         ]
        },
        {
         "line": {
          "color": "black",
          "width": 0.5
         },
         "opacity": 0.2,
         "type": "scatter",
         "x": [
          1,
          2,
          3,
          4,
          5,
          6,
          7,
          8,
          9
         ],
         "y": [
          16.118295669555664,
          9.205938339233398,
          7.458199501037598,
          49.73902130126953,
          2.3789355754852295,
          13.28357982635498,
          11.783660888671875,
          26.083688735961914,
          3.811809778213501
         ]
        },
        {
         "line": {
          "color": "black",
          "width": 0.5
         },
         "opacity": 0.2,
         "type": "scatter",
         "x": [
          1,
          2,
          3,
          4,
          5,
          6,
          7,
          8,
          9
         ],
         "y": [
          -1.9724431037902832,
          -2.03914213180542,
          -0.6985102295875549,
          -2.5022735595703125,
          -0.7134679555892944,
          -0.8933910131454468,
          1.2218270301818848,
          -0.12441730499267578,
          -1.2995257377624512
         ]
        },
        {
         "line": {
          "color": "black",
          "width": 0.5
         },
         "opacity": 0.2,
         "type": "scatter",
         "x": [
          1,
          2,
          3,
          4,
          5,
          6,
          7,
          8,
          9
         ],
         "y": [
          9.210505485534668,
          6.560276985168457,
          4.137635707855225,
          34.21269989013672,
          5.209323883056641,
          16.814735412597656,
          6.270668983459473,
          22.618061065673828,
          5.603972434997559
         ]
        },
        {
         "line": {
          "color": "black",
          "width": 0.5
         },
         "opacity": 0.2,
         "type": "scatter",
         "x": [
          1,
          2,
          3,
          4,
          5,
          6,
          7,
          8,
          9
         ],
         "y": [
          5.992937088012695,
          0.024412907660007477,
          2.8780601024627686,
          11.801980018615723,
          2.647599935531616,
          5.729822635650635,
          -0.18479934334754944,
          11.01504135131836,
          -0.32234787940979004
         ]
        },
        {
         "line": {
          "color": "black",
          "width": 0.5
         },
         "opacity": 0.2,
         "type": "scatter",
         "x": [
          1,
          2,
          3,
          4,
          5,
          6,
          7,
          8,
          9
         ],
         "y": [
          0.7797058820724487,
          3.0941672325134277,
          1.013329029083252,
          8.487215042114258,
          2.926356315612793,
          7.289228916168213,
          1.3164584636688232,
          8.526415824890137,
          3.8300819396972656
         ]
        },
        {
         "line": {
          "color": "black",
          "width": 0.5
         },
         "opacity": 0.2,
         "type": "scatter",
         "x": [
          1,
          2,
          3,
          4,
          5,
          6,
          7,
          8,
          9
         ],
         "y": [
          7.23753547668457,
          -15.277498245239258,
          5.328652381896973,
          -8.645854949951172,
          5.930455684661865,
          5.552378177642822,
          -23.776718139648438,
          1.513524055480957,
          -20.683643341064453
         ]
        },
        {
         "line": {
          "color": "black",
          "width": 0.5
         },
         "opacity": 0.2,
         "type": "scatter",
         "x": [
          1,
          2,
          3,
          4,
          5,
          6,
          7,
          8,
          9
         ],
         "y": [
          -10.367652893066406,
          -10.873433113098145,
          1.0151172876358032,
          -67.24983978271484,
          -1.8385210037231445,
          -30.285964965820312,
          -14.925743103027344,
          -37.14036178588867,
          -15.037843704223633
         ]
        },
        {
         "line": {
          "color": "black",
          "width": 0.5
         },
         "opacity": 0.2,
         "type": "scatter",
         "x": [
          1,
          2,
          3,
          4,
          5,
          6,
          7,
          8,
          9
         ],
         "y": [
          37.38517761230469,
          6.468891620635986,
          19.11463737487793,
          89.61952209472656,
          5.922206878662109,
          28.215171813964844,
          21.7073917388916,
          59.38762664794922,
          31.056575775146484
         ]
        },
        {
         "line": {
          "color": "black",
          "width": 0.5
         },
         "opacity": 0.2,
         "type": "scatter",
         "x": [
          1,
          2,
          3,
          4,
          5,
          6,
          7,
          8,
          9
         ],
         "y": [
          4.826689720153809,
          18.533504486083984,
          3.8422412872314453,
          45.45758819580078,
          6.017139911651611,
          16.388965606689453,
          15.548952102661133,
          17.098365783691406,
          40.9491081237793
         ]
        },
        {
         "line": {
          "color": "black",
          "width": 0.5
         },
         "opacity": 0.2,
         "type": "scatter",
         "x": [
          1,
          2,
          3,
          4,
          5,
          6,
          7,
          8,
          9
         ],
         "y": [
          5.217458724975586,
          -18.124340057373047,
          4.238330841064453,
          -29.61423110961914,
          -6.339536666870117,
          -23.654693603515625,
          -19.32870101928711,
          -9.64653205871582,
          -39.33378982543945
         ]
        },
        {
         "line": {
          "color": "black",
          "width": 0.5
         },
         "opacity": 0.2,
         "type": "scatter",
         "x": [
          1,
          2,
          3,
          4,
          5,
          6,
          7,
          8,
          9
         ],
         "y": [
          -7.459787368774414,
          8.740131378173828,
          -0.9336907863616943,
          3.5875635147094727,
          0.921992838382721,
          4.707167148590088,
          3.469297409057617,
          1.1657652854919434,
          -4.0302910804748535
         ]
        },
        {
         "line": {
          "color": "black",
          "width": 0.5
         },
         "opacity": 0.2,
         "type": "scatter",
         "x": [
          1,
          2,
          3,
          4,
          5,
          6,
          7,
          8,
          9
         ],
         "y": [
          2.7711777687072754,
          6.569475173950195,
          3.1394433975219727,
          22.896665573120117,
          2.756748676300049,
          9.100417137145996,
          2.3921499252319336,
          13.094934463500977,
          6.004764556884766
         ]
        },
        {
         "line": {
          "color": "black",
          "width": 0.5
         },
         "opacity": 0.2,
         "type": "scatter",
         "x": [
          1,
          2,
          3,
          4,
          5,
          6,
          7,
          8,
          9
         ],
         "y": [
          -8.34190559387207,
          -7.206770896911621,
          -4.603885650634766,
          -16.823043823242188,
          0.7629483342170715,
          -2.2389042377471924,
          -7.511044979095459,
          -3.1894924640655518,
          -19.885780334472656
         ]
        },
        {
         "line": {
          "color": "black",
          "width": 0.5
         },
         "opacity": 0.2,
         "type": "scatter",
         "x": [
          1,
          2,
          3,
          4,
          5,
          6,
          7,
          8,
          9
         ],
         "y": [
          -0.02222728729248047,
          -19.397472381591797,
          1.223930835723877,
          -61.03554153442383,
          2.3011093139648438,
          -21.41516876220703,
          -23.24573516845703,
          -29.908079147338867,
          -24.86431312561035
         ]
        },
        {
         "line": {
          "color": "black",
          "width": 0.5
         },
         "opacity": 0.2,
         "type": "scatter",
         "x": [
          1,
          2,
          3,
          4,
          5,
          6,
          7,
          8,
          9
         ],
         "y": [
          17.682968139648438,
          9.099045753479004,
          4.477096080780029,
          50.39439392089844,
          4.894689559936523,
          18.716022491455078,
          11.848531723022461,
          31.32908058166504,
          11.961432456970215
         ]
        },
        {
         "line": {
          "color": "black",
          "width": 0.5
         },
         "opacity": 0.2,
         "type": "scatter",
         "x": [
          1,
          2,
          3,
          4,
          5,
          6,
          7,
          8,
          9
         ],
         "y": [
          16.97018051147461,
          -15.983914375305176,
          2.648987293243408,
          36.86253356933594,
          8.297615051269531,
          24.300323486328125,
          -14.599292755126953,
          54.04015350341797,
          -29.340059280395508
         ]
        },
        {
         "line": {
          "color": "black",
          "width": 0.5
         },
         "opacity": 0.2,
         "type": "scatter",
         "x": [
          1,
          2,
          3,
          4,
          5,
          6,
          7,
          8,
          9
         ],
         "y": [
          -3.8556394577026367,
          -3.0486037731170654,
          -1.208815574645996,
          -4.441764831542969,
          -2.0875182151794434,
          0.009291648864746094,
          -3.573667526245117,
          -0.7275924682617188,
          0.8036894202232361
         ]
        },
        {
         "line": {
          "color": "black",
          "width": 0.5
         },
         "opacity": 0.2,
         "type": "scatter",
         "x": [
          1,
          2,
          3,
          4,
          5,
          6,
          7,
          8,
          9
         ],
         "y": [
          -9.503371238708496,
          -10.630139350891113,
          -7.7150797843933105,
          -41.60342788696289,
          -1.6219775676727295,
          -13.764928817749023,
          -10.589838981628418,
          -22.385372161865234,
          -24.01749038696289
         ]
        },
        {
         "line": {
          "color": "black",
          "width": 0.5
         },
         "opacity": 0.2,
         "type": "scatter",
         "x": [
          1,
          2,
          3,
          4,
          5,
          6,
          7,
          8,
          9
         ],
         "y": [
          -5.985868453979492,
          0.9353944063186646,
          -6.227259635925293,
          -17.099380493164062,
          -4.160569667816162,
          -9.668283462524414,
          7.747313499450684,
          -21.2508544921875,
          3.841418743133545
         ]
        },
        {
         "line": {
          "color": "black",
          "width": 0.5
         },
         "opacity": 0.2,
         "type": "scatter",
         "x": [
          1,
          2,
          3,
          4,
          5,
          6,
          7,
          8,
          9
         ],
         "y": [
          -6.338230609893799,
          -18.578598022460938,
          -4.020689010620117,
          -35.8565559387207,
          1.8977465629577637,
          -7.406495571136475,
          -20.58517837524414,
          0.3282003402709961,
          -26.704099655151367
         ]
        },
        {
         "line": {
          "color": "black",
          "width": 0.5
         },
         "opacity": 0.2,
         "type": "scatter",
         "x": [
          1,
          2,
          3,
          4,
          5,
          6,
          7,
          8,
          9
         ],
         "y": [
          6.181186199188232,
          0.870058536529541,
          -0.7747079730033875,
          15.780938148498535,
          1.043962836265564,
          5.568267345428467,
          3.274907112121582,
          12.671209335327148,
          0.19067323207855225
         ]
        },
        {
         "line": {
          "color": "black",
          "width": 0.5
         },
         "opacity": 0.2,
         "type": "scatter",
         "x": [
          1,
          2,
          3,
          4,
          5,
          6,
          7,
          8,
          9
         ],
         "y": [
          -7.646925449371338,
          -0.8004255294799805,
          -3.8377742767333984,
          -14.626670837402344,
          -4.106983661651611,
          -5.356193542480469,
          -2.045372486114502,
          -9.50811767578125,
          0.08413553237915039
         ]
        },
        {
         "line": {
          "color": "black",
          "width": 0.5
         },
         "opacity": 0.2,
         "type": "scatter",
         "x": [
          1,
          2,
          3,
          4,
          5,
          6,
          7,
          8,
          9
         ],
         "y": [
          -25.888996124267578,
          32.5546989440918,
          -8.287364959716797,
          -5.354465484619141,
          -10.150781631469727,
          -5.802456378936768,
          30.917818069458008,
          -31.872962951660156,
          55.3084716796875
         ]
        },
        {
         "line": {
          "color": "black",
          "width": 0.5
         },
         "opacity": 0.2,
         "type": "scatter",
         "x": [
          1,
          2,
          3,
          4,
          5,
          6,
          7,
          8,
          9
         ],
         "y": [
          -6.703602313995361,
          3.4350805282592773,
          -5.618879795074463,
          -6.437670707702637,
          -2.59549880027771,
          -2.3614704608917236,
          4.81907320022583,
          -13.083900451660156,
          10.251672744750977
         ]
        },
        {
         "line": {
          "color": "black",
          "width": 0.5
         },
         "opacity": 0.2,
         "type": "scatter",
         "x": [
          1,
          2,
          3,
          4,
          5,
          6,
          7,
          8,
          9
         ],
         "y": [
          -2.841937780380249,
          -5.561162948608398,
          0.02430903911590576,
          -11.785989761352539,
          -0.04619482159614563,
          -4.376629829406738,
          -7.197347164154053,
          -0.22227168083190918,
          -11.50219440460205
         ]
        },
        {
         "line": {
          "color": "black",
          "width": 0.5
         },
         "opacity": 0.2,
         "type": "scatter",
         "x": [
          1,
          2,
          3,
          4,
          5,
          6,
          7,
          8,
          9
         ],
         "y": [
          -1.0871973037719727,
          -9.540349960327148,
          0.15607261657714844,
          -18.794708251953125,
          0.9739371538162231,
          -5.6104817390441895,
          -10.699356079101562,
          -4.621828079223633,
          -20.01949119567871
         ]
        },
        {
         "line": {
          "color": "black",
          "width": 0.5
         },
         "opacity": 0.2,
         "type": "scatter",
         "x": [
          1,
          2,
          3,
          4,
          5,
          6,
          7,
          8,
          9
         ],
         "y": [
          -0.06393331289291382,
          1.4969987869262695,
          2.287926435470581,
          -8.107446670532227,
          -0.742317259311676,
          -5.70191764831543,
          3.583017587661743,
          -11.717421531677246,
          13.187881469726562
         ]
        },
        {
         "line": {
          "color": "black",
          "width": 0.5
         },
         "opacity": 0.2,
         "type": "scatter",
         "x": [
          1,
          2,
          3,
          4,
          5,
          6,
          7,
          8,
          9
         ],
         "y": [
          -6.992427349090576,
          -11.83793830871582,
          -3.463036060333252,
          -30.424636840820312,
          1.8076339960098267,
          -5.3668742179870605,
          -16.991291046142578,
          -7.072104454040527,
          -20.346811294555664
         ]
        },
        {
         "line": {
          "color": "black",
          "width": 0.5
         },
         "opacity": 0.2,
         "type": "scatter",
         "x": [
          1,
          2,
          3,
          4,
          5,
          6,
          7,
          8,
          9
         ],
         "y": [
          2.017974853515625,
          3.9658610820770264,
          2.5490593910217285,
          5.4377264976501465,
          0.8402304649353027,
          1.1051315069198608,
          2.5479397773742676,
          1.2520747184753418,
          8.178295135498047
         ]
        },
        {
         "line": {
          "color": "black",
          "width": 0.5
         },
         "opacity": 0.2,
         "type": "scatter",
         "x": [
          1,
          2,
          3,
          4,
          5,
          6,
          7,
          8,
          9
         ],
         "y": [
          -15.523079872131348,
          6.680936813354492,
          -9.19844913482666,
          -10.962157249450684,
          0.3963266611099243,
          3.99794340133667,
          7.023209095001221,
          -8.440444946289062,
          17.397729873657227
         ]
        },
        {
         "line": {
          "color": "black",
          "width": 0.5
         },
         "opacity": 0.2,
         "type": "scatter",
         "x": [
          1,
          2,
          3,
          4,
          5,
          6,
          7,
          8,
          9
         ],
         "y": [
          -44.58648681640625,
          -22.945825576782227,
          -13.640544891357422,
          -137.58035278320312,
          -6.66607666015625,
          -43.64460754394531,
          -36.60078811645508,
          -82.75114440917969,
          -20.222352981567383
         ]
        },
        {
         "line": {
          "color": "black",
          "width": 0.5
         },
         "opacity": 0.2,
         "type": "scatter",
         "x": [
          1,
          2,
          3,
          4,
          5,
          6,
          7,
          8,
          9
         ],
         "y": [
          -6.116023540496826,
          -5.102374076843262,
          -1.5411664247512817,
          -13.443343162536621,
          0.3745787739753723,
          0.13469314575195312,
          -4.108051776885986,
          -5.790350914001465,
          1.8416730165481567
         ]
        },
        {
         "line": {
          "color": "black",
          "width": 0.5
         },
         "opacity": 0.2,
         "type": "scatter",
         "x": [
          1,
          2,
          3,
          4,
          5,
          6,
          7,
          8,
          9
         ],
         "y": [
          4.013942241668701,
          5.9856719970703125,
          1.1186860799789429,
          14.35252571105957,
          2.6458899974823,
          5.080121994018555,
          6.9825544357299805,
          8.30291748046875,
          13.013948440551758
         ]
        },
        {
         "line": {
          "color": "black",
          "width": 0.5
         },
         "opacity": 0.2,
         "type": "scatter",
         "x": [
          1,
          2,
          3,
          4,
          5,
          6,
          7,
          8,
          9
         ],
         "y": [
          0.8635842800140381,
          15.855058670043945,
          0.3951467275619507,
          29.181621551513672,
          -2.9767580032348633,
          9.129521369934082,
          26.037521362304688,
          1.0418949127197266,
          53.891597747802734
         ]
        },
        {
         "line": {
          "color": "black",
          "width": 0.5
         },
         "opacity": 0.2,
         "type": "scatter",
         "x": [
          1,
          2,
          3,
          4,
          5,
          6,
          7,
          8,
          9
         ],
         "y": [
          7.331058025360107,
          -3.511112689971924,
          3.037400245666504,
          7.588655948638916,
          2.7969446182250977,
          3.2560555934906006,
          -3.6929616928100586,
          12.466994285583496,
          -2.6918792724609375
         ]
        },
        {
         "line": {
          "color": "black",
          "width": 0.5
         },
         "opacity": 0.2,
         "type": "scatter",
         "x": [
          1,
          2,
          3,
          4,
          5,
          6,
          7,
          8,
          9
         ],
         "y": [
          -2.7509920597076416,
          1.5104387998580933,
          -1.0264902114868164,
          -12.218842506408691,
          -6.828548431396484,
          -9.458024024963379,
          10.098958015441895,
          -21.701534271240234,
          17.66600227355957
         ]
        },
        {
         "line": {
          "color": "black",
          "width": 0.5
         },
         "opacity": 0.2,
         "type": "scatter",
         "x": [
          1,
          2,
          3,
          4,
          5,
          6,
          7,
          8,
          9
         ],
         "y": [
          -0.08987390995025635,
          9.307001113891602,
          -0.4652104377746582,
          8.330863952636719,
          -1.8056496381759644,
          -2.1241250038146973,
          10.274152755737305,
          -7.299067497253418,
          18.268184661865234
         ]
        },
        {
         "line": {
          "color": "black",
          "width": 0.5
         },
         "opacity": 0.2,
         "type": "scatter",
         "x": [
          1,
          2,
          3,
          4,
          5,
          6,
          7,
          8,
          9
         ],
         "y": [
          6.710035800933838,
          -4.4385833740234375,
          2.214641809463501,
          13.348549842834473,
          -1.2447831630706787,
          2.3400726318359375,
          -3.888662576675415,
          19.756019592285156,
          -2.449716567993164
         ]
        },
        {
         "line": {
          "color": "black",
          "width": 0.5
         },
         "opacity": 0.2,
         "type": "scatter",
         "x": [
          1,
          2,
          3,
          4,
          5,
          6,
          7,
          8,
          9
         ],
         "y": [
          -5.114595890045166,
          -4.765264511108398,
          -0.8728176951408386,
          -20.11636734008789,
          0.1730210781097412,
          -4.8259429931640625,
          -5.228748321533203,
          -11.75700569152832,
          -3.0283873081207275
         ]
        },
        {
         "line": {
          "color": "black",
          "width": 0.5
         },
         "opacity": 0.2,
         "type": "scatter",
         "x": [
          1,
          2,
          3,
          4,
          5,
          6,
          7,
          8,
          9
         ],
         "y": [
          0.18404513597488403,
          3.106152296066284,
          -0.4671594202518463,
          10.633054733276367,
          1.137239933013916,
          6.037035942077637,
          1.7391268014907837,
          5.560181617736816,
          4.297494888305664
         ]
        },
        {
         "line": {
          "color": "black",
          "width": 0.5
         },
         "opacity": 0.2,
         "type": "scatter",
         "x": [
          1,
          2,
          3,
          4,
          5,
          6,
          7,
          8,
          9
         ],
         "y": [
          -2.9798665046691895,
          -0.600970983505249,
          -1.4007787704467773,
          -6.889315605163574,
          -0.6844706535339355,
          -2.5298688411712646,
          -1.0734211206436157,
          -5.035128593444824,
          -0.5299319624900818
         ]
        },
        {
         "line": {
          "color": "black",
          "width": 0.5
         },
         "opacity": 0.2,
         "type": "scatter",
         "x": [
          1,
          2,
          3,
          4,
          5,
          6,
          7,
          8,
          9
         ],
         "y": [
          7.178501129150391,
          30.623794555664062,
          2.9912586212158203,
          75.05347442626953,
          0.7268195152282715,
          25.682952880859375,
          35.099403381347656,
          23.9627685546875,
          60.84515380859375
         ]
        },
        {
         "line": {
          "color": "black",
          "width": 0.5
         },
         "opacity": 0.2,
         "type": "scatter",
         "x": [
          1,
          2,
          3,
          4,
          5,
          6,
          7,
          8,
          9
         ],
         "y": [
          -8.799421310424805,
          5.943176746368408,
          -3.520120859146118,
          -4.453085422515869,
          1.005849003791809,
          3.3047311305999756,
          3.9233806133270264,
          -5.350263595581055,
          10.224689483642578
         ]
        },
        {
         "line": {
          "color": "black",
          "width": 0.5
         },
         "opacity": 0.2,
         "type": "scatter",
         "x": [
          1,
          2,
          3,
          4,
          5,
          6,
          7,
          8,
          9
         ],
         "y": [
          1.6979111433029175,
          1.5980331897735596,
          -4.911574840545654,
          7.945766448974609,
          0.5910537838935852,
          3.0756144523620605,
          6.063982963562012,
          8.038537979125977,
          15.205216407775879
         ]
        },
        {
         "line": {
          "color": "black",
          "width": 0.5
         },
         "opacity": 0.2,
         "type": "scatter",
         "x": [
          1,
          2,
          3,
          4,
          5,
          6,
          7,
          8,
          9
         ],
         "y": [
          0.9056053161621094,
          3.396021604537964,
          -0.06632658839225769,
          5.718451499938965,
          0.8426609039306641,
          1.6308830976486206,
          2.917975902557373,
          1.201124906539917,
          7.339790344238281
         ]
        },
        {
         "line": {
          "color": "black",
          "width": 0.5
         },
         "opacity": 0.2,
         "type": "scatter",
         "x": [
          1,
          2,
          3,
          4,
          5,
          6,
          7,
          8,
          9
         ],
         "y": [
          -3.877373695373535,
          -1.5146360397338867,
          -1.577039122581482,
          -0.9710531234741211,
          -2.0087392330169678,
          -0.9687567949295044,
          -4.187643051147461,
          -4.744857311248779,
          -14.420202255249023
         ]
        },
        {
         "line": {
          "color": "black",
          "width": 0.5
         },
         "opacity": 0.2,
         "type": "scatter",
         "x": [
          1,
          2,
          3,
          4,
          5,
          6,
          7,
          8,
          9
         ],
         "y": [
          -2.0490591526031494,
          9.721092224121094,
          -2.4403390884399414,
          11.280184745788574,
          -4.7289299964904785,
          -2.9463882446289062,
          14.533370971679688,
          -1.1110618114471436,
          12.529287338256836
         ]
        },
        {
         "line": {
          "color": "black",
          "width": 0.5
         },
         "opacity": 0.2,
         "type": "scatter",
         "x": [
          1,
          2,
          3,
          4,
          5,
          6,
          7,
          8,
          9
         ],
         "y": [
          -28.793560028076172,
          -15.607722282409668,
          -17.011491775512695,
          -89.119384765625,
          -4.471171855926514,
          -29.550689697265625,
          -16.847442626953125,
          -51.23809814453125,
          -17.345653533935547
         ]
        },
        {
         "line": {
          "color": "black",
          "width": 0.5
         },
         "opacity": 0.2,
         "type": "scatter",
         "x": [
          1,
          2,
          3,
          4,
          5,
          6,
          7,
          8,
          9
         ],
         "y": [
          19.401134490966797,
          7.008753776550293,
          4.517758846282959,
          74.75789642333984,
          0.5479835867881775,
          26.04190444946289,
          15.2980318069458,
          53.03237533569336,
          4.337505340576172
         ]
        },
        {
         "line": {
          "color": "black",
          "width": 0.5
         },
         "opacity": 0.2,
         "type": "scatter",
         "x": [
          1,
          2,
          3,
          4,
          5,
          6,
          7,
          8,
          9
         ],
         "y": [
          -9.153719902038574,
          -5.66179084777832,
          -0.5607790350914001,
          -41.77516555786133,
          -5.268377780914307,
          -21.42759895324707,
          -5.146660804748535,
          -23.87262535095215,
          -0.9341928958892822
         ]
        },
        {
         "line": {
          "color": "black",
          "width": 0.5
         },
         "opacity": 0.2,
         "type": "scatter",
         "x": [
          1,
          2,
          3,
          4,
          5,
          6,
          7,
          8,
          9
         ],
         "y": [
          -17.958131790161133,
          -7.515748977661133,
          -6.095190048217773,
          -56.957916259765625,
          -10.639616966247559,
          -29.529726028442383,
          -8.30640697479248,
          -39.988765716552734,
          -22.10995101928711
         ]
        },
        {
         "line": {
          "color": "black",
          "width": 0.5
         },
         "opacity": 0.2,
         "type": "scatter",
         "x": [
          1,
          2,
          3,
          4,
          5,
          6,
          7,
          8,
          9
         ],
         "y": [
          5.3202362060546875,
          9.295190811157227,
          1.4393203258514404,
          21.08056640625,
          3.873521089553833,
          12.89976692199707,
          12.208080291748047,
          11.133158683776855,
          42.0522575378418
         ]
        },
        {
         "line": {
          "color": "black",
          "width": 0.5
         },
         "opacity": 0.2,
         "type": "scatter",
         "x": [
          1,
          2,
          3,
          4,
          5,
          6,
          7,
          8,
          9
         ],
         "y": [
          -2.157100200653076,
          -16.278385162353516,
          1.5261834859848022,
          -39.15870666503906,
          -3.654846668243408,
          -17.480453491210938,
          -20.393692016601562,
          -21.771215438842773,
          -27.783340454101562
         ]
        },
        {
         "line": {
          "color": "black",
          "width": 0.5
         },
         "opacity": 0.2,
         "type": "scatter",
         "x": [
          1,
          2,
          3,
          4,
          5,
          6,
          7,
          8,
          9
         ],
         "y": [
          7.03475284576416,
          13.421626091003418,
          1.7634305953979492,
          44.84523391723633,
          3.6057181358337402,
          19.241634368896484,
          17.009521484375,
          24.023178100585938,
          35.14111328125
         ]
        },
        {
         "line": {
          "color": "black",
          "width": 0.5
         },
         "opacity": 0.2,
         "type": "scatter",
         "x": [
          1,
          2,
          3,
          4,
          5,
          6,
          7,
          8,
          9
         ],
         "y": [
          -10.066413879394531,
          -1.0042054653167725,
          -3.8247909545898438,
          -27.07886505126953,
          -1.4497175216674805,
          -8.902832984924316,
          -9.001886367797852,
          -19.061025619506836,
          -3.6533126831054688
         ]
        },
        {
         "line": {
          "color": "black",
          "width": 0.5
         },
         "opacity": 0.2,
         "type": "scatter",
         "x": [
          1,
          2,
          3,
          4,
          5,
          6,
          7,
          8,
          9
         ],
         "y": [
          1.7981945276260376,
          -6.6657633781433105,
          0.8234885334968567,
          -15.094179153442383,
          1.2150614261627197,
          -5.33976411819458,
          -5.002833366394043,
          -4.0001325607299805,
          -9.054572105407715
         ]
        },
        {
         "line": {
          "color": "black",
          "width": 0.5
         },
         "opacity": 0.2,
         "type": "scatter",
         "x": [
          1,
          2,
          3,
          4,
          5,
          6,
          7,
          8,
          9
         ],
         "y": [
          2.8119208812713623,
          -0.8395687937736511,
          -0.7117698192596436,
          -3.6892147064208984,
          2.9233062267303467,
          1.1085286140441895,
          1.8747397661209106,
          -1.013495922088623,
          8.323769569396973
         ]
        },
        {
         "line": {
          "color": "black",
          "width": 0.5
         },
         "opacity": 0.2,
         "type": "scatter",
         "x": [
          1,
          2,
          3,
          4,
          5,
          6,
          7,
          8,
          9
         ],
         "y": [
          -9.247222900390625,
          -5.391376972198486,
          -2.1073689460754395,
          -26.7510929107666,
          -4.452955722808838,
          -11.384456634521484,
          -4.875059604644775,
          -18.70037841796875,
          4.246206283569336
         ]
        },
        {
         "line": {
          "color": "black",
          "width": 0.5
         },
         "opacity": 0.2,
         "type": "scatter",
         "x": [
          1,
          2,
          3,
          4,
          5,
          6,
          7,
          8,
          9
         ],
         "y": [
          -12.966962814331055,
          13.290956497192383,
          -7.844837188720703,
          6.105591773986816,
          -1.6677525043487549,
          5.995461940765381,
          12.849138259887695,
          -8.621196746826172,
          34.534122467041016
         ]
        },
        {
         "line": {
          "color": "black",
          "width": 0.5
         },
         "opacity": 0.2,
         "type": "scatter",
         "x": [
          1,
          2,
          3,
          4,
          5,
          6,
          7,
          8,
          9
         ],
         "y": [
          12.26718807220459,
          0.4224056005477905,
          2.6343400478363037,
          26.89480209350586,
          5.782238006591797,
          13.191673278808594,
          -1.6867268085479736,
          22.50436019897461,
          -5.635854244232178
         ]
        },
        {
         "line": {
          "color": "black",
          "width": 0.5
         },
         "opacity": 0.2,
         "type": "scatter",
         "x": [
          1,
          2,
          3,
          4,
          5,
          6,
          7,
          8,
          9
         ],
         "y": [
          -6.879863739013672,
          -7.878590106964111,
          1.3928004503250122,
          -22.05904197692871,
          -4.896964073181152,
          -9.310148239135742,
          -8.84129524230957,
          -8.333765029907227,
          -12.409130096435547
         ]
        },
        {
         "line": {
          "color": "black",
          "width": 0.5
         },
         "opacity": 0.2,
         "type": "scatter",
         "x": [
          1,
          2,
          3,
          4,
          5,
          6,
          7,
          8,
          9
         ],
         "y": [
          -2.9394454956054688,
          0.3144019842147827,
          0.20148581266403198,
          -1.7937695980072021,
          1.0821056365966797,
          2.07962703704834,
          -3.666604995727539,
          -0.6902812719345093,
          1.6190814971923828
         ]
        },
        {
         "line": {
          "color": "black",
          "width": 0.5
         },
         "opacity": 0.2,
         "type": "scatter",
         "x": [
          1,
          2,
          3,
          4,
          5,
          6,
          7,
          8,
          9
         ],
         "y": [
          -4.369267463684082,
          5.873364448547363,
          -1.4737248420715332,
          -5.016502380371094,
          -1.9756031036376953,
          -3.850705146789551,
          11.953908920288086,
          -9.445222854614258,
          29.279808044433594
         ]
        },
        {
         "line": {
          "color": "black",
          "width": 0.5
         },
         "opacity": 0.2,
         "type": "scatter",
         "x": [
          1,
          2,
          3,
          4,
          5,
          6,
          7,
          8,
          9
         ],
         "y": [
          -38.60893249511719,
          -20.88520050048828,
          -22.228069305419922,
          -109.29550170898438,
          -14.65958023071289,
          -43.67990493774414,
          -18.54317855834961,
          -58.94120788574219,
          -39.21115493774414
         ]
        },
        {
         "line": {
          "color": "black",
          "width": 0.5
         },
         "opacity": 0.2,
         "type": "scatter",
         "x": [
          1,
          2,
          3,
          4,
          5,
          6,
          7,
          8,
          9
         ],
         "y": [
          -1.1658363342285156,
          -3.183861255645752,
          6.148377418518066,
          6.170280933380127,
          6.602911472320557,
          11.768220901489258,
          -6.238579273223877,
          22.92855453491211,
          -9.622152328491211
         ]
        },
        {
         "line": {
          "color": "black",
          "width": 0.5
         },
         "opacity": 0.2,
         "type": "scatter",
         "x": [
          1,
          2,
          3,
          4,
          5,
          6,
          7,
          8,
          9
         ],
         "y": [
          -10.559249877929688,
          16.976530075073242,
          -8.039710998535156,
          37.75603103637695,
          -9.495954513549805,
          9.752519607543945,
          20.169809341430664,
          5.967338562011719,
          19.007951736450195
         ]
        },
        {
         "line": {
          "color": "black",
          "width": 0.5
         },
         "opacity": 0.2,
         "type": "scatter",
         "x": [
          1,
          2,
          3,
          4,
          5,
          6,
          7,
          8,
          9
         ],
         "y": [
          -13.894798278808594,
          0.6863969564437866,
          -3.9530832767486572,
          -23.38534927368164,
          -4.565288543701172,
          -9.276521682739258,
          0.8718247413635254,
          -21.28453826904297,
          4.2737321853637695
         ]
        },
        {
         "line": {
          "color": "black",
          "width": 0.5
         },
         "opacity": 0.2,
         "type": "scatter",
         "x": [
          1,
          2,
          3,
          4,
          5,
          6,
          7,
          8,
          9
         ],
         "y": [
          7.814815998077393,
          0.8175348043441772,
          5.013411045074463,
          22.553491592407227,
          1.298269510269165,
          7.416182518005371,
          3.2069315910339355,
          21.724933624267578,
          2.574176788330078
         ]
        },
        {
         "line": {
          "color": "black",
          "width": 0.5
         },
         "opacity": 0.2,
         "type": "scatter",
         "x": [
          1,
          2,
          3,
          4,
          5,
          6,
          7,
          8,
          9
         ],
         "y": [
          25.066566467285156,
          6.029700756072998,
          10.71419620513916,
          67.29496765136719,
          9.475455284118652,
          29.321033477783203,
          6.905843734741211,
          50.95225524902344,
          11.780517578125
         ]
        },
        {
         "line": {
          "color": "black",
          "width": 0.5
         },
         "opacity": 0.2,
         "type": "scatter",
         "x": [
          1,
          2,
          3,
          4,
          5,
          6,
          7,
          8,
          9
         ],
         "y": [
          -9.263849258422852,
          2.8070120811462402,
          -5.838029384613037,
          -11.706636428833008,
          -0.8363170623779297,
          -2.188178539276123,
          -1.7957165241241455,
          -17.518611907958984,
          -16.31970977783203
         ]
        },
        {
         "line": {
          "color": "black",
          "width": 0.5
         },
         "opacity": 0.2,
         "type": "scatter",
         "x": [
          1,
          2,
          3,
          4,
          5,
          6,
          7,
          8,
          9
         ],
         "y": [
          11.129693984985352,
          -11.300313949584961,
          2.934325695037842,
          -12.67233657836914,
          2.422330856323242,
          -1.8749194145202637,
          -7.964165210723877,
          3.9921553134918213,
          -3.3188819885253906
         ]
        },
        {
         "line": {
          "color": "black",
          "width": 0.5
         },
         "opacity": 0.2,
         "type": "scatter",
         "x": [
          1,
          2,
          3,
          4,
          5,
          6,
          7,
          8,
          9
         ],
         "y": [
          11.365795135498047,
          4.61279296875,
          8.558255195617676,
          24.38395118713379,
          5.2747721672058105,
          12.19431209564209,
          -0.8328537940979004,
          20.041452407836914,
          12.118793487548828
         ]
        },
        {
         "line": {
          "color": "black",
          "width": 0.5
         },
         "opacity": 0.2,
         "type": "scatter",
         "x": [
          1,
          2,
          3,
          4,
          5,
          6,
          7,
          8,
          9
         ],
         "y": [
          -21.168535232543945,
          -7.131359577178955,
          -9.346132278442383,
          -62.93631362915039,
          -4.401461601257324,
          -21.61907196044922,
          -11.544404983520508,
          -42.282039642333984,
          9.97311019897461
         ]
        },
        {
         "line": {
          "color": "black",
          "width": 0.5
         },
         "opacity": 0.2,
         "type": "scatter",
         "x": [
          1,
          2,
          3,
          4,
          5,
          6,
          7,
          8,
          9
         ],
         "y": [
          -2.902320623397827,
          1.0773141384124756,
          -1.2098337411880493,
          -8.638079643249512,
          -0.7547722458839417,
          -3.989744186401367,
          -0.6742579936981201,
          -7.385777473449707,
          6.612858295440674
         ]
        },
        {
         "line": {
          "color": "black",
          "width": 0.5
         },
         "opacity": 0.2,
         "type": "scatter",
         "x": [
          1,
          2,
          3,
          4,
          5,
          6,
          7,
          8,
          9
         ],
         "y": [
          10.892903327941895,
          -13.220212936401367,
          2.569767951965332,
          14.692672729492188,
          6.126542091369629,
          12.500936508178711,
          -15.7909574508667,
          30.050819396972656,
          -34.81208419799805
         ]
        },
        {
         "line": {
          "color": "black",
          "width": 0.5
         },
         "opacity": 0.2,
         "type": "scatter",
         "x": [
          1,
          2,
          3,
          4,
          5,
          6,
          7,
          8,
          9
         ],
         "y": [
          8.322944641113281,
          -2.7567660808563232,
          3.41163969039917,
          15.324098587036133,
          2.463052272796631,
          6.596846580505371,
          -4.606377124786377,
          15.153276443481445,
          -14.833708763122559
         ]
        },
        {
         "line": {
          "color": "black",
          "width": 0.5
         },
         "opacity": 0.2,
         "type": "scatter",
         "x": [
          1,
          2,
          3,
          4,
          5,
          6,
          7,
          8,
          9
         ],
         "y": [
          -3.8910794258117676,
          3.6223373413085938,
          0.5331602692604065,
          -14.909490585327148,
          -2.474135160446167,
          -8.142621040344238,
          8.321951866149902,
          -14.356670379638672,
          19.96382713317871
         ]
        },
        {
         "line": {
          "color": "black",
          "width": 0.5
         },
         "opacity": 0.2,
         "type": "scatter",
         "x": [
          1,
          2,
          3,
          4,
          5,
          6,
          7,
          8,
          9
         ],
         "y": [
          5.854092597961426,
          -15.934021949768066,
          -0.21737957000732422,
          -5.95594596862793,
          1.645042061805725,
          0.0718998908996582,
          -20.365623474121094,
          20.50323486328125,
          -26.12410545349121
         ]
        },
        {
         "line": {
          "color": "black",
          "width": 0.5
         },
         "opacity": 0.2,
         "type": "scatter",
         "x": [
          1,
          2,
          3,
          4,
          5,
          6,
          7,
          8,
          9
         ],
         "y": [
          -8.409774780273438,
          -4.425075054168701,
          -3.3130874633789062,
          -24.89376449584961,
          -2.0680179595947266,
          -9.334693908691406,
          -7.882559776306152,
          -16.211143493652344,
          -8.088154792785645
         ]
        },
        {
         "line": {
          "color": "black",
          "width": 0.5
         },
         "opacity": 0.2,
         "type": "scatter",
         "x": [
          1,
          2,
          3,
          4,
          5,
          6,
          7,
          8,
          9
         ],
         "y": [
          -7.010565280914307,
          -14.774428367614746,
          -1.8488037586212158,
          -44.51161193847656,
          -3.8301329612731934,
          -18.84113121032715,
          -15.349777221679688,
          -22.1987247467041,
          -34.679561614990234
         ]
        },
        {
         "line": {
          "color": "black",
          "width": 0.5
         },
         "opacity": 0.2,
         "type": "scatter",
         "x": [
          1,
          2,
          3,
          4,
          5,
          6,
          7,
          8,
          9
         ],
         "y": [
          -0.8566034436225891,
          6.341394424438477,
          0.24030059576034546,
          1.9075050354003906,
          0.3430468440055847,
          1.810943841934204,
          7.973397731781006,
          -4.912465572357178,
          17.495136260986328
         ]
        },
        {
         "line": {
          "color": "black",
          "width": 0.5
         },
         "opacity": 0.2,
         "type": "scatter",
         "x": [
          1,
          2,
          3,
          4,
          5,
          6,
          7,
          8,
          9
         ],
         "y": [
          1.115309476852417,
          6.3774871826171875,
          4.131283283233643,
          16.481090545654297,
          -0.023255467414855957,
          4.026660919189453,
          -1.0284152030944824,
          5.142205238342285,
          -4.956205368041992
         ]
        },
        {
         "line": {
          "color": "black",
          "width": 0.5
         },
         "opacity": 0.2,
         "type": "scatter",
         "x": [
          1,
          2,
          3,
          4,
          5,
          6,
          7,
          8,
          9
         ],
         "y": [
          -42.55088806152344,
          -11.994871139526367,
          -19.956212997436523,
          -110.85629272460938,
          -3.0990054607391357,
          -23.308303833007812,
          -34.924766540527344,
          -58.74201202392578,
          -53.10255432128906
         ]
        },
        {
         "line": {
          "color": "black",
          "width": 0.5
         },
         "opacity": 0.2,
         "type": "scatter",
         "x": [
          1,
          2,
          3,
          4,
          5,
          6,
          7,
          8,
          9
         ],
         "y": [
          9.875734329223633,
          -9.510186195373535,
          5.006250381469727,
          8.407240867614746,
          3.3883683681488037,
          5.559778213500977,
          -4.88160514831543,
          15.48112678527832,
          -5.719562530517578
         ]
        },
        {
         "line": {
          "color": "black",
          "width": 0.5
         },
         "opacity": 0.2,
         "type": "scatter",
         "x": [
          1,
          2,
          3,
          4,
          5,
          6,
          7,
          8,
          9
         ],
         "y": [
          22.11471939086914,
          23.310230255126953,
          3.2267682552337646,
          75.26220703125,
          0.41672077775001526,
          18.042953491210938,
          36.47855758666992,
          35.85182189941406,
          43.59323501586914
         ]
        },
        {
         "line": {
          "color": "black",
          "width": 0.5
         },
         "opacity": 0.2,
         "type": "scatter",
         "x": [
          1,
          2,
          3,
          4,
          5,
          6,
          7,
          8,
          9
         ],
         "y": [
          -2.7389259338378906,
          4.127946853637695,
          -0.5287396907806396,
          13.955438613891602,
          2.4898011684417725,
          12.284659385681152,
          3.8856310844421387,
          6.9178972244262695,
          21.117095947265625
         ]
        },
        {
         "line": {
          "color": "black",
          "width": 0.5
         },
         "opacity": 0.2,
         "type": "scatter",
         "x": [
          1,
          2,
          3,
          4,
          5,
          6,
          7,
          8,
          9
         ],
         "y": [
          13.844034194946289,
          2.2218775749206543,
          5.7075676918029785,
          27.793731689453125,
          -3.333225727081299,
          0.6145673990249634,
          5.050755500793457,
          16.175485610961914,
          -18.210235595703125
         ]
        },
        {
         "line": {
          "color": "black",
          "width": 0.5
         },
         "opacity": 0.2,
         "type": "scatter",
         "x": [
          1,
          2,
          3,
          4,
          5,
          6,
          7,
          8,
          9
         ],
         "y": [
          -5.748676300048828,
          3.474545955657959,
          -2.70424747467041,
          -6.388554573059082,
          0.77602618932724,
          -0.1093406081199646,
          -1.741269826889038,
          -9.437803268432617,
          2.1180498600006104
         ]
        },
        {
         "line": {
          "color": "black",
          "width": 0.5
         },
         "opacity": 0.2,
         "type": "scatter",
         "x": [
          1,
          2,
          3,
          4,
          5,
          6,
          7,
          8,
          9
         ],
         "y": [
          -2.987846612930298,
          1.963192105293274,
          -2.135871410369873,
          0.5835399627685547,
          0.3297594487667084,
          1.5121610164642334,
          2.674286127090454,
          -0.35056328773498535,
          7.843952178955078
         ]
        },
        {
         "line": {
          "color": "black",
          "width": 0.5
         },
         "opacity": 0.2,
         "type": "scatter",
         "x": [
          1,
          2,
          3,
          4,
          5,
          6,
          7,
          8,
          9
         ],
         "y": [
          -10.804512023925781,
          -2.807086944580078,
          -7.238185882568359,
          -25.569580078125,
          -4.836645126342773,
          -7.392580509185791,
          -7.1085405349731445,
          -18.32888412475586,
          -8.452653884887695
         ]
        },
        {
         "line": {
          "color": "black",
          "width": 0.5
         },
         "opacity": 0.2,
         "type": "scatter",
         "x": [
          1,
          2,
          3,
          4,
          5,
          6,
          7,
          8,
          9
         ],
         "y": [
          6.836846351623535,
          1.323372721672058,
          7.888936996459961,
          8.563802719116211,
          6.832711219787598,
          5.9894328117370605,
          -3.1465773582458496,
          11.982532501220703,
          5.300327301025391
         ]
        },
        {
         "line": {
          "color": "black",
          "width": 0.5
         },
         "opacity": 0.2,
         "type": "scatter",
         "x": [
          1,
          2,
          3,
          4,
          5,
          6,
          7,
          8,
          9
         ],
         "y": [
          -6.40120267868042,
          -3.6003458499908447,
          -4.301900386810303,
          -24.028305053710938,
          -0.11617159843444824,
          -4.419021129608154,
          -0.3719637393951416,
          -14.016294479370117,
          11.10023307800293
         ]
        },
        {
         "line": {
          "color": "black",
          "width": 0.5
         },
         "opacity": 0.2,
         "type": "scatter",
         "x": [
          1,
          2,
          3,
          4,
          5,
          6,
          7,
          8,
          9
         ],
         "y": [
          -4.72797155380249,
          -3.883148670196533,
          -2.479964256286621,
          -15.996112823486328,
          -1.8026880025863647,
          -7.807413101196289,
          -7.207779884338379,
          -6.228374481201172,
          -11.6474609375
         ]
        },
        {
         "line": {
          "color": "black",
          "width": 0.5
         },
         "opacity": 0.2,
         "type": "scatter",
         "x": [
          1,
          2,
          3,
          4,
          5,
          6,
          7,
          8,
          9
         ],
         "y": [
          -10.86037826538086,
          4.7552289962768555,
          -3.0392980575561523,
          -21.221935272216797,
          -0.9193122386932373,
          -7.6471943855285645,
          4.282444477081299,
          -21.712881088256836,
          19.987577438354492
         ]
        },
        {
         "line": {
          "color": "black",
          "width": 0.5
         },
         "opacity": 0.2,
         "type": "scatter",
         "x": [
          1,
          2,
          3,
          4,
          5,
          6,
          7,
          8,
          9
         ],
         "y": [
          0.5950665473937988,
          -0.08962911367416382,
          -1.0565383434295654,
          5.5151777267456055,
          -2.4340744018554688,
          1.121891736984253,
          2.3121814727783203,
          2.6186983585357666,
          0.9979040026664734
         ]
        },
        {
         "line": {
          "color": "black",
          "width": 0.5
         },
         "opacity": 0.2,
         "type": "scatter",
         "x": [
          1,
          2,
          3,
          4,
          5,
          6,
          7,
          8,
          9
         ],
         "y": [
          -10.46205997467041,
          13.236593246459961,
          -8.054518699645996,
          -9.196630477905273,
          1.3396515846252441,
          0.8154796957969666,
          8.149489402770996,
          -33.7491340637207,
          8.475299835205078
         ]
        },
        {
         "line": {
          "color": "black",
          "width": 0.5
         },
         "opacity": 0.2,
         "type": "scatter",
         "x": [
          1,
          2,
          3,
          4,
          5,
          6,
          7,
          8,
          9
         ],
         "y": [
          5.121331691741943,
          -14.09129524230957,
          0.6593384146690369,
          -6.533017635345459,
          2.077578544616699,
          2.943526268005371,
          -13.03510856628418,
          10.563922882080078,
          -31.25368881225586
         ]
        },
        {
         "line": {
          "color": "black",
          "width": 0.5
         },
         "opacity": 0.2,
         "type": "scatter",
         "x": [
          1,
          2,
          3,
          4,
          5,
          6,
          7,
          8,
          9
         ],
         "y": [
          0.38210368156433105,
          -2.5409069061279297,
          0.4554668664932251,
          -4.12192440032959,
          0.5752735733985901,
          -1.1661667823791504,
          -2.5920724868774414,
          -0.9805686473846436,
          -3.967113971710205
         ]
        },
        {
         "line": {
          "color": "black",
          "width": 0.5
         },
         "opacity": 0.2,
         "type": "scatter",
         "x": [
          1,
          2,
          3,
          4,
          5,
          6,
          7,
          8,
          9
         ],
         "y": [
          -7.404184818267822,
          -0.5014517903327942,
          -5.486013412475586,
          -15.84919261932373,
          -2.1566154956817627,
          -6.67809534072876,
          0.08148384094238281,
          -12.786766052246094,
          1.4042675495147705
         ]
        },
        {
         "line": {
          "color": "black",
          "width": 0.5
         },
         "opacity": 0.2,
         "type": "scatter",
         "x": [
          1,
          2,
          3,
          4,
          5,
          6,
          7,
          8,
          9
         ],
         "y": [
          -47.28138732910156,
          5.1910505294799805,
          -16.998306274414062,
          -97.40824127197266,
          -10.57268238067627,
          -34.1492919921875,
          -8.231144905090332,
          -89.58863067626953,
          24.162654876708984
         ]
        },
        {
         "line": {
          "color": "black",
          "width": 0.5
         },
         "opacity": 0.2,
         "type": "scatter",
         "x": [
          1,
          2,
          3,
          4,
          5,
          6,
          7,
          8,
          9
         ],
         "y": [
          -14.47199535369873,
          5.3553009033203125,
          -8.309767723083496,
          -24.182846069335938,
          -10.206257820129395,
          -17.541101455688477,
          8.27726936340332,
          -31.762531280517578,
          15.45260238647461
         ]
        },
        {
         "line": {
          "color": "black",
          "width": 0.5
         },
         "opacity": 0.2,
         "type": "scatter",
         "x": [
          1,
          2,
          3,
          4,
          5,
          6,
          7,
          8,
          9
         ],
         "y": [
          -7.52523946762085,
          -5.742969512939453,
          -2.6539266109466553,
          -34.52327346801758,
          -0.7869033813476562,
          -12.708529472351074,
          -7.538183212280273,
          -19.956287384033203,
          -2.25883412361145
         ]
        },
        {
         "line": {
          "color": "black",
          "width": 0.5
         },
         "opacity": 0.2,
         "type": "scatter",
         "x": [
          1,
          2,
          3,
          4,
          5,
          6,
          7,
          8,
          9
         ],
         "y": [
          -19.34980010986328,
          9.597521781921387,
          0.9349058270454407,
          -9.805749893188477,
          -7.081830024719238,
          -3.3734192848205566,
          6.718426704406738,
          -22.83607292175293,
          29.967212677001953
         ]
        },
        {
         "line": {
          "color": "black",
          "width": 0.5
         },
         "opacity": 0.2,
         "type": "scatter",
         "x": [
          1,
          2,
          3,
          4,
          5,
          6,
          7,
          8,
          9
         ],
         "y": [
          0.5780918598175049,
          -6.840665817260742,
          3.2754263877868652,
          -26.761417388916016,
          3.2050881385803223,
          -10.675261497497559,
          -9.875901222229004,
          -9.252355575561523,
          -9.725526809692383
         ]
        },
        {
         "line": {
          "color": "black",
          "width": 0.5
         },
         "opacity": 0.2,
         "type": "scatter",
         "x": [
          1,
          2,
          3,
          4,
          5,
          6,
          7,
          8,
          9
         ],
         "y": [
          -1.6144447326660156,
          -0.153196319937706,
          -0.6896328330039978,
          -2.4317336082458496,
          0.3513294756412506,
          -0.001270681619644165,
          -1.397697925567627,
          -1.5211923122406006,
          0.554480791091919
         ]
        },
        {
         "line": {
          "color": "black",
          "width": 0.5
         },
         "opacity": 0.2,
         "type": "scatter",
         "x": [
          1,
          2,
          3,
          4,
          5,
          6,
          7,
          8,
          9
         ],
         "y": [
          -7.622766494750977,
          30.425445556640625,
          -6.691988945007324,
          20.967052459716797,
          -6.249680519104004,
          0.29769301414489746,
          44.24212646484375,
          -21.19017791748047,
          66.86258697509766
         ]
        },
        {
         "line": {
          "color": "black",
          "width": 0.5
         },
         "opacity": 0.2,
         "type": "scatter",
         "x": [
          1,
          2,
          3,
          4,
          5,
          6,
          7,
          8,
          9
         ],
         "y": [
          12.193351745605469,
          3.5625908374786377,
          6.549333095550537,
          24.830087661743164,
          3.734951972961426,
          8.923105239868164,
          4.1485066413879395,
          17.916725158691406,
          8.993866920471191
         ]
        },
        {
         "line": {
          "color": "black",
          "width": 0.5
         },
         "opacity": 0.2,
         "type": "scatter",
         "x": [
          1,
          2,
          3,
          4,
          5,
          6,
          7,
          8,
          9
         ],
         "y": [
          -13.688911437988281,
          -16.06045150756836,
          -6.2800421714782715,
          -46.245582580566406,
          -2.7411305904388428,
          -13.209945678710938,
          -17.866012573242188,
          -17.450716018676758,
          -29.608985900878906
         ]
        },
        {
         "line": {
          "color": "black",
          "width": 0.5
         },
         "opacity": 0.2,
         "type": "scatter",
         "x": [
          1,
          2,
          3,
          4,
          5,
          6,
          7,
          8,
          9
         ],
         "y": [
          -9.073266983032227,
          0.34055861830711365,
          -3.51948881149292,
          -16.064552307128906,
          -5.051385879516602,
          -7.2369890213012695,
          2.9938106536865234,
          -15.217682838439941,
          9.952205657958984
         ]
        },
        {
         "line": {
          "color": "black",
          "width": 0.5
         },
         "opacity": 0.2,
         "type": "scatter",
         "x": [
          1,
          2,
          3,
          4,
          5,
          6,
          7,
          8,
          9
         ],
         "y": [
          3.2229042053222656,
          -2.9241747856140137,
          -0.9850552678108215,
          9.589591026306152,
          -0.42648330330848694,
          4.573517322540283,
          -6.377646446228027,
          11.17563247680664,
          -21.476783752441406
         ]
        },
        {
         "line": {
          "color": "black",
          "width": 0.5
         },
         "opacity": 0.2,
         "type": "scatter",
         "x": [
          1,
          2,
          3,
          4,
          5,
          6,
          7,
          8,
          9
         ],
         "y": [
          2.890080451965332,
          -12.167771339416504,
          7.145833969116211,
          -13.96385669708252,
          -8.755736351013184,
          -12.704999923706055,
          -13.492981910705566,
          -9.424467086791992,
          -33.50413513183594
         ]
        },
        {
         "line": {
          "color": "black",
          "width": 0.5
         },
         "opacity": 0.2,
         "type": "scatter",
         "x": [
          1,
          2,
          3,
          4,
          5,
          6,
          7,
          8,
          9
         ],
         "y": [
          19.412803649902344,
          14.290023803710938,
          8.002381324768066,
          62.27922058105469,
          1.7450509071350098,
          17.062171936035156,
          22.664588928222656,
          30.948078155517578,
          24.986482620239258
         ]
        },
        {
         "line": {
          "color": "black",
          "width": 0.5
         },
         "opacity": 0.2,
         "type": "scatter",
         "x": [
          1,
          2,
          3,
          4,
          5,
          6,
          7,
          8,
          9
         ],
         "y": [
          0.36002838611602783,
          4.810304164886475,
          0.9937034845352173,
          7.904478549957275,
          -0.07634681463241577,
          1.6055048704147339,
          7.339047431945801,
          -0.4830644130706787,
          11.202127456665039
         ]
        },
        {
         "line": {
          "color": "black",
          "width": 0.5
         },
         "opacity": 0.2,
         "type": "scatter",
         "x": [
          1,
          2,
          3,
          4,
          5,
          6,
          7,
          8,
          9
         ],
         "y": [
          1.7265522480010986,
          6.674304962158203,
          -1.0734877586364746,
          2.077981948852539,
          -0.3476272225379944,
          -4.119699001312256,
          10.581045150756836,
          1.2808713912963867,
          11.89865493774414
         ]
        },
        {
         "line": {
          "color": "black",
          "width": 0.5
         },
         "opacity": 0.2,
         "type": "scatter",
         "x": [
          1,
          2,
          3,
          4,
          5,
          6,
          7,
          8,
          9
         ],
         "y": [
          -7.702214241027832,
          3.779515027999878,
          -8.508613586425781,
          -8.925637245178223,
          -5.244349479675293,
          -8.852109909057617,
          6.566844940185547,
          -12.395508766174316,
          -2.235147476196289
         ]
        },
        {
         "line": {
          "color": "black",
          "width": 0.5
         },
         "opacity": 0.2,
         "type": "scatter",
         "x": [
          1,
          2,
          3,
          4,
          5,
          6,
          7,
          8,
          9
         ],
         "y": [
          22.673309326171875,
          6.578326225280762,
          8.354578971862793,
          59.65337371826172,
          11.593639373779297,
          28.938983917236328,
          8.558876037597656,
          48.88172149658203,
          19.4030818939209
         ]
        },
        {
         "line": {
          "color": "black",
          "width": 0.5
         },
         "opacity": 0.2,
         "type": "scatter",
         "x": [
          1,
          2,
          3,
          4,
          5,
          6,
          7,
          8,
          9
         ],
         "y": [
          33.16020584106445,
          6.296619415283203,
          13.07436752319336,
          95.15519714355469,
          6.227954864501953,
          32.172645568847656,
          12.31668472290039,
          72.09832763671875,
          3.666642189025879
         ]
        },
        {
         "line": {
          "color": "black",
          "width": 0.5
         },
         "opacity": 0.2,
         "type": "scatter",
         "x": [
          1,
          2,
          3,
          4,
          5,
          6,
          7,
          8,
          9
         ],
         "y": [
          1.984758734703064,
          -0.18436110019683838,
          -0.11275682598352432,
          0.4106966257095337,
          -0.679058849811554,
          -1.193103551864624,
          -0.9474884271621704,
          3.5928118228912354,
          -7.130352973937988
         ]
        },
        {
         "line": {
          "color": "black",
          "width": 0.5
         },
         "opacity": 0.2,
         "type": "scatter",
         "x": [
          1,
          2,
          3,
          4,
          5,
          6,
          7,
          8,
          9
         ],
         "y": [
          -13.939006805419922,
          -7.815436840057373,
          -1.9252119064331055,
          -29.898223876953125,
          -5.27463436126709,
          -7.5009331703186035,
          -6.353336811065674,
          -17.5223445892334,
          -9.858587265014648
         ]
        },
        {
         "line": {
          "color": "black",
          "width": 0.5
         },
         "opacity": 0.2,
         "type": "scatter",
         "x": [
          1,
          2,
          3,
          4,
          5,
          6,
          7,
          8,
          9
         ],
         "y": [
          13.325298309326172,
          -1.9424312114715576,
          6.5026021003723145,
          33.65144348144531,
          6.54953145980835,
          13.668808937072754,
          -5.04117488861084,
          33.56025695800781,
          -4.060005187988281
         ]
        },
        {
         "line": {
          "color": "black",
          "width": 0.5
         },
         "opacity": 0.2,
         "type": "scatter",
         "x": [
          1,
          2,
          3,
          4,
          5,
          6,
          7,
          8,
          9
         ],
         "y": [
          -0.7925987243652344,
          8.074271202087402,
          -2.3010823726654053,
          24.77277374267578,
          -1.8903907537460327,
          7.904764652252197,
          12.145462036132812,
          17.508087158203125,
          14.004755020141602
         ]
        },
        {
         "line": {
          "color": "black",
          "width": 0.5
         },
         "opacity": 0.2,
         "type": "scatter",
         "x": [
          1,
          2,
          3,
          4,
          5,
          6,
          7,
          8,
          9
         ],
         "y": [
          -0.8567075729370117,
          2.0830981731414795,
          -0.31378570199012756,
          3.0135321617126465,
          -1.1227920055389404,
          -0.6654987931251526,
          2.8288135528564453,
          0.6168954968452454,
          0.9921615123748779
         ]
        },
        {
         "line": {
          "color": "black",
          "width": 0.5
         },
         "opacity": 0.2,
         "type": "scatter",
         "x": [
          1,
          2,
          3,
          4,
          5,
          6,
          7,
          8,
          9
         ],
         "y": [
          -10.464864730834961,
          3.9535834789276123,
          -3.8911006450653076,
          -24.127479553222656,
          0.508027970790863,
          -6.791882038116455,
          -1.027695894241333,
          -20.549182891845703,
          18.138084411621094
         ]
        },
        {
         "line": {
          "color": "black",
          "width": 0.5
         },
         "opacity": 0.2,
         "type": "scatter",
         "x": [
          1,
          2,
          3,
          4,
          5,
          6,
          7,
          8,
          9
         ],
         "y": [
          11.627631187438965,
          13.299664497375488,
          10.847502708435059,
          27.882339477539062,
          1.137392282485962,
          8.143320083618164,
          11.922901153564453,
          9.51082992553711,
          5.604177951812744
         ]
        },
        {
         "line": {
          "color": "black",
          "width": 0.5
         },
         "opacity": 0.2,
         "type": "scatter",
         "x": [
          1,
          2,
          3,
          4,
          5,
          6,
          7,
          8,
          9
         ],
         "y": [
          -1.1799813508987427,
          -2.685823440551758,
          1.6831142902374268,
          -13.185126304626465,
          6.580212593078613,
          1.3469704389572144,
          -8.634807586669922,
          -3.183281660079956,
          1.3043771982192993
         ]
        },
        {
         "line": {
          "color": "black",
          "width": 0.5
         },
         "opacity": 0.2,
         "type": "scatter",
         "x": [
          1,
          2,
          3,
          4,
          5,
          6,
          7,
          8,
          9
         ],
         "y": [
          0.4643666744232178,
          -7.928004264831543,
          -1.1987988948822021,
          -4.967066764831543,
          -2.174628496170044,
          -3.1719398498535156,
          -6.604651927947998,
          0.40892791748046875,
          -31.622655868530273
         ]
        },
        {
         "line": {
          "color": "black",
          "width": 0.5
         },
         "opacity": 0.2,
         "type": "scatter",
         "x": [
          1,
          2,
          3,
          4,
          5,
          6,
          7,
          8,
          9
         ],
         "y": [
          15.636762619018555,
          -0.47365617752075195,
          8.976520538330078,
          25.575206756591797,
          5.808347702026367,
          11.183040618896484,
          1.9819090366363525,
          24.42928123474121,
          15.571797370910645
         ]
        },
        {
         "line": {
          "color": "black",
          "width": 0.5
         },
         "opacity": 0.2,
         "type": "scatter",
         "x": [
          1,
          2,
          3,
          4,
          5,
          6,
          7,
          8,
          9
         ],
         "y": [
          2.1249194145202637,
          -2.7049996852874756,
          0.7718917727470398,
          -2.094099283218384,
          0.39184054732322693,
          -1.040938138961792,
          -1.40995454788208,
          2.630985975265503,
          -0.8958444595336914
         ]
        },
        {
         "line": {
          "color": "black",
          "width": 0.5
         },
         "opacity": 0.2,
         "type": "scatter",
         "x": [
          1,
          2,
          3,
          4,
          5,
          6,
          7,
          8,
          9
         ],
         "y": [
          4.419369220733643,
          -1.740796685218811,
          -0.24067196249961853,
          -0.026911497116088867,
          2.3159937858581543,
          1.727012038230896,
          -0.31446361541748047,
          2.8342490196228027,
          9.765840530395508
         ]
        },
        {
         "line": {
          "color": "black",
          "width": 0.5
         },
         "opacity": 0.2,
         "type": "scatter",
         "x": [
          1,
          2,
          3,
          4,
          5,
          6,
          7,
          8,
          9
         ],
         "y": [
          -0.6199663877487183,
          3.695509433746338,
          -0.2891780734062195,
          4.875258445739746,
          -1.0673221349716187,
          0.9150317907333374,
          4.598964691162109,
          0.2347416877746582,
          10.063560485839844
         ]
        },
        {
         "line": {
          "color": "black",
          "width": 0.5
         },
         "opacity": 0.2,
         "type": "scatter",
         "x": [
          1,
          2,
          3,
          4,
          5,
          6,
          7,
          8,
          9
         ],
         "y": [
          -0.8610736727714539,
          -4.725708484649658,
          -0.8425742387771606,
          -10.471868515014648,
          -0.21637888252735138,
          -3.9238839149475098,
          -6.60255241394043,
          -0.9809246063232422,
          -5.704008102416992
         ]
        },
        {
         "line": {
          "color": "black",
          "width": 0.5
         },
         "opacity": 0.2,
         "type": "scatter",
         "x": [
          1,
          2,
          3,
          4,
          5,
          6,
          7,
          8,
          9
         ],
         "y": [
          39.889163970947266,
          -19.041675567626953,
          12.176654815673828,
          66.06439208984375,
          21.916954040527344,
          42.33761978149414,
          -28.785751342773438,
          92.86383819580078,
          -66.53302001953125
         ]
        },
        {
         "line": {
          "color": "black",
          "width": 0.5
         },
         "opacity": 0.2,
         "type": "scatter",
         "x": [
          1,
          2,
          3,
          4,
          5,
          6,
          7,
          8,
          9
         ],
         "y": [
          -6.664344787597656,
          -6.811316967010498,
          -1.063998818397522,
          -24.982744216918945,
          -0.9610369205474854,
          -8.27984619140625,
          -11.588869094848633,
          -13.37937068939209,
          -15.590547561645508
         ]
        },
        {
         "line": {
          "color": "black",
          "width": 0.5
         },
         "opacity": 0.2,
         "type": "scatter",
         "x": [
          1,
          2,
          3,
          4,
          5,
          6,
          7,
          8,
          9
         ],
         "y": [
          10.222338676452637,
          -6.672558784484863,
          5.785604476928711,
          10.083527565002441,
          4.453700542449951,
          5.477877140045166,
          -6.929379463195801,
          16.705341339111328,
          -13.217826843261719
         ]
        },
        {
         "line": {
          "color": "black",
          "width": 0.5
         },
         "opacity": 0.2,
         "type": "scatter",
         "x": [
          1,
          2,
          3,
          4,
          5,
          6,
          7,
          8,
          9
         ],
         "y": [
          -10.282727241516113,
          -8.787515640258789,
          -4.534433841705322,
          -35.809669494628906,
          -3.6450119018554688,
          -13.383594512939453,
          -11.150283813476562,
          -17.971477508544922,
          -14.7047119140625
         ]
        },
        {
         "line": {
          "color": "black",
          "width": 0.5
         },
         "opacity": 0.2,
         "type": "scatter",
         "x": [
          1,
          2,
          3,
          4,
          5,
          6,
          7,
          8,
          9
         ],
         "y": [
          -13.988357543945312,
          8.620226860046387,
          -1.8022220134735107,
          5.953310966491699,
          -5.340151786804199,
          1.6480622291564941,
          4.635342597961426,
          -7.1593017578125,
          18.53326416015625
         ]
        },
        {
         "line": {
          "color": "black",
          "width": 0.5
         },
         "opacity": 0.2,
         "type": "scatter",
         "x": [
          1,
          2,
          3,
          4,
          5,
          6,
          7,
          8,
          9
         ],
         "y": [
          23.841825485229492,
          -6.499518871307373,
          12.194294929504395,
          45.291011810302734,
          3.3209128379821777,
          14.257104873657227,
          -0.8510962128639221,
          36.938419342041016,
          -14.473641395568848
         ]
        },
        {
         "line": {
          "color": "black",
          "width": 0.5
         },
         "opacity": 0.2,
         "type": "scatter",
         "x": [
          1,
          2,
          3,
          4,
          5,
          6,
          7,
          8,
          9
         ],
         "y": [
          -9.729199409484863,
          -22.262165069580078,
          -1.2307848930358887,
          -59.63042068481445,
          3.881783962249756,
          -9.711830139160156,
          -30.044662475585938,
          -24.244138717651367,
          -47.750423431396484
         ]
        },
        {
         "line": {
          "color": "black",
          "width": 0.5
         },
         "opacity": 0.2,
         "type": "scatter",
         "x": [
          1,
          2,
          3,
          4,
          5,
          6,
          7,
          8,
          9
         ],
         "y": [
          1.391117811203003,
          7.407921314239502,
          1.1609776020050049,
          7.309074401855469,
          2.720914363861084,
          8.073121070861816,
          2.815621852874756,
          -1.9371838569641113,
          13.804935455322266
         ]
        },
        {
         "line": {
          "color": "black",
          "width": 0.5
         },
         "opacity": 0.2,
         "type": "scatter",
         "x": [
          1,
          2,
          3,
          4,
          5,
          6,
          7,
          8,
          9
         ],
         "y": [
          13.526529312133789,
          -2.8546791076660156,
          9.871785163879395,
          25.438594818115234,
          4.04939603805542,
          12.413662910461426,
          -9.335582733154297,
          30.671436309814453,
          -19.930744171142578
         ]
        },
        {
         "line": {
          "color": "black",
          "width": 0.5
         },
         "opacity": 0.2,
         "type": "scatter",
         "x": [
          1,
          2,
          3,
          4,
          5,
          6,
          7,
          8,
          9
         ],
         "y": [
          -25.50337028503418,
          -12.889312744140625,
          -11.733711242675781,
          -92.78019714355469,
          -14.835701942443848,
          -45.85966873168945,
          -7.976114749908447,
          -65.09327697753906,
          -25.617963790893555
         ]
        },
        {
         "line": {
          "color": "black",
          "width": 0.5
         },
         "opacity": 0.2,
         "type": "scatter",
         "x": [
          1,
          2,
          3,
          4,
          5,
          6,
          7,
          8,
          9
         ],
         "y": [
          -37.04780197143555,
          -19.125795364379883,
          -23.51715850830078,
          -111.03567504882812,
          -5.5031352043151855,
          -33.916038513183594,
          -29.150691986083984,
          -69.1045150756836,
          -41.098533630371094
         ]
        },
        {
         "line": {
          "color": "black",
          "width": 0.5
         },
         "opacity": 0.2,
         "type": "scatter",
         "x": [
          1,
          2,
          3,
          4,
          5,
          6,
          7,
          8,
          9
         ],
         "y": [
          7.937516212463379,
          -9.311511993408203,
          8.044590950012207,
          5.135819911956787,
          0.14443540573120117,
          1.6492674350738525,
          -8.42724323272705,
          11.116718292236328,
          -19.2197265625
         ]
        },
        {
         "line": {
          "color": "black",
          "width": 0.5
         },
         "opacity": 0.2,
         "type": "scatter",
         "x": [
          1,
          2,
          3,
          4,
          5,
          6,
          7,
          8,
          9
         ],
         "y": [
          2.5437068939208984,
          -1.5607972145080566,
          1.8283734321594238,
          -5.620891094207764,
          0.4139268696308136,
          -2.6056861877441406,
          -5.1018266677856445,
          -0.5549626350402832,
          -10.541800498962402
         ]
        },
        {
         "line": {
          "color": "black",
          "width": 0.5
         },
         "opacity": 0.2,
         "type": "scatter",
         "x": [
          1,
          2,
          3,
          4,
          5,
          6,
          7,
          8,
          9
         ],
         "y": [
          -4.845504283905029,
          -6.727266311645508,
          -1.9359824657440186,
          -18.08365821838379,
          -0.01631908118724823,
          -3.462571144104004,
          -6.771245002746582,
          -6.668702125549316,
          -9.338586807250977
         ]
        },
        {
         "line": {
          "color": "black",
          "width": 0.5
         },
         "opacity": 0.2,
         "type": "scatter",
         "x": [
          1,
          2,
          3,
          4,
          5,
          6,
          7,
          8,
          9
         ],
         "y": [
          0.2190561294555664,
          5.911547660827637,
          0.030741214752197266,
          -0.510016679763794,
          -1.9991600513458252,
          -3.873244285583496,
          9.364959716796875,
          -17.50303840637207,
          16.92165756225586
         ]
        },
        {
         "line": {
          "color": "black",
          "width": 0.5
         },
         "opacity": 0.2,
         "type": "scatter",
         "x": [
          1,
          2,
          3,
          4,
          5,
          6,
          7,
          8,
          9
         ],
         "y": [
          24.416963577270508,
          7.98984432220459,
          10.628486633300781,
          26.529787063598633,
          6.129733085632324,
          7.336931228637695,
          16.644947052001953,
          2.7909703254699707,
          49.231040954589844
         ]
        },
        {
         "line": {
          "color": "black",
          "width": 0.5
         },
         "opacity": 0.2,
         "type": "scatter",
         "x": [
          1,
          2,
          3,
          4,
          5,
          6,
          7,
          8,
          9
         ],
         "y": [
          -0.23396426439285278,
          -8.176718711853027,
          0.24679863452911377,
          -8.828824043273926,
          -2.2030253410339355,
          -4.022322177886963,
          -8.129783630371094,
          4.70510196685791,
          -22.701223373413086
         ]
        },
        {
         "line": {
          "color": "black",
          "width": 0.5
         },
         "opacity": 0.2,
         "type": "scatter",
         "x": [
          1,
          2,
          3,
          4,
          5,
          6,
          7,
          8,
          9
         ],
         "y": [
          -9.78045654296875,
          17.717084884643555,
          -10.232661247253418,
          27.811391830444336,
          0.5121483206748962,
          13.336504936218262,
          19.644577026367188,
          12.503965377807617,
          23.520519256591797
         ]
        },
        {
         "line": {
          "color": "black",
          "width": 0.5
         },
         "opacity": 0.2,
         "type": "scatter",
         "x": [
          1,
          2,
          3,
          4,
          5,
          6,
          7,
          8,
          9
         ],
         "y": [
          1.8714849948883057,
          5.119789123535156,
          1.140592098236084,
          -11.276522636413574,
          -2.5927209854125977,
          -13.456181526184082,
          8.540935516357422,
          -20.84650421142578,
          30.61530303955078
         ]
        },
        {
         "line": {
          "color": "black",
          "width": 0.5
         },
         "opacity": 0.2,
         "type": "scatter",
         "x": [
          1,
          2,
          3,
          4,
          5,
          6,
          7,
          8,
          9
         ],
         "y": [
          -5.610804557800293,
          2.1684184074401855,
          -0.7586115598678589,
          -4.505096435546875,
          -0.21419838070869446,
          -2.4074347019195557,
          -0.6458656787872314,
          -4.1729021072387695,
          3.594721794128418
         ]
        },
        {
         "line": {
          "color": "black",
          "width": 0.5
         },
         "opacity": 0.2,
         "type": "scatter",
         "x": [
          1,
          2,
          3,
          4,
          5,
          6,
          7,
          8,
          9
         ],
         "y": [
          15.59559440612793,
          -11.467498779296875,
          13.167675018310547,
          32.54084014892578,
          10.682378768920898,
          19.148035049438477,
          -14.144424438476562,
          31.405139923095703,
          -39.371028900146484
         ]
        },
        {
         "line": {
          "color": "black",
          "width": 0.5
         },
         "opacity": 0.2,
         "type": "scatter",
         "x": [
          1,
          2,
          3,
          4,
          5,
          6,
          7,
          8,
          9
         ],
         "y": [
          6.474599838256836,
          19.224672317504883,
          6.400151252746582,
          49.31993865966797,
          4.426217079162598,
          17.04070472717285,
          20.32701873779297,
          9.812655448913574,
          39.2449836730957
         ]
        },
        {
         "line": {
          "color": "black",
          "width": 0.5
         },
         "opacity": 0.2,
         "type": "scatter",
         "x": [
          1,
          2,
          3,
          4,
          5,
          6,
          7,
          8,
          9
         ],
         "y": [
          -74.55807495117188,
          -22.194839477539062,
          -29.167438507080078,
          -195.9222412109375,
          -19.62248992919922,
          -70.04191589355469,
          -30.791709899902344,
          -132.2158966064453,
          -10.528579711914062
         ]
        },
        {
         "line": {
          "color": "black",
          "width": 0.5
         },
         "opacity": 0.2,
         "type": "scatter",
         "x": [
          1,
          2,
          3,
          4,
          5,
          6,
          7,
          8,
          9
         ],
         "y": [
          -10.77987003326416,
          -2.3263509273529053,
          -5.876265525817871,
          -26.782011032104492,
          -0.06750845909118652,
          -9.411459922790527,
          -3.1387195587158203,
          -18.86594009399414,
          -5.0258331298828125
         ]
        },
        {
         "line": {
          "color": "black",
          "width": 0.5
         },
         "opacity": 0.2,
         "type": "scatter",
         "x": [
          1,
          2,
          3,
          4,
          5,
          6,
          7,
          8,
          9
         ],
         "y": [
          -41.62660217285156,
          9.15093994140625,
          -20.31760025024414,
          -64.82550811767578,
          -14.019479751586914,
          -28.56038475036621,
          10.064327239990234,
          -67.79397583007812,
          29.34269905090332
         ]
        },
        {
         "line": {
          "color": "black",
          "width": 0.5
         },
         "opacity": 0.2,
         "type": "scatter",
         "x": [
          1,
          2,
          3,
          4,
          5,
          6,
          7,
          8,
          9
         ],
         "y": [
          -19.982200622558594,
          3.740206718444824,
          -6.080929756164551,
          -28.30120849609375,
          -6.726900100708008,
          -11.9262113571167,
          1.4377305507659912,
          -32.49907302856445,
          7.247379302978516
         ]
        },
        {
         "line": {
          "color": "black",
          "width": 0.5
         },
         "opacity": 0.2,
         "type": "scatter",
         "x": [
          1,
          2,
          3,
          4,
          5,
          6,
          7,
          8,
          9
         ],
         "y": [
          -4.011599540710449,
          0.12830907106399536,
          -2.065234899520874,
          -9.029531478881836,
          -1.6464813947677612,
          -4.091316223144531,
          0.7419409155845642,
          -7.110929489135742,
          4.566324710845947
         ]
        },
        {
         "line": {
          "color": "black",
          "width": 0.5
         },
         "opacity": 0.2,
         "type": "scatter",
         "x": [
          1,
          2,
          3,
          4,
          5,
          6,
          7,
          8,
          9
         ],
         "y": [
          13.109829902648926,
          -8.394275665283203,
          5.8280510902404785,
          2.501102924346924,
          0.21588653326034546,
          -6.157377243041992,
          -0.6283104419708252,
          7.1455488204956055,
          -14.075571060180664
         ]
        },
        {
         "line": {
          "color": "black",
          "width": 0.5
         },
         "opacity": 0.2,
         "type": "scatter",
         "x": [
          1,
          2,
          3,
          4,
          5,
          6,
          7,
          8,
          9
         ],
         "y": [
          -11.026501655578613,
          5.210213661193848,
          -5.305624008178711,
          -18.687829971313477,
          -3.449577808380127,
          -9.391239166259766,
          3.436969757080078,
          -19.70476531982422,
          8.709124565124512
         ]
        },
        {
         "line": {
          "color": "black",
          "width": 0.5
         },
         "opacity": 0.2,
         "type": "scatter",
         "x": [
          1,
          2,
          3,
          4,
          5,
          6,
          7,
          8,
          9
         ],
         "y": [
          8.243882179260254,
          1.1490898132324219,
          4.057155132293701,
          26.522335052490234,
          2.6266841888427734,
          8.764474868774414,
          4.277920722961426,
          18.144847869873047,
          3.9519097805023193
         ]
        },
        {
         "line": {
          "color": "black",
          "width": 0.5
         },
         "opacity": 0.2,
         "type": "scatter",
         "x": [
          1,
          2,
          3,
          4,
          5,
          6,
          7,
          8,
          9
         ],
         "y": [
          -11.764507293701172,
          2.2784852981567383,
          -3.9443717002868652,
          -13.210485458374023,
          -2.6301960945129395,
          -2.480024814605713,
          2.3691251277923584,
          -16.233240127563477,
          15.057514190673828
         ]
        },
        {
         "line": {
          "color": "black",
          "width": 0.5
         },
         "opacity": 0.2,
         "type": "scatter",
         "x": [
          1,
          2,
          3,
          4,
          5,
          6,
          7,
          8,
          9
         ],
         "y": [
          -2.4833455085754395,
          5.769291400909424,
          -2.0502185821533203,
          6.3337788581848145,
          0.19501984119415283,
          2.513986110687256,
          7.252420425415039,
          -1.0114078521728516,
          0.8014452457427979
         ]
        },
        {
         "line": {
          "color": "black",
          "width": 0.5
         },
         "opacity": 0.2,
         "type": "scatter",
         "x": [
          1,
          2,
          3,
          4,
          5,
          6,
          7,
          8,
          9
         ],
         "y": [
          -1.6263790130615234,
          10.317646980285645,
          1.7045522928237915,
          9.044541358947754,
          0.5300660133361816,
          4.244132041931152,
          16.107284545898438,
          -9.531923294067383,
          35.500545501708984
         ]
        },
        {
         "line": {
          "color": "black",
          "width": 0.5
         },
         "opacity": 0.2,
         "type": "scatter",
         "x": [
          1,
          2,
          3,
          4,
          5,
          6,
          7,
          8,
          9
         ],
         "y": [
          -0.21440768241882324,
          1.742766261100769,
          1.6627084016799927,
          1.9515056610107422,
          0.07567388564348221,
          2.95878529548645,
          -1.7931430339813232,
          2.4897098541259766,
          2.915511131286621
         ]
        },
        {
         "line": {
          "color": "black",
          "width": 0.5
         },
         "opacity": 0.2,
         "type": "scatter",
         "x": [
          1,
          2,
          3,
          4,
          5,
          6,
          7,
          8,
          9
         ],
         "y": [
          0.7751209735870361,
          -8.2960205078125,
          -2.5849273204803467,
          -29.290325164794922,
          -3.3312978744506836,
          -14.520216941833496,
          -4.240556716918945,
          -19.615232467651367,
          -4.4799041748046875
         ]
        },
        {
         "line": {
          "color": "black",
          "width": 0.5
         },
         "opacity": 0.2,
         "type": "scatter",
         "x": [
          1,
          2,
          3,
          4,
          5,
          6,
          7,
          8,
          9
         ],
         "y": [
          -22.01797103881836,
          2.336564064025879,
          -7.04449462890625,
          -45.08373260498047,
          -8.437174797058105,
          -19.93854522705078,
          0.8634977340698242,
          -38.828243255615234,
          7.21922492980957
         ]
        },
        {
         "line": {
          "color": "black",
          "width": 0.5
         },
         "opacity": 0.2,
         "type": "scatter",
         "x": [
          1,
          2,
          3,
          4,
          5,
          6,
          7,
          8,
          9
         ],
         "y": [
          -14.407824516296387,
          -11.54712200164795,
          -4.851688385009766,
          -32.2432746887207,
          -1.2805055379867554,
          -5.581913948059082,
          -17.076066970825195,
          -13.14037036895752,
          -21.54367446899414
         ]
        },
        {
         "line": {
          "color": "black",
          "width": 0.5
         },
         "opacity": 0.2,
         "type": "scatter",
         "x": [
          1,
          2,
          3,
          4,
          5,
          6,
          7,
          8,
          9
         ],
         "y": [
          -6.311420440673828,
          23.36544418334961,
          -2.3623950481414795,
          24.391124725341797,
          -3.909670829772949,
          4.688040256500244,
          27.925992965698242,
          -16.706348419189453,
          43.875144958496094
         ]
        },
        {
         "line": {
          "color": "black",
          "width": 0.5
         },
         "opacity": 0.2,
         "type": "scatter",
         "x": [
          1,
          2,
          3,
          4,
          5,
          6,
          7,
          8,
          9
         ],
         "y": [
          6.062559604644775,
          -3.2477142810821533,
          4.4632792472839355,
          -3.528135299682617,
          1.6439467668533325,
          -3.5324995517730713,
          -1.0943810939788818,
          1.7814421653747559,
          2.177248954772949
         ]
        },
        {
         "line": {
          "color": "black",
          "width": 0.5
         },
         "opacity": 0.2,
         "type": "scatter",
         "x": [
          1,
          2,
          3,
          4,
          5,
          6,
          7,
          8,
          9
         ],
         "y": [
          -8.97470760345459,
          -5.7010722160339355,
          3.6696054935455322,
          -28.983449935913086,
          -0.9928216934204102,
          -12.56286334991455,
          -8.513544082641602,
          -15.339524269104004,
          -4.14138650894165
         ]
        },
        {
         "line": {
          "color": "black",
          "width": 0.5
         },
         "opacity": 0.2,
         "type": "scatter",
         "x": [
          1,
          2,
          3,
          4,
          5,
          6,
          7,
          8,
          9
         ],
         "y": [
          -14.730093955993652,
          -9.109435081481934,
          -3.0838966369628906,
          -40.46595001220703,
          -3.494318962097168,
          -10.614123344421387,
          -13.600814819335938,
          -16.383821487426758,
          -14.534344673156738
         ]
        },
        {
         "line": {
          "color": "black",
          "width": 0.5
         },
         "opacity": 0.2,
         "type": "scatter",
         "x": [
          1,
          2,
          3,
          4,
          5,
          6,
          7,
          8,
          9
         ],
         "y": [
          -14.746885299682617,
          7.355984210968018,
          -5.8101396560668945,
          -10.90788459777832,
          -2.995981216430664,
          -3.527646064758301,
          3.872519016265869,
          -12.780622482299805,
          16.280017852783203
         ]
        },
        {
         "line": {
          "color": "black",
          "width": 0.5
         },
         "opacity": 0.2,
         "type": "scatter",
         "x": [
          1,
          2,
          3,
          4,
          5,
          6,
          7,
          8,
          9
         ],
         "y": [
          2.0715951919555664,
          -1.4908068180084229,
          1.222070336341858,
          -3.9777133464813232,
          1.6678779125213623,
          -1.1009737253189087,
          -1.6266359090805054,
          -1.562854528427124,
          -0.6232869625091553
         ]
        },
        {
         "line": {
          "color": "black",
          "width": 0.5
         },
         "opacity": 0.2,
         "type": "scatter",
         "x": [
          1,
          2,
          3,
          4,
          5,
          6,
          7,
          8,
          9
         ],
         "y": [
          -4.175888538360596,
          -9.747132301330566,
          -3.7558186054229736,
          -41.786964416503906,
          -6.151002407073975,
          -23.886934280395508,
          -10.777793884277344,
          -26.364334106445312,
          -23.552078247070312
         ]
        },
        {
         "line": {
          "color": "black",
          "width": 0.5
         },
         "opacity": 0.2,
         "type": "scatter",
         "x": [
          1,
          2,
          3,
          4,
          5,
          6,
          7,
          8,
          9
         ],
         "y": [
          22.555063247680664,
          -1.613255500793457,
          9.274928092956543,
          59.0434684753418,
          10.728903770446777,
          28.460805892944336,
          -2.654306650161743,
          46.98143005371094,
          -24.094852447509766
         ]
        },
        {
         "line": {
          "color": "black",
          "width": 0.5
         },
         "opacity": 0.2,
         "type": "scatter",
         "x": [
          1,
          2,
          3,
          4,
          5,
          6,
          7,
          8,
          9
         ],
         "y": [
          4.125969886779785,
          -0.4478416442871094,
          -2.1535801887512207,
          33.69309616088867,
          -0.022259801626205444,
          14.061598777770996,
          3.1862902641296387,
          26.712875366210938,
          -13.675724029541016
         ]
        },
        {
         "line": {
          "color": "black",
          "width": 0.5
         },
         "opacity": 0.2,
         "type": "scatter",
         "x": [
          1,
          2,
          3,
          4,
          5,
          6,
          7,
          8,
          9
         ],
         "y": [
          -0.056128084659576416,
          1.76283860206604,
          0.06935936212539673,
          4.552950382232666,
          -0.9632734656333923,
          1.3857700824737549,
          2.9594578742980957,
          0.5101671814918518,
          0.8910863399505615
         ]
        },
        {
         "line": {
          "color": "black",
          "width": 0.5
         },
         "opacity": 0.2,
         "type": "scatter",
         "x": [
          1,
          2,
          3,
          4,
          5,
          6,
          7,
          8,
          9
         ],
         "y": [
          1.7444435358047485,
          4.038686752319336,
          -0.2500438690185547,
          14.984918594360352,
          0.3257914185523987,
          5.545019626617432,
          6.2243194580078125,
          7.255236625671387,
          6.549091339111328
         ]
        },
        {
         "line": {
          "color": "black",
          "width": 0.5
         },
         "opacity": 0.2,
         "type": "scatter",
         "x": [
          1,
          2,
          3,
          4,
          5,
          6,
          7,
          8,
          9
         ],
         "y": [
          11.144611358642578,
          9.921257019042969,
          7.965330600738525,
          33.22381591796875,
          2.987896203994751,
          5.065720558166504,
          7.702080726623535,
          15.63888168334961,
          18.98888397216797
         ]
        },
        {
         "line": {
          "color": "black",
          "width": 0.5
         },
         "opacity": 0.2,
         "type": "scatter",
         "x": [
          1,
          2,
          3,
          4,
          5,
          6,
          7,
          8,
          9
         ],
         "y": [
          0.7789618372917175,
          -2.6648213863372803,
          0.7272571921348572,
          3.076296329498291,
          0.2680245339870453,
          2.4251835346221924,
          -1.928652048110962,
          5.665004730224609,
          -8.21543025970459
         ]
        },
        {
         "line": {
          "color": "black",
          "width": 0.5
         },
         "opacity": 0.2,
         "type": "scatter",
         "x": [
          1,
          2,
          3,
          4,
          5,
          6,
          7,
          8,
          9
         ],
         "y": [
          -4.185897350311279,
          0.8526038527488708,
          -2.0935845375061035,
          -6.633044719696045,
          -0.8887801170349121,
          -2.2344751358032227,
          0.8396928906440735,
          -5.728425025939941,
          5.02009391784668
         ]
        },
        {
         "line": {
          "color": "black",
          "width": 0.5
         },
         "opacity": 0.2,
         "type": "scatter",
         "x": [
          1,
          2,
          3,
          4,
          5,
          6,
          7,
          8,
          9
         ],
         "y": [
          10.84864330291748,
          -21.03528594970703,
          8.735538482666016,
          -19.02789878845215,
          9.637242317199707,
          0.6098988056182861,
          -28.131587982177734,
          13.713208198547363,
          -21.942968368530273
         ]
        },
        {
         "line": {
          "color": "black",
          "width": 0.5
         },
         "opacity": 0.2,
         "type": "scatter",
         "x": [
          1,
          2,
          3,
          4,
          5,
          6,
          7,
          8,
          9
         ],
         "y": [
          -10.242645263671875,
          -5.621379852294922,
          -3.9847488403320312,
          -31.544601440429688,
          -3.1271705627441406,
          -11.898415565490723,
          -9.112545013427734,
          -20.06570053100586,
          -13.552284240722656
         ]
        },
        {
         "line": {
          "color": "black",
          "width": 0.5
         },
         "opacity": 0.2,
         "type": "scatter",
         "x": [
          1,
          2,
          3,
          4,
          5,
          6,
          7,
          8,
          9
         ],
         "y": [
          -15.059005737304688,
          -13.240588188171387,
          -9.652121543884277,
          -36.47365951538086,
          4.783504009246826,
          2.875511646270752,
          -26.027807235717773,
          -11.193296432495117,
          -34.90315246582031
         ]
        },
        {
         "line": {
          "color": "black",
          "width": 0.5
         },
         "opacity": 0.2,
         "type": "scatter",
         "x": [
          1,
          2,
          3,
          4,
          5,
          6,
          7,
          8,
          9
         ],
         "y": [
          20.191062927246094,
          27.554847717285156,
          9.817399024963379,
          101.33963012695312,
          9.901518821716309,
          42.98737335205078,
          30.482452392578125,
          71.31771087646484,
          42.361061096191406
         ]
        },
        {
         "line": {
          "color": "black",
          "width": 0.5
         },
         "opacity": 0.2,
         "type": "scatter",
         "x": [
          1,
          2,
          3,
          4,
          5,
          6,
          7,
          8,
          9
         ],
         "y": [
          20.407699584960938,
          16.825336456298828,
          0.6646008491516113,
          65.70420837402344,
          10.851478576660156,
          31.339757919311523,
          24.61725616455078,
          41.68489456176758,
          34.2204704284668
         ]
        },
        {
         "line": {
          "color": "black",
          "width": 0.5
         },
         "opacity": 0.2,
         "type": "scatter",
         "x": [
          1,
          2,
          3,
          4,
          5,
          6,
          7,
          8,
          9
         ],
         "y": [
          0.05507156252861023,
          0.6540678143501282,
          0.004543513059616089,
          1.1660274267196655,
          -0.0598183199763298,
          0.6445488333702087,
          0.309039443731308,
          -0.2785821259021759,
          0.9305158853530884
         ]
        },
        {
         "line": {
          "color": "black",
          "width": 0.5
         },
         "opacity": 0.2,
         "type": "scatter",
         "x": [
          1,
          2,
          3,
          4,
          5,
          6,
          7,
          8,
          9
         ],
         "y": [
          -2.9305970668792725,
          -2.139129161834717,
          -1.5072495937347412,
          -7.64901876449585,
          -0.7046488523483276,
          -2.594916820526123,
          -2.128509044647217,
          -3.7817039489746094,
          -3.9514620304107666
         ]
        },
        {
         "line": {
          "color": "black",
          "width": 0.5
         },
         "opacity": 0.2,
         "type": "scatter",
         "x": [
          1,
          2,
          3,
          4,
          5,
          6,
          7,
          8,
          9
         ],
         "y": [
          15.485288619995117,
          -4.394285202026367,
          6.957582473754883,
          32.30291748046875,
          6.130470275878906,
          15.904858589172363,
          -4.4562249183654785,
          35.42805480957031,
          -7.63583517074585
         ]
        },
        {
         "line": {
          "color": "black",
          "width": 0.5
         },
         "opacity": 0.2,
         "type": "scatter",
         "x": [
          1,
          2,
          3,
          4,
          5,
          6,
          7,
          8,
          9
         ],
         "y": [
          -9.633016586303711,
          -7.629183769226074,
          0.418670654296875,
          -17.29449462890625,
          1.0366672277450562,
          2.966956853866577,
          -10.373200416564941,
          -4.742806434631348,
          2.4395413398742676
         ]
        },
        {
         "line": {
          "color": "black",
          "width": 0.5
         },
         "opacity": 0.2,
         "type": "scatter",
         "x": [
          1,
          2,
          3,
          4,
          5,
          6,
          7,
          8,
          9
         ],
         "y": [
          10.894540786743164,
          -7.469909191131592,
          -1.824894905090332,
          20.376523971557617,
          -0.2476818561553955,
          10.32559871673584,
          0.8793575763702393,
          24.068328857421875,
          -23.095584869384766
         ]
        },
        {
         "line": {
          "color": "black",
          "width": 0.5
         },
         "opacity": 0.2,
         "type": "scatter",
         "x": [
          1,
          2,
          3,
          4,
          5,
          6,
          7,
          8,
          9
         ],
         "y": [
          -0.011182546615600586,
          -0.020486950874328613,
          -0.9172227382659912,
          -2.5032238960266113,
          -0.704922616481781,
          -1.4228181838989258,
          -0.6667227745056152,
          -1.2382277250289917,
          0.40414273738861084
         ]
        },
        {
         "line": {
          "color": "black",
          "width": 0.5
         },
         "opacity": 0.2,
         "type": "scatter",
         "x": [
          1,
          2,
          3,
          4,
          5,
          6,
          7,
          8,
          9
         ],
         "y": [
          -6.713041305541992,
          -0.1236836165189743,
          -4.046436309814453,
          -11.739457130432129,
          -1.5215907096862793,
          -3.4816391468048096,
          -0.9806626439094543,
          -9.904921531677246,
          -5.009897232055664
         ]
        },
        {
         "line": {
          "color": "black",
          "width": 0.5
         },
         "opacity": 0.2,
         "type": "scatter",
         "x": [
          1,
          2,
          3,
          4,
          5,
          6,
          7,
          8,
          9
         ],
         "y": [
          7.794236183166504,
          10.307236671447754,
          3.8488929271698,
          29.455745697021484,
          0.05668255686759949,
          7.999525547027588,
          13.067037582397461,
          9.052282333374023,
          28.331743240356445
         ]
        },
        {
         "line": {
          "color": "black",
          "width": 0.5
         },
         "opacity": 0.2,
         "type": "scatter",
         "x": [
          1,
          2,
          3,
          4,
          5,
          6,
          7,
          8,
          9
         ],
         "y": [
          -0.47205448150634766,
          -11.07992172241211,
          -2.251429796218872,
          -8.467039108276367,
          -0.7164823412895203,
          -1.09889554977417,
          -8.466364860534668,
          4.784498691558838,
          -18.997447967529297
         ]
        },
        {
         "line": {
          "color": "black",
          "width": 0.5
         },
         "opacity": 0.2,
         "type": "scatter",
         "x": [
          1,
          2,
          3,
          4,
          5,
          6,
          7,
          8,
          9
         ],
         "y": [
          2.9107890129089355,
          -0.6751511096954346,
          1.0245461463928223,
          1.328394889831543,
          0.8206944465637207,
          -2.836884021759033,
          -0.022508859634399414,
          7.308337688446045,
          -3.2165122032165527
         ]
        },
        {
         "line": {
          "color": "black",
          "width": 0.5
         },
         "opacity": 0.2,
         "type": "scatter",
         "x": [
          1,
          2,
          3,
          4,
          5,
          6,
          7,
          8,
          9
         ],
         "y": [
          -14.008219718933105,
          -0.5344393849372864,
          -11.099437713623047,
          -18.129358291625977,
          -1.7608431577682495,
          -1.9246782064437866,
          5.389404773712158,
          -9.862547874450684,
          1.3964271545410156
         ]
        },
        {
         "line": {
          "color": "black",
          "width": 0.5
         },
         "opacity": 0.2,
         "type": "scatter",
         "x": [
          1,
          2,
          3,
          4,
          5,
          6,
          7,
          8,
          9
         ],
         "y": [
          9.99798583984375,
          0.272330105304718,
          9.730981826782227,
          26.525959014892578,
          3.265333414077759,
          10.861580848693848,
          -9.860204696655273,
          23.496789932250977,
          -2.8694841861724854
         ]
        },
        {
         "line": {
          "color": "black",
          "width": 0.5
         },
         "opacity": 0.2,
         "type": "scatter",
         "x": [
          1,
          2,
          3,
          4,
          5,
          6,
          7,
          8,
          9
         ],
         "y": [
          4.631792068481445,
          8.428525924682617,
          0.4429223835468292,
          29.050642013549805,
          1.2387608289718628,
          12.115594863891602,
          11.392949104309082,
          17.730770111083984,
          5.779416561126709
         ]
        },
        {
         "line": {
          "color": "black",
          "width": 0.5
         },
         "opacity": 0.2,
         "type": "scatter",
         "x": [
          1,
          2,
          3,
          4,
          5,
          6,
          7,
          8,
          9
         ],
         "y": [
          30.41303062438965,
          18.287139892578125,
          5.177236557006836,
          118.8122329711914,
          9.853126525878906,
          49.46733474731445,
          30.77783966064453,
          85.12760925292969,
          26.633325576782227
         ]
        },
        {
         "line": {
          "color": "black",
          "width": 0.5
         },
         "opacity": 0.2,
         "type": "scatter",
         "x": [
          1,
          2,
          3,
          4,
          5,
          6,
          7,
          8,
          9
         ],
         "y": [
          -2.5959508419036865,
          -11.5272855758667,
          2.569472551345825,
          -27.234121322631836,
          -0.659675121307373,
          -9.353671073913574,
          -12.562625885009766,
          -8.446025848388672,
          -19.009504318237305
         ]
        },
        {
         "line": {
          "color": "black",
          "width": 0.5
         },
         "opacity": 0.2,
         "type": "scatter",
         "x": [
          1,
          2,
          3,
          4,
          5,
          6,
          7,
          8,
          9
         ],
         "y": [
          12.944662094116211,
          11.116055488586426,
          1.9106234312057495,
          32.0258903503418,
          3.579352855682373,
          9.603142738342285,
          13.41185188293457,
          16.736614227294922,
          23.45301055908203
         ]
        },
        {
         "line": {
          "color": "black",
          "width": 0.5
         },
         "opacity": 0.2,
         "type": "scatter",
         "x": [
          1,
          2,
          3,
          4,
          5,
          6,
          7,
          8,
          9
         ],
         "y": [
          11.863908767700195,
          1.054955005645752,
          1.8952198028564453,
          9.163514137268066,
          -0.8918187618255615,
          -3.3649744987487793,
          6.06482458114624,
          2.698662757873535,
          8.794767379760742
         ]
        },
        {
         "line": {
          "color": "black",
          "width": 0.5
         },
         "opacity": 0.2,
         "type": "scatter",
         "x": [
          1,
          2,
          3,
          4,
          5,
          6,
          7,
          8,
          9
         ],
         "y": [
          4.035893440246582,
          -0.1834886074066162,
          7.398188591003418,
          22.560344696044922,
          2.6952641010284424,
          6.7664594650268555,
          -3.479945182800293,
          22.47172737121582,
          -7.302346229553223
         ]
        },
        {
         "line": {
          "color": "black",
          "width": 0.5
         },
         "opacity": 0.2,
         "type": "scatter",
         "x": [
          1,
          2,
          3,
          4,
          5,
          6,
          7,
          8,
          9
         ],
         "y": [
          -14.274032592773438,
          -16.246238708496094,
          -5.486749649047852,
          -51.00540542602539,
          -0.46034353971481323,
          -12.49805736541748,
          -28.131427764892578,
          -24.73345375061035,
          -52.799827575683594
         ]
        },
        {
         "line": {
          "color": "black",
          "width": 0.5
         },
         "opacity": 0.2,
         "type": "scatter",
         "x": [
          1,
          2,
          3,
          4,
          5,
          6,
          7,
          8,
          9
         ],
         "y": [
          3.5384349822998047,
          1.3296525478363037,
          1.8993902206420898,
          11.303766250610352,
          2.1158547401428223,
          5.916905403137207,
          3.1232991218566895,
          8.546089172363281,
          6.367117881774902
         ]
        },
        {
         "line": {
          "color": "black",
          "width": 0.5
         },
         "opacity": 0.2,
         "type": "scatter",
         "x": [
          1,
          2,
          3,
          4,
          5,
          6,
          7,
          8,
          9
         ],
         "y": [
          -9.229262351989746,
          9.382652282714844,
          -1.4823105335235596,
          -1.2445106506347656,
          0.22322189807891846,
          2.9618935585021973,
          -1.0814480781555176,
          -3.9373369216918945,
          27.510112762451172
         ]
        },
        {
         "line": {
          "color": "black",
          "width": 0.5
         },
         "opacity": 0.2,
         "type": "scatter",
         "x": [
          1,
          2,
          3,
          4,
          5,
          6,
          7,
          8,
          9
         ],
         "y": [
          2.676576614379883,
          3.341346502304077,
          5.476660251617432,
          7.718327045440674,
          5.09708309173584,
          2.5913524627685547,
          -4.261078834533691,
          0.9377155303955078,
          -6.607695579528809
         ]
        },
        {
         "line": {
          "color": "black",
          "width": 0.5
         },
         "opacity": 0.2,
         "type": "scatter",
         "x": [
          1,
          2,
          3,
          4,
          5,
          6,
          7,
          8,
          9
         ],
         "y": [
          32.90283966064453,
          5.02449893951416,
          15.086578369140625,
          61.442962646484375,
          7.809915542602539,
          21.270217895507812,
          12.30555534362793,
          38.293575286865234,
          31.338420867919922
         ]
        },
        {
         "line": {
          "color": "black",
          "width": 0.5
         },
         "opacity": 0.2,
         "type": "scatter",
         "x": [
          1,
          2,
          3,
          4,
          5,
          6,
          7,
          8,
          9
         ],
         "y": [
          -36.18526840209961,
          -10.365107536315918,
          -10.69778060913086,
          -112.6655044555664,
          -14.11327075958252,
          -51.03749084472656,
          -16.701316833496094,
          -78.54899597167969,
          -11.270617485046387
         ]
        },
        {
         "line": {
          "color": "black",
          "width": 0.5
         },
         "opacity": 0.2,
         "type": "scatter",
         "x": [
          1,
          2,
          3,
          4,
          5,
          6,
          7,
          8,
          9
         ],
         "y": [
          -5.119996070861816,
          -0.7942403554916382,
          -2.1494410037994385,
          -14.514687538146973,
          -0.5042440891265869,
          -4.634364128112793,
          -0.4541375935077667,
          -9.109021186828613,
          1.5460187196731567
         ]
        },
        {
         "line": {
          "color": "black",
          "width": 0.5
         },
         "opacity": 0.2,
         "type": "scatter",
         "x": [
          1,
          2,
          3,
          4,
          5,
          6,
          7,
          8,
          9
         ],
         "y": [
          12.571086883544922,
          6.016075134277344,
          4.821559429168701,
          44.83850860595703,
          1.0461145639419556,
          11.053592681884766,
          14.743403434753418,
          22.692171096801758,
          16.741731643676758
         ]
        },
        {
         "line": {
          "color": "black",
          "width": 0.5
         },
         "opacity": 0.2,
         "type": "scatter",
         "x": [
          1,
          2,
          3,
          4,
          5,
          6,
          7,
          8,
          9
         ],
         "y": [
          19.790023803710938,
          -4.158992767333984,
          11.626945495605469,
          37.20063400268555,
          5.535372734069824,
          15.256649017333984,
          -5.928940773010254,
          31.76412582397461,
          -20.226001739501953
         ]
        },
        {
         "line": {
          "color": "black",
          "width": 0.5
         },
         "opacity": 0.2,
         "type": "scatter",
         "x": [
          1,
          2,
          3,
          4,
          5,
          6,
          7,
          8,
          9
         ],
         "y": [
          -7.35207462310791,
          17.61819076538086,
          -4.096236228942871,
          2.2663087844848633,
          2.4618465900421143,
          3.0650811195373535,
          18.870885848999023,
          -20.232866287231445,
          55.27600860595703
         ]
        },
        {
         "line": {
          "color": "black",
          "width": 0.5
         },
         "opacity": 0.2,
         "type": "scatter",
         "x": [
          1,
          2,
          3,
          4,
          5,
          6,
          7,
          8,
          9
         ],
         "y": [
          -9.783946990966797,
          -2.256748676300049,
          2.4201784133911133,
          -38.269630432128906,
          -0.688895583152771,
          -13.377012252807617,
          -6.3239336013793945,
          -28.467662811279297,
          7.805598258972168
         ]
        },
        {
         "line": {
          "color": "black",
          "width": 0.5
         },
         "opacity": 0.2,
         "type": "scatter",
         "x": [
          1,
          2,
          3,
          4,
          5,
          6,
          7,
          8,
          9
         ],
         "y": [
          5.778528213500977,
          1.6517316102981567,
          5.680873870849609,
          -2.345806121826172,
          2.3422250747680664,
          -3.690816879272461,
          -2.0500645637512207,
          -6.340898036956787,
          -4.0790839195251465
         ]
        },
        {
         "line": {
          "color": "black",
          "width": 0.5
         },
         "opacity": 0.2,
         "type": "scatter",
         "x": [
          1,
          2,
          3,
          4,
          5,
          6,
          7,
          8,
          9
         ],
         "y": [
          1.773531436920166,
          4.760800838470459,
          5.441261291503906,
          12.246767044067383,
          0.08568055927753448,
          3.027369976043701,
          5.253231048583984,
          3.9525699615478516,
          12.7925443649292
         ]
        },
        {
         "line": {
          "color": "black",
          "width": 0.5
         },
         "opacity": 0.2,
         "type": "scatter",
         "x": [
          1,
          2,
          3,
          4,
          5,
          6,
          7,
          8,
          9
         ],
         "y": [
          2.7625017166137695,
          -1.0858001708984375,
          -4.109042167663574,
          11.847983360290527,
          -1.9079564809799194,
          2.6475322246551514,
          1.4503872394561768,
          10.830025672912598,
          -6.856731414794922
         ]
        },
        {
         "line": {
          "color": "black",
          "width": 0.5
         },
         "opacity": 0.2,
         "type": "scatter",
         "x": [
          1,
          2,
          3,
          4,
          5,
          6,
          7,
          8,
          9
         ],
         "y": [
          -7.800087928771973,
          -6.444212436676025,
          -2.8086557388305664,
          -29.43729019165039,
          -2.3030829429626465,
          -11.140352249145508,
          -6.615885257720947,
          -20.582439422607422,
          -11.333656311035156
         ]
        },
        {
         "line": {
          "color": "black",
          "width": 0.5
         },
         "opacity": 0.2,
         "type": "scatter",
         "x": [
          1,
          2,
          3,
          4,
          5,
          6,
          7,
          8,
          9
         ],
         "y": [
          -1.4680516719818115,
          -0.951907753944397,
          -1.0390352010726929,
          -6.180271625518799,
          2.524050712585449,
          -2.386197090148926,
          -4.493861675262451,
          2.5794715881347656,
          -7.119041442871094
         ]
        },
        {
         "line": {
          "color": "black",
          "width": 0.5
         },
         "opacity": 0.2,
         "type": "scatter",
         "x": [
          1,
          2,
          3,
          4,
          5,
          6,
          7,
          8,
          9
         ],
         "y": [
          0.17719325423240662,
          0.07258772104978561,
          -0.03748210892081261,
          -0.12599040567874908,
          0.056720830500125885,
          0.22933503985404968,
          -0.1314900815486908,
          -0.3113801181316376,
          -0.11615021526813507
         ]
        },
        {
         "line": {
          "color": "black",
          "width": 0.5
         },
         "opacity": 0.2,
         "type": "scatter",
         "x": [
          1,
          2,
          3,
          4,
          5,
          6,
          7,
          8,
          9
         ],
         "y": [
          4.6932525634765625,
          11.551736831665039,
          8.477739334106445,
          14.966118812561035,
          6.073159694671631,
          5.46142578125,
          5.544607639312744,
          5.904488563537598,
          28.344810485839844
         ]
        },
        {
         "line": {
          "color": "black",
          "width": 0.5
         },
         "opacity": 0.2,
         "type": "scatter",
         "x": [
          1,
          2,
          3,
          4,
          5,
          6,
          7,
          8,
          9
         ],
         "y": [
          -1.1296340227127075,
          1.146734356880188,
          -0.593274712562561,
          1.4647036790847778,
          0.0188442412763834,
          1.1899442672729492,
          1.5128648281097412,
          -0.014284849166870117,
          4.27644681930542
         ]
        },
        {
         "line": {
          "color": "black",
          "width": 0.5
         },
         "opacity": 0.2,
         "type": "scatter",
         "x": [
          1,
          2,
          3,
          4,
          5,
          6,
          7,
          8,
          9
         ],
         "y": [
          11.033095359802246,
          6.3397698402404785,
          4.40009069442749,
          46.74722671508789,
          1.440359115600586,
          18.22285270690918,
          8.534509658813477,
          30.79877471923828,
          9.814523696899414
         ]
        },
        {
         "line": {
          "color": "black",
          "width": 0.5
         },
         "opacity": 0.2,
         "type": "scatter",
         "x": [
          1,
          2,
          3,
          4,
          5,
          6,
          7,
          8,
          9
         ],
         "y": [
          9.272356986999512,
          -13.60793685913086,
          7.3397722244262695,
          -8.67625904083252,
          3.842196464538574,
          1.9388949871063232,
          -18.42364501953125,
          11.008508682250977,
          -25.432483673095703
         ]
        },
        {
         "line": {
          "color": "black",
          "width": 0.5
         },
         "opacity": 0.2,
         "type": "scatter",
         "x": [
          1,
          2,
          3,
          4,
          5,
          6,
          7,
          8,
          9
         ],
         "y": [
          -2.455653190612793,
          5.187675476074219,
          -0.8937625288963318,
          3.439255714416504,
          -2.6062796115875244,
          -0.10786592960357666,
          5.089654922485352,
          -7.468735694885254,
          11.629069328308105
         ]
        },
        {
         "line": {
          "color": "black",
          "width": 0.5
         },
         "opacity": 0.2,
         "type": "scatter",
         "x": [
          1,
          2,
          3,
          4,
          5,
          6,
          7,
          8,
          9
         ],
         "y": [
          -14.734984397888184,
          -6.8894267082214355,
          -4.712444305419922,
          -41.62567901611328,
          -6.589439868927002,
          -20.607955932617188,
          -6.960503578186035,
          -21.06231689453125,
          -3.272639513015747
         ]
        },
        {
         "line": {
          "color": "black",
          "width": 0.5
         },
         "opacity": 0.2,
         "type": "scatter",
         "x": [
          1,
          2,
          3,
          4,
          5,
          6,
          7,
          8,
          9
         ],
         "y": [
          -6.837228775024414,
          -4.979760646820068,
          -4.591288089752197,
          -32.907325744628906,
          -4.260359764099121,
          -18.804363250732422,
          -6.116976737976074,
          -22.18216323852539,
          -9.778042793273926
         ]
        },
        {
         "line": {
          "color": "black",
          "width": 0.5
         },
         "opacity": 0.2,
         "type": "scatter",
         "x": [
          1,
          2,
          3,
          4,
          5,
          6,
          7,
          8,
          9
         ],
         "y": [
          14.544157981872559,
          -2.5150516033172607,
          7.37588357925415,
          26.917160034179688,
          6.17837381362915,
          12.414435386657715,
          -1.4297877550125122,
          25.77838897705078,
          -9.209138870239258
         ]
        },
        {
         "line": {
          "color": "black",
          "width": 0.5
         },
         "opacity": 0.2,
         "type": "scatter",
         "x": [
          1,
          2,
          3,
          4,
          5,
          6,
          7,
          8,
          9
         ],
         "y": [
          1.305857539176941,
          1.1462113857269287,
          0.589739978313446,
          5.054394721984863,
          0.35076045989990234,
          1.3727091550827026,
          1.5740954875946045,
          1.8786261081695557,
          2.759650230407715
         ]
        },
        {
         "line": {
          "color": "black",
          "width": 0.5
         },
         "opacity": 0.2,
         "type": "scatter",
         "x": [
          1,
          2,
          3,
          4,
          5,
          6,
          7,
          8,
          9
         ],
         "y": [
          -10.728286743164062,
          1.9737803936004639,
          -8.605921745300293,
          -5.706745147705078,
          -3.1040475368499756,
          3.31198787689209,
          -1.9975004196166992,
          3.9459457397460938,
          6.343035697937012
         ]
        },
        {
         "line": {
          "color": "black",
          "width": 0.5
         },
         "opacity": 0.2,
         "type": "scatter",
         "x": [
          1,
          2,
          3,
          4,
          5,
          6,
          7,
          8,
          9
         ],
         "y": [
          -25.357126235961914,
          -1.1680388450622559,
          -3.977457046508789,
          -62.05095672607422,
          -1.7679243087768555,
          -21.656734466552734,
          -12.621834754943848,
          -42.65398406982422,
          11.733670234680176
         ]
        },
        {
         "line": {
          "color": "black",
          "width": 0.5
         },
         "opacity": 0.2,
         "type": "scatter",
         "x": [
          1,
          2,
          3,
          4,
          5,
          6,
          7,
          8,
          9
         ],
         "y": [
          -4.186407089233398,
          0.10072660446166992,
          -2.2981128692626953,
          -5.324694633483887,
          3.0275323390960693,
          0.520836353302002,
          4.464601516723633,
          2.4391374588012695,
          7.929677963256836
         ]
        },
        {
         "line": {
          "color": "black",
          "width": 0.5
         },
         "opacity": 0.2,
         "type": "scatter",
         "x": [
          1,
          2,
          3,
          4,
          5,
          6,
          7,
          8,
          9
         ],
         "y": [
          1.7243883609771729,
          0.24381230771541595,
          0.8168765902519226,
          6.068475723266602,
          0.9343780875205994,
          2.9931893348693848,
          -0.183016836643219,
          6.0024261474609375,
          0.6457028388977051
         ]
        },
        {
         "line": {
          "color": "black",
          "width": 0.5
         },
         "opacity": 0.2,
         "type": "scatter",
         "x": [
          1,
          2,
          3,
          4,
          5,
          6,
          7,
          8,
          9
         ],
         "y": [
          -35.21477508544922,
          1.2900543212890625,
          -19.550350189208984,
          -89.86316680908203,
          -14.292875289916992,
          -38.796390533447266,
          3.4080803394317627,
          -81.6112289428711,
          -7.961104393005371
         ]
        },
        {
         "line": {
          "color": "black",
          "width": 0.5
         },
         "opacity": 0.2,
         "type": "scatter",
         "x": [
          1,
          2,
          3,
          4,
          5,
          6,
          7,
          8,
          9
         ],
         "y": [
          -12.856057167053223,
          -4.155261039733887,
          -0.9266743659973145,
          -42.66630172729492,
          -1.3871102333068848,
          -17.121606826782227,
          -11.621603965759277,
          -28.31563949584961,
          -13.503143310546875
         ]
        },
        {
         "line": {
          "color": "black",
          "width": 0.5
         },
         "opacity": 0.2,
         "type": "scatter",
         "x": [
          1,
          2,
          3,
          4,
          5,
          6,
          7,
          8,
          9
         ],
         "y": [
          22.280654907226562,
          -13.77812385559082,
          12.230070114135742,
          21.92005729675293,
          6.100521564483643,
          7.022345066070557,
          -16.03894805908203,
          43.70832061767578,
          -32.744606018066406
         ]
        },
        {
         "line": {
          "color": "black",
          "width": 0.5
         },
         "opacity": 0.2,
         "type": "scatter",
         "x": [
          1,
          2,
          3,
          4,
          5,
          6,
          7,
          8,
          9
         ],
         "y": [
          22.231121063232422,
          -1.5240700244903564,
          12.885046005249023,
          36.5631103515625,
          1.376179814338684,
          10.328923225402832,
          -0.30945515632629395,
          25.661638259887695,
          -13.249570846557617
         ]
        },
        {
         "line": {
          "color": "black",
          "width": 0.5
         },
         "opacity": 0.2,
         "type": "scatter",
         "x": [
          1,
          2,
          3,
          4,
          5,
          6,
          7,
          8,
          9
         ],
         "y": [
          2.0135371685028076,
          2.105422019958496,
          0.18066108226776123,
          9.14693832397461,
          1.2703773975372314,
          3.6602439880371094,
          1.7135865688323975,
          3.563998222351074,
          1.1387856006622314
         ]
        },
        {
         "line": {
          "color": "black",
          "width": 0.5
         },
         "opacity": 0.2,
         "type": "scatter",
         "x": [
          1,
          2,
          3,
          4,
          5,
          6,
          7,
          8,
          9
         ],
         "y": [
          -4.9408464431762695,
          -0.3086746633052826,
          -0.8991721868515015,
          -3.0149424076080322,
          -2.1765358448028564,
          -0.28910619020462036,
          -3.680266857147217,
          -7.839856147766113,
          -15.542131423950195
         ]
        },
        {
         "line": {
          "color": "black",
          "width": 0.5
         },
         "opacity": 0.2,
         "type": "scatter",
         "x": [
          1,
          2,
          3,
          4,
          5,
          6,
          7,
          8,
          9
         ],
         "y": [
          -1.4894874095916748,
          -13.621001243591309,
          -1.0574043989181519,
          -32.09089279174805,
          1.0887689590454102,
          -10.699586868286133,
          -16.696800231933594,
          0.692335844039917,
          -7.190151214599609
         ]
        },
        {
         "line": {
          "color": "black",
          "width": 0.5
         },
         "opacity": 0.2,
         "type": "scatter",
         "x": [
          1,
          2,
          3,
          4,
          5,
          6,
          7,
          8,
          9
         ],
         "y": [
          1.2290502786636353,
          -4.966879844665527,
          0.22789475321769714,
          -12.537834167480469,
          1.5104564428329468,
          -3.424410581588745,
          -4.357182502746582,
          -2.6673545837402344,
          -1.4134092330932617
         ]
        },
        {
         "line": {
          "color": "black",
          "width": 0.5
         },
         "opacity": 0.2,
         "type": "scatter",
         "x": [
          1,
          2,
          3,
          4,
          5,
          6,
          7,
          8,
          9
         ],
         "y": [
          3.9176268577575684,
          1.3344779014587402,
          1.2923352718353271,
          15.967998504638672,
          2.2308311462402344,
          8.920866012573242,
          2.429778575897217,
          11.933869361877441,
          -3.5722625255584717
         ]
        },
        {
         "line": {
          "color": "black",
          "width": 0.5
         },
         "opacity": 0.2,
         "type": "scatter",
         "x": [
          1,
          2,
          3,
          4,
          5,
          6,
          7,
          8,
          9
         ],
         "y": [
          5.354519844055176,
          1.462397575378418,
          0.7517451047897339,
          21.249515533447266,
          2.821542501449585,
          9.076358795166016,
          2.3416500091552734,
          16.922168731689453,
          -1.7085440158843994
         ]
        },
        {
         "line": {
          "color": "black",
          "width": 0.5
         },
         "opacity": 0.2,
         "type": "scatter",
         "x": [
          1,
          2,
          3,
          4,
          5,
          6,
          7,
          8,
          9
         ],
         "y": [
          -5.869768142700195,
          -7.375890254974365,
          -3.1803805828094482,
          -20.838573455810547,
          -1.1744961738586426,
          -5.886799335479736,
          -8.78762435913086,
          -7.406540870666504,
          -14.451086044311523
         ]
        },
        {
         "line": {
          "color": "black",
          "width": 0.5
         },
         "opacity": 0.2,
         "type": "scatter",
         "x": [
          1,
          2,
          3,
          4,
          5,
          6,
          7,
          8,
          9
         ],
         "y": [
          8.76906681060791,
          -10.505019187927246,
          5.628508567810059,
          5.724882125854492,
          1.6749862432479858,
          5.872665882110596,
          -5.778496265411377,
          13.346960067749023,
          -11.735916137695312
         ]
        },
        {
         "line": {
          "color": "black",
          "width": 0.5
         },
         "opacity": 0.2,
         "type": "scatter",
         "x": [
          1,
          2,
          3,
          4,
          5,
          6,
          7,
          8,
          9
         ],
         "y": [
          4.504854202270508,
          10.541289329528809,
          4.115821361541748,
          23.462928771972656,
          1.8707995414733887,
          7.57844352722168,
          11.078234672546387,
          8.524554252624512,
          20.62509536743164
         ]
        },
        {
         "line": {
          "color": "black",
          "width": 0.5
         },
         "opacity": 0.2,
         "type": "scatter",
         "x": [
          1,
          2,
          3,
          4,
          5,
          6,
          7,
          8,
          9
         ],
         "y": [
          -0.8134182691574097,
          -2.758390188217163,
          1.9670507907867432,
          -19.029293060302734,
          1.4826915264129639,
          -7.844305992126465,
          -0.0004100799560546875,
          -14.77800178527832,
          8.120168685913086
         ]
        },
        {
         "line": {
          "color": "black",
          "width": 0.5
         },
         "opacity": 0.2,
         "type": "scatter",
         "x": [
          1,
          2,
          3,
          4,
          5,
          6,
          7,
          8,
          9
         ],
         "y": [
          1.8996429443359375,
          3.236825942993164,
          -2.225255250930786,
          4.990915775299072,
          -0.08747869729995728,
          2.581834077835083,
          4.009082794189453,
          -0.027186870574951172,
          0.1889360547065735
         ]
        },
        {
         "line": {
          "color": "black",
          "width": 0.5
         },
         "opacity": 0.2,
         "type": "scatter",
         "x": [
          1,
          2,
          3,
          4,
          5,
          6,
          7,
          8,
          9
         ],
         "y": [
          0.8668880462646484,
          9.45014762878418,
          -2.4162750244140625,
          27.30929946899414,
          6.282942771911621,
          13.374993324279785,
          2.829968214035034,
          26.85810089111328,
          20.839733123779297
         ]
        },
        {
         "line": {
          "color": "black",
          "width": 0.5
         },
         "opacity": 0.2,
         "type": "scatter",
         "x": [
          1,
          2,
          3,
          4,
          5,
          6,
          7,
          8,
          9
         ],
         "y": [
          -7.949748992919922,
          -0.7214370369911194,
          -2.4419827461242676,
          -24.99500846862793,
          -1.95481538772583,
          -12.142613410949707,
          -7.362942218780518,
          -19.39080238342285,
          0.4688495397567749
         ]
        },
        {
         "line": {
          "color": "black",
          "width": 0.5
         },
         "opacity": 0.2,
         "type": "scatter",
         "x": [
          1,
          2,
          3,
          4,
          5,
          6,
          7,
          8,
          9
         ],
         "y": [
          -17.83558464050293,
          5.200613975524902,
          -5.122930526733398,
          -39.84750747680664,
          -7.759359359741211,
          -22.766490936279297,
          5.4134955406188965,
          -45.73749923706055,
          17.303316116333008
         ]
        },
        {
         "line": {
          "color": "black",
          "width": 0.5
         },
         "opacity": 0.2,
         "type": "scatter",
         "x": [
          1,
          2,
          3,
          4,
          5,
          6,
          7,
          8,
          9
         ],
         "y": [
          -11.129817962646484,
          -0.6946625113487244,
          -4.202130317687988,
          -21.358354568481445,
          -4.926739692687988,
          -8.928888320922852,
          -2.6691501140594482,
          -15.499801635742188,
          -10.340471267700195
         ]
        },
        {
         "line": {
          "color": "black",
          "width": 0.5
         },
         "opacity": 0.2,
         "type": "scatter",
         "x": [
          1,
          2,
          3,
          4,
          5,
          6,
          7,
          8,
          9
         ],
         "y": [
          4.780911922454834,
          -0.7476685047149658,
          2.257279396057129,
          6.832109451293945,
          -1.0626552104949951,
          -0.9275604486465454,
          1.9481515884399414,
          4.689613342285156,
          3.749300718307495
         ]
        },
        {
         "line": {
          "color": "black",
          "width": 0.5
         },
         "opacity": 0.2,
         "type": "scatter",
         "x": [
          1,
          2,
          3,
          4,
          5,
          6,
          7,
          8,
          9
         ],
         "y": [
          -8.236247062683105,
          -10.274471282958984,
          -3.272571086883545,
          -32.66135787963867,
          -2.7434301376342773,
          -12.037527084350586,
          -14.930020332336426,
          -16.338558197021484,
          -6.576674938201904
         ]
        },
        {
         "line": {
          "color": "black",
          "width": 0.5
         },
         "opacity": 0.2,
         "type": "scatter",
         "x": [
          1,
          2,
          3,
          4,
          5,
          6,
          7,
          8,
          9
         ],
         "y": [
          -14.276288986206055,
          -2.051745891571045,
          -3.0116496086120605,
          -37.79185104370117,
          -5.0115065574646,
          -15.87862491607666,
          -2.191894292831421,
          -32.32941436767578,
          -14.058037757873535
         ]
        },
        {
         "line": {
          "color": "black",
          "width": 0.5
         },
         "opacity": 0.2,
         "type": "scatter",
         "x": [
          1,
          2,
          3,
          4,
          5,
          6,
          7,
          8,
          9
         ],
         "y": [
          9.696832656860352,
          -1.9904028177261353,
          5.316178321838379,
          9.060077667236328,
          2.514735698699951,
          -0.18949127197265625,
          -1.3137259483337402,
          11.427743911743164,
          -6.056163787841797
         ]
        },
        {
         "line": {
          "color": "black",
          "width": 0.5
         },
         "opacity": 0.2,
         "type": "scatter",
         "x": [
          1,
          2,
          3,
          4,
          5,
          6,
          7,
          8,
          9
         ],
         "y": [
          0.46722960472106934,
          -8.562342643737793,
          -1.782858967781067,
          -16.6751766204834,
          2.460153579711914,
          -3.271523952484131,
          -10.099624633789062,
          -5.9673614501953125,
          -24.011722564697266
         ]
        },
        {
         "line": {
          "color": "black",
          "width": 0.5
         },
         "opacity": 0.2,
         "type": "scatter",
         "x": [
          1,
          2,
          3,
          4,
          5,
          6,
          7,
          8,
          9
         ],
         "y": [
          -11.683586120605469,
          -7.742830753326416,
          -4.337624549865723,
          -36.90061950683594,
          -1.1116043329238892,
          -10.515050888061523,
          -10.943426132202148,
          -20.45468521118164,
          -16.34476661682129
         ]
        },
        {
         "line": {
          "color": "black",
          "width": 0.5
         },
         "opacity": 0.2,
         "type": "scatter",
         "x": [
          1,
          2,
          3,
          4,
          5,
          6,
          7,
          8,
          9
         ],
         "y": [
          -4.605968475341797,
          -16.648426055908203,
          -4.282659530639648,
          -45.82769775390625,
          2.5404105186462402,
          -13.521092414855957,
          -17.854795455932617,
          -13.688399314880371,
          -2.9939451217651367
         ]
        },
        {
         "line": {
          "color": "black",
          "width": 0.5
         },
         "opacity": 0.2,
         "type": "scatter",
         "x": [
          1,
          2,
          3,
          4,
          5,
          6,
          7,
          8,
          9
         ],
         "y": [
          30.808673858642578,
          3.0186872482299805,
          20.96707534790039,
          46.78293228149414,
          8.602903366088867,
          14.791837692260742,
          9.292966842651367,
          30.09154510498047,
          10.668560028076172
         ]
        },
        {
         "line": {
          "color": "black",
          "width": 0.5
         },
         "opacity": 0.2,
         "type": "scatter",
         "x": [
          1,
          2,
          3,
          4,
          5,
          6,
          7,
          8,
          9
         ],
         "y": [
          -10.818815231323242,
          7.28350305557251,
          -4.568438529968262,
          -13.527466773986816,
          -3.9824202060699463,
          -7.652292251586914,
          9.288968086242676,
          -20.434276580810547,
          22.03532600402832
         ]
        },
        {
         "line": {
          "color": "black",
          "width": 0.5
         },
         "opacity": 0.2,
         "type": "scatter",
         "x": [
          1,
          2,
          3,
          4,
          5,
          6,
          7,
          8,
          9
         ],
         "y": [
          -35.0593147277832,
          -12.737272262573242,
          -13.702873229980469,
          -100.06329345703125,
          -9.346243858337402,
          -36.98501968383789,
          -22.808399200439453,
          -68.62396240234375,
          -23.75998306274414
         ]
        },
        {
         "line": {
          "color": "black",
          "width": 0.5
         },
         "opacity": 0.2,
         "type": "scatter",
         "x": [
          1,
          2,
          3,
          4,
          5,
          6,
          7,
          8,
          9
         ],
         "y": [
          23.606157302856445,
          6.080465793609619,
          8.881723403930664,
          64.78143310546875,
          8.584562301635742,
          26.05680274963379,
          13.504337310791016,
          48.11866760253906,
          18.14474105834961
         ]
        },
        {
         "line": {
          "color": "black",
          "width": 0.5
         },
         "opacity": 0.2,
         "type": "scatter",
         "x": [
          1,
          2,
          3,
          4,
          5,
          6,
          7,
          8,
          9
         ],
         "y": [
          11.65493392944336,
          27.76854705810547,
          8.871017456054688,
          74.18052673339844,
          2.679258346557617,
          25.161775588989258,
          38.8619384765625,
          20.76974868774414,
          45.077232360839844
         ]
        },
        {
         "line": {
          "color": "black",
          "width": 0.5
         },
         "opacity": 0.2,
         "type": "scatter",
         "x": [
          1,
          2,
          3,
          4,
          5,
          6,
          7,
          8,
          9
         ],
         "y": [
          11.020441055297852,
          -8.582693099975586,
          4.100010871887207,
          17.798751831054688,
          6.0034074783325195,
          12.821224212646484,
          -8.734375,
          30.559192657470703,
          -21.306581497192383
         ]
        },
        {
         "line": {
          "color": "black",
          "width": 0.5
         },
         "opacity": 0.2,
         "type": "scatter",
         "x": [
          1,
          2,
          3,
          4,
          5,
          6,
          7,
          8,
          9
         ],
         "y": [
          -4.335768222808838,
          -9.859124183654785,
          -1.4955109357833862,
          -33.48299789428711,
          12.033793449401855,
          0.8776254653930664,
          -22.615148544311523,
          -7.204750061035156,
          -20.489564895629883
         ]
        },
        {
         "line": {
          "color": "black",
          "width": 0.5
         },
         "opacity": 0.2,
         "type": "scatter",
         "x": [
          1,
          2,
          3,
          4,
          5,
          6,
          7,
          8,
          9
         ],
         "y": [
          6.767663955688477,
          -15.787064552307129,
          -0.0030000507831573486,
          -4.218938827514648,
          3.478973865509033,
          2.636350154876709,
          -17.704723358154297,
          25.10442352294922,
          -29.469696044921875
         ]
        },
        {
         "line": {
          "color": "black",
          "width": 0.5
         },
         "opacity": 0.2,
         "type": "scatter",
         "x": [
          1,
          2,
          3,
          4,
          5,
          6,
          7,
          8,
          9
         ],
         "y": [
          -20.257156372070312,
          -13.466565132141113,
          -10.294888496398926,
          -57.119789123535156,
          -4.874242782592773,
          -18.149158477783203,
          -17.049015045166016,
          -30.938169479370117,
          -29.112552642822266
         ]
        },
        {
         "line": {
          "color": "black",
          "width": 0.5
         },
         "opacity": 0.2,
         "type": "scatter",
         "x": [
          1,
          2,
          3,
          4,
          5,
          6,
          7,
          8,
          9
         ],
         "y": [
          -15.26485824584961,
          13.612310409545898,
          -6.786472320556641,
          -13.496849060058594,
          -3.1326189041137695,
          -6.0048723220825195,
          14.679729461669922,
          -29.569534301757812,
          31.024991989135742
         ]
        },
        {
         "line": {
          "color": "black",
          "width": 0.5
         },
         "opacity": 0.2,
         "type": "scatter",
         "x": [
          1,
          2,
          3,
          4,
          5,
          6,
          7,
          8,
          9
         ],
         "y": [
          -9.004837036132812,
          -23.86011505126953,
          2.3401565551757812,
          -71.48994445800781,
          -0.9565894603729248,
          -25.0125675201416,
          -36.38652038574219,
          -36.421875,
          -48.52183532714844
         ]
        },
        {
         "line": {
          "color": "black",
          "width": 0.5
         },
         "opacity": 0.2,
         "type": "scatter",
         "x": [
          1,
          2,
          3,
          4,
          5,
          6,
          7,
          8,
          9
         ],
         "y": [
          0.3695453405380249,
          5.7369537353515625,
          -0.7677847146987915,
          9.57619857788086,
          -2.891066312789917,
          1.8127970695495605,
          3.4005255699157715,
          2.6582956314086914,
          3.4498214721679688
         ]
        },
        {
         "line": {
          "color": "black",
          "width": 0.5
         },
         "opacity": 0.2,
         "type": "scatter",
         "x": [
          1,
          2,
          3,
          4,
          5,
          6,
          7,
          8,
          9
         ],
         "y": [
          6.0873894691467285,
          6.530988693237305,
          1.1983308792114258,
          41.34241485595703,
          6.378127098083496,
          23.887149810791016,
          6.017017364501953,
          29.56969451904297,
          13.432984352111816
         ]
        },
        {
         "line": {
          "color": "black",
          "width": 0.5
         },
         "opacity": 0.2,
         "type": "scatter",
         "x": [
          1,
          2,
          3,
          4,
          5,
          6,
          7,
          8,
          9
         ],
         "y": [
          24.260358810424805,
          0.9498589038848877,
          17.1134090423584,
          39.688926696777344,
          7.64096212387085,
          17.703529357910156,
          -2.6234917640686035,
          30.07439422607422,
          10.230905532836914
         ]
        },
        {
         "line": {
          "color": "black",
          "width": 0.5
         },
         "opacity": 0.2,
         "type": "scatter",
         "x": [
          1,
          2,
          3,
          4,
          5,
          6,
          7,
          8,
          9
         ],
         "y": [
          1.9694823026657104,
          0.4010303020477295,
          0.553100049495697,
          8.141146659851074,
          0.5763547420501709,
          2.841019630432129,
          1.0417907238006592,
          7.156190872192383,
          -0.6040181517601013
         ]
        },
        {
         "line": {
          "color": "black",
          "width": 0.5
         },
         "opacity": 0.2,
         "type": "scatter",
         "x": [
          1,
          2,
          3,
          4,
          5,
          6,
          7,
          8,
          9
         ],
         "y": [
          -4.916301727294922,
          -4.339175224304199,
          -0.8738856315612793,
          -33.65587615966797,
          -3.99941086769104,
          -14.492586135864258,
          -1.783888816833496,
          -25.694644927978516,
          9.072624206542969
         ]
        },
        {
         "line": {
          "color": "black",
          "width": 0.5
         },
         "opacity": 0.2,
         "type": "scatter",
         "x": [
          1,
          2,
          3,
          4,
          5,
          6,
          7,
          8,
          9
         ],
         "y": [
          0.05475413799285889,
          -10.147726058959961,
          -2.0467469692230225,
          -14.127862930297852,
          -0.9254027605056763,
          -5.260424613952637,
          -11.887432098388672,
          2.8539505004882812,
          -26.85114860534668
         ]
        },
        {
         "line": {
          "color": "black",
          "width": 0.5
         },
         "opacity": 0.2,
         "type": "scatter",
         "x": [
          1,
          2,
          3,
          4,
          5,
          6,
          7,
          8,
          9
         ],
         "y": [
          -45.66312789916992,
          -38.55133819580078,
          -19.707839965820312,
          -149.52162170410156,
          -6.337896347045898,
          -44.863155364990234,
          -50.30577087402344,
          -70.90800476074219,
          -50.73390197753906
         ]
        },
        {
         "line": {
          "color": "black",
          "width": 0.5
         },
         "opacity": 0.2,
         "type": "scatter",
         "x": [
          1,
          2,
          3,
          4,
          5,
          6,
          7,
          8,
          9
         ],
         "y": [
          -8.812256813049316,
          -1.192238450050354,
          -3.163670539855957,
          -23.233863830566406,
          -4.717464923858643,
          -12.066816329956055,
          -2.853013277053833,
          -21.454261779785156,
          -10.723780632019043
         ]
        },
        {
         "line": {
          "color": "black",
          "width": 0.5
         },
         "opacity": 0.2,
         "type": "scatter",
         "x": [
          1,
          2,
          3,
          4,
          5,
          6,
          7,
          8,
          9
         ],
         "y": [
          -0.16902455687522888,
          -1.1739240884780884,
          -0.4930764436721802,
          -7.034825801849365,
          3.190835952758789,
          1.4485993385314941,
          -2.2975375652313232,
          0.9132519960403442,
          8.282608032226562
         ]
        },
        {
         "line": {
          "color": "black",
          "width": 0.5
         },
         "opacity": 0.2,
         "type": "scatter",
         "x": [
          1,
          2,
          3,
          4,
          5,
          6,
          7,
          8,
          9
         ],
         "y": [
          -2.7304415702819824,
          1.6654052734375,
          -4.465326309204102,
          11.92572021484375,
          -0.5215641856193542,
          3.000338315963745,
          -1.1095504760742188,
          0.5715093612670898,
          -3.530972480773926
         ]
        },
        {
         "line": {
          "color": "black",
          "width": 0.5
         },
         "opacity": 0.2,
         "type": "scatter",
         "x": [
          1,
          2,
          3,
          4,
          5,
          6,
          7,
          8,
          9
         ],
         "y": [
          0.8911049365997314,
          -21.136394500732422,
          1.2459062337875366,
          -38.06338119506836,
          -1.1047550439834595,
          -14.914346694946289,
          -24.65195083618164,
          -9.334266662597656,
          -55.056854248046875
         ]
        },
        {
         "line": {
          "color": "black",
          "width": 0.5
         },
         "opacity": 0.2,
         "type": "scatter",
         "x": [
          1,
          2,
          3,
          4,
          5,
          6,
          7,
          8,
          9
         ],
         "y": [
          -0.09910324215888977,
          -1.7757046222686768,
          0.4194088280200958,
          -2.412353038787842,
          -0.13007575273513794,
          -0.8923264741897583,
          -1.2695624828338623,
          -2.002558469772339,
          -3.4343719482421875
         ]
        },
        {
         "line": {
          "color": "black",
          "width": 0.5
         },
         "opacity": 0.2,
         "type": "scatter",
         "x": [
          1,
          2,
          3,
          4,
          5,
          6,
          7,
          8,
          9
         ],
         "y": [
          3.544581174850464,
          0.9516798257827759,
          0.33745265007019043,
          -5.076072692871094,
          -3.7169158458709717,
          -6.321427822113037,
          3.8459315299987793,
          -10.795331954956055,
          7.201054573059082
         ]
        },
        {
         "line": {
          "color": "black",
          "width": 0.5
         },
         "opacity": 0.2,
         "type": "scatter",
         "x": [
          1,
          2,
          3,
          4,
          5,
          6,
          7,
          8,
          9
         ],
         "y": [
          6.903499603271484,
          25.51074981689453,
          4.465532302856445,
          40.02278137207031,
          0.7824981212615967,
          9.541526794433594,
          34.84666442871094,
          -3.4994211196899414,
          58.87390899658203
         ]
        },
        {
         "line": {
          "color": "black",
          "width": 0.5
         },
         "opacity": 0.2,
         "type": "scatter",
         "x": [
          1,
          2,
          3,
          4,
          5,
          6,
          7,
          8,
          9
         ],
         "y": [
          -5.1507062911987305,
          -0.9020699262619019,
          -8.260686874389648,
          -18.722002029418945,
          -4.755246162414551,
          -8.84106159210205,
          8.790313720703125,
          -16.164209365844727,
          -8.326736450195312
         ]
        },
        {
         "line": {
          "color": "black",
          "width": 0.5
         },
         "opacity": 0.2,
         "type": "scatter",
         "x": [
          1,
          2,
          3,
          4,
          5,
          6,
          7,
          8,
          9
         ],
         "y": [
          -5.122019290924072,
          1.4288005828857422,
          -1.2997926473617554,
          -9.562984466552734,
          4.290692329406738,
          3.8932957649230957,
          0.5950117111206055,
          -5.29433536529541,
          3.7142317295074463
         ]
        },
        {
         "line": {
          "color": "black",
          "width": 0.5
         },
         "opacity": 0.2,
         "type": "scatter",
         "x": [
          1,
          2,
          3,
          4,
          5,
          6,
          7,
          8,
          9
         ],
         "y": [
          2.8911876678466797,
          12.600229263305664,
          3.026332378387451,
          27.101238250732422,
          3.7363028526306152,
          12.097869873046875,
          19.968727111816406,
          13.862195014953613,
          49.27931594848633
         ]
        },
        {
         "line": {
          "color": "black",
          "width": 0.5
         },
         "opacity": 0.2,
         "type": "scatter",
         "x": [
          1,
          2,
          3,
          4,
          5,
          6,
          7,
          8,
          9
         ],
         "y": [
          -7.324513912200928,
          2.5068001747131348,
          -4.590671062469482,
          -5.290957450866699,
          -2.128382444381714,
          -1.368507742881775,
          2.995744466781616,
          -6.194058418273926,
          1.7304463386535645
         ]
        },
        {
         "line": {
          "color": "black",
          "width": 0.5
         },
         "opacity": 0.2,
         "type": "scatter",
         "x": [
          1,
          2,
          3,
          4,
          5,
          6,
          7,
          8,
          9
         ],
         "y": [
          -10.890015602111816,
          -4.434724807739258,
          -4.53562068939209,
          -27.77615737915039,
          -3.571328639984131,
          -10.315290451049805,
          -4.107371807098389,
          -13.312726974487305,
          -2.1545305252075195
         ]
        },
        {
         "line": {
          "color": "black",
          "width": 0.5
         },
         "opacity": 0.2,
         "type": "scatter",
         "x": [
          1,
          2,
          3,
          4,
          5,
          6,
          7,
          8,
          9
         ],
         "y": [
          0.39140868186950684,
          3.0943257808685303,
          -0.31085288524627686,
          10.540935516357422,
          -0.7512956857681274,
          3.130687713623047,
          4.281167030334473,
          3.619946002960205,
          1.4659101963043213
         ]
        },
        {
         "line": {
          "color": "black",
          "width": 0.5
         },
         "opacity": 0.2,
         "type": "scatter",
         "x": [
          1,
          2,
          3,
          4,
          5,
          6,
          7,
          8,
          9
         ],
         "y": [
          5.958998680114746,
          0.385663777589798,
          1.2227542400360107,
          20.19727325439453,
          3.110607385635376,
          9.946248054504395,
          -3.2677855491638184,
          11.756880760192871,
          -10.96137809753418
         ]
        },
        {
         "line": {
          "color": "black",
          "width": 0.5
         },
         "opacity": 0.2,
         "type": "scatter",
         "x": [
          1,
          2,
          3,
          4,
          5,
          6,
          7,
          8,
          9
         ],
         "y": [
          12.206507682800293,
          18.919466018676758,
          5.3415985107421875,
          53.36317825317383,
          1.6574786901474,
          15.997008323669434,
          27.11040496826172,
          21.376338958740234,
          45.410400390625
         ]
        },
        {
         "line": {
          "color": "black",
          "width": 0.5
         },
         "opacity": 0.2,
         "type": "scatter",
         "x": [
          1,
          2,
          3,
          4,
          5,
          6,
          7,
          8,
          9
         ],
         "y": [
          3.533871650695801,
          3.8683605194091797,
          3.1049909591674805,
          14.980423927307129,
          1.9600695371627808,
          7.871118545532227,
          4.114272117614746,
          9.860456466674805,
          8.797586441040039
         ]
        },
        {
         "line": {
          "color": "black",
          "width": 0.5
         },
         "opacity": 0.2,
         "type": "scatter",
         "x": [
          1,
          2,
          3,
          4,
          5,
          6,
          7,
          8,
          9
         ],
         "y": [
          -6.658161163330078,
          3.5643889904022217,
          -1.3231782913208008,
          -6.696084022521973,
          -7.762372016906738,
          -8.18846607208252,
          11.024808883666992,
          -12.318513870239258,
          4.304718017578125
         ]
        },
        {
         "line": {
          "color": "black",
          "width": 0.5
         },
         "opacity": 0.2,
         "type": "scatter",
         "x": [
          1,
          2,
          3,
          4,
          5,
          6,
          7,
          8,
          9
         ],
         "y": [
          -6.9788312911987305,
          -3.878659725189209,
          -2.4187028408050537,
          -23.1662540435791,
          0.6522137522697449,
          -5.9800004959106445,
          -5.958727836608887,
          -11.196184158325195,
          -3.7602853775024414
         ]
        },
        {
         "line": {
          "color": "black",
          "width": 0.5
         },
         "opacity": 0.2,
         "type": "scatter",
         "x": [
          1,
          2,
          3,
          4,
          5,
          6,
          7,
          8,
          9
         ],
         "y": [
          0.7461481094360352,
          21.848791122436523,
          2.9875481128692627,
          24.785999298095703,
          0.7266800403594971,
          5.570977687835693,
          22.15317153930664,
          6.43720817565918,
          50.74220275878906
         ]
        },
        {
         "line": {
          "color": "black",
          "width": 0.5
         },
         "opacity": 0.2,
         "type": "scatter",
         "x": [
          1,
          2,
          3,
          4,
          5,
          6,
          7,
          8,
          9
         ],
         "y": [
          23.962690353393555,
          10.828634262084961,
          9.224468231201172,
          88.62347412109375,
          7.042247772216797,
          35.581993103027344,
          15.891456604003906,
          64.39124298095703,
          23.33843231201172
         ]
        },
        {
         "line": {
          "color": "black",
          "width": 0.5
         },
         "opacity": 0.2,
         "type": "scatter",
         "x": [
          1,
          2,
          3,
          4,
          5,
          6,
          7,
          8,
          9
         ],
         "y": [
          -15.237992286682129,
          8.14869499206543,
          -11.183176040649414,
          -16.457944869995117,
          -7.541466236114502,
          -10.612919807434082,
          6.6489386558532715,
          -31.4329891204834,
          -1.768803596496582
         ]
        },
        {
         "line": {
          "color": "black",
          "width": 0.5
         },
         "opacity": 0.2,
         "type": "scatter",
         "x": [
          1,
          2,
          3,
          4,
          5,
          6,
          7,
          8,
          9
         ],
         "y": [
          -3.159846305847168,
          -0.873578667640686,
          -2.144023895263672,
          -8.391919136047363,
          -2.8445091247558594,
          -3.180114269256592,
          0.9876047372817993,
          -10.93287467956543,
          -4.3831377029418945
         ]
        },
        {
         "line": {
          "color": "black",
          "width": 0.5
         },
         "opacity": 0.2,
         "type": "scatter",
         "x": [
          1,
          2,
          3,
          4,
          5,
          6,
          7,
          8,
          9
         ],
         "y": [
          0.40650081634521484,
          4.755084037780762,
          4.149518013000488,
          10.241920471191406,
          0.07026231288909912,
          -0.43485450744628906,
          -7.363839149475098,
          4.494179725646973,
          9.420029640197754
         ]
        },
        {
         "line": {
          "color": "black",
          "width": 0.5
         },
         "opacity": 0.2,
         "type": "scatter",
         "x": [
          1,
          2,
          3,
          4,
          5,
          6,
          7,
          8,
          9
         ],
         "y": [
          -26.075912475585938,
          6.762898921966553,
          -5.082126617431641,
          -71.82791137695312,
          -3.722247838973999,
          -29.00767707824707,
          -0.4802980422973633,
          -67.30169677734375,
          16.794504165649414
         ]
        },
        {
         "line": {
          "color": "black",
          "width": 0.5
         },
         "opacity": 0.2,
         "type": "scatter",
         "x": [
          1,
          2,
          3,
          4,
          5,
          6,
          7,
          8,
          9
         ],
         "y": [
          0.6874744892120361,
          -3.647620677947998,
          1.55251944065094,
          -10.029306411743164,
          -0.37213134765625,
          -5.091045379638672,
          -5.288415908813477,
          -2.9312872886657715,
          -3.973529577255249
         ]
        },
        {
         "line": {
          "color": "black",
          "width": 0.5
         },
         "opacity": 0.2,
         "type": "scatter",
         "x": [
          1,
          2,
          3,
          4,
          5,
          6,
          7,
          8,
          9
         ],
         "y": [
          1.0973610877990723,
          6.798890590667725,
          -4.6872758865356445,
          38.58089065551758,
          0.5339916944503784,
          15.042274475097656,
          8.612242698669434,
          25.549362182617188,
          -13.166869163513184
         ]
        },
        {
         "line": {
          "color": "black",
          "width": 0.5
         },
         "opacity": 0.2,
         "type": "scatter",
         "x": [
          1,
          2,
          3,
          4,
          5,
          6,
          7,
          8,
          9
         ],
         "y": [
          7.7750444412231445,
          -7.482325553894043,
          2.7508950233459473,
          -5.025629043579102,
          -1.0584170818328857,
          -4.268590927124023,
          -2.038686752319336,
          7.475828170776367,
          -9.802022933959961
         ]
        },
        {
         "line": {
          "color": "black",
          "width": 0.5
         },
         "opacity": 0.2,
         "type": "scatter",
         "x": [
          1,
          2,
          3,
          4,
          5,
          6,
          7,
          8,
          9
         ],
         "y": [
          -12.934865951538086,
          -12.46049976348877,
          -5.362691402435303,
          -51.029823303222656,
          -2.2003607749938965,
          -17.032302856445312,
          -17.558364868164062,
          -27.22097396850586,
          -27.09380340576172
         ]
        },
        {
         "line": {
          "color": "black",
          "width": 0.5
         },
         "opacity": 0.2,
         "type": "scatter",
         "x": [
          1,
          2,
          3,
          4,
          5,
          6,
          7,
          8,
          9
         ],
         "y": [
          10.829141616821289,
          5.8242597579956055,
          5.940851211547852,
          45.48650360107422,
          1.8529229164123535,
          14.422142028808594,
          9.464056968688965,
          28.024795532226562,
          6.689067363739014
         ]
        },
        {
         "line": {
          "color": "black",
          "width": 0.5
         },
         "opacity": 0.2,
         "type": "scatter",
         "x": [
          1,
          2,
          3,
          4,
          5,
          6,
          7,
          8,
          9
         ],
         "y": [
          -0.29892778396606445,
          -6.639614105224609,
          -2.3198530673980713,
          -6.626154899597168,
          -1.0071980953216553,
          -1.7030444145202637,
          -6.408675193786621,
          4.797075271606445,
          -18.769939422607422
         ]
        },
        {
         "line": {
          "color": "black",
          "width": 0.5
         },
         "opacity": 0.2,
         "type": "scatter",
         "x": [
          1,
          2,
          3,
          4,
          5,
          6,
          7,
          8,
          9
         ],
         "y": [
          -3.006913900375366,
          -5.23808479309082,
          -0.6556681394577026,
          -22.30508041381836,
          -5.433205604553223,
          -15.007566452026367,
          -4.033378601074219,
          -15.382452011108398,
          -12.546745300292969
         ]
        },
        {
         "line": {
          "color": "black",
          "width": 0.5
         },
         "opacity": 0.2,
         "type": "scatter",
         "x": [
          1,
          2,
          3,
          4,
          5,
          6,
          7,
          8,
          9
         ],
         "y": [
          8.968667030334473,
          13.750181198120117,
          -1.1759233474731445,
          62.92254638671875,
          3.336329460144043,
          26.200977325439453,
          17.521804809570312,
          37.78219985961914,
          27.52328109741211
         ]
        },
        {
         "line": {
          "color": "black",
          "width": 0.5
         },
         "opacity": 0.2,
         "type": "scatter",
         "x": [
          1,
          2,
          3,
          4,
          5,
          6,
          7,
          8,
          9
         ],
         "y": [
          11.875432968139648,
          -16.361717224121094,
          8.42800521850586,
          -25.278854370117188,
          5.930561065673828,
          -7.837856769561768,
          -16.75341796875,
          -3.5048933029174805,
          -23.291479110717773
         ]
        },
        {
         "line": {
          "color": "black",
          "width": 0.5
         },
         "opacity": 0.2,
         "type": "scatter",
         "x": [
          1,
          2,
          3,
          4,
          5,
          6,
          7,
          8,
          9
         ],
         "y": [
          -3.1507174968719482,
          1.70769464969635,
          0.5314352512359619,
          0.7462046146392822,
          -1.6604927778244019,
          -0.6565933227539062,
          7.518767356872559,
          -5.101284980773926,
          10.689638137817383
         ]
        },
        {
         "line": {
          "color": "black",
          "width": 0.5
         },
         "opacity": 0.2,
         "type": "scatter",
         "x": [
          1,
          2,
          3,
          4,
          5,
          6,
          7,
          8,
          9
         ],
         "y": [
          10.559257507324219,
          8.585566520690918,
          4.09390115737915,
          30.82951545715332,
          5.124543190002441,
          12.706094741821289,
          13.905084609985352,
          18.231197357177734,
          23.484806060791016
         ]
        },
        {
         "line": {
          "color": "black",
          "width": 0.5
         },
         "opacity": 0.2,
         "type": "scatter",
         "x": [
          1,
          2,
          3,
          4,
          5,
          6,
          7,
          8,
          9
         ],
         "y": [
          3.99493408203125,
          -10.842039108276367,
          1.8058490753173828,
          -3.7934627532958984,
          1.7260661125183105,
          3.025883197784424,
          -9.178606986999512,
          5.525392532348633,
          -9.729942321777344
         ]
        },
        {
         "line": {
          "color": "black",
          "width": 0.5
         },
         "opacity": 0.2,
         "type": "scatter",
         "x": [
          1,
          2,
          3,
          4,
          5,
          6,
          7,
          8,
          9
         ],
         "y": [
          -26.075063705444336,
          2.8874497413635254,
          -13.595905303955078,
          -37.71311950683594,
          -9.594990730285645,
          -11.207372665405273,
          1.6987276077270508,
          -26.00026512145996,
          30.318599700927734
         ]
        },
        {
         "line": {
          "color": "black",
          "width": 0.5
         },
         "opacity": 0.2,
         "type": "scatter",
         "x": [
          1,
          2,
          3,
          4,
          5,
          6,
          7,
          8,
          9
         ],
         "y": [
          9.252578735351562,
          0.8519508838653564,
          4.542727470397949,
          35.683841705322266,
          -0.05929362773895264,
          7.557250022888184,
          6.409970283508301,
          27.214441299438477,
          -3.908961296081543
         ]
        },
        {
         "line": {
          "color": "black",
          "width": 0.5
         },
         "opacity": 0.2,
         "type": "scatter",
         "x": [
          1,
          2,
          3,
          4,
          5,
          6,
          7,
          8,
          9
         ],
         "y": [
          -29.685562133789062,
          -16.775554656982422,
          -13.60873031616211,
          -85.84886932373047,
          -10.900506973266602,
          -35.21775436401367,
          -24.69825553894043,
          -52.54985046386719,
          -26.254587173461914
         ]
        },
        {
         "line": {
          "color": "black",
          "width": 0.5
         },
         "opacity": 0.2,
         "type": "scatter",
         "x": [
          1,
          2,
          3,
          4,
          5,
          6,
          7,
          8,
          9
         ],
         "y": [
          20.20703125,
          -17.404333114624023,
          9.838972091674805,
          20.668670654296875,
          8.910326957702637,
          12.894643783569336,
          -11.03363037109375,
          35.720584869384766,
          -27.442543029785156
         ]
        },
        {
         "line": {
          "color": "black",
          "width": 0.5
         },
         "opacity": 0.2,
         "type": "scatter",
         "x": [
          1,
          2,
          3,
          4,
          5,
          6,
          7,
          8,
          9
         ],
         "y": [
          -27.20100975036621,
          6.0313639640808105,
          -12.981861114501953,
          -41.45444107055664,
          -11.404475212097168,
          -17.497711181640625,
          14.228939056396484,
          -44.87995147705078,
          20.02682113647461
         ]
        },
        {
         "line": {
          "color": "black",
          "width": 0.5
         },
         "opacity": 0.2,
         "type": "scatter",
         "x": [
          1,
          2,
          3,
          4,
          5,
          6,
          7,
          8,
          9
         ],
         "y": [
          -1.8512308597564697,
          -6.491381645202637,
          -1.2100977897644043,
          -2.463131904602051,
          1.8989455699920654,
          4.861039638519287,
          -10.185023307800293,
          8.803323745727539,
          -7.865797519683838
         ]
        },
        {
         "line": {
          "color": "black",
          "width": 0.5
         },
         "opacity": 0.2,
         "type": "scatter",
         "x": [
          1,
          2,
          3,
          4,
          5,
          6,
          7,
          8,
          9
         ],
         "y": [
          -13.182836532592773,
          -0.8496835231781006,
          -6.3714447021484375,
          -22.076251983642578,
          -2.7231791019439697,
          -8.179351806640625,
          -8.407520294189453,
          -12.57012939453125,
          0.029777050018310547
         ]
        },
        {
         "line": {
          "color": "black",
          "width": 0.5
         },
         "opacity": 0.2,
         "type": "scatter",
         "x": [
          1,
          2,
          3,
          4,
          5,
          6,
          7,
          8,
          9
         ],
         "y": [
          -8.082381248474121,
          -11.796381950378418,
          -4.5027995109558105,
          -15.156073570251465,
          -1.382278561592102,
          -7.721271991729736,
          -13.432073593139648,
          11.08721923828125,
          -32.2723503112793
         ]
        },
        {
         "line": {
          "color": "black",
          "width": 0.5
         },
         "opacity": 0.2,
         "type": "scatter",
         "x": [
          1,
          2,
          3,
          4,
          5,
          6,
          7,
          8,
          9
         ],
         "y": [
          0.8853089809417725,
          1.16805100440979,
          0.30970799922943115,
          3.5611584186553955,
          0.5104776620864868,
          1.603365182876587,
          1.0345619916915894,
          1.8262747526168823,
          2.3543784618377686
         ]
        },
        {
         "line": {
          "color": "black",
          "width": 0.5
         },
         "opacity": 0.2,
         "type": "scatter",
         "x": [
          1,
          2,
          3,
          4,
          5,
          6,
          7,
          8,
          9
         ],
         "y": [
          0.9805914759635925,
          -1.1072449684143066,
          -0.11381995677947998,
          4.7052459716796875,
          1.1190663576126099,
          3.3280110359191895,
          -3.8406269550323486,
          5.620852470397949,
          -5.241430759429932
         ]
        },
        {
         "line": {
          "color": "black",
          "width": 0.5
         },
         "opacity": 0.2,
         "type": "scatter",
         "x": [
          1,
          2,
          3,
          4,
          5,
          6,
          7,
          8,
          9
         ],
         "y": [
          3.6715986728668213,
          -2.0208611488342285,
          3.010512351989746,
          6.323574066162109,
          1.1409776210784912,
          3.503366708755493,
          0.8790673017501831,
          9.519604682922363,
          -3.2352378368377686
         ]
        },
        {
         "line": {
          "color": "black",
          "width": 0.5
         },
         "opacity": 0.2,
         "type": "scatter",
         "x": [
          1,
          2,
          3,
          4,
          5,
          6,
          7,
          8,
          9
         ],
         "y": [
          14.745400428771973,
          6.7156877517700195,
          6.191586494445801,
          40.680599212646484,
          -0.724396824836731,
          9.370206832885742,
          15.741898536682129,
          20.45901107788086,
          -4.873517990112305
         ]
        },
        {
         "line": {
          "color": "black",
          "width": 0.5
         },
         "opacity": 0.2,
         "type": "scatter",
         "x": [
          1,
          2,
          3,
          4,
          5,
          6,
          7,
          8,
          9
         ],
         "y": [
          7.009255409240723,
          -1.3538419008255005,
          0.09143131971359253,
          8.331624984741211,
          -2.885284423828125,
          -3.144503116607666,
          1.365494966506958,
          12.162409782409668,
          1.850625991821289
         ]
        },
        {
         "line": {
          "color": "black",
          "width": 0.5
         },
         "opacity": 0.2,
         "type": "scatter",
         "x": [
          1,
          2,
          3,
          4,
          5,
          6,
          7,
          8,
          9
         ],
         "y": [
          -6.727731704711914,
          -0.17931616306304932,
          -0.9786369204521179,
          -11.746625900268555,
          -1.0829503536224365,
          -3.6148481369018555,
          -1.6054444313049316,
          -5.123729705810547,
          -2.3298707008361816
         ]
        },
        {
         "line": {
          "color": "black",
          "width": 0.5
         },
         "opacity": 0.2,
         "type": "scatter",
         "x": [
          1,
          2,
          3,
          4,
          5,
          6,
          7,
          8,
          9
         ],
         "y": [
          -3.586434841156006,
          -1.5683650970458984,
          -1.1875838041305542,
          -23.852054595947266,
          -4.338836193084717,
          -14.724063873291016,
          -7.180615425109863,
          -20.13153648376465,
          -3.0077996253967285
         ]
        },
        {
         "line": {
          "color": "black",
          "width": 0.5
         },
         "opacity": 0.2,
         "type": "scatter",
         "x": [
          1,
          2,
          3,
          4,
          5,
          6,
          7,
          8,
          9
         ],
         "y": [
          -4.027165412902832,
          12.07178783416748,
          -7.018452167510986,
          13.007550239562988,
          -1.9513909816741943,
          3.7130043506622314,
          16.569034576416016,
          -6.548047065734863,
          37.7010612487793
         ]
        },
        {
         "line": {
          "color": "black",
          "width": 0.5
         },
         "opacity": 0.2,
         "type": "scatter",
         "x": [
          1,
          2,
          3,
          4,
          5,
          6,
          7,
          8,
          9
         ],
         "y": [
          -7.724491119384766,
          -7.8359270095825195,
          0.5173114538192749,
          -36.4101676940918,
          -1.5910991430282593,
          -14.475544929504395,
          -11.628016471862793,
          -19.727447509765625,
          -13.614142417907715
         ]
        },
        {
         "line": {
          "color": "black",
          "width": 0.5
         },
         "opacity": 0.2,
         "type": "scatter",
         "x": [
          1,
          2,
          3,
          4,
          5,
          6,
          7,
          8,
          9
         ],
         "y": [
          -12.46397876739502,
          -4.13480281829834,
          -7.423110008239746,
          -25.345298767089844,
          -2.782423496246338,
          -7.836640357971191,
          -9.941768646240234,
          -18.035837173461914,
          -16.294559478759766
         ]
        },
        {
         "line": {
          "color": "black",
          "width": 0.5
         },
         "opacity": 0.2,
         "type": "scatter",
         "x": [
          1,
          2,
          3,
          4,
          5,
          6,
          7,
          8,
          9
         ],
         "y": [
          -12.989511489868164,
          20.383590698242188,
          -4.453982830047607,
          -2.3243026733398438,
          -9.363987922668457,
          -10.519794464111328,
          19.49506378173828,
          -34.09201431274414,
          26.589868545532227
         ]
        },
        {
         "line": {
          "color": "black",
          "width": 0.5
         },
         "opacity": 0.2,
         "type": "scatter",
         "x": [
          1,
          2,
          3,
          4,
          5,
          6,
          7,
          8,
          9
         ],
         "y": [
          -11.125078201293945,
          6.07772970199585,
          -4.012139320373535,
          -23.615705490112305,
          -6.46683931350708,
          -15.353885650634766,
          7.719257354736328,
          -32.0505256652832,
          -13.846353530883789
         ]
        },
        {
         "line": {
          "color": "black",
          "width": 0.5
         },
         "opacity": 0.2,
         "type": "scatter",
         "x": [
          1,
          2,
          3,
          4,
          5,
          6,
          7,
          8,
          9
         ],
         "y": [
          -10.748575210571289,
          -5.932282447814941,
          -5.193170070648193,
          -32.29706573486328,
          -1.3864572048187256,
          -9.972900390625,
          -8.147135734558105,
          -14.316160202026367,
          -9.785076141357422
         ]
        },
        {
         "line": {
          "color": "black",
          "width": 0.5
         },
         "opacity": 0.2,
         "type": "scatter",
         "x": [
          1,
          2,
          3,
          4,
          5,
          6,
          7,
          8,
          9
         ],
         "y": [
          1.4433488845825195,
          -6.759397506713867,
          4.523858070373535,
          -29.538745880126953,
          2.6916215419769287,
          -11.103293418884277,
          -5.368196487426758,
          -18.27357292175293,
          7.299071311950684
         ]
        },
        {
         "line": {
          "color": "black",
          "width": 0.5
         },
         "opacity": 0.2,
         "type": "scatter",
         "x": [
          1,
          2,
          3,
          4,
          5,
          6,
          7,
          8,
          9
         ],
         "y": [
          -13.449695587158203,
          -24.225086212158203,
          -8.1837158203125,
          -79.44195556640625,
          -2.4242801666259766,
          -28.395496368408203,
          -28.343711853027344,
          -32.983280181884766,
          -35.87055969238281
         ]
        },
        {
         "line": {
          "color": "black",
          "width": 0.5
         },
         "opacity": 0.2,
         "type": "scatter",
         "x": [
          1,
          2,
          3,
          4,
          5,
          6,
          7,
          8,
          9
         ],
         "y": [
          21.275634765625,
          9.845892906188965,
          9.9149751663208,
          46.63273239135742,
          3.2939295768737793,
          10.940573692321777,
          16.789695739746094,
          26.393524169921875,
          35.208274841308594
         ]
        },
        {
         "line": {
          "color": "black",
          "width": 0.5
         },
         "opacity": 0.2,
         "type": "scatter",
         "x": [
          1,
          2,
          3,
          4,
          5,
          6,
          7,
          8,
          9
         ],
         "y": [
          -1.7663605213165283,
          5.313894271850586,
          -1.3581733703613281,
          3.2836291790008545,
          -1.6741414070129395,
          -0.26546138525009155,
          8.122926712036133,
          -4.817970275878906,
          10.09510612487793
         ]
        },
        {
         "line": {
          "color": "black",
          "width": 0.5
         },
         "opacity": 0.2,
         "type": "scatter",
         "x": [
          1,
          2,
          3,
          4,
          5,
          6,
          7,
          8,
          9
         ],
         "y": [
          1.9908194541931152,
          -1.5290296077728271,
          0.11592298746109009,
          4.467230796813965,
          0.7624433636665344,
          1.6093825101852417,
          -0.14039814472198486,
          -0.8827376365661621,
          2.307920455932617
         ]
        },
        {
         "line": {
          "color": "black",
          "width": 0.5
         },
         "opacity": 0.2,
         "type": "scatter",
         "x": [
          1,
          2,
          3,
          4,
          5,
          6,
          7,
          8,
          9
         ],
         "y": [
          -0.6416982412338257,
          0.8231010437011719,
          2.8828485012054443,
          -10.785530090332031,
          0.470726877450943,
          -4.4904279708862305,
          -2.1653871536254883,
          -10.154327392578125,
          1.816664457321167
         ]
        },
        {
         "line": {
          "color": "black",
          "width": 0.5
         },
         "opacity": 0.2,
         "type": "scatter",
         "x": [
          1,
          2,
          3,
          4,
          5,
          6,
          7,
          8,
          9
         ],
         "y": [
          -10.308329582214355,
          1.8333866596221924,
          -6.640551567077637,
          -13.898489952087402,
          -2.718249797821045,
          -3.930973768234253,
          5.768651962280273,
          -14.56992244720459,
          11.483227729797363
         ]
        }
       ],
       "layout": {
        "legend": {
         "tracegroupgap": 0
        },
        "margin": {
         "t": 60
        },
        "showlegend": false,
        "template": {
         "data": {
          "bar": [
           {
            "error_x": {
             "color": "#2a3f5f"
            },
            "error_y": {
             "color": "#2a3f5f"
            },
            "marker": {
             "line": {
              "color": "white",
              "width": 0.5
             },
             "pattern": {
              "fillmode": "overlay",
              "size": 10,
              "solidity": 0.2
             }
            },
            "type": "bar"
           }
          ],
          "barpolar": [
           {
            "marker": {
             "line": {
              "color": "white",
              "width": 0.5
             },
             "pattern": {
              "fillmode": "overlay",
              "size": 10,
              "solidity": 0.2
             }
            },
            "type": "barpolar"
           }
          ],
          "carpet": [
           {
            "aaxis": {
             "endlinecolor": "#2a3f5f",
             "gridcolor": "#C8D4E3",
             "linecolor": "#C8D4E3",
             "minorgridcolor": "#C8D4E3",
             "startlinecolor": "#2a3f5f"
            },
            "baxis": {
             "endlinecolor": "#2a3f5f",
             "gridcolor": "#C8D4E3",
             "linecolor": "#C8D4E3",
             "minorgridcolor": "#C8D4E3",
             "startlinecolor": "#2a3f5f"
            },
            "type": "carpet"
           }
          ],
          "choropleth": [
           {
            "colorbar": {
             "outlinewidth": 0,
             "ticks": ""
            },
            "type": "choropleth"
           }
          ],
          "contour": [
           {
            "colorbar": {
             "outlinewidth": 0,
             "ticks": ""
            },
            "colorscale": [
             [
              0,
              "#0d0887"
             ],
             [
              0.1111111111111111,
              "#46039f"
             ],
             [
              0.2222222222222222,
              "#7201a8"
             ],
             [
              0.3333333333333333,
              "#9c179e"
             ],
             [
              0.4444444444444444,
              "#bd3786"
             ],
             [
              0.5555555555555556,
              "#d8576b"
             ],
             [
              0.6666666666666666,
              "#ed7953"
             ],
             [
              0.7777777777777778,
              "#fb9f3a"
             ],
             [
              0.8888888888888888,
              "#fdca26"
             ],
             [
              1,
              "#f0f921"
             ]
            ],
            "type": "contour"
           }
          ],
          "contourcarpet": [
           {
            "colorbar": {
             "outlinewidth": 0,
             "ticks": ""
            },
            "type": "contourcarpet"
           }
          ],
          "heatmap": [
           {
            "colorbar": {
             "outlinewidth": 0,
             "ticks": ""
            },
            "colorscale": [
             [
              0,
              "#0d0887"
             ],
             [
              0.1111111111111111,
              "#46039f"
             ],
             [
              0.2222222222222222,
              "#7201a8"
             ],
             [
              0.3333333333333333,
              "#9c179e"
             ],
             [
              0.4444444444444444,
              "#bd3786"
             ],
             [
              0.5555555555555556,
              "#d8576b"
             ],
             [
              0.6666666666666666,
              "#ed7953"
             ],
             [
              0.7777777777777778,
              "#fb9f3a"
             ],
             [
              0.8888888888888888,
              "#fdca26"
             ],
             [
              1,
              "#f0f921"
             ]
            ],
            "type": "heatmap"
           }
          ],
          "heatmapgl": [
           {
            "colorbar": {
             "outlinewidth": 0,
             "ticks": ""
            },
            "colorscale": [
             [
              0,
              "#0d0887"
             ],
             [
              0.1111111111111111,
              "#46039f"
             ],
             [
              0.2222222222222222,
              "#7201a8"
             ],
             [
              0.3333333333333333,
              "#9c179e"
             ],
             [
              0.4444444444444444,
              "#bd3786"
             ],
             [
              0.5555555555555556,
              "#d8576b"
             ],
             [
              0.6666666666666666,
              "#ed7953"
             ],
             [
              0.7777777777777778,
              "#fb9f3a"
             ],
             [
              0.8888888888888888,
              "#fdca26"
             ],
             [
              1,
              "#f0f921"
             ]
            ],
            "type": "heatmapgl"
           }
          ],
          "histogram": [
           {
            "marker": {
             "pattern": {
              "fillmode": "overlay",
              "size": 10,
              "solidity": 0.2
             }
            },
            "type": "histogram"
           }
          ],
          "histogram2d": [
           {
            "colorbar": {
             "outlinewidth": 0,
             "ticks": ""
            },
            "colorscale": [
             [
              0,
              "#0d0887"
             ],
             [
              0.1111111111111111,
              "#46039f"
             ],
             [
              0.2222222222222222,
              "#7201a8"
             ],
             [
              0.3333333333333333,
              "#9c179e"
             ],
             [
              0.4444444444444444,
              "#bd3786"
             ],
             [
              0.5555555555555556,
              "#d8576b"
             ],
             [
              0.6666666666666666,
              "#ed7953"
             ],
             [
              0.7777777777777778,
              "#fb9f3a"
             ],
             [
              0.8888888888888888,
              "#fdca26"
             ],
             [
              1,
              "#f0f921"
             ]
            ],
            "type": "histogram2d"
           }
          ],
          "histogram2dcontour": [
           {
            "colorbar": {
             "outlinewidth": 0,
             "ticks": ""
            },
            "colorscale": [
             [
              0,
              "#0d0887"
             ],
             [
              0.1111111111111111,
              "#46039f"
             ],
             [
              0.2222222222222222,
              "#7201a8"
             ],
             [
              0.3333333333333333,
              "#9c179e"
             ],
             [
              0.4444444444444444,
              "#bd3786"
             ],
             [
              0.5555555555555556,
              "#d8576b"
             ],
             [
              0.6666666666666666,
              "#ed7953"
             ],
             [
              0.7777777777777778,
              "#fb9f3a"
             ],
             [
              0.8888888888888888,
              "#fdca26"
             ],
             [
              1,
              "#f0f921"
             ]
            ],
            "type": "histogram2dcontour"
           }
          ],
          "mesh3d": [
           {
            "colorbar": {
             "outlinewidth": 0,
             "ticks": ""
            },
            "type": "mesh3d"
           }
          ],
          "parcoords": [
           {
            "line": {
             "colorbar": {
              "outlinewidth": 0,
              "ticks": ""
             }
            },
            "type": "parcoords"
           }
          ],
          "pie": [
           {
            "automargin": true,
            "type": "pie"
           }
          ],
          "scatter": [
           {
            "fillpattern": {
             "fillmode": "overlay",
             "size": 10,
             "solidity": 0.2
            },
            "type": "scatter"
           }
          ],
          "scatter3d": [
           {
            "line": {
             "colorbar": {
              "outlinewidth": 0,
              "ticks": ""
             }
            },
            "marker": {
             "colorbar": {
              "outlinewidth": 0,
              "ticks": ""
             }
            },
            "type": "scatter3d"
           }
          ],
          "scattercarpet": [
           {
            "marker": {
             "colorbar": {
              "outlinewidth": 0,
              "ticks": ""
             }
            },
            "type": "scattercarpet"
           }
          ],
          "scattergeo": [
           {
            "marker": {
             "colorbar": {
              "outlinewidth": 0,
              "ticks": ""
             }
            },
            "type": "scattergeo"
           }
          ],
          "scattergl": [
           {
            "marker": {
             "colorbar": {
              "outlinewidth": 0,
              "ticks": ""
             }
            },
            "type": "scattergl"
           }
          ],
          "scattermapbox": [
           {
            "marker": {
             "colorbar": {
              "outlinewidth": 0,
              "ticks": ""
             }
            },
            "type": "scattermapbox"
           }
          ],
          "scatterpolar": [
           {
            "marker": {
             "colorbar": {
              "outlinewidth": 0,
              "ticks": ""
             }
            },
            "type": "scatterpolar"
           }
          ],
          "scatterpolargl": [
           {
            "marker": {
             "colorbar": {
              "outlinewidth": 0,
              "ticks": ""
             }
            },
            "type": "scatterpolargl"
           }
          ],
          "scatterternary": [
           {
            "marker": {
             "colorbar": {
              "outlinewidth": 0,
              "ticks": ""
             }
            },
            "type": "scatterternary"
           }
          ],
          "surface": [
           {
            "colorbar": {
             "outlinewidth": 0,
             "ticks": ""
            },
            "colorscale": [
             [
              0,
              "#0d0887"
             ],
             [
              0.1111111111111111,
              "#46039f"
             ],
             [
              0.2222222222222222,
              "#7201a8"
             ],
             [
              0.3333333333333333,
              "#9c179e"
             ],
             [
              0.4444444444444444,
              "#bd3786"
             ],
             [
              0.5555555555555556,
              "#d8576b"
             ],
             [
              0.6666666666666666,
              "#ed7953"
             ],
             [
              0.7777777777777778,
              "#fb9f3a"
             ],
             [
              0.8888888888888888,
              "#fdca26"
             ],
             [
              1,
              "#f0f921"
             ]
            ],
            "type": "surface"
           }
          ],
          "table": [
           {
            "cells": {
             "fill": {
              "color": "#EBF0F8"
             },
             "line": {
              "color": "white"
             }
            },
            "header": {
             "fill": {
              "color": "#C8D4E3"
             },
             "line": {
              "color": "white"
             }
            },
            "type": "table"
           }
          ]
         },
         "layout": {
          "annotationdefaults": {
           "arrowcolor": "#2a3f5f",
           "arrowhead": 0,
           "arrowwidth": 1
          },
          "autotypenumbers": "strict",
          "coloraxis": {
           "colorbar": {
            "outlinewidth": 0,
            "ticks": ""
           }
          },
          "colorscale": {
           "diverging": [
            [
             0,
             "#8e0152"
            ],
            [
             0.1,
             "#c51b7d"
            ],
            [
             0.2,
             "#de77ae"
            ],
            [
             0.3,
             "#f1b6da"
            ],
            [
             0.4,
             "#fde0ef"
            ],
            [
             0.5,
             "#f7f7f7"
            ],
            [
             0.6,
             "#e6f5d0"
            ],
            [
             0.7,
             "#b8e186"
            ],
            [
             0.8,
             "#7fbc41"
            ],
            [
             0.9,
             "#4d9221"
            ],
            [
             1,
             "#276419"
            ]
           ],
           "sequential": [
            [
             0,
             "#0d0887"
            ],
            [
             0.1111111111111111,
             "#46039f"
            ],
            [
             0.2222222222222222,
             "#7201a8"
            ],
            [
             0.3333333333333333,
             "#9c179e"
            ],
            [
             0.4444444444444444,
             "#bd3786"
            ],
            [
             0.5555555555555556,
             "#d8576b"
            ],
            [
             0.6666666666666666,
             "#ed7953"
            ],
            [
             0.7777777777777778,
             "#fb9f3a"
            ],
            [
             0.8888888888888888,
             "#fdca26"
            ],
            [
             1,
             "#f0f921"
            ]
           ],
           "sequentialminus": [
            [
             0,
             "#0d0887"
            ],
            [
             0.1111111111111111,
             "#46039f"
            ],
            [
             0.2222222222222222,
             "#7201a8"
            ],
            [
             0.3333333333333333,
             "#9c179e"
            ],
            [
             0.4444444444444444,
             "#bd3786"
            ],
            [
             0.5555555555555556,
             "#d8576b"
            ],
            [
             0.6666666666666666,
             "#ed7953"
            ],
            [
             0.7777777777777778,
             "#fb9f3a"
            ],
            [
             0.8888888888888888,
             "#fdca26"
            ],
            [
             1,
             "#f0f921"
            ]
           ]
          },
          "colorway": [
           "#636efa",
           "#EF553B",
           "#00cc96",
           "#ab63fa",
           "#FFA15A",
           "#19d3f3",
           "#FF6692",
           "#B6E880",
           "#FF97FF",
           "#FECB52"
          ],
          "font": {
           "color": "#2a3f5f"
          },
          "geo": {
           "bgcolor": "white",
           "lakecolor": "white",
           "landcolor": "white",
           "showlakes": true,
           "showland": true,
           "subunitcolor": "#C8D4E3"
          },
          "hoverlabel": {
           "align": "left"
          },
          "hovermode": "closest",
          "mapbox": {
           "style": "light"
          },
          "paper_bgcolor": "white",
          "plot_bgcolor": "white",
          "polar": {
           "angularaxis": {
            "gridcolor": "#EBF0F8",
            "linecolor": "#EBF0F8",
            "ticks": ""
           },
           "bgcolor": "white",
           "radialaxis": {
            "gridcolor": "#EBF0F8",
            "linecolor": "#EBF0F8",
            "ticks": ""
           }
          },
          "scene": {
           "xaxis": {
            "backgroundcolor": "white",
            "gridcolor": "#DFE8F3",
            "gridwidth": 2,
            "linecolor": "#EBF0F8",
            "showbackground": true,
            "ticks": "",
            "zerolinecolor": "#EBF0F8"
           },
           "yaxis": {
            "backgroundcolor": "white",
            "gridcolor": "#DFE8F3",
            "gridwidth": 2,
            "linecolor": "#EBF0F8",
            "showbackground": true,
            "ticks": "",
            "zerolinecolor": "#EBF0F8"
           },
           "zaxis": {
            "backgroundcolor": "white",
            "gridcolor": "#DFE8F3",
            "gridwidth": 2,
            "linecolor": "#EBF0F8",
            "showbackground": true,
            "ticks": "",
            "zerolinecolor": "#EBF0F8"
           }
          },
          "shapedefaults": {
           "line": {
            "color": "#2a3f5f"
           }
          },
          "ternary": {
           "aaxis": {
            "gridcolor": "#DFE8F3",
            "linecolor": "#A2B1C6",
            "ticks": ""
           },
           "baxis": {
            "gridcolor": "#DFE8F3",
            "linecolor": "#A2B1C6",
            "ticks": ""
           },
           "bgcolor": "white",
           "caxis": {
            "gridcolor": "#DFE8F3",
            "linecolor": "#A2B1C6",
            "ticks": ""
           }
          },
          "title": {
           "x": 0.05
          },
          "xaxis": {
           "automargin": true,
           "gridcolor": "#EBF0F8",
           "linecolor": "#EBF0F8",
           "ticks": "",
           "title": {
            "standoff": 15
           },
           "zerolinecolor": "#EBF0F8",
           "zerolinewidth": 2
          },
          "yaxis": {
           "automargin": true,
           "gridcolor": "#EBF0F8",
           "linecolor": "#EBF0F8",
           "ticks": "",
           "title": {
            "standoff": 15
           },
           "zerolinecolor": "#EBF0F8",
           "zerolinewidth": 2
          }
         }
        },
        "title": {
         "text": "Prior Predictive Simulation"
        },
        "xaxis": {
         "anchor": "y",
         "domain": [
          0,
          1
         ],
         "title": {
          "text": "Region Index"
         }
        },
        "yaxis": {
         "anchor": "x",
         "domain": [
          0,
          1
         ],
         "title": {
          "text": "Num Cases"
         }
        }
       }
      },
      "text/html": [
       "<div>                            <div id=\"6e34c88f-f2ea-48f7-b7fc-c408b9dfc768\" class=\"plotly-graph-div\" style=\"height:525px; width:100%;\"></div>            <script type=\"text/javascript\">                require([\"plotly\"], function(Plotly) {                    window.PLOTLYENV=window.PLOTLYENV || {};                                    if (document.getElementById(\"6e34c88f-f2ea-48f7-b7fc-c408b9dfc768\")) {                    Plotly.newPlot(                        \"6e34c88f-f2ea-48f7-b7fc-c408b9dfc768\",                        [{\"hovertemplate\":\"\\u003cextra\\u003e\\u003c\\u002fextra\\u003e\",\"legendgroup\":\"\",\"line\":{\"color\":\"#636efa\",\"dash\":\"solid\"},\"marker\":{\"symbol\":\"circle\"},\"mode\":\"lines\",\"name\":\"\",\"orientation\":\"v\",\"showlegend\":false,\"xaxis\":\"x\",\"yaxis\":\"y\",\"type\":\"scatter\"},{\"line\":{\"color\":\"black\",\"width\":0.5},\"opacity\":0.2,\"x\":[1,2,3,4,5,6,7,8,9],\"y\":[20.64046859741211,-3.1397948265075684,16.033580780029297,37.10581970214844,11.512639999389648,21.667613983154297,-4.382707595825195,34.16627883911133,-19.34296226501465],\"type\":\"scatter\"},{\"line\":{\"color\":\"black\",\"width\":0.5},\"opacity\":0.2,\"x\":[1,2,3,4,5,6,7,8,9],\"y\":[11.311685562133789,-0.652434229850769,2.7089030742645264,23.77058982849121,3.5742998123168945,14.18651008605957,4.64285945892334,18.053916931152344,6.442647457122803],\"type\":\"scatter\"},{\"line\":{\"color\":\"black\",\"width\":0.5},\"opacity\":0.2,\"x\":[1,2,3,4,5,6,7,8,9],\"y\":[-34.70812225341797,-23.505826950073242,-17.376192092895508,-94.3799057006836,-9.614395141601562,-32.91508102416992,-36.277854919433594,-57.16114044189453,-62.97644805908203],\"type\":\"scatter\"},{\"line\":{\"color\":\"black\",\"width\":0.5},\"opacity\":0.2,\"x\":[1,2,3,4,5,6,7,8,9],\"y\":[-7.506441593170166,-14.047149658203125,-1.3522007465362549,-22.76813507080078,-7.782564640045166,-10.450479507446289,-10.870299339294434,-2.7958250045776367,-38.48859786987305],\"type\":\"scatter\"},{\"line\":{\"color\":\"black\",\"width\":0.5},\"opacity\":0.2,\"x\":[1,2,3,4,5,6,7,8,9],\"y\":[2.1239771842956543,-6.381628513336182,1.2064356803894043,-5.414626598358154,1.5451074838638306,-0.4054133892059326,-8.160758972167969,4.010261535644531,-13.075089454650879],\"type\":\"scatter\"},{\"line\":{\"color\":\"black\",\"width\":0.5},\"opacity\":0.2,\"x\":[1,2,3,4,5,6,7,8,9],\"y\":[-2.32820463180542,1.4250317811965942,0.5828918218612671,-3.7954840660095215,-0.9260436296463013,-1.3956599235534668,0.46581876277923584,-9.163871765136719,5.897528648376465],\"type\":\"scatter\"},{\"line\":{\"color\":\"black\",\"width\":0.5},\"opacity\":0.2,\"x\":[1,2,3,4,5,6,7,8,9],\"y\":[26.049816131591797,-11.620378494262695,14.441082954406738,25.894195556640625,3.409193754196167,10.32847785949707,-15.46945571899414,31.017318725585938,-26.056507110595703],\"type\":\"scatter\"},{\"line\":{\"color\":\"black\",\"width\":0.5},\"opacity\":0.2,\"x\":[1,2,3,4,5,6,7,8,9],\"y\":[10.585573196411133,-11.862656593322754,1.8969264030456543,2.2452735900878906,5.411228179931641,5.458488941192627,-6.315508842468262,20.486303329467773,-14.83455753326416],\"type\":\"scatter\"},{\"line\":{\"color\":\"black\",\"width\":0.5},\"opacity\":0.2,\"x\":[1,2,3,4,5,6,7,8,9],\"y\":[-18.954723358154297,14.17336368560791,-8.394322395324707,-19.79222869873047,-11.92699909210205,-15.925079345703125,15.637319564819336,-39.46437072753906,29.287111282348633],\"type\":\"scatter\"},{\"line\":{\"color\":\"black\",\"width\":0.5},\"opacity\":0.2,\"x\":[1,2,3,4,5,6,7,8,9],\"y\":[-0.7246495485305786,-0.123970627784729,0.12405568361282349,-5.393353462219238,0.08791646361351013,-3.280916690826416,-6.374876976013184,-3.2411699295043945,7.7177510261535645],\"type\":\"scatter\"},{\"line\":{\"color\":\"black\",\"width\":0.5},\"opacity\":0.2,\"x\":[1,2,3,4,5,6,7,8,9],\"y\":[12.88357925415039,9.45905590057373,1.5641671419143677,57.81660461425781,0.8449932336807251,19.513643264770508,16.20882797241211,38.05805587768555,11.281801223754883],\"type\":\"scatter\"},{\"line\":{\"color\":\"black\",\"width\":0.5},\"opacity\":0.2,\"x\":[1,2,3,4,5,6,7,8,9],\"y\":[4.30596923828125,16.936031341552734,5.603704929351807,41.131675720214844,3.3237829208374023,15.688837051391602,18.18381690979004,8.196001052856445,32.688072204589844],\"type\":\"scatter\"},{\"line\":{\"color\":\"black\",\"width\":0.5},\"opacity\":0.2,\"x\":[1,2,3,4,5,6,7,8,9],\"y\":[4.955112934112549,4.6389665603637695,4.360109329223633,11.798770904541016,-1.2226780652999878,-1.577726125717163,6.223123550415039,-4.37174129486084,-4.703583240509033],\"type\":\"scatter\"},{\"line\":{\"color\":\"black\",\"width\":0.5},\"opacity\":0.2,\"x\":[1,2,3,4,5,6,7,8,9],\"y\":[4.101005554199219,-5.131638526916504,1.0560479164123535,-1.9933419227600098,1.4891996383666992,-0.6038000583648682,-2.2163822650909424,3.3379993438720703,-6.7959442138671875],\"type\":\"scatter\"},{\"line\":{\"color\":\"black\",\"width\":0.5},\"opacity\":0.2,\"x\":[1,2,3,4,5,6,7,8,9],\"y\":[-10.968595504760742,2.7821857929229736,-5.36612606048584,-14.307914733886719,-3.2417490482330322,-4.716849327087402,-0.15548694133758545,-13.6033296585083,6.0859222412109375],\"type\":\"scatter\"},{\"line\":{\"color\":\"black\",\"width\":0.5},\"opacity\":0.2,\"x\":[1,2,3,4,5,6,7,8,9],\"y\":[-4.390493392944336,8.559385299682617,-4.614406585693359,23.372682571411133,-0.5560558438301086,12.200995445251465,8.322731018066406,11.097891807556152,8.775358200073242],\"type\":\"scatter\"},{\"line\":{\"color\":\"black\",\"width\":0.5},\"opacity\":0.2,\"x\":[1,2,3,4,5,6,7,8,9],\"y\":[-12.114057540893555,-19.418399810791016,-1.06118643283844,-58.32106399536133,-1.892977237701416,-19.296709060668945,-23.419200897216797,-27.326961517333984,-30.75687599182129],\"type\":\"scatter\"},{\"line\":{\"color\":\"black\",\"width\":0.5},\"opacity\":0.2,\"x\":[1,2,3,4,5,6,7,8,9],\"y\":[0.1846720278263092,0.5181159973144531,0.6690254211425781,1.2161071300506592,-0.09954793006181717,-0.055130839347839355,1.0392831563949585,-0.022536516189575195,1.743762731552124],\"type\":\"scatter\"},{\"line\":{\"color\":\"black\",\"width\":0.5},\"opacity\":0.2,\"x\":[1,2,3,4,5,6,7,8,9],\"y\":[4.0008544921875,-3.4305102825164795,1.0590740442276,7.9097723960876465,-2.12667179107666,0.21115350723266602,-1.065496563911438,2.949151039123535,-8.820969581604004],\"type\":\"scatter\"},{\"line\":{\"color\":\"black\",\"width\":0.5},\"opacity\":0.2,\"x\":[1,2,3,4,5,6,7,8,9],\"y\":[-6.383892059326172,6.99354362487793,-3.130786418914795,-4.844856262207031,-2.9731976985931396,-5.665136337280273,5.7367048263549805,-11.789963722229004,20.095890045166016],\"type\":\"scatter\"},{\"line\":{\"color\":\"black\",\"width\":0.5},\"opacity\":0.2,\"x\":[1,2,3,4,5,6,7,8,9],\"y\":[-3.505253314971924,-6.134726524353027,4.676000118255615,-31.140869140625,1.2788379192352295,-9.239917755126953,-11.306432723999023,-20.055633544921875,-15.340264320373535],\"type\":\"scatter\"},{\"line\":{\"color\":\"black\",\"width\":0.5},\"opacity\":0.2,\"x\":[1,2,3,4,5,6,7,8,9],\"y\":[-3.461641550064087,-0.36079204082489014,-5.5240092277526855,-6.393338680267334,-1.4836909770965576,-1.594893455505371,0.22847914695739746,-0.495607852935791,3.5300981998443604],\"type\":\"scatter\"},{\"line\":{\"color\":\"black\",\"width\":0.5},\"opacity\":0.2,\"x\":[1,2,3,4,5,6,7,8,9],\"y\":[1.3609660863876343,9.63376235961914,-2.1460626125335693,13.181379318237305,-1.0572969913482666,3.513024091720581,12.019280433654785,-5.692271709442139,20.62682342529297],\"type\":\"scatter\"},{\"line\":{\"color\":\"black\",\"width\":0.5},\"opacity\":0.2,\"x\":[1,2,3,4,5,6,7,8,9],\"y\":[1.0811516046524048,5.636971473693848,-1.0332579612731934,18.568998336791992,3.273184299468994,11.706501960754395,2.3838090896606445,13.464107513427734,8.120752334594727],\"type\":\"scatter\"},{\"line\":{\"color\":\"black\",\"width\":0.5},\"opacity\":0.2,\"x\":[1,2,3,4,5,6,7,8,9],\"y\":[-0.6238529682159424,6.860513687133789,0.23296986520290375,4.131478309631348,-2.794977903366089,-3.3302574157714844,8.833462715148926,-7.9273271560668945,14.282903671264648],\"type\":\"scatter\"},{\"line\":{\"color\":\"black\",\"width\":0.5},\"opacity\":0.2,\"x\":[1,2,3,4,5,6,7,8,9],\"y\":[-2.6281352043151855,7.163753032684326,-7.511227607727051,11.049315452575684,-5.392786026000977,1.494631290435791,10.118962287902832,-7.719889163970947,4.008030891418457],\"type\":\"scatter\"},{\"line\":{\"color\":\"black\",\"width\":0.5},\"opacity\":0.2,\"x\":[1,2,3,4,5,6,7,8,9],\"y\":[1.527274489402771,5.218307971954346,0.28816789388656616,10.875129699707031,1.5199370384216309,5.092209815979004,5.48584508895874,4.416925430297852,8.2709321975708],\"type\":\"scatter\"},{\"line\":{\"color\":\"black\",\"width\":0.5},\"opacity\":0.2,\"x\":[1,2,3,4,5,6,7,8,9],\"y\":[23.12857437133789,-1.1141161918640137,9.927666664123535,27.201372146606445,5.101666450500488,4.761350154876709,5.139100551605225,14.245463371276855,20.830307006835938],\"type\":\"scatter\"},{\"line\":{\"color\":\"black\",\"width\":0.5},\"opacity\":0.2,\"x\":[1,2,3,4,5,6,7,8,9],\"y\":[-0.9759364128112793,-1.1672481298446655,1.294564127922058,0.1756889820098877,-0.6558732986450195,0.4179114103317261,0.2503430247306824,1.150044322013855,-1.1808828115463257],\"type\":\"scatter\"},{\"line\":{\"color\":\"black\",\"width\":0.5},\"opacity\":0.2,\"x\":[1,2,3,4,5,6,7,8,9],\"y\":[16.099586486816406,8.901865005493164,10.828176498413086,40.83340835571289,6.816185474395752,18.06412696838379,6.044933319091797,24.785234451293945,8.498682022094727],\"type\":\"scatter\"},{\"line\":{\"color\":\"black\",\"width\":0.5},\"opacity\":0.2,\"x\":[1,2,3,4,5,6,7,8,9],\"y\":[15.408647537231445,-11.486429214477539,7.077838897705078,8.848508834838867,4.0105366706848145,3.509169340133667,-6.249155521392822,21.983524322509766,-19.217700958251953],\"type\":\"scatter\"},{\"line\":{\"color\":\"black\",\"width\":0.5},\"opacity\":0.2,\"x\":[1,2,3,4,5,6,7,8,9],\"y\":[-11.971334457397461,8.26966667175293,-4.52726936340332,-21.214637756347656,-3.960405111312866,-11.035028457641602,5.6288862228393555,-28.368024826049805,17.682117462158203],\"type\":\"scatter\"},{\"line\":{\"color\":\"black\",\"width\":0.5},\"opacity\":0.2,\"x\":[1,2,3,4,5,6,7,8,9],\"y\":[-7.512781143188477,-2.0923891067504883,-6.219425201416016,-16.781574249267578,-1.479752540588379,-6.103304386138916,-3.991065502166748,-4.17585563659668,-9.042387962341309],\"type\":\"scatter\"},{\"line\":{\"color\":\"black\",\"width\":0.5},\"opacity\":0.2,\"x\":[1,2,3,4,5,6,7,8,9],\"y\":[27.67799186706543,11.579221725463867,7.820415496826172,77.41867065429688,10.402966499328613,31.177261352539062,10.41337776184082,55.137779235839844,23.762590408325195],\"type\":\"scatter\"},{\"line\":{\"color\":\"black\",\"width\":0.5},\"opacity\":0.2,\"x\":[1,2,3,4,5,6,7,8,9],\"y\":[-0.34622645378112793,-5.061178207397461,-1.0362581014633179,4.381635665893555,-1.4308791160583496,3.7445218563079834,-4.584039688110352,5.501991271972656,-11.640583038330078],\"type\":\"scatter\"},{\"line\":{\"color\":\"black\",\"width\":0.5},\"opacity\":0.2,\"x\":[1,2,3,4,5,6,7,8,9],\"y\":[20.035831451416016,9.33143424987793,6.492443084716797,64.11009216308594,6.147528171539307,25.27491569519043,12.45155143737793,39.51366424560547,-8.486732482910156],\"type\":\"scatter\"},{\"line\":{\"color\":\"black\",\"width\":0.5},\"opacity\":0.2,\"x\":[1,2,3,4,5,6,7,8,9],\"y\":[-8.465105056762695,22.146682739257812,-4.152871131896973,13.568038940429688,-5.417728900909424,-1.4617881774902344,27.519947052001953,-17.906618118286133,48.59092712402344],\"type\":\"scatter\"},{\"line\":{\"color\":\"black\",\"width\":0.5},\"opacity\":0.2,\"x\":[1,2,3,4,5,6,7,8,9],\"y\":[8.670723915100098,1.2135624885559082,4.349343776702881,21.526390075683594,1.5406917333602905,8.687593460083008,3.8054511547088623,13.85093879699707,2.7749640941619873],\"type\":\"scatter\"},{\"line\":{\"color\":\"black\",\"width\":0.5},\"opacity\":0.2,\"x\":[1,2,3,4,5,6,7,8,9],\"y\":[0.8319201469421387,-1.9324917793273926,0.6865003108978271,-0.3467898368835449,-0.4996216297149658,-0.8750667572021484,-0.3613167405128479,0.3951794505119324,-2.7801549434661865],\"type\":\"scatter\"},{\"line\":{\"color\":\"black\",\"width\":0.5},\"opacity\":0.2,\"x\":[1,2,3,4,5,6,7,8,9],\"y\":[-4.362063884735107,-3.8114986419677734,-0.5101068615913391,-21.347517013549805,-0.19635918736457825,-7.525481224060059,-8.446534156799316,-12.164250373840332,-8.524179458618164],\"type\":\"scatter\"},{\"line\":{\"color\":\"black\",\"width\":0.5},\"opacity\":0.2,\"x\":[1,2,3,4,5,6,7,8,9],\"y\":[-0.998030424118042,8.161054611206055,1.412449598312378,8.81422233581543,-1.180807113647461,0.3649829626083374,9.014442443847656,-6.711454391479492,10.093238830566406],\"type\":\"scatter\"},{\"line\":{\"color\":\"black\",\"width\":0.5},\"opacity\":0.2,\"x\":[1,2,3,4,5,6,7,8,9],\"y\":[12.319347381591797,1.9334313869476318,8.973838806152344,25.11090087890625,3.953484296798706,12.661806106567383,-0.22211718559265137,16.02574920654297,13.131460189819336],\"type\":\"scatter\"},{\"line\":{\"color\":\"black\",\"width\":0.5},\"opacity\":0.2,\"x\":[1,2,3,4,5,6,7,8,9],\"y\":[-11.979168891906738,-2.594266653060913,-4.121587753295898,-45.12376403808594,-7.141137599945068,-23.270584106445312,-0.467789888381958,-39.714813232421875,-4.423053741455078],\"type\":\"scatter\"},{\"line\":{\"color\":\"black\",\"width\":0.5},\"opacity\":0.2,\"x\":[1,2,3,4,5,6,7,8,9],\"y\":[2.323544502258301,3.427539587020874,-1.0045827627182007,14.110759735107422,0.7862091660499573,5.667020320892334,2.7901103496551514,9.18027114868164,1.5845140218734741],\"type\":\"scatter\"},{\"line\":{\"color\":\"black\",\"width\":0.5},\"opacity\":0.2,\"x\":[1,2,3,4,5,6,7,8,9],\"y\":[-9.842697143554688,5.4238667488098145,-5.246007919311523,-12.709609031677246,-4.171314239501953,-7.316469192504883,5.5131378173828125,-19.151912689208984,11.852028846740723],\"type\":\"scatter\"},{\"line\":{\"color\":\"black\",\"width\":0.5},\"opacity\":0.2,\"x\":[1,2,3,4,5,6,7,8,9],\"y\":[-27.06321144104004,-9.802203178405762,-15.90703010559082,-72.97190856933594,-0.9315639734268188,-15.393646240234375,-7.714531421661377,-35.57679748535156,-2.1928558349609375],\"type\":\"scatter\"},{\"line\":{\"color\":\"black\",\"width\":0.5},\"opacity\":0.2,\"x\":[1,2,3,4,5,6,7,8,9],\"y\":[5.73203706741333,-4.743459701538086,2.060154438018799,0.40035122632980347,1.7097060680389404,0.15507519245147705,-5.812905788421631,1.7975072860717773,-0.4351181983947754],\"type\":\"scatter\"},{\"line\":{\"color\":\"black\",\"width\":0.5},\"opacity\":0.2,\"x\":[1,2,3,4,5,6,7,8,9],\"y\":[-13.939611434936523,-5.522790431976318,-2.434166193008423,-48.55830383300781,-0.6692739725112915,-21.13922691345215,-9.485508918762207,-27.25172996520996,-6.191006660461426],\"type\":\"scatter\"},{\"line\":{\"color\":\"black\",\"width\":0.5},\"opacity\":0.2,\"x\":[1,2,3,4,5,6,7,8,9],\"y\":[-9.104208946228027,-7.193556785583496,-2.1805200576782227,-37.98033905029297,-4.509922981262207,-18.078006744384766,-9.831504821777344,-28.03966522216797,-15.291635513305664],\"type\":\"scatter\"},{\"line\":{\"color\":\"black\",\"width\":0.5},\"opacity\":0.2,\"x\":[1,2,3,4,5,6,7,8,9],\"y\":[-12.632749557495117,-4.584886074066162,-5.038609504699707,-39.816707611083984,-5.505397796630859,-14.56668472290039,-0.32372021675109863,-34.950191497802734,17.678970336914062],\"type\":\"scatter\"},{\"line\":{\"color\":\"black\",\"width\":0.5},\"opacity\":0.2,\"x\":[1,2,3,4,5,6,7,8,9],\"y\":[-2.7033984661102295,-15.044708251953125,-2.8893628120422363,-0.6261463165283203,4.872622013092041,12.276094436645508,-15.863265991210938,26.184627532958984,-10.758452415466309],\"type\":\"scatter\"},{\"line\":{\"color\":\"black\",\"width\":0.5},\"opacity\":0.2,\"x\":[1,2,3,4,5,6,7,8,9],\"y\":[-0.0879058837890625,22.73550033569336,-1.3878142833709717,41.77423095703125,1.9412163496017456,16.039749145507812,28.091604232788086,8.956855773925781,69.02497863769531],\"type\":\"scatter\"},{\"line\":{\"color\":\"black\",\"width\":0.5},\"opacity\":0.2,\"x\":[1,2,3,4,5,6,7,8,9],\"y\":[1.9680912494659424,-7.5435075759887695,1.1100035905838013,-15.503161430358887,1.9245322942733765,-4.899991035461426,-11.549112319946289,-17.684682846069336,-28.8593807220459],\"type\":\"scatter\"},{\"line\":{\"color\":\"black\",\"width\":0.5},\"opacity\":0.2,\"x\":[1,2,3,4,5,6,7,8,9],\"y\":[4.279064178466797,19.224878311157227,-7.1672163009643555,63.91835021972656,4.491994857788086,30.751686096191406,21.865812301635742,37.336936950683594,36.43282699584961],\"type\":\"scatter\"},{\"line\":{\"color\":\"black\",\"width\":0.5},\"opacity\":0.2,\"x\":[1,2,3,4,5,6,7,8,9],\"y\":[-12.366694450378418,-1.0732769966125488,-4.999761581420898,-27.98486328125,-4.039393424987793,-12.857221603393555,-3.631401777267456,-22.899066925048828,-2.081770420074463],\"type\":\"scatter\"},{\"line\":{\"color\":\"black\",\"width\":0.5},\"opacity\":0.2,\"x\":[1,2,3,4,5,6,7,8,9],\"y\":[-3.0616238117218018,0.08610165119171143,-0.6202504634857178,-5.78892707824707,0.15496772527694702,-2.2840535640716553,-2.4854001998901367,-3.3572566509246826,-1.314081072807312],\"type\":\"scatter\"},{\"line\":{\"color\":\"black\",\"width\":0.5},\"opacity\":0.2,\"x\":[1,2,3,4,5,6,7,8,9],\"y\":[-6.283411026000977,3.0652201175689697,-0.6479690074920654,-5.117171287536621,-1.4805997610092163,-2.3360438346862793,0.7240215539932251,-8.4306058883667,3.537181854248047],\"type\":\"scatter\"},{\"line\":{\"color\":\"black\",\"width\":0.5},\"opacity\":0.2,\"x\":[1,2,3,4,5,6,7,8,9],\"y\":[-0.6388654708862305,14.020365715026855,1.2810966968536377,8.146596908569336,-7.124931335449219,-8.631999015808105,14.826434135437012,-18.41631317138672,11.275657653808594],\"type\":\"scatter\"},{\"line\":{\"color\":\"black\",\"width\":0.5},\"opacity\":0.2,\"x\":[1,2,3,4,5,6,7,8,9],\"y\":[-9.083857536315918,-2.819277048110962,-1.2500059604644775,-26.510089874267578,-1.7572205066680908,-8.422886848449707,-8.584592819213867,-18.373790740966797,4.060927391052246],\"type\":\"scatter\"},{\"line\":{\"color\":\"black\",\"width\":0.5},\"opacity\":0.2,\"x\":[1,2,3,4,5,6,7,8,9],\"y\":[-13.088187217712402,-2.7235565185546875,-4.339498996734619,-42.78086853027344,-4.170297622680664,-18.362699508666992,0.2566506862640381,-31.71588897705078,10.409249305725098],\"type\":\"scatter\"},{\"line\":{\"color\":\"black\",\"width\":0.5},\"opacity\":0.2,\"x\":[1,2,3,4,5,6,7,8,9],\"y\":[-2.594852924346924,3.6115689277648926,-3.344109296798706,3.106092691421509,-0.5597612857818604,0.9911811351776123,5.946384429931641,-1.2167916297912598,19.132007598876953],\"type\":\"scatter\"},{\"line\":{\"color\":\"black\",\"width\":0.5},\"opacity\":0.2,\"x\":[1,2,3,4,5,6,7,8,9],\"y\":[3.5970585346221924,0.05062723159790039,3.6394424438476562,5.421841144561768,-0.4314277768135071,-1.5420382022857666,-0.9956893920898438,1.1970701217651367,-7.66717004776001],\"type\":\"scatter\"},{\"line\":{\"color\":\"black\",\"width\":0.5},\"opacity\":0.2,\"x\":[1,2,3,4,5,6,7,8,9],\"y\":[1.9739813804626465,-1.2247402667999268,0.9930359125137329,2.701795816421509,0.903241753578186,1.928514003753662,-1.2744145393371582,4.35597038269043,-2.148125648498535],\"type\":\"scatter\"},{\"line\":{\"color\":\"black\",\"width\":0.5},\"opacity\":0.2,\"x\":[1,2,3,4,5,6,7,8,9],\"y\":[27.189441680908203,1.0416505336761475,5.946967601776123,40.47100067138672,4.641648292541504,10.157045364379883,9.389183044433594,32.48015594482422,-0.10369181632995605],\"type\":\"scatter\"},{\"line\":{\"color\":\"black\",\"width\":0.5},\"opacity\":0.2,\"x\":[1,2,3,4,5,6,7,8,9],\"y\":[10.702018737792969,-1.7845271825790405,4.096646308898926,19.35650634765625,4.7009477615356445,8.911280632019043,-1.9823553562164307,24.502742767333984,-8.200180053710938],\"type\":\"scatter\"},{\"line\":{\"color\":\"black\",\"width\":0.5},\"opacity\":0.2,\"x\":[1,2,3,4,5,6,7,8,9],\"y\":[0.2544780671596527,-0.3308084011077881,0.38866573572158813,-1.2629706859588623,-0.8216195106506348,-0.7243537902832031,-0.8282173871994019,1.0370904207229614,-0.39003729820251465],\"type\":\"scatter\"},{\"line\":{\"color\":\"black\",\"width\":0.5},\"opacity\":0.2,\"x\":[1,2,3,4,5,6,7,8,9],\"y\":[2.3545117378234863,-0.3171761631965637,1.386664628982544,0.2985990047454834,0.9707470536231995,0.027327001094818115,1.6013540029525757,1.8031933307647705,2.9103713035583496],\"type\":\"scatter\"},{\"line\":{\"color\":\"black\",\"width\":0.5},\"opacity\":0.2,\"x\":[1,2,3,4,5,6,7,8,9],\"y\":[-7.869260787963867,5.924435138702393,7.872152805328369,-6.3721418380737305,-0.8506141901016235,-2.2086431980133057,6.719752788543701,-3.105848550796509,27.133913040161133],\"type\":\"scatter\"},{\"line\":{\"color\":\"black\",\"width\":0.5},\"opacity\":0.2,\"x\":[1,2,3,4,5,6,7,8,9],\"y\":[-3.6213905811309814,-2.2406792640686035,-2.2155816555023193,-8.84152603149414,-2.3091490268707275,-4.566898345947266,-1.7910577058792114,-10.772055625915527,-3.0470385551452637],\"type\":\"scatter\"},{\"line\":{\"color\":\"black\",\"width\":0.5},\"opacity\":0.2,\"x\":[1,2,3,4,5,6,7,8,9],\"y\":[-32.41088104248047,-0.005029201507568359,-17.240665435791016,-54.23337936401367,-0.4797949194908142,-2.7973947525024414,-4.849456787109375,-40.24677658081055,1.547508716583252],\"type\":\"scatter\"},{\"line\":{\"color\":\"black\",\"width\":0.5},\"opacity\":0.2,\"x\":[1,2,3,4,5,6,7,8,9],\"y\":[-10.204008102416992,2.3561625480651855,-7.085850715637207,-9.971160888671875,-4.20354700088501,-1.6419968605041504,4.086413383483887,-19.756277084350586,6.836844444274902],\"type\":\"scatter\"},{\"line\":{\"color\":\"black\",\"width\":0.5},\"opacity\":0.2,\"x\":[1,2,3,4,5,6,7,8,9],\"y\":[-9.564910888671875,4.709465503692627,-3.0705065727233887,3.250364303588867,-0.5968230366706848,7.323431015014648,-0.874396800994873,-3.328744888305664,2.871030807495117],\"type\":\"scatter\"},{\"line\":{\"color\":\"black\",\"width\":0.5},\"opacity\":0.2,\"x\":[1,2,3,4,5,6,7,8,9],\"y\":[-2.256528615951538,-0.7953009605407715,-1.6000909805297852,-8.923418998718262,2.6867268085479736,1.2785049676895142,-8.611059188842773,-3.494719982147217,-10.383646965026855],\"type\":\"scatter\"},{\"line\":{\"color\":\"black\",\"width\":0.5},\"opacity\":0.2,\"x\":[1,2,3,4,5,6,7,8,9],\"y\":[-2.2718558311462402,1.6942886114120483,-0.07660213112831116,-15.046075820922852,-4.702757358551025,-12.888432502746582,3.8626317977905273,-14.27548599243164,2.728308916091919],\"type\":\"scatter\"},{\"line\":{\"color\":\"black\",\"width\":0.5},\"opacity\":0.2,\"x\":[1,2,3,4,5,6,7,8,9],\"y\":[-2.9118945598602295,-4.1560378074646,-1.8359520435333252,-10.753122329711914,-0.1950247883796692,-1.7267065048217773,-4.470439910888672,-8.561376571655273,-9.925537109375],\"type\":\"scatter\"},{\"line\":{\"color\":\"black\",\"width\":0.5},\"opacity\":0.2,\"x\":[1,2,3,4,5,6,7,8,9],\"y\":[86.9600830078125,5.965465068817139,41.58142852783203,153.34262084960938,27.65872573852539,56.74530029296875,12.316970825195312,120.72746276855469,23.317380905151367],\"type\":\"scatter\"},{\"line\":{\"color\":\"black\",\"width\":0.5},\"opacity\":0.2,\"x\":[1,2,3,4,5,6,7,8,9],\"y\":[8.325355529785156,7.785184383392334,4.028793811798096,37.41481399536133,3.054546356201172,12.404892921447754,8.514970779418945,20.951091766357422,-1.039710521697998],\"type\":\"scatter\"},{\"line\":{\"color\":\"black\",\"width\":0.5},\"opacity\":0.2,\"x\":[1,2,3,4,5,6,7,8,9],\"y\":[-24.137794494628906,2.4378340244293213,-11.875324249267578,-48.19013977050781,-4.400867462158203,-16.20018768310547,-2.631303310394287,-42.10425567626953,9.583576202392578],\"type\":\"scatter\"},{\"line\":{\"color\":\"black\",\"width\":0.5},\"opacity\":0.2,\"x\":[1,2,3,4,5,6,7,8,9],\"y\":[5.661261081695557,-2.3425230979919434,5.506404876708984,2.111919403076172,0.6232492923736572,2.6362462043762207,-10.041686058044434,6.579456329345703,-14.362196922302246],\"type\":\"scatter\"},{\"line\":{\"color\":\"black\",\"width\":0.5},\"opacity\":0.2,\"x\":[1,2,3,4,5,6,7,8,9],\"y\":[4.077589988708496,-0.9828393459320068,2.583789825439453,5.576177597045898,0.8783159255981445,1.3240302801132202,0.03757643699645996,5.920283794403076,-7.149261474609375],\"type\":\"scatter\"},{\"line\":{\"color\":\"black\",\"width\":0.5},\"opacity\":0.2,\"x\":[1,2,3,4,5,6,7,8,9],\"y\":[-19.212717056274414,-2.217848539352417,-17.812742233276367,-33.92144775390625,-7.415359020233154,-10.508177757263184,-2.3574020862579346,-23.070974349975586,-4.894326210021973],\"type\":\"scatter\"},{\"line\":{\"color\":\"black\",\"width\":0.5},\"opacity\":0.2,\"x\":[1,2,3,4,5,6,7,8,9],\"y\":[3.5411109924316406,-12.29220199584961,2.2050671577453613,0.23564815521240234,2.770528793334961,7.752265453338623,-22.06692886352539,18.3922119140625,-35.54558563232422],\"type\":\"scatter\"},{\"line\":{\"color\":\"black\",\"width\":0.5},\"opacity\":0.2,\"x\":[1,2,3,4,5,6,7,8,9],\"y\":[-19.770370483398438,-10.949670791625977,-4.209474086761475,-72.9373779296875,-4.550503253936768,-27.96260643005371,-14.924335479736328,-48.11418151855469,-10.590587615966797],\"type\":\"scatter\"},{\"line\":{\"color\":\"black\",\"width\":0.5},\"opacity\":0.2,\"x\":[1,2,3,4,5,6,7,8,9],\"y\":[24.426626205444336,3.520148992538452,15.009451866149902,57.284881591796875,6.505457878112793,22.105270385742188,5.376182556152344,46.04372787475586,3.5742838382720947],\"type\":\"scatter\"},{\"line\":{\"color\":\"black\",\"width\":0.5},\"opacity\":0.2,\"x\":[1,2,3,4,5,6,7,8,9],\"y\":[11.749428749084473,-10.337688446044922,7.879363059997559,7.526771545410156,-0.8863985538482666,-1.6195106506347656,-7.168444633483887,17.579423904418945,-18.850065231323242],\"type\":\"scatter\"},{\"line\":{\"color\":\"black\",\"width\":0.5},\"opacity\":0.2,\"x\":[1,2,3,4,5,6,7,8,9],\"y\":[19.317344665527344,7.997021675109863,5.280550956726074,64.19820404052734,7.75247049331665,27.15132713317871,10.524120330810547,50.65287780761719,20.59541130065918],\"type\":\"scatter\"},{\"line\":{\"color\":\"black\",\"width\":0.5},\"opacity\":0.2,\"x\":[1,2,3,4,5,6,7,8,9],\"y\":[19.016210556030273,0.09218215942382812,9.676444053649902,23.52376365661621,6.783175468444824,8.673323631286621,5.126286029815674,10.047653198242188,11.177567481994629],\"type\":\"scatter\"},{\"line\":{\"color\":\"black\",\"width\":0.5},\"opacity\":0.2,\"x\":[1,2,3,4,5,6,7,8,9],\"y\":[16.70939064025879,6.109197616577148,7.053947925567627,34.383140563964844,-0.31241607666015625,9.181099891662598,16.3557186126709,15.790274620056152,28.48145294189453],\"type\":\"scatter\"},{\"line\":{\"color\":\"black\",\"width\":0.5},\"opacity\":0.2,\"x\":[1,2,3,4,5,6,7,8,9],\"y\":[7.034229755401611,-0.7259102463722229,2.49094295501709,12.79397964477539,2.919957160949707,5.782322883605957,1.624894618988037,12.665928840637207,-1.1822584867477417],\"type\":\"scatter\"},{\"line\":{\"color\":\"black\",\"width\":0.5},\"opacity\":0.2,\"x\":[1,2,3,4,5,6,7,8,9],\"y\":[-8.39138412475586,3.797498941421509,-5.059154510498047,-6.454701900482178,-2.543379545211792,-0.4232046604156494,5.25061559677124,-23.37837028503418,9.770859718322754],\"type\":\"scatter\"},{\"line\":{\"color\":\"black\",\"width\":0.5},\"opacity\":0.2,\"x\":[1,2,3,4,5,6,7,8,9],\"y\":[2.0251002311706543,11.057629585266113,4.465884208679199,12.7132568359375,0.914532482624054,1.164151668548584,4.762930393218994,-3.123617649078369,20.40206527709961],\"type\":\"scatter\"},{\"line\":{\"color\":\"black\",\"width\":0.5},\"opacity\":0.2,\"x\":[1,2,3,4,5,6,7,8,9],\"y\":[-0.7711429595947266,1.236116886138916,0.7912737131118774,-11.298151969909668,-0.20625147223472595,-6.345703125,0.7989648580551147,-10.353163719177246,0.29881423711776733],\"type\":\"scatter\"},{\"line\":{\"color\":\"black\",\"width\":0.5},\"opacity\":0.2,\"x\":[1,2,3,4,5,6,7,8,9],\"y\":[12.78731632232666,-4.56518030166626,6.998956680297852,13.197429656982422,4.970058441162109,6.057812213897705,-1.8198087215423584,17.220014572143555,-4.978400707244873],\"type\":\"scatter\"},{\"line\":{\"color\":\"black\",\"width\":0.5},\"opacity\":0.2,\"x\":[1,2,3,4,5,6,7,8,9],\"y\":[-7.790135860443115,-0.5712869167327881,-2.044046640396118,-18.885986328125,-0.13694441318511963,-2.8923637866973877,-4.4117326736450195,-13.66940689086914,-3.4541006088256836],\"type\":\"scatter\"},{\"line\":{\"color\":\"black\",\"width\":0.5},\"opacity\":0.2,\"x\":[1,2,3,4,5,6,7,8,9],\"y\":[-8.664423942565918,13.171394348144531,-7.999836444854736,13.304312705993652,-0.25931692123413086,8.859613418579102,9.69338607788086,0.14780521392822266,4.778367042541504],\"type\":\"scatter\"},{\"line\":{\"color\":\"black\",\"width\":0.5},\"opacity\":0.2,\"x\":[1,2,3,4,5,6,7,8,9],\"y\":[0.010615706443786621,-2.998878002166748,1.0305944681167603,-2.358069896697998,-0.5183666348457336,-1.974178671836853,-5.179004192352295,2.134922981262207,-6.848074913024902],\"type\":\"scatter\"},{\"line\":{\"color\":\"black\",\"width\":0.5},\"opacity\":0.2,\"x\":[1,2,3,4,5,6,7,8,9],\"y\":[12.744736671447754,-3.1824448108673096,3.520582675933838,12.419000625610352,0.9228464961051941,-0.48165035247802734,-0.7020273208618164,14.841588020324707,-4.337135314941406],\"type\":\"scatter\"},{\"line\":{\"color\":\"black\",\"width\":0.5},\"opacity\":0.2,\"x\":[1,2,3,4,5,6,7,8,9],\"y\":[37.484127044677734,16.216367721557617,23.503040313720703,93.85164642333984,9.089444160461426,30.101877212524414,17.65323257446289,56.23186111450195,12.275257110595703],\"type\":\"scatter\"},{\"line\":{\"color\":\"black\",\"width\":0.5},\"opacity\":0.2,\"x\":[1,2,3,4,5,6,7,8,9],\"y\":[-2.8841140270233154,12.912837982177734,-0.648807168006897,5.742824077606201,-3.39277982711792,-3.668850898742676,19.047588348388672,-14.0342435836792,34.62018966674805],\"type\":\"scatter\"},{\"line\":{\"color\":\"black\",\"width\":0.5},\"opacity\":0.2,\"x\":[1,2,3,4,5,6,7,8,9],\"y\":[-19.18536376953125,-9.079002380371094,-12.192291259765625,-32.48064041137695,-9.14664077758789,-14.4468994140625,-8.761738777160645,-17.66085433959961,-45.27399826049805],\"type\":\"scatter\"},{\"line\":{\"color\":\"black\",\"width\":0.5},\"opacity\":0.2,\"x\":[1,2,3,4,5,6,7,8,9],\"y\":[-1.7810227870941162,-2.9235382080078125,0.04755657911300659,-1.3075546026229858,-1.034820795059204,-0.811821460723877,-4.653616905212402,1.6923918724060059,-16.776945114135742],\"type\":\"scatter\"},{\"line\":{\"color\":\"black\",\"width\":0.5},\"opacity\":0.2,\"x\":[1,2,3,4,5,6,7,8,9],\"y\":[-0.2385401427745819,-1.2373530864715576,0.21471861004829407,-2.262876510620117,0.008984729647636414,-0.677601158618927,-1.4233648777008057,-0.2810092568397522,-1.8746600151062012],\"type\":\"scatter\"},{\"line\":{\"color\":\"black\",\"width\":0.5},\"opacity\":0.2,\"x\":[1,2,3,4,5,6,7,8,9],\"y\":[12.696163177490234,-1.172684669494629,2.202430486679077,45.198482513427734,1.9076969623565674,19.490367889404297,10.533341407775879,28.829198837280273,9.77609634399414],\"type\":\"scatter\"},{\"line\":{\"color\":\"black\",\"width\":0.5},\"opacity\":0.2,\"x\":[1,2,3,4,5,6,7,8,9],\"y\":[11.543822288513184,1.1177289485931396,4.716858863830566,5.320929050445557,2.5315933227539062,-1.913509488105774,-0.7460930347442627,0.4639918804168701,0.0607830286026001],\"type\":\"scatter\"},{\"line\":{\"color\":\"black\",\"width\":0.5},\"opacity\":0.2,\"x\":[1,2,3,4,5,6,7,8,9],\"y\":[25.588348388671875,18.09163475036621,15.493511199951172,80.05950927734375,4.2574334144592285,23.35743522644043,21.70362663269043,45.895294189453125,37.400474548339844],\"type\":\"scatter\"},{\"line\":{\"color\":\"black\",\"width\":0.5},\"opacity\":0.2,\"x\":[1,2,3,4,5,6,7,8,9],\"y\":[-11.20541763305664,-5.21358585357666,-4.420184135437012,-35.642398834228516,-2.049633264541626,-12.80474853515625,-5.821253299713135,-21.81768035888672,0.0643758773803711],\"type\":\"scatter\"},{\"line\":{\"color\":\"black\",\"width\":0.5},\"opacity\":0.2,\"x\":[1,2,3,4,5,6,7,8,9],\"y\":[-2.944382905960083,-6.689560890197754,-1.174485206604004,-19.713037490844727,1.863153338432312,-6.8164520263671875,-9.629223823547363,-5.063407897949219,-12.292183876037598],\"type\":\"scatter\"},{\"line\":{\"color\":\"black\",\"width\":0.5},\"opacity\":0.2,\"x\":[1,2,3,4,5,6,7,8,9],\"y\":[-2.9403061866760254,-5.304050445556641,0.17536313831806183,-17.5672664642334,-2.0922389030456543,-8.311185836791992,-5.848461151123047,-9.34616756439209,-11.02701473236084],\"type\":\"scatter\"},{\"line\":{\"color\":\"black\",\"width\":0.5},\"opacity\":0.2,\"x\":[1,2,3,4,5,6,7,8,9],\"y\":[-6.3469133377075195,-4.713318824768066,-1.5450669527053833,-14.26467514038086,-1.9292716979980469,-4.241599082946777,-8.890073776245117,-12.910100936889648,-9.55402660369873],\"type\":\"scatter\"},{\"line\":{\"color\":\"black\",\"width\":0.5},\"opacity\":0.2,\"x\":[1,2,3,4,5,6,7,8,9],\"y\":[-15.037391662597656,-18.123416900634766,-5.642891883850098,-59.95530700683594,-2.0252931118011475,-18.730361938476562,-24.328449249267578,-26.832876205444336,-31.49597930908203],\"type\":\"scatter\"},{\"line\":{\"color\":\"black\",\"width\":0.5},\"opacity\":0.2,\"x\":[1,2,3,4,5,6,7,8,9],\"y\":[12.285813331604004,28.22293472290039,4.618842601776123,64.43602752685547,5.2820634841918945,23.708295822143555,25.010875701904297,16.70977783203125,57.909637451171875],\"type\":\"scatter\"},{\"line\":{\"color\":\"black\",\"width\":0.5},\"opacity\":0.2,\"x\":[1,2,3,4,5,6,7,8,9],\"y\":[17.630016326904297,-3.699847459793091,7.691920757293701,31.69834327697754,2.8667664527893066,10.443307876586914,-0.5455898642539978,27.71976089477539,-4.831079483032227],\"type\":\"scatter\"},{\"line\":{\"color\":\"black\",\"width\":0.5},\"opacity\":0.2,\"x\":[1,2,3,4,5,6,7,8,9],\"y\":[-19.070716857910156,13.921441078186035,-8.592218399047852,-9.97142505645752,-4.374296188354492,-2.529592990875244,14.043730735778809,-21.91301727294922,30.310138702392578],\"type\":\"scatter\"},{\"line\":{\"color\":\"black\",\"width\":0.5},\"opacity\":0.2,\"x\":[1,2,3,4,5,6,7,8,9],\"y\":[-42.087371826171875,-20.3023624420166,-24.290607452392578,-99.58077239990234,-8.888566017150879,-32.8170280456543,-30.082056045532227,-42.70608139038086,-47.391143798828125],\"type\":\"scatter\"},{\"line\":{\"color\":\"black\",\"width\":0.5},\"opacity\":0.2,\"x\":[1,2,3,4,5,6,7,8,9],\"y\":[0.6337193250656128,-0.8380783796310425,-0.9791945815086365,0.9708993434906006,2.9592227935791016,5.4428205490112305,-1.5485557317733765,1.5057969093322754,-1.6651619672775269],\"type\":\"scatter\"},{\"line\":{\"color\":\"black\",\"width\":0.5},\"opacity\":0.2,\"x\":[1,2,3,4,5,6,7,8,9],\"y\":[-4.7877116203308105,11.493885040283203,-5.153021812438965,11.417852401733398,-2.8744802474975586,1.926072120666504,12.241825103759766,-1.4348206520080566,25.69331932067871],\"type\":\"scatter\"},{\"line\":{\"color\":\"black\",\"width\":0.5},\"opacity\":0.2,\"x\":[1,2,3,4,5,6,7,8,9],\"y\":[11.17732048034668,11.078897476196289,1.6305187940597534,23.72950553894043,3.7562336921691895,4.856122970581055,18.314964294433594,11.139778137207031,24.68587303161621],\"type\":\"scatter\"},{\"line\":{\"color\":\"black\",\"width\":0.5},\"opacity\":0.2,\"x\":[1,2,3,4,5,6,7,8,9],\"y\":[-11.859481811523438,-13.320770263671875,-3.5404887199401855,-49.43714904785156,-2.4701807498931885,-16.417633056640625,-17.088470458984375,-29.50399398803711,-26.948328018188477],\"type\":\"scatter\"},{\"line\":{\"color\":\"black\",\"width\":0.5},\"opacity\":0.2,\"x\":[1,2,3,4,5,6,7,8,9],\"y\":[7.551814079284668,8.280461311340332,0.045744940638542175,28.28401756286621,0.6303689479827881,9.090481758117676,8.264322280883789,7.029012680053711,8.753220558166504],\"type\":\"scatter\"},{\"line\":{\"color\":\"black\",\"width\":0.5},\"opacity\":0.2,\"x\":[1,2,3,4,5,6,7,8,9],\"y\":[-0.9291734099388123,-1.6517927646636963,1.1278225183486938,-8.491432189941406,2.5222008228302,-1.0704593658447266,-2.3960084915161133,-4.908721923828125,4.841923713684082],\"type\":\"scatter\"},{\"line\":{\"color\":\"black\",\"width\":0.5},\"opacity\":0.2,\"x\":[1,2,3,4,5,6,7,8,9],\"y\":[-0.07278096675872803,12.847146034240723,2.757002353668213,22.775630950927734,0.9583127498626709,8.306487083435059,12.469605445861816,4.868488311767578,25.7984561920166],\"type\":\"scatter\"},{\"line\":{\"color\":\"black\",\"width\":0.5},\"opacity\":0.2,\"x\":[1,2,3,4,5,6,7,8,9],\"y\":[-4.488035678863525,6.778298854827881,5.354920387268066,-1.6935787200927734,-0.2179730236530304,-0.9927868843078613,0.15971732139587402,2.0385050773620605,7.058581829071045],\"type\":\"scatter\"},{\"line\":{\"color\":\"black\",\"width\":0.5},\"opacity\":0.2,\"x\":[1,2,3,4,5,6,7,8,9],\"y\":[12.168417930603027,0.1305367648601532,7.50329065322876,12.58991527557373,4.956809043884277,4.527139663696289,0.1675615906715393,10.87234115600586,8.816088676452637],\"type\":\"scatter\"},{\"line\":{\"color\":\"black\",\"width\":0.5},\"opacity\":0.2,\"x\":[1,2,3,4,5,6,7,8,9],\"y\":[29.385772705078125,28.032917022705078,5.926664352416992,122.35298156738281,9.26945686340332,51.030460357666016,35.0056266784668,64.88587188720703,28.161243438720703],\"type\":\"scatter\"},{\"line\":{\"color\":\"black\",\"width\":0.5},\"opacity\":0.2,\"x\":[1,2,3,4,5,6,7,8,9],\"y\":[11.685306549072266,23.602569580078125,2.6882996559143066,66.35952758789062,5.155158519744873,25.043071746826172,23.835735321044922,29.51250648498535,54.40162658691406],\"type\":\"scatter\"},{\"line\":{\"color\":\"black\",\"width\":0.5},\"opacity\":0.2,\"x\":[1,2,3,4,5,6,7,8,9],\"y\":[9.387002944946289,-7.7582197189331055,8.277204513549805,1.0838499069213867,3.39211368560791,0.9829000234603882,-14.239547729492188,10.547630310058594,-1.8794445991516113],\"type\":\"scatter\"},{\"line\":{\"color\":\"black\",\"width\":0.5},\"opacity\":0.2,\"x\":[1,2,3,4,5,6,7,8,9],\"y\":[4.548737049102783,6.1609787940979,2.3091251850128174,18.27181053161621,1.6352218389511108,5.945582866668701,8.832710266113281,6.618076324462891,14.378868103027344],\"type\":\"scatter\"},{\"line\":{\"color\":\"black\",\"width\":0.5},\"opacity\":0.2,\"x\":[1,2,3,4,5,6,7,8,9],\"y\":[32.575233459472656,-15.544755935668945,13.475573539733887,34.59635925292969,9.987937927246094,19.731426239013672,-4.99849271774292,47.324649810791016,-19.729639053344727],\"type\":\"scatter\"},{\"line\":{\"color\":\"black\",\"width\":0.5},\"opacity\":0.2,\"x\":[1,2,3,4,5,6,7,8,9],\"y\":[4.124814987182617,-1.391045331954956,1.6609108448028564,-1.0340584516525269,-0.005890697240829468,-2.5488710403442383,-0.30003905296325684,-3.2197115421295166,-4.455193519592285],\"type\":\"scatter\"},{\"line\":{\"color\":\"black\",\"width\":0.5},\"opacity\":0.2,\"x\":[1,2,3,4,5,6,7,8,9],\"y\":[6.132134437561035,-2.1538805961608887,3.828477144241333,6.93410587310791,-0.16398538649082184,0.5380476713180542,0.10683977603912354,9.259987831115723,-6.853400230407715],\"type\":\"scatter\"},{\"line\":{\"color\":\"black\",\"width\":0.5},\"opacity\":0.2,\"x\":[1,2,3,4,5,6,7,8,9],\"y\":[18.568119049072266,1.9817100763320923,6.734100818634033,33.12474060058594,0.13964849710464478,4.4834489822387695,7.829710006713867,17.895557403564453,-5.085899353027344],\"type\":\"scatter\"},{\"line\":{\"color\":\"black\",\"width\":0.5},\"opacity\":0.2,\"x\":[1,2,3,4,5,6,7,8,9],\"y\":[-10.421854019165039,0.4288463592529297,-4.752732753753662,-21.926259994506836,-2.9075546264648438,-8.627113342285156,-0.6851174831390381,-19.20084571838379,6.343822002410889],\"type\":\"scatter\"},{\"line\":{\"color\":\"black\",\"width\":0.5},\"opacity\":0.2,\"x\":[1,2,3,4,5,6,7,8,9],\"y\":[15.102636337280273,3.651972770690918,1.410776972770691,37.774742126464844,4.219900131225586,13.490130424499512,14.86288070678711,26.42552947998047,20.115142822265625],\"type\":\"scatter\"},{\"line\":{\"color\":\"black\",\"width\":0.5},\"opacity\":0.2,\"x\":[1,2,3,4,5,6,7,8,9],\"y\":[-1.5609614849090576,-21.083898544311523,1.1772832870483398,-8.860403060913086,1.1980228424072266,4.822388648986816,-26.086963653564453,11.427876472473145,-73.89276885986328],\"type\":\"scatter\"},{\"line\":{\"color\":\"black\",\"width\":0.5},\"opacity\":0.2,\"x\":[1,2,3,4,5,6,7,8,9],\"y\":[9.44417953491211,13.383938789367676,2.412501811981201,48.034141540527344,0.4363957643508911,15.793258666992188,20.320283889770508,26.8486328125,28.763124465942383],\"type\":\"scatter\"},{\"line\":{\"color\":\"black\",\"width\":0.5},\"opacity\":0.2,\"x\":[1,2,3,4,5,6,7,8,9],\"y\":[14.654348373413086,-1.2618952989578247,4.7570695877075195,35.51466751098633,2.5954504013061523,15.323394775390625,1.6557966470718384,23.954357147216797,-9.414127349853516],\"type\":\"scatter\"},{\"line\":{\"color\":\"black\",\"width\":0.5},\"opacity\":0.2,\"x\":[1,2,3,4,5,6,7,8,9],\"y\":[-13.284252166748047,-23.08608055114746,-5.118671417236328,-78.28379821777344,-1.6053440570831299,-25.56328010559082,-36.26609802246094,-38.94987487792969,-26.9567813873291],\"type\":\"scatter\"},{\"line\":{\"color\":\"black\",\"width\":0.5},\"opacity\":0.2,\"x\":[1,2,3,4,5,6,7,8,9],\"y\":[7.797093868255615,-0.44823169708251953,4.857612609863281,9.947704315185547,3.5061631202697754,7.050309181213379,1.434471607208252,12.123916625976562,9.12001895904541],\"type\":\"scatter\"},{\"line\":{\"color\":\"black\",\"width\":0.5},\"opacity\":0.2,\"x\":[1,2,3,4,5,6,7,8,9],\"y\":[27.168617248535156,-7.423107624053955,7.035819053649902,38.29888153076172,6.7527313232421875,17.910869598388672,6.649604320526123,45.46322250366211,-9.775800704956055],\"type\":\"scatter\"},{\"line\":{\"color\":\"black\",\"width\":0.5},\"opacity\":0.2,\"x\":[1,2,3,4,5,6,7,8,9],\"y\":[-8.31916618347168,-1.5685925483703613,-3.9953763484954834,-23.029659271240234,-2.1356453895568848,-8.913071632385254,-5.0346784591674805,-15.471595764160156,-3.3744914531707764],\"type\":\"scatter\"},{\"line\":{\"color\":\"black\",\"width\":0.5},\"opacity\":0.2,\"x\":[1,2,3,4,5,6,7,8,9],\"y\":[-0.8470652103424072,0.4611845016479492,0.5819500684738159,-18.883481979370117,-3.8398663997650146,-14.084800720214844,-4.317227840423584,-21.04868507385254,-19.255477905273438],\"type\":\"scatter\"},{\"line\":{\"color\":\"black\",\"width\":0.5},\"opacity\":0.2,\"x\":[1,2,3,4,5,6,7,8,9],\"y\":[0.32744526863098145,0.7864432334899902,-2.8819382190704346,9.127408981323242,1.7911360263824463,7.028992652893066,-0.34841227531433105,7.742920875549316,0.7861958742141724],\"type\":\"scatter\"},{\"line\":{\"color\":\"black\",\"width\":0.5},\"opacity\":0.2,\"x\":[1,2,3,4,5,6,7,8,9],\"y\":[3.4116413593292236,-5.2871785163879395,-4.8189005851745605,-17.48513412475586,-0.15204167366027832,-12.435999870300293,2.625357151031494,-12.973699569702148,-8.582915306091309],\"type\":\"scatter\"},{\"line\":{\"color\":\"black\",\"width\":0.5},\"opacity\":0.2,\"x\":[1,2,3,4,5,6,7,8,9],\"y\":[7.438570976257324,-13.352365493774414,4.583226203918457,-19.06876564025879,4.638119220733643,-5.306636333465576,-16.991125106811523,1.6841435432434082,-23.722126007080078],\"type\":\"scatter\"},{\"line\":{\"color\":\"black\",\"width\":0.5},\"opacity\":0.2,\"x\":[1,2,3,4,5,6,7,8,9],\"y\":[-5.3297343254089355,11.928389549255371,6.863830089569092,-2.2124438285827637,-8.371733665466309,-10.570720672607422,15.23300552368164,-14.179673194885254,36.17087173461914],\"type\":\"scatter\"},{\"line\":{\"color\":\"black\",\"width\":0.5},\"opacity\":0.2,\"x\":[1,2,3,4,5,6,7,8,9],\"y\":[-20.58989143371582,-7.08873176574707,-8.996368408203125,-52.57508850097656,-4.988056182861328,-18.095500946044922,-11.025012016296387,-34.77872848510742,-8.637055397033691],\"type\":\"scatter\"},{\"line\":{\"color\":\"black\",\"width\":0.5},\"opacity\":0.2,\"x\":[1,2,3,4,5,6,7,8,9],\"y\":[4.019826889038086,-1.9064949750900269,4.530448913574219,0.8661315441131592,0.7385646104812622,-1.7064822912216187,0.9730498790740967,4.8231072425842285,11.258956909179688],\"type\":\"scatter\"},{\"line\":{\"color\":\"black\",\"width\":0.5},\"opacity\":0.2,\"x\":[1,2,3,4,5,6,7,8,9],\"y\":[-1.2236387729644775,-1.6540639400482178,-0.27217626571655273,-5.729628562927246,0.17625942826271057,-1.5126491785049438,-2.885075092315674,0.051252156496047974,-5.094145774841309],\"type\":\"scatter\"},{\"line\":{\"color\":\"black\",\"width\":0.5},\"opacity\":0.2,\"x\":[1,2,3,4,5,6,7,8,9],\"y\":[19.399219512939453,-3.038703441619873,10.402676582336426,15.671316146850586,2.4345543384552,-3.3157219886779785,-1.2803516387939453,11.816152572631836,-11.530722618103027],\"type\":\"scatter\"},{\"line\":{\"color\":\"black\",\"width\":0.5},\"opacity\":0.2,\"x\":[1,2,3,4,5,6,7,8,9],\"y\":[-0.09278690069913864,0.9289098381996155,-0.05670654773712158,1.6826395988464355,-0.33465081453323364,0.11040067672729492,1.1225981712341309,-1.2499351501464844,1.8729631900787354],\"type\":\"scatter\"},{\"line\":{\"color\":\"black\",\"width\":0.5},\"opacity\":0.2,\"x\":[1,2,3,4,5,6,7,8,9],\"y\":[3.7023260593414307,-4.423486709594727,2.4466137886047363,-2.7282307147979736,2.35142183303833,0.5079452395439148,-4.724220275878906,2.569295883178711,-7.6405205726623535],\"type\":\"scatter\"},{\"line\":{\"color\":\"black\",\"width\":0.5},\"opacity\":0.2,\"x\":[1,2,3,4,5,6,7,8,9],\"y\":[6.529124736785889,-3.6630821228027344,3.647368907928467,13.545205116271973,-0.8383817076683044,3.0664751529693604,-1.891520380973816,15.988997459411621,-9.943901062011719],\"type\":\"scatter\"},{\"line\":{\"color\":\"black\",\"width\":0.5},\"opacity\":0.2,\"x\":[1,2,3,4,5,6,7,8,9],\"y\":[-6.493054389953613,2.096384048461914,0.07638359069824219,-20.88129425048828,-1.8936553001403809,-10.984655380249023,-0.5845766067504883,-21.215923309326172,12.775015830993652],\"type\":\"scatter\"},{\"line\":{\"color\":\"black\",\"width\":0.5},\"opacity\":0.2,\"x\":[1,2,3,4,5,6,7,8,9],\"y\":[-14.093764305114746,16.936769485473633,-7.442374229431152,10.0152587890625,-7.175600051879883,1.9195818901062012,14.269451141357422,-9.060076713562012,36.24751281738281],\"type\":\"scatter\"},{\"line\":{\"color\":\"black\",\"width\":0.5},\"opacity\":0.2,\"x\":[1,2,3,4,5,6,7,8,9],\"y\":[4.950605392456055,-5.836024761199951,7.97222375869751,-5.517515182495117,3.478034496307373,-3.9216208457946777,-8.450398445129395,3.4963560104370117,-4.9438276290893555],\"type\":\"scatter\"},{\"line\":{\"color\":\"black\",\"width\":0.5},\"opacity\":0.2,\"x\":[1,2,3,4,5,6,7,8,9],\"y\":[-1.5361133813858032,0.8121583461761475,0.7244548797607422,-3.4469501972198486,-1.0360292196273804,-3.4078474044799805,-0.4319685697555542,-4.628077983856201,-2.834559917449951],\"type\":\"scatter\"},{\"line\":{\"color\":\"black\",\"width\":0.5},\"opacity\":0.2,\"x\":[1,2,3,4,5,6,7,8,9],\"y\":[6.683533668518066,1.8854413032531738,3.4521291255950928,21.054616928100586,1.7344645261764526,8.282974243164062,2.366694450378418,15.122477531433105,2.8020567893981934],\"type\":\"scatter\"},{\"line\":{\"color\":\"black\",\"width\":0.5},\"opacity\":0.2,\"x\":[1,2,3,4,5,6,7,8,9],\"y\":[16.118295669555664,9.205938339233398,7.458199501037598,49.73902130126953,2.3789355754852295,13.28357982635498,11.783660888671875,26.083688735961914,3.811809778213501],\"type\":\"scatter\"},{\"line\":{\"color\":\"black\",\"width\":0.5},\"opacity\":0.2,\"x\":[1,2,3,4,5,6,7,8,9],\"y\":[-1.9724431037902832,-2.03914213180542,-0.6985102295875549,-2.5022735595703125,-0.7134679555892944,-0.8933910131454468,1.2218270301818848,-0.12441730499267578,-1.2995257377624512],\"type\":\"scatter\"},{\"line\":{\"color\":\"black\",\"width\":0.5},\"opacity\":0.2,\"x\":[1,2,3,4,5,6,7,8,9],\"y\":[9.210505485534668,6.560276985168457,4.137635707855225,34.21269989013672,5.209323883056641,16.814735412597656,6.270668983459473,22.618061065673828,5.603972434997559],\"type\":\"scatter\"},{\"line\":{\"color\":\"black\",\"width\":0.5},\"opacity\":0.2,\"x\":[1,2,3,4,5,6,7,8,9],\"y\":[5.992937088012695,0.024412907660007477,2.8780601024627686,11.801980018615723,2.647599935531616,5.729822635650635,-0.18479934334754944,11.01504135131836,-0.32234787940979004],\"type\":\"scatter\"},{\"line\":{\"color\":\"black\",\"width\":0.5},\"opacity\":0.2,\"x\":[1,2,3,4,5,6,7,8,9],\"y\":[0.7797058820724487,3.0941672325134277,1.013329029083252,8.487215042114258,2.926356315612793,7.289228916168213,1.3164584636688232,8.526415824890137,3.8300819396972656],\"type\":\"scatter\"},{\"line\":{\"color\":\"black\",\"width\":0.5},\"opacity\":0.2,\"x\":[1,2,3,4,5,6,7,8,9],\"y\":[7.23753547668457,-15.277498245239258,5.328652381896973,-8.645854949951172,5.930455684661865,5.552378177642822,-23.776718139648438,1.513524055480957,-20.683643341064453],\"type\":\"scatter\"},{\"line\":{\"color\":\"black\",\"width\":0.5},\"opacity\":0.2,\"x\":[1,2,3,4,5,6,7,8,9],\"y\":[-10.367652893066406,-10.873433113098145,1.0151172876358032,-67.24983978271484,-1.8385210037231445,-30.285964965820312,-14.925743103027344,-37.14036178588867,-15.037843704223633],\"type\":\"scatter\"},{\"line\":{\"color\":\"black\",\"width\":0.5},\"opacity\":0.2,\"x\":[1,2,3,4,5,6,7,8,9],\"y\":[37.38517761230469,6.468891620635986,19.11463737487793,89.61952209472656,5.922206878662109,28.215171813964844,21.7073917388916,59.38762664794922,31.056575775146484],\"type\":\"scatter\"},{\"line\":{\"color\":\"black\",\"width\":0.5},\"opacity\":0.2,\"x\":[1,2,3,4,5,6,7,8,9],\"y\":[4.826689720153809,18.533504486083984,3.8422412872314453,45.45758819580078,6.017139911651611,16.388965606689453,15.548952102661133,17.098365783691406,40.9491081237793],\"type\":\"scatter\"},{\"line\":{\"color\":\"black\",\"width\":0.5},\"opacity\":0.2,\"x\":[1,2,3,4,5,6,7,8,9],\"y\":[5.217458724975586,-18.124340057373047,4.238330841064453,-29.61423110961914,-6.339536666870117,-23.654693603515625,-19.32870101928711,-9.64653205871582,-39.33378982543945],\"type\":\"scatter\"},{\"line\":{\"color\":\"black\",\"width\":0.5},\"opacity\":0.2,\"x\":[1,2,3,4,5,6,7,8,9],\"y\":[-7.459787368774414,8.740131378173828,-0.9336907863616943,3.5875635147094727,0.921992838382721,4.707167148590088,3.469297409057617,1.1657652854919434,-4.0302910804748535],\"type\":\"scatter\"},{\"line\":{\"color\":\"black\",\"width\":0.5},\"opacity\":0.2,\"x\":[1,2,3,4,5,6,7,8,9],\"y\":[2.7711777687072754,6.569475173950195,3.1394433975219727,22.896665573120117,2.756748676300049,9.100417137145996,2.3921499252319336,13.094934463500977,6.004764556884766],\"type\":\"scatter\"},{\"line\":{\"color\":\"black\",\"width\":0.5},\"opacity\":0.2,\"x\":[1,2,3,4,5,6,7,8,9],\"y\":[-8.34190559387207,-7.206770896911621,-4.603885650634766,-16.823043823242188,0.7629483342170715,-2.2389042377471924,-7.511044979095459,-3.1894924640655518,-19.885780334472656],\"type\":\"scatter\"},{\"line\":{\"color\":\"black\",\"width\":0.5},\"opacity\":0.2,\"x\":[1,2,3,4,5,6,7,8,9],\"y\":[-0.02222728729248047,-19.397472381591797,1.223930835723877,-61.03554153442383,2.3011093139648438,-21.41516876220703,-23.24573516845703,-29.908079147338867,-24.86431312561035],\"type\":\"scatter\"},{\"line\":{\"color\":\"black\",\"width\":0.5},\"opacity\":0.2,\"x\":[1,2,3,4,5,6,7,8,9],\"y\":[17.682968139648438,9.099045753479004,4.477096080780029,50.39439392089844,4.894689559936523,18.716022491455078,11.848531723022461,31.32908058166504,11.961432456970215],\"type\":\"scatter\"},{\"line\":{\"color\":\"black\",\"width\":0.5},\"opacity\":0.2,\"x\":[1,2,3,4,5,6,7,8,9],\"y\":[16.97018051147461,-15.983914375305176,2.648987293243408,36.86253356933594,8.297615051269531,24.300323486328125,-14.599292755126953,54.04015350341797,-29.340059280395508],\"type\":\"scatter\"},{\"line\":{\"color\":\"black\",\"width\":0.5},\"opacity\":0.2,\"x\":[1,2,3,4,5,6,7,8,9],\"y\":[-3.8556394577026367,-3.0486037731170654,-1.208815574645996,-4.441764831542969,-2.0875182151794434,0.009291648864746094,-3.573667526245117,-0.7275924682617188,0.8036894202232361],\"type\":\"scatter\"},{\"line\":{\"color\":\"black\",\"width\":0.5},\"opacity\":0.2,\"x\":[1,2,3,4,5,6,7,8,9],\"y\":[-9.503371238708496,-10.630139350891113,-7.7150797843933105,-41.60342788696289,-1.6219775676727295,-13.764928817749023,-10.589838981628418,-22.385372161865234,-24.01749038696289],\"type\":\"scatter\"},{\"line\":{\"color\":\"black\",\"width\":0.5},\"opacity\":0.2,\"x\":[1,2,3,4,5,6,7,8,9],\"y\":[-5.985868453979492,0.9353944063186646,-6.227259635925293,-17.099380493164062,-4.160569667816162,-9.668283462524414,7.747313499450684,-21.2508544921875,3.841418743133545],\"type\":\"scatter\"},{\"line\":{\"color\":\"black\",\"width\":0.5},\"opacity\":0.2,\"x\":[1,2,3,4,5,6,7,8,9],\"y\":[-6.338230609893799,-18.578598022460938,-4.020689010620117,-35.8565559387207,1.8977465629577637,-7.406495571136475,-20.58517837524414,0.3282003402709961,-26.704099655151367],\"type\":\"scatter\"},{\"line\":{\"color\":\"black\",\"width\":0.5},\"opacity\":0.2,\"x\":[1,2,3,4,5,6,7,8,9],\"y\":[6.181186199188232,0.870058536529541,-0.7747079730033875,15.780938148498535,1.043962836265564,5.568267345428467,3.274907112121582,12.671209335327148,0.19067323207855225],\"type\":\"scatter\"},{\"line\":{\"color\":\"black\",\"width\":0.5},\"opacity\":0.2,\"x\":[1,2,3,4,5,6,7,8,9],\"y\":[-7.646925449371338,-0.8004255294799805,-3.8377742767333984,-14.626670837402344,-4.106983661651611,-5.356193542480469,-2.045372486114502,-9.50811767578125,0.08413553237915039],\"type\":\"scatter\"},{\"line\":{\"color\":\"black\",\"width\":0.5},\"opacity\":0.2,\"x\":[1,2,3,4,5,6,7,8,9],\"y\":[-25.888996124267578,32.5546989440918,-8.287364959716797,-5.354465484619141,-10.150781631469727,-5.802456378936768,30.917818069458008,-31.872962951660156,55.3084716796875],\"type\":\"scatter\"},{\"line\":{\"color\":\"black\",\"width\":0.5},\"opacity\":0.2,\"x\":[1,2,3,4,5,6,7,8,9],\"y\":[-6.703602313995361,3.4350805282592773,-5.618879795074463,-6.437670707702637,-2.59549880027771,-2.3614704608917236,4.81907320022583,-13.083900451660156,10.251672744750977],\"type\":\"scatter\"},{\"line\":{\"color\":\"black\",\"width\":0.5},\"opacity\":0.2,\"x\":[1,2,3,4,5,6,7,8,9],\"y\":[-2.841937780380249,-5.561162948608398,0.02430903911590576,-11.785989761352539,-0.04619482159614563,-4.376629829406738,-7.197347164154053,-0.22227168083190918,-11.50219440460205],\"type\":\"scatter\"},{\"line\":{\"color\":\"black\",\"width\":0.5},\"opacity\":0.2,\"x\":[1,2,3,4,5,6,7,8,9],\"y\":[-1.0871973037719727,-9.540349960327148,0.15607261657714844,-18.794708251953125,0.9739371538162231,-5.6104817390441895,-10.699356079101562,-4.621828079223633,-20.01949119567871],\"type\":\"scatter\"},{\"line\":{\"color\":\"black\",\"width\":0.5},\"opacity\":0.2,\"x\":[1,2,3,4,5,6,7,8,9],\"y\":[-0.06393331289291382,1.4969987869262695,2.287926435470581,-8.107446670532227,-0.742317259311676,-5.70191764831543,3.583017587661743,-11.717421531677246,13.187881469726562],\"type\":\"scatter\"},{\"line\":{\"color\":\"black\",\"width\":0.5},\"opacity\":0.2,\"x\":[1,2,3,4,5,6,7,8,9],\"y\":[-6.992427349090576,-11.83793830871582,-3.463036060333252,-30.424636840820312,1.8076339960098267,-5.3668742179870605,-16.991291046142578,-7.072104454040527,-20.346811294555664],\"type\":\"scatter\"},{\"line\":{\"color\":\"black\",\"width\":0.5},\"opacity\":0.2,\"x\":[1,2,3,4,5,6,7,8,9],\"y\":[2.017974853515625,3.9658610820770264,2.5490593910217285,5.4377264976501465,0.8402304649353027,1.1051315069198608,2.5479397773742676,1.2520747184753418,8.178295135498047],\"type\":\"scatter\"},{\"line\":{\"color\":\"black\",\"width\":0.5},\"opacity\":0.2,\"x\":[1,2,3,4,5,6,7,8,9],\"y\":[-15.523079872131348,6.680936813354492,-9.19844913482666,-10.962157249450684,0.3963266611099243,3.99794340133667,7.023209095001221,-8.440444946289062,17.397729873657227],\"type\":\"scatter\"},{\"line\":{\"color\":\"black\",\"width\":0.5},\"opacity\":0.2,\"x\":[1,2,3,4,5,6,7,8,9],\"y\":[-44.58648681640625,-22.945825576782227,-13.640544891357422,-137.58035278320312,-6.66607666015625,-43.64460754394531,-36.60078811645508,-82.75114440917969,-20.222352981567383],\"type\":\"scatter\"},{\"line\":{\"color\":\"black\",\"width\":0.5},\"opacity\":0.2,\"x\":[1,2,3,4,5,6,7,8,9],\"y\":[-6.116023540496826,-5.102374076843262,-1.5411664247512817,-13.443343162536621,0.3745787739753723,0.13469314575195312,-4.108051776885986,-5.790350914001465,1.8416730165481567],\"type\":\"scatter\"},{\"line\":{\"color\":\"black\",\"width\":0.5},\"opacity\":0.2,\"x\":[1,2,3,4,5,6,7,8,9],\"y\":[4.013942241668701,5.9856719970703125,1.1186860799789429,14.35252571105957,2.6458899974823,5.080121994018555,6.9825544357299805,8.30291748046875,13.013948440551758],\"type\":\"scatter\"},{\"line\":{\"color\":\"black\",\"width\":0.5},\"opacity\":0.2,\"x\":[1,2,3,4,5,6,7,8,9],\"y\":[0.8635842800140381,15.855058670043945,0.3951467275619507,29.181621551513672,-2.9767580032348633,9.129521369934082,26.037521362304688,1.0418949127197266,53.891597747802734],\"type\":\"scatter\"},{\"line\":{\"color\":\"black\",\"width\":0.5},\"opacity\":0.2,\"x\":[1,2,3,4,5,6,7,8,9],\"y\":[7.331058025360107,-3.511112689971924,3.037400245666504,7.588655948638916,2.7969446182250977,3.2560555934906006,-3.6929616928100586,12.466994285583496,-2.6918792724609375],\"type\":\"scatter\"},{\"line\":{\"color\":\"black\",\"width\":0.5},\"opacity\":0.2,\"x\":[1,2,3,4,5,6,7,8,9],\"y\":[-2.7509920597076416,1.5104387998580933,-1.0264902114868164,-12.218842506408691,-6.828548431396484,-9.458024024963379,10.098958015441895,-21.701534271240234,17.66600227355957],\"type\":\"scatter\"},{\"line\":{\"color\":\"black\",\"width\":0.5},\"opacity\":0.2,\"x\":[1,2,3,4,5,6,7,8,9],\"y\":[-0.08987390995025635,9.307001113891602,-0.4652104377746582,8.330863952636719,-1.8056496381759644,-2.1241250038146973,10.274152755737305,-7.299067497253418,18.268184661865234],\"type\":\"scatter\"},{\"line\":{\"color\":\"black\",\"width\":0.5},\"opacity\":0.2,\"x\":[1,2,3,4,5,6,7,8,9],\"y\":[6.710035800933838,-4.4385833740234375,2.214641809463501,13.348549842834473,-1.2447831630706787,2.3400726318359375,-3.888662576675415,19.756019592285156,-2.449716567993164],\"type\":\"scatter\"},{\"line\":{\"color\":\"black\",\"width\":0.5},\"opacity\":0.2,\"x\":[1,2,3,4,5,6,7,8,9],\"y\":[-5.114595890045166,-4.765264511108398,-0.8728176951408386,-20.11636734008789,0.1730210781097412,-4.8259429931640625,-5.228748321533203,-11.75700569152832,-3.0283873081207275],\"type\":\"scatter\"},{\"line\":{\"color\":\"black\",\"width\":0.5},\"opacity\":0.2,\"x\":[1,2,3,4,5,6,7,8,9],\"y\":[0.18404513597488403,3.106152296066284,-0.4671594202518463,10.633054733276367,1.137239933013916,6.037035942077637,1.7391268014907837,5.560181617736816,4.297494888305664],\"type\":\"scatter\"},{\"line\":{\"color\":\"black\",\"width\":0.5},\"opacity\":0.2,\"x\":[1,2,3,4,5,6,7,8,9],\"y\":[-2.9798665046691895,-0.600970983505249,-1.4007787704467773,-6.889315605163574,-0.6844706535339355,-2.5298688411712646,-1.0734211206436157,-5.035128593444824,-0.5299319624900818],\"type\":\"scatter\"},{\"line\":{\"color\":\"black\",\"width\":0.5},\"opacity\":0.2,\"x\":[1,2,3,4,5,6,7,8,9],\"y\":[7.178501129150391,30.623794555664062,2.9912586212158203,75.05347442626953,0.7268195152282715,25.682952880859375,35.099403381347656,23.9627685546875,60.84515380859375],\"type\":\"scatter\"},{\"line\":{\"color\":\"black\",\"width\":0.5},\"opacity\":0.2,\"x\":[1,2,3,4,5,6,7,8,9],\"y\":[-8.799421310424805,5.943176746368408,-3.520120859146118,-4.453085422515869,1.005849003791809,3.3047311305999756,3.9233806133270264,-5.350263595581055,10.224689483642578],\"type\":\"scatter\"},{\"line\":{\"color\":\"black\",\"width\":0.5},\"opacity\":0.2,\"x\":[1,2,3,4,5,6,7,8,9],\"y\":[1.6979111433029175,1.5980331897735596,-4.911574840545654,7.945766448974609,0.5910537838935852,3.0756144523620605,6.063982963562012,8.038537979125977,15.205216407775879],\"type\":\"scatter\"},{\"line\":{\"color\":\"black\",\"width\":0.5},\"opacity\":0.2,\"x\":[1,2,3,4,5,6,7,8,9],\"y\":[0.9056053161621094,3.396021604537964,-0.06632658839225769,5.718451499938965,0.8426609039306641,1.6308830976486206,2.917975902557373,1.201124906539917,7.339790344238281],\"type\":\"scatter\"},{\"line\":{\"color\":\"black\",\"width\":0.5},\"opacity\":0.2,\"x\":[1,2,3,4,5,6,7,8,9],\"y\":[-3.877373695373535,-1.5146360397338867,-1.577039122581482,-0.9710531234741211,-2.0087392330169678,-0.9687567949295044,-4.187643051147461,-4.744857311248779,-14.420202255249023],\"type\":\"scatter\"},{\"line\":{\"color\":\"black\",\"width\":0.5},\"opacity\":0.2,\"x\":[1,2,3,4,5,6,7,8,9],\"y\":[-2.0490591526031494,9.721092224121094,-2.4403390884399414,11.280184745788574,-4.7289299964904785,-2.9463882446289062,14.533370971679688,-1.1110618114471436,12.529287338256836],\"type\":\"scatter\"},{\"line\":{\"color\":\"black\",\"width\":0.5},\"opacity\":0.2,\"x\":[1,2,3,4,5,6,7,8,9],\"y\":[-28.793560028076172,-15.607722282409668,-17.011491775512695,-89.119384765625,-4.471171855926514,-29.550689697265625,-16.847442626953125,-51.23809814453125,-17.345653533935547],\"type\":\"scatter\"},{\"line\":{\"color\":\"black\",\"width\":0.5},\"opacity\":0.2,\"x\":[1,2,3,4,5,6,7,8,9],\"y\":[19.401134490966797,7.008753776550293,4.517758846282959,74.75789642333984,0.5479835867881775,26.04190444946289,15.2980318069458,53.03237533569336,4.337505340576172],\"type\":\"scatter\"},{\"line\":{\"color\":\"black\",\"width\":0.5},\"opacity\":0.2,\"x\":[1,2,3,4,5,6,7,8,9],\"y\":[-9.153719902038574,-5.66179084777832,-0.5607790350914001,-41.77516555786133,-5.268377780914307,-21.42759895324707,-5.146660804748535,-23.87262535095215,-0.9341928958892822],\"type\":\"scatter\"},{\"line\":{\"color\":\"black\",\"width\":0.5},\"opacity\":0.2,\"x\":[1,2,3,4,5,6,7,8,9],\"y\":[-17.958131790161133,-7.515748977661133,-6.095190048217773,-56.957916259765625,-10.639616966247559,-29.529726028442383,-8.30640697479248,-39.988765716552734,-22.10995101928711],\"type\":\"scatter\"},{\"line\":{\"color\":\"black\",\"width\":0.5},\"opacity\":0.2,\"x\":[1,2,3,4,5,6,7,8,9],\"y\":[5.3202362060546875,9.295190811157227,1.4393203258514404,21.08056640625,3.873521089553833,12.89976692199707,12.208080291748047,11.133158683776855,42.0522575378418],\"type\":\"scatter\"},{\"line\":{\"color\":\"black\",\"width\":0.5},\"opacity\":0.2,\"x\":[1,2,3,4,5,6,7,8,9],\"y\":[-2.157100200653076,-16.278385162353516,1.5261834859848022,-39.15870666503906,-3.654846668243408,-17.480453491210938,-20.393692016601562,-21.771215438842773,-27.783340454101562],\"type\":\"scatter\"},{\"line\":{\"color\":\"black\",\"width\":0.5},\"opacity\":0.2,\"x\":[1,2,3,4,5,6,7,8,9],\"y\":[7.03475284576416,13.421626091003418,1.7634305953979492,44.84523391723633,3.6057181358337402,19.241634368896484,17.009521484375,24.023178100585938,35.14111328125],\"type\":\"scatter\"},{\"line\":{\"color\":\"black\",\"width\":0.5},\"opacity\":0.2,\"x\":[1,2,3,4,5,6,7,8,9],\"y\":[-10.066413879394531,-1.0042054653167725,-3.8247909545898438,-27.07886505126953,-1.4497175216674805,-8.902832984924316,-9.001886367797852,-19.061025619506836,-3.6533126831054688],\"type\":\"scatter\"},{\"line\":{\"color\":\"black\",\"width\":0.5},\"opacity\":0.2,\"x\":[1,2,3,4,5,6,7,8,9],\"y\":[1.7981945276260376,-6.6657633781433105,0.8234885334968567,-15.094179153442383,1.2150614261627197,-5.33976411819458,-5.002833366394043,-4.0001325607299805,-9.054572105407715],\"type\":\"scatter\"},{\"line\":{\"color\":\"black\",\"width\":0.5},\"opacity\":0.2,\"x\":[1,2,3,4,5,6,7,8,9],\"y\":[2.8119208812713623,-0.8395687937736511,-0.7117698192596436,-3.6892147064208984,2.9233062267303467,1.1085286140441895,1.8747397661209106,-1.013495922088623,8.323769569396973],\"type\":\"scatter\"},{\"line\":{\"color\":\"black\",\"width\":0.5},\"opacity\":0.2,\"x\":[1,2,3,4,5,6,7,8,9],\"y\":[-9.247222900390625,-5.391376972198486,-2.1073689460754395,-26.7510929107666,-4.452955722808838,-11.384456634521484,-4.875059604644775,-18.70037841796875,4.246206283569336],\"type\":\"scatter\"},{\"line\":{\"color\":\"black\",\"width\":0.5},\"opacity\":0.2,\"x\":[1,2,3,4,5,6,7,8,9],\"y\":[-12.966962814331055,13.290956497192383,-7.844837188720703,6.105591773986816,-1.6677525043487549,5.995461940765381,12.849138259887695,-8.621196746826172,34.534122467041016],\"type\":\"scatter\"},{\"line\":{\"color\":\"black\",\"width\":0.5},\"opacity\":0.2,\"x\":[1,2,3,4,5,6,7,8,9],\"y\":[12.26718807220459,0.4224056005477905,2.6343400478363037,26.89480209350586,5.782238006591797,13.191673278808594,-1.6867268085479736,22.50436019897461,-5.635854244232178],\"type\":\"scatter\"},{\"line\":{\"color\":\"black\",\"width\":0.5},\"opacity\":0.2,\"x\":[1,2,3,4,5,6,7,8,9],\"y\":[-6.879863739013672,-7.878590106964111,1.3928004503250122,-22.05904197692871,-4.896964073181152,-9.310148239135742,-8.84129524230957,-8.333765029907227,-12.409130096435547],\"type\":\"scatter\"},{\"line\":{\"color\":\"black\",\"width\":0.5},\"opacity\":0.2,\"x\":[1,2,3,4,5,6,7,8,9],\"y\":[-2.9394454956054688,0.3144019842147827,0.20148581266403198,-1.7937695980072021,1.0821056365966797,2.07962703704834,-3.666604995727539,-0.6902812719345093,1.6190814971923828],\"type\":\"scatter\"},{\"line\":{\"color\":\"black\",\"width\":0.5},\"opacity\":0.2,\"x\":[1,2,3,4,5,6,7,8,9],\"y\":[-4.369267463684082,5.873364448547363,-1.4737248420715332,-5.016502380371094,-1.9756031036376953,-3.850705146789551,11.953908920288086,-9.445222854614258,29.279808044433594],\"type\":\"scatter\"},{\"line\":{\"color\":\"black\",\"width\":0.5},\"opacity\":0.2,\"x\":[1,2,3,4,5,6,7,8,9],\"y\":[-38.60893249511719,-20.88520050048828,-22.228069305419922,-109.29550170898438,-14.65958023071289,-43.67990493774414,-18.54317855834961,-58.94120788574219,-39.21115493774414],\"type\":\"scatter\"},{\"line\":{\"color\":\"black\",\"width\":0.5},\"opacity\":0.2,\"x\":[1,2,3,4,5,6,7,8,9],\"y\":[-1.1658363342285156,-3.183861255645752,6.148377418518066,6.170280933380127,6.602911472320557,11.768220901489258,-6.238579273223877,22.92855453491211,-9.622152328491211],\"type\":\"scatter\"},{\"line\":{\"color\":\"black\",\"width\":0.5},\"opacity\":0.2,\"x\":[1,2,3,4,5,6,7,8,9],\"y\":[-10.559249877929688,16.976530075073242,-8.039710998535156,37.75603103637695,-9.495954513549805,9.752519607543945,20.169809341430664,5.967338562011719,19.007951736450195],\"type\":\"scatter\"},{\"line\":{\"color\":\"black\",\"width\":0.5},\"opacity\":0.2,\"x\":[1,2,3,4,5,6,7,8,9],\"y\":[-13.894798278808594,0.6863969564437866,-3.9530832767486572,-23.38534927368164,-4.565288543701172,-9.276521682739258,0.8718247413635254,-21.28453826904297,4.2737321853637695],\"type\":\"scatter\"},{\"line\":{\"color\":\"black\",\"width\":0.5},\"opacity\":0.2,\"x\":[1,2,3,4,5,6,7,8,9],\"y\":[7.814815998077393,0.8175348043441772,5.013411045074463,22.553491592407227,1.298269510269165,7.416182518005371,3.2069315910339355,21.724933624267578,2.574176788330078],\"type\":\"scatter\"},{\"line\":{\"color\":\"black\",\"width\":0.5},\"opacity\":0.2,\"x\":[1,2,3,4,5,6,7,8,9],\"y\":[25.066566467285156,6.029700756072998,10.71419620513916,67.29496765136719,9.475455284118652,29.321033477783203,6.905843734741211,50.95225524902344,11.780517578125],\"type\":\"scatter\"},{\"line\":{\"color\":\"black\",\"width\":0.5},\"opacity\":0.2,\"x\":[1,2,3,4,5,6,7,8,9],\"y\":[-9.263849258422852,2.8070120811462402,-5.838029384613037,-11.706636428833008,-0.8363170623779297,-2.188178539276123,-1.7957165241241455,-17.518611907958984,-16.31970977783203],\"type\":\"scatter\"},{\"line\":{\"color\":\"black\",\"width\":0.5},\"opacity\":0.2,\"x\":[1,2,3,4,5,6,7,8,9],\"y\":[11.129693984985352,-11.300313949584961,2.934325695037842,-12.67233657836914,2.422330856323242,-1.8749194145202637,-7.964165210723877,3.9921553134918213,-3.3188819885253906],\"type\":\"scatter\"},{\"line\":{\"color\":\"black\",\"width\":0.5},\"opacity\":0.2,\"x\":[1,2,3,4,5,6,7,8,9],\"y\":[11.365795135498047,4.61279296875,8.558255195617676,24.38395118713379,5.2747721672058105,12.19431209564209,-0.8328537940979004,20.041452407836914,12.118793487548828],\"type\":\"scatter\"},{\"line\":{\"color\":\"black\",\"width\":0.5},\"opacity\":0.2,\"x\":[1,2,3,4,5,6,7,8,9],\"y\":[-21.168535232543945,-7.131359577178955,-9.346132278442383,-62.93631362915039,-4.401461601257324,-21.61907196044922,-11.544404983520508,-42.282039642333984,9.97311019897461],\"type\":\"scatter\"},{\"line\":{\"color\":\"black\",\"width\":0.5},\"opacity\":0.2,\"x\":[1,2,3,4,5,6,7,8,9],\"y\":[-2.902320623397827,1.0773141384124756,-1.2098337411880493,-8.638079643249512,-0.7547722458839417,-3.989744186401367,-0.6742579936981201,-7.385777473449707,6.612858295440674],\"type\":\"scatter\"},{\"line\":{\"color\":\"black\",\"width\":0.5},\"opacity\":0.2,\"x\":[1,2,3,4,5,6,7,8,9],\"y\":[10.892903327941895,-13.220212936401367,2.569767951965332,14.692672729492188,6.126542091369629,12.500936508178711,-15.7909574508667,30.050819396972656,-34.81208419799805],\"type\":\"scatter\"},{\"line\":{\"color\":\"black\",\"width\":0.5},\"opacity\":0.2,\"x\":[1,2,3,4,5,6,7,8,9],\"y\":[8.322944641113281,-2.7567660808563232,3.41163969039917,15.324098587036133,2.463052272796631,6.596846580505371,-4.606377124786377,15.153276443481445,-14.833708763122559],\"type\":\"scatter\"},{\"line\":{\"color\":\"black\",\"width\":0.5},\"opacity\":0.2,\"x\":[1,2,3,4,5,6,7,8,9],\"y\":[-3.8910794258117676,3.6223373413085938,0.5331602692604065,-14.909490585327148,-2.474135160446167,-8.142621040344238,8.321951866149902,-14.356670379638672,19.96382713317871],\"type\":\"scatter\"},{\"line\":{\"color\":\"black\",\"width\":0.5},\"opacity\":0.2,\"x\":[1,2,3,4,5,6,7,8,9],\"y\":[5.854092597961426,-15.934021949768066,-0.21737957000732422,-5.95594596862793,1.645042061805725,0.0718998908996582,-20.365623474121094,20.50323486328125,-26.12410545349121],\"type\":\"scatter\"},{\"line\":{\"color\":\"black\",\"width\":0.5},\"opacity\":0.2,\"x\":[1,2,3,4,5,6,7,8,9],\"y\":[-8.409774780273438,-4.425075054168701,-3.3130874633789062,-24.89376449584961,-2.0680179595947266,-9.334693908691406,-7.882559776306152,-16.211143493652344,-8.088154792785645],\"type\":\"scatter\"},{\"line\":{\"color\":\"black\",\"width\":0.5},\"opacity\":0.2,\"x\":[1,2,3,4,5,6,7,8,9],\"y\":[-7.010565280914307,-14.774428367614746,-1.8488037586212158,-44.51161193847656,-3.8301329612731934,-18.84113121032715,-15.349777221679688,-22.1987247467041,-34.679561614990234],\"type\":\"scatter\"},{\"line\":{\"color\":\"black\",\"width\":0.5},\"opacity\":0.2,\"x\":[1,2,3,4,5,6,7,8,9],\"y\":[-0.8566034436225891,6.341394424438477,0.24030059576034546,1.9075050354003906,0.3430468440055847,1.810943841934204,7.973397731781006,-4.912465572357178,17.495136260986328],\"type\":\"scatter\"},{\"line\":{\"color\":\"black\",\"width\":0.5},\"opacity\":0.2,\"x\":[1,2,3,4,5,6,7,8,9],\"y\":[1.115309476852417,6.3774871826171875,4.131283283233643,16.481090545654297,-0.023255467414855957,4.026660919189453,-1.0284152030944824,5.142205238342285,-4.956205368041992],\"type\":\"scatter\"},{\"line\":{\"color\":\"black\",\"width\":0.5},\"opacity\":0.2,\"x\":[1,2,3,4,5,6,7,8,9],\"y\":[-42.55088806152344,-11.994871139526367,-19.956212997436523,-110.85629272460938,-3.0990054607391357,-23.308303833007812,-34.924766540527344,-58.74201202392578,-53.10255432128906],\"type\":\"scatter\"},{\"line\":{\"color\":\"black\",\"width\":0.5},\"opacity\":0.2,\"x\":[1,2,3,4,5,6,7,8,9],\"y\":[9.875734329223633,-9.510186195373535,5.006250381469727,8.407240867614746,3.3883683681488037,5.559778213500977,-4.88160514831543,15.48112678527832,-5.719562530517578],\"type\":\"scatter\"},{\"line\":{\"color\":\"black\",\"width\":0.5},\"opacity\":0.2,\"x\":[1,2,3,4,5,6,7,8,9],\"y\":[22.11471939086914,23.310230255126953,3.2267682552337646,75.26220703125,0.41672077775001526,18.042953491210938,36.47855758666992,35.85182189941406,43.59323501586914],\"type\":\"scatter\"},{\"line\":{\"color\":\"black\",\"width\":0.5},\"opacity\":0.2,\"x\":[1,2,3,4,5,6,7,8,9],\"y\":[-2.7389259338378906,4.127946853637695,-0.5287396907806396,13.955438613891602,2.4898011684417725,12.284659385681152,3.8856310844421387,6.9178972244262695,21.117095947265625],\"type\":\"scatter\"},{\"line\":{\"color\":\"black\",\"width\":0.5},\"opacity\":0.2,\"x\":[1,2,3,4,5,6,7,8,9],\"y\":[13.844034194946289,2.2218775749206543,5.7075676918029785,27.793731689453125,-3.333225727081299,0.6145673990249634,5.050755500793457,16.175485610961914,-18.210235595703125],\"type\":\"scatter\"},{\"line\":{\"color\":\"black\",\"width\":0.5},\"opacity\":0.2,\"x\":[1,2,3,4,5,6,7,8,9],\"y\":[-5.748676300048828,3.474545955657959,-2.70424747467041,-6.388554573059082,0.77602618932724,-0.1093406081199646,-1.741269826889038,-9.437803268432617,2.1180498600006104],\"type\":\"scatter\"},{\"line\":{\"color\":\"black\",\"width\":0.5},\"opacity\":0.2,\"x\":[1,2,3,4,5,6,7,8,9],\"y\":[-2.987846612930298,1.963192105293274,-2.135871410369873,0.5835399627685547,0.3297594487667084,1.5121610164642334,2.674286127090454,-0.35056328773498535,7.843952178955078],\"type\":\"scatter\"},{\"line\":{\"color\":\"black\",\"width\":0.5},\"opacity\":0.2,\"x\":[1,2,3,4,5,6,7,8,9],\"y\":[-10.804512023925781,-2.807086944580078,-7.238185882568359,-25.569580078125,-4.836645126342773,-7.392580509185791,-7.1085405349731445,-18.32888412475586,-8.452653884887695],\"type\":\"scatter\"},{\"line\":{\"color\":\"black\",\"width\":0.5},\"opacity\":0.2,\"x\":[1,2,3,4,5,6,7,8,9],\"y\":[6.836846351623535,1.323372721672058,7.888936996459961,8.563802719116211,6.832711219787598,5.9894328117370605,-3.1465773582458496,11.982532501220703,5.300327301025391],\"type\":\"scatter\"},{\"line\":{\"color\":\"black\",\"width\":0.5},\"opacity\":0.2,\"x\":[1,2,3,4,5,6,7,8,9],\"y\":[-6.40120267868042,-3.6003458499908447,-4.301900386810303,-24.028305053710938,-0.11617159843444824,-4.419021129608154,-0.3719637393951416,-14.016294479370117,11.10023307800293],\"type\":\"scatter\"},{\"line\":{\"color\":\"black\",\"width\":0.5},\"opacity\":0.2,\"x\":[1,2,3,4,5,6,7,8,9],\"y\":[-4.72797155380249,-3.883148670196533,-2.479964256286621,-15.996112823486328,-1.8026880025863647,-7.807413101196289,-7.207779884338379,-6.228374481201172,-11.6474609375],\"type\":\"scatter\"},{\"line\":{\"color\":\"black\",\"width\":0.5},\"opacity\":0.2,\"x\":[1,2,3,4,5,6,7,8,9],\"y\":[-10.86037826538086,4.7552289962768555,-3.0392980575561523,-21.221935272216797,-0.9193122386932373,-7.6471943855285645,4.282444477081299,-21.712881088256836,19.987577438354492],\"type\":\"scatter\"},{\"line\":{\"color\":\"black\",\"width\":0.5},\"opacity\":0.2,\"x\":[1,2,3,4,5,6,7,8,9],\"y\":[0.5950665473937988,-0.08962911367416382,-1.0565383434295654,5.5151777267456055,-2.4340744018554688,1.121891736984253,2.3121814727783203,2.6186983585357666,0.9979040026664734],\"type\":\"scatter\"},{\"line\":{\"color\":\"black\",\"width\":0.5},\"opacity\":0.2,\"x\":[1,2,3,4,5,6,7,8,9],\"y\":[-10.46205997467041,13.236593246459961,-8.054518699645996,-9.196630477905273,1.3396515846252441,0.8154796957969666,8.149489402770996,-33.7491340637207,8.475299835205078],\"type\":\"scatter\"},{\"line\":{\"color\":\"black\",\"width\":0.5},\"opacity\":0.2,\"x\":[1,2,3,4,5,6,7,8,9],\"y\":[5.121331691741943,-14.09129524230957,0.6593384146690369,-6.533017635345459,2.077578544616699,2.943526268005371,-13.03510856628418,10.563922882080078,-31.25368881225586],\"type\":\"scatter\"},{\"line\":{\"color\":\"black\",\"width\":0.5},\"opacity\":0.2,\"x\":[1,2,3,4,5,6,7,8,9],\"y\":[0.38210368156433105,-2.5409069061279297,0.4554668664932251,-4.12192440032959,0.5752735733985901,-1.1661667823791504,-2.5920724868774414,-0.9805686473846436,-3.967113971710205],\"type\":\"scatter\"},{\"line\":{\"color\":\"black\",\"width\":0.5},\"opacity\":0.2,\"x\":[1,2,3,4,5,6,7,8,9],\"y\":[-7.404184818267822,-0.5014517903327942,-5.486013412475586,-15.84919261932373,-2.1566154956817627,-6.67809534072876,0.08148384094238281,-12.786766052246094,1.4042675495147705],\"type\":\"scatter\"},{\"line\":{\"color\":\"black\",\"width\":0.5},\"opacity\":0.2,\"x\":[1,2,3,4,5,6,7,8,9],\"y\":[-47.28138732910156,5.1910505294799805,-16.998306274414062,-97.40824127197266,-10.57268238067627,-34.1492919921875,-8.231144905090332,-89.58863067626953,24.162654876708984],\"type\":\"scatter\"},{\"line\":{\"color\":\"black\",\"width\":0.5},\"opacity\":0.2,\"x\":[1,2,3,4,5,6,7,8,9],\"y\":[-14.47199535369873,5.3553009033203125,-8.309767723083496,-24.182846069335938,-10.206257820129395,-17.541101455688477,8.27726936340332,-31.762531280517578,15.45260238647461],\"type\":\"scatter\"},{\"line\":{\"color\":\"black\",\"width\":0.5},\"opacity\":0.2,\"x\":[1,2,3,4,5,6,7,8,9],\"y\":[-7.52523946762085,-5.742969512939453,-2.6539266109466553,-34.52327346801758,-0.7869033813476562,-12.708529472351074,-7.538183212280273,-19.956287384033203,-2.25883412361145],\"type\":\"scatter\"},{\"line\":{\"color\":\"black\",\"width\":0.5},\"opacity\":0.2,\"x\":[1,2,3,4,5,6,7,8,9],\"y\":[-19.34980010986328,9.597521781921387,0.9349058270454407,-9.805749893188477,-7.081830024719238,-3.3734192848205566,6.718426704406738,-22.83607292175293,29.967212677001953],\"type\":\"scatter\"},{\"line\":{\"color\":\"black\",\"width\":0.5},\"opacity\":0.2,\"x\":[1,2,3,4,5,6,7,8,9],\"y\":[0.5780918598175049,-6.840665817260742,3.2754263877868652,-26.761417388916016,3.2050881385803223,-10.675261497497559,-9.875901222229004,-9.252355575561523,-9.725526809692383],\"type\":\"scatter\"},{\"line\":{\"color\":\"black\",\"width\":0.5},\"opacity\":0.2,\"x\":[1,2,3,4,5,6,7,8,9],\"y\":[-1.6144447326660156,-0.153196319937706,-0.6896328330039978,-2.4317336082458496,0.3513294756412506,-0.001270681619644165,-1.397697925567627,-1.5211923122406006,0.554480791091919],\"type\":\"scatter\"},{\"line\":{\"color\":\"black\",\"width\":0.5},\"opacity\":0.2,\"x\":[1,2,3,4,5,6,7,8,9],\"y\":[-7.622766494750977,30.425445556640625,-6.691988945007324,20.967052459716797,-6.249680519104004,0.29769301414489746,44.24212646484375,-21.19017791748047,66.86258697509766],\"type\":\"scatter\"},{\"line\":{\"color\":\"black\",\"width\":0.5},\"opacity\":0.2,\"x\":[1,2,3,4,5,6,7,8,9],\"y\":[12.193351745605469,3.5625908374786377,6.549333095550537,24.830087661743164,3.734951972961426,8.923105239868164,4.1485066413879395,17.916725158691406,8.993866920471191],\"type\":\"scatter\"},{\"line\":{\"color\":\"black\",\"width\":0.5},\"opacity\":0.2,\"x\":[1,2,3,4,5,6,7,8,9],\"y\":[-13.688911437988281,-16.06045150756836,-6.2800421714782715,-46.245582580566406,-2.7411305904388428,-13.209945678710938,-17.866012573242188,-17.450716018676758,-29.608985900878906],\"type\":\"scatter\"},{\"line\":{\"color\":\"black\",\"width\":0.5},\"opacity\":0.2,\"x\":[1,2,3,4,5,6,7,8,9],\"y\":[-9.073266983032227,0.34055861830711365,-3.51948881149292,-16.064552307128906,-5.051385879516602,-7.2369890213012695,2.9938106536865234,-15.217682838439941,9.952205657958984],\"type\":\"scatter\"},{\"line\":{\"color\":\"black\",\"width\":0.5},\"opacity\":0.2,\"x\":[1,2,3,4,5,6,7,8,9],\"y\":[3.2229042053222656,-2.9241747856140137,-0.9850552678108215,9.589591026306152,-0.42648330330848694,4.573517322540283,-6.377646446228027,11.17563247680664,-21.476783752441406],\"type\":\"scatter\"},{\"line\":{\"color\":\"black\",\"width\":0.5},\"opacity\":0.2,\"x\":[1,2,3,4,5,6,7,8,9],\"y\":[2.890080451965332,-12.167771339416504,7.145833969116211,-13.96385669708252,-8.755736351013184,-12.704999923706055,-13.492981910705566,-9.424467086791992,-33.50413513183594],\"type\":\"scatter\"},{\"line\":{\"color\":\"black\",\"width\":0.5},\"opacity\":0.2,\"x\":[1,2,3,4,5,6,7,8,9],\"y\":[19.412803649902344,14.290023803710938,8.002381324768066,62.27922058105469,1.7450509071350098,17.062171936035156,22.664588928222656,30.948078155517578,24.986482620239258],\"type\":\"scatter\"},{\"line\":{\"color\":\"black\",\"width\":0.5},\"opacity\":0.2,\"x\":[1,2,3,4,5,6,7,8,9],\"y\":[0.36002838611602783,4.810304164886475,0.9937034845352173,7.904478549957275,-0.07634681463241577,1.6055048704147339,7.339047431945801,-0.4830644130706787,11.202127456665039],\"type\":\"scatter\"},{\"line\":{\"color\":\"black\",\"width\":0.5},\"opacity\":0.2,\"x\":[1,2,3,4,5,6,7,8,9],\"y\":[1.7265522480010986,6.674304962158203,-1.0734877586364746,2.077981948852539,-0.3476272225379944,-4.119699001312256,10.581045150756836,1.2808713912963867,11.89865493774414],\"type\":\"scatter\"},{\"line\":{\"color\":\"black\",\"width\":0.5},\"opacity\":0.2,\"x\":[1,2,3,4,5,6,7,8,9],\"y\":[-7.702214241027832,3.779515027999878,-8.508613586425781,-8.925637245178223,-5.244349479675293,-8.852109909057617,6.566844940185547,-12.395508766174316,-2.235147476196289],\"type\":\"scatter\"},{\"line\":{\"color\":\"black\",\"width\":0.5},\"opacity\":0.2,\"x\":[1,2,3,4,5,6,7,8,9],\"y\":[22.673309326171875,6.578326225280762,8.354578971862793,59.65337371826172,11.593639373779297,28.938983917236328,8.558876037597656,48.88172149658203,19.4030818939209],\"type\":\"scatter\"},{\"line\":{\"color\":\"black\",\"width\":0.5},\"opacity\":0.2,\"x\":[1,2,3,4,5,6,7,8,9],\"y\":[33.16020584106445,6.296619415283203,13.07436752319336,95.15519714355469,6.227954864501953,32.172645568847656,12.31668472290039,72.09832763671875,3.666642189025879],\"type\":\"scatter\"},{\"line\":{\"color\":\"black\",\"width\":0.5},\"opacity\":0.2,\"x\":[1,2,3,4,5,6,7,8,9],\"y\":[1.984758734703064,-0.18436110019683838,-0.11275682598352432,0.4106966257095337,-0.679058849811554,-1.193103551864624,-0.9474884271621704,3.5928118228912354,-7.130352973937988],\"type\":\"scatter\"},{\"line\":{\"color\":\"black\",\"width\":0.5},\"opacity\":0.2,\"x\":[1,2,3,4,5,6,7,8,9],\"y\":[-13.939006805419922,-7.815436840057373,-1.9252119064331055,-29.898223876953125,-5.27463436126709,-7.5009331703186035,-6.353336811065674,-17.5223445892334,-9.858587265014648],\"type\":\"scatter\"},{\"line\":{\"color\":\"black\",\"width\":0.5},\"opacity\":0.2,\"x\":[1,2,3,4,5,6,7,8,9],\"y\":[13.325298309326172,-1.9424312114715576,6.5026021003723145,33.65144348144531,6.54953145980835,13.668808937072754,-5.04117488861084,33.56025695800781,-4.060005187988281],\"type\":\"scatter\"},{\"line\":{\"color\":\"black\",\"width\":0.5},\"opacity\":0.2,\"x\":[1,2,3,4,5,6,7,8,9],\"y\":[-0.7925987243652344,8.074271202087402,-2.3010823726654053,24.77277374267578,-1.8903907537460327,7.904764652252197,12.145462036132812,17.508087158203125,14.004755020141602],\"type\":\"scatter\"},{\"line\":{\"color\":\"black\",\"width\":0.5},\"opacity\":0.2,\"x\":[1,2,3,4,5,6,7,8,9],\"y\":[-0.8567075729370117,2.0830981731414795,-0.31378570199012756,3.0135321617126465,-1.1227920055389404,-0.6654987931251526,2.8288135528564453,0.6168954968452454,0.9921615123748779],\"type\":\"scatter\"},{\"line\":{\"color\":\"black\",\"width\":0.5},\"opacity\":0.2,\"x\":[1,2,3,4,5,6,7,8,9],\"y\":[-10.464864730834961,3.9535834789276123,-3.8911006450653076,-24.127479553222656,0.508027970790863,-6.791882038116455,-1.027695894241333,-20.549182891845703,18.138084411621094],\"type\":\"scatter\"},{\"line\":{\"color\":\"black\",\"width\":0.5},\"opacity\":0.2,\"x\":[1,2,3,4,5,6,7,8,9],\"y\":[11.627631187438965,13.299664497375488,10.847502708435059,27.882339477539062,1.137392282485962,8.143320083618164,11.922901153564453,9.51082992553711,5.604177951812744],\"type\":\"scatter\"},{\"line\":{\"color\":\"black\",\"width\":0.5},\"opacity\":0.2,\"x\":[1,2,3,4,5,6,7,8,9],\"y\":[-1.1799813508987427,-2.685823440551758,1.6831142902374268,-13.185126304626465,6.580212593078613,1.3469704389572144,-8.634807586669922,-3.183281660079956,1.3043771982192993],\"type\":\"scatter\"},{\"line\":{\"color\":\"black\",\"width\":0.5},\"opacity\":0.2,\"x\":[1,2,3,4,5,6,7,8,9],\"y\":[0.4643666744232178,-7.928004264831543,-1.1987988948822021,-4.967066764831543,-2.174628496170044,-3.1719398498535156,-6.604651927947998,0.40892791748046875,-31.622655868530273],\"type\":\"scatter\"},{\"line\":{\"color\":\"black\",\"width\":0.5},\"opacity\":0.2,\"x\":[1,2,3,4,5,6,7,8,9],\"y\":[15.636762619018555,-0.47365617752075195,8.976520538330078,25.575206756591797,5.808347702026367,11.183040618896484,1.9819090366363525,24.42928123474121,15.571797370910645],\"type\":\"scatter\"},{\"line\":{\"color\":\"black\",\"width\":0.5},\"opacity\":0.2,\"x\":[1,2,3,4,5,6,7,8,9],\"y\":[2.1249194145202637,-2.7049996852874756,0.7718917727470398,-2.094099283218384,0.39184054732322693,-1.040938138961792,-1.40995454788208,2.630985975265503,-0.8958444595336914],\"type\":\"scatter\"},{\"line\":{\"color\":\"black\",\"width\":0.5},\"opacity\":0.2,\"x\":[1,2,3,4,5,6,7,8,9],\"y\":[4.419369220733643,-1.740796685218811,-0.24067196249961853,-0.026911497116088867,2.3159937858581543,1.727012038230896,-0.31446361541748047,2.8342490196228027,9.765840530395508],\"type\":\"scatter\"},{\"line\":{\"color\":\"black\",\"width\":0.5},\"opacity\":0.2,\"x\":[1,2,3,4,5,6,7,8,9],\"y\":[-0.6199663877487183,3.695509433746338,-0.2891780734062195,4.875258445739746,-1.0673221349716187,0.9150317907333374,4.598964691162109,0.2347416877746582,10.063560485839844],\"type\":\"scatter\"},{\"line\":{\"color\":\"black\",\"width\":0.5},\"opacity\":0.2,\"x\":[1,2,3,4,5,6,7,8,9],\"y\":[-0.8610736727714539,-4.725708484649658,-0.8425742387771606,-10.471868515014648,-0.21637888252735138,-3.9238839149475098,-6.60255241394043,-0.9809246063232422,-5.704008102416992],\"type\":\"scatter\"},{\"line\":{\"color\":\"black\",\"width\":0.5},\"opacity\":0.2,\"x\":[1,2,3,4,5,6,7,8,9],\"y\":[39.889163970947266,-19.041675567626953,12.176654815673828,66.06439208984375,21.916954040527344,42.33761978149414,-28.785751342773438,92.86383819580078,-66.53302001953125],\"type\":\"scatter\"},{\"line\":{\"color\":\"black\",\"width\":0.5},\"opacity\":0.2,\"x\":[1,2,3,4,5,6,7,8,9],\"y\":[-6.664344787597656,-6.811316967010498,-1.063998818397522,-24.982744216918945,-0.9610369205474854,-8.27984619140625,-11.588869094848633,-13.37937068939209,-15.590547561645508],\"type\":\"scatter\"},{\"line\":{\"color\":\"black\",\"width\":0.5},\"opacity\":0.2,\"x\":[1,2,3,4,5,6,7,8,9],\"y\":[10.222338676452637,-6.672558784484863,5.785604476928711,10.083527565002441,4.453700542449951,5.477877140045166,-6.929379463195801,16.705341339111328,-13.217826843261719],\"type\":\"scatter\"},{\"line\":{\"color\":\"black\",\"width\":0.5},\"opacity\":0.2,\"x\":[1,2,3,4,5,6,7,8,9],\"y\":[-10.282727241516113,-8.787515640258789,-4.534433841705322,-35.809669494628906,-3.6450119018554688,-13.383594512939453,-11.150283813476562,-17.971477508544922,-14.7047119140625],\"type\":\"scatter\"},{\"line\":{\"color\":\"black\",\"width\":0.5},\"opacity\":0.2,\"x\":[1,2,3,4,5,6,7,8,9],\"y\":[-13.988357543945312,8.620226860046387,-1.8022220134735107,5.953310966491699,-5.340151786804199,1.6480622291564941,4.635342597961426,-7.1593017578125,18.53326416015625],\"type\":\"scatter\"},{\"line\":{\"color\":\"black\",\"width\":0.5},\"opacity\":0.2,\"x\":[1,2,3,4,5,6,7,8,9],\"y\":[23.841825485229492,-6.499518871307373,12.194294929504395,45.291011810302734,3.3209128379821777,14.257104873657227,-0.8510962128639221,36.938419342041016,-14.473641395568848],\"type\":\"scatter\"},{\"line\":{\"color\":\"black\",\"width\":0.5},\"opacity\":0.2,\"x\":[1,2,3,4,5,6,7,8,9],\"y\":[-9.729199409484863,-22.262165069580078,-1.2307848930358887,-59.63042068481445,3.881783962249756,-9.711830139160156,-30.044662475585938,-24.244138717651367,-47.750423431396484],\"type\":\"scatter\"},{\"line\":{\"color\":\"black\",\"width\":0.5},\"opacity\":0.2,\"x\":[1,2,3,4,5,6,7,8,9],\"y\":[1.391117811203003,7.407921314239502,1.1609776020050049,7.309074401855469,2.720914363861084,8.073121070861816,2.815621852874756,-1.9371838569641113,13.804935455322266],\"type\":\"scatter\"},{\"line\":{\"color\":\"black\",\"width\":0.5},\"opacity\":0.2,\"x\":[1,2,3,4,5,6,7,8,9],\"y\":[13.526529312133789,-2.8546791076660156,9.871785163879395,25.438594818115234,4.04939603805542,12.413662910461426,-9.335582733154297,30.671436309814453,-19.930744171142578],\"type\":\"scatter\"},{\"line\":{\"color\":\"black\",\"width\":0.5},\"opacity\":0.2,\"x\":[1,2,3,4,5,6,7,8,9],\"y\":[-25.50337028503418,-12.889312744140625,-11.733711242675781,-92.78019714355469,-14.835701942443848,-45.85966873168945,-7.976114749908447,-65.09327697753906,-25.617963790893555],\"type\":\"scatter\"},{\"line\":{\"color\":\"black\",\"width\":0.5},\"opacity\":0.2,\"x\":[1,2,3,4,5,6,7,8,9],\"y\":[-37.04780197143555,-19.125795364379883,-23.51715850830078,-111.03567504882812,-5.5031352043151855,-33.916038513183594,-29.150691986083984,-69.1045150756836,-41.098533630371094],\"type\":\"scatter\"},{\"line\":{\"color\":\"black\",\"width\":0.5},\"opacity\":0.2,\"x\":[1,2,3,4,5,6,7,8,9],\"y\":[7.937516212463379,-9.311511993408203,8.044590950012207,5.135819911956787,0.14443540573120117,1.6492674350738525,-8.42724323272705,11.116718292236328,-19.2197265625],\"type\":\"scatter\"},{\"line\":{\"color\":\"black\",\"width\":0.5},\"opacity\":0.2,\"x\":[1,2,3,4,5,6,7,8,9],\"y\":[2.5437068939208984,-1.5607972145080566,1.8283734321594238,-5.620891094207764,0.4139268696308136,-2.6056861877441406,-5.1018266677856445,-0.5549626350402832,-10.541800498962402],\"type\":\"scatter\"},{\"line\":{\"color\":\"black\",\"width\":0.5},\"opacity\":0.2,\"x\":[1,2,3,4,5,6,7,8,9],\"y\":[-4.845504283905029,-6.727266311645508,-1.9359824657440186,-18.08365821838379,-0.01631908118724823,-3.462571144104004,-6.771245002746582,-6.668702125549316,-9.338586807250977],\"type\":\"scatter\"},{\"line\":{\"color\":\"black\",\"width\":0.5},\"opacity\":0.2,\"x\":[1,2,3,4,5,6,7,8,9],\"y\":[0.2190561294555664,5.911547660827637,0.030741214752197266,-0.510016679763794,-1.9991600513458252,-3.873244285583496,9.364959716796875,-17.50303840637207,16.92165756225586],\"type\":\"scatter\"},{\"line\":{\"color\":\"black\",\"width\":0.5},\"opacity\":0.2,\"x\":[1,2,3,4,5,6,7,8,9],\"y\":[24.416963577270508,7.98984432220459,10.628486633300781,26.529787063598633,6.129733085632324,7.336931228637695,16.644947052001953,2.7909703254699707,49.231040954589844],\"type\":\"scatter\"},{\"line\":{\"color\":\"black\",\"width\":0.5},\"opacity\":0.2,\"x\":[1,2,3,4,5,6,7,8,9],\"y\":[-0.23396426439285278,-8.176718711853027,0.24679863452911377,-8.828824043273926,-2.2030253410339355,-4.022322177886963,-8.129783630371094,4.70510196685791,-22.701223373413086],\"type\":\"scatter\"},{\"line\":{\"color\":\"black\",\"width\":0.5},\"opacity\":0.2,\"x\":[1,2,3,4,5,6,7,8,9],\"y\":[-9.78045654296875,17.717084884643555,-10.232661247253418,27.811391830444336,0.5121483206748962,13.336504936218262,19.644577026367188,12.503965377807617,23.520519256591797],\"type\":\"scatter\"},{\"line\":{\"color\":\"black\",\"width\":0.5},\"opacity\":0.2,\"x\":[1,2,3,4,5,6,7,8,9],\"y\":[1.8714849948883057,5.119789123535156,1.140592098236084,-11.276522636413574,-2.5927209854125977,-13.456181526184082,8.540935516357422,-20.84650421142578,30.61530303955078],\"type\":\"scatter\"},{\"line\":{\"color\":\"black\",\"width\":0.5},\"opacity\":0.2,\"x\":[1,2,3,4,5,6,7,8,9],\"y\":[-5.610804557800293,2.1684184074401855,-0.7586115598678589,-4.505096435546875,-0.21419838070869446,-2.4074347019195557,-0.6458656787872314,-4.1729021072387695,3.594721794128418],\"type\":\"scatter\"},{\"line\":{\"color\":\"black\",\"width\":0.5},\"opacity\":0.2,\"x\":[1,2,3,4,5,6,7,8,9],\"y\":[15.59559440612793,-11.467498779296875,13.167675018310547,32.54084014892578,10.682378768920898,19.148035049438477,-14.144424438476562,31.405139923095703,-39.371028900146484],\"type\":\"scatter\"},{\"line\":{\"color\":\"black\",\"width\":0.5},\"opacity\":0.2,\"x\":[1,2,3,4,5,6,7,8,9],\"y\":[6.474599838256836,19.224672317504883,6.400151252746582,49.31993865966797,4.426217079162598,17.04070472717285,20.32701873779297,9.812655448913574,39.2449836730957],\"type\":\"scatter\"},{\"line\":{\"color\":\"black\",\"width\":0.5},\"opacity\":0.2,\"x\":[1,2,3,4,5,6,7,8,9],\"y\":[-74.55807495117188,-22.194839477539062,-29.167438507080078,-195.9222412109375,-19.62248992919922,-70.04191589355469,-30.791709899902344,-132.2158966064453,-10.528579711914062],\"type\":\"scatter\"},{\"line\":{\"color\":\"black\",\"width\":0.5},\"opacity\":0.2,\"x\":[1,2,3,4,5,6,7,8,9],\"y\":[-10.77987003326416,-2.3263509273529053,-5.876265525817871,-26.782011032104492,-0.06750845909118652,-9.411459922790527,-3.1387195587158203,-18.86594009399414,-5.0258331298828125],\"type\":\"scatter\"},{\"line\":{\"color\":\"black\",\"width\":0.5},\"opacity\":0.2,\"x\":[1,2,3,4,5,6,7,8,9],\"y\":[-41.62660217285156,9.15093994140625,-20.31760025024414,-64.82550811767578,-14.019479751586914,-28.56038475036621,10.064327239990234,-67.79397583007812,29.34269905090332],\"type\":\"scatter\"},{\"line\":{\"color\":\"black\",\"width\":0.5},\"opacity\":0.2,\"x\":[1,2,3,4,5,6,7,8,9],\"y\":[-19.982200622558594,3.740206718444824,-6.080929756164551,-28.30120849609375,-6.726900100708008,-11.9262113571167,1.4377305507659912,-32.49907302856445,7.247379302978516],\"type\":\"scatter\"},{\"line\":{\"color\":\"black\",\"width\":0.5},\"opacity\":0.2,\"x\":[1,2,3,4,5,6,7,8,9],\"y\":[-4.011599540710449,0.12830907106399536,-2.065234899520874,-9.029531478881836,-1.6464813947677612,-4.091316223144531,0.7419409155845642,-7.110929489135742,4.566324710845947],\"type\":\"scatter\"},{\"line\":{\"color\":\"black\",\"width\":0.5},\"opacity\":0.2,\"x\":[1,2,3,4,5,6,7,8,9],\"y\":[13.109829902648926,-8.394275665283203,5.8280510902404785,2.501102924346924,0.21588653326034546,-6.157377243041992,-0.6283104419708252,7.1455488204956055,-14.075571060180664],\"type\":\"scatter\"},{\"line\":{\"color\":\"black\",\"width\":0.5},\"opacity\":0.2,\"x\":[1,2,3,4,5,6,7,8,9],\"y\":[-11.026501655578613,5.210213661193848,-5.305624008178711,-18.687829971313477,-3.449577808380127,-9.391239166259766,3.436969757080078,-19.70476531982422,8.709124565124512],\"type\":\"scatter\"},{\"line\":{\"color\":\"black\",\"width\":0.5},\"opacity\":0.2,\"x\":[1,2,3,4,5,6,7,8,9],\"y\":[8.243882179260254,1.1490898132324219,4.057155132293701,26.522335052490234,2.6266841888427734,8.764474868774414,4.277920722961426,18.144847869873047,3.9519097805023193],\"type\":\"scatter\"},{\"line\":{\"color\":\"black\",\"width\":0.5},\"opacity\":0.2,\"x\":[1,2,3,4,5,6,7,8,9],\"y\":[-11.764507293701172,2.2784852981567383,-3.9443717002868652,-13.210485458374023,-2.6301960945129395,-2.480024814605713,2.3691251277923584,-16.233240127563477,15.057514190673828],\"type\":\"scatter\"},{\"line\":{\"color\":\"black\",\"width\":0.5},\"opacity\":0.2,\"x\":[1,2,3,4,5,6,7,8,9],\"y\":[-2.4833455085754395,5.769291400909424,-2.0502185821533203,6.3337788581848145,0.19501984119415283,2.513986110687256,7.252420425415039,-1.0114078521728516,0.8014452457427979],\"type\":\"scatter\"},{\"line\":{\"color\":\"black\",\"width\":0.5},\"opacity\":0.2,\"x\":[1,2,3,4,5,6,7,8,9],\"y\":[-1.6263790130615234,10.317646980285645,1.7045522928237915,9.044541358947754,0.5300660133361816,4.244132041931152,16.107284545898438,-9.531923294067383,35.500545501708984],\"type\":\"scatter\"},{\"line\":{\"color\":\"black\",\"width\":0.5},\"opacity\":0.2,\"x\":[1,2,3,4,5,6,7,8,9],\"y\":[-0.21440768241882324,1.742766261100769,1.6627084016799927,1.9515056610107422,0.07567388564348221,2.95878529548645,-1.7931430339813232,2.4897098541259766,2.915511131286621],\"type\":\"scatter\"},{\"line\":{\"color\":\"black\",\"width\":0.5},\"opacity\":0.2,\"x\":[1,2,3,4,5,6,7,8,9],\"y\":[0.7751209735870361,-8.2960205078125,-2.5849273204803467,-29.290325164794922,-3.3312978744506836,-14.520216941833496,-4.240556716918945,-19.615232467651367,-4.4799041748046875],\"type\":\"scatter\"},{\"line\":{\"color\":\"black\",\"width\":0.5},\"opacity\":0.2,\"x\":[1,2,3,4,5,6,7,8,9],\"y\":[-22.01797103881836,2.336564064025879,-7.04449462890625,-45.08373260498047,-8.437174797058105,-19.93854522705078,0.8634977340698242,-38.828243255615234,7.21922492980957],\"type\":\"scatter\"},{\"line\":{\"color\":\"black\",\"width\":0.5},\"opacity\":0.2,\"x\":[1,2,3,4,5,6,7,8,9],\"y\":[-14.407824516296387,-11.54712200164795,-4.851688385009766,-32.2432746887207,-1.2805055379867554,-5.581913948059082,-17.076066970825195,-13.14037036895752,-21.54367446899414],\"type\":\"scatter\"},{\"line\":{\"color\":\"black\",\"width\":0.5},\"opacity\":0.2,\"x\":[1,2,3,4,5,6,7,8,9],\"y\":[-6.311420440673828,23.36544418334961,-2.3623950481414795,24.391124725341797,-3.909670829772949,4.688040256500244,27.925992965698242,-16.706348419189453,43.875144958496094],\"type\":\"scatter\"},{\"line\":{\"color\":\"black\",\"width\":0.5},\"opacity\":0.2,\"x\":[1,2,3,4,5,6,7,8,9],\"y\":[6.062559604644775,-3.2477142810821533,4.4632792472839355,-3.528135299682617,1.6439467668533325,-3.5324995517730713,-1.0943810939788818,1.7814421653747559,2.177248954772949],\"type\":\"scatter\"},{\"line\":{\"color\":\"black\",\"width\":0.5},\"opacity\":0.2,\"x\":[1,2,3,4,5,6,7,8,9],\"y\":[-8.97470760345459,-5.7010722160339355,3.6696054935455322,-28.983449935913086,-0.9928216934204102,-12.56286334991455,-8.513544082641602,-15.339524269104004,-4.14138650894165],\"type\":\"scatter\"},{\"line\":{\"color\":\"black\",\"width\":0.5},\"opacity\":0.2,\"x\":[1,2,3,4,5,6,7,8,9],\"y\":[-14.730093955993652,-9.109435081481934,-3.0838966369628906,-40.46595001220703,-3.494318962097168,-10.614123344421387,-13.600814819335938,-16.383821487426758,-14.534344673156738],\"type\":\"scatter\"},{\"line\":{\"color\":\"black\",\"width\":0.5},\"opacity\":0.2,\"x\":[1,2,3,4,5,6,7,8,9],\"y\":[-14.746885299682617,7.355984210968018,-5.8101396560668945,-10.90788459777832,-2.995981216430664,-3.527646064758301,3.872519016265869,-12.780622482299805,16.280017852783203],\"type\":\"scatter\"},{\"line\":{\"color\":\"black\",\"width\":0.5},\"opacity\":0.2,\"x\":[1,2,3,4,5,6,7,8,9],\"y\":[2.0715951919555664,-1.4908068180084229,1.222070336341858,-3.9777133464813232,1.6678779125213623,-1.1009737253189087,-1.6266359090805054,-1.562854528427124,-0.6232869625091553],\"type\":\"scatter\"},{\"line\":{\"color\":\"black\",\"width\":0.5},\"opacity\":0.2,\"x\":[1,2,3,4,5,6,7,8,9],\"y\":[-4.175888538360596,-9.747132301330566,-3.7558186054229736,-41.786964416503906,-6.151002407073975,-23.886934280395508,-10.777793884277344,-26.364334106445312,-23.552078247070312],\"type\":\"scatter\"},{\"line\":{\"color\":\"black\",\"width\":0.5},\"opacity\":0.2,\"x\":[1,2,3,4,5,6,7,8,9],\"y\":[22.555063247680664,-1.613255500793457,9.274928092956543,59.0434684753418,10.728903770446777,28.460805892944336,-2.654306650161743,46.98143005371094,-24.094852447509766],\"type\":\"scatter\"},{\"line\":{\"color\":\"black\",\"width\":0.5},\"opacity\":0.2,\"x\":[1,2,3,4,5,6,7,8,9],\"y\":[4.125969886779785,-0.4478416442871094,-2.1535801887512207,33.69309616088867,-0.022259801626205444,14.061598777770996,3.1862902641296387,26.712875366210938,-13.675724029541016],\"type\":\"scatter\"},{\"line\":{\"color\":\"black\",\"width\":0.5},\"opacity\":0.2,\"x\":[1,2,3,4,5,6,7,8,9],\"y\":[-0.056128084659576416,1.76283860206604,0.06935936212539673,4.552950382232666,-0.9632734656333923,1.3857700824737549,2.9594578742980957,0.5101671814918518,0.8910863399505615],\"type\":\"scatter\"},{\"line\":{\"color\":\"black\",\"width\":0.5},\"opacity\":0.2,\"x\":[1,2,3,4,5,6,7,8,9],\"y\":[1.7444435358047485,4.038686752319336,-0.2500438690185547,14.984918594360352,0.3257914185523987,5.545019626617432,6.2243194580078125,7.255236625671387,6.549091339111328],\"type\":\"scatter\"},{\"line\":{\"color\":\"black\",\"width\":0.5},\"opacity\":0.2,\"x\":[1,2,3,4,5,6,7,8,9],\"y\":[11.144611358642578,9.921257019042969,7.965330600738525,33.22381591796875,2.987896203994751,5.065720558166504,7.702080726623535,15.63888168334961,18.98888397216797],\"type\":\"scatter\"},{\"line\":{\"color\":\"black\",\"width\":0.5},\"opacity\":0.2,\"x\":[1,2,3,4,5,6,7,8,9],\"y\":[0.7789618372917175,-2.6648213863372803,0.7272571921348572,3.076296329498291,0.2680245339870453,2.4251835346221924,-1.928652048110962,5.665004730224609,-8.21543025970459],\"type\":\"scatter\"},{\"line\":{\"color\":\"black\",\"width\":0.5},\"opacity\":0.2,\"x\":[1,2,3,4,5,6,7,8,9],\"y\":[-4.185897350311279,0.8526038527488708,-2.0935845375061035,-6.633044719696045,-0.8887801170349121,-2.2344751358032227,0.8396928906440735,-5.728425025939941,5.02009391784668],\"type\":\"scatter\"},{\"line\":{\"color\":\"black\",\"width\":0.5},\"opacity\":0.2,\"x\":[1,2,3,4,5,6,7,8,9],\"y\":[10.84864330291748,-21.03528594970703,8.735538482666016,-19.02789878845215,9.637242317199707,0.6098988056182861,-28.131587982177734,13.713208198547363,-21.942968368530273],\"type\":\"scatter\"},{\"line\":{\"color\":\"black\",\"width\":0.5},\"opacity\":0.2,\"x\":[1,2,3,4,5,6,7,8,9],\"y\":[-10.242645263671875,-5.621379852294922,-3.9847488403320312,-31.544601440429688,-3.1271705627441406,-11.898415565490723,-9.112545013427734,-20.06570053100586,-13.552284240722656],\"type\":\"scatter\"},{\"line\":{\"color\":\"black\",\"width\":0.5},\"opacity\":0.2,\"x\":[1,2,3,4,5,6,7,8,9],\"y\":[-15.059005737304688,-13.240588188171387,-9.652121543884277,-36.47365951538086,4.783504009246826,2.875511646270752,-26.027807235717773,-11.193296432495117,-34.90315246582031],\"type\":\"scatter\"},{\"line\":{\"color\":\"black\",\"width\":0.5},\"opacity\":0.2,\"x\":[1,2,3,4,5,6,7,8,9],\"y\":[20.191062927246094,27.554847717285156,9.817399024963379,101.33963012695312,9.901518821716309,42.98737335205078,30.482452392578125,71.31771087646484,42.361061096191406],\"type\":\"scatter\"},{\"line\":{\"color\":\"black\",\"width\":0.5},\"opacity\":0.2,\"x\":[1,2,3,4,5,6,7,8,9],\"y\":[20.407699584960938,16.825336456298828,0.6646008491516113,65.70420837402344,10.851478576660156,31.339757919311523,24.61725616455078,41.68489456176758,34.2204704284668],\"type\":\"scatter\"},{\"line\":{\"color\":\"black\",\"width\":0.5},\"opacity\":0.2,\"x\":[1,2,3,4,5,6,7,8,9],\"y\":[0.05507156252861023,0.6540678143501282,0.004543513059616089,1.1660274267196655,-0.0598183199763298,0.6445488333702087,0.309039443731308,-0.2785821259021759,0.9305158853530884],\"type\":\"scatter\"},{\"line\":{\"color\":\"black\",\"width\":0.5},\"opacity\":0.2,\"x\":[1,2,3,4,5,6,7,8,9],\"y\":[-2.9305970668792725,-2.139129161834717,-1.5072495937347412,-7.64901876449585,-0.7046488523483276,-2.594916820526123,-2.128509044647217,-3.7817039489746094,-3.9514620304107666],\"type\":\"scatter\"},{\"line\":{\"color\":\"black\",\"width\":0.5},\"opacity\":0.2,\"x\":[1,2,3,4,5,6,7,8,9],\"y\":[15.485288619995117,-4.394285202026367,6.957582473754883,32.30291748046875,6.130470275878906,15.904858589172363,-4.4562249183654785,35.42805480957031,-7.63583517074585],\"type\":\"scatter\"},{\"line\":{\"color\":\"black\",\"width\":0.5},\"opacity\":0.2,\"x\":[1,2,3,4,5,6,7,8,9],\"y\":[-9.633016586303711,-7.629183769226074,0.418670654296875,-17.29449462890625,1.0366672277450562,2.966956853866577,-10.373200416564941,-4.742806434631348,2.4395413398742676],\"type\":\"scatter\"},{\"line\":{\"color\":\"black\",\"width\":0.5},\"opacity\":0.2,\"x\":[1,2,3,4,5,6,7,8,9],\"y\":[10.894540786743164,-7.469909191131592,-1.824894905090332,20.376523971557617,-0.2476818561553955,10.32559871673584,0.8793575763702393,24.068328857421875,-23.095584869384766],\"type\":\"scatter\"},{\"line\":{\"color\":\"black\",\"width\":0.5},\"opacity\":0.2,\"x\":[1,2,3,4,5,6,7,8,9],\"y\":[-0.011182546615600586,-0.020486950874328613,-0.9172227382659912,-2.5032238960266113,-0.704922616481781,-1.4228181838989258,-0.6667227745056152,-1.2382277250289917,0.40414273738861084],\"type\":\"scatter\"},{\"line\":{\"color\":\"black\",\"width\":0.5},\"opacity\":0.2,\"x\":[1,2,3,4,5,6,7,8,9],\"y\":[-6.713041305541992,-0.1236836165189743,-4.046436309814453,-11.739457130432129,-1.5215907096862793,-3.4816391468048096,-0.9806626439094543,-9.904921531677246,-5.009897232055664],\"type\":\"scatter\"},{\"line\":{\"color\":\"black\",\"width\":0.5},\"opacity\":0.2,\"x\":[1,2,3,4,5,6,7,8,9],\"y\":[7.794236183166504,10.307236671447754,3.8488929271698,29.455745697021484,0.05668255686759949,7.999525547027588,13.067037582397461,9.052282333374023,28.331743240356445],\"type\":\"scatter\"},{\"line\":{\"color\":\"black\",\"width\":0.5},\"opacity\":0.2,\"x\":[1,2,3,4,5,6,7,8,9],\"y\":[-0.47205448150634766,-11.07992172241211,-2.251429796218872,-8.467039108276367,-0.7164823412895203,-1.09889554977417,-8.466364860534668,4.784498691558838,-18.997447967529297],\"type\":\"scatter\"},{\"line\":{\"color\":\"black\",\"width\":0.5},\"opacity\":0.2,\"x\":[1,2,3,4,5,6,7,8,9],\"y\":[2.9107890129089355,-0.6751511096954346,1.0245461463928223,1.328394889831543,0.8206944465637207,-2.836884021759033,-0.022508859634399414,7.308337688446045,-3.2165122032165527],\"type\":\"scatter\"},{\"line\":{\"color\":\"black\",\"width\":0.5},\"opacity\":0.2,\"x\":[1,2,3,4,5,6,7,8,9],\"y\":[-14.008219718933105,-0.5344393849372864,-11.099437713623047,-18.129358291625977,-1.7608431577682495,-1.9246782064437866,5.389404773712158,-9.862547874450684,1.3964271545410156],\"type\":\"scatter\"},{\"line\":{\"color\":\"black\",\"width\":0.5},\"opacity\":0.2,\"x\":[1,2,3,4,5,6,7,8,9],\"y\":[9.99798583984375,0.272330105304718,9.730981826782227,26.525959014892578,3.265333414077759,10.861580848693848,-9.860204696655273,23.496789932250977,-2.8694841861724854],\"type\":\"scatter\"},{\"line\":{\"color\":\"black\",\"width\":0.5},\"opacity\":0.2,\"x\":[1,2,3,4,5,6,7,8,9],\"y\":[4.631792068481445,8.428525924682617,0.4429223835468292,29.050642013549805,1.2387608289718628,12.115594863891602,11.392949104309082,17.730770111083984,5.779416561126709],\"type\":\"scatter\"},{\"line\":{\"color\":\"black\",\"width\":0.5},\"opacity\":0.2,\"x\":[1,2,3,4,5,6,7,8,9],\"y\":[30.41303062438965,18.287139892578125,5.177236557006836,118.8122329711914,9.853126525878906,49.46733474731445,30.77783966064453,85.12760925292969,26.633325576782227],\"type\":\"scatter\"},{\"line\":{\"color\":\"black\",\"width\":0.5},\"opacity\":0.2,\"x\":[1,2,3,4,5,6,7,8,9],\"y\":[-2.5959508419036865,-11.5272855758667,2.569472551345825,-27.234121322631836,-0.659675121307373,-9.353671073913574,-12.562625885009766,-8.446025848388672,-19.009504318237305],\"type\":\"scatter\"},{\"line\":{\"color\":\"black\",\"width\":0.5},\"opacity\":0.2,\"x\":[1,2,3,4,5,6,7,8,9],\"y\":[12.944662094116211,11.116055488586426,1.9106234312057495,32.0258903503418,3.579352855682373,9.603142738342285,13.41185188293457,16.736614227294922,23.45301055908203],\"type\":\"scatter\"},{\"line\":{\"color\":\"black\",\"width\":0.5},\"opacity\":0.2,\"x\":[1,2,3,4,5,6,7,8,9],\"y\":[11.863908767700195,1.054955005645752,1.8952198028564453,9.163514137268066,-0.8918187618255615,-3.3649744987487793,6.06482458114624,2.698662757873535,8.794767379760742],\"type\":\"scatter\"},{\"line\":{\"color\":\"black\",\"width\":0.5},\"opacity\":0.2,\"x\":[1,2,3,4,5,6,7,8,9],\"y\":[4.035893440246582,-0.1834886074066162,7.398188591003418,22.560344696044922,2.6952641010284424,6.7664594650268555,-3.479945182800293,22.47172737121582,-7.302346229553223],\"type\":\"scatter\"},{\"line\":{\"color\":\"black\",\"width\":0.5},\"opacity\":0.2,\"x\":[1,2,3,4,5,6,7,8,9],\"y\":[-14.274032592773438,-16.246238708496094,-5.486749649047852,-51.00540542602539,-0.46034353971481323,-12.49805736541748,-28.131427764892578,-24.73345375061035,-52.799827575683594],\"type\":\"scatter\"},{\"line\":{\"color\":\"black\",\"width\":0.5},\"opacity\":0.2,\"x\":[1,2,3,4,5,6,7,8,9],\"y\":[3.5384349822998047,1.3296525478363037,1.8993902206420898,11.303766250610352,2.1158547401428223,5.916905403137207,3.1232991218566895,8.546089172363281,6.367117881774902],\"type\":\"scatter\"},{\"line\":{\"color\":\"black\",\"width\":0.5},\"opacity\":0.2,\"x\":[1,2,3,4,5,6,7,8,9],\"y\":[-9.229262351989746,9.382652282714844,-1.4823105335235596,-1.2445106506347656,0.22322189807891846,2.9618935585021973,-1.0814480781555176,-3.9373369216918945,27.510112762451172],\"type\":\"scatter\"},{\"line\":{\"color\":\"black\",\"width\":0.5},\"opacity\":0.2,\"x\":[1,2,3,4,5,6,7,8,9],\"y\":[2.676576614379883,3.341346502304077,5.476660251617432,7.718327045440674,5.09708309173584,2.5913524627685547,-4.261078834533691,0.9377155303955078,-6.607695579528809],\"type\":\"scatter\"},{\"line\":{\"color\":\"black\",\"width\":0.5},\"opacity\":0.2,\"x\":[1,2,3,4,5,6,7,8,9],\"y\":[32.90283966064453,5.02449893951416,15.086578369140625,61.442962646484375,7.809915542602539,21.270217895507812,12.30555534362793,38.293575286865234,31.338420867919922],\"type\":\"scatter\"},{\"line\":{\"color\":\"black\",\"width\":0.5},\"opacity\":0.2,\"x\":[1,2,3,4,5,6,7,8,9],\"y\":[-36.18526840209961,-10.365107536315918,-10.69778060913086,-112.6655044555664,-14.11327075958252,-51.03749084472656,-16.701316833496094,-78.54899597167969,-11.270617485046387],\"type\":\"scatter\"},{\"line\":{\"color\":\"black\",\"width\":0.5},\"opacity\":0.2,\"x\":[1,2,3,4,5,6,7,8,9],\"y\":[-5.119996070861816,-0.7942403554916382,-2.1494410037994385,-14.514687538146973,-0.5042440891265869,-4.634364128112793,-0.4541375935077667,-9.109021186828613,1.5460187196731567],\"type\":\"scatter\"},{\"line\":{\"color\":\"black\",\"width\":0.5},\"opacity\":0.2,\"x\":[1,2,3,4,5,6,7,8,9],\"y\":[12.571086883544922,6.016075134277344,4.821559429168701,44.83850860595703,1.0461145639419556,11.053592681884766,14.743403434753418,22.692171096801758,16.741731643676758],\"type\":\"scatter\"},{\"line\":{\"color\":\"black\",\"width\":0.5},\"opacity\":0.2,\"x\":[1,2,3,4,5,6,7,8,9],\"y\":[19.790023803710938,-4.158992767333984,11.626945495605469,37.20063400268555,5.535372734069824,15.256649017333984,-5.928940773010254,31.76412582397461,-20.226001739501953],\"type\":\"scatter\"},{\"line\":{\"color\":\"black\",\"width\":0.5},\"opacity\":0.2,\"x\":[1,2,3,4,5,6,7,8,9],\"y\":[-7.35207462310791,17.61819076538086,-4.096236228942871,2.2663087844848633,2.4618465900421143,3.0650811195373535,18.870885848999023,-20.232866287231445,55.27600860595703],\"type\":\"scatter\"},{\"line\":{\"color\":\"black\",\"width\":0.5},\"opacity\":0.2,\"x\":[1,2,3,4,5,6,7,8,9],\"y\":[-9.783946990966797,-2.256748676300049,2.4201784133911133,-38.269630432128906,-0.688895583152771,-13.377012252807617,-6.3239336013793945,-28.467662811279297,7.805598258972168],\"type\":\"scatter\"},{\"line\":{\"color\":\"black\",\"width\":0.5},\"opacity\":0.2,\"x\":[1,2,3,4,5,6,7,8,9],\"y\":[5.778528213500977,1.6517316102981567,5.680873870849609,-2.345806121826172,2.3422250747680664,-3.690816879272461,-2.0500645637512207,-6.340898036956787,-4.0790839195251465],\"type\":\"scatter\"},{\"line\":{\"color\":\"black\",\"width\":0.5},\"opacity\":0.2,\"x\":[1,2,3,4,5,6,7,8,9],\"y\":[1.773531436920166,4.760800838470459,5.441261291503906,12.246767044067383,0.08568055927753448,3.027369976043701,5.253231048583984,3.9525699615478516,12.7925443649292],\"type\":\"scatter\"},{\"line\":{\"color\":\"black\",\"width\":0.5},\"opacity\":0.2,\"x\":[1,2,3,4,5,6,7,8,9],\"y\":[2.7625017166137695,-1.0858001708984375,-4.109042167663574,11.847983360290527,-1.9079564809799194,2.6475322246551514,1.4503872394561768,10.830025672912598,-6.856731414794922],\"type\":\"scatter\"},{\"line\":{\"color\":\"black\",\"width\":0.5},\"opacity\":0.2,\"x\":[1,2,3,4,5,6,7,8,9],\"y\":[-7.800087928771973,-6.444212436676025,-2.8086557388305664,-29.43729019165039,-2.3030829429626465,-11.140352249145508,-6.615885257720947,-20.582439422607422,-11.333656311035156],\"type\":\"scatter\"},{\"line\":{\"color\":\"black\",\"width\":0.5},\"opacity\":0.2,\"x\":[1,2,3,4,5,6,7,8,9],\"y\":[-1.4680516719818115,-0.951907753944397,-1.0390352010726929,-6.180271625518799,2.524050712585449,-2.386197090148926,-4.493861675262451,2.5794715881347656,-7.119041442871094],\"type\":\"scatter\"},{\"line\":{\"color\":\"black\",\"width\":0.5},\"opacity\":0.2,\"x\":[1,2,3,4,5,6,7,8,9],\"y\":[0.17719325423240662,0.07258772104978561,-0.03748210892081261,-0.12599040567874908,0.056720830500125885,0.22933503985404968,-0.1314900815486908,-0.3113801181316376,-0.11615021526813507],\"type\":\"scatter\"},{\"line\":{\"color\":\"black\",\"width\":0.5},\"opacity\":0.2,\"x\":[1,2,3,4,5,6,7,8,9],\"y\":[4.6932525634765625,11.551736831665039,8.477739334106445,14.966118812561035,6.073159694671631,5.46142578125,5.544607639312744,5.904488563537598,28.344810485839844],\"type\":\"scatter\"},{\"line\":{\"color\":\"black\",\"width\":0.5},\"opacity\":0.2,\"x\":[1,2,3,4,5,6,7,8,9],\"y\":[-1.1296340227127075,1.146734356880188,-0.593274712562561,1.4647036790847778,0.0188442412763834,1.1899442672729492,1.5128648281097412,-0.014284849166870117,4.27644681930542],\"type\":\"scatter\"},{\"line\":{\"color\":\"black\",\"width\":0.5},\"opacity\":0.2,\"x\":[1,2,3,4,5,6,7,8,9],\"y\":[11.033095359802246,6.3397698402404785,4.40009069442749,46.74722671508789,1.440359115600586,18.22285270690918,8.534509658813477,30.79877471923828,9.814523696899414],\"type\":\"scatter\"},{\"line\":{\"color\":\"black\",\"width\":0.5},\"opacity\":0.2,\"x\":[1,2,3,4,5,6,7,8,9],\"y\":[9.272356986999512,-13.60793685913086,7.3397722244262695,-8.67625904083252,3.842196464538574,1.9388949871063232,-18.42364501953125,11.008508682250977,-25.432483673095703],\"type\":\"scatter\"},{\"line\":{\"color\":\"black\",\"width\":0.5},\"opacity\":0.2,\"x\":[1,2,3,4,5,6,7,8,9],\"y\":[-2.455653190612793,5.187675476074219,-0.8937625288963318,3.439255714416504,-2.6062796115875244,-0.10786592960357666,5.089654922485352,-7.468735694885254,11.629069328308105],\"type\":\"scatter\"},{\"line\":{\"color\":\"black\",\"width\":0.5},\"opacity\":0.2,\"x\":[1,2,3,4,5,6,7,8,9],\"y\":[-14.734984397888184,-6.8894267082214355,-4.712444305419922,-41.62567901611328,-6.589439868927002,-20.607955932617188,-6.960503578186035,-21.06231689453125,-3.272639513015747],\"type\":\"scatter\"},{\"line\":{\"color\":\"black\",\"width\":0.5},\"opacity\":0.2,\"x\":[1,2,3,4,5,6,7,8,9],\"y\":[-6.837228775024414,-4.979760646820068,-4.591288089752197,-32.907325744628906,-4.260359764099121,-18.804363250732422,-6.116976737976074,-22.18216323852539,-9.778042793273926],\"type\":\"scatter\"},{\"line\":{\"color\":\"black\",\"width\":0.5},\"opacity\":0.2,\"x\":[1,2,3,4,5,6,7,8,9],\"y\":[14.544157981872559,-2.5150516033172607,7.37588357925415,26.917160034179688,6.17837381362915,12.414435386657715,-1.4297877550125122,25.77838897705078,-9.209138870239258],\"type\":\"scatter\"},{\"line\":{\"color\":\"black\",\"width\":0.5},\"opacity\":0.2,\"x\":[1,2,3,4,5,6,7,8,9],\"y\":[1.305857539176941,1.1462113857269287,0.589739978313446,5.054394721984863,0.35076045989990234,1.3727091550827026,1.5740954875946045,1.8786261081695557,2.759650230407715],\"type\":\"scatter\"},{\"line\":{\"color\":\"black\",\"width\":0.5},\"opacity\":0.2,\"x\":[1,2,3,4,5,6,7,8,9],\"y\":[-10.728286743164062,1.9737803936004639,-8.605921745300293,-5.706745147705078,-3.1040475368499756,3.31198787689209,-1.9975004196166992,3.9459457397460938,6.343035697937012],\"type\":\"scatter\"},{\"line\":{\"color\":\"black\",\"width\":0.5},\"opacity\":0.2,\"x\":[1,2,3,4,5,6,7,8,9],\"y\":[-25.357126235961914,-1.1680388450622559,-3.977457046508789,-62.05095672607422,-1.7679243087768555,-21.656734466552734,-12.621834754943848,-42.65398406982422,11.733670234680176],\"type\":\"scatter\"},{\"line\":{\"color\":\"black\",\"width\":0.5},\"opacity\":0.2,\"x\":[1,2,3,4,5,6,7,8,9],\"y\":[-4.186407089233398,0.10072660446166992,-2.2981128692626953,-5.324694633483887,3.0275323390960693,0.520836353302002,4.464601516723633,2.4391374588012695,7.929677963256836],\"type\":\"scatter\"},{\"line\":{\"color\":\"black\",\"width\":0.5},\"opacity\":0.2,\"x\":[1,2,3,4,5,6,7,8,9],\"y\":[1.7243883609771729,0.24381230771541595,0.8168765902519226,6.068475723266602,0.9343780875205994,2.9931893348693848,-0.183016836643219,6.0024261474609375,0.6457028388977051],\"type\":\"scatter\"},{\"line\":{\"color\":\"black\",\"width\":0.5},\"opacity\":0.2,\"x\":[1,2,3,4,5,6,7,8,9],\"y\":[-35.21477508544922,1.2900543212890625,-19.550350189208984,-89.86316680908203,-14.292875289916992,-38.796390533447266,3.4080803394317627,-81.6112289428711,-7.961104393005371],\"type\":\"scatter\"},{\"line\":{\"color\":\"black\",\"width\":0.5},\"opacity\":0.2,\"x\":[1,2,3,4,5,6,7,8,9],\"y\":[-12.856057167053223,-4.155261039733887,-0.9266743659973145,-42.66630172729492,-1.3871102333068848,-17.121606826782227,-11.621603965759277,-28.31563949584961,-13.503143310546875],\"type\":\"scatter\"},{\"line\":{\"color\":\"black\",\"width\":0.5},\"opacity\":0.2,\"x\":[1,2,3,4,5,6,7,8,9],\"y\":[22.280654907226562,-13.77812385559082,12.230070114135742,21.92005729675293,6.100521564483643,7.022345066070557,-16.03894805908203,43.70832061767578,-32.744606018066406],\"type\":\"scatter\"},{\"line\":{\"color\":\"black\",\"width\":0.5},\"opacity\":0.2,\"x\":[1,2,3,4,5,6,7,8,9],\"y\":[22.231121063232422,-1.5240700244903564,12.885046005249023,36.5631103515625,1.376179814338684,10.328923225402832,-0.30945515632629395,25.661638259887695,-13.249570846557617],\"type\":\"scatter\"},{\"line\":{\"color\":\"black\",\"width\":0.5},\"opacity\":0.2,\"x\":[1,2,3,4,5,6,7,8,9],\"y\":[2.0135371685028076,2.105422019958496,0.18066108226776123,9.14693832397461,1.2703773975372314,3.6602439880371094,1.7135865688323975,3.563998222351074,1.1387856006622314],\"type\":\"scatter\"},{\"line\":{\"color\":\"black\",\"width\":0.5},\"opacity\":0.2,\"x\":[1,2,3,4,5,6,7,8,9],\"y\":[-4.9408464431762695,-0.3086746633052826,-0.8991721868515015,-3.0149424076080322,-2.1765358448028564,-0.28910619020462036,-3.680266857147217,-7.839856147766113,-15.542131423950195],\"type\":\"scatter\"},{\"line\":{\"color\":\"black\",\"width\":0.5},\"opacity\":0.2,\"x\":[1,2,3,4,5,6,7,8,9],\"y\":[-1.4894874095916748,-13.621001243591309,-1.0574043989181519,-32.09089279174805,1.0887689590454102,-10.699586868286133,-16.696800231933594,0.692335844039917,-7.190151214599609],\"type\":\"scatter\"},{\"line\":{\"color\":\"black\",\"width\":0.5},\"opacity\":0.2,\"x\":[1,2,3,4,5,6,7,8,9],\"y\":[1.2290502786636353,-4.966879844665527,0.22789475321769714,-12.537834167480469,1.5104564428329468,-3.424410581588745,-4.357182502746582,-2.6673545837402344,-1.4134092330932617],\"type\":\"scatter\"},{\"line\":{\"color\":\"black\",\"width\":0.5},\"opacity\":0.2,\"x\":[1,2,3,4,5,6,7,8,9],\"y\":[3.9176268577575684,1.3344779014587402,1.2923352718353271,15.967998504638672,2.2308311462402344,8.920866012573242,2.429778575897217,11.933869361877441,-3.5722625255584717],\"type\":\"scatter\"},{\"line\":{\"color\":\"black\",\"width\":0.5},\"opacity\":0.2,\"x\":[1,2,3,4,5,6,7,8,9],\"y\":[5.354519844055176,1.462397575378418,0.7517451047897339,21.249515533447266,2.821542501449585,9.076358795166016,2.3416500091552734,16.922168731689453,-1.7085440158843994],\"type\":\"scatter\"},{\"line\":{\"color\":\"black\",\"width\":0.5},\"opacity\":0.2,\"x\":[1,2,3,4,5,6,7,8,9],\"y\":[-5.869768142700195,-7.375890254974365,-3.1803805828094482,-20.838573455810547,-1.1744961738586426,-5.886799335479736,-8.78762435913086,-7.406540870666504,-14.451086044311523],\"type\":\"scatter\"},{\"line\":{\"color\":\"black\",\"width\":0.5},\"opacity\":0.2,\"x\":[1,2,3,4,5,6,7,8,9],\"y\":[8.76906681060791,-10.505019187927246,5.628508567810059,5.724882125854492,1.6749862432479858,5.872665882110596,-5.778496265411377,13.346960067749023,-11.735916137695312],\"type\":\"scatter\"},{\"line\":{\"color\":\"black\",\"width\":0.5},\"opacity\":0.2,\"x\":[1,2,3,4,5,6,7,8,9],\"y\":[4.504854202270508,10.541289329528809,4.115821361541748,23.462928771972656,1.8707995414733887,7.57844352722168,11.078234672546387,8.524554252624512,20.62509536743164],\"type\":\"scatter\"},{\"line\":{\"color\":\"black\",\"width\":0.5},\"opacity\":0.2,\"x\":[1,2,3,4,5,6,7,8,9],\"y\":[-0.8134182691574097,-2.758390188217163,1.9670507907867432,-19.029293060302734,1.4826915264129639,-7.844305992126465,-0.0004100799560546875,-14.77800178527832,8.120168685913086],\"type\":\"scatter\"},{\"line\":{\"color\":\"black\",\"width\":0.5},\"opacity\":0.2,\"x\":[1,2,3,4,5,6,7,8,9],\"y\":[1.8996429443359375,3.236825942993164,-2.225255250930786,4.990915775299072,-0.08747869729995728,2.581834077835083,4.009082794189453,-0.027186870574951172,0.1889360547065735],\"type\":\"scatter\"},{\"line\":{\"color\":\"black\",\"width\":0.5},\"opacity\":0.2,\"x\":[1,2,3,4,5,6,7,8,9],\"y\":[0.8668880462646484,9.45014762878418,-2.4162750244140625,27.30929946899414,6.282942771911621,13.374993324279785,2.829968214035034,26.85810089111328,20.839733123779297],\"type\":\"scatter\"},{\"line\":{\"color\":\"black\",\"width\":0.5},\"opacity\":0.2,\"x\":[1,2,3,4,5,6,7,8,9],\"y\":[-7.949748992919922,-0.7214370369911194,-2.4419827461242676,-24.99500846862793,-1.95481538772583,-12.142613410949707,-7.362942218780518,-19.39080238342285,0.4688495397567749],\"type\":\"scatter\"},{\"line\":{\"color\":\"black\",\"width\":0.5},\"opacity\":0.2,\"x\":[1,2,3,4,5,6,7,8,9],\"y\":[-17.83558464050293,5.200613975524902,-5.122930526733398,-39.84750747680664,-7.759359359741211,-22.766490936279297,5.4134955406188965,-45.73749923706055,17.303316116333008],\"type\":\"scatter\"},{\"line\":{\"color\":\"black\",\"width\":0.5},\"opacity\":0.2,\"x\":[1,2,3,4,5,6,7,8,9],\"y\":[-11.129817962646484,-0.6946625113487244,-4.202130317687988,-21.358354568481445,-4.926739692687988,-8.928888320922852,-2.6691501140594482,-15.499801635742188,-10.340471267700195],\"type\":\"scatter\"},{\"line\":{\"color\":\"black\",\"width\":0.5},\"opacity\":0.2,\"x\":[1,2,3,4,5,6,7,8,9],\"y\":[4.780911922454834,-0.7476685047149658,2.257279396057129,6.832109451293945,-1.0626552104949951,-0.9275604486465454,1.9481515884399414,4.689613342285156,3.749300718307495],\"type\":\"scatter\"},{\"line\":{\"color\":\"black\",\"width\":0.5},\"opacity\":0.2,\"x\":[1,2,3,4,5,6,7,8,9],\"y\":[-8.236247062683105,-10.274471282958984,-3.272571086883545,-32.66135787963867,-2.7434301376342773,-12.037527084350586,-14.930020332336426,-16.338558197021484,-6.576674938201904],\"type\":\"scatter\"},{\"line\":{\"color\":\"black\",\"width\":0.5},\"opacity\":0.2,\"x\":[1,2,3,4,5,6,7,8,9],\"y\":[-14.276288986206055,-2.051745891571045,-3.0116496086120605,-37.79185104370117,-5.0115065574646,-15.87862491607666,-2.191894292831421,-32.32941436767578,-14.058037757873535],\"type\":\"scatter\"},{\"line\":{\"color\":\"black\",\"width\":0.5},\"opacity\":0.2,\"x\":[1,2,3,4,5,6,7,8,9],\"y\":[9.696832656860352,-1.9904028177261353,5.316178321838379,9.060077667236328,2.514735698699951,-0.18949127197265625,-1.3137259483337402,11.427743911743164,-6.056163787841797],\"type\":\"scatter\"},{\"line\":{\"color\":\"black\",\"width\":0.5},\"opacity\":0.2,\"x\":[1,2,3,4,5,6,7,8,9],\"y\":[0.46722960472106934,-8.562342643737793,-1.782858967781067,-16.6751766204834,2.460153579711914,-3.271523952484131,-10.099624633789062,-5.9673614501953125,-24.011722564697266],\"type\":\"scatter\"},{\"line\":{\"color\":\"black\",\"width\":0.5},\"opacity\":0.2,\"x\":[1,2,3,4,5,6,7,8,9],\"y\":[-11.683586120605469,-7.742830753326416,-4.337624549865723,-36.90061950683594,-1.1116043329238892,-10.515050888061523,-10.943426132202148,-20.45468521118164,-16.34476661682129],\"type\":\"scatter\"},{\"line\":{\"color\":\"black\",\"width\":0.5},\"opacity\":0.2,\"x\":[1,2,3,4,5,6,7,8,9],\"y\":[-4.605968475341797,-16.648426055908203,-4.282659530639648,-45.82769775390625,2.5404105186462402,-13.521092414855957,-17.854795455932617,-13.688399314880371,-2.9939451217651367],\"type\":\"scatter\"},{\"line\":{\"color\":\"black\",\"width\":0.5},\"opacity\":0.2,\"x\":[1,2,3,4,5,6,7,8,9],\"y\":[30.808673858642578,3.0186872482299805,20.96707534790039,46.78293228149414,8.602903366088867,14.791837692260742,9.292966842651367,30.09154510498047,10.668560028076172],\"type\":\"scatter\"},{\"line\":{\"color\":\"black\",\"width\":0.5},\"opacity\":0.2,\"x\":[1,2,3,4,5,6,7,8,9],\"y\":[-10.818815231323242,7.28350305557251,-4.568438529968262,-13.527466773986816,-3.9824202060699463,-7.652292251586914,9.288968086242676,-20.434276580810547,22.03532600402832],\"type\":\"scatter\"},{\"line\":{\"color\":\"black\",\"width\":0.5},\"opacity\":0.2,\"x\":[1,2,3,4,5,6,7,8,9],\"y\":[-35.0593147277832,-12.737272262573242,-13.702873229980469,-100.06329345703125,-9.346243858337402,-36.98501968383789,-22.808399200439453,-68.62396240234375,-23.75998306274414],\"type\":\"scatter\"},{\"line\":{\"color\":\"black\",\"width\":0.5},\"opacity\":0.2,\"x\":[1,2,3,4,5,6,7,8,9],\"y\":[23.606157302856445,6.080465793609619,8.881723403930664,64.78143310546875,8.584562301635742,26.05680274963379,13.504337310791016,48.11866760253906,18.14474105834961],\"type\":\"scatter\"},{\"line\":{\"color\":\"black\",\"width\":0.5},\"opacity\":0.2,\"x\":[1,2,3,4,5,6,7,8,9],\"y\":[11.65493392944336,27.76854705810547,8.871017456054688,74.18052673339844,2.679258346557617,25.161775588989258,38.8619384765625,20.76974868774414,45.077232360839844],\"type\":\"scatter\"},{\"line\":{\"color\":\"black\",\"width\":0.5},\"opacity\":0.2,\"x\":[1,2,3,4,5,6,7,8,9],\"y\":[11.020441055297852,-8.582693099975586,4.100010871887207,17.798751831054688,6.0034074783325195,12.821224212646484,-8.734375,30.559192657470703,-21.306581497192383],\"type\":\"scatter\"},{\"line\":{\"color\":\"black\",\"width\":0.5},\"opacity\":0.2,\"x\":[1,2,3,4,5,6,7,8,9],\"y\":[-4.335768222808838,-9.859124183654785,-1.4955109357833862,-33.48299789428711,12.033793449401855,0.8776254653930664,-22.615148544311523,-7.204750061035156,-20.489564895629883],\"type\":\"scatter\"},{\"line\":{\"color\":\"black\",\"width\":0.5},\"opacity\":0.2,\"x\":[1,2,3,4,5,6,7,8,9],\"y\":[6.767663955688477,-15.787064552307129,-0.0030000507831573486,-4.218938827514648,3.478973865509033,2.636350154876709,-17.704723358154297,25.10442352294922,-29.469696044921875],\"type\":\"scatter\"},{\"line\":{\"color\":\"black\",\"width\":0.5},\"opacity\":0.2,\"x\":[1,2,3,4,5,6,7,8,9],\"y\":[-20.257156372070312,-13.466565132141113,-10.294888496398926,-57.119789123535156,-4.874242782592773,-18.149158477783203,-17.049015045166016,-30.938169479370117,-29.112552642822266],\"type\":\"scatter\"},{\"line\":{\"color\":\"black\",\"width\":0.5},\"opacity\":0.2,\"x\":[1,2,3,4,5,6,7,8,9],\"y\":[-15.26485824584961,13.612310409545898,-6.786472320556641,-13.496849060058594,-3.1326189041137695,-6.0048723220825195,14.679729461669922,-29.569534301757812,31.024991989135742],\"type\":\"scatter\"},{\"line\":{\"color\":\"black\",\"width\":0.5},\"opacity\":0.2,\"x\":[1,2,3,4,5,6,7,8,9],\"y\":[-9.004837036132812,-23.86011505126953,2.3401565551757812,-71.48994445800781,-0.9565894603729248,-25.0125675201416,-36.38652038574219,-36.421875,-48.52183532714844],\"type\":\"scatter\"},{\"line\":{\"color\":\"black\",\"width\":0.5},\"opacity\":0.2,\"x\":[1,2,3,4,5,6,7,8,9],\"y\":[0.3695453405380249,5.7369537353515625,-0.7677847146987915,9.57619857788086,-2.891066312789917,1.8127970695495605,3.4005255699157715,2.6582956314086914,3.4498214721679688],\"type\":\"scatter\"},{\"line\":{\"color\":\"black\",\"width\":0.5},\"opacity\":0.2,\"x\":[1,2,3,4,5,6,7,8,9],\"y\":[6.0873894691467285,6.530988693237305,1.1983308792114258,41.34241485595703,6.378127098083496,23.887149810791016,6.017017364501953,29.56969451904297,13.432984352111816],\"type\":\"scatter\"},{\"line\":{\"color\":\"black\",\"width\":0.5},\"opacity\":0.2,\"x\":[1,2,3,4,5,6,7,8,9],\"y\":[24.260358810424805,0.9498589038848877,17.1134090423584,39.688926696777344,7.64096212387085,17.703529357910156,-2.6234917640686035,30.07439422607422,10.230905532836914],\"type\":\"scatter\"},{\"line\":{\"color\":\"black\",\"width\":0.5},\"opacity\":0.2,\"x\":[1,2,3,4,5,6,7,8,9],\"y\":[1.9694823026657104,0.4010303020477295,0.553100049495697,8.141146659851074,0.5763547420501709,2.841019630432129,1.0417907238006592,7.156190872192383,-0.6040181517601013],\"type\":\"scatter\"},{\"line\":{\"color\":\"black\",\"width\":0.5},\"opacity\":0.2,\"x\":[1,2,3,4,5,6,7,8,9],\"y\":[-4.916301727294922,-4.339175224304199,-0.8738856315612793,-33.65587615966797,-3.99941086769104,-14.492586135864258,-1.783888816833496,-25.694644927978516,9.072624206542969],\"type\":\"scatter\"},{\"line\":{\"color\":\"black\",\"width\":0.5},\"opacity\":0.2,\"x\":[1,2,3,4,5,6,7,8,9],\"y\":[0.05475413799285889,-10.147726058959961,-2.0467469692230225,-14.127862930297852,-0.9254027605056763,-5.260424613952637,-11.887432098388672,2.8539505004882812,-26.85114860534668],\"type\":\"scatter\"},{\"line\":{\"color\":\"black\",\"width\":0.5},\"opacity\":0.2,\"x\":[1,2,3,4,5,6,7,8,9],\"y\":[-45.66312789916992,-38.55133819580078,-19.707839965820312,-149.52162170410156,-6.337896347045898,-44.863155364990234,-50.30577087402344,-70.90800476074219,-50.73390197753906],\"type\":\"scatter\"},{\"line\":{\"color\":\"black\",\"width\":0.5},\"opacity\":0.2,\"x\":[1,2,3,4,5,6,7,8,9],\"y\":[-8.812256813049316,-1.192238450050354,-3.163670539855957,-23.233863830566406,-4.717464923858643,-12.066816329956055,-2.853013277053833,-21.454261779785156,-10.723780632019043],\"type\":\"scatter\"},{\"line\":{\"color\":\"black\",\"width\":0.5},\"opacity\":0.2,\"x\":[1,2,3,4,5,6,7,8,9],\"y\":[-0.16902455687522888,-1.1739240884780884,-0.4930764436721802,-7.034825801849365,3.190835952758789,1.4485993385314941,-2.2975375652313232,0.9132519960403442,8.282608032226562],\"type\":\"scatter\"},{\"line\":{\"color\":\"black\",\"width\":0.5},\"opacity\":0.2,\"x\":[1,2,3,4,5,6,7,8,9],\"y\":[-2.7304415702819824,1.6654052734375,-4.465326309204102,11.92572021484375,-0.5215641856193542,3.000338315963745,-1.1095504760742188,0.5715093612670898,-3.530972480773926],\"type\":\"scatter\"},{\"line\":{\"color\":\"black\",\"width\":0.5},\"opacity\":0.2,\"x\":[1,2,3,4,5,6,7,8,9],\"y\":[0.8911049365997314,-21.136394500732422,1.2459062337875366,-38.06338119506836,-1.1047550439834595,-14.914346694946289,-24.65195083618164,-9.334266662597656,-55.056854248046875],\"type\":\"scatter\"},{\"line\":{\"color\":\"black\",\"width\":0.5},\"opacity\":0.2,\"x\":[1,2,3,4,5,6,7,8,9],\"y\":[-0.09910324215888977,-1.7757046222686768,0.4194088280200958,-2.412353038787842,-0.13007575273513794,-0.8923264741897583,-1.2695624828338623,-2.002558469772339,-3.4343719482421875],\"type\":\"scatter\"},{\"line\":{\"color\":\"black\",\"width\":0.5},\"opacity\":0.2,\"x\":[1,2,3,4,5,6,7,8,9],\"y\":[3.544581174850464,0.9516798257827759,0.33745265007019043,-5.076072692871094,-3.7169158458709717,-6.321427822113037,3.8459315299987793,-10.795331954956055,7.201054573059082],\"type\":\"scatter\"},{\"line\":{\"color\":\"black\",\"width\":0.5},\"opacity\":0.2,\"x\":[1,2,3,4,5,6,7,8,9],\"y\":[6.903499603271484,25.51074981689453,4.465532302856445,40.02278137207031,0.7824981212615967,9.541526794433594,34.84666442871094,-3.4994211196899414,58.87390899658203],\"type\":\"scatter\"},{\"line\":{\"color\":\"black\",\"width\":0.5},\"opacity\":0.2,\"x\":[1,2,3,4,5,6,7,8,9],\"y\":[-5.1507062911987305,-0.9020699262619019,-8.260686874389648,-18.722002029418945,-4.755246162414551,-8.84106159210205,8.790313720703125,-16.164209365844727,-8.326736450195312],\"type\":\"scatter\"},{\"line\":{\"color\":\"black\",\"width\":0.5},\"opacity\":0.2,\"x\":[1,2,3,4,5,6,7,8,9],\"y\":[-5.122019290924072,1.4288005828857422,-1.2997926473617554,-9.562984466552734,4.290692329406738,3.8932957649230957,0.5950117111206055,-5.29433536529541,3.7142317295074463],\"type\":\"scatter\"},{\"line\":{\"color\":\"black\",\"width\":0.5},\"opacity\":0.2,\"x\":[1,2,3,4,5,6,7,8,9],\"y\":[2.8911876678466797,12.600229263305664,3.026332378387451,27.101238250732422,3.7363028526306152,12.097869873046875,19.968727111816406,13.862195014953613,49.27931594848633],\"type\":\"scatter\"},{\"line\":{\"color\":\"black\",\"width\":0.5},\"opacity\":0.2,\"x\":[1,2,3,4,5,6,7,8,9],\"y\":[-7.324513912200928,2.5068001747131348,-4.590671062469482,-5.290957450866699,-2.128382444381714,-1.368507742881775,2.995744466781616,-6.194058418273926,1.7304463386535645],\"type\":\"scatter\"},{\"line\":{\"color\":\"black\",\"width\":0.5},\"opacity\":0.2,\"x\":[1,2,3,4,5,6,7,8,9],\"y\":[-10.890015602111816,-4.434724807739258,-4.53562068939209,-27.77615737915039,-3.571328639984131,-10.315290451049805,-4.107371807098389,-13.312726974487305,-2.1545305252075195],\"type\":\"scatter\"},{\"line\":{\"color\":\"black\",\"width\":0.5},\"opacity\":0.2,\"x\":[1,2,3,4,5,6,7,8,9],\"y\":[0.39140868186950684,3.0943257808685303,-0.31085288524627686,10.540935516357422,-0.7512956857681274,3.130687713623047,4.281167030334473,3.619946002960205,1.4659101963043213],\"type\":\"scatter\"},{\"line\":{\"color\":\"black\",\"width\":0.5},\"opacity\":0.2,\"x\":[1,2,3,4,5,6,7,8,9],\"y\":[5.958998680114746,0.385663777589798,1.2227542400360107,20.19727325439453,3.110607385635376,9.946248054504395,-3.2677855491638184,11.756880760192871,-10.96137809753418],\"type\":\"scatter\"},{\"line\":{\"color\":\"black\",\"width\":0.5},\"opacity\":0.2,\"x\":[1,2,3,4,5,6,7,8,9],\"y\":[12.206507682800293,18.919466018676758,5.3415985107421875,53.36317825317383,1.6574786901474,15.997008323669434,27.11040496826172,21.376338958740234,45.410400390625],\"type\":\"scatter\"},{\"line\":{\"color\":\"black\",\"width\":0.5},\"opacity\":0.2,\"x\":[1,2,3,4,5,6,7,8,9],\"y\":[3.533871650695801,3.8683605194091797,3.1049909591674805,14.980423927307129,1.9600695371627808,7.871118545532227,4.114272117614746,9.860456466674805,8.797586441040039],\"type\":\"scatter\"},{\"line\":{\"color\":\"black\",\"width\":0.5},\"opacity\":0.2,\"x\":[1,2,3,4,5,6,7,8,9],\"y\":[-6.658161163330078,3.5643889904022217,-1.3231782913208008,-6.696084022521973,-7.762372016906738,-8.18846607208252,11.024808883666992,-12.318513870239258,4.304718017578125],\"type\":\"scatter\"},{\"line\":{\"color\":\"black\",\"width\":0.5},\"opacity\":0.2,\"x\":[1,2,3,4,5,6,7,8,9],\"y\":[-6.9788312911987305,-3.878659725189209,-2.4187028408050537,-23.1662540435791,0.6522137522697449,-5.9800004959106445,-5.958727836608887,-11.196184158325195,-3.7602853775024414],\"type\":\"scatter\"},{\"line\":{\"color\":\"black\",\"width\":0.5},\"opacity\":0.2,\"x\":[1,2,3,4,5,6,7,8,9],\"y\":[0.7461481094360352,21.848791122436523,2.9875481128692627,24.785999298095703,0.7266800403594971,5.570977687835693,22.15317153930664,6.43720817565918,50.74220275878906],\"type\":\"scatter\"},{\"line\":{\"color\":\"black\",\"width\":0.5},\"opacity\":0.2,\"x\":[1,2,3,4,5,6,7,8,9],\"y\":[23.962690353393555,10.828634262084961,9.224468231201172,88.62347412109375,7.042247772216797,35.581993103027344,15.891456604003906,64.39124298095703,23.33843231201172],\"type\":\"scatter\"},{\"line\":{\"color\":\"black\",\"width\":0.5},\"opacity\":0.2,\"x\":[1,2,3,4,5,6,7,8,9],\"y\":[-15.237992286682129,8.14869499206543,-11.183176040649414,-16.457944869995117,-7.541466236114502,-10.612919807434082,6.6489386558532715,-31.4329891204834,-1.768803596496582],\"type\":\"scatter\"},{\"line\":{\"color\":\"black\",\"width\":0.5},\"opacity\":0.2,\"x\":[1,2,3,4,5,6,7,8,9],\"y\":[-3.159846305847168,-0.873578667640686,-2.144023895263672,-8.391919136047363,-2.8445091247558594,-3.180114269256592,0.9876047372817993,-10.93287467956543,-4.3831377029418945],\"type\":\"scatter\"},{\"line\":{\"color\":\"black\",\"width\":0.5},\"opacity\":0.2,\"x\":[1,2,3,4,5,6,7,8,9],\"y\":[0.40650081634521484,4.755084037780762,4.149518013000488,10.241920471191406,0.07026231288909912,-0.43485450744628906,-7.363839149475098,4.494179725646973,9.420029640197754],\"type\":\"scatter\"},{\"line\":{\"color\":\"black\",\"width\":0.5},\"opacity\":0.2,\"x\":[1,2,3,4,5,6,7,8,9],\"y\":[-26.075912475585938,6.762898921966553,-5.082126617431641,-71.82791137695312,-3.722247838973999,-29.00767707824707,-0.4802980422973633,-67.30169677734375,16.794504165649414],\"type\":\"scatter\"},{\"line\":{\"color\":\"black\",\"width\":0.5},\"opacity\":0.2,\"x\":[1,2,3,4,5,6,7,8,9],\"y\":[0.6874744892120361,-3.647620677947998,1.55251944065094,-10.029306411743164,-0.37213134765625,-5.091045379638672,-5.288415908813477,-2.9312872886657715,-3.973529577255249],\"type\":\"scatter\"},{\"line\":{\"color\":\"black\",\"width\":0.5},\"opacity\":0.2,\"x\":[1,2,3,4,5,6,7,8,9],\"y\":[1.0973610877990723,6.798890590667725,-4.6872758865356445,38.58089065551758,0.5339916944503784,15.042274475097656,8.612242698669434,25.549362182617188,-13.166869163513184],\"type\":\"scatter\"},{\"line\":{\"color\":\"black\",\"width\":0.5},\"opacity\":0.2,\"x\":[1,2,3,4,5,6,7,8,9],\"y\":[7.7750444412231445,-7.482325553894043,2.7508950233459473,-5.025629043579102,-1.0584170818328857,-4.268590927124023,-2.038686752319336,7.475828170776367,-9.802022933959961],\"type\":\"scatter\"},{\"line\":{\"color\":\"black\",\"width\":0.5},\"opacity\":0.2,\"x\":[1,2,3,4,5,6,7,8,9],\"y\":[-12.934865951538086,-12.46049976348877,-5.362691402435303,-51.029823303222656,-2.2003607749938965,-17.032302856445312,-17.558364868164062,-27.22097396850586,-27.09380340576172],\"type\":\"scatter\"},{\"line\":{\"color\":\"black\",\"width\":0.5},\"opacity\":0.2,\"x\":[1,2,3,4,5,6,7,8,9],\"y\":[10.829141616821289,5.8242597579956055,5.940851211547852,45.48650360107422,1.8529229164123535,14.422142028808594,9.464056968688965,28.024795532226562,6.689067363739014],\"type\":\"scatter\"},{\"line\":{\"color\":\"black\",\"width\":0.5},\"opacity\":0.2,\"x\":[1,2,3,4,5,6,7,8,9],\"y\":[-0.29892778396606445,-6.639614105224609,-2.3198530673980713,-6.626154899597168,-1.0071980953216553,-1.7030444145202637,-6.408675193786621,4.797075271606445,-18.769939422607422],\"type\":\"scatter\"},{\"line\":{\"color\":\"black\",\"width\":0.5},\"opacity\":0.2,\"x\":[1,2,3,4,5,6,7,8,9],\"y\":[-3.006913900375366,-5.23808479309082,-0.6556681394577026,-22.30508041381836,-5.433205604553223,-15.007566452026367,-4.033378601074219,-15.382452011108398,-12.546745300292969],\"type\":\"scatter\"},{\"line\":{\"color\":\"black\",\"width\":0.5},\"opacity\":0.2,\"x\":[1,2,3,4,5,6,7,8,9],\"y\":[8.968667030334473,13.750181198120117,-1.1759233474731445,62.92254638671875,3.336329460144043,26.200977325439453,17.521804809570312,37.78219985961914,27.52328109741211],\"type\":\"scatter\"},{\"line\":{\"color\":\"black\",\"width\":0.5},\"opacity\":0.2,\"x\":[1,2,3,4,5,6,7,8,9],\"y\":[11.875432968139648,-16.361717224121094,8.42800521850586,-25.278854370117188,5.930561065673828,-7.837856769561768,-16.75341796875,-3.5048933029174805,-23.291479110717773],\"type\":\"scatter\"},{\"line\":{\"color\":\"black\",\"width\":0.5},\"opacity\":0.2,\"x\":[1,2,3,4,5,6,7,8,9],\"y\":[-3.1507174968719482,1.70769464969635,0.5314352512359619,0.7462046146392822,-1.6604927778244019,-0.6565933227539062,7.518767356872559,-5.101284980773926,10.689638137817383],\"type\":\"scatter\"},{\"line\":{\"color\":\"black\",\"width\":0.5},\"opacity\":0.2,\"x\":[1,2,3,4,5,6,7,8,9],\"y\":[10.559257507324219,8.585566520690918,4.09390115737915,30.82951545715332,5.124543190002441,12.706094741821289,13.905084609985352,18.231197357177734,23.484806060791016],\"type\":\"scatter\"},{\"line\":{\"color\":\"black\",\"width\":0.5},\"opacity\":0.2,\"x\":[1,2,3,4,5,6,7,8,9],\"y\":[3.99493408203125,-10.842039108276367,1.8058490753173828,-3.7934627532958984,1.7260661125183105,3.025883197784424,-9.178606986999512,5.525392532348633,-9.729942321777344],\"type\":\"scatter\"},{\"line\":{\"color\":\"black\",\"width\":0.5},\"opacity\":0.2,\"x\":[1,2,3,4,5,6,7,8,9],\"y\":[-26.075063705444336,2.8874497413635254,-13.595905303955078,-37.71311950683594,-9.594990730285645,-11.207372665405273,1.6987276077270508,-26.00026512145996,30.318599700927734],\"type\":\"scatter\"},{\"line\":{\"color\":\"black\",\"width\":0.5},\"opacity\":0.2,\"x\":[1,2,3,4,5,6,7,8,9],\"y\":[9.252578735351562,0.8519508838653564,4.542727470397949,35.683841705322266,-0.05929362773895264,7.557250022888184,6.409970283508301,27.214441299438477,-3.908961296081543],\"type\":\"scatter\"},{\"line\":{\"color\":\"black\",\"width\":0.5},\"opacity\":0.2,\"x\":[1,2,3,4,5,6,7,8,9],\"y\":[-29.685562133789062,-16.775554656982422,-13.60873031616211,-85.84886932373047,-10.900506973266602,-35.21775436401367,-24.69825553894043,-52.54985046386719,-26.254587173461914],\"type\":\"scatter\"},{\"line\":{\"color\":\"black\",\"width\":0.5},\"opacity\":0.2,\"x\":[1,2,3,4,5,6,7,8,9],\"y\":[20.20703125,-17.404333114624023,9.838972091674805,20.668670654296875,8.910326957702637,12.894643783569336,-11.03363037109375,35.720584869384766,-27.442543029785156],\"type\":\"scatter\"},{\"line\":{\"color\":\"black\",\"width\":0.5},\"opacity\":0.2,\"x\":[1,2,3,4,5,6,7,8,9],\"y\":[-27.20100975036621,6.0313639640808105,-12.981861114501953,-41.45444107055664,-11.404475212097168,-17.497711181640625,14.228939056396484,-44.87995147705078,20.02682113647461],\"type\":\"scatter\"},{\"line\":{\"color\":\"black\",\"width\":0.5},\"opacity\":0.2,\"x\":[1,2,3,4,5,6,7,8,9],\"y\":[-1.8512308597564697,-6.491381645202637,-1.2100977897644043,-2.463131904602051,1.8989455699920654,4.861039638519287,-10.185023307800293,8.803323745727539,-7.865797519683838],\"type\":\"scatter\"},{\"line\":{\"color\":\"black\",\"width\":0.5},\"opacity\":0.2,\"x\":[1,2,3,4,5,6,7,8,9],\"y\":[-13.182836532592773,-0.8496835231781006,-6.3714447021484375,-22.076251983642578,-2.7231791019439697,-8.179351806640625,-8.407520294189453,-12.57012939453125,0.029777050018310547],\"type\":\"scatter\"},{\"line\":{\"color\":\"black\",\"width\":0.5},\"opacity\":0.2,\"x\":[1,2,3,4,5,6,7,8,9],\"y\":[-8.082381248474121,-11.796381950378418,-4.5027995109558105,-15.156073570251465,-1.382278561592102,-7.721271991729736,-13.432073593139648,11.08721923828125,-32.2723503112793],\"type\":\"scatter\"},{\"line\":{\"color\":\"black\",\"width\":0.5},\"opacity\":0.2,\"x\":[1,2,3,4,5,6,7,8,9],\"y\":[0.8853089809417725,1.16805100440979,0.30970799922943115,3.5611584186553955,0.5104776620864868,1.603365182876587,1.0345619916915894,1.8262747526168823,2.3543784618377686],\"type\":\"scatter\"},{\"line\":{\"color\":\"black\",\"width\":0.5},\"opacity\":0.2,\"x\":[1,2,3,4,5,6,7,8,9],\"y\":[0.9805914759635925,-1.1072449684143066,-0.11381995677947998,4.7052459716796875,1.1190663576126099,3.3280110359191895,-3.8406269550323486,5.620852470397949,-5.241430759429932],\"type\":\"scatter\"},{\"line\":{\"color\":\"black\",\"width\":0.5},\"opacity\":0.2,\"x\":[1,2,3,4,5,6,7,8,9],\"y\":[3.6715986728668213,-2.0208611488342285,3.010512351989746,6.323574066162109,1.1409776210784912,3.503366708755493,0.8790673017501831,9.519604682922363,-3.2352378368377686],\"type\":\"scatter\"},{\"line\":{\"color\":\"black\",\"width\":0.5},\"opacity\":0.2,\"x\":[1,2,3,4,5,6,7,8,9],\"y\":[14.745400428771973,6.7156877517700195,6.191586494445801,40.680599212646484,-0.724396824836731,9.370206832885742,15.741898536682129,20.45901107788086,-4.873517990112305],\"type\":\"scatter\"},{\"line\":{\"color\":\"black\",\"width\":0.5},\"opacity\":0.2,\"x\":[1,2,3,4,5,6,7,8,9],\"y\":[7.009255409240723,-1.3538419008255005,0.09143131971359253,8.331624984741211,-2.885284423828125,-3.144503116607666,1.365494966506958,12.162409782409668,1.850625991821289],\"type\":\"scatter\"},{\"line\":{\"color\":\"black\",\"width\":0.5},\"opacity\":0.2,\"x\":[1,2,3,4,5,6,7,8,9],\"y\":[-6.727731704711914,-0.17931616306304932,-0.9786369204521179,-11.746625900268555,-1.0829503536224365,-3.6148481369018555,-1.6054444313049316,-5.123729705810547,-2.3298707008361816],\"type\":\"scatter\"},{\"line\":{\"color\":\"black\",\"width\":0.5},\"opacity\":0.2,\"x\":[1,2,3,4,5,6,7,8,9],\"y\":[-3.586434841156006,-1.5683650970458984,-1.1875838041305542,-23.852054595947266,-4.338836193084717,-14.724063873291016,-7.180615425109863,-20.13153648376465,-3.0077996253967285],\"type\":\"scatter\"},{\"line\":{\"color\":\"black\",\"width\":0.5},\"opacity\":0.2,\"x\":[1,2,3,4,5,6,7,8,9],\"y\":[-4.027165412902832,12.07178783416748,-7.018452167510986,13.007550239562988,-1.9513909816741943,3.7130043506622314,16.569034576416016,-6.548047065734863,37.7010612487793],\"type\":\"scatter\"},{\"line\":{\"color\":\"black\",\"width\":0.5},\"opacity\":0.2,\"x\":[1,2,3,4,5,6,7,8,9],\"y\":[-7.724491119384766,-7.8359270095825195,0.5173114538192749,-36.4101676940918,-1.5910991430282593,-14.475544929504395,-11.628016471862793,-19.727447509765625,-13.614142417907715],\"type\":\"scatter\"},{\"line\":{\"color\":\"black\",\"width\":0.5},\"opacity\":0.2,\"x\":[1,2,3,4,5,6,7,8,9],\"y\":[-12.46397876739502,-4.13480281829834,-7.423110008239746,-25.345298767089844,-2.782423496246338,-7.836640357971191,-9.941768646240234,-18.035837173461914,-16.294559478759766],\"type\":\"scatter\"},{\"line\":{\"color\":\"black\",\"width\":0.5},\"opacity\":0.2,\"x\":[1,2,3,4,5,6,7,8,9],\"y\":[-12.989511489868164,20.383590698242188,-4.453982830047607,-2.3243026733398438,-9.363987922668457,-10.519794464111328,19.49506378173828,-34.09201431274414,26.589868545532227],\"type\":\"scatter\"},{\"line\":{\"color\":\"black\",\"width\":0.5},\"opacity\":0.2,\"x\":[1,2,3,4,5,6,7,8,9],\"y\":[-11.125078201293945,6.07772970199585,-4.012139320373535,-23.615705490112305,-6.46683931350708,-15.353885650634766,7.719257354736328,-32.0505256652832,-13.846353530883789],\"type\":\"scatter\"},{\"line\":{\"color\":\"black\",\"width\":0.5},\"opacity\":0.2,\"x\":[1,2,3,4,5,6,7,8,9],\"y\":[-10.748575210571289,-5.932282447814941,-5.193170070648193,-32.29706573486328,-1.3864572048187256,-9.972900390625,-8.147135734558105,-14.316160202026367,-9.785076141357422],\"type\":\"scatter\"},{\"line\":{\"color\":\"black\",\"width\":0.5},\"opacity\":0.2,\"x\":[1,2,3,4,5,6,7,8,9],\"y\":[1.4433488845825195,-6.759397506713867,4.523858070373535,-29.538745880126953,2.6916215419769287,-11.103293418884277,-5.368196487426758,-18.27357292175293,7.299071311950684],\"type\":\"scatter\"},{\"line\":{\"color\":\"black\",\"width\":0.5},\"opacity\":0.2,\"x\":[1,2,3,4,5,6,7,8,9],\"y\":[-13.449695587158203,-24.225086212158203,-8.1837158203125,-79.44195556640625,-2.4242801666259766,-28.395496368408203,-28.343711853027344,-32.983280181884766,-35.87055969238281],\"type\":\"scatter\"},{\"line\":{\"color\":\"black\",\"width\":0.5},\"opacity\":0.2,\"x\":[1,2,3,4,5,6,7,8,9],\"y\":[21.275634765625,9.845892906188965,9.9149751663208,46.63273239135742,3.2939295768737793,10.940573692321777,16.789695739746094,26.393524169921875,35.208274841308594],\"type\":\"scatter\"},{\"line\":{\"color\":\"black\",\"width\":0.5},\"opacity\":0.2,\"x\":[1,2,3,4,5,6,7,8,9],\"y\":[-1.7663605213165283,5.313894271850586,-1.3581733703613281,3.2836291790008545,-1.6741414070129395,-0.26546138525009155,8.122926712036133,-4.817970275878906,10.09510612487793],\"type\":\"scatter\"},{\"line\":{\"color\":\"black\",\"width\":0.5},\"opacity\":0.2,\"x\":[1,2,3,4,5,6,7,8,9],\"y\":[1.9908194541931152,-1.5290296077728271,0.11592298746109009,4.467230796813965,0.7624433636665344,1.6093825101852417,-0.14039814472198486,-0.8827376365661621,2.307920455932617],\"type\":\"scatter\"},{\"line\":{\"color\":\"black\",\"width\":0.5},\"opacity\":0.2,\"x\":[1,2,3,4,5,6,7,8,9],\"y\":[-0.6416982412338257,0.8231010437011719,2.8828485012054443,-10.785530090332031,0.470726877450943,-4.4904279708862305,-2.1653871536254883,-10.154327392578125,1.816664457321167],\"type\":\"scatter\"},{\"line\":{\"color\":\"black\",\"width\":0.5},\"opacity\":0.2,\"x\":[1,2,3,4,5,6,7,8,9],\"y\":[-10.308329582214355,1.8333866596221924,-6.640551567077637,-13.898489952087402,-2.718249797821045,-3.930973768234253,5.768651962280273,-14.56992244720459,11.483227729797363],\"type\":\"scatter\"}],                        {\"template\":{\"data\":{\"barpolar\":[{\"marker\":{\"line\":{\"color\":\"white\",\"width\":0.5},\"pattern\":{\"fillmode\":\"overlay\",\"size\":10,\"solidity\":0.2}},\"type\":\"barpolar\"}],\"bar\":[{\"error_x\":{\"color\":\"#2a3f5f\"},\"error_y\":{\"color\":\"#2a3f5f\"},\"marker\":{\"line\":{\"color\":\"white\",\"width\":0.5},\"pattern\":{\"fillmode\":\"overlay\",\"size\":10,\"solidity\":0.2}},\"type\":\"bar\"}],\"carpet\":[{\"aaxis\":{\"endlinecolor\":\"#2a3f5f\",\"gridcolor\":\"#C8D4E3\",\"linecolor\":\"#C8D4E3\",\"minorgridcolor\":\"#C8D4E3\",\"startlinecolor\":\"#2a3f5f\"},\"baxis\":{\"endlinecolor\":\"#2a3f5f\",\"gridcolor\":\"#C8D4E3\",\"linecolor\":\"#C8D4E3\",\"minorgridcolor\":\"#C8D4E3\",\"startlinecolor\":\"#2a3f5f\"},\"type\":\"carpet\"}],\"choropleth\":[{\"colorbar\":{\"outlinewidth\":0,\"ticks\":\"\"},\"type\":\"choropleth\"}],\"contourcarpet\":[{\"colorbar\":{\"outlinewidth\":0,\"ticks\":\"\"},\"type\":\"contourcarpet\"}],\"contour\":[{\"colorbar\":{\"outlinewidth\":0,\"ticks\":\"\"},\"colorscale\":[[0.0,\"#0d0887\"],[0.1111111111111111,\"#46039f\"],[0.2222222222222222,\"#7201a8\"],[0.3333333333333333,\"#9c179e\"],[0.4444444444444444,\"#bd3786\"],[0.5555555555555556,\"#d8576b\"],[0.6666666666666666,\"#ed7953\"],[0.7777777777777778,\"#fb9f3a\"],[0.8888888888888888,\"#fdca26\"],[1.0,\"#f0f921\"]],\"type\":\"contour\"}],\"heatmapgl\":[{\"colorbar\":{\"outlinewidth\":0,\"ticks\":\"\"},\"colorscale\":[[0.0,\"#0d0887\"],[0.1111111111111111,\"#46039f\"],[0.2222222222222222,\"#7201a8\"],[0.3333333333333333,\"#9c179e\"],[0.4444444444444444,\"#bd3786\"],[0.5555555555555556,\"#d8576b\"],[0.6666666666666666,\"#ed7953\"],[0.7777777777777778,\"#fb9f3a\"],[0.8888888888888888,\"#fdca26\"],[1.0,\"#f0f921\"]],\"type\":\"heatmapgl\"}],\"heatmap\":[{\"colorbar\":{\"outlinewidth\":0,\"ticks\":\"\"},\"colorscale\":[[0.0,\"#0d0887\"],[0.1111111111111111,\"#46039f\"],[0.2222222222222222,\"#7201a8\"],[0.3333333333333333,\"#9c179e\"],[0.4444444444444444,\"#bd3786\"],[0.5555555555555556,\"#d8576b\"],[0.6666666666666666,\"#ed7953\"],[0.7777777777777778,\"#fb9f3a\"],[0.8888888888888888,\"#fdca26\"],[1.0,\"#f0f921\"]],\"type\":\"heatmap\"}],\"histogram2dcontour\":[{\"colorbar\":{\"outlinewidth\":0,\"ticks\":\"\"},\"colorscale\":[[0.0,\"#0d0887\"],[0.1111111111111111,\"#46039f\"],[0.2222222222222222,\"#7201a8\"],[0.3333333333333333,\"#9c179e\"],[0.4444444444444444,\"#bd3786\"],[0.5555555555555556,\"#d8576b\"],[0.6666666666666666,\"#ed7953\"],[0.7777777777777778,\"#fb9f3a\"],[0.8888888888888888,\"#fdca26\"],[1.0,\"#f0f921\"]],\"type\":\"histogram2dcontour\"}],\"histogram2d\":[{\"colorbar\":{\"outlinewidth\":0,\"ticks\":\"\"},\"colorscale\":[[0.0,\"#0d0887\"],[0.1111111111111111,\"#46039f\"],[0.2222222222222222,\"#7201a8\"],[0.3333333333333333,\"#9c179e\"],[0.4444444444444444,\"#bd3786\"],[0.5555555555555556,\"#d8576b\"],[0.6666666666666666,\"#ed7953\"],[0.7777777777777778,\"#fb9f3a\"],[0.8888888888888888,\"#fdca26\"],[1.0,\"#f0f921\"]],\"type\":\"histogram2d\"}],\"histogram\":[{\"marker\":{\"pattern\":{\"fillmode\":\"overlay\",\"size\":10,\"solidity\":0.2}},\"type\":\"histogram\"}],\"mesh3d\":[{\"colorbar\":{\"outlinewidth\":0,\"ticks\":\"\"},\"type\":\"mesh3d\"}],\"parcoords\":[{\"line\":{\"colorbar\":{\"outlinewidth\":0,\"ticks\":\"\"}},\"type\":\"parcoords\"}],\"pie\":[{\"automargin\":true,\"type\":\"pie\"}],\"scatter3d\":[{\"line\":{\"colorbar\":{\"outlinewidth\":0,\"ticks\":\"\"}},\"marker\":{\"colorbar\":{\"outlinewidth\":0,\"ticks\":\"\"}},\"type\":\"scatter3d\"}],\"scattercarpet\":[{\"marker\":{\"colorbar\":{\"outlinewidth\":0,\"ticks\":\"\"}},\"type\":\"scattercarpet\"}],\"scattergeo\":[{\"marker\":{\"colorbar\":{\"outlinewidth\":0,\"ticks\":\"\"}},\"type\":\"scattergeo\"}],\"scattergl\":[{\"marker\":{\"colorbar\":{\"outlinewidth\":0,\"ticks\":\"\"}},\"type\":\"scattergl\"}],\"scattermapbox\":[{\"marker\":{\"colorbar\":{\"outlinewidth\":0,\"ticks\":\"\"}},\"type\":\"scattermapbox\"}],\"scatterpolargl\":[{\"marker\":{\"colorbar\":{\"outlinewidth\":0,\"ticks\":\"\"}},\"type\":\"scatterpolargl\"}],\"scatterpolar\":[{\"marker\":{\"colorbar\":{\"outlinewidth\":0,\"ticks\":\"\"}},\"type\":\"scatterpolar\"}],\"scatter\":[{\"fillpattern\":{\"fillmode\":\"overlay\",\"size\":10,\"solidity\":0.2},\"type\":\"scatter\"}],\"scatterternary\":[{\"marker\":{\"colorbar\":{\"outlinewidth\":0,\"ticks\":\"\"}},\"type\":\"scatterternary\"}],\"surface\":[{\"colorbar\":{\"outlinewidth\":0,\"ticks\":\"\"},\"colorscale\":[[0.0,\"#0d0887\"],[0.1111111111111111,\"#46039f\"],[0.2222222222222222,\"#7201a8\"],[0.3333333333333333,\"#9c179e\"],[0.4444444444444444,\"#bd3786\"],[0.5555555555555556,\"#d8576b\"],[0.6666666666666666,\"#ed7953\"],[0.7777777777777778,\"#fb9f3a\"],[0.8888888888888888,\"#fdca26\"],[1.0,\"#f0f921\"]],\"type\":\"surface\"}],\"table\":[{\"cells\":{\"fill\":{\"color\":\"#EBF0F8\"},\"line\":{\"color\":\"white\"}},\"header\":{\"fill\":{\"color\":\"#C8D4E3\"},\"line\":{\"color\":\"white\"}},\"type\":\"table\"}]},\"layout\":{\"annotationdefaults\":{\"arrowcolor\":\"#2a3f5f\",\"arrowhead\":0,\"arrowwidth\":1},\"autotypenumbers\":\"strict\",\"coloraxis\":{\"colorbar\":{\"outlinewidth\":0,\"ticks\":\"\"}},\"colorscale\":{\"diverging\":[[0,\"#8e0152\"],[0.1,\"#c51b7d\"],[0.2,\"#de77ae\"],[0.3,\"#f1b6da\"],[0.4,\"#fde0ef\"],[0.5,\"#f7f7f7\"],[0.6,\"#e6f5d0\"],[0.7,\"#b8e186\"],[0.8,\"#7fbc41\"],[0.9,\"#4d9221\"],[1,\"#276419\"]],\"sequential\":[[0.0,\"#0d0887\"],[0.1111111111111111,\"#46039f\"],[0.2222222222222222,\"#7201a8\"],[0.3333333333333333,\"#9c179e\"],[0.4444444444444444,\"#bd3786\"],[0.5555555555555556,\"#d8576b\"],[0.6666666666666666,\"#ed7953\"],[0.7777777777777778,\"#fb9f3a\"],[0.8888888888888888,\"#fdca26\"],[1.0,\"#f0f921\"]],\"sequentialminus\":[[0.0,\"#0d0887\"],[0.1111111111111111,\"#46039f\"],[0.2222222222222222,\"#7201a8\"],[0.3333333333333333,\"#9c179e\"],[0.4444444444444444,\"#bd3786\"],[0.5555555555555556,\"#d8576b\"],[0.6666666666666666,\"#ed7953\"],[0.7777777777777778,\"#fb9f3a\"],[0.8888888888888888,\"#fdca26\"],[1.0,\"#f0f921\"]]},\"colorway\":[\"#636efa\",\"#EF553B\",\"#00cc96\",\"#ab63fa\",\"#FFA15A\",\"#19d3f3\",\"#FF6692\",\"#B6E880\",\"#FF97FF\",\"#FECB52\"],\"font\":{\"color\":\"#2a3f5f\"},\"geo\":{\"bgcolor\":\"white\",\"lakecolor\":\"white\",\"landcolor\":\"white\",\"showlakes\":true,\"showland\":true,\"subunitcolor\":\"#C8D4E3\"},\"hoverlabel\":{\"align\":\"left\"},\"hovermode\":\"closest\",\"mapbox\":{\"style\":\"light\"},\"paper_bgcolor\":\"white\",\"plot_bgcolor\":\"white\",\"polar\":{\"angularaxis\":{\"gridcolor\":\"#EBF0F8\",\"linecolor\":\"#EBF0F8\",\"ticks\":\"\"},\"bgcolor\":\"white\",\"radialaxis\":{\"gridcolor\":\"#EBF0F8\",\"linecolor\":\"#EBF0F8\",\"ticks\":\"\"}},\"scene\":{\"xaxis\":{\"backgroundcolor\":\"white\",\"gridcolor\":\"#DFE8F3\",\"gridwidth\":2,\"linecolor\":\"#EBF0F8\",\"showbackground\":true,\"ticks\":\"\",\"zerolinecolor\":\"#EBF0F8\"},\"yaxis\":{\"backgroundcolor\":\"white\",\"gridcolor\":\"#DFE8F3\",\"gridwidth\":2,\"linecolor\":\"#EBF0F8\",\"showbackground\":true,\"ticks\":\"\",\"zerolinecolor\":\"#EBF0F8\"},\"zaxis\":{\"backgroundcolor\":\"white\",\"gridcolor\":\"#DFE8F3\",\"gridwidth\":2,\"linecolor\":\"#EBF0F8\",\"showbackground\":true,\"ticks\":\"\",\"zerolinecolor\":\"#EBF0F8\"}},\"shapedefaults\":{\"line\":{\"color\":\"#2a3f5f\"}},\"ternary\":{\"aaxis\":{\"gridcolor\":\"#DFE8F3\",\"linecolor\":\"#A2B1C6\",\"ticks\":\"\"},\"baxis\":{\"gridcolor\":\"#DFE8F3\",\"linecolor\":\"#A2B1C6\",\"ticks\":\"\"},\"bgcolor\":\"white\",\"caxis\":{\"gridcolor\":\"#DFE8F3\",\"linecolor\":\"#A2B1C6\",\"ticks\":\"\"}},\"title\":{\"x\":0.05},\"xaxis\":{\"automargin\":true,\"gridcolor\":\"#EBF0F8\",\"linecolor\":\"#EBF0F8\",\"ticks\":\"\",\"title\":{\"standoff\":15},\"zerolinecolor\":\"#EBF0F8\",\"zerolinewidth\":2},\"yaxis\":{\"automargin\":true,\"gridcolor\":\"#EBF0F8\",\"linecolor\":\"#EBF0F8\",\"ticks\":\"\",\"title\":{\"standoff\":15},\"zerolinecolor\":\"#EBF0F8\",\"zerolinewidth\":2}}},\"xaxis\":{\"anchor\":\"y\",\"domain\":[0.0,1.0],\"title\":{\"text\":\"Region Index\"}},\"yaxis\":{\"anchor\":\"x\",\"domain\":[0.0,1.0],\"title\":{\"text\":\"Num Cases\"}},\"legend\":{\"tracegroupgap\":0},\"margin\":{\"t\":60},\"title\":{\"text\":\"Prior Predictive Simulation\"},\"showlegend\":false},                        {\"responsive\": true}                    ).then(function(){\n",
       "                            \n",
       "var gd = document.getElementById('6e34c88f-f2ea-48f7-b7fc-c408b9dfc768');\n",
       "var x = new MutationObserver(function (mutations, observer) {{\n",
       "        var display = window.getComputedStyle(gd).display;\n",
       "        if (!display || display === 'none') {{\n",
       "            console.log([gd, 'removed!']);\n",
       "            Plotly.purge(gd);\n",
       "            observer.disconnect();\n",
       "        }}\n",
       "}});\n",
       "\n",
       "// Listen for the removal of the full notebook cells\n",
       "var notebookContainer = gd.closest('#notebook-container');\n",
       "if (notebookContainer) {{\n",
       "    x.observe(notebookContainer, {childList: true});\n",
       "}}\n",
       "\n",
       "// Listen for the clearing of the current output cell\n",
       "var outputEl = gd.closest('.output');\n",
       "if (outputEl) {{\n",
       "    x.observe(outputEl, {childList: true});\n",
       "}}\n",
       "\n",
       "                        })                };                });            </script>        </div>"
      ]
     },
     "metadata": {},
     "output_type": "display_data"
    }
   ],
   "source": [
    "agg_gp_predictive = Predictive(gp_aggr, num_samples = 500)\n",
    "agg_gp_preds = agg_gp_predictive(args)\n",
    "agg_gp_draws = agg_gp_preds[\"gp_aggr_m1\"]\n",
    "\n",
    "p1 = px.line()\n",
    "#map(lambda x: p1.add_scatter(x = np.arange(1,10), y = agg_gp_draws[x :]), np.arange(len(agg_gp_draws)))\n",
    "\n",
    "for i in range(len(agg_gp_draws)):\n",
    "    p1.add_scatter(\n",
    "        x = np.arange(1,10), \n",
    "        y = agg_gp_draws[i, :].to(\"cpu\").numpy(), \n",
    "        line_color = \"black\", \n",
    "        line_width = 0.5,\n",
    "        opacity = 0.2\n",
    "    )\n",
    "p1.update_layout(\n",
    "    template = \"plotly_white\", \n",
    "    xaxis_title = \"Region Index\", yaxis_title = \"Num Cases\", \n",
    "    title = \"Prior Predictive Simulation\",\n",
    "    showlegend = False\n",
    ")\n",
    "p1.show()\n"
   ]
  },
  {
   "cell_type": "code",
   "execution_count": 48,
   "metadata": {},
   "outputs": [
    {
     "data": {
      "text/plain": [
       "torch.Size([500, 9])"
      ]
     },
     "execution_count": 48,
     "metadata": {},
     "output_type": "execute_result"
    }
   ],
   "source": [
    "agg_gp_draws.shape"
   ]
  },
  {
   "cell_type": "code",
   "execution_count": 49,
   "metadata": {},
   "outputs": [
    {
     "data": {
      "image/png": "[encoded data removed]",
      "text/plain": [
       "<Figure size 2000x500 with 10 Axes>"
      ]
     },
     "metadata": {},
     "output_type": "display_data"
    }
   ],
   "source": [
    "# First 5 samples\n",
    "fig, axs = plt.subplots(1,5, figsize = (20,5))\n",
    "df_lo2 = df_lo.copy()\n",
    "for i in range(5):\n",
    "    nm = f\"gp_aggr_{i}\"\n",
    "    df_lo2[nm] = agg_gp_draws[i, :].to(\"cpu\").numpy()\n",
    "    df_lo2.plot(column = nm, ax = axs[i], legend = True)\n",
    "    axs[i].set_title(\"aggGP-prior\" + str(i))\n",
    "    "
   ]
  },
  {
   "cell_type": "code",
   "execution_count": 50,
   "metadata": {},
   "outputs": [],
   "source": [
    "#! Check with Swapnil if we need to do this for HI resolution data"
   ]
  },
  {
   "cell_type": "markdown",
   "metadata": {},
   "source": [
    "## Are th Priors approporate ?"
   ]
  },
  {
   "cell_type": "code",
   "execution_count": null,
   "metadata": {},
   "outputs": [],
   "source": []
  },
  {
   "cell_type": "markdown",
   "metadata": {},
   "source": [
    "## Train VAE"
   ]
  },
  {
   "cell_type": "code",
   "execution_count": 51,
   "metadata": {},
   "outputs": [
    {
     "name": "stdout",
     "output_type": "stream",
     "text": [
      "epoch : 0\n",
      "Train Loss : 5.069411502595125e+33\n",
      "epoch : 1\n",
      "Train Loss : 3.796802643024548e+33\n",
      "epoch : 2\n",
      "Train Loss : 3.520462858785049e+33\n",
      "epoch : 3\n",
      "Train Loss : 3.192828410047741e+33\n",
      "epoch : 4\n",
      "Train Loss : 3.3711824548127136e+33\n",
      "epoch : 5\n",
      "Train Loss : 3.1777376114838426e+33\n",
      "epoch : 6\n",
      "Train Loss : 3.7502387663868676e+33\n",
      "epoch : 7\n",
      "Train Loss : 5.076474260004258e+33\n",
      "epoch : 8\n",
      "Train Loss : 2.768833327622479e+33\n",
      "epoch : 9\n",
      "Train Loss : 4.149969914557127e+33\n",
      "epoch : 10\n",
      "Train Loss : 4.5303254442025107e+33\n",
      "epoch : 11\n",
      "Train Loss : 5.448440888973425e+33\n",
      "epoch : 12\n",
      "Train Loss : 4.5567731046868134e+33\n",
      "epoch : 13\n",
      "Train Loss : 1.070239397013488e+34\n",
      "epoch : 14\n",
      "Train Loss : 4.736625056899321e+33\n",
      "epoch : 15\n",
      "Train Loss : 2.8835040229464934e+33\n",
      "epoch : 16\n",
      "Train Loss : 3.7618661182058555e+33\n",
      "epoch : 17\n",
      "Train Loss : 3.7014623814139745e+33\n",
      "epoch : 18\n",
      "Train Loss : 4.104401341711032e+33\n",
      "epoch : 19\n",
      "Train Loss : 4.011963430522563e+33\n"
     ]
    }
   ],
   "source": [
    "vae, losses = training_loop(x, args)"
   ]
  },
  {
   "cell_type": "code",
   "execution_count": 52,
   "metadata": {},
   "outputs": [
    {
     "data": {
      "application/vnd.plotly.v1+json": {
       "config": {
        "plotlyServerURL": "https://plot.ly"
       },
       "data": [
        {
         "hovertemplate": "variable=0<br>index=%{x}<br>value=%{y}<extra></extra>",
         "legendgroup": "0",
         "line": {
          "color": "black",
          "dash": "solid",
          "width": 2
         },
         "marker": {
          "symbol": "circle"
         },
         "mode": "lines",
         "name": "train_loss",
         "orientation": "v",
         "showlegend": true,
         "type": "scatter",
         "x": [
          0,
          1,
          2,
          3,
          4,
          5,
          6,
          7,
          8,
          9,
          10,
          11,
          12,
          13,
          14,
          15,
          16,
          17,
          18,
          19
         ],
         "xaxis": "x",
         "y": [
          5.069411502595125e+33,
          3.796802643024548e+33,
          3.520462858785049e+33,
          3.192828410047741e+33,
          3.3711824548127136e+33,
          3.1777376114838426e+33,
          3.7502387663868676e+33,
          5.076474260004258e+33,
          2.768833327622479e+33,
          4.149969914557127e+33,
          4.5303254442025107e+33,
          5.448440888973425e+33,
          4.5567731046868134e+33,
          1.070239397013488e+34,
          4.736625056899321e+33,
          2.8835040229464934e+33,
          3.7618661182058555e+33,
          3.7014623814139745e+33,
          4.104401341711032e+33,
          4.011963430522563e+33
         ],
         "yaxis": "y"
        }
       ],
       "layout": {
        "legend": {
         "title": {
          "text": "variable"
         },
         "tracegroupgap": 0
        },
        "template": {
         "data": {
          "bar": [
           {
            "error_x": {
             "color": "#2a3f5f"
            },
            "error_y": {
             "color": "#2a3f5f"
            },
            "marker": {
             "line": {
              "color": "white",
              "width": 0.5
             },
             "pattern": {
              "fillmode": "overlay",
              "size": 10,
              "solidity": 0.2
             }
            },
            "type": "bar"
           }
          ],
          "barpolar": [
           {
            "marker": {
             "line": {
              "color": "white",
              "width": 0.5
             },
             "pattern": {
              "fillmode": "overlay",
              "size": 10,
              "solidity": 0.2
             }
            },
            "type": "barpolar"
           }
          ],
          "carpet": [
           {
            "aaxis": {
             "endlinecolor": "#2a3f5f",
             "gridcolor": "#C8D4E3",
             "linecolor": "#C8D4E3",
             "minorgridcolor": "#C8D4E3",
             "startlinecolor": "#2a3f5f"
            },
            "baxis": {
             "endlinecolor": "#2a3f5f",
             "gridcolor": "#C8D4E3",
             "linecolor": "#C8D4E3",
             "minorgridcolor": "#C8D4E3",
             "startlinecolor": "#2a3f5f"
            },
            "type": "carpet"
           }
          ],
          "choropleth": [
           {
            "colorbar": {
             "outlinewidth": 0,
             "ticks": ""
            },
            "type": "choropleth"
           }
          ],
          "contour": [
           {
            "colorbar": {
             "outlinewidth": 0,
             "ticks": ""
            },
            "colorscale": [
             [
              0,
              "#0d0887"
             ],
             [
              0.1111111111111111,
              "#46039f"
             ],
             [
              0.2222222222222222,
              "#7201a8"
             ],
             [
              0.3333333333333333,
              "#9c179e"
             ],
             [
              0.4444444444444444,
              "#bd3786"
             ],
             [
              0.5555555555555556,
              "#d8576b"
             ],
             [
              0.6666666666666666,
              "#ed7953"
             ],
             [
              0.7777777777777778,
              "#fb9f3a"
             ],
             [
              0.8888888888888888,
              "#fdca26"
             ],
             [
              1,
              "#f0f921"
             ]
            ],
            "type": "contour"
           }
          ],
          "contourcarpet": [
           {
            "colorbar": {
             "outlinewidth": 0,
             "ticks": ""
            },
            "type": "contourcarpet"
           }
          ],
          "heatmap": [
           {
            "colorbar": {
             "outlinewidth": 0,
             "ticks": ""
            },
            "colorscale": [
             [
              0,
              "#0d0887"
             ],
             [
              0.1111111111111111,
              "#46039f"
             ],
             [
              0.2222222222222222,
              "#7201a8"
             ],
             [
              0.3333333333333333,
              "#9c179e"
             ],
             [
              0.4444444444444444,
              "#bd3786"
             ],
             [
              0.5555555555555556,
              "#d8576b"
             ],
             [
              0.6666666666666666,
              "#ed7953"
             ],
             [
              0.7777777777777778,
              "#fb9f3a"
             ],
             [
              0.8888888888888888,
              "#fdca26"
             ],
             [
              1,
              "#f0f921"
             ]
            ],
            "type": "heatmap"
           }
          ],
          "heatmapgl": [
           {
            "colorbar": {
             "outlinewidth": 0,
             "ticks": ""
            },
            "colorscale": [
             [
              0,
              "#0d0887"
             ],
             [
              0.1111111111111111,
              "#46039f"
             ],
             [
              0.2222222222222222,
              "#7201a8"
             ],
             [
              0.3333333333333333,
              "#9c179e"
             ],
             [
              0.4444444444444444,
              "#bd3786"
             ],
             [
              0.5555555555555556,
              "#d8576b"
             ],
             [
              0.6666666666666666,
              "#ed7953"
             ],
             [
              0.7777777777777778,
              "#fb9f3a"
             ],
             [
              0.8888888888888888,
              "#fdca26"
             ],
             [
              1,
              "#f0f921"
             ]
            ],
            "type": "heatmapgl"
           }
          ],
          "histogram": [
           {
            "marker": {
             "pattern": {
              "fillmode": "overlay",
              "size": 10,
              "solidity": 0.2
             }
            },
            "type": "histogram"
           }
          ],
          "histogram2d": [
           {
            "colorbar": {
             "outlinewidth": 0,
             "ticks": ""
            },
            "colorscale": [
             [
              0,
              "#0d0887"
             ],
             [
              0.1111111111111111,
              "#46039f"
             ],
             [
              0.2222222222222222,
              "#7201a8"
             ],
             [
              0.3333333333333333,
              "#9c179e"
             ],
             [
              0.4444444444444444,
              "#bd3786"
             ],
             [
              0.5555555555555556,
              "#d8576b"
             ],
             [
              0.6666666666666666,
              "#ed7953"
             ],
             [
              0.7777777777777778,
              "#fb9f3a"
             ],
             [
              0.8888888888888888,
              "#fdca26"
             ],
             [
              1,
              "#f0f921"
             ]
            ],
            "type": "histogram2d"
           }
          ],
          "histogram2dcontour": [
           {
            "colorbar": {
             "outlinewidth": 0,
             "ticks": ""
            },
            "colorscale": [
             [
              0,
              "#0d0887"
             ],
             [
              0.1111111111111111,
              "#46039f"
             ],
             [
              0.2222222222222222,
              "#7201a8"
             ],
             [
              0.3333333333333333,
              "#9c179e"
             ],
             [
              0.4444444444444444,
              "#bd3786"
             ],
             [
              0.5555555555555556,
              "#d8576b"
             ],
             [
              0.6666666666666666,
              "#ed7953"
             ],
             [
              0.7777777777777778,
              "#fb9f3a"
             ],
             [
              0.8888888888888888,
              "#fdca26"
             ],
             [
              1,
              "#f0f921"
             ]
            ],
            "type": "histogram2dcontour"
           }
          ],
          "mesh3d": [
           {
            "colorbar": {
             "outlinewidth": 0,
             "ticks": ""
            },
            "type": "mesh3d"
           }
          ],
          "parcoords": [
           {
            "line": {
             "colorbar": {
              "outlinewidth": 0,
              "ticks": ""
             }
            },
            "type": "parcoords"
           }
          ],
          "pie": [
           {
            "automargin": true,
            "type": "pie"
           }
          ],
          "scatter": [
           {
            "fillpattern": {
             "fillmode": "overlay",
             "size": 10,
             "solidity": 0.2
            },
            "type": "scatter"
           }
          ],
          "scatter3d": [
           {
            "line": {
             "colorbar": {
              "outlinewidth": 0,
              "ticks": ""
             }
            },
            "marker": {
             "colorbar": {
              "outlinewidth": 0,
              "ticks": ""
             }
            },
            "type": "scatter3d"
           }
          ],
          "scattercarpet": [
           {
            "marker": {
             "colorbar": {
              "outlinewidth": 0,
              "ticks": ""
             }
            },
            "type": "scattercarpet"
           }
          ],
          "scattergeo": [
           {
            "marker": {
             "colorbar": {
              "outlinewidth": 0,
              "ticks": ""
             }
            },
            "type": "scattergeo"
           }
          ],
          "scattergl": [
           {
            "marker": {
             "colorbar": {
              "outlinewidth": 0,
              "ticks": ""
             }
            },
            "type": "scattergl"
           }
          ],
          "scattermapbox": [
           {
            "marker": {
             "colorbar": {
              "outlinewidth": 0,
              "ticks": ""
             }
            },
            "type": "scattermapbox"
           }
          ],
          "scatterpolar": [
           {
            "marker": {
             "colorbar": {
              "outlinewidth": 0,
              "ticks": ""
             }
            },
            "type": "scatterpolar"
           }
          ],
          "scatterpolargl": [
           {
            "marker": {
             "colorbar": {
              "outlinewidth": 0,
              "ticks": ""
             }
            },
            "type": "scatterpolargl"
           }
          ],
          "scatterternary": [
           {
            "marker": {
             "colorbar": {
              "outlinewidth": 0,
              "ticks": ""
             }
            },
            "type": "scatterternary"
           }
          ],
          "surface": [
           {
            "colorbar": {
             "outlinewidth": 0,
             "ticks": ""
            },
            "colorscale": [
             [
              0,
              "#0d0887"
             ],
             [
              0.1111111111111111,
              "#46039f"
             ],
             [
              0.2222222222222222,
              "#7201a8"
             ],
             [
              0.3333333333333333,
              "#9c179e"
             ],
             [
              0.4444444444444444,
              "#bd3786"
             ],
             [
              0.5555555555555556,
              "#d8576b"
             ],
             [
              0.6666666666666666,
              "#ed7953"
             ],
             [
              0.7777777777777778,
              "#fb9f3a"
             ],
             [
              0.8888888888888888,
              "#fdca26"
             ],
             [
              1,
              "#f0f921"
             ]
            ],
            "type": "surface"
           }
          ],
          "table": [
           {
            "cells": {
             "fill": {
              "color": "#EBF0F8"
             },
             "line": {
              "color": "white"
             }
            },
            "header": {
             "fill": {
              "color": "#C8D4E3"
             },
             "line": {
              "color": "white"
             }
            },
            "type": "table"
           }
          ]
         },
         "layout": {
          "annotationdefaults": {
           "arrowcolor": "#2a3f5f",
           "arrowhead": 0,
           "arrowwidth": 1
          },
          "autotypenumbers": "strict",
          "coloraxis": {
           "colorbar": {
            "outlinewidth": 0,
            "ticks": ""
           }
          },
          "colorscale": {
           "diverging": [
            [
             0,
             "#8e0152"
            ],
            [
             0.1,
             "#c51b7d"
            ],
            [
             0.2,
             "#de77ae"
            ],
            [
             0.3,
             "#f1b6da"
            ],
            [
             0.4,
             "#fde0ef"
            ],
            [
             0.5,
             "#f7f7f7"
            ],
            [
             0.6,
             "#e6f5d0"
            ],
            [
             0.7,
             "#b8e186"
            ],
            [
             0.8,
             "#7fbc41"
            ],
            [
             0.9,
             "#4d9221"
            ],
            [
             1,
             "#276419"
            ]
           ],
           "sequential": [
            [
             0,
             "#0d0887"
            ],
            [
             0.1111111111111111,
             "#46039f"
            ],
            [
             0.2222222222222222,
             "#7201a8"
            ],
            [
             0.3333333333333333,
             "#9c179e"
            ],
            [
             0.4444444444444444,
             "#bd3786"
            ],
            [
             0.5555555555555556,
             "#d8576b"
            ],
            [
             0.6666666666666666,
             "#ed7953"
            ],
            [
             0.7777777777777778,
             "#fb9f3a"
            ],
            [
             0.8888888888888888,
             "#fdca26"
            ],
            [
             1,
             "#f0f921"
            ]
           ],
           "sequentialminus": [
            [
             0,
             "#0d0887"
            ],
            [
             0.1111111111111111,
             "#46039f"
            ],
            [
             0.2222222222222222,
             "#7201a8"
            ],
            [
             0.3333333333333333,
             "#9c179e"
            ],
            [
             0.4444444444444444,
             "#bd3786"
            ],
            [
             0.5555555555555556,
             "#d8576b"
            ],
            [
             0.6666666666666666,
             "#ed7953"
            ],
            [
             0.7777777777777778,
             "#fb9f3a"
            ],
            [
             0.8888888888888888,
             "#fdca26"
            ],
            [
             1,
             "#f0f921"
            ]
           ]
          },
          "colorway": [
           "#636efa",
           "#EF553B",
           "#00cc96",
           "#ab63fa",
           "#FFA15A",
           "#19d3f3",
           "#FF6692",
           "#B6E880",
           "#FF97FF",
           "#FECB52"
          ],
          "font": {
           "color": "#2a3f5f"
          },
          "geo": {
           "bgcolor": "white",
           "lakecolor": "white",
           "landcolor": "white",
           "showlakes": true,
           "showland": true,
           "subunitcolor": "#C8D4E3"
          },
          "hoverlabel": {
           "align": "left"
          },
          "hovermode": "closest",
          "mapbox": {
           "style": "light"
          },
          "paper_bgcolor": "white",
          "plot_bgcolor": "white",
          "polar": {
           "angularaxis": {
            "gridcolor": "#EBF0F8",
            "linecolor": "#EBF0F8",
            "ticks": ""
           },
           "bgcolor": "white",
           "radialaxis": {
            "gridcolor": "#EBF0F8",
            "linecolor": "#EBF0F8",
            "ticks": ""
           }
          },
          "scene": {
           "xaxis": {
            "backgroundcolor": "white",
            "gridcolor": "#DFE8F3",
            "gridwidth": 2,
            "linecolor": "#EBF0F8",
            "showbackground": true,
            "ticks": "",
            "zerolinecolor": "#EBF0F8"
           },
           "yaxis": {
            "backgroundcolor": "white",
            "gridcolor": "#DFE8F3",
            "gridwidth": 2,
            "linecolor": "#EBF0F8",
            "showbackground": true,
            "ticks": "",
            "zerolinecolor": "#EBF0F8"
           },
           "zaxis": {
            "backgroundcolor": "white",
            "gridcolor": "#DFE8F3",
            "gridwidth": 2,
            "linecolor": "#EBF0F8",
            "showbackground": true,
            "ticks": "",
            "zerolinecolor": "#EBF0F8"
           }
          },
          "shapedefaults": {
           "line": {
            "color": "#2a3f5f"
           }
          },
          "ternary": {
           "aaxis": {
            "gridcolor": "#DFE8F3",
            "linecolor": "#A2B1C6",
            "ticks": ""
           },
           "baxis": {
            "gridcolor": "#DFE8F3",
            "linecolor": "#A2B1C6",
            "ticks": ""
           },
           "bgcolor": "white",
           "caxis": {
            "gridcolor": "#DFE8F3",
            "linecolor": "#A2B1C6",
            "ticks": ""
           }
          },
          "title": {
           "x": 0.05
          },
          "xaxis": {
           "automargin": true,
           "gridcolor": "#EBF0F8",
           "linecolor": "#EBF0F8",
           "ticks": "",
           "title": {
            "standoff": 15
           },
           "zerolinecolor": "#EBF0F8",
           "zerolinewidth": 2
          },
          "yaxis": {
           "automargin": true,
           "gridcolor": "#EBF0F8",
           "linecolor": "#EBF0F8",
           "ticks": "",
           "title": {
            "standoff": 15
           },
           "zerolinecolor": "#EBF0F8",
           "zerolinewidth": 2
          }
         }
        },
        "title": {
         "text": "Losses"
        },
        "xaxis": {
         "anchor": "y",
         "domain": [
          0,
          1
         ],
         "title": {
          "text": "epochs"
         }
        },
        "yaxis": {
         "anchor": "x",
         "domain": [
          0,
          1
         ],
         "title": {
          "text": "loss"
         }
        }
       }
      },
      "text/html": [
       "<div>                            <div id=\"750d7435-8c60-427c-aeb3-4e6b19744226\" class=\"plotly-graph-div\" style=\"height:525px; width:100%;\"></div>            <script type=\"text/javascript\">                require([\"plotly\"], function(Plotly) {                    window.PLOTLYENV=window.PLOTLYENV || {};                                    if (document.getElementById(\"750d7435-8c60-427c-aeb3-4e6b19744226\")) {                    Plotly.newPlot(                        \"750d7435-8c60-427c-aeb3-4e6b19744226\",                        [{\"hovertemplate\":\"variable=0\\u003cbr\\u003eindex=%{x}\\u003cbr\\u003evalue=%{y}\\u003cextra\\u003e\\u003c\\u002fextra\\u003e\",\"legendgroup\":\"0\",\"line\":{\"color\":\"black\",\"dash\":\"solid\",\"width\":2},\"marker\":{\"symbol\":\"circle\"},\"mode\":\"lines\",\"name\":\"train_loss\",\"orientation\":\"v\",\"showlegend\":true,\"x\":[0,1,2,3,4,5,6,7,8,9,10,11,12,13,14,15,16,17,18,19],\"xaxis\":\"x\",\"y\":[5.069411502595125e+33,3.796802643024548e+33,3.520462858785049e+33,3.192828410047741e+33,3.3711824548127136e+33,3.1777376114838426e+33,3.7502387663868676e+33,5.076474260004258e+33,2.768833327622479e+33,4.149969914557127e+33,4.5303254442025107e+33,5.448440888973425e+33,4.5567731046868134e+33,1.070239397013488e+34,4.736625056899321e+33,2.8835040229464934e+33,3.7618661182058555e+33,3.7014623814139745e+33,4.104401341711032e+33,4.011963430522563e+33],\"yaxis\":\"y\",\"type\":\"scatter\"}],                        {\"template\":{\"data\":{\"barpolar\":[{\"marker\":{\"line\":{\"color\":\"white\",\"width\":0.5},\"pattern\":{\"fillmode\":\"overlay\",\"size\":10,\"solidity\":0.2}},\"type\":\"barpolar\"}],\"bar\":[{\"error_x\":{\"color\":\"#2a3f5f\"},\"error_y\":{\"color\":\"#2a3f5f\"},\"marker\":{\"line\":{\"color\":\"white\",\"width\":0.5},\"pattern\":{\"fillmode\":\"overlay\",\"size\":10,\"solidity\":0.2}},\"type\":\"bar\"}],\"carpet\":[{\"aaxis\":{\"endlinecolor\":\"#2a3f5f\",\"gridcolor\":\"#C8D4E3\",\"linecolor\":\"#C8D4E3\",\"minorgridcolor\":\"#C8D4E3\",\"startlinecolor\":\"#2a3f5f\"},\"baxis\":{\"endlinecolor\":\"#2a3f5f\",\"gridcolor\":\"#C8D4E3\",\"linecolor\":\"#C8D4E3\",\"minorgridcolor\":\"#C8D4E3\",\"startlinecolor\":\"#2a3f5f\"},\"type\":\"carpet\"}],\"choropleth\":[{\"colorbar\":{\"outlinewidth\":0,\"ticks\":\"\"},\"type\":\"choropleth\"}],\"contourcarpet\":[{\"colorbar\":{\"outlinewidth\":0,\"ticks\":\"\"},\"type\":\"contourcarpet\"}],\"contour\":[{\"colorbar\":{\"outlinewidth\":0,\"ticks\":\"\"},\"colorscale\":[[0.0,\"#0d0887\"],[0.1111111111111111,\"#46039f\"],[0.2222222222222222,\"#7201a8\"],[0.3333333333333333,\"#9c179e\"],[0.4444444444444444,\"#bd3786\"],[0.5555555555555556,\"#d8576b\"],[0.6666666666666666,\"#ed7953\"],[0.7777777777777778,\"#fb9f3a\"],[0.8888888888888888,\"#fdca26\"],[1.0,\"#f0f921\"]],\"type\":\"contour\"}],\"heatmapgl\":[{\"colorbar\":{\"outlinewidth\":0,\"ticks\":\"\"},\"colorscale\":[[0.0,\"#0d0887\"],[0.1111111111111111,\"#46039f\"],[0.2222222222222222,\"#7201a8\"],[0.3333333333333333,\"#9c179e\"],[0.4444444444444444,\"#bd3786\"],[0.5555555555555556,\"#d8576b\"],[0.6666666666666666,\"#ed7953\"],[0.7777777777777778,\"#fb9f3a\"],[0.8888888888888888,\"#fdca26\"],[1.0,\"#f0f921\"]],\"type\":\"heatmapgl\"}],\"heatmap\":[{\"colorbar\":{\"outlinewidth\":0,\"ticks\":\"\"},\"colorscale\":[[0.0,\"#0d0887\"],[0.1111111111111111,\"#46039f\"],[0.2222222222222222,\"#7201a8\"],[0.3333333333333333,\"#9c179e\"],[0.4444444444444444,\"#bd3786\"],[0.5555555555555556,\"#d8576b\"],[0.6666666666666666,\"#ed7953\"],[0.7777777777777778,\"#fb9f3a\"],[0.8888888888888888,\"#fdca26\"],[1.0,\"#f0f921\"]],\"type\":\"heatmap\"}],\"histogram2dcontour\":[{\"colorbar\":{\"outlinewidth\":0,\"ticks\":\"\"},\"colorscale\":[[0.0,\"#0d0887\"],[0.1111111111111111,\"#46039f\"],[0.2222222222222222,\"#7201a8\"],[0.3333333333333333,\"#9c179e\"],[0.4444444444444444,\"#bd3786\"],[0.5555555555555556,\"#d8576b\"],[0.6666666666666666,\"#ed7953\"],[0.7777777777777778,\"#fb9f3a\"],[0.8888888888888888,\"#fdca26\"],[1.0,\"#f0f921\"]],\"type\":\"histogram2dcontour\"}],\"histogram2d\":[{\"colorbar\":{\"outlinewidth\":0,\"ticks\":\"\"},\"colorscale\":[[0.0,\"#0d0887\"],[0.1111111111111111,\"#46039f\"],[0.2222222222222222,\"#7201a8\"],[0.3333333333333333,\"#9c179e\"],[0.4444444444444444,\"#bd3786\"],[0.5555555555555556,\"#d8576b\"],[0.6666666666666666,\"#ed7953\"],[0.7777777777777778,\"#fb9f3a\"],[0.8888888888888888,\"#fdca26\"],[1.0,\"#f0f921\"]],\"type\":\"histogram2d\"}],\"histogram\":[{\"marker\":{\"pattern\":{\"fillmode\":\"overlay\",\"size\":10,\"solidity\":0.2}},\"type\":\"histogram\"}],\"mesh3d\":[{\"colorbar\":{\"outlinewidth\":0,\"ticks\":\"\"},\"type\":\"mesh3d\"}],\"parcoords\":[{\"line\":{\"colorbar\":{\"outlinewidth\":0,\"ticks\":\"\"}},\"type\":\"parcoords\"}],\"pie\":[{\"automargin\":true,\"type\":\"pie\"}],\"scatter3d\":[{\"line\":{\"colorbar\":{\"outlinewidth\":0,\"ticks\":\"\"}},\"marker\":{\"colorbar\":{\"outlinewidth\":0,\"ticks\":\"\"}},\"type\":\"scatter3d\"}],\"scattercarpet\":[{\"marker\":{\"colorbar\":{\"outlinewidth\":0,\"ticks\":\"\"}},\"type\":\"scattercarpet\"}],\"scattergeo\":[{\"marker\":{\"colorbar\":{\"outlinewidth\":0,\"ticks\":\"\"}},\"type\":\"scattergeo\"}],\"scattergl\":[{\"marker\":{\"colorbar\":{\"outlinewidth\":0,\"ticks\":\"\"}},\"type\":\"scattergl\"}],\"scattermapbox\":[{\"marker\":{\"colorbar\":{\"outlinewidth\":0,\"ticks\":\"\"}},\"type\":\"scattermapbox\"}],\"scatterpolargl\":[{\"marker\":{\"colorbar\":{\"outlinewidth\":0,\"ticks\":\"\"}},\"type\":\"scatterpolargl\"}],\"scatterpolar\":[{\"marker\":{\"colorbar\":{\"outlinewidth\":0,\"ticks\":\"\"}},\"type\":\"scatterpolar\"}],\"scatter\":[{\"fillpattern\":{\"fillmode\":\"overlay\",\"size\":10,\"solidity\":0.2},\"type\":\"scatter\"}],\"scatterternary\":[{\"marker\":{\"colorbar\":{\"outlinewidth\":0,\"ticks\":\"\"}},\"type\":\"scatterternary\"}],\"surface\":[{\"colorbar\":{\"outlinewidth\":0,\"ticks\":\"\"},\"colorscale\":[[0.0,\"#0d0887\"],[0.1111111111111111,\"#46039f\"],[0.2222222222222222,\"#7201a8\"],[0.3333333333333333,\"#9c179e\"],[0.4444444444444444,\"#bd3786\"],[0.5555555555555556,\"#d8576b\"],[0.6666666666666666,\"#ed7953\"],[0.7777777777777778,\"#fb9f3a\"],[0.8888888888888888,\"#fdca26\"],[1.0,\"#f0f921\"]],\"type\":\"surface\"}],\"table\":[{\"cells\":{\"fill\":{\"color\":\"#EBF0F8\"},\"line\":{\"color\":\"white\"}},\"header\":{\"fill\":{\"color\":\"#C8D4E3\"},\"line\":{\"color\":\"white\"}},\"type\":\"table\"}]},\"layout\":{\"annotationdefaults\":{\"arrowcolor\":\"#2a3f5f\",\"arrowhead\":0,\"arrowwidth\":1},\"autotypenumbers\":\"strict\",\"coloraxis\":{\"colorbar\":{\"outlinewidth\":0,\"ticks\":\"\"}},\"colorscale\":{\"diverging\":[[0,\"#8e0152\"],[0.1,\"#c51b7d\"],[0.2,\"#de77ae\"],[0.3,\"#f1b6da\"],[0.4,\"#fde0ef\"],[0.5,\"#f7f7f7\"],[0.6,\"#e6f5d0\"],[0.7,\"#b8e186\"],[0.8,\"#7fbc41\"],[0.9,\"#4d9221\"],[1,\"#276419\"]],\"sequential\":[[0.0,\"#0d0887\"],[0.1111111111111111,\"#46039f\"],[0.2222222222222222,\"#7201a8\"],[0.3333333333333333,\"#9c179e\"],[0.4444444444444444,\"#bd3786\"],[0.5555555555555556,\"#d8576b\"],[0.6666666666666666,\"#ed7953\"],[0.7777777777777778,\"#fb9f3a\"],[0.8888888888888888,\"#fdca26\"],[1.0,\"#f0f921\"]],\"sequentialminus\":[[0.0,\"#0d0887\"],[0.1111111111111111,\"#46039f\"],[0.2222222222222222,\"#7201a8\"],[0.3333333333333333,\"#9c179e\"],[0.4444444444444444,\"#bd3786\"],[0.5555555555555556,\"#d8576b\"],[0.6666666666666666,\"#ed7953\"],[0.7777777777777778,\"#fb9f3a\"],[0.8888888888888888,\"#fdca26\"],[1.0,\"#f0f921\"]]},\"colorway\":[\"#636efa\",\"#EF553B\",\"#00cc96\",\"#ab63fa\",\"#FFA15A\",\"#19d3f3\",\"#FF6692\",\"#B6E880\",\"#FF97FF\",\"#FECB52\"],\"font\":{\"color\":\"#2a3f5f\"},\"geo\":{\"bgcolor\":\"white\",\"lakecolor\":\"white\",\"landcolor\":\"white\",\"showlakes\":true,\"showland\":true,\"subunitcolor\":\"#C8D4E3\"},\"hoverlabel\":{\"align\":\"left\"},\"hovermode\":\"closest\",\"mapbox\":{\"style\":\"light\"},\"paper_bgcolor\":\"white\",\"plot_bgcolor\":\"white\",\"polar\":{\"angularaxis\":{\"gridcolor\":\"#EBF0F8\",\"linecolor\":\"#EBF0F8\",\"ticks\":\"\"},\"bgcolor\":\"white\",\"radialaxis\":{\"gridcolor\":\"#EBF0F8\",\"linecolor\":\"#EBF0F8\",\"ticks\":\"\"}},\"scene\":{\"xaxis\":{\"backgroundcolor\":\"white\",\"gridcolor\":\"#DFE8F3\",\"gridwidth\":2,\"linecolor\":\"#EBF0F8\",\"showbackground\":true,\"ticks\":\"\",\"zerolinecolor\":\"#EBF0F8\"},\"yaxis\":{\"backgroundcolor\":\"white\",\"gridcolor\":\"#DFE8F3\",\"gridwidth\":2,\"linecolor\":\"#EBF0F8\",\"showbackground\":true,\"ticks\":\"\",\"zerolinecolor\":\"#EBF0F8\"},\"zaxis\":{\"backgroundcolor\":\"white\",\"gridcolor\":\"#DFE8F3\",\"gridwidth\":2,\"linecolor\":\"#EBF0F8\",\"showbackground\":true,\"ticks\":\"\",\"zerolinecolor\":\"#EBF0F8\"}},\"shapedefaults\":{\"line\":{\"color\":\"#2a3f5f\"}},\"ternary\":{\"aaxis\":{\"gridcolor\":\"#DFE8F3\",\"linecolor\":\"#A2B1C6\",\"ticks\":\"\"},\"baxis\":{\"gridcolor\":\"#DFE8F3\",\"linecolor\":\"#A2B1C6\",\"ticks\":\"\"},\"bgcolor\":\"white\",\"caxis\":{\"gridcolor\":\"#DFE8F3\",\"linecolor\":\"#A2B1C6\",\"ticks\":\"\"}},\"title\":{\"x\":0.05},\"xaxis\":{\"automargin\":true,\"gridcolor\":\"#EBF0F8\",\"linecolor\":\"#EBF0F8\",\"ticks\":\"\",\"title\":{\"standoff\":15},\"zerolinecolor\":\"#EBF0F8\",\"zerolinewidth\":2},\"yaxis\":{\"automargin\":true,\"gridcolor\":\"#EBF0F8\",\"linecolor\":\"#EBF0F8\",\"ticks\":\"\",\"title\":{\"standoff\":15},\"zerolinecolor\":\"#EBF0F8\",\"zerolinewidth\":2}}},\"xaxis\":{\"anchor\":\"y\",\"domain\":[0.0,1.0],\"title\":{\"text\":\"epochs\"}},\"yaxis\":{\"anchor\":\"x\",\"domain\":[0.0,1.0],\"title\":{\"text\":\"loss\"}},\"legend\":{\"title\":{\"text\":\"variable\"},\"tracegroupgap\":0},\"title\":{\"text\":\"Losses\"}},                        {\"responsive\": true}                    ).then(function(){\n",
       "                            \n",
       "var gd = document.getElementById('750d7435-8c60-427c-aeb3-4e6b19744226');\n",
       "var x = new MutationObserver(function (mutations, observer) {{\n",
       "        var display = window.getComputedStyle(gd).display;\n",
       "        if (!display || display === 'none') {{\n",
       "            console.log([gd, 'removed!']);\n",
       "            Plotly.purge(gd);\n",
       "            observer.disconnect();\n",
       "        }}\n",
       "}});\n",
       "\n",
       "// Listen for the removal of the full notebook cells\n",
       "var notebookContainer = gd.closest('#notebook-container');\n",
       "if (notebookContainer) {{\n",
       "    x.observe(notebookContainer, {childList: true});\n",
       "}}\n",
       "\n",
       "// Listen for the clearing of the current output cell\n",
       "var outputEl = gd.closest('.output');\n",
       "if (outputEl) {{\n",
       "    x.observe(outputEl, {childList: true});\n",
       "}}\n",
       "\n",
       "                        })                };                });            </script>        </div>"
      ]
     },
     "metadata": {},
     "output_type": "display_data"
    }
   ],
   "source": [
    "p2 = px.line(losses, title = \"Losses\")\n",
    "p2.update_traces(name = \"train_loss\", line_color = \"black\", line_width = 2)\n",
    "p2.update_layout(template = \"plotly_white\", xaxis_title = \"epochs\", yaxis_title = \"loss\")"
   ]
  },
  {
   "cell_type": "code",
   "execution_count": 58,
   "metadata": {},
   "outputs": [
    {
     "data": {
      "text/plain": [
       "(torch.Size([2618, 40]), torch.Size([2618, 40]))"
      ]
     },
     "execution_count": 58,
     "metadata": {},
     "output_type": "execute_result"
    }
   ],
   "source": [
    "# Check whats happening with the encoder\n",
    "mu, sigma = vae.encoder.forward(x) #(2618,2)\n",
    "\n",
    "mu.shape, sigma.shape"
   ]
  },
  {
   "cell_type": "code",
   "execution_count": 54,
   "metadata": {},
   "outputs": [
    {
     "data": {
      "text/plain": [
       "(tensor(49.5000, device='cuda:0'), tensor(-125., device='cuda:0'))"
      ]
     },
     "execution_count": 54,
     "metadata": {},
     "output_type": "execute_result"
    }
   ],
   "source": [
    "x.max(), x.min()"
   ]
  },
  {
   "cell_type": "code",
   "execution_count": 55,
   "metadata": {},
   "outputs": [
    {
     "data": {
      "text/plain": [
       "torch.Size([2618, 2])"
      ]
     },
     "execution_count": 55,
     "metadata": {},
     "output_type": "execute_result"
    }
   ],
   "source": [
    "x.shape"
   ]
  },
  {
   "cell_type": "code",
   "execution_count": null,
   "metadata": {},
   "outputs": [],
   "source": []
  }
 ],
 "metadata": {
  "kernelspec": {
   "display_name": "lo2hi",
   "language": "python",
   "name": "python3"
  },
  "language_info": {
   "codemirror_mode": {
    "name": "ipython",
    "version": 3
   },
   "file_extension": ".py",
   "mimetype": "text/x-python",
   "name": "python",
   "nbconvert_exporter": "python",
   "pygments_lexer": "ipython3",
   "version": "3.10.14"
  }
 },
 "nbformat": 4,
 "nbformat_minor": 2
}
