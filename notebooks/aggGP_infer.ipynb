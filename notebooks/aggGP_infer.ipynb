{
 "cells": [
  {
   "cell_type": "code",
   "execution_count": 2,
   "metadata": {},
   "outputs": [
    {
     "ename": "ImportError",
     "evalue": "cannot import name 'args' from 'gp' (/hpc/home/idg/workspace/Lo2Hi-IV-Est-AggVAE/notebooks/../gp.py)",
     "output_type": "error",
     "traceback": [
      "\u001b[0;31m---------------------------------------------------------------------------\u001b[0m",
      "\u001b[0;31mImportError\u001b[0m                               Traceback (most recent call last)",
      "Cell \u001b[0;32mIn[2], line 11\u001b[0m\n\u001b[1;32m      8\u001b[0m \u001b[38;5;28;01mimport\u001b[39;00m \u001b[38;5;21;01msys\u001b[39;00m\n\u001b[1;32m      9\u001b[0m sys\u001b[38;5;241m.\u001b[39mpath\u001b[38;5;241m.\u001b[39mappend(os\u001b[38;5;241m.\u001b[39mpath\u001b[38;5;241m.\u001b[39mpardir)\n\u001b[0;32m---> 11\u001b[0m \u001b[38;5;28;01mfrom\u001b[39;00m \u001b[38;5;21;01mgp\u001b[39;00m \u001b[38;5;28;01mimport\u001b[39;00m prev_model_gp_aggr, args\n",
      "\u001b[0;31mImportError\u001b[0m: cannot import name 'args' from 'gp' (/hpc/home/idg/workspace/Lo2Hi-IV-Est-AggVAE/notebooks/../gp.py)"
     ]
    }
   ],
   "source": [
    "import os\n",
    "import dill\n",
    "import numpy as np\n",
    "import numpyro\n",
    "from numpyro.infer import Predictive\n",
    "import arviz as az\n",
    "\n",
    "import sys\n",
    "sys.path.append(os.path.pardir)\n",
    "\n",
    "from gp import prev_model_gp_aggr, args"
   ]
  },
  {
   "cell_type": "code",
   "execution_count": null,
   "metadata": {},
   "outputs": [],
   "source": [
    "# Load MCMC \n",
    "with open(\"../model_weights/agg_samples1000\") as file:\n",
    "    mcmc = dill.load(file)"
   ]
  },
  {
   "cell_type": "code",
   "execution_count": null,
   "metadata": {},
   "outputs": [],
   "source": [
    "pos_samples = mcmc.get_samples()\n",
    "mcmc.print_summary(exclude_deterministic = False)\n",
    "\n",
    "ss = numpyro.diagnostics.summary(mcmc.get_samples(group_by_chain = True))\n",
    "r = np.mean(ss[\"gp_aggr\"])\n",
    "print(f\"Average ESS for all aggGP effects : {round(r)}\")\n",
    "\n",
    "print(f\"kernel_length R-hat : {round(ss['kernel_length']['r_hat'], 2)}\")\n",
    "print(f\"kernel_var R-hat : {round(ss['kernel_var']['r_hat'],2)}\")\n"
   ]
  },
  {
   "cell_type": "code",
   "execution_count": 1,
   "metadata": {},
   "outputs": [
    {
     "ename": "NameError",
     "evalue": "name 'end' is not defined",
     "output_type": "error",
     "traceback": [
      "\u001b[0;31m---------------------------------------------------------------------------\u001b[0m",
      "\u001b[0;31mNameError\u001b[0m                                 Traceback (most recent call last)",
      "Cell \u001b[0;32mIn[1], line 1\u001b[0m\n\u001b[0;32m----> 1\u001b[0m \u001b[43mend\u001b[49m\n",
      "\u001b[0;31mNameError\u001b[0m: name 'end' is not defined"
     ]
    }
   ],
   "source": [
    "case_samples_az_gp = az.from_numpyro(mcmc)\n",
    "az.plot_trace(case_samples_az_gp, var_names = (\"kernel_length\"))\n",
    "az.plot_trace(case_samples_az_gp, var_names = (\"kernel_var\"))"
   ]
  },
  {
   "cell_type": "code",
   "execution_count": null,
   "metadata": {},
   "outputs": [],
   "source": [
    "# Posterior predictions\n",
    "case_pos = Predictive(prev_model_gp_aggr, pos_samples)(random.PRNGKey(1), args)\n",
    "\n"
   ]
  }
 ],
 "metadata": {
  "kernelspec": {
   "display_name": "lo2hi",
   "language": "python",
   "name": "python3"
  },
  "language_info": {
   "codemirror_mode": {
    "name": "ipython",
    "version": 3
   },
   "file_extension": ".py",
   "mimetype": "text/x-python",
   "name": "python",
   "nbconvert_exporter": "python",
   "pygments_lexer": "ipython3",
   "version": "3.10.14"
  }
 },
 "nbformat": 4,
 "nbformat_minor": 2
}
