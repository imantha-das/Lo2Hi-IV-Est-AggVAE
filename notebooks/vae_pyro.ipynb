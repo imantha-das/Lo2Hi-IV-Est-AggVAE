{
 "cells": [
  {
   "cell_type": "code",
   "execution_count": 1,
   "metadata": {},
   "outputs": [],
   "source": [
    "import os\n",
    "import numpy as np\n",
    "import torch\n",
    "import geopandas as gpd\n",
    "\n",
    "import torch.nn as nn\n",
    "import torch.nn.functional as F\n",
    "from torch.utils.data import DataLoader, Dataset\n",
    "\n",
    "import pyro \n",
    "import pyro.distributions as dist\n",
    "from pyro.infer import MCMC, NUTS, Predictive, SVI, RenyiELBO\n",
    "\n",
    "import matplotlib.pyplot as plt\n",
    "import plotly.express as px\n",
    "from termcolor import colored\n"
   ]
  },
  {
   "cell_type": "markdown",
   "metadata": {},
   "source": [
    "## Helper Funcs"
   ]
  },
  {
   "cell_type": "code",
   "execution_count": 2,
   "metadata": {},
   "outputs": [],
   "source": [
    "DEVICE = \"cuda\" if torch.cuda.is_available else \"cpu\"\n",
    "\n",
    "def check_tensor_cuda(t):\n",
    "    assert isinstance(x, torch.Tensor) and x.is_cuda, colored(\"Var not a torch tensor or not using cuda\",\"red\")\n"
   ]
  },
  {
   "cell_type": "markdown",
   "metadata": {},
   "source": [
    "## GP Kernel Funcs"
   ]
  },
  {
   "cell_type": "code",
   "execution_count": 3,
   "metadata": {},
   "outputs": [],
   "source": [
    "def dist_euclid(x:torch.Tensor,z:torch.Tensor)->torch.Tensor:\n",
    "    \"\"\"\n",
    "    x : Lat/Lon values, Shape : (*,2)\n",
    "    z : Also lat/lon values in this situation \n",
    "    \"\"\"\n",
    "    check_tensor_cuda(x);check_tensor_cuda(z)\n",
    "\n",
    "    if len(x.shape) == 1:\n",
    "        x = x.reshape(x.shape[0], 1) #shape : (num_grid_pts, 1)\n",
    "    if len(z.shape) == 1:\n",
    "        z = z.reshape(z.shape[0], 1) #shape : (num_grid_pts, 1)\n",
    "\n",
    "    n_x , m = x.shape\n",
    "    n_z , m_z = z.shape \n",
    "    assert m == m_z\n",
    "\n",
    "    delta = torch.zeros((n_x, n_z)).to(DEVICE) #shape : (num_grid_pts, num_grid_pts)\n",
    "    for d in torch.arange(m): #num_grid_pts ; i.e 0..1919\n",
    "        x_d = x[:, d] #take col vector from sq mat\n",
    "        z_d = z[:, d]\n",
    "        delta = (x_d.unsqueeze(1) - z_d)**2 \n",
    "    \n",
    "    check_tensor_cuda(delta)\n",
    "    return torch.sqrt(delta) #shape : (num_grid_pts, num_grid_pts) \n",
    "\n",
    "def exp_sq_kernel(x:torch.Tensor,z:torch.Tensor,var:float, length:float, noise:float, jitter = 1e-4)->torch.Tensor:\n",
    "    \"\"\"\n",
    "    Kernel Function\n",
    "    Inputs \n",
    "        - x : Lat/Lon values of grid points\n",
    "        - z : Lat/Lon values of grid points\n",
    "        - var : variance hyperparam for kernel\n",
    "        - length : length hyperparam for kernel\n",
    "        - noise : noise\n",
    "        - jitter : some noise for numerical stability\n",
    "    \"\"\"\n",
    "    check_tensor_cuda(x) ; check_tensor_cuda(z)\n",
    "\n",
    "    dist = dist_euclid(x,z) #shape : (num_grid_pts, num_grid_pts)\n",
    "    deltaXsq = torch.pow(dist/length, 2.0) #square dist\n",
    "    k = var * torch.exp(-0.5 * deltaXsq)\n",
    "    k += (noise + jitter) * torch.eye(x.shape[0]).to(DEVICE)\n",
    "\n",
    "    check_tensor_cuda(k)\n",
    "    return k #shape : (num_grid_points, num_grid_points) "
   ]
  },
  {
   "cell_type": "markdown",
   "metadata": {},
   "source": [
    "## Aggregation Funcs"
   ]
  },
  {
   "cell_type": "code",
   "execution_count": 4,
   "metadata": {},
   "outputs": [],
   "source": [
    "def M_g(M:torch.Tensor,g:torch.Tensor):\n",
    "    \"\"\"\n",
    "    Aggregation function\n",
    "    Inputs\n",
    "        - M : Matrix with binary entries m_{ij} show wheather point j is in polygon i \n",
    "        - g : Vector of Gp draws over grid \n",
    "    Output\n",
    "        - matmul(M,g) : Vector of sums over each polygon\n",
    "    \"\"\"\n",
    "    check_tensor_cuda(M) ; check_tensor_cuda(g)\n",
    "\n",
    "    return torch.matmul(M,g) #shape : (num_regions,)\n",
    "\n",
    "#* This is slightly different from the gp.py script version which does the sampling posterior as well\n",
    "def gp_aggr(args):\n",
    "    \"\"\"\n",
    "    Aggregated GP\n",
    "    Inputs\n",
    "        - args : Dictionary containing the following \n",
    "            - n_obs : number of observations/cases ; shp : (num_all_regions,) <- all regions include both hi res and low res regions\n",
    "            - x : lat/lon grid point values ; shp : (num_grid_pts, 2)\n",
    "            - gp_kernel : exponential kernel function\n",
    "            - jitter : random noise for numerical stability ; scaler\n",
    "            - M1 (M_lo/M_old) : Matrix with binary entries m_{ij} show wheather point j is in polygon i \n",
    "            - M2 (M_hi/M_new) : Matrix with binary entries m_{ij} show wheather point j is in polygon i \n",
    "    \"\"\"\n",
    "    x = args[\"x\"]\n",
    "    gp_kernel = args[\"gp_kernel\"]\n",
    "    jitter = args[\"jitter\"]\n",
    "    noise = args[\"noise\"]\n",
    "    M1 = args[\"M1\"] #Low\n",
    "    #! ASK SWAPNIL : We dont train on High Resolution data Right\n",
    "    #M2 = args[\"M2\"] #new/hi\n",
    "\n",
    "    check_tensor_cuda(x); \n",
    "    check_tensor_cuda(M1); \n",
    "    #check_tensor_cuda(M2)\n",
    "\n",
    "    length = pyro.sample(\"kernel_length\", dist.InverseGamma(3,3)).to(DEVICE)\n",
    "    var = pyro.sample(\"kernel_var\", dist.HalfNormal(0.05)).to(DEVICE)\n",
    "    k = gp_kernel(x,x,var,length,noise,jitter)\n",
    "    f = pyro.sample(\n",
    "        \"f\", \n",
    "        dist.MultivariateNormal(loc = torch.zeros(x.shape[0]).to(DEVICE), covariance_matrix = k)\n",
    "    ).to(DEVICE)\n",
    "\n",
    "    # Aggregate\n",
    "    gp_aggr_m1 = pyro.deterministic(\"gp_aggr_m1\", M_g(M1,f)).to(DEVICE) #shp : (num_regions_m1,)\n",
    "    #! NO NEED TO CONCATENATE \n",
    "    # gp_aggr_m2 = pyro.deterministic(\"gp_aggr_m2\", M_g(M2,f)).to(DEVICE) #shp : (num_regions_m2,)\n",
    "    # gp_aggr = pyro.deterministic(\"gp_aggr\", torch.cat([gp_aggr_m1, gp_aggr_m2])).to(DEVICE) #shp : (num_regions_m1 + num_regions_m2,)\n"
   ]
  },
  {
   "cell_type": "markdown",
   "metadata": {},
   "source": [
    "## VAE Funcs"
   ]
  },
  {
   "cell_type": "code",
   "execution_count": 5,
   "metadata": {},
   "outputs": [],
   "source": [
    "class VaeEncoder(nn.Module):\n",
    "    def __init__(self, input_dim = 2, hidden_dim = 50, z_dim = 40):\n",
    "        super(VaeEncoder, self).__init__()\n",
    "        self.fc1 = nn.Linear(input_dim, hidden_dim)\n",
    "        self.fc21 = nn.Linear(hidden_dim, z_dim)\n",
    "        self.fc22 = nn.Linear(hidden_dim, z_dim)\n",
    "\n",
    "    def forward(self, x): # x.shape : (1920,2) \n",
    "        z = F.elu(self.fc1(x)) #(num_grid_pts, 2) -> (num_grid_pts, 50) where batch_size = num_grid_pts\n",
    "        z_mu = self.fc21(z) #(num_grid_pts, 50) -> (num_grid_pts, 40)\n",
    "        z_sigma = torch.exp(self.fc22(z)) #(num_grid_pts, 50) -> (num_grid_pts, 40)\n",
    "        \n",
    "        check_tensor_cuda(z_mu) ; check_tensor_cuda(z_sigma)\n",
    "        return z_mu, z_sigma\n",
    "\n",
    "class VaeDecoder(nn.Module):\n",
    "    def __init__(self, z_dim = 40, hidden_dim = 40, output_dim = 2):\n",
    "        super(VaeDecoder,self).__init__()\n",
    "        self.fc1 = nn.Linear(z_dim, hidden_dim)\n",
    "        self.fc2 = nn.Linear(hidden_dim, output_dim)\n",
    "        self.z_dim = z_dim\n",
    "\n",
    "    def forward(self, z): #z.shape (1920, 40)\n",
    "        z_new = F.elu(self.fc1(z)) #(num_grid_pts, 40) -> (num_grid_pts, 50) where num_grid_pts == batch_soze \n",
    "        x_recon = self.fc2(z_new) #(num_grid_pts, 50) -> (num_grid_pts, 2)\n",
    "\n",
    "        check_tensor_cuda(x_recon)\n",
    "        return x_recon\n",
    "\n",
    "class VAE(nn.Module):\n",
    "    def __init__(self, input_dim = 2,  hidden_dim = 50, z_dim = 40, output_dim = 2):\n",
    "        super(VAE, self).__init__()\n",
    "\n",
    "        self.encoder = VaeEncoder(input_dim, hidden_dim, z_dim)\n",
    "        self.decoder = VaeDecoder(z_dim , hidden_dim, output_dim)\n",
    "        self.z_dim = z_dim\n",
    "\n",
    "    def guide(self, x):\n",
    "        \"\"\"Variational Distribution , q(z|x)\"\"\"\n",
    "        pyro.module(\"encoder\", self.encoder)\n",
    "        with pyro.plate(\"data\", x.shape[0]):\n",
    "            z_mu, z_sigma = self.encoder.forward(x) #(num_grid_pts, 40),(num_grid_pts, 40)\n",
    "            check_tensor_cuda(z_mu) ; check_tensor_cuda(z_sigma)\n",
    "            # sample the latent z\n",
    "            pyro.sample(\"latent\", dist.Normal(z_mu, z_sigma).to_event(1))\n",
    "\n",
    "    def model(self, x):\n",
    "        pyro.module(\"decoder\", self.decoder)\n",
    "        with pyro.plate(\"data\", x.shape[0]):\n",
    "            z_mu = x.new_zeros(torch.Size((x.shape[0], self.z_dim))) #(num_grid_pts, 40)\n",
    "            z_sigma = x.new_ones(torch.Size((x.shape[0], self.z_dim))) #(num_grid_pts, 40)\n",
    "            z = pyro.sample(\"latent\", dist.Normal(z_mu,z_sigma).to_event(1))\n",
    "            gen_mu = self.decoder(z) #(num_grid_pts, 2)\n",
    "            pyro.sample(\"obs\", dist.Normal(gen_mu, 1).to_event(1), obs = x) #we have set the variance to 1\n",
    "\n",
    "def training_loop(x,args):\n",
    "    input_dims  = args[\"input_dims\"]\n",
    "    hidden_dims = args[\"hidden_dims\"]\n",
    "    z_dim = args[\"z_dim\"]\n",
    "    output_dims = args[\"output_dims\"]\n",
    "    num_epochs = args[\"num_epochs\"]\n",
    "    learning_rate = args[\"learning_rate\"]\n",
    "\n",
    "    vae = VAE(input_dims,hidden_dims,z_dim,output_dims)\n",
    "    vae = vae.to(DEVICE)\n",
    "    optimizer = pyro.optim.Adam({\"lr\" : learning_rate})\n",
    "    svi = SVI(vae.model, vae.guide, optimizer, loss = RenyiELBO())\n",
    "\n",
    "    epoch_loss = 0.0\n",
    "    for epoch in range(num_epochs):\n",
    "        print(f\"epoch : {epoch}\")\n",
    "        x = x.to(DEVICE)\n",
    "        train_loss = svi.step(x)\n",
    "        print(train_loss)\n"
   ]
  },
  {
   "cell_type": "markdown",
   "metadata": {},
   "source": [
    "## Load Data"
   ]
  },
  {
   "cell_type": "code",
   "execution_count": 6,
   "metadata": {},
   "outputs": [],
   "source": [
    "data_dir = \"../data/processed\"\n",
    "\n",
    "# Lat/Lon Values of artificial grid\n",
    "x = np.load(os.path.join(data_dir,\"lat_lon_x.npy\"))\n",
    "pol_pt_lo = np.load(os.path.join(data_dir, \"low/pol_pt_lo.npy\"))\n",
    "pol_pt_hi = np.load(os.path.join(data_dir, \"high/pol_pt_hi.npy\"))\n",
    "df_lo = gpd.read_file(os.path.join(data_dir, \"low\", \"us_census_divisions\", \"us_census_divisions.shp\"))\n",
    "df_hi = gpd.read_file(os.path.join(data_dir, \"high\", \"us_state_divisions\", \"us_state_divisions.shp\"))\n",
    "\n",
    "# Convert to Torch Tensors\n",
    "x = torch.tensor(x, dtype = torch.float32).to(DEVICE)\n",
    "pol_pt_lo = torch.tensor(pol_pt_lo, dtype = torch.float32).to(DEVICE)\n",
    "pol_pt_hi = torch.tensor(pol_pt_hi, dtype = torch.float32).to(DEVICE)\n",
    "# This is your y\n",
    "n_obs = torch.tensor(df_lo.tot_cases, dtype = torch.int32).to(DEVICE)"
   ]
  },
  {
   "cell_type": "markdown",
   "metadata": {},
   "source": [
    "## Prior Predictive Check"
   ]
  },
  {
   "cell_type": "code",
   "execution_count": 7,
   "metadata": {},
   "outputs": [],
   "source": [
    "args = {\n",
    "    \"n_obs\" : n_obs,\n",
    "    \"x\" : x,\n",
    "    \"gp_kernel\" : exp_sq_kernel,\n",
    "    \"jitter\" : 1e-4,\n",
    "    \"noise\" : 1e-4,\n",
    "    \"M1\" : pol_pt_lo,\n",
    "    #! WE dont neew Hi-Res but if we do \n",
    "    #\"M2\" : pol_pt_new,\n",
    "\n",
    "    # VAE training\n",
    "    \"num_epochs\" : 20,\n",
    "    \"learning_rate\" : 0.0005,\n",
    "    \"batch_size\" : 100,\n",
    "    \"input_dims\" : 2,\n",
    "    \"hidden_dims\" : 50,\n",
    "    \"z_dim\" : 40,\n",
    "    \"output_dims\" : 2,\n",
    "    \"num_train\" : 100,\n",
    "    \"num_test\" : 100,\n",
    "    \"vae_var\" : 1\n",
    "}"
   ]
  },
  {
   "cell_type": "code",
   "execution_count": 35,
   "metadata": {},
   "outputs": [
    {
     "data": {
      "application/vnd.plotly.v1+json": {
       "config": {
        "plotlyServerURL": "https://plot.ly"
       },
       "data": [
        {
         "hovertemplate": "<extra></extra>",
         "legendgroup": "",
         "line": {
          "color": "#636efa",
          "dash": "solid"
         },
         "marker": {
          "symbol": "circle"
         },
         "mode": "lines",
         "name": "",
         "orientation": "v",
         "showlegend": false,
         "type": "scatter",
         "xaxis": "x",
         "yaxis": "y"
        },
        {
         "line": {
          "color": "black",
          "width": 0.5
         },
         "opacity": 0.2,
         "type": "scatter",
         "x": [
          1,
          2,
          3,
          4,
          5,
          6,
          7,
          8,
          9
         ],
         "y": [
          -1.6514091491699219,
          -14.172982215881348,
          3.7401468753814697,
          -41.7008056640625,
          -4.9015350341796875,
          -20.452281951904297,
          -16.537086486816406,
          -30.0913028717041,
          -9.593777656555176
         ]
        },
        {
         "line": {
          "color": "black",
          "width": 0.5
         },
         "opacity": 0.2,
         "type": "scatter",
         "x": [
          1,
          2,
          3,
          4,
          5,
          6,
          7,
          8,
          9
         ],
         "y": [
          -8.763943672180176,
          -1.1474981307983398,
          -2.9727253913879395,
          -33.52421569824219,
          -4.315395832061768,
          -13.132163047790527,
          0.716654896736145,
          -29.884422302246094,
          9.235370635986328
         ]
        },
        {
         "line": {
          "color": "black",
          "width": 0.5
         },
         "opacity": 0.2,
         "type": "scatter",
         "x": [
          1,
          2,
          3,
          4,
          5,
          6,
          7,
          8,
          9
         ],
         "y": [
          -13.31083869934082,
          4.259298324584961,
          -7.750150680541992,
          -18.838970184326172,
          -5.445159435272217,
          -9.12369441986084,
          5.257820129394531,
          -21.838838577270508,
          11.929072380065918
         ]
        },
        {
         "line": {
          "color": "black",
          "width": 0.5
         },
         "opacity": 0.2,
         "type": "scatter",
         "x": [
          1,
          2,
          3,
          4,
          5,
          6,
          7,
          8,
          9
         ],
         "y": [
          48.111106872558594,
          -21.221773147583008,
          16.749282836914062,
          79.0229263305664,
          18.463563919067383,
          38.42314910888672,
          -15.205886840820312,
          95.22749328613281,
          -50.583248138427734
         ]
        },
        {
         "line": {
          "color": "black",
          "width": 0.5
         },
         "opacity": 0.2,
         "type": "scatter",
         "x": [
          1,
          2,
          3,
          4,
          5,
          6,
          7,
          8,
          9
         ],
         "y": [
          12.067168235778809,
          19.793148040771484,
          1.5629178285598755,
          64.50369262695312,
          3.808553457260132,
          21.200477600097656,
          16.653348922729492,
          30.56194496154785,
          5.764199256896973
         ]
        },
        {
         "line": {
          "color": "black",
          "width": 0.5
         },
         "opacity": 0.2,
         "type": "scatter",
         "x": [
          1,
          2,
          3,
          4,
          5,
          6,
          7,
          8,
          9
         ],
         "y": [
          -1.1317745447158813,
          0.21905282139778137,
          -0.7945723533630371,
          -2.9141502380371094,
          -1.0612328052520752,
          -1.934046745300293,
          0.620609700679779,
          -2.652374744415283,
          -0.739355206489563
         ]
        },
        {
         "line": {
          "color": "black",
          "width": 0.5
         },
         "opacity": 0.2,
         "type": "scatter",
         "x": [
          1,
          2,
          3,
          4,
          5,
          6,
          7,
          8,
          9
         ],
         "y": [
          35.31781768798828,
          -0.25709909200668335,
          20.275148391723633,
          53.5990104675293,
          9.073440551757812,
          15.939504623413086,
          6.760046005249023,
          42.829490661621094,
          4.117186546325684
         ]
        },
        {
         "line": {
          "color": "black",
          "width": 0.5
         },
         "opacity": 0.2,
         "type": "scatter",
         "x": [
          1,
          2,
          3,
          4,
          5,
          6,
          7,
          8,
          9
         ],
         "y": [
          -5.4629669189453125,
          1.9917744398117065,
          -3.127405881881714,
          -8.159730911254883,
          -4.2904791831970215,
          -6.070737361907959,
          2.4140658378601074,
          -11.557697296142578,
          -2.0215446949005127
         ]
        },
        {
         "line": {
          "color": "black",
          "width": 0.5
         },
         "opacity": 0.2,
         "type": "scatter",
         "x": [
          1,
          2,
          3,
          4,
          5,
          6,
          7,
          8,
          9
         ],
         "y": [
          -22.166643142700195,
          18.025638580322266,
          -12.479131698608398,
          -4.5524115562438965,
          -8.829167366027832,
          -4.294139862060547,
          22.99102783203125,
          -29.974637985229492,
          30.9465274810791
         ]
        },
        {
         "line": {
          "color": "black",
          "width": 0.5
         },
         "opacity": 0.2,
         "type": "scatter",
         "x": [
          1,
          2,
          3,
          4,
          5,
          6,
          7,
          8,
          9
         ],
         "y": [
          -24.57550811767578,
          8.163483619689941,
          -7.016698837280273,
          -68.48402404785156,
          -13.474505424499512,
          -38.845855712890625,
          6.959012985229492,
          -75.50995635986328,
          14.04507827758789
         ]
        },
        {
         "line": {
          "color": "black",
          "width": 0.5
         },
         "opacity": 0.2,
         "type": "scatter",
         "x": [
          1,
          2,
          3,
          4,
          5,
          6,
          7,
          8,
          9
         ],
         "y": [
          -11.462875366210938,
          7.49407434463501,
          -0.06051081418991089,
          -25.54874038696289,
          -10.838804244995117,
          -21.83879280090332,
          13.29001235961914,
          -32.214046478271484,
          42.071170806884766
         ]
        },
        {
         "line": {
          "color": "black",
          "width": 0.5
         },
         "opacity": 0.2,
         "type": "scatter",
         "x": [
          1,
          2,
          3,
          4,
          5,
          6,
          7,
          8,
          9
         ],
         "y": [
          9.851889610290527,
          -0.9528844356536865,
          5.669435501098633,
          17.410594940185547,
          3.3643264770507812,
          4.505648612976074,
          -2.8738722801208496,
          14.547271728515625,
          -25.460529327392578
         ]
        },
        {
         "line": {
          "color": "black",
          "width": 0.5
         },
         "opacity": 0.2,
         "type": "scatter",
         "x": [
          1,
          2,
          3,
          4,
          5,
          6,
          7,
          8,
          9
         ],
         "y": [
          -0.5538864135742188,
          -4.506305694580078,
          1.3616232872009277,
          -15.041275978088379,
          0.9881880879402161,
          -4.471648693084717,
          -3.7062113285064697,
          -7.4118170738220215,
          5.32331657409668
         ]
        },
        {
         "line": {
          "color": "black",
          "width": 0.5
         },
         "opacity": 0.2,
         "type": "scatter",
         "x": [
          1,
          2,
          3,
          4,
          5,
          6,
          7,
          8,
          9
         ],
         "y": [
          13.951486587524414,
          -1.9501796960830688,
          11.681541442871094,
          -1.8143219947814941,
          1.142659068107605,
          -8.422592163085938,
          -7.65424108505249,
          -3.7625503540039062,
          -2.3516130447387695
         ]
        },
        {
         "line": {
          "color": "black",
          "width": 0.5
         },
         "opacity": 0.2,
         "type": "scatter",
         "x": [
          1,
          2,
          3,
          4,
          5,
          6,
          7,
          8,
          9
         ],
         "y": [
          -4.395981788635254,
          -1.2600958347320557,
          0.3516039252281189,
          -9.7857666015625,
          -0.7106763124465942,
          -3.9125747680664062,
          -3.1637024879455566,
          -5.242049217224121,
          1.0204777717590332
         ]
        },
        {
         "line": {
          "color": "black",
          "width": 0.5
         },
         "opacity": 0.2,
         "type": "scatter",
         "x": [
          1,
          2,
          3,
          4,
          5,
          6,
          7,
          8,
          9
         ],
         "y": [
          -4.918968677520752,
          -8.53026294708252,
          -1.4377338886260986,
          -31.78877067565918,
          4.76713752746582,
          -11.576501846313477,
          -15.609844207763672,
          -22.715036392211914,
          -25.709611892700195
         ]
        },
        {
         "line": {
          "color": "black",
          "width": 0.5
         },
         "opacity": 0.2,
         "type": "scatter",
         "x": [
          1,
          2,
          3,
          4,
          5,
          6,
          7,
          8,
          9
         ],
         "y": [
          9.399847984313965,
          -2.0170772075653076,
          5.443254470825195,
          12.396161079406738,
          0.5432766675949097,
          1.5046887397766113,
          0.9931970834732056,
          11.168496131896973,
          -5.228513717651367
         ]
        },
        {
         "line": {
          "color": "black",
          "width": 0.5
         },
         "opacity": 0.2,
         "type": "scatter",
         "x": [
          1,
          2,
          3,
          4,
          5,
          6,
          7,
          8,
          9
         ],
         "y": [
          10.0892333984375,
          10.856505393981934,
          8.132174491882324,
          43.26103210449219,
          1.2216243743896484,
          10.284378051757812,
          11.52669620513916,
          23.681289672851562,
          18.303136825561523
         ]
        },
        {
         "line": {
          "color": "black",
          "width": 0.5
         },
         "opacity": 0.2,
         "type": "scatter",
         "x": [
          1,
          2,
          3,
          4,
          5,
          6,
          7,
          8,
          9
         ],
         "y": [
          9.460054397583008,
          0.4127480983734131,
          1.963850975036621,
          3.3648629188537598,
          -1.4944134950637817,
          -6.504546642303467,
          3.333812713623047,
          -3.7154183387756348,
          2.602112293243408
         ]
        },
        {
         "line": {
          "color": "black",
          "width": 0.5
         },
         "opacity": 0.2,
         "type": "scatter",
         "x": [
          1,
          2,
          3,
          4,
          5,
          6,
          7,
          8,
          9
         ],
         "y": [
          -7.893949508666992,
          4.774075031280518,
          -1.6119937896728516,
          -0.03742790222167969,
          -3.1715586185455322,
          0.8704066276550293,
          1.0497350692749023,
          -1.6416711807250977,
          19.053340911865234
         ]
        },
        {
         "line": {
          "color": "black",
          "width": 0.5
         },
         "opacity": 0.2,
         "type": "scatter",
         "x": [
          1,
          2,
          3,
          4,
          5,
          6,
          7,
          8,
          9
         ],
         "y": [
          4.155084609985352,
          0.005408287048339844,
          3.5891518592834473,
          12.711381912231445,
          5.1318135261535645,
          13.299964904785156,
          -0.3265209197998047,
          16.14800262451172,
          -1.0573806762695312
         ]
        },
        {
         "line": {
          "color": "black",
          "width": 0.5
         },
         "opacity": 0.2,
         "type": "scatter",
         "x": [
          1,
          2,
          3,
          4,
          5,
          6,
          7,
          8,
          9
         ],
         "y": [
          -4.78147029876709,
          5.3793768882751465,
          -0.07145547866821289,
          10.096436500549316,
          -5.011053085327148,
          0.4119844436645508,
          4.4379143714904785,
          -7.738494873046875,
          -6.951052665710449
         ]
        },
        {
         "line": {
          "color": "black",
          "width": 0.5
         },
         "opacity": 0.2,
         "type": "scatter",
         "x": [
          1,
          2,
          3,
          4,
          5,
          6,
          7,
          8,
          9
         ],
         "y": [
          4.332233905792236,
          19.884233474731445,
          1.9534435272216797,
          42.931854248046875,
          1.6418920755386353,
          16.667043685913086,
          22.782978057861328,
          12.466934204101562,
          41.44797134399414
         ]
        },
        {
         "line": {
          "color": "black",
          "width": 0.5
         },
         "opacity": 0.2,
         "type": "scatter",
         "x": [
          1,
          2,
          3,
          4,
          5,
          6,
          7,
          8,
          9
         ],
         "y": [
          -6.247378349304199,
          -7.413372039794922,
          0.9140911102294922,
          -33.89745330810547,
          -2.229670524597168,
          -15.24112606048584,
          -9.147232055664062,
          -17.021005630493164,
          -8.053229331970215
         ]
        },
        {
         "line": {
          "color": "black",
          "width": 0.5
         },
         "opacity": 0.2,
         "type": "scatter",
         "x": [
          1,
          2,
          3,
          4,
          5,
          6,
          7,
          8,
          9
         ],
         "y": [
          12.116296768188477,
          -20.796165466308594,
          5.734452247619629,
          -3.6743602752685547,
          2.333159923553467,
          -0.8815984725952148,
          -20.717514038085938,
          23.567625045776367,
          -42.00294876098633
         ]
        },
        {
         "line": {
          "color": "black",
          "width": 0.5
         },
         "opacity": 0.2,
         "type": "scatter",
         "x": [
          1,
          2,
          3,
          4,
          5,
          6,
          7,
          8,
          9
         ],
         "y": [
          5.316744804382324,
          -5.277696132659912,
          1.432349443435669,
          -11.882136344909668,
          4.350693702697754,
          -3.7643375396728516,
          -7.550593852996826,
          -0.8712310791015625,
          -9.843019485473633
         ]
        },
        {
         "line": {
          "color": "black",
          "width": 0.5
         },
         "opacity": 0.2,
         "type": "scatter",
         "x": [
          1,
          2,
          3,
          4,
          5,
          6,
          7,
          8,
          9
         ],
         "y": [
          -9.550381660461426,
          0.13344275951385498,
          -6.5186872482299805,
          -25.310016632080078,
          0.9579223394393921,
          -6.085314750671387,
          2.162777900695801,
          -23.317157745361328,
          2.776766777038574
         ]
        },
        {
         "line": {
          "color": "black",
          "width": 0.5
         },
         "opacity": 0.2,
         "type": "scatter",
         "x": [
          1,
          2,
          3,
          4,
          5,
          6,
          7,
          8,
          9
         ],
         "y": [
          -8.502555847167969,
          -2.2949612140655518,
          -5.303442478179932,
          -22.186145782470703,
          -1.993416666984558,
          -9.120110511779785,
          -2.0488617420196533,
          -15.09595775604248,
          -2.9580042362213135
         ]
        },
        {
         "line": {
          "color": "black",
          "width": 0.5
         },
         "opacity": 0.2,
         "type": "scatter",
         "x": [
          1,
          2,
          3,
          4,
          5,
          6,
          7,
          8,
          9
         ],
         "y": [
          13.873465538024902,
          2.882777452468872,
          7.245042324066162,
          47.36434555053711,
          3.393705368041992,
          17.85780143737793,
          2.2826855182647705,
          32.9381217956543,
          0.9950428009033203
         ]
        },
        {
         "line": {
          "color": "black",
          "width": 0.5
         },
         "opacity": 0.2,
         "type": "scatter",
         "x": [
          1,
          2,
          3,
          4,
          5,
          6,
          7,
          8,
          9
         ],
         "y": [
          -1.0516860485076904,
          -20.606548309326172,
          3.272184371948242,
          -42.19829559326172,
          -0.9281260967254639,
          -16.610633850097656,
          -24.56027603149414,
          -12.846580505371094,
          -20.788314819335938
         ]
        },
        {
         "line": {
          "color": "black",
          "width": 0.5
         },
         "opacity": 0.2,
         "type": "scatter",
         "x": [
          1,
          2,
          3,
          4,
          5,
          6,
          7,
          8,
          9
         ],
         "y": [
          -7.4983296394348145,
          -9.3983154296875,
          -1.9509460926055908,
          -39.15193176269531,
          -2.4046425819396973,
          -16.11660385131836,
          -10.818483352661133,
          -21.17009925842285,
          -11.506240844726562
         ]
        },
        {
         "line": {
          "color": "black",
          "width": 0.5
         },
         "opacity": 0.2,
         "type": "scatter",
         "x": [
          1,
          2,
          3,
          4,
          5,
          6,
          7,
          8,
          9
         ],
         "y": [
          -2.572155237197876,
          16.568666458129883,
          -1.1271549463272095,
          36.66461944580078,
          -3.838362693786621,
          14.659189224243164,
          25.619665145874023,
          11.295758247375488,
          36.754642486572266
         ]
        },
        {
         "line": {
          "color": "black",
          "width": 0.5
         },
         "opacity": 0.2,
         "type": "scatter",
         "x": [
          1,
          2,
          3,
          4,
          5,
          6,
          7,
          8,
          9
         ],
         "y": [
          2.545865297317505,
          4.815210342407227,
          1.3399977684020996,
          13.111738204956055,
          -0.6566691398620605,
          3.096391201019287,
          6.012738227844238,
          3.995056629180908,
          3.3367156982421875
         ]
        },
        {
         "line": {
          "color": "black",
          "width": 0.5
         },
         "opacity": 0.2,
         "type": "scatter",
         "x": [
          1,
          2,
          3,
          4,
          5,
          6,
          7,
          8,
          9
         ],
         "y": [
          -0.6957826614379883,
          2.480494737625122,
          -2.4591217041015625,
          -4.2308197021484375,
          -0.4813416600227356,
          -3.6501402854919434,
          5.3094329833984375,
          -12.862520217895508,
          -5.309558868408203
         ]
        },
        {
         "line": {
          "color": "black",
          "width": 0.5
         },
         "opacity": 0.2,
         "type": "scatter",
         "x": [
          1,
          2,
          3,
          4,
          5,
          6,
          7,
          8,
          9
         ],
         "y": [
          -3.6609256267547607,
          3.797696590423584,
          -0.8317167162895203,
          -14.407373428344727,
          -0.09742769598960876,
          -5.791321754455566,
          3.8031208515167236,
          -19.4657039642334,
          10.718216896057129
         ]
        },
        {
         "line": {
          "color": "black",
          "width": 0.5
         },
         "opacity": 0.2,
         "type": "scatter",
         "x": [
          1,
          2,
          3,
          4,
          5,
          6,
          7,
          8,
          9
         ],
         "y": [
          8.352350234985352,
          -0.8801809549331665,
          6.506597518920898,
          -6.747887134552002,
          5.662894248962402,
          -2.0033011436462402,
          -2.7292704582214355,
          -5.564018726348877,
          11.10246753692627
         ]
        },
        {
         "line": {
          "color": "black",
          "width": 0.5
         },
         "opacity": 0.2,
         "type": "scatter",
         "x": [
          1,
          2,
          3,
          4,
          5,
          6,
          7,
          8,
          9
         ],
         "y": [
          4.718991756439209,
          8.61018180847168,
          3.2223875522613525,
          23.638233184814453,
          -1.1813671588897705,
          6.273271083831787,
          7.456191062927246,
          6.950882911682129,
          9.653534889221191
         ]
        },
        {
         "line": {
          "color": "black",
          "width": 0.5
         },
         "opacity": 0.2,
         "type": "scatter",
         "x": [
          1,
          2,
          3,
          4,
          5,
          6,
          7,
          8,
          9
         ],
         "y": [
          -4.5039381980896,
          2.51999831199646,
          -0.6903098225593567,
          17.679075241088867,
          -3.6241660118103027,
          5.889950752258301,
          7.171944618225098,
          4.082818984985352,
          -5.73522424697876
         ]
        },
        {
         "line": {
          "color": "black",
          "width": 0.5
         },
         "opacity": 0.2,
         "type": "scatter",
         "x": [
          1,
          2,
          3,
          4,
          5,
          6,
          7,
          8,
          9
         ],
         "y": [
          14.039329528808594,
          2.3771419525146484,
          5.687743663787842,
          29.364356994628906,
          7.223263740539551,
          15.500656127929688,
          0.9594721794128418,
          23.092092514038086,
          -1.4520578384399414
         ]
        },
        {
         "line": {
          "color": "black",
          "width": 0.5
         },
         "opacity": 0.2,
         "type": "scatter",
         "x": [
          1,
          2,
          3,
          4,
          5,
          6,
          7,
          8,
          9
         ],
         "y": [
          4.812448501586914,
          21.825063705444336,
          -5.07757568359375,
          59.119415283203125,
          -1.3742601871490479,
          20.2605037689209,
          33.38892364501953,
          23.926921844482422,
          42.9257698059082
         ]
        },
        {
         "line": {
          "color": "black",
          "width": 0.5
         },
         "opacity": 0.2,
         "type": "scatter",
         "x": [
          1,
          2,
          3,
          4,
          5,
          6,
          7,
          8,
          9
         ],
         "y": [
          10.765979766845703,
          -24.736141204833984,
          6.061960697174072,
          -18.337209701538086,
          7.510659694671631,
          -2.2030177116394043,
          -28.816024780273438,
          28.719444274902344,
          -35.76547622680664
         ]
        },
        {
         "line": {
          "color": "black",
          "width": 0.5
         },
         "opacity": 0.2,
         "type": "scatter",
         "x": [
          1,
          2,
          3,
          4,
          5,
          6,
          7,
          8,
          9
         ],
         "y": [
          7.250211715698242,
          -1.2726850509643555,
          -1.3234889507293701,
          15.031106948852539,
          2.743619441986084,
          10.250943183898926,
          0.290485143661499,
          15.516626358032227,
          -17.492778778076172
         ]
        },
        {
         "line": {
          "color": "black",
          "width": 0.5
         },
         "opacity": 0.2,
         "type": "scatter",
         "x": [
          1,
          2,
          3,
          4,
          5,
          6,
          7,
          8,
          9
         ],
         "y": [
          3.853712797164917,
          3.7648684978485107,
          0.9911213517189026,
          5.148764610290527,
          0.892235517501831,
          1.096118688583374,
          5.512193202972412,
          -2.9698338508605957,
          11.811591148376465
         ]
        },
        {
         "line": {
          "color": "black",
          "width": 0.5
         },
         "opacity": 0.2,
         "type": "scatter",
         "x": [
          1,
          2,
          3,
          4,
          5,
          6,
          7,
          8,
          9
         ],
         "y": [
          1.2324891090393066,
          5.747763633728027,
          0.27905362844467163,
          22.646953582763672,
          1.9586200714111328,
          11.866124153137207,
          9.941068649291992,
          10.431713104248047,
          24.493005752563477
         ]
        },
        {
         "line": {
          "color": "black",
          "width": 0.5
         },
         "opacity": 0.2,
         "type": "scatter",
         "x": [
          1,
          2,
          3,
          4,
          5,
          6,
          7,
          8,
          9
         ],
         "y": [
          -1.1452360153198242,
          6.185578346252441,
          2.4164342880249023,
          13.10263442993164,
          6.585872650146484,
          10.716503143310547,
          8.774375915527344,
          7.005584239959717,
          27.322303771972656
         ]
        },
        {
         "line": {
          "color": "black",
          "width": 0.5
         },
         "opacity": 0.2,
         "type": "scatter",
         "x": [
          1,
          2,
          3,
          4,
          5,
          6,
          7,
          8,
          9
         ],
         "y": [
          -4.882927894592285,
          -6.757105827331543,
          -2.2418951988220215,
          -20.154876708984375,
          -0.8679604530334473,
          -6.212301254272461,
          -9.571231842041016,
          -8.335434913635254,
          -14.780694007873535
         ]
        },
        {
         "line": {
          "color": "black",
          "width": 0.5
         },
         "opacity": 0.2,
         "type": "scatter",
         "x": [
          1,
          2,
          3,
          4,
          5,
          6,
          7,
          8,
          9
         ],
         "y": [
          11.014996528625488,
          -1.7455527782440186,
          2.887087821960449,
          16.68677520751953,
          6.745891094207764,
          11.705816268920898,
          -3.4419236183166504,
          22.868213653564453,
          -7.831887722015381
         ]
        },
        {
         "line": {
          "color": "black",
          "width": 0.5
         },
         "opacity": 0.2,
         "type": "scatter",
         "x": [
          1,
          2,
          3,
          4,
          5,
          6,
          7,
          8,
          9
         ],
         "y": [
          0.09214138984680176,
          -7.753671169281006,
          -0.7825461030006409,
          -13.327127456665039,
          -0.9580332636833191,
          -5.691162109375,
          -8.488972663879395,
          -4.162228584289551,
          -17.033184051513672
         ]
        },
        {
         "line": {
          "color": "black",
          "width": 0.5
         },
         "opacity": 0.2,
         "type": "scatter",
         "x": [
          1,
          2,
          3,
          4,
          5,
          6,
          7,
          8,
          9
         ],
         "y": [
          8.569238662719727,
          28.742755889892578,
          1.1428738832473755,
          80.97090911865234,
          1.13018798828125,
          26.897804260253906,
          34.361942291259766,
          30.69173812866211,
          42.96719741821289
         ]
        },
        {
         "line": {
          "color": "black",
          "width": 0.5
         },
         "opacity": 0.2,
         "type": "scatter",
         "x": [
          1,
          2,
          3,
          4,
          5,
          6,
          7,
          8,
          9
         ],
         "y": [
          6.740703582763672,
          -13.275925636291504,
          2.9688656330108643,
          -13.94311237335205,
          1.6045057773590088,
          -4.375279426574707,
          -14.892568588256836,
          3.716902256011963,
          -33.73777389526367
         ]
        },
        {
         "line": {
          "color": "black",
          "width": 0.5
         },
         "opacity": 0.2,
         "type": "scatter",
         "x": [
          1,
          2,
          3,
          4,
          5,
          6,
          7,
          8,
          9
         ],
         "y": [
          -31.483503341674805,
          27.618602752685547,
          -15.232708930969238,
          -25.62447166442871,
          -13.53596019744873,
          -18.42627716064453,
          35.97683334350586,
          -57.355804443359375,
          73.43614196777344
         ]
        },
        {
         "line": {
          "color": "black",
          "width": 0.5
         },
         "opacity": 0.2,
         "type": "scatter",
         "x": [
          1,
          2,
          3,
          4,
          5,
          6,
          7,
          8,
          9
         ],
         "y": [
          11.877138137817383,
          3.214552879333496,
          5.725022315979004,
          47.42810821533203,
          9.276249885559082,
          28.677278518676758,
          0.23477530479431152,
          35.63452911376953,
          -3.47658109664917
         ]
        },
        {
         "line": {
          "color": "black",
          "width": 0.5
         },
         "opacity": 0.2,
         "type": "scatter",
         "x": [
          1,
          2,
          3,
          4,
          5,
          6,
          7,
          8,
          9
         ],
         "y": [
          -0.47652292251586914,
          -18.374431610107422,
          1.8766746520996094,
          -39.01359558105469,
          2.1970667839050293,
          -14.206655502319336,
          -26.85409164428711,
          -15.310301780700684,
          -37.56216049194336
         ]
        },
        {
         "line": {
          "color": "black",
          "width": 0.5
         },
         "opacity": 0.2,
         "type": "scatter",
         "x": [
          1,
          2,
          3,
          4,
          5,
          6,
          7,
          8,
          9
         ],
         "y": [
          0.5569660067558289,
          -0.8024229407310486,
          -0.08179745078086853,
          0.4960782527923584,
          0.1102132797241211,
          0.1945587396621704,
          -0.0967368334531784,
          1.837291955947876,
          0.18489137291908264
         ]
        },
        {
         "line": {
          "color": "black",
          "width": 0.5
         },
         "opacity": 0.2,
         "type": "scatter",
         "x": [
          1,
          2,
          3,
          4,
          5,
          6,
          7,
          8,
          9
         ],
         "y": [
          -24.782596588134766,
          7.325695037841797,
          -20.381418228149414,
          -39.86481475830078,
          -2.4687113761901855,
          -10.260756492614746,
          -2.175851821899414,
          -39.88263702392578,
          -12.911834716796875
         ]
        },
        {
         "line": {
          "color": "black",
          "width": 0.5
         },
         "opacity": 0.2,
         "type": "scatter",
         "x": [
          1,
          2,
          3,
          4,
          5,
          6,
          7,
          8,
          9
         ],
         "y": [
          -7.629834175109863,
          18.38827133178711,
          -4.798924922943115,
          22.82350730895996,
          0.2684832215309143,
          12.917887687683105,
          15.707417488098145,
          -0.13110876083374023,
          26.3445987701416
         ]
        },
        {
         "line": {
          "color": "black",
          "width": 0.5
         },
         "opacity": 0.2,
         "type": "scatter",
         "x": [
          1,
          2,
          3,
          4,
          5,
          6,
          7,
          8,
          9
         ],
         "y": [
          -4.617287635803223,
          -8.18910026550293,
          -3.2538039684295654,
          -18.643573760986328,
          -0.3431376516819,
          -3.6609721183776855,
          -8.191739082336426,
          -5.8669753074646,
          -17.47602653503418
         ]
        },
        {
         "line": {
          "color": "black",
          "width": 0.5
         },
         "opacity": 0.2,
         "type": "scatter",
         "x": [
          1,
          2,
          3,
          4,
          5,
          6,
          7,
          8,
          9
         ],
         "y": [
          -5.673483848571777,
          -26.030061721801758,
          -0.9128449559211731,
          -75.92147064208984,
          -1.4854404926300049,
          -27.335447311401367,
          -26.7341251373291,
          -39.14435958862305,
          -44.93352508544922
         ]
        },
        {
         "line": {
          "color": "black",
          "width": 0.5
         },
         "opacity": 0.2,
         "type": "scatter",
         "x": [
          1,
          2,
          3,
          4,
          5,
          6,
          7,
          8,
          9
         ],
         "y": [
          -11.533634185791016,
          13.540714263916016,
          -5.556751728057861,
          -6.201093673706055,
          -7.707149028778076,
          -9.46114730834961,
          14.609396934509277,
          -25.631868362426758,
          17.847543716430664
         ]
        },
        {
         "line": {
          "color": "black",
          "width": 0.5
         },
         "opacity": 0.2,
         "type": "scatter",
         "x": [
          1,
          2,
          3,
          4,
          5,
          6,
          7,
          8,
          9
         ],
         "y": [
          4.307608604431152,
          0.6686304807662964,
          -3.0573673248291016,
          8.240580558776855,
          -0.7775626182556152,
          2.005066394805908,
          6.986841201782227,
          3.967656373977661,
          -5.596208095550537
         ]
        },
        {
         "line": {
          "color": "black",
          "width": 0.5
         },
         "opacity": 0.2,
         "type": "scatter",
         "x": [
          1,
          2,
          3,
          4,
          5,
          6,
          7,
          8,
          9
         ],
         "y": [
          6.301105499267578,
          -2.2832679748535156,
          2.8572194576263428,
          11.979737281799316,
          -0.3820474147796631,
          2.71895170211792,
          1.2408981323242188,
          10.770539283752441,
          -6.39929723739624
         ]
        },
        {
         "line": {
          "color": "black",
          "width": 0.5
         },
         "opacity": 0.2,
         "type": "scatter",
         "x": [
          1,
          2,
          3,
          4,
          5,
          6,
          7,
          8,
          9
         ],
         "y": [
          65.95849609375,
          -5.005132675170898,
          23.476804733276367,
          149.14854431152344,
          13.630550384521484,
          54.43154525756836,
          -0.8586082458496094,
          129.8727264404297,
          -48.50251007080078
         ]
        },
        {
         "line": {
          "color": "black",
          "width": 0.5
         },
         "opacity": 0.2,
         "type": "scatter",
         "x": [
          1,
          2,
          3,
          4,
          5,
          6,
          7,
          8,
          9
         ],
         "y": [
          2.459167718887329,
          -4.212681770324707,
          0.09983654320240021,
          0.7446072101593018,
          2.2815654277801514,
          4.2749714851379395,
          -2.1759839057922363,
          6.148965835571289,
          -12.774539947509766
         ]
        },
        {
         "line": {
          "color": "black",
          "width": 0.5
         },
         "opacity": 0.2,
         "type": "scatter",
         "x": [
          1,
          2,
          3,
          4,
          5,
          6,
          7,
          8,
          9
         ],
         "y": [
          5.7554473876953125,
          9.144889831542969,
          0.07270786911249161,
          31.021503448486328,
          1.105242133140564,
          11.628999710083008,
          13.063072204589844,
          15.897163391113281,
          16.223787307739258
         ]
        },
        {
         "line": {
          "color": "black",
          "width": 0.5
         },
         "opacity": 0.2,
         "type": "scatter",
         "x": [
          1,
          2,
          3,
          4,
          5,
          6,
          7,
          8,
          9
         ],
         "y": [
          -17.856855392456055,
          5.25047492980957,
          -11.789749145507812,
          -23.491180419921875,
          -3.649106979370117,
          -8.06109619140625,
          3.876448154449463,
          -27.050216674804688,
          16.705869674682617
         ]
        },
        {
         "line": {
          "color": "black",
          "width": 0.5
         },
         "opacity": 0.2,
         "type": "scatter",
         "x": [
          1,
          2,
          3,
          4,
          5,
          6,
          7,
          8,
          9
         ],
         "y": [
          5.576376914978027,
          1.0333127975463867,
          2.4324402809143066,
          4.276340484619141,
          -0.9683756828308105,
          -2.4214296340942383,
          3.2883737087249756,
          2.745549201965332,
          -0.4143381118774414
         ]
        },
        {
         "line": {
          "color": "black",
          "width": 0.5
         },
         "opacity": 0.2,
         "type": "scatter",
         "x": [
          1,
          2,
          3,
          4,
          5,
          6,
          7,
          8,
          9
         ],
         "y": [
          -1.8806324005126953,
          10.46621036529541,
          -8.588655471801758,
          23.698030471801758,
          -4.559696674346924,
          2.700282573699951,
          22.927501678466797,
          -1.4598159790039062,
          -1.67921781539917
         ]
        },
        {
         "line": {
          "color": "black",
          "width": 0.5
         },
         "opacity": 0.2,
         "type": "scatter",
         "x": [
          1,
          2,
          3,
          4,
          5,
          6,
          7,
          8,
          9
         ],
         "y": [
          55.81205749511719,
          -12.750218391418457,
          23.57624053955078,
          85.22515869140625,
          17.63496971130371,
          34.36882781982422,
          -7.449563980102539,
          83.0455093383789,
          -19.49188232421875
         ]
        },
        {
         "line": {
          "color": "black",
          "width": 0.5
         },
         "opacity": 0.2,
         "type": "scatter",
         "x": [
          1,
          2,
          3,
          4,
          5,
          6,
          7,
          8,
          9
         ],
         "y": [
          -4.568658351898193,
          -1.5001486539840698,
          -2.0334830284118652,
          -7.838343143463135,
          -2.3128786087036133,
          -3.5149543285369873,
          -0.6925976276397705,
          -6.245818138122559,
          -6.272353172302246
         ]
        },
        {
         "line": {
          "color": "black",
          "width": 0.5
         },
         "opacity": 0.2,
         "type": "scatter",
         "x": [
          1,
          2,
          3,
          4,
          5,
          6,
          7,
          8,
          9
         ],
         "y": [
          -6.661138534545898,
          -4.982237815856934,
          -0.5637162923812866,
          -26.270334243774414,
          2.455277442932129,
          -6.600619316101074,
          -7.283733367919922,
          -7.848720550537109,
          2.8584280014038086
         ]
        },
        {
         "line": {
          "color": "black",
          "width": 0.5
         },
         "opacity": 0.2,
         "type": "scatter",
         "x": [
          1,
          2,
          3,
          4,
          5,
          6,
          7,
          8,
          9
         ],
         "y": [
          9.482522964477539,
          10.612465858459473,
          3.769319772720337,
          41.31150817871094,
          2.791987895965576,
          12.241499900817871,
          14.040351867675781,
          32.66728973388672,
          23.980627059936523
         ]
        },
        {
         "line": {
          "color": "black",
          "width": 0.5
         },
         "opacity": 0.2,
         "type": "scatter",
         "x": [
          1,
          2,
          3,
          4,
          5,
          6,
          7,
          8,
          9
         ],
         "y": [
          8.925182342529297,
          3.5107059478759766,
          3.156494617462158,
          22.622413635253906,
          2.882678985595703,
          6.985490798950195,
          2.9098026752471924,
          17.946956634521484,
          -5.063439846038818
         ]
        },
        {
         "line": {
          "color": "black",
          "width": 0.5
         },
         "opacity": 0.2,
         "type": "scatter",
         "x": [
          1,
          2,
          3,
          4,
          5,
          6,
          7,
          8,
          9
         ],
         "y": [
          1.6569290161132812,
          5.680711269378662,
          -2.265141725540161,
          19.119857788085938,
          5.41224479675293,
          10.408777236938477,
          3.183911085128784,
          16.2307071685791,
          1.9661707878112793
         ]
        },
        {
         "line": {
          "color": "black",
          "width": 0.5
         },
         "opacity": 0.2,
         "type": "scatter",
         "x": [
          1,
          2,
          3,
          4,
          5,
          6,
          7,
          8,
          9
         ],
         "y": [
          -5.104447364807129,
          -0.040196239948272705,
          -2.8832545280456543,
          -25.045940399169922,
          0.1862076073884964,
          -9.726118087768555,
          0.771912693977356,
          -19.842554092407227,
          11.724969863891602
         ]
        },
        {
         "line": {
          "color": "black",
          "width": 0.5
         },
         "opacity": 0.2,
         "type": "scatter",
         "x": [
          1,
          2,
          3,
          4,
          5,
          6,
          7,
          8,
          9
         ],
         "y": [
          12.377104759216309,
          4.566938400268555,
          2.4418535232543945,
          33.328678131103516,
          1.7886464595794678,
          12.443122863769531,
          7.6177239418029785,
          18.590606689453125,
          -7.6483917236328125
         ]
        },
        {
         "line": {
          "color": "black",
          "width": 0.5
         },
         "opacity": 0.2,
         "type": "scatter",
         "x": [
          1,
          2,
          3,
          4,
          5,
          6,
          7,
          8,
          9
         ],
         "y": [
          -7.42062520980835,
          3.2547600269317627,
          -3.3865020275115967,
          -6.17427396774292,
          0.46909618377685547,
          -0.0981142520904541,
          5.420411586761475,
          -3.0083892345428467,
          18.355159759521484
         ]
        },
        {
         "line": {
          "color": "black",
          "width": 0.5
         },
         "opacity": 0.2,
         "type": "scatter",
         "x": [
          1,
          2,
          3,
          4,
          5,
          6,
          7,
          8,
          9
         ],
         "y": [
          -0.3568098545074463,
          1.1132678985595703,
          -0.06496244668960571,
          -7.591794013977051,
          -2.581347942352295,
          -7.285525798797607,
          2.7000458240509033,
          -9.558375358581543,
          4.215869903564453
         ]
        },
        {
         "line": {
          "color": "black",
          "width": 0.5
         },
         "opacity": 0.2,
         "type": "scatter",
         "x": [
          1,
          2,
          3,
          4,
          5,
          6,
          7,
          8,
          9
         ],
         "y": [
          9.599639892578125,
          -4.5987348556518555,
          7.206384658813477,
          16.265243530273438,
          5.182945728302002,
          10.528658866882324,
          -7.15233039855957,
          18.93779754638672,
          -7.274013519287109
         ]
        },
        {
         "line": {
          "color": "black",
          "width": 0.5
         },
         "opacity": 0.2,
         "type": "scatter",
         "x": [
          1,
          2,
          3,
          4,
          5,
          6,
          7,
          8,
          9
         ],
         "y": [
          7.532832145690918,
          -1.8952850103378296,
          0.28737759590148926,
          17.615877151489258,
          4.939603805541992,
          11.00733757019043,
          -2.43387770652771,
          19.326129913330078,
          -7.26676607131958
         ]
        },
        {
         "line": {
          "color": "black",
          "width": 0.5
         },
         "opacity": 0.2,
         "type": "scatter",
         "x": [
          1,
          2,
          3,
          4,
          5,
          6,
          7,
          8,
          9
         ],
         "y": [
          -8.395142555236816,
          4.112918376922607,
          -7.073447227478027,
          0.06400632858276367,
          -2.123812675476074,
          2.542996644973755,
          3.5906386375427246,
          -6.88616943359375,
          9.220829010009766
         ]
        },
        {
         "line": {
          "color": "black",
          "width": 0.5
         },
         "opacity": 0.2,
         "type": "scatter",
         "x": [
          1,
          2,
          3,
          4,
          5,
          6,
          7,
          8,
          9
         ],
         "y": [
          -15.124637603759766,
          6.861333847045898,
          -5.829646587371826,
          -26.819366455078125,
          -3.162766218185425,
          -9.747587203979492,
          0.052579522132873535,
          -28.539592742919922,
          14.209037780761719
         ]
        },
        {
         "line": {
          "color": "black",
          "width": 0.5
         },
         "opacity": 0.2,
         "type": "scatter",
         "x": [
          1,
          2,
          3,
          4,
          5,
          6,
          7,
          8,
          9
         ],
         "y": [
          -2.1094236373901367,
          -1.7517539262771606,
          -1.7242530584335327,
          3.416261672973633,
          2.464667320251465,
          6.570039749145508,
          -7.896592140197754,
          5.375555515289307,
          -11.637651443481445
         ]
        },
        {
         "line": {
          "color": "black",
          "width": 0.5
         },
         "opacity": 0.2,
         "type": "scatter",
         "x": [
          1,
          2,
          3,
          4,
          5,
          6,
          7,
          8,
          9
         ],
         "y": [
          -0.4340327978134155,
          1.0517574548721313,
          -0.10037551820278168,
          3.0302038192749023,
          0.09026587009429932,
          1.4729810953140259,
          1.81589937210083,
          -0.02875921130180359,
          0.14856740832328796
         ]
        },
        {
         "line": {
          "color": "black",
          "width": 0.5
         },
         "opacity": 0.2,
         "type": "scatter",
         "x": [
          1,
          2,
          3,
          4,
          5,
          6,
          7,
          8,
          9
         ],
         "y": [
          3.3182458877563477,
          -0.0012970566749572754,
          1.5027097463607788,
          3.783980369567871,
          3.8044252395629883,
          3.5832648277282715,
          -0.7807304859161377,
          6.341148376464844,
          10.818367958068848
         ]
        },
        {
         "line": {
          "color": "black",
          "width": 0.5
         },
         "opacity": 0.2,
         "type": "scatter",
         "x": [
          1,
          2,
          3,
          4,
          5,
          6,
          7,
          8,
          9
         ],
         "y": [
          5.722153663635254,
          15.304204940795898,
          -0.7443642616271973,
          36.688228607177734,
          0.7805051803588867,
          9.784662246704102,
          14.063340187072754,
          10.153536796569824,
          17.955610275268555
         ]
        },
        {
         "line": {
          "color": "black",
          "width": 0.5
         },
         "opacity": 0.2,
         "type": "scatter",
         "x": [
          1,
          2,
          3,
          4,
          5,
          6,
          7,
          8,
          9
         ],
         "y": [
          15.651100158691406,
          5.3472137451171875,
          5.742570877075195,
          45.688194274902344,
          5.717350006103516,
          19.426910400390625,
          9.811603546142578,
          33.755489349365234,
          16.333175659179688
         ]
        },
        {
         "line": {
          "color": "black",
          "width": 0.5
         },
         "opacity": 0.2,
         "type": "scatter",
         "x": [
          1,
          2,
          3,
          4,
          5,
          6,
          7,
          8,
          9
         ],
         "y": [
          -13.963175773620605,
          -6.585083484649658,
          -3.7566661834716797,
          -29.80129623413086,
          1.6434401273727417,
          -6.785915374755859,
          -15.357288360595703,
          -17.695491790771484,
          -18.452613830566406
         ]
        },
        {
         "line": {
          "color": "black",
          "width": 0.5
         },
         "opacity": 0.2,
         "type": "scatter",
         "x": [
          1,
          2,
          3,
          4,
          5,
          6,
          7,
          8,
          9
         ],
         "y": [
          2.4442644119262695,
          -2.853170394897461,
          -0.3936532139778137,
          5.470662593841553,
          -1.1262396574020386,
          1.2074813842773438,
          -3.2031004428863525,
          6.261468887329102,
          -14.982938766479492
         ]
        },
        {
         "line": {
          "color": "black",
          "width": 0.5
         },
         "opacity": 0.2,
         "type": "scatter",
         "x": [
          1,
          2,
          3,
          4,
          5,
          6,
          7,
          8,
          9
         ],
         "y": [
          30.076576232910156,
          1.8535335063934326,
          15.905855178833008,
          64.48348999023438,
          10.791526794433594,
          23.974815368652344,
          -0.21572351455688477,
          53.86248779296875,
          -13.469046592712402
         ]
        },
        {
         "line": {
          "color": "black",
          "width": 0.5
         },
         "opacity": 0.2,
         "type": "scatter",
         "x": [
          1,
          2,
          3,
          4,
          5,
          6,
          7,
          8,
          9
         ],
         "y": [
          4.164738655090332,
          -5.8643717765808105,
          -1.1089792251586914,
          -2.5536084175109863,
          -1.082056999206543,
          -5.44655179977417,
          -11.046009063720703,
          5.898369789123535,
          -35.3409423828125
         ]
        },
        {
         "line": {
          "color": "black",
          "width": 0.5
         },
         "opacity": 0.2,
         "type": "scatter",
         "x": [
          1,
          2,
          3,
          4,
          5,
          6,
          7,
          8,
          9
         ],
         "y": [
          0.8817026615142822,
          -13.15796947479248,
          1.7233999967575073,
          -36.80849075317383,
          1.374246597290039,
          -14.280162811279297,
          -18.792781829833984,
          -15.311725616455078,
          -11.464941024780273
         ]
        },
        {
         "line": {
          "color": "black",
          "width": 0.5
         },
         "opacity": 0.2,
         "type": "scatter",
         "x": [
          1,
          2,
          3,
          4,
          5,
          6,
          7,
          8,
          9
         ],
         "y": [
          -2.54067063331604,
          0.08486020565032959,
          0.6106485724449158,
          16.071096420288086,
          0.10355541855096817,
          10.16395378112793,
          -1.2518219947814941,
          8.442317008972168,
          -17.783557891845703
         ]
        },
        {
         "line": {
          "color": "black",
          "width": 0.5
         },
         "opacity": 0.2,
         "type": "scatter",
         "x": [
          1,
          2,
          3,
          4,
          5,
          6,
          7,
          8,
          9
         ],
         "y": [
          7.9176740646362305,
          4.373416423797607,
          0.8488441109657288,
          32.770198822021484,
          -0.19823800027370453,
          11.463188171386719,
          11.3488130569458,
          18.28662109375,
          5.787349224090576
         ]
        },
        {
         "line": {
          "color": "black",
          "width": 0.5
         },
         "opacity": 0.2,
         "type": "scatter",
         "x": [
          1,
          2,
          3,
          4,
          5,
          6,
          7,
          8,
          9
         ],
         "y": [
          -2.205045700073242,
          -10.219528198242188,
          0.46100324392318726,
          -35.82683181762695,
          -0.06285560131072998,
          -18.410921096801758,
          -15.484099388122559,
          -11.609227180480957,
          -7.308147430419922
         ]
        },
        {
         "line": {
          "color": "black",
          "width": 0.5
         },
         "opacity": 0.2,
         "type": "scatter",
         "x": [
          1,
          2,
          3,
          4,
          5,
          6,
          7,
          8,
          9
         ],
         "y": [
          8.44211483001709,
          -18.837181091308594,
          -3.5525336265563965,
          -31.96527099609375,
          1.3121273517608643,
          -13.91851806640625,
          -16.502826690673828,
          -11.363238334655762,
          -29.095054626464844
         ]
        },
        {
         "line": {
          "color": "black",
          "width": 0.5
         },
         "opacity": 0.2,
         "type": "scatter",
         "x": [
          1,
          2,
          3,
          4,
          5,
          6,
          7,
          8,
          9
         ],
         "y": [
          2.9059267044067383,
          -10.99669075012207,
          3.6041975021362305,
          -8.995065689086914,
          0.6047266125679016,
          -2.544837713241577,
          -13.22308349609375,
          4.993834495544434,
          -23.00831413269043
         ]
        },
        {
         "line": {
          "color": "black",
          "width": 0.5
         },
         "opacity": 0.2,
         "type": "scatter",
         "x": [
          1,
          2,
          3,
          4,
          5,
          6,
          7,
          8,
          9
         ],
         "y": [
          15.940897941589355,
          4.402578353881836,
          4.226916313171387,
          51.156890869140625,
          4.973523139953613,
          21.824960708618164,
          7.565327167510986,
          39.821563720703125,
          1.432023286819458
         ]
        },
        {
         "line": {
          "color": "black",
          "width": 0.5
         },
         "opacity": 0.2,
         "type": "scatter",
         "x": [
          1,
          2,
          3,
          4,
          5,
          6,
          7,
          8,
          9
         ],
         "y": [
          -18.266443252563477,
          23.537933349609375,
          -9.625227928161621,
          -3.6817398071289062,
          -5.634884834289551,
          -3.6912405490875244,
          34.41087341308594,
          -32.726593017578125,
          59.220481872558594
         ]
        },
        {
         "line": {
          "color": "black",
          "width": 0.5
         },
         "opacity": 0.2,
         "type": "scatter",
         "x": [
          1,
          2,
          3,
          4,
          5,
          6,
          7,
          8,
          9
         ],
         "y": [
          -1.1597390174865723,
          -0.3263256549835205,
          -1.5516810417175293,
          -2.544069766998291,
          0.1164512038230896,
          -0.5540266036987305,
          0.28223395347595215,
          -1.1487445831298828,
          1.2691915035247803
         ]
        },
        {
         "line": {
          "color": "black",
          "width": 0.5
         },
         "opacity": 0.2,
         "type": "scatter",
         "x": [
          1,
          2,
          3,
          4,
          5,
          6,
          7,
          8,
          9
         ],
         "y": [
          1.412046194076538,
          -2.6091251373291016,
          0.3536643385887146,
          1.8465018272399902,
          4.513283729553223,
          7.491527557373047,
          -7.456225395202637,
          5.948184013366699,
          -14.23822021484375
         ]
        },
        {
         "line": {
          "color": "black",
          "width": 0.5
         },
         "opacity": 0.2,
         "type": "scatter",
         "x": [
          1,
          2,
          3,
          4,
          5,
          6,
          7,
          8,
          9
         ],
         "y": [
          -14.699406623840332,
          -17.307579040527344,
          -6.424746513366699,
          -80.62709045410156,
          -4.5028533935546875,
          -34.22153091430664,
          -22.609909057617188,
          -53.21900939941406,
          -41.47555160522461
         ]
        },
        {
         "line": {
          "color": "black",
          "width": 0.5
         },
         "opacity": 0.2,
         "type": "scatter",
         "x": [
          1,
          2,
          3,
          4,
          5,
          6,
          7,
          8,
          9
         ],
         "y": [
          0.20283985137939453,
          8.37474250793457,
          -1.5362504720687866,
          10.248651504516602,
          -3.09682297706604,
          -0.43740785121917725,
          14.835018157958984,
          -3.957387924194336,
          9.279539108276367
         ]
        },
        {
         "line": {
          "color": "black",
          "width": 0.5
         },
         "opacity": 0.2,
         "type": "scatter",
         "x": [
          1,
          2,
          3,
          4,
          5,
          6,
          7,
          8,
          9
         ],
         "y": [
          17.137475967407227,
          2.1290950775146484,
          7.372486114501953,
          43.79389190673828,
          1.773481011390686,
          14.471783638000488,
          6.502426624298096,
          25.76763343811035,
          -6.926145076751709
         ]
        },
        {
         "line": {
          "color": "black",
          "width": 0.5
         },
         "opacity": 0.2,
         "type": "scatter",
         "x": [
          1,
          2,
          3,
          4,
          5,
          6,
          7,
          8,
          9
         ],
         "y": [
          3.347269058227539,
          15.54184627532959,
          0.9039843082427979,
          8.46692180633545,
          -3.119403123855591,
          -2.012331962585449,
          17.080684661865234,
          -4.224639892578125,
          33.374420166015625
         ]
        },
        {
         "line": {
          "color": "black",
          "width": 0.5
         },
         "opacity": 0.2,
         "type": "scatter",
         "x": [
          1,
          2,
          3,
          4,
          5,
          6,
          7,
          8,
          9
         ],
         "y": [
          -4.0539164543151855,
          0.31678444147109985,
          -2.047382354736328,
          0.7290539741516113,
          -4.118913173675537,
          -1.8275526762008667,
          1.8714649677276611,
          -2.5768320560455322,
          -2.3335702419281006
         ]
        },
        {
         "line": {
          "color": "black",
          "width": 0.5
         },
         "opacity": 0.2,
         "type": "scatter",
         "x": [
          1,
          2,
          3,
          4,
          5,
          6,
          7,
          8,
          9
         ],
         "y": [
          10.613910675048828,
          -6.066378593444824,
          3.915519952774048,
          27.058006286621094,
          0.5449696779251099,
          5.986490249633789,
          -5.947906494140625,
          28.510944366455078,
          -29.743032455444336
         ]
        },
        {
         "line": {
          "color": "black",
          "width": 0.5
         },
         "opacity": 0.2,
         "type": "scatter",
         "x": [
          1,
          2,
          3,
          4,
          5,
          6,
          7,
          8,
          9
         ],
         "y": [
          3.4320428371429443,
          5.342906475067139,
          2.613861560821533,
          6.74397087097168,
          -0.3955315351486206,
          0.29989081621170044,
          2.2178940773010254,
          -0.3020799160003662,
          11.777570724487305
         ]
        },
        {
         "line": {
          "color": "black",
          "width": 0.5
         },
         "opacity": 0.2,
         "type": "scatter",
         "x": [
          1,
          2,
          3,
          4,
          5,
          6,
          7,
          8,
          9
         ],
         "y": [
          12.988598823547363,
          4.9388508796691895,
          7.161600112915039,
          10.63983154296875,
          1.9049841165542603,
          -1.4243805408477783,
          7.822253227233887,
          1.8722131252288818,
          22.673372268676758
         ]
        },
        {
         "line": {
          "color": "black",
          "width": 0.5
         },
         "opacity": 0.2,
         "type": "scatter",
         "x": [
          1,
          2,
          3,
          4,
          5,
          6,
          7,
          8,
          9
         ],
         "y": [
          -5.999365329742432,
          0.4364761412143707,
          -2.31648850440979,
          -17.585424423217773,
          -1.352821707725525,
          -7.150571823120117,
          -1.1558399200439453,
          -16.729991912841797,
          -0.670395016670227
         ]
        },
        {
         "line": {
          "color": "black",
          "width": 0.5
         },
         "opacity": 0.2,
         "type": "scatter",
         "x": [
          1,
          2,
          3,
          4,
          5,
          6,
          7,
          8,
          9
         ],
         "y": [
          12.162900924682617,
          7.70447301864624,
          5.5601959228515625,
          51.75505828857422,
          4.446527481079102,
          22.904678344726562,
          8.175742149353027,
          34.71673583984375,
          0.9045519828796387
         ]
        },
        {
         "line": {
          "color": "black",
          "width": 0.5
         },
         "opacity": 0.2,
         "type": "scatter",
         "x": [
          1,
          2,
          3,
          4,
          5,
          6,
          7,
          8,
          9
         ],
         "y": [
          13.806049346923828,
          7.770054817199707,
          5.554702281951904,
          35.26112365722656,
          4.109328746795654,
          11.880943298339844,
          9.174824714660645,
          22.362476348876953,
          11.563047409057617
         ]
        },
        {
         "line": {
          "color": "black",
          "width": 0.5
         },
         "opacity": 0.2,
         "type": "scatter",
         "x": [
          1,
          2,
          3,
          4,
          5,
          6,
          7,
          8,
          9
         ],
         "y": [
          2.754058837890625,
          7.830619812011719,
          -0.284298300743103,
          18.994335174560547,
          6.6865034103393555,
          13.109169006347656,
          10.42093276977539,
          11.739723205566406,
          37.5903205871582
         ]
        },
        {
         "line": {
          "color": "black",
          "width": 0.5
         },
         "opacity": 0.2,
         "type": "scatter",
         "x": [
          1,
          2,
          3,
          4,
          5,
          6,
          7,
          8,
          9
         ],
         "y": [
          9.459894180297852,
          0.43842917680740356,
          6.036485195159912,
          15.575822830200195,
          2.2670412063598633,
          3.9605679512023926,
          -0.8807237148284912,
          11.884479522705078,
          6.3610148429870605
         ]
        },
        {
         "line": {
          "color": "black",
          "width": 0.5
         },
         "opacity": 0.2,
         "type": "scatter",
         "x": [
          1,
          2,
          3,
          4,
          5,
          6,
          7,
          8,
          9
         ],
         "y": [
          -18.284664154052734,
          -4.558026313781738,
          -5.763989448547363,
          -52.09868240356445,
          -4.882854461669922,
          -22.709117889404297,
          -10.479262351989746,
          -36.15288543701172,
          -9.303119659423828
         ]
        },
        {
         "line": {
          "color": "black",
          "width": 0.5
         },
         "opacity": 0.2,
         "type": "scatter",
         "x": [
          1,
          2,
          3,
          4,
          5,
          6,
          7,
          8,
          9
         ],
         "y": [
          8.012435913085938,
          -4.310393810272217,
          3.9122273921966553,
          7.09952449798584,
          3.8032140731811523,
          4.101010322570801,
          -3.181882619857788,
          10.010334968566895,
          -8.953230857849121
         ]
        },
        {
         "line": {
          "color": "black",
          "width": 0.5
         },
         "opacity": 0.2,
         "type": "scatter",
         "x": [
          1,
          2,
          3,
          4,
          5,
          6,
          7,
          8,
          9
         ],
         "y": [
          -3.814788818359375,
          -0.4808197021484375,
          -3.149383783340454,
          -11.767523765563965,
          -2.8576607704162598,
          -5.56035041809082,
          -2.3243792057037354,
          -5.542463302612305,
          -3.99129056930542
         ]
        },
        {
         "line": {
          "color": "black",
          "width": 0.5
         },
         "opacity": 0.2,
         "type": "scatter",
         "x": [
          1,
          2,
          3,
          4,
          5,
          6,
          7,
          8,
          9
         ],
         "y": [
          -5.284091949462891,
          -5.791849136352539,
          -1.3444151878356934,
          -24.047183990478516,
          0.5786417126655579,
          -6.434405326843262,
          -9.059280395507812,
          -9.802021980285645,
          -12.335100173950195
         ]
        },
        {
         "line": {
          "color": "black",
          "width": 0.5
         },
         "opacity": 0.2,
         "type": "scatter",
         "x": [
          1,
          2,
          3,
          4,
          5,
          6,
          7,
          8,
          9
         ],
         "y": [
          -15.954052925109863,
          -27.859298706054688,
          -4.418131351470947,
          -86.50120544433594,
          -5.141389846801758,
          -33.361671447753906,
          -33.76185607910156,
          -42.27153015136719,
          -60.846435546875
         ]
        },
        {
         "line": {
          "color": "black",
          "width": 0.5
         },
         "opacity": 0.2,
         "type": "scatter",
         "x": [
          1,
          2,
          3,
          4,
          5,
          6,
          7,
          8,
          9
         ],
         "y": [
          -27.544992446899414,
          -4.283311367034912,
          -8.004576683044434,
          -107.41546630859375,
          -0.878162145614624,
          -37.49185562133789,
          -10.287735939025879,
          -72.52145385742188,
          18.311452865600586
         ]
        },
        {
         "line": {
          "color": "black",
          "width": 0.5
         },
         "opacity": 0.2,
         "type": "scatter",
         "x": [
          1,
          2,
          3,
          4,
          5,
          6,
          7,
          8,
          9
         ],
         "y": [
          -6.011589050292969,
          -1.9510952234268188,
          -3.0485353469848633,
          -16.97049331665039,
          -0.9570345878601074,
          -6.317037582397461,
          -2.8629422187805176,
          -13.498945236206055,
          -7.205724716186523
         ]
        },
        {
         "line": {
          "color": "black",
          "width": 0.5
         },
         "opacity": 0.2,
         "type": "scatter",
         "x": [
          1,
          2,
          3,
          4,
          5,
          6,
          7,
          8,
          9
         ],
         "y": [
          0.5843384265899658,
          -3.4439380168914795,
          2.125577449798584,
          -21.168781280517578,
          -0.35432812571525574,
          -7.85189151763916,
          -6.801612854003906,
          -20.723743438720703,
          -11.076227188110352
         ]
        },
        {
         "line": {
          "color": "black",
          "width": 0.5
         },
         "opacity": 0.2,
         "type": "scatter",
         "x": [
          1,
          2,
          3,
          4,
          5,
          6,
          7,
          8,
          9
         ],
         "y": [
          -23.460092544555664,
          -11.78535270690918,
          -9.14638900756836,
          -43.84303283691406,
          -6.29677152633667,
          -12.30125904083252,
          -14.130510330200195,
          -19.176015853881836,
          -27.541521072387695
         ]
        },
        {
         "line": {
          "color": "black",
          "width": 0.5
         },
         "opacity": 0.2,
         "type": "scatter",
         "x": [
          1,
          2,
          3,
          4,
          5,
          6,
          7,
          8,
          9
         ],
         "y": [
          -15.051224708557129,
          28.153884887695312,
          -11.49179744720459,
          39.92068862915039,
          -4.291690826416016,
          16.96725082397461,
          34.64943313598633,
          -4.635207176208496,
          51.75804901123047
         ]
        },
        {
         "line": {
          "color": "black",
          "width": 0.5
         },
         "opacity": 0.2,
         "type": "scatter",
         "x": [
          1,
          2,
          3,
          4,
          5,
          6,
          7,
          8,
          9
         ],
         "y": [
          1.4755369424819946,
          -0.08001011610031128,
          -1.4494948387145996,
          0.955500602722168,
          -0.305905818939209,
          3.0512900352478027,
          -0.13502860069274902,
          -0.29006338119506836,
          -3.581599473953247
         ]
        },
        {
         "line": {
          "color": "black",
          "width": 0.5
         },
         "opacity": 0.2,
         "type": "scatter",
         "x": [
          1,
          2,
          3,
          4,
          5,
          6,
          7,
          8,
          9
         ],
         "y": [
          -8.925613403320312,
          -16.0111083984375,
          -2.855350971221924,
          -57.60771179199219,
          -8.149787902832031,
          -29.73033905029297,
          -18.921829223632812,
          -37.77473831176758,
          -34.22995376586914
         ]
        },
        {
         "line": {
          "color": "black",
          "width": 0.5
         },
         "opacity": 0.2,
         "type": "scatter",
         "x": [
          1,
          2,
          3,
          4,
          5,
          6,
          7,
          8,
          9
         ],
         "y": [
          -10.243127822875977,
          26.340742111206055,
          -7.728491306304932,
          18.825782775878906,
          -0.5276236534118652,
          7.350635051727295,
          32.961219787597656,
          -11.280211448669434,
          69.75080871582031
         ]
        },
        {
         "line": {
          "color": "black",
          "width": 0.5
         },
         "opacity": 0.2,
         "type": "scatter",
         "x": [
          1,
          2,
          3,
          4,
          5,
          6,
          7,
          8,
          9
         ],
         "y": [
          15.314713478088379,
          8.478204727172852,
          11.160987854003906,
          37.170387268066406,
          4.810506820678711,
          10.274742126464844,
          8.780341148376465,
          25.522289276123047,
          18.185068130493164
         ]
        },
        {
         "line": {
          "color": "black",
          "width": 0.5
         },
         "opacity": 0.2,
         "type": "scatter",
         "x": [
          1,
          2,
          3,
          4,
          5,
          6,
          7,
          8,
          9
         ],
         "y": [
          11.498661041259766,
          12.400472640991211,
          4.0622239112854,
          46.92095184326172,
          2.7721211910247803,
          16.618934631347656,
          16.83523941040039,
          24.34003448486328,
          26.854209899902344
         ]
        },
        {
         "line": {
          "color": "black",
          "width": 0.5
         },
         "opacity": 0.2,
         "type": "scatter",
         "x": [
          1,
          2,
          3,
          4,
          5,
          6,
          7,
          8,
          9
         ],
         "y": [
          -2.1095845699310303,
          -0.46884477138519287,
          0.7781781554222107,
          -1.748703956604004,
          -2.784759759902954,
          -0.8014488220214844,
          0.11142420768737793,
          0.9890894889831543,
          -2.2498741149902344
         ]
        },
        {
         "line": {
          "color": "black",
          "width": 0.5
         },
         "opacity": 0.2,
         "type": "scatter",
         "x": [
          1,
          2,
          3,
          4,
          5,
          6,
          7,
          8,
          9
         ],
         "y": [
          3.620497941970825,
          -13.995357513427734,
          -1.344063639640808,
          -9.482269287109375,
          -3.3089332580566406,
          -7.163657188415527,
          -7.550773620605469,
          -0.5793514251708984,
          -29.481473922729492
         ]
        },
        {
         "line": {
          "color": "black",
          "width": 0.5
         },
         "opacity": 0.2,
         "type": "scatter",
         "x": [
          1,
          2,
          3,
          4,
          5,
          6,
          7,
          8,
          9
         ],
         "y": [
          -23.328205108642578,
          -2.536670207977295,
          -10.685035705566406,
          -44.26674270629883,
          -7.849002838134766,
          -16.175758361816406,
          -8.599807739257812,
          -32.824798583984375,
          -22.315410614013672
         ]
        },
        {
         "line": {
          "color": "black",
          "width": 0.5
         },
         "opacity": 0.2,
         "type": "scatter",
         "x": [
          1,
          2,
          3,
          4,
          5,
          6,
          7,
          8,
          9
         ],
         "y": [
          27.0665283203125,
          -4.771991729736328,
          17.42656135559082,
          75.31433868408203,
          13.707083702087402,
          38.85321044921875,
          -13.434562683105469,
          74.86970520019531,
          -36.804725646972656
         ]
        },
        {
         "line": {
          "color": "black",
          "width": 0.5
         },
         "opacity": 0.2,
         "type": "scatter",
         "x": [
          1,
          2,
          3,
          4,
          5,
          6,
          7,
          8,
          9
         ],
         "y": [
          -1.4136303663253784,
          16.646747589111328,
          -1.4202136993408203,
          14.58788013458252,
          -2.1061768531799316,
          0.6094087362289429,
          20.944669723510742,
          -9.04383373260498,
          37.64324951171875
         ]
        },
        {
         "line": {
          "color": "black",
          "width": 0.5
         },
         "opacity": 0.2,
         "type": "scatter",
         "x": [
          1,
          2,
          3,
          4,
          5,
          6,
          7,
          8,
          9
         ],
         "y": [
          -4.566048622131348,
          1.9679181575775146,
          -2.7734947204589844,
          -1.7308626174926758,
          -1.6911782026290894,
          -1.669292688369751,
          0.9144885540008545,
          -3.6661720275878906,
          -1.3290083408355713
         ]
        },
        {
         "line": {
          "color": "black",
          "width": 0.5
         },
         "opacity": 0.2,
         "type": "scatter",
         "x": [
          1,
          2,
          3,
          4,
          5,
          6,
          7,
          8,
          9
         ],
         "y": [
          33.458984375,
          -0.9774032831192017,
          16.701332092285156,
          66.51536560058594,
          9.626791000366211,
          25.37161636352539,
          2.877963066101074,
          59.233604431152344,
          -7.323117256164551
         ]
        },
        {
         "line": {
          "color": "black",
          "width": 0.5
         },
         "opacity": 0.2,
         "type": "scatter",
         "x": [
          1,
          2,
          3,
          4,
          5,
          6,
          7,
          8,
          9
         ],
         "y": [
          1.3483750820159912,
          -5.6799516677856445,
          -0.1571582853794098,
          -0.3814835548400879,
          -1.692265510559082,
          -0.06341123580932617,
          -6.818173408508301,
          4.941023826599121,
          -14.289230346679688
         ]
        },
        {
         "line": {
          "color": "black",
          "width": 0.5
         },
         "opacity": 0.2,
         "type": "scatter",
         "x": [
          1,
          2,
          3,
          4,
          5,
          6,
          7,
          8,
          9
         ],
         "y": [
          5.899838447570801,
          -11.289591789245605,
          5.847434997558594,
          -17.602432250976562,
          0.4430176019668579,
          -8.568870544433594,
          -10.354476928710938,
          -3.6699533462524414,
          -23.826189041137695
         ]
        },
        {
         "line": {
          "color": "black",
          "width": 0.5
         },
         "opacity": 0.2,
         "type": "scatter",
         "x": [
          1,
          2,
          3,
          4,
          5,
          6,
          7,
          8,
          9
         ],
         "y": [
          8.747048377990723,
          -9.933330535888672,
          4.90509557723999,
          -2.1737866401672363,
          1.7305502891540527,
          -0.3099313974380493,
          -13.200874328613281,
          6.547680854797363,
          -29.315555572509766
         ]
        },
        {
         "line": {
          "color": "black",
          "width": 0.5
         },
         "opacity": 0.2,
         "type": "scatter",
         "x": [
          1,
          2,
          3,
          4,
          5,
          6,
          7,
          8,
          9
         ],
         "y": [
          -40.124542236328125,
          -18.663822174072266,
          -17.47735595703125,
          -120.403564453125,
          -9.787890434265137,
          -43.40270233154297,
          -22.244972229003906,
          -74.87208557128906,
          -16.377962112426758
         ]
        },
        {
         "line": {
          "color": "black",
          "width": 0.5
         },
         "opacity": 0.2,
         "type": "scatter",
         "x": [
          1,
          2,
          3,
          4,
          5,
          6,
          7,
          8,
          9
         ],
         "y": [
          6.365832328796387,
          6.721157073974609,
          1.114503026008606,
          26.760080337524414,
          0.802230179309845,
          9.607194900512695,
          9.699190139770508,
          16.201128005981445,
          8.291891098022461
         ]
        },
        {
         "line": {
          "color": "black",
          "width": 0.5
         },
         "opacity": 0.2,
         "type": "scatter",
         "x": [
          1,
          2,
          3,
          4,
          5,
          6,
          7,
          8,
          9
         ],
         "y": [
          0.7969120144844055,
          2.4458045959472656,
          -0.6018691658973694,
          10.240316390991211,
          0.7671411037445068,
          5.074760913848877,
          3.0593128204345703,
          6.208045959472656,
          8.333105087280273
         ]
        },
        {
         "line": {
          "color": "black",
          "width": 0.5
         },
         "opacity": 0.2,
         "type": "scatter",
         "x": [
          1,
          2,
          3,
          4,
          5,
          6,
          7,
          8,
          9
         ],
         "y": [
          1.6152678728103638,
          -0.312055766582489,
          0.7428668141365051,
          2.0908496379852295,
          1.0828896760940552,
          1.2407021522521973,
          -0.8857545256614685,
          2.886030673980713,
          -2.920212745666504
         ]
        },
        {
         "line": {
          "color": "black",
          "width": 0.5
         },
         "opacity": 0.2,
         "type": "scatter",
         "x": [
          1,
          2,
          3,
          4,
          5,
          6,
          7,
          8,
          9
         ],
         "y": [
          -19.574480056762695,
          7.100535869598389,
          -8.071036338806152,
          -33.28169631958008,
          -2.5478110313415527,
          -9.3624267578125,
          1.3101615905761719,
          -31.973552703857422,
          19.42249298095703
         ]
        },
        {
         "line": {
          "color": "black",
          "width": 0.5
         },
         "opacity": 0.2,
         "type": "scatter",
         "x": [
          1,
          2,
          3,
          4,
          5,
          6,
          7,
          8,
          9
         ],
         "y": [
          7.576764106750488,
          -13.076091766357422,
          0.5819422006607056,
          -7.797796249389648,
          -3.7751686573028564,
          -9.08330249786377,
          -8.747138977050781,
          9.866266250610352,
          -41.12678527832031
         ]
        },
        {
         "line": {
          "color": "black",
          "width": 0.5
         },
         "opacity": 0.2,
         "type": "scatter",
         "x": [
          1,
          2,
          3,
          4,
          5,
          6,
          7,
          8,
          9
         ],
         "y": [
          21.86981201171875,
          11.012303352355957,
          8.9116792678833,
          66.31930541992188,
          6.77869987487793,
          21.410676956176758,
          11.95193099975586,
          35.144691467285156,
          13.098237991333008
         ]
        },
        {
         "line": {
          "color": "black",
          "width": 0.5
         },
         "opacity": 0.2,
         "type": "scatter",
         "x": [
          1,
          2,
          3,
          4,
          5,
          6,
          7,
          8,
          9
         ],
         "y": [
          10.110701560974121,
          7.438943862915039,
          6.92341947555542,
          58.93555450439453,
          4.445500373840332,
          25.402240753173828,
          6.870701313018799,
          40.605045318603516,
          10.275150299072266
         ]
        },
        {
         "line": {
          "color": "black",
          "width": 0.5
         },
         "opacity": 0.2,
         "type": "scatter",
         "x": [
          1,
          2,
          3,
          4,
          5,
          6,
          7,
          8,
          9
         ],
         "y": [
          0.10099488496780396,
          -0.06912702322006226,
          0.006802812218666077,
          -1.1885584592819214,
          -0.6099873185157776,
          -1.0613019466400146,
          0.6587833166122437,
          -0.39031630754470825,
          2.6138834953308105
         ]
        },
        {
         "line": {
          "color": "black",
          "width": 0.5
         },
         "opacity": 0.2,
         "type": "scatter",
         "x": [
          1,
          2,
          3,
          4,
          5,
          6,
          7,
          8,
          9
         ],
         "y": [
          -10.180222511291504,
          -10.651199340820312,
          -4.370565891265869,
          -61.32044982910156,
          -0.15199130773544312,
          -20.49698257446289,
          -5.824885845184326,
          -47.26983642578125,
          6.598793029785156
         ]
        },
        {
         "line": {
          "color": "black",
          "width": 0.5
         },
         "opacity": 0.2,
         "type": "scatter",
         "x": [
          1,
          2,
          3,
          4,
          5,
          6,
          7,
          8,
          9
         ],
         "y": [
          -11.527570724487305,
          -4.697160720825195,
          -6.06879997253418,
          -35.84109878540039,
          -1.1771211624145508,
          -10.17121696472168,
          -10.584664344787598,
          -17.511127471923828,
          -8.966724395751953
         ]
        },
        {
         "line": {
          "color": "black",
          "width": 0.5
         },
         "opacity": 0.2,
         "type": "scatter",
         "x": [
          1,
          2,
          3,
          4,
          5,
          6,
          7,
          8,
          9
         ],
         "y": [
          0.7273093461990356,
          -0.017039060592651367,
          -0.1910170316696167,
          -2.7383875846862793,
          -0.03247547149658203,
          -2.5305798053741455,
          3.5582308769226074,
          -3.476004123687744,
          0.3040691614151001
         ]
        },
        {
         "line": {
          "color": "black",
          "width": 0.5
         },
         "opacity": 0.2,
         "type": "scatter",
         "x": [
          1,
          2,
          3,
          4,
          5,
          6,
          7,
          8,
          9
         ],
         "y": [
          -21.74869155883789,
          -6.955342769622803,
          -9.458465576171875,
          -31.016250610351562,
          -7.187582015991211,
          -8.4905366897583,
          -15.001830101013184,
          -9.113191604614258,
          -35.65798568725586
         ]
        },
        {
         "line": {
          "color": "black",
          "width": 0.5
         },
         "opacity": 0.2,
         "type": "scatter",
         "x": [
          1,
          2,
          3,
          4,
          5,
          6,
          7,
          8,
          9
         ],
         "y": [
          4.323582649230957,
          8.929362297058105,
          3.181166410446167,
          28.14643096923828,
          1.6125849485397339,
          9.288259506225586,
          3.9651949405670166,
          19.10234832763672,
          -1.5973999500274658
         ]
        },
        {
         "line": {
          "color": "black",
          "width": 0.5
         },
         "opacity": 0.2,
         "type": "scatter",
         "x": [
          1,
          2,
          3,
          4,
          5,
          6,
          7,
          8,
          9
         ],
         "y": [
          -19.131303787231445,
          6.286951065063477,
          -6.683112621307373,
          -41.7518196105957,
          -7.63075590133667,
          -24.34984588623047,
          4.672920227050781,
          -49.707576751708984,
          -10.275630950927734
         ]
        },
        {
         "line": {
          "color": "black",
          "width": 0.5
         },
         "opacity": 0.2,
         "type": "scatter",
         "x": [
          1,
          2,
          3,
          4,
          5,
          6,
          7,
          8,
          9
         ],
         "y": [
          8.219481468200684,
          21.135536193847656,
          -2.5276200771331787,
          84.94588470458984,
          7.642576217651367,
          42.87864685058594,
          22.97149658203125,
          50.128623962402344,
          5.414795875549316
         ]
        },
        {
         "line": {
          "color": "black",
          "width": 0.5
         },
         "opacity": 0.2,
         "type": "scatter",
         "x": [
          1,
          2,
          3,
          4,
          5,
          6,
          7,
          8,
          9
         ],
         "y": [
          -2.213224411010742,
          0.9629242420196533,
          -1.0048474073410034,
          -3.1875429153442383,
          -0.5608468055725098,
          -1.915482997894287,
          0.2598832845687866,
          -4.2137956619262695,
          2.003260612487793
         ]
        },
        {
         "line": {
          "color": "black",
          "width": 0.5
         },
         "opacity": 0.2,
         "type": "scatter",
         "x": [
          1,
          2,
          3,
          4,
          5,
          6,
          7,
          8,
          9
         ],
         "y": [
          -6.72994327545166,
          5.867620944976807,
          -1.7524701356887817,
          3.175877809524536,
          -1.4480973482131958,
          1.0443990230560303,
          6.575678825378418,
          -1.706266164779663,
          17.7371826171875
         ]
        },
        {
         "line": {
          "color": "black",
          "width": 0.5
         },
         "opacity": 0.2,
         "type": "scatter",
         "x": [
          1,
          2,
          3,
          4,
          5,
          6,
          7,
          8,
          9
         ],
         "y": [
          -34.03553771972656,
          -6.858290672302246,
          -10.357732772827148,
          -116.47389221191406,
          -12.407094955444336,
          -52.348819732666016,
          -7.284873962402344,
          -91.6811752319336,
          2.9383492469787598
         ]
        },
        {
         "line": {
          "color": "black",
          "width": 0.5
         },
         "opacity": 0.2,
         "type": "scatter",
         "x": [
          1,
          2,
          3,
          4,
          5,
          6,
          7,
          8,
          9
         ],
         "y": [
          -2.129181146621704,
          1.30903959274292,
          -1.1443679332733154,
          3.5116357803344727,
          1.3861253261566162,
          5.119624137878418,
          1.283119559288025,
          0.9993500709533691,
          10.775235176086426
         ]
        },
        {
         "line": {
          "color": "black",
          "width": 0.5
         },
         "opacity": 0.2,
         "type": "scatter",
         "x": [
          1,
          2,
          3,
          4,
          5,
          6,
          7,
          8,
          9
         ],
         "y": [
          4.184144020080566,
          12.954326629638672,
          -0.10877105593681335,
          50.049739837646484,
          6.2106218338012695,
          26.708595275878906,
          9.7680082321167,
          35.239559173583984,
          28.262535095214844
         ]
        },
        {
         "line": {
          "color": "black",
          "width": 0.5
         },
         "opacity": 0.2,
         "type": "scatter",
         "x": [
          1,
          2,
          3,
          4,
          5,
          6,
          7,
          8,
          9
         ],
         "y": [
          5.370208740234375,
          -3.9091405868530273,
          -1.5817797183990479,
          26.182409286499023,
          -2.2789788246154785,
          4.110013961791992,
          1.4575166702270508,
          31.747238159179688,
          -9.265111923217773
         ]
        },
        {
         "line": {
          "color": "black",
          "width": 0.5
         },
         "opacity": 0.2,
         "type": "scatter",
         "x": [
          1,
          2,
          3,
          4,
          5,
          6,
          7,
          8,
          9
         ],
         "y": [
          4.329220771789551,
          -4.170365810394287,
          -0.269977331161499,
          5.327336311340332,
          3.9678187370300293,
          5.6060380935668945,
          -6.470783233642578,
          13.21170425415039,
          -10.800354957580566
         ]
        },
        {
         "line": {
          "color": "black",
          "width": 0.5
         },
         "opacity": 0.2,
         "type": "scatter",
         "x": [
          1,
          2,
          3,
          4,
          5,
          6,
          7,
          8,
          9
         ],
         "y": [
          3.679677963256836,
          0.5543878078460693,
          -2.106400966644287,
          4.980925559997559,
          0.6734448671340942,
          5.590372085571289,
          3.9743785858154297,
          4.031212329864502,
          7.861975193023682
         ]
        },
        {
         "line": {
          "color": "black",
          "width": 0.5
         },
         "opacity": 0.2,
         "type": "scatter",
         "x": [
          1,
          2,
          3,
          4,
          5,
          6,
          7,
          8,
          9
         ],
         "y": [
          -4.796421051025391,
          1.1498284339904785,
          -8.613916397094727,
          -10.612069129943848,
          -0.5664811730384827,
          -4.191226959228516,
          2.440467596054077,
          -6.168973922729492,
          -5.275852203369141
         ]
        },
        {
         "line": {
          "color": "black",
          "width": 0.5
         },
         "opacity": 0.2,
         "type": "scatter",
         "x": [
          1,
          2,
          3,
          4,
          5,
          6,
          7,
          8,
          9
         ],
         "y": [
          1.1747665405273438,
          -0.6097397804260254,
          -1.3725966215133667,
          11.738581657409668,
          1.7657328844070435,
          8.135282516479492,
          -1.458450436592102,
          9.33155345916748,
          -8.264668464660645
         ]
        },
        {
         "line": {
          "color": "black",
          "width": 0.5
         },
         "opacity": 0.2,
         "type": "scatter",
         "x": [
          1,
          2,
          3,
          4,
          5,
          6,
          7,
          8,
          9
         ],
         "y": [
          16.58196449279785,
          12.337223052978516,
          7.781444549560547,
          45.739234924316406,
          4.316889762878418,
          14.313902854919434,
          18.60323143005371,
          23.67489242553711,
          31.59381675720215
         ]
        },
        {
         "line": {
          "color": "black",
          "width": 0.5
         },
         "opacity": 0.2,
         "type": "scatter",
         "x": [
          1,
          2,
          3,
          4,
          5,
          6,
          7,
          8,
          9
         ],
         "y": [
          -0.924825131893158,
          0.24947868287563324,
          0.03128236532211304,
          -2.4955573081970215,
          -0.4829576313495636,
          -0.8095322251319885,
          0.4127439260482788,
          -1.974111557006836,
          0.6990864872932434
         ]
        },
        {
         "line": {
          "color": "black",
          "width": 0.5
         },
         "opacity": 0.2,
         "type": "scatter",
         "x": [
          1,
          2,
          3,
          4,
          5,
          6,
          7,
          8,
          9
         ],
         "y": [
          -6.117684364318848,
          -1.8850892782211304,
          -1.9488749504089355,
          -19.461048126220703,
          -1.2583421468734741,
          -7.656747817993164,
          -3.1921777725219727,
          -15.431756019592285,
          0.5182148814201355
         ]
        },
        {
         "line": {
          "color": "black",
          "width": 0.5
         },
         "opacity": 0.2,
         "type": "scatter",
         "x": [
          1,
          2,
          3,
          4,
          5,
          6,
          7,
          8,
          9
         ],
         "y": [
          -13.25239372253418,
          -3.0848050117492676,
          -2.3313424587249756,
          -24.1387882232666,
          -3.0964629650115967,
          -9.058635711669922,
          -6.276413917541504,
          -19.243606567382812,
          -13.461339950561523
         ]
        },
        {
         "line": {
          "color": "black",
          "width": 0.5
         },
         "opacity": 0.2,
         "type": "scatter",
         "x": [
          1,
          2,
          3,
          4,
          5,
          6,
          7,
          8,
          9
         ],
         "y": [
          0.8928691148757935,
          2.198953866958618,
          -0.38627105951309204,
          5.890735626220703,
          -0.23118606209754944,
          1.7327637672424316,
          3.755512237548828,
          0.02176046371459961,
          5.786535263061523
         ]
        },
        {
         "line": {
          "color": "black",
          "width": 0.5
         },
         "opacity": 0.2,
         "type": "scatter",
         "x": [
          1,
          2,
          3,
          4,
          5,
          6,
          7,
          8,
          9
         ],
         "y": [
          -5.85178804397583,
          -9.893752098083496,
          -7.873871803283691,
          -17.76952362060547,
          0.10254740715026855,
          -2.448615550994873,
          -11.710419654846191,
          -5.717006683349609,
          -37.8616828918457
         ]
        },
        {
         "line": {
          "color": "black",
          "width": 0.5
         },
         "opacity": 0.2,
         "type": "scatter",
         "x": [
          1,
          2,
          3,
          4,
          5,
          6,
          7,
          8,
          9
         ],
         "y": [
          12.035482406616211,
          -3.422482490539551,
          7.677126884460449,
          34.246585845947266,
          5.124467849731445,
          14.306465148925781,
          -5.948725700378418,
          27.214691162109375,
          -17.31531524658203
         ]
        },
        {
         "line": {
          "color": "black",
          "width": 0.5
         },
         "opacity": 0.2,
         "type": "scatter",
         "x": [
          1,
          2,
          3,
          4,
          5,
          6,
          7,
          8,
          9
         ],
         "y": [
          0.5567275285720825,
          -6.966918468475342,
          0.6113101840019226,
          -3.7545688152313232,
          0.24858218431472778,
          -0.11522424221038818,
          -7.988553047180176,
          6.136054039001465,
          -20.024038314819336
         ]
        },
        {
         "line": {
          "color": "black",
          "width": 0.5
         },
         "opacity": 0.2,
         "type": "scatter",
         "x": [
          1,
          2,
          3,
          4,
          5,
          6,
          7,
          8,
          9
         ],
         "y": [
          0.49324098229408264,
          -1.1927952766418457,
          0.16506968438625336,
          0.46747007966041565,
          0.2994040846824646,
          0.32409220933914185,
          -1.4831393957138062,
          1.8565610647201538,
          -2.8182764053344727
         ]
        },
        {
         "line": {
          "color": "black",
          "width": 0.5
         },
         "opacity": 0.2,
         "type": "scatter",
         "x": [
          1,
          2,
          3,
          4,
          5,
          6,
          7,
          8,
          9
         ],
         "y": [
          11.157201766967773,
          -7.2593231201171875,
          3.7841830253601074,
          20.114023208618164,
          1.396902322769165,
          8.968977928161621,
          -0.8091413974761963,
          25.187524795532227,
          -22.882766723632812
         ]
        },
        {
         "line": {
          "color": "black",
          "width": 0.5
         },
         "opacity": 0.2,
         "type": "scatter",
         "x": [
          1,
          2,
          3,
          4,
          5,
          6,
          7,
          8,
          9
         ],
         "y": [
          7.759248733520508,
          3.349666118621826,
          4.342062473297119,
          16.87651824951172,
          -1.6338322162628174,
          3.184866428375244,
          6.721560955047607,
          14.599491119384766,
          14.907360076904297
         ]
        },
        {
         "line": {
          "color": "black",
          "width": 0.5
         },
         "opacity": 0.2,
         "type": "scatter",
         "x": [
          1,
          2,
          3,
          4,
          5,
          6,
          7,
          8,
          9
         ],
         "y": [
          -2.6251800060272217,
          9.407459259033203,
          0.8518475890159607,
          -4.796123504638672,
          2.8303892612457275,
          -1.3860681056976318,
          2.787316083908081,
          -11.596895217895508,
          15.34186840057373
         ]
        },
        {
         "line": {
          "color": "black",
          "width": 0.5
         },
         "opacity": 0.2,
         "type": "scatter",
         "x": [
          1,
          2,
          3,
          4,
          5,
          6,
          7,
          8,
          9
         ],
         "y": [
          15.79878044128418,
          9.935914993286133,
          5.5084943771362305,
          42.49180603027344,
          4.439170837402344,
          10.944008827209473,
          9.44382381439209,
          21.24518394470215,
          14.21760368347168
         ]
        },
        {
         "line": {
          "color": "black",
          "width": 0.5
         },
         "opacity": 0.2,
         "type": "scatter",
         "x": [
          1,
          2,
          3,
          4,
          5,
          6,
          7,
          8,
          9
         ],
         "y": [
          12.689395904541016,
          -15.814764976501465,
          9.594300270080566,
          -25.39495086669922,
          4.384277820587158,
          -13.787464141845703,
          -16.796207427978516,
          6.163864612579346,
          -8.257109642028809
         ]
        },
        {
         "line": {
          "color": "black",
          "width": 0.5
         },
         "opacity": 0.2,
         "type": "scatter",
         "x": [
          1,
          2,
          3,
          4,
          5,
          6,
          7,
          8,
          9
         ],
         "y": [
          -15.752520561218262,
          1.8145252466201782,
          -7.080199718475342,
          -8.933897018432617,
          -2.63921856880188,
          2.819392681121826,
          6.207359790802002,
          -14.73526668548584,
          10.699865341186523
         ]
        },
        {
         "line": {
          "color": "black",
          "width": 0.5
         },
         "opacity": 0.2,
         "type": "scatter",
         "x": [
          1,
          2,
          3,
          4,
          5,
          6,
          7,
          8,
          9
         ],
         "y": [
          -11.386514663696289,
          -2.792729377746582,
          -4.1379008293151855,
          -31.820032119750977,
          -1.3349424600601196,
          -10.269882202148438,
          -2.120654582977295,
          -23.348278045654297,
          7.986793518066406
         ]
        },
        {
         "line": {
          "color": "black",
          "width": 0.5
         },
         "opacity": 0.2,
         "type": "scatter",
         "x": [
          1,
          2,
          3,
          4,
          5,
          6,
          7,
          8,
          9
         ],
         "y": [
          -18.10344123840332,
          -2.711040735244751,
          -7.102829456329346,
          -48.700653076171875,
          -6.09953498840332,
          -20.24229621887207,
          -6.245875358581543,
          -39.66654968261719,
          -5.586009979248047
         ]
        },
        {
         "line": {
          "color": "black",
          "width": 0.5
         },
         "opacity": 0.2,
         "type": "scatter",
         "x": [
          1,
          2,
          3,
          4,
          5,
          6,
          7,
          8,
          9
         ],
         "y": [
          -8.884318351745605,
          -5.629731178283691,
          -4.533980846405029,
          -30.582332611083984,
          -3.275282859802246,
          -12.508000373840332,
          -10.949033737182617,
          -19.34821128845215,
          -15.139974594116211
         ]
        },
        {
         "line": {
          "color": "black",
          "width": 0.5
         },
         "opacity": 0.2,
         "type": "scatter",
         "x": [
          1,
          2,
          3,
          4,
          5,
          6,
          7,
          8,
          9
         ],
         "y": [
          6.4657111167907715,
          -20.00899314880371,
          2.785839557647705,
          -16.072580337524414,
          -0.809777021408081,
          -6.489535331726074,
          -16.601797103881836,
          5.339084148406982,
          -58.93728256225586
         ]
        },
        {
         "line": {
          "color": "black",
          "width": 0.5
         },
         "opacity": 0.2,
         "type": "scatter",
         "x": [
          1,
          2,
          3,
          4,
          5,
          6,
          7,
          8,
          9
         ],
         "y": [
          -5.275589942932129,
          -0.789440393447876,
          -3.8744699954986572,
          -5.117732048034668,
          -3.7099521160125732,
          -3.63759183883667,
          1.947631597518921,
          -2.7787303924560547,
          2.723053216934204
         ]
        },
        {
         "line": {
          "color": "black",
          "width": 0.5
         },
         "opacity": 0.2,
         "type": "scatter",
         "x": [
          1,
          2,
          3,
          4,
          5,
          6,
          7,
          8,
          9
         ],
         "y": [
          3.667442560195923,
          -3.203713893890381,
          0.5621912479400635,
          -1.378389596939087,
          0.5185015201568604,
          -0.5309745073318481,
          -6.5322794914245605,
          0.754819929599762,
          -10.34389591217041
         ]
        },
        {
         "line": {
          "color": "black",
          "width": 0.5
         },
         "opacity": 0.2,
         "type": "scatter",
         "x": [
          1,
          2,
          3,
          4,
          5,
          6,
          7,
          8,
          9
         ],
         "y": [
          10.20714282989502,
          -1.6116955280303955,
          4.269478797912598,
          7.2772216796875,
          0.22703605890274048,
          -0.39349365234375,
          -2.7990548610687256,
          8.287687301635742,
          -10.643754959106445
         ]
        },
        {
         "line": {
          "color": "black",
          "width": 0.5
         },
         "opacity": 0.2,
         "type": "scatter",
         "x": [
          1,
          2,
          3,
          4,
          5,
          6,
          7,
          8,
          9
         ],
         "y": [
          -3.2568154335021973,
          -3.4551198482513428,
          -0.8429064750671387,
          -0.11043620109558105,
          1.0706532001495361,
          4.974066734313965,
          -4.360343933105469,
          7.14488410949707,
          -4.607046604156494
         ]
        },
        {
         "line": {
          "color": "black",
          "width": 0.5
         },
         "opacity": 0.2,
         "type": "scatter",
         "x": [
          1,
          2,
          3,
          4,
          5,
          6,
          7,
          8,
          9
         ],
         "y": [
          5.445528984069824,
          6.291940689086914,
          2.4087300300598145,
          19.181081771850586,
          1.07735013961792,
          5.337348937988281,
          9.10223388671875,
          8.669561386108398,
          15.308256149291992
         ]
        },
        {
         "line": {
          "color": "black",
          "width": 0.5
         },
         "opacity": 0.2,
         "type": "scatter",
         "x": [
          1,
          2,
          3,
          4,
          5,
          6,
          7,
          8,
          9
         ],
         "y": [
          0.09780669212341309,
          -7.0364298820495605,
          4.430063724517822,
          -20.101070404052734,
          -3.443779945373535,
          -8.82185173034668,
          -9.234846115112305,
          -7.514852523803711,
          -6.41595983505249
         ]
        },
        {
         "line": {
          "color": "black",
          "width": 0.5
         },
         "opacity": 0.2,
         "type": "scatter",
         "x": [
          1,
          2,
          3,
          4,
          5,
          6,
          7,
          8,
          9
         ],
         "y": [
          18.711109161376953,
          7.340827941894531,
          8.351293563842773,
          45.060890197753906,
          3.7957534790039062,
          10.636340141296387,
          12.973734855651855,
          27.772422790527344,
          7.5616559982299805
         ]
        },
        {
         "line": {
          "color": "black",
          "width": 0.5
         },
         "opacity": 0.2,
         "type": "scatter",
         "x": [
          1,
          2,
          3,
          4,
          5,
          6,
          7,
          8,
          9
         ],
         "y": [
          0.9336066246032715,
          4.343876361846924,
          -0.14250892400741577,
          10.985007286071777,
          2.2099175453186035,
          6.201886177062988,
          6.036271095275879,
          8.381545066833496,
          8.611614227294922
         ]
        },
        {
         "line": {
          "color": "black",
          "width": 0.5
         },
         "opacity": 0.2,
         "type": "scatter",
         "x": [
          1,
          2,
          3,
          4,
          5,
          6,
          7,
          8,
          9
         ],
         "y": [
          -3.0129494667053223,
          -2.556049108505249,
          -0.179679274559021,
          -6.6990814208984375,
          -1.0140782594680786,
          -1.2680654525756836,
          -2.5802266597747803,
          -3.5652642250061035,
          -10.395889282226562
         ]
        },
        {
         "line": {
          "color": "black",
          "width": 0.5
         },
         "opacity": 0.2,
         "type": "scatter",
         "x": [
          1,
          2,
          3,
          4,
          5,
          6,
          7,
          8,
          9
         ],
         "y": [
          6.455816268920898,
          -17.891571044921875,
          6.989594459533691,
          -26.64508056640625,
          2.3955836296081543,
          -5.707505226135254,
          -21.792387008666992,
          -0.5749902725219727,
          -31.00305938720703
         ]
        },
        {
         "line": {
          "color": "black",
          "width": 0.5
         },
         "opacity": 0.2,
         "type": "scatter",
         "x": [
          1,
          2,
          3,
          4,
          5,
          6,
          7,
          8,
          9
         ],
         "y": [
          12.055923461914062,
          -9.326590538024902,
          1.9895228147506714,
          28.032936096191406,
          4.260043144226074,
          11.627680778503418,
          -6.2528510093688965,
          32.546607971191406,
          -29.550918579101562
         ]
        },
        {
         "line": {
          "color": "black",
          "width": 0.5
         },
         "opacity": 0.2,
         "type": "scatter",
         "x": [
          1,
          2,
          3,
          4,
          5,
          6,
          7,
          8,
          9
         ],
         "y": [
          -13.054473876953125,
          -7.54496955871582,
          -9.974353790283203,
          -18.932147979736328,
          -4.558151721954346,
          -5.592700958251953,
          -12.813023567199707,
          -10.379834175109863,
          -31.67793083190918
         ]
        },
        {
         "line": {
          "color": "black",
          "width": 0.5
         },
         "opacity": 0.2,
         "type": "scatter",
         "x": [
          1,
          2,
          3,
          4,
          5,
          6,
          7,
          8,
          9
         ],
         "y": [
          -20.682666778564453,
          22.53224754333496,
          -9.379700660705566,
          -15.25193977355957,
          -5.843317031860352,
          -3.1498589515686035,
          34.821205139160156,
          -36.182376861572266,
          88.4482192993164
         ]
        },
        {
         "line": {
          "color": "black",
          "width": 0.5
         },
         "opacity": 0.2,
         "type": "scatter",
         "x": [
          1,
          2,
          3,
          4,
          5,
          6,
          7,
          8,
          9
         ],
         "y": [
          -6.547755241394043,
          27.44441032409668,
          -3.5135111808776855,
          28.43722915649414,
          -1.047730803489685,
          8.913281440734863,
          32.544342041015625,
          -6.882603645324707,
          76.76844024658203
         ]
        },
        {
         "line": {
          "color": "black",
          "width": 0.5
         },
         "opacity": 0.2,
         "type": "scatter",
         "x": [
          1,
          2,
          3,
          4,
          5,
          6,
          7,
          8,
          9
         ],
         "y": [
          4.257206916809082,
          0.5346403121948242,
          1.8621174097061157,
          6.758331298828125,
          2.0109341144561768,
          4.735828399658203,
          1.1632475852966309,
          5.1831865310668945,
          3.473494529724121
         ]
        },
        {
         "line": {
          "color": "black",
          "width": 0.5
         },
         "opacity": 0.2,
         "type": "scatter",
         "x": [
          1,
          2,
          3,
          4,
          5,
          6,
          7,
          8,
          9
         ],
         "y": [
          0.5015174150466919,
          1.974094271659851,
          -0.5121133327484131,
          6.383607864379883,
          -0.12514354288578033,
          1.4723988771438599,
          0.8488863706588745,
          4.7291717529296875,
          7.632431507110596
         ]
        },
        {
         "line": {
          "color": "black",
          "width": 0.5
         },
         "opacity": 0.2,
         "type": "scatter",
         "x": [
          1,
          2,
          3,
          4,
          5,
          6,
          7,
          8,
          9
         ],
         "y": [
          3.4624955654144287,
          10.978222846984863,
          -6.604817867279053,
          40.04291915893555,
          0.30256199836730957,
          17.314193725585938,
          16.510652542114258,
          17.607728958129883,
          14.058714866638184
         ]
        },
        {
         "line": {
          "color": "black",
          "width": 0.5
         },
         "opacity": 0.2,
         "type": "scatter",
         "x": [
          1,
          2,
          3,
          4,
          5,
          6,
          7,
          8,
          9
         ],
         "y": [
          -4.768440246582031,
          0.09435689449310303,
          -1.9524950981140137,
          -9.243346214294434,
          -0.6250888109207153,
          -3.155076265335083,
          -0.5658051371574402,
          -8.931257247924805,
          2.486959457397461
         ]
        },
        {
         "line": {
          "color": "black",
          "width": 0.5
         },
         "opacity": 0.2,
         "type": "scatter",
         "x": [
          1,
          2,
          3,
          4,
          5,
          6,
          7,
          8,
          9
         ],
         "y": [
          -3.54557466506958,
          -3.1722159385681152,
          -0.9146525263786316,
          -16.180395126342773,
          -2.3638672828674316,
          -7.43769645690918,
          -1.482708215713501,
          -7.4825119972229,
          -1.357168436050415
         ]
        },
        {
         "line": {
          "color": "black",
          "width": 0.5
         },
         "opacity": 0.2,
         "type": "scatter",
         "x": [
          1,
          2,
          3,
          4,
          5,
          6,
          7,
          8,
          9
         ],
         "y": [
          -19.08472442626953,
          0.2722920775413513,
          -3.953667402267456,
          -56.56755065917969,
          -2.585117816925049,
          -21.051603317260742,
          -11.308539390563965,
          -44.871070861816406,
          4.563830852508545
         ]
        },
        {
         "line": {
          "color": "black",
          "width": 0.5
         },
         "opacity": 0.2,
         "type": "scatter",
         "x": [
          1,
          2,
          3,
          4,
          5,
          6,
          7,
          8,
          9
         ],
         "y": [
          14.239219665527344,
          8.528078079223633,
          9.253060340881348,
          42.288516998291016,
          1.7370190620422363,
          10.265871047973633,
          9.96926498413086,
          24.48703384399414,
          12.32638931274414
         ]
        },
        {
         "line": {
          "color": "black",
          "width": 0.5
         },
         "opacity": 0.2,
         "type": "scatter",
         "x": [
          1,
          2,
          3,
          4,
          5,
          6,
          7,
          8,
          9
         ],
         "y": [
          -15.721198081970215,
          -0.5859120488166809,
          -4.822724342346191,
          -32.12253952026367,
          -3.554094076156616,
          -11.162712097167969,
          -6.1502838134765625,
          -24.774269104003906,
          -6.228328704833984
         ]
        },
        {
         "line": {
          "color": "black",
          "width": 0.5
         },
         "opacity": 0.2,
         "type": "scatter",
         "x": [
          1,
          2,
          3,
          4,
          5,
          6,
          7,
          8,
          9
         ],
         "y": [
          2.8578062057495117,
          -0.8068310022354126,
          1.2491987943649292,
          5.2629194259643555,
          0.3367686867713928,
          2.425910472869873,
          -0.4157838523387909,
          3.472343921661377,
          -0.8319908380508423
         ]
        },
        {
         "line": {
          "color": "black",
          "width": 0.5
         },
         "opacity": 0.2,
         "type": "scatter",
         "x": [
          1,
          2,
          3,
          4,
          5,
          6,
          7,
          8,
          9
         ],
         "y": [
          -35.877479553222656,
          -31.181673049926758,
          -19.890174865722656,
          -130.6830596923828,
          -5.685498237609863,
          -43.166603088378906,
          -40.53395462036133,
          -60.648826599121094,
          -49.20286560058594
         ]
        },
        {
         "line": {
          "color": "black",
          "width": 0.5
         },
         "opacity": 0.2,
         "type": "scatter",
         "x": [
          1,
          2,
          3,
          4,
          5,
          6,
          7,
          8,
          9
         ],
         "y": [
          -24.118684768676758,
          -1.0093547105789185,
          -14.701171875,
          -51.635643005371094,
          -10.373852729797363,
          -22.688392639160156,
          8.093746185302734,
          -40.18526077270508,
          9.28204345703125
         ]
        },
        {
         "line": {
          "color": "black",
          "width": 0.5
         },
         "opacity": 0.2,
         "type": "scatter",
         "x": [
          1,
          2,
          3,
          4,
          5,
          6,
          7,
          8,
          9
         ],
         "y": [
          21.27471160888672,
          -26.405241012573242,
          6.984518051147461,
          22.21354103088379,
          11.391637802124023,
          20.2501220703125,
          -32.59549331665039,
          53.537662506103516,
          -72.09219360351562
         ]
        },
        {
         "line": {
          "color": "black",
          "width": 0.5
         },
         "opacity": 0.2,
         "type": "scatter",
         "x": [
          1,
          2,
          3,
          4,
          5,
          6,
          7,
          8,
          9
         ],
         "y": [
          -20.036659240722656,
          -11.49736213684082,
          2.067152261734009,
          -68.40953063964844,
          -3.800058126449585,
          -21.933788299560547,
          -14.99720287322998,
          -48.710105895996094,
          -10.72216510772705
         ]
        },
        {
         "line": {
          "color": "black",
          "width": 0.5
         },
         "opacity": 0.2,
         "type": "scatter",
         "x": [
          1,
          2,
          3,
          4,
          5,
          6,
          7,
          8,
          9
         ],
         "y": [
          0.9609405994415283,
          -3.1128382682800293,
          1.038201093673706,
          -3.0822293758392334,
          -2.3112449645996094,
          -5.101183891296387,
          -3.7561535835266113,
          -0.7929935455322266,
          -3.3974428176879883
         ]
        },
        {
         "line": {
          "color": "black",
          "width": 0.5
         },
         "opacity": 0.2,
         "type": "scatter",
         "x": [
          1,
          2,
          3,
          4,
          5,
          6,
          7,
          8,
          9
         ],
         "y": [
          -6.589468002319336,
          4.023311614990234,
          -5.640518665313721,
          -5.906933307647705,
          -1.272661566734314,
          -1.9189808368682861,
          5.294288635253906,
          -2.6876158714294434,
          23.814298629760742
         ]
        },
        {
         "line": {
          "color": "black",
          "width": 0.5
         },
         "opacity": 0.2,
         "type": "scatter",
         "x": [
          1,
          2,
          3,
          4,
          5,
          6,
          7,
          8,
          9
         ],
         "y": [
          15.945038795471191,
          15.793334007263184,
          3.407587766647339,
          46.42139434814453,
          2.127686023712158,
          13.752650260925293,
          20.69906234741211,
          24.476539611816406,
          20.428794860839844
         ]
        },
        {
         "line": {
          "color": "black",
          "width": 0.5
         },
         "opacity": 0.2,
         "type": "scatter",
         "x": [
          1,
          2,
          3,
          4,
          5,
          6,
          7,
          8,
          9
         ],
         "y": [
          -10.019185066223145,
          -4.303071975708008,
          -5.977560997009277,
          -34.50889205932617,
          -3.59804630279541,
          -14.215627670288086,
          -10.658981323242188,
          -24.68072509765625,
          -1.817253589630127
         ]
        },
        {
         "line": {
          "color": "black",
          "width": 0.5
         },
         "opacity": 0.2,
         "type": "scatter",
         "x": [
          1,
          2,
          3,
          4,
          5,
          6,
          7,
          8,
          9
         ],
         "y": [
          6.7867326736450195,
          1.8371330499649048,
          4.935634136199951,
          14.724984169006348,
          3.926785707473755,
          11.296091079711914,
          10.807760238647461,
          12.234085083007812,
          25.141578674316406
         ]
        },
        {
         "line": {
          "color": "black",
          "width": 0.5
         },
         "opacity": 0.2,
         "type": "scatter",
         "x": [
          1,
          2,
          3,
          4,
          5,
          6,
          7,
          8,
          9
         ],
         "y": [
          -4.6307759284973145,
          -7.511372089385986,
          -2.069345235824585,
          -17.70936393737793,
          -3.097330093383789,
          -8.617072105407715,
          -2.539158821105957,
          -9.22265338897705,
          16.349817276000977
         ]
        },
        {
         "line": {
          "color": "black",
          "width": 0.5
         },
         "opacity": 0.2,
         "type": "scatter",
         "x": [
          1,
          2,
          3,
          4,
          5,
          6,
          7,
          8,
          9
         ],
         "y": [
          -3.8885879516601562,
          -3.6435344219207764,
          0.4972127079963684,
          -8.389948844909668,
          -1.8073979616165161,
          -5.492332935333252,
          -4.7658562660217285,
          -1.1924821138381958,
          -10.856120109558105
         ]
        },
        {
         "line": {
          "color": "black",
          "width": 0.5
         },
         "opacity": 0.2,
         "type": "scatter",
         "x": [
          1,
          2,
          3,
          4,
          5,
          6,
          7,
          8,
          9
         ],
         "y": [
          -31.304962158203125,
          15.095489501953125,
          -11.327048301696777,
          -52.43640899658203,
          -7.088011264801025,
          -24.63724136352539,
          11.071870803833008,
          -54.499568939208984,
          39.196964263916016
         ]
        },
        {
         "line": {
          "color": "black",
          "width": 0.5
         },
         "opacity": 0.2,
         "type": "scatter",
         "x": [
          1,
          2,
          3,
          4,
          5,
          6,
          7,
          8,
          9
         ],
         "y": [
          0.14651250839233398,
          -11.748281478881836,
          4.484594345092773,
          -35.11251449584961,
          -1.8866212368011475,
          -17.41201400756836,
          -16.780010223388672,
          -16.4422664642334,
          -16.099369049072266
         ]
        },
        {
         "line": {
          "color": "black",
          "width": 0.5
         },
         "opacity": 0.2,
         "type": "scatter",
         "x": [
          1,
          2,
          3,
          4,
          5,
          6,
          7,
          8,
          9
         ],
         "y": [
          -21.304670333862305,
          5.528155326843262,
          -10.35804557800293,
          -17.526824951171875,
          -13.471607208251953,
          -13.407364845275879,
          10.181032180786133,
          -34.63595199584961,
          -4.921238899230957
         ]
        },
        {
         "line": {
          "color": "black",
          "width": 0.5
         },
         "opacity": 0.2,
         "type": "scatter",
         "x": [
          1,
          2,
          3,
          4,
          5,
          6,
          7,
          8,
          9
         ],
         "y": [
          -2.1958398818969727,
          -3.1003081798553467,
          1.938393235206604,
          -9.690805435180664,
          1.1487023830413818,
          -1.5109167098999023,
          -4.786498069763184,
          -5.247748374938965,
          3.2087652683258057
         ]
        },
        {
         "line": {
          "color": "black",
          "width": 0.5
         },
         "opacity": 0.2,
         "type": "scatter",
         "x": [
          1,
          2,
          3,
          4,
          5,
          6,
          7,
          8,
          9
         ],
         "y": [
          -16.956972122192383,
          -6.892328262329102,
          -12.007372856140137,
          -56.50190734863281,
          -2.672734260559082,
          -21.78411293029785,
          -4.597764015197754,
          -32.02500915527344,
          -14.686118125915527
         ]
        },
        {
         "line": {
          "color": "black",
          "width": 0.5
         },
         "opacity": 0.2,
         "type": "scatter",
         "x": [
          1,
          2,
          3,
          4,
          5,
          6,
          7,
          8,
          9
         ],
         "y": [
          9.312636375427246,
          -15.46028995513916,
          9.351666450500488,
          -12.385686874389648,
          6.068768501281738,
          2.026201009750366,
          -16.22201919555664,
          5.528385639190674,
          -14.051676750183105
         ]
        },
        {
         "line": {
          "color": "black",
          "width": 0.5
         },
         "opacity": 0.2,
         "type": "scatter",
         "x": [
          1,
          2,
          3,
          4,
          5,
          6,
          7,
          8,
          9
         ],
         "y": [
          0.9893566966056824,
          -0.03807404637336731,
          0.49654898047447205,
          2.8040318489074707,
          -0.22898638248443604,
          0.5877590179443359,
          0.37382301688194275,
          1.9164241552352905,
          0.23648369312286377
         ]
        },
        {
         "line": {
          "color": "black",
          "width": 0.5
         },
         "opacity": 0.2,
         "type": "scatter",
         "x": [
          1,
          2,
          3,
          4,
          5,
          6,
          7,
          8,
          9
         ],
         "y": [
          25.62872886657715,
          -26.90998649597168,
          6.824536323547363,
          -9.343682289123535,
          9.03700065612793,
          -3.8592615127563477,
          -28.776180267333984,
          35.03810501098633,
          -64.24800872802734
         ]
        },
        {
         "line": {
          "color": "black",
          "width": 0.5
         },
         "opacity": 0.2,
         "type": "scatter",
         "x": [
          1,
          2,
          3,
          4,
          5,
          6,
          7,
          8,
          9
         ],
         "y": [
          -26.055830001831055,
          -1.1894034147262573,
          -10.173794746398926,
          -38.772281646728516,
          -7.672828197479248,
          -10.741947174072266,
          0.17134952545166016,
          -32.893821716308594,
          10.38986587524414
         ]
        },
        {
         "line": {
          "color": "black",
          "width": 0.5
         },
         "opacity": 0.2,
         "type": "scatter",
         "x": [
          1,
          2,
          3,
          4,
          5,
          6,
          7,
          8,
          9
         ],
         "y": [
          2.708747625350952,
          -5.604250907897949,
          0.7696893811225891,
          -2.9528746604919434,
          -0.2598560154438019,
          -1.523085355758667,
          -6.3962907791137695,
          4.2267866134643555,
          -14.716365814208984
         ]
        },
        {
         "line": {
          "color": "black",
          "width": 0.5
         },
         "opacity": 0.2,
         "type": "scatter",
         "x": [
          1,
          2,
          3,
          4,
          5,
          6,
          7,
          8,
          9
         ],
         "y": [
          -7.764273643493652,
          -8.597155570983887,
          -2.459906578063965,
          -35.39975357055664,
          -2.4690489768981934,
          -13.889506340026855,
          -11.008142471313477,
          -20.533336639404297,
          -19.34024429321289
         ]
        },
        {
         "line": {
          "color": "black",
          "width": 0.5
         },
         "opacity": 0.2,
         "type": "scatter",
         "x": [
          1,
          2,
          3,
          4,
          5,
          6,
          7,
          8,
          9
         ],
         "y": [
          13.862483024597168,
          1.2608388662338257,
          3.8889694213867188,
          29.84420394897461,
          -2.1743671894073486,
          4.744243144989014,
          11.180707931518555,
          16.07505226135254,
          -5.449550628662109
         ]
        },
        {
         "line": {
          "color": "black",
          "width": 0.5
         },
         "opacity": 0.2,
         "type": "scatter",
         "x": [
          1,
          2,
          3,
          4,
          5,
          6,
          7,
          8,
          9
         ],
         "y": [
          -6.823985576629639,
          6.462055683135986,
          2.795949935913086,
          -20.554346084594727,
          -3.544029712677002,
          -12.007965087890625,
          5.527915954589844,
          -23.08409881591797,
          25.89714813232422
         ]
        },
        {
         "line": {
          "color": "black",
          "width": 0.5
         },
         "opacity": 0.2,
         "type": "scatter",
         "x": [
          1,
          2,
          3,
          4,
          5,
          6,
          7,
          8,
          9
         ],
         "y": [
          0.6018543243408203,
          2.7118422985076904,
          1.3007851839065552,
          17.081985473632812,
          -1.0692702531814575,
          7.723790168762207,
          3.9910755157470703,
          20.680479049682617,
          1.919006109237671
         ]
        },
        {
         "line": {
          "color": "black",
          "width": 0.5
         },
         "opacity": 0.2,
         "type": "scatter",
         "x": [
          1,
          2,
          3,
          4,
          5,
          6,
          7,
          8,
          9
         ],
         "y": [
          4.379921913146973,
          16.973031997680664,
          -1.7801337242126465,
          37.82484817504883,
          1.389777660369873,
          11.915056228637695,
          14.2368803024292,
          12.258917808532715,
          18.378705978393555
         ]
        },
        {
         "line": {
          "color": "black",
          "width": 0.5
         },
         "opacity": 0.2,
         "type": "scatter",
         "x": [
          1,
          2,
          3,
          4,
          5,
          6,
          7,
          8,
          9
         ],
         "y": [
          -8.172149658203125,
          -22.312170028686523,
          -1.8885499238967896,
          -63.499290466308594,
          -5.837774276733398,
          -28.27564239501953,
          -16.394990921020508,
          -26.631072998046875,
          -35.167030334472656
         ]
        },
        {
         "line": {
          "color": "black",
          "width": 0.5
         },
         "opacity": 0.2,
         "type": "scatter",
         "x": [
          1,
          2,
          3,
          4,
          5,
          6,
          7,
          8,
          9
         ],
         "y": [
          1.2727234363555908,
          3.36942195892334,
          2.335508346557617,
          16.14044952392578,
          -0.41304001212120056,
          6.048184871673584,
          3.175668239593506,
          13.48081111907959,
          9.935060501098633
         ]
        },
        {
         "line": {
          "color": "black",
          "width": 0.5
         },
         "opacity": 0.2,
         "type": "scatter",
         "x": [
          1,
          2,
          3,
          4,
          5,
          6,
          7,
          8,
          9
         ],
         "y": [
          -23.636268615722656,
          6.887115001678467,
          -10.305462837219238,
          -41.071685791015625,
          -7.501756191253662,
          -17.918827056884766,
          7.281696319580078,
          -43.34575271606445,
          23.653539657592773
         ]
        },
        {
         "line": {
          "color": "black",
          "width": 0.5
         },
         "opacity": 0.2,
         "type": "scatter",
         "x": [
          1,
          2,
          3,
          4,
          5,
          6,
          7,
          8,
          9
         ],
         "y": [
          3.784666061401367,
          2.952824831008911,
          -0.27363237738609314,
          8.97669792175293,
          -1.9423596858978271,
          -2.397202968597412,
          6.7042341232299805,
          3.2117152214050293,
          -4.781699180603027
         ]
        },
        {
         "line": {
          "color": "black",
          "width": 0.5
         },
         "opacity": 0.2,
         "type": "scatter",
         "x": [
          1,
          2,
          3,
          4,
          5,
          6,
          7,
          8,
          9
         ],
         "y": [
          7.6108245849609375,
          6.315093040466309,
          3.882800579071045,
          17.249038696289062,
          2.2667460441589355,
          6.148046493530273,
          6.1307830810546875,
          9.621639251708984,
          9.780129432678223
         ]
        },
        {
         "line": {
          "color": "black",
          "width": 0.5
         },
         "opacity": 0.2,
         "type": "scatter",
         "x": [
          1,
          2,
          3,
          4,
          5,
          6,
          7,
          8,
          9
         ],
         "y": [
          7.4425787925720215,
          3.1439695358276367,
          3.6217312812805176,
          20.24631690979004,
          2.742234945297241,
          10.583261489868164,
          4.202776908874512,
          17.07360076904297,
          15.823305130004883
         ]
        },
        {
         "line": {
          "color": "black",
          "width": 0.5
         },
         "opacity": 0.2,
         "type": "scatter",
         "x": [
          1,
          2,
          3,
          4,
          5,
          6,
          7,
          8,
          9
         ],
         "y": [
          0.08371955156326294,
          -1.33433997631073,
          0.42614513635635376,
          -3.111992597579956,
          0.08520077168941498,
          -1.2072395086288452,
          -2.5698022842407227,
          -0.6953381896018982,
          -2.0302577018737793
         ]
        },
        {
         "line": {
          "color": "black",
          "width": 0.5
         },
         "opacity": 0.2,
         "type": "scatter",
         "x": [
          1,
          2,
          3,
          4,
          5,
          6,
          7,
          8,
          9
         ],
         "y": [
          -0.7681500911712646,
          -23.01901626586914,
          2.7528934478759766,
          -33.95799255371094,
          -5.362029075622559,
          -13.113728523254395,
          -18.110124588012695,
          -7.323544025421143,
          -44.60422134399414
         ]
        },
        {
         "line": {
          "color": "black",
          "width": 0.5
         },
         "opacity": 0.2,
         "type": "scatter",
         "x": [
          1,
          2,
          3,
          4,
          5,
          6,
          7,
          8,
          9
         ],
         "y": [
          2.0017189979553223,
          -3.259624481201172,
          0.9654092788696289,
          4.462798595428467,
          -2.319514751434326,
          -1.4808106422424316,
          -2.692903757095337,
          2.5064783096313477,
          -10.46481704711914
         ]
        },
        {
         "line": {
          "color": "black",
          "width": 0.5
         },
         "opacity": 0.2,
         "type": "scatter",
         "x": [
          1,
          2,
          3,
          4,
          5,
          6,
          7,
          8,
          9
         ],
         "y": [
          38.96839141845703,
          -10.044417381286621,
          15.998920440673828,
          62.13124465942383,
          12.548105239868164,
          27.03757095336914,
          -10.34634017944336,
          67.05032348632812,
          -38.91697311401367
         ]
        },
        {
         "line": {
          "color": "black",
          "width": 0.5
         },
         "opacity": 0.2,
         "type": "scatter",
         "x": [
          1,
          2,
          3,
          4,
          5,
          6,
          7,
          8,
          9
         ],
         "y": [
          -2.6851963996887207,
          12.275031089782715,
          -1.5253825187683105,
          9.47474193572998,
          -2.1260194778442383,
          0.8730411529541016,
          20.84667205810547,
          -9.53765869140625,
          30.683795928955078
         ]
        },
        {
         "line": {
          "color": "black",
          "width": 0.5
         },
         "opacity": 0.2,
         "type": "scatter",
         "x": [
          1,
          2,
          3,
          4,
          5,
          6,
          7,
          8,
          9
         ],
         "y": [
          -4.159906387329102,
          -1.355024814605713,
          -1.239630103111267,
          -16.025684356689453,
          -0.7091160416603088,
          -6.10690975189209,
          -0.6379123330116272,
          -11.52853775024414,
          -2.4802894592285156
         ]
        },
        {
         "line": {
          "color": "black",
          "width": 0.5
         },
         "opacity": 0.2,
         "type": "scatter",
         "x": [
          1,
          2,
          3,
          4,
          5,
          6,
          7,
          8,
          9
         ],
         "y": [
          -11.91837215423584,
          -17.36597442626953,
          -0.9242305159568787,
          -53.20872116088867,
          5.321413993835449,
          -10.049263000488281,
          -28.118873596191406,
          -18.36660385131836,
          -9.738468170166016
         ]
        },
        {
         "line": {
          "color": "black",
          "width": 0.5
         },
         "opacity": 0.2,
         "type": "scatter",
         "x": [
          1,
          2,
          3,
          4,
          5,
          6,
          7,
          8,
          9
         ],
         "y": [
          -11.928329467773438,
          -1.0819852352142334,
          -4.202413558959961,
          -33.86960983276367,
          -6.014711380004883,
          -16.712411880493164,
          -1.4506847858428955,
          -29.78717803955078,
          -1.8974827527999878
         ]
        },
        {
         "line": {
          "color": "black",
          "width": 0.5
         },
         "opacity": 0.2,
         "type": "scatter",
         "x": [
          1,
          2,
          3,
          4,
          5,
          6,
          7,
          8,
          9
         ],
         "y": [
          -8.201960563659668,
          7.427919387817383,
          -8.586847305297852,
          22.97502326965332,
          -2.862579107284546,
          6.965898513793945,
          -1.6227149963378906,
          18.7487850189209,
          -22.127042770385742
         ]
        },
        {
         "line": {
          "color": "black",
          "width": 0.5
         },
         "opacity": 0.2,
         "type": "scatter",
         "x": [
          1,
          2,
          3,
          4,
          5,
          6,
          7,
          8,
          9
         ],
         "y": [
          -3.517423152923584,
          0.47632044553756714,
          -1.5264028310775757,
          -12.543224334716797,
          -1.0916681289672852,
          -6.4889912605285645,
          -1.855953574180603,
          -7.868656635284424,
          -4.262927055358887
         ]
        },
        {
         "line": {
          "color": "black",
          "width": 0.5
         },
         "opacity": 0.2,
         "type": "scatter",
         "x": [
          1,
          2,
          3,
          4,
          5,
          6,
          7,
          8,
          9
         ],
         "y": [
          7.823586940765381,
          0.19749829173088074,
          10.67040729522705,
          -14.130817413330078,
          4.34890079498291,
          -8.027433395385742,
          2.306807041168213,
          -3.3883886337280273,
          22.945661544799805
         ]
        },
        {
         "line": {
          "color": "black",
          "width": 0.5
         },
         "opacity": 0.2,
         "type": "scatter",
         "x": [
          1,
          2,
          3,
          4,
          5,
          6,
          7,
          8,
          9
         ],
         "y": [
          -27.69213104248047,
          6.754329681396484,
          -12.428668975830078,
          -35.6571044921875,
          -6.417725563049316,
          -11.224754333496094,
          0.11566996574401855,
          -38.87548828125,
          11.718681335449219
         ]
        },
        {
         "line": {
          "color": "black",
          "width": 0.5
         },
         "opacity": 0.2,
         "type": "scatter",
         "x": [
          1,
          2,
          3,
          4,
          5,
          6,
          7,
          8,
          9
         ],
         "y": [
          -3.219097137451172,
          -1.2214444875717163,
          -2.3922815322875977,
          -8.3189697265625,
          -2.902895450592041,
          -2.7255382537841797,
          1.2893354892730713,
          -9.557374954223633,
          -0.31084561347961426
         ]
        },
        {
         "line": {
          "color": "black",
          "width": 0.5
         },
         "opacity": 0.2,
         "type": "scatter",
         "x": [
          1,
          2,
          3,
          4,
          5,
          6,
          7,
          8,
          9
         ],
         "y": [
          7.873175621032715,
          -9.350914001464844,
          4.794177055358887,
          -2.450775384902954,
          3.051905870437622,
          -0.3412039279937744,
          -9.244806289672852,
          10.816214561462402,
          -15.311600685119629
         ]
        },
        {
         "line": {
          "color": "black",
          "width": 0.5
         },
         "opacity": 0.2,
         "type": "scatter",
         "x": [
          1,
          2,
          3,
          4,
          5,
          6,
          7,
          8,
          9
         ],
         "y": [
          4.2630839347839355,
          27.584543228149414,
          1.9078080654144287,
          68.63139343261719,
          2.9358580112457275,
          30.413253784179688,
          26.843181610107422,
          22.245872497558594,
          32.29929733276367
         ]
        },
        {
         "line": {
          "color": "black",
          "width": 0.5
         },
         "opacity": 0.2,
         "type": "scatter",
         "x": [
          1,
          2,
          3,
          4,
          5,
          6,
          7,
          8,
          9
         ],
         "y": [
          9.041627883911133,
          -4.6373090744018555,
          4.18101692199707,
          8.783977508544922,
          7.375349998474121,
          9.00098991394043,
          -8.227685928344727,
          16.019474029541016,
          -13.026283264160156
         ]
        },
        {
         "line": {
          "color": "black",
          "width": 0.5
         },
         "opacity": 0.2,
         "type": "scatter",
         "x": [
          1,
          2,
          3,
          4,
          5,
          6,
          7,
          8,
          9
         ],
         "y": [
          -18.81752586364746,
          5.380951881408691,
          -9.8064546585083,
          -18.474700927734375,
          -6.2099609375,
          -9.682746887207031,
          0.49204564094543457,
          -25.88875961303711,
          -0.8712365627288818
         ]
        },
        {
         "line": {
          "color": "black",
          "width": 0.5
         },
         "opacity": 0.2,
         "type": "scatter",
         "x": [
          1,
          2,
          3,
          4,
          5,
          6,
          7,
          8,
          9
         ],
         "y": [
          2.686659812927246,
          18.858238220214844,
          1.346783995628357,
          38.01475524902344,
          1.5482192039489746,
          12.895570755004883,
          12.075246810913086,
          11.622321128845215,
          40.55534744262695
         ]
        },
        {
         "line": {
          "color": "black",
          "width": 0.5
         },
         "opacity": 0.2,
         "type": "scatter",
         "x": [
          1,
          2,
          3,
          4,
          5,
          6,
          7,
          8,
          9
         ],
         "y": [
          -8.766563415527344,
          12.35925579071045,
          -4.502168655395508,
          -6.04703426361084,
          -6.6129841804504395,
          -9.510427474975586,
          14.864660263061523,
          -19.245588302612305,
          28.892364501953125
         ]
        },
        {
         "line": {
          "color": "black",
          "width": 0.5
         },
         "opacity": 0.2,
         "type": "scatter",
         "x": [
          1,
          2,
          3,
          4,
          5,
          6,
          7,
          8,
          9
         ],
         "y": [
          16.071941375732422,
          -10.59437370300293,
          8.316750526428223,
          24.662391662597656,
          12.992660522460938,
          21.506641387939453,
          -18.76318359375,
          38.704490661621094,
          -2.33797025680542
         ]
        },
        {
         "line": {
          "color": "black",
          "width": 0.5
         },
         "opacity": 0.2,
         "type": "scatter",
         "x": [
          1,
          2,
          3,
          4,
          5,
          6,
          7,
          8,
          9
         ],
         "y": [
          -3.4879307746887207,
          1.5813255310058594,
          -1.24179208278656,
          -5.457954406738281,
          -1.5731868743896484,
          -3.7920727729797363,
          2.1402204036712646,
          -7.774369239807129,
          4.347400188446045
         ]
        },
        {
         "line": {
          "color": "black",
          "width": 0.5
         },
         "opacity": 0.2,
         "type": "scatter",
         "x": [
          1,
          2,
          3,
          4,
          5,
          6,
          7,
          8,
          9
         ],
         "y": [
          1.669729232788086,
          13.059039115905762,
          1.4414653778076172,
          28.90735626220703,
          -2.2541160583496094,
          7.874922752380371,
          19.66908073425293,
          8.811334609985352,
          32.86517333984375
         ]
        },
        {
         "line": {
          "color": "black",
          "width": 0.5
         },
         "opacity": 0.2,
         "type": "scatter",
         "x": [
          1,
          2,
          3,
          4,
          5,
          6,
          7,
          8,
          9
         ],
         "y": [
          1.8270230293273926,
          -1.0682835578918457,
          3.866502523422241,
          -6.870273590087891,
          5.4429731369018555,
          2.1976447105407715,
          -1.622948169708252,
          -2.960775852203369,
          7.037246227264404
         ]
        },
        {
         "line": {
          "color": "black",
          "width": 0.5
         },
         "opacity": 0.2,
         "type": "scatter",
         "x": [
          1,
          2,
          3,
          4,
          5,
          6,
          7,
          8,
          9
         ],
         "y": [
          4.910880088806152,
          -8.531692504882812,
          2.3023087978363037,
          -8.019983291625977,
          0.2999039888381958,
          -1.5016790628433228,
          -7.155291557312012,
          2.8347246646881104,
          -22.190834045410156
         ]
        },
        {
         "line": {
          "color": "black",
          "width": 0.5
         },
         "opacity": 0.2,
         "type": "scatter",
         "x": [
          1,
          2,
          3,
          4,
          5,
          6,
          7,
          8,
          9
         ],
         "y": [
          -10.33834171295166,
          -2.6338398456573486,
          -4.952656269073486,
          -24.500404357910156,
          -1.919356346130371,
          -7.470128059387207,
          -3.722001314163208,
          -15.830449104309082,
          -0.8913288712501526
         ]
        },
        {
         "line": {
          "color": "black",
          "width": 0.5
         },
         "opacity": 0.2,
         "type": "scatter",
         "x": [
          1,
          2,
          3,
          4,
          5,
          6,
          7,
          8,
          9
         ],
         "y": [
          -5.253417491912842,
          -14.840004920959473,
          0.32354146242141724,
          -40.92958068847656,
          -2.502333641052246,
          -16.145160675048828,
          -15.42557144165039,
          -15.893811225891113,
          -26.199268341064453
         ]
        },
        {
         "line": {
          "color": "black",
          "width": 0.5
         },
         "opacity": 0.2,
         "type": "scatter",
         "x": [
          1,
          2,
          3,
          4,
          5,
          6,
          7,
          8,
          9
         ],
         "y": [
          43.850067138671875,
          22.823148727416992,
          17.067243576049805,
          140.7113800048828,
          11.492173194885254,
          52.61676788330078,
          29.514087677001953,
          93.52361297607422,
          36.525596618652344
         ]
        },
        {
         "line": {
          "color": "black",
          "width": 0.5
         },
         "opacity": 0.2,
         "type": "scatter",
         "x": [
          1,
          2,
          3,
          4,
          5,
          6,
          7,
          8,
          9
         ],
         "y": [
          -21.252037048339844,
          -11.74525260925293,
          -9.972047805786133,
          -51.307823181152344,
          -8.787459373474121,
          -19.827991485595703,
          -16.951791763305664,
          -35.37804412841797,
          -38.65985107421875
         ]
        },
        {
         "line": {
          "color": "black",
          "width": 0.5
         },
         "opacity": 0.2,
         "type": "scatter",
         "x": [
          1,
          2,
          3,
          4,
          5,
          6,
          7,
          8,
          9
         ],
         "y": [
          4.292050361633301,
          4.830464839935303,
          2.2135894298553467,
          22.268592834472656,
          1.8778765201568604,
          6.62441873550415,
          5.118203163146973,
          16.139911651611328,
          10.720909118652344
         ]
        },
        {
         "line": {
          "color": "black",
          "width": 0.5
         },
         "opacity": 0.2,
         "type": "scatter",
         "x": [
          1,
          2,
          3,
          4,
          5,
          6,
          7,
          8,
          9
         ],
         "y": [
          11.228053092956543,
          8.729110717773438,
          5.5354814529418945,
          43.299259185791016,
          -1.4623275995254517,
          11.613136291503906,
          12.588199615478516,
          19.082233428955078,
          9.260252952575684
         ]
        },
        {
         "line": {
          "color": "black",
          "width": 0.5
         },
         "opacity": 0.2,
         "type": "scatter",
         "x": [
          1,
          2,
          3,
          4,
          5,
          6,
          7,
          8,
          9
         ],
         "y": [
          1.156158685684204,
          -5.579590797424316,
          2.041426181793213,
          4.754509925842285,
          -1.6440587043762207,
          0.21932125091552734,
          -7.622515678405762,
          4.799182415008545,
          -26.11499786376953
         ]
        },
        {
         "line": {
          "color": "black",
          "width": 0.5
         },
         "opacity": 0.2,
         "type": "scatter",
         "x": [
          1,
          2,
          3,
          4,
          5,
          6,
          7,
          8,
          9
         ],
         "y": [
          -0.5294167995452881,
          0.5696322917938232,
          0.20861679315567017,
          0.6862362623214722,
          -0.061954449862241745,
          0.011146292090415955,
          0.592346727848053,
          -0.7561314105987549,
          1.084415316581726
         ]
        },
        {
         "line": {
          "color": "black",
          "width": 0.5
         },
         "opacity": 0.2,
         "type": "scatter",
         "x": [
          1,
          2,
          3,
          4,
          5,
          6,
          7,
          8,
          9
         ],
         "y": [
          10.66110897064209,
          6.166405200958252,
          5.106078147888184,
          23.103906631469727,
          4.460443496704102,
          8.667789459228516,
          8.998016357421875,
          14.211677551269531,
          8.523665428161621
         ]
        },
        {
         "line": {
          "color": "black",
          "width": 0.5
         },
         "opacity": 0.2,
         "type": "scatter",
         "x": [
          1,
          2,
          3,
          4,
          5,
          6,
          7,
          8,
          9
         ],
         "y": [
          -3.8176259994506836,
          0.11882758140563965,
          -3.421966791152954,
          -8.332083702087402,
          0.41974201798439026,
          -1.1325225830078125,
          -2.935410976409912,
          -8.307607650756836,
          -1.5327913761138916
         ]
        },
        {
         "line": {
          "color": "black",
          "width": 0.5
         },
         "opacity": 0.2,
         "type": "scatter",
         "x": [
          1,
          2,
          3,
          4,
          5,
          6,
          7,
          8,
          9
         ],
         "y": [
          4.374682426452637,
          2.2982523441314697,
          1.328884482383728,
          14.09250545501709,
          1.3478212356567383,
          5.7940874099731445,
          3.1639280319213867,
          9.137454986572266,
          2.1977388858795166
         ]
        },
        {
         "line": {
          "color": "black",
          "width": 0.5
         },
         "opacity": 0.2,
         "type": "scatter",
         "x": [
          1,
          2,
          3,
          4,
          5,
          6,
          7,
          8,
          9
         ],
         "y": [
          -10.932853698730469,
          9.513444900512695,
          -3.2994132041931152,
          -2.0218751430511475,
          -1.6298496723175049,
          2.6003987789154053,
          8.902351379394531,
          -11.426164627075195,
          21.004093170166016
         ]
        },
        {
         "line": {
          "color": "black",
          "width": 0.5
         },
         "opacity": 0.2,
         "type": "scatter",
         "x": [
          1,
          2,
          3,
          4,
          5,
          6,
          7,
          8,
          9
         ],
         "y": [
          3.1088061332702637,
          -0.9381734728813171,
          2.440946578979492,
          3.045117139816284,
          0.4583871364593506,
          0.15770626068115234,
          -0.5328602194786072,
          2.923029899597168,
          -0.5161415934562683
         ]
        },
        {
         "line": {
          "color": "black",
          "width": 0.5
         },
         "opacity": 0.2,
         "type": "scatter",
         "x": [
          1,
          2,
          3,
          4,
          5,
          6,
          7,
          8,
          9
         ],
         "y": [
          32.79458236694336,
          5.234441757202148,
          14.31522274017334,
          90.86886596679688,
          10.195155143737793,
          36.73850631713867,
          6.2455644607543945,
          70.15249633789062,
          1.5498855113983154
         ]
        },
        {
         "line": {
          "color": "black",
          "width": 0.5
         },
         "opacity": 0.2,
         "type": "scatter",
         "x": [
          1,
          2,
          3,
          4,
          5,
          6,
          7,
          8,
          9
         ],
         "y": [
          19.844736099243164,
          14.612253189086914,
          4.5695905685424805,
          81.20342254638672,
          6.829641342163086,
          35.429264068603516,
          17.484834671020508,
          44.044700622558594,
          6.314341068267822
         ]
        },
        {
         "line": {
          "color": "black",
          "width": 0.5
         },
         "opacity": 0.2,
         "type": "scatter",
         "x": [
          1,
          2,
          3,
          4,
          5,
          6,
          7,
          8,
          9
         ],
         "y": [
          19.86249542236328,
          16.72972297668457,
          7.118184566497803,
          56.01033020019531,
          7.173381805419922,
          21.54818344116211,
          19.982635498046875,
          29.30035972595215,
          35.360801696777344
         ]
        },
        {
         "line": {
          "color": "black",
          "width": 0.5
         },
         "opacity": 0.2,
         "type": "scatter",
         "x": [
          1,
          2,
          3,
          4,
          5,
          6,
          7,
          8,
          9
         ],
         "y": [
          12.231439590454102,
          3.0500218868255615,
          3.459338903427124,
          29.82859992980957,
          -0.86501544713974,
          7.888700008392334,
          9.018791198730469,
          12.78529167175293,
          11.750425338745117
         ]
        },
        {
         "line": {
          "color": "black",
          "width": 0.5
         },
         "opacity": 0.2,
         "type": "scatter",
         "x": [
          1,
          2,
          3,
          4,
          5,
          6,
          7,
          8,
          9
         ],
         "y": [
          -0.6992201805114746,
          11.551719665527344,
          -1.876369595527649,
          24.33470916748047,
          -0.2550000846385956,
          9.630208969116211,
          17.322616577148438,
          8.165923118591309,
          22.993118286132812
         ]
        },
        {
         "line": {
          "color": "black",
          "width": 0.5
         },
         "opacity": 0.2,
         "type": "scatter",
         "x": [
          1,
          2,
          3,
          4,
          5,
          6,
          7,
          8,
          9
         ],
         "y": [
          0.9460216760635376,
          6.086999893188477,
          1.795518159866333,
          16.623905181884766,
          1.2029201984405518,
          8.047712326049805,
          9.038179397583008,
          5.424710750579834,
          17.024229049682617
         ]
        },
        {
         "line": {
          "color": "black",
          "width": 0.5
         },
         "opacity": 0.2,
         "type": "scatter",
         "x": [
          1,
          2,
          3,
          4,
          5,
          6,
          7,
          8,
          9
         ],
         "y": [
          -14.809284210205078,
          -4.21669864654541,
          -9.245058059692383,
          -41.38954162597656,
          -2.3787384033203125,
          -14.982706069946289,
          -3.669070243835449,
          -23.419353485107422,
          -5.42241907119751
         ]
        },
        {
         "line": {
          "color": "black",
          "width": 0.5
         },
         "opacity": 0.2,
         "type": "scatter",
         "x": [
          1,
          2,
          3,
          4,
          5,
          6,
          7,
          8,
          9
         ],
         "y": [
          4.6529998779296875,
          6.827049732208252,
          1.1105449199676514,
          29.262893676757812,
          1.1081454753875732,
          14.455522537231445,
          8.768937110900879,
          16.125228881835938,
          3.947530746459961
         ]
        },
        {
         "line": {
          "color": "black",
          "width": 0.5
         },
         "opacity": 0.2,
         "type": "scatter",
         "x": [
          1,
          2,
          3,
          4,
          5,
          6,
          7,
          8,
          9
         ],
         "y": [
          0.28481346368789673,
          0.9740605354309082,
          -0.08390508592128754,
          2.3825907707214355,
          -0.016339872032403946,
          0.22001123428344727,
          0.7088747024536133,
          -0.20440566539764404,
          -0.038083016872406006
         ]
        },
        {
         "line": {
          "color": "black",
          "width": 0.5
         },
         "opacity": 0.2,
         "type": "scatter",
         "x": [
          1,
          2,
          3,
          4,
          5,
          6,
          7,
          8,
          9
         ],
         "y": [
          -25.485584259033203,
          -4.033101558685303,
          -6.566549301147461,
          -76.71792602539062,
          -18.05829429626465,
          -45.44792938232422,
          -0.17824196815490723,
          -67.73713684082031,
          -0.20602846145629883
         ]
        },
        {
         "line": {
          "color": "black",
          "width": 0.5
         },
         "opacity": 0.2,
         "type": "scatter",
         "x": [
          1,
          2,
          3,
          4,
          5,
          6,
          7,
          8,
          9
         ],
         "y": [
          11.510557174682617,
          -19.514286041259766,
          5.719448566436768,
          -26.89287567138672,
          7.62081241607666,
          -7.657647609710693,
          -26.70429801940918,
          4.666094779968262,
          -34.99370574951172
         ]
        },
        {
         "line": {
          "color": "black",
          "width": 0.5
         },
         "opacity": 0.2,
         "type": "scatter",
         "x": [
          1,
          2,
          3,
          4,
          5,
          6,
          7,
          8,
          9
         ],
         "y": [
          1.289757490158081,
          1.704291582107544,
          -0.8748679161071777,
          9.863004684448242,
          -0.8199916481971741,
          2.988133192062378,
          1.1357280015945435,
          5.3548126220703125,
          -4.595734119415283
         ]
        },
        {
         "line": {
          "color": "black",
          "width": 0.5
         },
         "opacity": 0.2,
         "type": "scatter",
         "x": [
          1,
          2,
          3,
          4,
          5,
          6,
          7,
          8,
          9
         ],
         "y": [
          -1.908582091331482,
          -1.779299020767212,
          -1.2951993942260742,
          -9.445656776428223,
          -0.4631040394306183,
          -3.690164566040039,
          -2.0844624042510986,
          -5.934810161590576,
          -2.728549003601074
         ]
        },
        {
         "line": {
          "color": "black",
          "width": 0.5
         },
         "opacity": 0.2,
         "type": "scatter",
         "x": [
          1,
          2,
          3,
          4,
          5,
          6,
          7,
          8,
          9
         ],
         "y": [
          -4.891797065734863,
          -0.9588983058929443,
          -3.334045171737671,
          -15.244319915771484,
          -2.439640760421753,
          -7.418680667877197,
          -1.2388954162597656,
          -10.717127799987793,
          -2.842299222946167
         ]
        },
        {
         "line": {
          "color": "black",
          "width": 0.5
         },
         "opacity": 0.2,
         "type": "scatter",
         "x": [
          1,
          2,
          3,
          4,
          5,
          6,
          7,
          8,
          9
         ],
         "y": [
          -2.7265143394470215,
          9.972441673278809,
          0.16801315546035767,
          18.780860900878906,
          0.004104137420654297,
          8.130200386047363,
          8.534109115600586,
          2.825960159301758,
          16.614036560058594
         ]
        },
        {
         "line": {
          "color": "black",
          "width": 0.5
         },
         "opacity": 0.2,
         "type": "scatter",
         "x": [
          1,
          2,
          3,
          4,
          5,
          6,
          7,
          8,
          9
         ],
         "y": [
          -3.440281867980957,
          -6.396429061889648,
          -0.945398211479187,
          -23.50680923461914,
          4.610459804534912,
          -1.4029333591461182,
          -10.213325500488281,
          -5.919492721557617,
          -1.8280820846557617
         ]
        },
        {
         "line": {
          "color": "black",
          "width": 0.5
         },
         "opacity": 0.2,
         "type": "scatter",
         "x": [
          1,
          2,
          3,
          4,
          5,
          6,
          7,
          8,
          9
         ],
         "y": [
          -19.516199111938477,
          -1.0972980260849,
          -11.352206230163574,
          -48.16636657714844,
          -6.249624252319336,
          -22.188446044921875,
          3.905010223388672,
          -29.762248992919922,
          11.769491195678711
         ]
        },
        {
         "line": {
          "color": "black",
          "width": 0.5
         },
         "opacity": 0.2,
         "type": "scatter",
         "x": [
          1,
          2,
          3,
          4,
          5,
          6,
          7,
          8,
          9
         ],
         "y": [
          -0.9321767091751099,
          -0.6693604588508606,
          -0.10958198457956314,
          -3.954141616821289,
          -0.5155923962593079,
          -1.3647403717041016,
          -0.7549363374710083,
          -2.776473045349121,
          0.7327013611793518
         ]
        },
        {
         "line": {
          "color": "black",
          "width": 0.5
         },
         "opacity": 0.2,
         "type": "scatter",
         "x": [
          1,
          2,
          3,
          4,
          5,
          6,
          7,
          8,
          9
         ],
         "y": [
          -13.715527534484863,
          0.7881994247436523,
          -6.5131635665893555,
          -34.2673454284668,
          -3.8772785663604736,
          -13.998779296875,
          -0.9948443174362183,
          -31.630590438842773,
          -3.3202149868011475
         ]
        },
        {
         "line": {
          "color": "black",
          "width": 0.5
         },
         "opacity": 0.2,
         "type": "scatter",
         "x": [
          1,
          2,
          3,
          4,
          5,
          6,
          7,
          8,
          9
         ],
         "y": [
          0.7342653274536133,
          -4.439751625061035,
          4.7843732833862305,
          -17.67120933532715,
          -6.588176727294922,
          -22.782209396362305,
          -0.7291650772094727,
          -21.806915283203125,
          -17.490455627441406
         ]
        },
        {
         "line": {
          "color": "black",
          "width": 0.5
         },
         "opacity": 0.2,
         "type": "scatter",
         "x": [
          1,
          2,
          3,
          4,
          5,
          6,
          7,
          8,
          9
         ],
         "y": [
          3.4228343963623047,
          4.473010540008545,
          0.4913861155509949,
          19.420875549316406,
          -2.05692195892334,
          4.051337242126465,
          8.771247863769531,
          8.184167861938477,
          6.788241863250732
         ]
        },
        {
         "line": {
          "color": "black",
          "width": 0.5
         },
         "opacity": 0.2,
         "type": "scatter",
         "x": [
          1,
          2,
          3,
          4,
          5,
          6,
          7,
          8,
          9
         ],
         "y": [
          16.50668716430664,
          4.136721134185791,
          12.944615364074707,
          30.429595947265625,
          0.45382222533226013,
          6.290750503540039,
          4.18599796295166,
          7.5404534339904785,
          9.219215393066406
         ]
        },
        {
         "line": {
          "color": "black",
          "width": 0.5
         },
         "opacity": 0.2,
         "type": "scatter",
         "x": [
          1,
          2,
          3,
          4,
          5,
          6,
          7,
          8,
          9
         ],
         "y": [
          2.283564329147339,
          9.66808795928955,
          -0.08173958957195282,
          13.002252578735352,
          -3.182739734649658,
          0.8378297090530396,
          11.832016944885254,
          -4.4355244636535645,
          33.42449951171875
         ]
        },
        {
         "line": {
          "color": "black",
          "width": 0.5
         },
         "opacity": 0.2,
         "type": "scatter",
         "x": [
          1,
          2,
          3,
          4,
          5,
          6,
          7,
          8,
          9
         ],
         "y": [
          -7.770913124084473,
          1.746730089187622,
          1.8019630908966064,
          -29.497509002685547,
          -4.666289806365967,
          -16.712608337402344,
          4.165027618408203,
          -31.406082153320312,
          13.909605979919434
         ]
        },
        {
         "line": {
          "color": "black",
          "width": 0.5
         },
         "opacity": 0.2,
         "type": "scatter",
         "x": [
          1,
          2,
          3,
          4,
          5,
          6,
          7,
          8,
          9
         ],
         "y": [
          15.828765869140625,
          -1.1656776666641235,
          6.037047863006592,
          28.117897033691406,
          3.424355983734131,
          8.970941543579102,
          3.4713335037231445,
          27.547311782836914,
          0.11626410484313965
         ]
        },
        {
         "line": {
          "color": "black",
          "width": 0.5
         },
         "opacity": 0.2,
         "type": "scatter",
         "x": [
          1,
          2,
          3,
          4,
          5,
          6,
          7,
          8,
          9
         ],
         "y": [
          -7.036886692047119,
          -2.7913854122161865,
          -5.427756309509277,
          -11.684700965881348,
          -5.658403396606445,
          -6.025547981262207,
          -0.3563101291656494,
          -9.477692604064941,
          -3.2009902000427246
         ]
        },
        {
         "line": {
          "color": "black",
          "width": 0.5
         },
         "opacity": 0.2,
         "type": "scatter",
         "x": [
          1,
          2,
          3,
          4,
          5,
          6,
          7,
          8,
          9
         ],
         "y": [
          0.570572555065155,
          -0.9559974074363708,
          0.08379456400871277,
          2.983588457107544,
          -0.2641682028770447,
          0.6439412832260132,
          -0.5295315980911255,
          3.3489162921905518,
          -1.9885085821151733
         ]
        },
        {
         "line": {
          "color": "black",
          "width": 0.5
         },
         "opacity": 0.2,
         "type": "scatter",
         "x": [
          1,
          2,
          3,
          4,
          5,
          6,
          7,
          8,
          9
         ],
         "y": [
          -6.935667991638184,
          2.70462703704834,
          1.1252378225326538,
          -15.704604148864746,
          -2.6548664569854736,
          -9.620865821838379,
          -2.542410373687744,
          -18.58881378173828,
          9.158751487731934
         ]
        },
        {
         "line": {
          "color": "black",
          "width": 0.5
         },
         "opacity": 0.2,
         "type": "scatter",
         "x": [
          1,
          2,
          3,
          4,
          5,
          6,
          7,
          8,
          9
         ],
         "y": [
          -15.615742683410645,
          -3.9192113876342773,
          -4.195158958435059,
          -37.71685791015625,
          -5.034399509429932,
          -14.692031860351562,
          -9.720335006713867,
          -25.34528350830078,
          -0.5452998876571655
         ]
        },
        {
         "line": {
          "color": "black",
          "width": 0.5
         },
         "opacity": 0.2,
         "type": "scatter",
         "x": [
          1,
          2,
          3,
          4,
          5,
          6,
          7,
          8,
          9
         ],
         "y": [
          30.372833251953125,
          -4.383554458618164,
          6.813292503356934,
          51.36027526855469,
          7.756165027618408,
          14.943517684936523,
          0.23636245727539062,
          46.62303161621094,
          -10.180459022521973
         ]
        },
        {
         "line": {
          "color": "black",
          "width": 0.5
         },
         "opacity": 0.2,
         "type": "scatter",
         "x": [
          1,
          2,
          3,
          4,
          5,
          6,
          7,
          8,
          9
         ],
         "y": [
          -18.319486618041992,
          15.548909187316895,
          -9.439693450927734,
          -7.421565055847168,
          -7.301677703857422,
          -7.23676872253418,
          14.184679985046387,
          -26.33485984802246,
          17.45745086669922
         ]
        },
        {
         "line": {
          "color": "black",
          "width": 0.5
         },
         "opacity": 0.2,
         "type": "scatter",
         "x": [
          1,
          2,
          3,
          4,
          5,
          6,
          7,
          8,
          9
         ],
         "y": [
          4.161421298980713,
          -5.368185043334961,
          -1.6005680561065674,
          3.8636350631713867,
          2.187345027923584,
          2.9367339611053467,
          -7.382672309875488,
          11.224032402038574,
          -12.858451843261719
         ]
        },
        {
         "line": {
          "color": "black",
          "width": 0.5
         },
         "opacity": 0.2,
         "type": "scatter",
         "x": [
          1,
          2,
          3,
          4,
          5,
          6,
          7,
          8,
          9
         ],
         "y": [
          -15.218899726867676,
          -4.064467430114746,
          -7.309382915496826,
          -30.2686767578125,
          -9.28152084350586,
          -10.899957656860352,
          -7.089973449707031,
          -32.008304595947266,
          -12.316603660583496
         ]
        },
        {
         "line": {
          "color": "black",
          "width": 0.5
         },
         "opacity": 0.2,
         "type": "scatter",
         "x": [
          1,
          2,
          3,
          4,
          5,
          6,
          7,
          8,
          9
         ],
         "y": [
          0.10017383098602295,
          -8.774341583251953,
          -0.4899348020553589,
          -13.745855331420898,
          -0.9538441300392151,
          -5.070710182189941,
          -10.621153831481934,
          0.13751602172851562,
          -16.471590042114258
         ]
        },
        {
         "line": {
          "color": "black",
          "width": 0.5
         },
         "opacity": 0.2,
         "type": "scatter",
         "x": [
          1,
          2,
          3,
          4,
          5,
          6,
          7,
          8,
          9
         ],
         "y": [
          4.265206336975098,
          -5.7305908203125,
          3.4676907062530518,
          1.2069530487060547,
          2.0017504692077637,
          1.1727344989776611,
          -6.1170549392700195,
          8.06287956237793,
          -14.306459426879883
         ]
        },
        {
         "line": {
          "color": "black",
          "width": 0.5
         },
         "opacity": 0.2,
         "type": "scatter",
         "x": [
          1,
          2,
          3,
          4,
          5,
          6,
          7,
          8,
          9
         ],
         "y": [
          5.977057933807373,
          8.281014442443848,
          0.08564245700836182,
          29.240760803222656,
          -0.3647214472293854,
          7.067615032196045,
          9.10074234008789,
          15.837855339050293,
          15.794486999511719
         ]
        },
        {
         "line": {
          "color": "black",
          "width": 0.5
         },
         "opacity": 0.2,
         "type": "scatter",
         "x": [
          1,
          2,
          3,
          4,
          5,
          6,
          7,
          8,
          9
         ],
         "y": [
          7.939291000366211,
          -5.412371635437012,
          6.999616622924805,
          -12.98603630065918,
          4.616326332092285,
          -5.771799087524414,
          -6.435373306274414,
          1.8932437896728516,
          0.4847581386566162
         ]
        },
        {
         "line": {
          "color": "black",
          "width": 0.5
         },
         "opacity": 0.2,
         "type": "scatter",
         "x": [
          1,
          2,
          3,
          4,
          5,
          6,
          7,
          8,
          9
         ],
         "y": [
          0.297868013381958,
          1.6225858926773071,
          -0.654958188533783,
          6.84437370300293,
          -3.5334343910217285,
          -3.2041194438934326,
          5.071965217590332,
          -0.7251812219619751,
          -2.7137961387634277
         ]
        },
        {
         "line": {
          "color": "black",
          "width": 0.5
         },
         "opacity": 0.2,
         "type": "scatter",
         "x": [
          1,
          2,
          3,
          4,
          5,
          6,
          7,
          8,
          9
         ],
         "y": [
          -14.618422508239746,
          -23.544618606567383,
          -12.55402946472168,
          -89.69648742675781,
          -4.448071002960205,
          -32.602928161621094,
          -35.6877555847168,
          -46.76405334472656,
          -42.27938461303711
         ]
        },
        {
         "line": {
          "color": "black",
          "width": 0.5
         },
         "opacity": 0.2,
         "type": "scatter",
         "x": [
          1,
          2,
          3,
          4,
          5,
          6,
          7,
          8,
          9
         ],
         "y": [
          12.952842712402344,
          21.095787048339844,
          3.8328769207000732,
          53.011478424072266,
          0.7658959031105042,
          16.185985565185547,
          26.39333724975586,
          16.92018699645996,
          31.309057235717773
         ]
        },
        {
         "line": {
          "color": "black",
          "width": 0.5
         },
         "opacity": 0.2,
         "type": "scatter",
         "x": [
          1,
          2,
          3,
          4,
          5,
          6,
          7,
          8,
          9
         ],
         "y": [
          9.943255424499512,
          1.3704434633255005,
          3.6042957305908203,
          25.83890151977539,
          1.724865198135376,
          9.049236297607422,
          -0.08902978897094727,
          21.825786590576172,
          -3.627020835876465
         ]
        },
        {
         "line": {
          "color": "black",
          "width": 0.5
         },
         "opacity": 0.2,
         "type": "scatter",
         "x": [
          1,
          2,
          3,
          4,
          5,
          6,
          7,
          8,
          9
         ],
         "y": [
          1.62873375415802,
          -2.892806053161621,
          1.0098598003387451,
          0.25190305709838867,
          1.177732229232788,
          2.6860854625701904,
          0.26750874519348145,
          4.2407355308532715,
          -4.576557159423828
         ]
        },
        {
         "line": {
          "color": "black",
          "width": 0.5
         },
         "opacity": 0.2,
         "type": "scatter",
         "x": [
          1,
          2,
          3,
          4,
          5,
          6,
          7,
          8,
          9
         ],
         "y": [
          12.693476676940918,
          -9.131893157958984,
          5.3688154220581055,
          16.212085723876953,
          6.0286431312561035,
          10.63430118560791,
          -13.406801223754883,
          26.21611976623535,
          -25.939960479736328
         ]
        },
        {
         "line": {
          "color": "black",
          "width": 0.5
         },
         "opacity": 0.2,
         "type": "scatter",
         "x": [
          1,
          2,
          3,
          4,
          5,
          6,
          7,
          8,
          9
         ],
         "y": [
          4.28085470199585,
          -0.31724947690963745,
          -1.1381664276123047,
          11.309711456298828,
          2.32523775100708,
          5.973926544189453,
          2.1252617835998535,
          12.680733680725098,
          -5.549453258514404
         ]
        },
        {
         "line": {
          "color": "black",
          "width": 0.5
         },
         "opacity": 0.2,
         "type": "scatter",
         "x": [
          1,
          2,
          3,
          4,
          5,
          6,
          7,
          8,
          9
         ],
         "y": [
          -16.85193634033203,
          10.897332191467285,
          -13.668797492980957,
          0.6467370986938477,
          -1.6794205904006958,
          7.443829536437988,
          16.431568145751953,
          -18.202537536621094,
          18.159626007080078
         ]
        },
        {
         "line": {
          "color": "black",
          "width": 0.5
         },
         "opacity": 0.2,
         "type": "scatter",
         "x": [
          1,
          2,
          3,
          4,
          5,
          6,
          7,
          8,
          9
         ],
         "y": [
          -1.1140786409378052,
          1.2855077981948853,
          -1.290462613105774,
          13.96749496459961,
          1.4527174234390259,
          11.650346755981445,
          1.4689664840698242,
          15.044590950012207,
          11.142520904541016
         ]
        },
        {
         "line": {
          "color": "black",
          "width": 0.5
         },
         "opacity": 0.2,
         "type": "scatter",
         "x": [
          1,
          2,
          3,
          4,
          5,
          6,
          7,
          8,
          9
         ],
         "y": [
          -6.072906970977783,
          -0.7338564395904541,
          0.39173024892807007,
          -15.837823867797852,
          0.3285483121871948,
          -5.689284324645996,
          -4.594443321228027,
          -7.220792770385742,
          2.0982236862182617
         ]
        },
        {
         "line": {
          "color": "black",
          "width": 0.5
         },
         "opacity": 0.2,
         "type": "scatter",
         "x": [
          1,
          2,
          3,
          4,
          5,
          6,
          7,
          8,
          9
         ],
         "y": [
          -3.522223472595215,
          -6.577960968017578,
          -2.1390180587768555,
          -22.10548210144043,
          -1.5577150583267212,
          -8.631795883178711,
          -6.552356719970703,
          -8.124037742614746,
          -4.645681381225586
         ]
        },
        {
         "line": {
          "color": "black",
          "width": 0.5
         },
         "opacity": 0.2,
         "type": "scatter",
         "x": [
          1,
          2,
          3,
          4,
          5,
          6,
          7,
          8,
          9
         ],
         "y": [
          -7.22322940826416,
          -5.6033935546875,
          -3.136476755142212,
          -24.382164001464844,
          -2.942955493927002,
          -10.077962875366211,
          -4.198422908782959,
          -14.446642875671387,
          -13.26960277557373
         ]
        },
        {
         "line": {
          "color": "black",
          "width": 0.5
         },
         "opacity": 0.2,
         "type": "scatter",
         "x": [
          1,
          2,
          3,
          4,
          5,
          6,
          7,
          8,
          9
         ],
         "y": [
          -7.981553554534912,
          11.827524185180664,
          0.19553792476654053,
          8.028084754943848,
          -2.633640766143799,
          1.357492208480835,
          15.210956573486328,
          0.41989707946777344,
          19.686994552612305
         ]
        },
        {
         "line": {
          "color": "black",
          "width": 0.5
         },
         "opacity": 0.2,
         "type": "scatter",
         "x": [
          1,
          2,
          3,
          4,
          5,
          6,
          7,
          8,
          9
         ],
         "y": [
          11.861223220825195,
          9.822813987731934,
          4.0540995597839355,
          37.249908447265625,
          4.907662391662598,
          14.510300636291504,
          11.55300235748291,
          22.970783233642578,
          27.428707122802734
         ]
        },
        {
         "line": {
          "color": "black",
          "width": 0.5
         },
         "opacity": 0.2,
         "type": "scatter",
         "x": [
          1,
          2,
          3,
          4,
          5,
          6,
          7,
          8,
          9
         ],
         "y": [
          -10.410943984985352,
          -39.917930603027344,
          -3.4572391510009766,
          -102.76451110839844,
          2.6795125007629395,
          -31.48228645324707,
          -44.54004669189453,
          -32.39975357055664,
          -48.779293060302734
         ]
        },
        {
         "line": {
          "color": "black",
          "width": 0.5
         },
         "opacity": 0.2,
         "type": "scatter",
         "x": [
          1,
          2,
          3,
          4,
          5,
          6,
          7,
          8,
          9
         ],
         "y": [
          0.613434910774231,
          2.6610171794891357,
          0.6685226559638977,
          10.387157440185547,
          2.8135578632354736,
          7.285246849060059,
          -1.2412729263305664,
          8.874574661254883,
          -1.0130565166473389
         ]
        },
        {
         "line": {
          "color": "black",
          "width": 0.5
         },
         "opacity": 0.2,
         "type": "scatter",
         "x": [
          1,
          2,
          3,
          4,
          5,
          6,
          7,
          8,
          9
         ],
         "y": [
          1.383044719696045,
          6.156057834625244,
          1.405230164527893,
          13.436498641967773,
          1.5323303937911987,
          5.498997688293457,
          6.964358806610107,
          4.358475685119629,
          12.66553020477295
         ]
        },
        {
         "line": {
          "color": "black",
          "width": 0.5
         },
         "opacity": 0.2,
         "type": "scatter",
         "x": [
          1,
          2,
          3,
          4,
          5,
          6,
          7,
          8,
          9
         ],
         "y": [
          6.27069091796875,
          8.552351951599121,
          4.795775890350342,
          20.310653686523438,
          0.3788018226623535,
          2.334535598754883,
          9.264857292175293,
          0.14276838302612305,
          24.288249969482422
         ]
        },
        {
         "line": {
          "color": "black",
          "width": 0.5
         },
         "opacity": 0.2,
         "type": "scatter",
         "x": [
          1,
          2,
          3,
          4,
          5,
          6,
          7,
          8,
          9
         ],
         "y": [
          11.069772720336914,
          -12.965127944946289,
          4.590847015380859,
          3.8276891708374023,
          1.2219513654708862,
          -0.49483275413513184,
          -6.071186542510986,
          18.710941314697266,
          -23.614627838134766
         ]
        },
        {
         "line": {
          "color": "black",
          "width": 0.5
         },
         "opacity": 0.2,
         "type": "scatter",
         "x": [
          1,
          2,
          3,
          4,
          5,
          6,
          7,
          8,
          9
         ],
         "y": [
          3.911656141281128,
          2.9167251586914062,
          2.017301559448242,
          9.839975357055664,
          -1.1980148553848267,
          -0.3636651039123535,
          2.135563373565674,
          2.786360263824463,
          -0.4870762228965759
         ]
        },
        {
         "line": {
          "color": "black",
          "width": 0.5
         },
         "opacity": 0.2,
         "type": "scatter",
         "x": [
          1,
          2,
          3,
          4,
          5,
          6,
          7,
          8,
          9
         ],
         "y": [
          -0.27445554733276367,
          -21.5698299407959,
          -1.9002900123596191,
          -26.961376190185547,
          -0.9295516014099121,
          -6.959737777709961,
          -28.21653938293457,
          1.6917171478271484,
          -46.74919128417969
         ]
        },
        {
         "line": {
          "color": "black",
          "width": 0.5
         },
         "opacity": 0.2,
         "type": "scatter",
         "x": [
          1,
          2,
          3,
          4,
          5,
          6,
          7,
          8,
          9
         ],
         "y": [
          3.467430591583252,
          1.7701703310012817,
          -3.2976856231689453,
          18.38159942626953,
          3.7735953330993652,
          10.052702903747559,
          -2.625974416732788,
          18.701839447021484,
          -4.041051864624023
         ]
        },
        {
         "line": {
          "color": "black",
          "width": 0.5
         },
         "opacity": 0.2,
         "type": "scatter",
         "x": [
          1,
          2,
          3,
          4,
          5,
          6,
          7,
          8,
          9
         ],
         "y": [
          0.7327615022659302,
          -0.95310378074646,
          0.08729907125234604,
          0.7856738567352295,
          -0.005860941484570503,
          -0.23220522701740265,
          -1.1949825286865234,
          1.2893924713134766,
          -3.7393720149993896
         ]
        },
        {
         "line": {
          "color": "black",
          "width": 0.5
         },
         "opacity": 0.2,
         "type": "scatter",
         "x": [
          1,
          2,
          3,
          4,
          5,
          6,
          7,
          8,
          9
         ],
         "y": [
          -13.847155570983887,
          -4.792110919952393,
          -5.4243855476379395,
          -41.70516586303711,
          -4.3385515213012695,
          -17.387758255004883,
          -7.846109390258789,
          -27.53558349609375,
          -15.976548194885254
         ]
        },
        {
         "line": {
          "color": "black",
          "width": 0.5
         },
         "opacity": 0.2,
         "type": "scatter",
         "x": [
          1,
          2,
          3,
          4,
          5,
          6,
          7,
          8,
          9
         ],
         "y": [
          -3.0905182361602783,
          -13.492415428161621,
          -1.0889322757720947,
          -36.7305908203125,
          -3.067119598388672,
          -12.178518295288086,
          -14.40211296081543,
          -20.40054702758789,
          -23.078166961669922
         ]
        },
        {
         "line": {
          "color": "black",
          "width": 0.5
         },
         "opacity": 0.2,
         "type": "scatter",
         "x": [
          1,
          2,
          3,
          4,
          5,
          6,
          7,
          8,
          9
         ],
         "y": [
          10.343633651733398,
          9.437409400939941,
          6.266415119171143,
          40.30731201171875,
          6.1235198974609375,
          19.757198333740234,
          9.340536117553711,
          31.367431640625,
          21.7852840423584
         ]
        },
        {
         "line": {
          "color": "black",
          "width": 0.5
         },
         "opacity": 0.2,
         "type": "scatter",
         "x": [
          1,
          2,
          3,
          4,
          5,
          6,
          7,
          8,
          9
         ],
         "y": [
          25.790401458740234,
          0.972422182559967,
          10.700052261352539,
          62.061798095703125,
          9.754829406738281,
          27.724273681640625,
          3.0513205528259277,
          53.1422119140625,
          6.351254463195801
         ]
        },
        {
         "line": {
          "color": "black",
          "width": 0.5
         },
         "opacity": 0.2,
         "type": "scatter",
         "x": [
          1,
          2,
          3,
          4,
          5,
          6,
          7,
          8,
          9
         ],
         "y": [
          9.701542854309082,
          -0.5661938190460205,
          5.9107232093811035,
          14.590744018554688,
          1.2541329860687256,
          2.208552360534668,
          2.615156650543213,
          13.224597930908203,
          4.195861339569092
         ]
        },
        {
         "line": {
          "color": "black",
          "width": 0.5
         },
         "opacity": 0.2,
         "type": "scatter",
         "x": [
          1,
          2,
          3,
          4,
          5,
          6,
          7,
          8,
          9
         ],
         "y": [
          5.009866714477539,
          4.523270130157471,
          0.18432247638702393,
          18.28925132751465,
          -1.9135655164718628,
          0.832045316696167,
          9.20887565612793,
          10.173734664916992,
          4.078697204589844
         ]
        },
        {
         "line": {
          "color": "black",
          "width": 0.5
         },
         "opacity": 0.2,
         "type": "scatter",
         "x": [
          1,
          2,
          3,
          4,
          5,
          6,
          7,
          8,
          9
         ],
         "y": [
          7.432389259338379,
          1.7090489864349365,
          2.542085647583008,
          9.880533218383789,
          1.6696527004241943,
          1.7778679132461548,
          3.8602242469787598,
          2.0921802520751953,
          0.3286234736442566
         ]
        },
        {
         "line": {
          "color": "black",
          "width": 0.5
         },
         "opacity": 0.2,
         "type": "scatter",
         "x": [
          1,
          2,
          3,
          4,
          5,
          6,
          7,
          8,
          9
         ],
         "y": [
          9.126229286193848,
          0.363208532333374,
          2.4788684844970703,
          14.84245491027832,
          3.400195360183716,
          8.29854965209961,
          -0.3266146183013916,
          12.291789054870605,
          -2.452733278274536
         ]
        },
        {
         "line": {
          "color": "black",
          "width": 0.5
         },
         "opacity": 0.2,
         "type": "scatter",
         "x": [
          1,
          2,
          3,
          4,
          5,
          6,
          7,
          8,
          9
         ],
         "y": [
          3.3213002681732178,
          7.211837291717529,
          -0.9900703430175781,
          28.655717849731445,
          -4.893091201782227,
          6.089912414550781,
          17.954242706298828,
          6.883172988891602,
          14.48982048034668
         ]
        },
        {
         "line": {
          "color": "black",
          "width": 0.5
         },
         "opacity": 0.2,
         "type": "scatter",
         "x": [
          1,
          2,
          3,
          4,
          5,
          6,
          7,
          8,
          9
         ],
         "y": [
          -3.921016216278076,
          4.259278297424316,
          -3.676544666290283,
          2.310055732727051,
          -0.6864736676216125,
          1.691135287284851,
          2.1367664337158203,
          -2.0316312313079834,
          5.569813251495361
         ]
        },
        {
         "line": {
          "color": "black",
          "width": 0.5
         },
         "opacity": 0.2,
         "type": "scatter",
         "x": [
          1,
          2,
          3,
          4,
          5,
          6,
          7,
          8,
          9
         ],
         "y": [
          0.6592178344726562,
          4.207881450653076,
          4.764829158782959,
          2.161407947540283,
          -1.8687098026275635,
          -4.921340465545654,
          4.953281402587891,
          -2.5454063415527344,
          6.6554694175720215
         ]
        },
        {
         "line": {
          "color": "black",
          "width": 0.5
         },
         "opacity": 0.2,
         "type": "scatter",
         "x": [
          1,
          2,
          3,
          4,
          5,
          6,
          7,
          8,
          9
         ],
         "y": [
          -1.6742963790893555,
          -24.037593841552734,
          6.190615653991699,
          -45.376548767089844,
          -2.52844500541687,
          -18.568906784057617,
          -29.822065353393555,
          -15.021949768066406,
          -44.234100341796875
         ]
        },
        {
         "line": {
          "color": "black",
          "width": 0.5
         },
         "opacity": 0.2,
         "type": "scatter",
         "x": [
          1,
          2,
          3,
          4,
          5,
          6,
          7,
          8,
          9
         ],
         "y": [
          -21.13921356201172,
          1.8825801610946655,
          -8.858848571777344,
          -48.22916030883789,
          -10.500995635986328,
          -25.393688201904297,
          0.9106428623199463,
          -46.81660461425781,
          0.8055803775787354
         ]
        },
        {
         "line": {
          "color": "black",
          "width": 0.5
         },
         "opacity": 0.2,
         "type": "scatter",
         "x": [
          1,
          2,
          3,
          4,
          5,
          6,
          7,
          8,
          9
         ],
         "y": [
          9.22976016998291,
          3.8143959045410156,
          2.5925815105438232,
          23.838306427001953,
          1.5923655033111572,
          9.863448143005371,
          6.304323196411133,
          15.305981636047363,
          6.137446403503418
         ]
        },
        {
         "line": {
          "color": "black",
          "width": 0.5
         },
         "opacity": 0.2,
         "type": "scatter",
         "x": [
          1,
          2,
          3,
          4,
          5,
          6,
          7,
          8,
          9
         ],
         "y": [
          15.584394454956055,
          11.980897903442383,
          5.700249671936035,
          57.909584045410156,
          5.0658674240112305,
          22.457561492919922,
          18.35699462890625,
          35.864967346191406,
          31.341007232666016
         ]
        },
        {
         "line": {
          "color": "black",
          "width": 0.5
         },
         "opacity": 0.2,
         "type": "scatter",
         "x": [
          1,
          2,
          3,
          4,
          5,
          6,
          7,
          8,
          9
         ],
         "y": [
          -9.624506950378418,
          -6.532791614532471,
          0.832426905632019,
          -24.88814353942871,
          0.6851290464401245,
          -6.204805374145508,
          -10.744736671447754,
          -11.342729568481445,
          -32.60675048828125
         ]
        },
        {
         "line": {
          "color": "black",
          "width": 0.5
         },
         "opacity": 0.2,
         "type": "scatter",
         "x": [
          1,
          2,
          3,
          4,
          5,
          6,
          7,
          8,
          9
         ],
         "y": [
          26.314693450927734,
          -9.193486213684082,
          12.964897155761719,
          36.43413543701172,
          5.980284690856934,
          8.264287948608398,
          -13.285125732421875,
          39.220130920410156,
          -44.76477813720703
         ]
        },
        {
         "line": {
          "color": "black",
          "width": 0.5
         },
         "opacity": 0.2,
         "type": "scatter",
         "x": [
          1,
          2,
          3,
          4,
          5,
          6,
          7,
          8,
          9
         ],
         "y": [
          -6.176591873168945,
          7.907236099243164,
          -7.388314723968506,
          16.654666900634766,
          1.6926134824752808,
          12.79280948638916,
          5.066781044006348,
          7.413991451263428,
          0.5727944374084473
         ]
        },
        {
         "line": {
          "color": "black",
          "width": 0.5
         },
         "opacity": 0.2,
         "type": "scatter",
         "x": [
          1,
          2,
          3,
          4,
          5,
          6,
          7,
          8,
          9
         ],
         "y": [
          -52.3837890625,
          2.486070156097412,
          -23.651823043823242,
          -94.13728332519531,
          -21.06020736694336,
          -42.204750061035156,
          -4.466303825378418,
          -90.65461730957031,
          -13.443960189819336
         ]
        },
        {
         "line": {
          "color": "black",
          "width": 0.5
         },
         "opacity": 0.2,
         "type": "scatter",
         "x": [
          1,
          2,
          3,
          4,
          5,
          6,
          7,
          8,
          9
         ],
         "y": [
          -5.1207098960876465,
          0.5474331378936768,
          -0.07518213987350464,
          -0.2103215456008911,
          -4.306279182434082,
          -4.736645221710205,
          -2.4374380111694336,
          -2.8694262504577637,
          1.0889363288879395
         ]
        },
        {
         "line": {
          "color": "black",
          "width": 0.5
         },
         "opacity": 0.2,
         "type": "scatter",
         "x": [
          1,
          2,
          3,
          4,
          5,
          6,
          7,
          8,
          9
         ],
         "y": [
          -3.7001142501831055,
          14.546101570129395,
          -3.5528082847595215,
          19.972835540771484,
          -2.064877986907959,
          3.8877241611480713,
          18.221637725830078,
          2.668855667114258,
          23.08938980102539
         ]
        },
        {
         "line": {
          "color": "black",
          "width": 0.5
         },
         "opacity": 0.2,
         "type": "scatter",
         "x": [
          1,
          2,
          3,
          4,
          5,
          6,
          7,
          8,
          9
         ],
         "y": [
          -13.817021369934082,
          -9.852760314941406,
          -2.7175683975219727,
          -46.005374908447266,
          -1.7482459545135498,
          -15.344515800476074,
          -19.799606323242188,
          -27.017852783203125,
          -24.123958587646484
         ]
        },
        {
         "line": {
          "color": "black",
          "width": 0.5
         },
         "opacity": 0.2,
         "type": "scatter",
         "x": [
          1,
          2,
          3,
          4,
          5,
          6,
          7,
          8,
          9
         ],
         "y": [
          -20.60826301574707,
          3.995253801345825,
          -11.350847244262695,
          -44.36236572265625,
          -12.984745025634766,
          -25.86914825439453,
          7.812700271606445,
          -52.486083984375,
          3.664180278778076
         ]
        },
        {
         "line": {
          "color": "black",
          "width": 0.5
         },
         "opacity": 0.2,
         "type": "scatter",
         "x": [
          1,
          2,
          3,
          4,
          5,
          6,
          7,
          8,
          9
         ],
         "y": [
          -11.357781410217285,
          -9.477299690246582,
          -3.251208543777466,
          -44.77191925048828,
          -0.978229284286499,
          -13.530753135681152,
          -20.448562622070312,
          -20.927213668823242,
          -12.138402938842773
         ]
        },
        {
         "line": {
          "color": "black",
          "width": 0.5
         },
         "opacity": 0.2,
         "type": "scatter",
         "x": [
          1,
          2,
          3,
          4,
          5,
          6,
          7,
          8,
          9
         ],
         "y": [
          -66.8029556274414,
          -5.050341606140137,
          -26.445966720581055,
          -160.19949340820312,
          -22.794593811035156,
          -67.1711196899414,
          -12.327064514160156,
          -135.366455078125,
          0.5187901258468628
         ]
        },
        {
         "line": {
          "color": "black",
          "width": 0.5
         },
         "opacity": 0.2,
         "type": "scatter",
         "x": [
          1,
          2,
          3,
          4,
          5,
          6,
          7,
          8,
          9
         ],
         "y": [
          0.19226974248886108,
          0.5418579578399658,
          1.1168923377990723,
          4.772726058959961,
          0.6930302381515503,
          2.877481460571289,
          -1.441482663154602,
          5.920619964599609,
          6.581451416015625
         ]
        },
        {
         "line": {
          "color": "black",
          "width": 0.5
         },
         "opacity": 0.2,
         "type": "scatter",
         "x": [
          1,
          2,
          3,
          4,
          5,
          6,
          7,
          8,
          9
         ],
         "y": [
          -4.5218281745910645,
          1.891520619392395,
          -3.3706536293029785,
          -7.829913139343262,
          2.167173385620117,
          0.9824299812316895,
          1.835059642791748,
          -2.683847188949585,
          14.124610900878906
         ]
        },
        {
         "line": {
          "color": "black",
          "width": 0.5
         },
         "opacity": 0.2,
         "type": "scatter",
         "x": [
          1,
          2,
          3,
          4,
          5,
          6,
          7,
          8,
          9
         ],
         "y": [
          -2.4751245975494385,
          -3.030857801437378,
          -1.7376927137374878,
          -5.333174705505371,
          6.363406658172607,
          8.70389175415039,
          -9.014190673828125,
          -1.6798067092895508,
          -4.788405895233154
         ]
        },
        {
         "line": {
          "color": "black",
          "width": 0.5
         },
         "opacity": 0.2,
         "type": "scatter",
         "x": [
          1,
          2,
          3,
          4,
          5,
          6,
          7,
          8,
          9
         ],
         "y": [
          -21.663368225097656,
          -26.255916595458984,
          -9.892155647277832,
          -74.17549133300781,
          -1.161573052406311,
          -18.193214416503906,
          -37.15534591674805,
          -25.95659065246582,
          -50.33350372314453
         ]
        },
        {
         "line": {
          "color": "black",
          "width": 0.5
         },
         "opacity": 0.2,
         "type": "scatter",
         "x": [
          1,
          2,
          3,
          4,
          5,
          6,
          7,
          8,
          9
         ],
         "y": [
          4.547061920166016,
          1.5280499458312988,
          3.98876690864563,
          14.0216064453125,
          3.612290620803833,
          4.226101875305176,
          -6.96076774597168,
          19.32647705078125,
          -6.012265682220459
         ]
        },
        {
         "line": {
          "color": "black",
          "width": 0.5
         },
         "opacity": 0.2,
         "type": "scatter",
         "x": [
          1,
          2,
          3,
          4,
          5,
          6,
          7,
          8,
          9
         ],
         "y": [
          11.452081680297852,
          -14.792329788208008,
          12.483906745910645,
          5.874788284301758,
          11.229594230651855,
          14.06022834777832,
          -17.085403442382812,
          24.562353134155273,
          -10.854467391967773
         ]
        },
        {
         "line": {
          "color": "black",
          "width": 0.5
         },
         "opacity": 0.2,
         "type": "scatter",
         "x": [
          1,
          2,
          3,
          4,
          5,
          6,
          7,
          8,
          9
         ],
         "y": [
          9.186797142028809,
          7.184100151062012,
          7.338689804077148,
          22.291767120361328,
          2.093172073364258,
          4.759997367858887,
          5.613166332244873,
          10.175028800964355,
          5.647652626037598
         ]
        },
        {
         "line": {
          "color": "black",
          "width": 0.5
         },
         "opacity": 0.2,
         "type": "scatter",
         "x": [
          1,
          2,
          3,
          4,
          5,
          6,
          7,
          8,
          9
         ],
         "y": [
          4.126054286956787,
          15.130123138427734,
          4.357754707336426,
          35.87614059448242,
          4.519676208496094,
          16.98969841003418,
          10.877511024475098,
          18.21778106689453,
          33.585689544677734
         ]
        },
        {
         "line": {
          "color": "black",
          "width": 0.5
         },
         "opacity": 0.2,
         "type": "scatter",
         "x": [
          1,
          2,
          3,
          4,
          5,
          6,
          7,
          8,
          9
         ],
         "y": [
          1.7140984535217285,
          9.074507713317871,
          -0.011052370071411133,
          26.3453311920166,
          -1.8848299980163574,
          10.374054908752441,
          14.883869171142578,
          9.392820358276367,
          13.726468086242676
         ]
        },
        {
         "line": {
          "color": "black",
          "width": 0.5
         },
         "opacity": 0.2,
         "type": "scatter",
         "x": [
          1,
          2,
          3,
          4,
          5,
          6,
          7,
          8,
          9
         ],
         "y": [
          -1.2021664381027222,
          -3.4107327461242676,
          -1.3773658275604248,
          -12.01022720336914,
          -2.2392542362213135,
          -6.307147979736328,
          -1.4705878496170044,
          -8.45261001586914,
          -4.969909191131592
         ]
        },
        {
         "line": {
          "color": "black",
          "width": 0.5
         },
         "opacity": 0.2,
         "type": "scatter",
         "x": [
          1,
          2,
          3,
          4,
          5,
          6,
          7,
          8,
          9
         ],
         "y": [
          0.4901374578475952,
          -1.193772315979004,
          -1.3112003803253174,
          2.0537900924682617,
          0.07248792052268982,
          0.44887876510620117,
          -1.937193751335144,
          2.053199052810669,
          -8.087684631347656
         ]
        },
        {
         "line": {
          "color": "black",
          "width": 0.5
         },
         "opacity": 0.2,
         "type": "scatter",
         "x": [
          1,
          2,
          3,
          4,
          5,
          6,
          7,
          8,
          9
         ],
         "y": [
          -1.0136929750442505,
          2.484498977661133,
          -0.23668743669986725,
          -0.15654391050338745,
          -0.3281385898590088,
          -0.7010452747344971,
          1.2198734283447266,
          -2.7090444564819336,
          6.36661434173584
         ]
        },
        {
         "line": {
          "color": "black",
          "width": 0.5
         },
         "opacity": 0.2,
         "type": "scatter",
         "x": [
          1,
          2,
          3,
          4,
          5,
          6,
          7,
          8,
          9
         ],
         "y": [
          1.8045308589935303,
          15.43415355682373,
          2.073949098587036,
          29.59058952331543,
          -1.8361454010009766,
          8.211275100708008,
          21.92969512939453,
          3.1941142082214355,
          28.936595916748047
         ]
        },
        {
         "line": {
          "color": "black",
          "width": 0.5
         },
         "opacity": 0.2,
         "type": "scatter",
         "x": [
          1,
          2,
          3,
          4,
          5,
          6,
          7,
          8,
          9
         ],
         "y": [
          -30.896038055419922,
          -3.6894402503967285,
          -4.384142875671387,
          -68.36692810058594,
          -3.896253824234009,
          -21.988943099975586,
          -13.896994590759277,
          -45.237091064453125,
          1.5555768013000488
         ]
        },
        {
         "line": {
          "color": "black",
          "width": 0.5
         },
         "opacity": 0.2,
         "type": "scatter",
         "x": [
          1,
          2,
          3,
          4,
          5,
          6,
          7,
          8,
          9
         ],
         "y": [
          -3.71127986907959,
          4.587449073791504,
          -1.5846890211105347,
          -8.19250774383545,
          -0.31431132555007935,
          -3.8850626945495605,
          2.1663312911987305,
          -19.574111938476562,
          11.305809020996094
         ]
        },
        {
         "line": {
          "color": "black",
          "width": 0.5
         },
         "opacity": 0.2,
         "type": "scatter",
         "x": [
          1,
          2,
          3,
          4,
          5,
          6,
          7,
          8,
          9
         ],
         "y": [
          -15.517123222351074,
          -9.217778205871582,
          -7.606756210327148,
          -47.42366027832031,
          -8.226968765258789,
          -20.91903305053711,
          -8.534772872924805,
          -33.81669235229492,
          -36.860504150390625
         ]
        },
        {
         "line": {
          "color": "black",
          "width": 0.5
         },
         "opacity": 0.2,
         "type": "scatter",
         "x": [
          1,
          2,
          3,
          4,
          5,
          6,
          7,
          8,
          9
         ],
         "y": [
          -5.829217910766602,
          -10.2671537399292,
          -1.0251736640930176,
          -42.060489654541016,
          -6.142951965332031,
          -21.641250610351562,
          -9.280052185058594,
          -25.43604278564453,
          -3.2569918632507324
         ]
        },
        {
         "line": {
          "color": "black",
          "width": 0.5
         },
         "opacity": 0.2,
         "type": "scatter",
         "x": [
          1,
          2,
          3,
          4,
          5,
          6,
          7,
          8,
          9
         ],
         "y": [
          -1.7255326509475708,
          -7.979921340942383,
          -1.5420594215393066,
          -13.449148178100586,
          -3.8109185695648193,
          -8.301568031311035,
          -6.837897300720215,
          -3.428755760192871,
          -19.557172775268555
         ]
        },
        {
         "line": {
          "color": "black",
          "width": 0.5
         },
         "opacity": 0.2,
         "type": "scatter",
         "x": [
          1,
          2,
          3,
          4,
          5,
          6,
          7,
          8,
          9
         ],
         "y": [
          -16.621728897094727,
          8.152521133422852,
          -8.246296882629395,
          -19.894886016845703,
          -2.6519851684570312,
          -5.935646057128906,
          -8.429115295410156,
          -26.271133422851562,
          1.869218349456787
         ]
        },
        {
         "line": {
          "color": "black",
          "width": 0.5
         },
         "opacity": 0.2,
         "type": "scatter",
         "x": [
          1,
          2,
          3,
          4,
          5,
          6,
          7,
          8,
          9
         ],
         "y": [
          4.0096330642700195,
          1.4062610864639282,
          -1.6245062351226807,
          9.200386047363281,
          1.6176953315734863,
          3.008615732192993,
          4.1792216300964355,
          6.986048698425293,
          -3.477139472961426
         ]
        },
        {
         "line": {
          "color": "black",
          "width": 0.5
         },
         "opacity": 0.2,
         "type": "scatter",
         "x": [
          1,
          2,
          3,
          4,
          5,
          6,
          7,
          8,
          9
         ],
         "y": [
          0.959953784942627,
          -10.292320251464844,
          1.751402497291565,
          -19.236984252929688,
          0.45573294162750244,
          -3.3221304416656494,
          -10.446733474731445,
          2.3615562915802,
          -17.493423461914062
         ]
        },
        {
         "line": {
          "color": "black",
          "width": 0.5
         },
         "opacity": 0.2,
         "type": "scatter",
         "x": [
          1,
          2,
          3,
          4,
          5,
          6,
          7,
          8,
          9
         ],
         "y": [
          -0.24672096967697144,
          1.3949143886566162,
          0.18663406372070312,
          -1.0960015058517456,
          -0.5608805418014526,
          -1.6075937747955322,
          1.9140874147415161,
          -2.924689292907715,
          3.128175735473633
         ]
        },
        {
         "line": {
          "color": "black",
          "width": 0.5
         },
         "opacity": 0.2,
         "type": "scatter",
         "x": [
          1,
          2,
          3,
          4,
          5,
          6,
          7,
          8,
          9
         ],
         "y": [
          -6.84768009185791,
          -8.537344932556152,
          -6.529300689697266,
          -11.044107437133789,
          -8.374286651611328,
          -6.066690444946289,
          2.8101110458374023,
          -3.2491745948791504,
          -24.109230041503906
         ]
        },
        {
         "line": {
          "color": "black",
          "width": 0.5
         },
         "opacity": 0.2,
         "type": "scatter",
         "x": [
          1,
          2,
          3,
          4,
          5,
          6,
          7,
          8,
          9
         ],
         "y": [
          0.9398846626281738,
          5.605659484863281,
          0.08920907974243164,
          8.173788070678711,
          -0.6162320971488953,
          1.2176984548568726,
          4.647735595703125,
          0.06578207015991211,
          5.233616828918457
         ]
        },
        {
         "line": {
          "color": "black",
          "width": 0.5
         },
         "opacity": 0.2,
         "type": "scatter",
         "x": [
          1,
          2,
          3,
          4,
          5,
          6,
          7,
          8,
          9
         ],
         "y": [
          1.6132678985595703,
          1.7050466537475586,
          3.8419041633605957,
          28.78803253173828,
          0.8098171949386597,
          10.833995819091797,
          -5.01861047744751,
          25.31060218811035,
          4.158897399902344
         ]
        },
        {
         "line": {
          "color": "black",
          "width": 0.5
         },
         "opacity": 0.2,
         "type": "scatter",
         "x": [
          1,
          2,
          3,
          4,
          5,
          6,
          7,
          8,
          9
         ],
         "y": [
          -21.501880645751953,
          4.664714813232422,
          -11.967677116394043,
          -29.62490463256836,
          -9.477998733520508,
          -13.963801383972168,
          5.08125114440918,
          -34.139244079589844,
          -2.20700740814209
         ]
        },
        {
         "line": {
          "color": "black",
          "width": 0.5
         },
         "opacity": 0.2,
         "type": "scatter",
         "x": [
          1,
          2,
          3,
          4,
          5,
          6,
          7,
          8,
          9
         ],
         "y": [
          4.5455145835876465,
          9.95438289642334,
          1.1538609266281128,
          25.0221004486084,
          3.0270557403564453,
          11.064116477966309,
          9.085383415222168,
          11.258615493774414,
          22.97347068786621
         ]
        },
        {
         "line": {
          "color": "black",
          "width": 0.5
         },
         "opacity": 0.2,
         "type": "scatter",
         "x": [
          1,
          2,
          3,
          4,
          5,
          6,
          7,
          8,
          9
         ],
         "y": [
          -19.543119430541992,
          18.863422393798828,
          -6.8220906257629395,
          -23.843652725219727,
          -5.972940921783447,
          -13.435543060302734,
          16.61540985107422,
          -41.02383804321289,
          55.43443298339844
         ]
        },
        {
         "line": {
          "color": "black",
          "width": 0.5
         },
         "opacity": 0.2,
         "type": "scatter",
         "x": [
          1,
          2,
          3,
          4,
          5,
          6,
          7,
          8,
          9
         ],
         "y": [
          -4.3427934646606445,
          7.198729515075684,
          -5.434871673583984,
          3.2707204818725586,
          -2.5438311100006104,
          -4.069840431213379,
          5.2966837882995605,
          -14.8267183303833,
          -0.08857965469360352
         ]
        },
        {
         "line": {
          "color": "black",
          "width": 0.5
         },
         "opacity": 0.2,
         "type": "scatter",
         "x": [
          1,
          2,
          3,
          4,
          5,
          6,
          7,
          8,
          9
         ],
         "y": [
          0.06187605857849121,
          5.544933795928955,
          -0.6079610586166382,
          7.6238112449646,
          2.3824422359466553,
          5.773344993591309,
          10.203940391540527,
          1.1691343784332275,
          11.062456130981445
         ]
        },
        {
         "line": {
          "color": "black",
          "width": 0.5
         },
         "opacity": 0.2,
         "type": "scatter",
         "x": [
          1,
          2,
          3,
          4,
          5,
          6,
          7,
          8,
          9
         ],
         "y": [
          -8.630316734313965,
          -13.453600883483887,
          -2.0822594165802,
          -33.586795806884766,
          -1.2810649871826172,
          -11.797595977783203,
          -11.781540870666504,
          -15.730478286743164,
          -20.065414428710938
         ]
        },
        {
         "line": {
          "color": "black",
          "width": 0.5
         },
         "opacity": 0.2,
         "type": "scatter",
         "x": [
          1,
          2,
          3,
          4,
          5,
          6,
          7,
          8,
          9
         ],
         "y": [
          -8.51807689666748,
          -1.6946402788162231,
          -1.0281777381896973,
          -23.887069702148438,
          0.5314463973045349,
          -3.2695765495300293,
          -5.498598098754883,
          -20.07813835144043,
          -6.887367248535156
         ]
        },
        {
         "line": {
          "color": "black",
          "width": 0.5
         },
         "opacity": 0.2,
         "type": "scatter",
         "x": [
          1,
          2,
          3,
          4,
          5,
          6,
          7,
          8,
          9
         ],
         "y": [
          1.54371976852417,
          -5.674417495727539,
          1.5905945301055908,
          -0.36934375762939453,
          0.5368036031723022,
          1.3059382438659668,
          -7.012056350708008,
          8.122092247009277,
          -13.645618438720703
         ]
        },
        {
         "line": {
          "color": "black",
          "width": 0.5
         },
         "opacity": 0.2,
         "type": "scatter",
         "x": [
          1,
          2,
          3,
          4,
          5,
          6,
          7,
          8,
          9
         ],
         "y": [
          -1.4128152132034302,
          -4.152661323547363,
          -0.5645701885223389,
          -12.799734115600586,
          -0.7181684970855713,
          -5.113222122192383,
          -4.734126091003418,
          -6.810162544250488,
          -7.8482208251953125
         ]
        },
        {
         "line": {
          "color": "black",
          "width": 0.5
         },
         "opacity": 0.2,
         "type": "scatter",
         "x": [
          1,
          2,
          3,
          4,
          5,
          6,
          7,
          8,
          9
         ],
         "y": [
          -6.332855224609375,
          -4.058418273925781,
          -1.0814456939697266,
          -25.862979888916016,
          -1.703546166419983,
          -10.746397972106934,
          -2.1991093158721924,
          -19.898317337036133,
          -2.735161781311035
         ]
        },
        {
         "line": {
          "color": "black",
          "width": 0.5
         },
         "opacity": 0.2,
         "type": "scatter",
         "x": [
          1,
          2,
          3,
          4,
          5,
          6,
          7,
          8,
          9
         ],
         "y": [
          12.161264419555664,
          -4.5626115798950195,
          5.577633857727051,
          7.489708423614502,
          5.427488327026367,
          4.821720123291016,
          -3.4388697147369385,
          11.210787773132324,
          -4.223529815673828
         ]
        },
        {
         "line": {
          "color": "black",
          "width": 0.5
         },
         "opacity": 0.2,
         "type": "scatter",
         "x": [
          1,
          2,
          3,
          4,
          5,
          6,
          7,
          8,
          9
         ],
         "y": [
          13.307168960571289,
          5.071131229400635,
          2.808898448944092,
          54.220787048339844,
          2.5697224140167236,
          22.039592742919922,
          4.742955684661865,
          39.58191680908203,
          1.3578307628631592
         ]
        },
        {
         "line": {
          "color": "black",
          "width": 0.5
         },
         "opacity": 0.2,
         "type": "scatter",
         "x": [
          1,
          2,
          3,
          4,
          5,
          6,
          7,
          8,
          9
         ],
         "y": [
          17.90438461303711,
          -4.478973388671875,
          5.770955562591553,
          23.832950592041016,
          7.224937915802002,
          11.153369903564453,
          -6.054708003997803,
          31.138307571411133,
          -7.025515556335449
         ]
        },
        {
         "line": {
          "color": "black",
          "width": 0.5
         },
         "opacity": 0.2,
         "type": "scatter",
         "x": [
          1,
          2,
          3,
          4,
          5,
          6,
          7,
          8,
          9
         ],
         "y": [
          10.573751449584961,
          12.339439392089844,
          4.475702285766602,
          44.18785858154297,
          2.572493553161621,
          15.439659118652344,
          19.700206756591797,
          23.534679412841797,
          33.818931579589844
         ]
        },
        {
         "line": {
          "color": "black",
          "width": 0.5
         },
         "opacity": 0.2,
         "type": "scatter",
         "x": [
          1,
          2,
          3,
          4,
          5,
          6,
          7,
          8,
          9
         ],
         "y": [
          9.371683120727539,
          -6.8950910568237305,
          5.845205783843994,
          3.9602770805358887,
          2.790808916091919,
          1.7334446907043457,
          -5.578977584838867,
          10.520990371704102,
          -15.719024658203125
         ]
        },
        {
         "line": {
          "color": "black",
          "width": 0.5
         },
         "opacity": 0.2,
         "type": "scatter",
         "x": [
          1,
          2,
          3,
          4,
          5,
          6,
          7,
          8,
          9
         ],
         "y": [
          -2.3574631214141846,
          -5.19750452041626,
          0.4303843677043915,
          -22.88533592224121,
          -1.9896951913833618,
          -10.855021476745605,
          -3.9946036338806152,
          -14.366412162780762,
          -15.082297325134277
         ]
        },
        {
         "line": {
          "color": "black",
          "width": 0.5
         },
         "opacity": 0.2,
         "type": "scatter",
         "x": [
          1,
          2,
          3,
          4,
          5,
          6,
          7,
          8,
          9
         ],
         "y": [
          -13.894255638122559,
          7.005741119384766,
          -4.543374061584473,
          -23.08748435974121,
          -9.944160461425781,
          -16.89307403564453,
          9.289287567138672,
          -30.129226684570312,
          17.428571701049805
         ]
        },
        {
         "line": {
          "color": "black",
          "width": 0.5
         },
         "opacity": 0.2,
         "type": "scatter",
         "x": [
          1,
          2,
          3,
          4,
          5,
          6,
          7,
          8,
          9
         ],
         "y": [
          -0.25162485241889954,
          10.932958602905273,
          0.4305019974708557,
          9.292333602905273,
          -1.4689959287643433,
          -5.205270767211914,
          6.932236194610596,
          -0.9320317506790161,
          14.282252311706543
         ]
        },
        {
         "line": {
          "color": "black",
          "width": 0.5
         },
         "opacity": 0.2,
         "type": "scatter",
         "x": [
          1,
          2,
          3,
          4,
          5,
          6,
          7,
          8,
          9
         ],
         "y": [
          -6.501221179962158,
          -4.281728267669678,
          -1.4784157276153564,
          -23.011539459228516,
          1.9345606565475464,
          2.539019823074341,
          -17.226234436035156,
          -1.8934812545776367,
          -12.198537826538086
         ]
        },
        {
         "line": {
          "color": "black",
          "width": 0.5
         },
         "opacity": 0.2,
         "type": "scatter",
         "x": [
          1,
          2,
          3,
          4,
          5,
          6,
          7,
          8,
          9
         ],
         "y": [
          -6.722751617431641,
          -0.6474900245666504,
          5.422292709350586,
          -11.525432586669922,
          -1.2595103979110718,
          -3.9855926036834717,
          -6.445862293243408,
          -6.236183166503906,
          -4.046794414520264
         ]
        },
        {
         "line": {
          "color": "black",
          "width": 0.5
         },
         "opacity": 0.2,
         "type": "scatter",
         "x": [
          1,
          2,
          3,
          4,
          5,
          6,
          7,
          8,
          9
         ],
         "y": [
          11.563694953918457,
          -7.15103006362915,
          2.0339248180389404,
          -0.8895587921142578,
          6.909218788146973,
          4.37648868560791,
          1.1811373233795166,
          12.27524185180664,
          10.361881256103516
         ]
        },
        {
         "line": {
          "color": "black",
          "width": 0.5
         },
         "opacity": 0.2,
         "type": "scatter",
         "x": [
          1,
          2,
          3,
          4,
          5,
          6,
          7,
          8,
          9
         ],
         "y": [
          -16.535480499267578,
          9.126208305358887,
          -10.53525447845459,
          2.5210981369018555,
          0.6276764273643494,
          13.499744415283203,
          11.979762077331543,
          -3.5536811351776123,
          13.727888107299805
         ]
        },
        {
         "line": {
          "color": "black",
          "width": 0.5
         },
         "opacity": 0.2,
         "type": "scatter",
         "x": [
          1,
          2,
          3,
          4,
          5,
          6,
          7,
          8,
          9
         ],
         "y": [
          -5.193878173828125,
          -2.5204875469207764,
          -1.0911718606948853,
          -7.718435287475586,
          0.945245087146759,
          1.5422286987304688,
          -0.7237105369567871,
          -2.187077522277832,
          7.199892520904541
         ]
        },
        {
         "line": {
          "color": "black",
          "width": 0.5
         },
         "opacity": 0.2,
         "type": "scatter",
         "x": [
          1,
          2,
          3,
          4,
          5,
          6,
          7,
          8,
          9
         ],
         "y": [
          0.7475154995918274,
          -5.373622894287109,
          0.37358394265174866,
          -13.688681602478027,
          -1.930741786956787,
          -8.158109664916992,
          -3.261908769607544,
          -6.368803024291992,
          -7.92904806137085
         ]
        },
        {
         "line": {
          "color": "black",
          "width": 0.5
         },
         "opacity": 0.2,
         "type": "scatter",
         "x": [
          1,
          2,
          3,
          4,
          5,
          6,
          7,
          8,
          9
         ],
         "y": [
          26.04751205444336,
          -4.3895111083984375,
          8.30983829498291,
          43.66484069824219,
          4.384708404541016,
          13.784032821655273,
          3.8060390949249268,
          39.659339904785156,
          -25.624774932861328
         ]
        },
        {
         "line": {
          "color": "black",
          "width": 0.5
         },
         "opacity": 0.2,
         "type": "scatter",
         "x": [
          1,
          2,
          3,
          4,
          5,
          6,
          7,
          8,
          9
         ],
         "y": [
          -15.604288101196289,
          -0.6008538603782654,
          -3.8989124298095703,
          -27.525503158569336,
          -2.5182414054870605,
          -7.141284465789795,
          -2.095811367034912,
          -22.139385223388672,
          6.172717094421387
         ]
        },
        {
         "line": {
          "color": "black",
          "width": 0.5
         },
         "opacity": 0.2,
         "type": "scatter",
         "x": [
          1,
          2,
          3,
          4,
          5,
          6,
          7,
          8,
          9
         ],
         "y": [
          -22.792951583862305,
          7.969723224639893,
          -14.670708656311035,
          -26.487796783447266,
          -4.298165798187256,
          -9.337681770324707,
          3.1925556659698486,
          -26.374313354492188,
          7.059090614318848
         ]
        },
        {
         "line": {
          "color": "black",
          "width": 0.5
         },
         "opacity": 0.2,
         "type": "scatter",
         "x": [
          1,
          2,
          3,
          4,
          5,
          6,
          7,
          8,
          9
         ],
         "y": [
          -19.423357009887695,
          -2.5148730278015137,
          -9.41610336303711,
          -46.74165344238281,
          -6.715325355529785,
          -19.45697021484375,
          -4.763501167297363,
          -37.72747039794922,
          -6.857674598693848
         ]
        },
        {
         "line": {
          "color": "black",
          "width": 0.5
         },
         "opacity": 0.2,
         "type": "scatter",
         "x": [
          1,
          2,
          3,
          4,
          5,
          6,
          7,
          8,
          9
         ],
         "y": [
          -31.213794708251953,
          -36.36803436279297,
          -13.088065147399902,
          -124.19266510009766,
          -3.040524959564209,
          -37.290496826171875,
          -46.48542022705078,
          -55.59650421142578,
          -60.574058532714844
         ]
        },
        {
         "line": {
          "color": "black",
          "width": 0.5
         },
         "opacity": 0.2,
         "type": "scatter",
         "x": [
          1,
          2,
          3,
          4,
          5,
          6,
          7,
          8,
          9
         ],
         "y": [
          6.634377956390381,
          -6.079104423522949,
          3.4107015132904053,
          3.405449867248535,
          4.214300632476807,
          4.882284641265869,
          -8.895042419433594,
          12.763896942138672,
          -13.667438507080078
         ]
        },
        {
         "line": {
          "color": "black",
          "width": 0.5
         },
         "opacity": 0.2,
         "type": "scatter",
         "x": [
          1,
          2,
          3,
          4,
          5,
          6,
          7,
          8,
          9
         ],
         "y": [
          2.849140167236328,
          -7.697459697723389,
          8.041095733642578,
          -23.494037628173828,
          0.4524654150009155,
          -7.787212371826172,
          -12.991641998291016,
          -16.265399932861328,
          -15.456487655639648
         ]
        },
        {
         "line": {
          "color": "black",
          "width": 0.5
         },
         "opacity": 0.2,
         "type": "scatter",
         "x": [
          1,
          2,
          3,
          4,
          5,
          6,
          7,
          8,
          9
         ],
         "y": [
          -6.175517559051514,
          0.7897925972938538,
          -3.7798335552215576,
          -4.889327526092529,
          -1.4313507080078125,
          0.49225354194641113,
          2.3182196617126465,
          -2.591386079788208,
          8.39885139465332
         ]
        },
        {
         "line": {
          "color": "black",
          "width": 0.5
         },
         "opacity": 0.2,
         "type": "scatter",
         "x": [
          1,
          2,
          3,
          4,
          5,
          6,
          7,
          8,
          9
         ],
         "y": [
          -18.073444366455078,
          -4.5413312911987305,
          -11.786014556884766,
          -35.234405517578125,
          -2.247483253479004,
          -8.847509384155273,
          -9.242120742797852,
          -14.987945556640625,
          -11.983909606933594
         ]
        },
        {
         "line": {
          "color": "black",
          "width": 0.5
         },
         "opacity": 0.2,
         "type": "scatter",
         "x": [
          1,
          2,
          3,
          4,
          5,
          6,
          7,
          8,
          9
         ],
         "y": [
          12.873515129089355,
          -19.359786987304688,
          3.157134532928467,
          -16.276561737060547,
          0.8074342012405396,
          -6.662978172302246,
          -12.474997520446777,
          1.0875358581542969,
          -38.23426818847656
         ]
        },
        {
         "line": {
          "color": "black",
          "width": 0.5
         },
         "opacity": 0.2,
         "type": "scatter",
         "x": [
          1,
          2,
          3,
          4,
          5,
          6,
          7,
          8,
          9
         ],
         "y": [
          1.2414276599884033,
          3.1056108474731445,
          -2.061819314956665,
          23.614286422729492,
          -1.0042874813079834,
          8.75883674621582,
          5.518495559692383,
          11.159481048583984,
          -5.097268104553223
         ]
        },
        {
         "line": {
          "color": "black",
          "width": 0.5
         },
         "opacity": 0.2,
         "type": "scatter",
         "x": [
          1,
          2,
          3,
          4,
          5,
          6,
          7,
          8,
          9
         ],
         "y": [
          0.4864637851715088,
          -4.3215532302856445,
          -1.4200321435928345,
          -4.041288375854492,
          -1.1497571468353271,
          -0.5790848731994629,
          -6.209926605224609,
          0.06586503982543945,
          -10.170246124267578
         ]
        },
        {
         "line": {
          "color": "black",
          "width": 0.5
         },
         "opacity": 0.2,
         "type": "scatter",
         "x": [
          1,
          2,
          3,
          4,
          5,
          6,
          7,
          8,
          9
         ],
         "y": [
          -1.3298797607421875,
          6.361669540405273,
          1.1724607944488525,
          12.649827003479004,
          2.788712739944458,
          6.965143203735352,
          3.4210102558135986,
          7.645996570587158,
          15.35411548614502
         ]
        },
        {
         "line": {
          "color": "black",
          "width": 0.5
         },
         "opacity": 0.2,
         "type": "scatter",
         "x": [
          1,
          2,
          3,
          4,
          5,
          6,
          7,
          8,
          9
         ],
         "y": [
          -5.122418403625488,
          1.5240836143493652,
          -4.461445331573486,
          -1.7818248271942139,
          -4.271272659301758,
          -3.6103897094726562,
          2.1146044731140137,
          -5.409478187561035,
          4.922775745391846
         ]
        },
        {
         "line": {
          "color": "black",
          "width": 0.5
         },
         "opacity": 0.2,
         "type": "scatter",
         "x": [
          1,
          2,
          3,
          4,
          5,
          6,
          7,
          8,
          9
         ],
         "y": [
          4.9046735763549805,
          2.5218019485473633,
          2.569183349609375,
          20.174606323242188,
          0.8346067070960999,
          8.084226608276367,
          3.8123514652252197,
          12.012957572937012,
          -0.9455902576446533
         ]
        },
        {
         "line": {
          "color": "black",
          "width": 0.5
         },
         "opacity": 0.2,
         "type": "scatter",
         "x": [
          1,
          2,
          3,
          4,
          5,
          6,
          7,
          8,
          9
         ],
         "y": [
          6.095745086669922,
          5.231781959533691,
          2.783761739730835,
          17.816347122192383,
          0.5809608697891235,
          5.418179988861084,
          7.2900190353393555,
          3.360255479812622,
          18.01561737060547
         ]
        },
        {
         "line": {
          "color": "black",
          "width": 0.5
         },
         "opacity": 0.2,
         "type": "scatter",
         "x": [
          1,
          2,
          3,
          4,
          5,
          6,
          7,
          8,
          9
         ],
         "y": [
          20.71421241760254,
          7.168715000152588,
          9.270161628723145,
          52.74913024902344,
          3.321352958679199,
          14.075712203979492,
          0.9716658592224121,
          30.770572662353516,
          -1.5532135963439941
         ]
        },
        {
         "line": {
          "color": "black",
          "width": 0.5
         },
         "opacity": 0.2,
         "type": "scatter",
         "x": [
          1,
          2,
          3,
          4,
          5,
          6,
          7,
          8,
          9
         ],
         "y": [
          3.6911513805389404,
          -3.762002944946289,
          1.8579685688018799,
          -5.621981620788574,
          -0.5971248149871826,
          -3.560204267501831,
          -3.315992593765259,
          1.8052774667739868,
          -3.652160167694092
         ]
        },
        {
         "line": {
          "color": "black",
          "width": 0.5
         },
         "opacity": 0.2,
         "type": "scatter",
         "x": [
          1,
          2,
          3,
          4,
          5,
          6,
          7,
          8,
          9
         ],
         "y": [
          -0.9609823226928711,
          4.088725566864014,
          -1.7265772819519043,
          7.196208953857422,
          0.7246127128601074,
          2.4464917182922363,
          3.0477242469787598,
          2.8907203674316406,
          4.083371162414551
         ]
        },
        {
         "line": {
          "color": "black",
          "width": 0.5
         },
         "opacity": 0.2,
         "type": "scatter",
         "x": [
          1,
          2,
          3,
          4,
          5,
          6,
          7,
          8,
          9
         ],
         "y": [
          0.49674201011657715,
          -21.15928840637207,
          2.5858123302459717,
          -34.95018005371094,
          -1.482669711112976,
          -12.797813415527344,
          -31.313257217407227,
          -2.420600414276123,
          -34.09081268310547
         ]
        },
        {
         "line": {
          "color": "black",
          "width": 0.5
         },
         "opacity": 0.2,
         "type": "scatter",
         "x": [
          1,
          2,
          3,
          4,
          5,
          6,
          7,
          8,
          9
         ],
         "y": [
          -5.057392597198486,
          14.232812881469727,
          -1.9446907043457031,
          12.9611234664917,
          1.039178490638733,
          7.053915023803711,
          10.938985824584961,
          -0.4299936294555664,
          25.01656150817871
         ]
        },
        {
         "line": {
          "color": "black",
          "width": 0.5
         },
         "opacity": 0.2,
         "type": "scatter",
         "x": [
          1,
          2,
          3,
          4,
          5,
          6,
          7,
          8,
          9
         ],
         "y": [
          1.8804906606674194,
          -2.342884063720703,
          -0.15120935440063477,
          -0.35625457763671875,
          -1.8679561614990234,
          -2.7929413318634033,
          0.4815840721130371,
          2.7596209049224854,
          -14.356237411499023
         ]
        },
        {
         "line": {
          "color": "black",
          "width": 0.5
         },
         "opacity": 0.2,
         "type": "scatter",
         "x": [
          1,
          2,
          3,
          4,
          5,
          6,
          7,
          8,
          9
         ],
         "y": [
          -4.696964263916016,
          -7.809144020080566,
          -2.482445240020752,
          -21.44243049621582,
          -3.590151071548462,
          -6.683905124664307,
          0.783503532409668,
          -18.58191680908203,
          12.594165802001953
         ]
        },
        {
         "line": {
          "color": "black",
          "width": 0.5
         },
         "opacity": 0.2,
         "type": "scatter",
         "x": [
          1,
          2,
          3,
          4,
          5,
          6,
          7,
          8,
          9
         ],
         "y": [
          -5.1177077293396,
          3.2867727279663086,
          -1.4437894821166992,
          -7.061187744140625,
          -3.0131583213806152,
          -4.954843044281006,
          3.5029449462890625,
          -10.169275283813477,
          2.1152615547180176
         ]
        },
        {
         "line": {
          "color": "black",
          "width": 0.5
         },
         "opacity": 0.2,
         "type": "scatter",
         "x": [
          1,
          2,
          3,
          4,
          5,
          6,
          7,
          8,
          9
         ],
         "y": [
          1.1785815954208374,
          0.9044768810272217,
          0.4266369640827179,
          3.5745620727539062,
          0.4648821949958801,
          1.0186948776245117,
          0.7253126502037048,
          1.6430729627609253,
          0.8366583585739136
         ]
        },
        {
         "line": {
          "color": "black",
          "width": 0.5
         },
         "opacity": 0.2,
         "type": "scatter",
         "x": [
          1,
          2,
          3,
          4,
          5,
          6,
          7,
          8,
          9
         ],
         "y": [
          14.454487800598145,
          -0.7779769897460938,
          3.7407572269439697,
          30.68613052368164,
          -4.755858898162842,
          -0.08906865119934082,
          5.316592216491699,
          23.055728912353516,
          -2.028491973876953
         ]
        },
        {
         "line": {
          "color": "black",
          "width": 0.5
         },
         "opacity": 0.2,
         "type": "scatter",
         "x": [
          1,
          2,
          3,
          4,
          5,
          6,
          7,
          8,
          9
         ],
         "y": [
          -1.1174418926239014,
          2.0348117351531982,
          -0.5061442255973816,
          0.8449470400810242,
          -0.7271116971969604,
          -0.19565007090568542,
          2.381483316421509,
          -2.0606701374053955,
          2.867828369140625
         ]
        },
        {
         "line": {
          "color": "black",
          "width": 0.5
         },
         "opacity": 0.2,
         "type": "scatter",
         "x": [
          1,
          2,
          3,
          4,
          5,
          6,
          7,
          8,
          9
         ],
         "y": [
          -0.14724254608154297,
          14.817342758178711,
          -1.4614323377609253,
          23.234371185302734,
          0.5566888451576233,
          5.121101379394531,
          20.966875076293945,
          6.74265193939209,
          21.324193954467773
         ]
        },
        {
         "line": {
          "color": "black",
          "width": 0.5
         },
         "opacity": 0.2,
         "type": "scatter",
         "x": [
          1,
          2,
          3,
          4,
          5,
          6,
          7,
          8,
          9
         ],
         "y": [
          -5.989602088928223,
          -8.654756546020508,
          -1.5123764276504517,
          -22.286516189575195,
          0.42890697717666626,
          -4.435997009277344,
          -14.526568412780762,
          -9.105987548828125,
          -26.63263511657715
         ]
        },
        {
         "line": {
          "color": "black",
          "width": 0.5
         },
         "opacity": 0.2,
         "type": "scatter",
         "x": [
          1,
          2,
          3,
          4,
          5,
          6,
          7,
          8,
          9
         ],
         "y": [
          15.047972679138184,
          -4.963442802429199,
          2.0160977840423584,
          16.185794830322266,
          1.0646086931228638,
          2.515960216522217,
          -0.150146484375,
          23.39452362060547,
          -22.313875198364258
         ]
        },
        {
         "line": {
          "color": "black",
          "width": 0.5
         },
         "opacity": 0.2,
         "type": "scatter",
         "x": [
          1,
          2,
          3,
          4,
          5,
          6,
          7,
          8,
          9
         ],
         "y": [
          -9.351325988769531,
          -3.2077414989471436,
          -1.5839436054229736,
          -23.41687774658203,
          -4.337264060974121,
          -8.949535369873047,
          -4.539324760437012,
          -6.946052074432373,
          -6.3419342041015625
         ]
        },
        {
         "line": {
          "color": "black",
          "width": 0.5
         },
         "opacity": 0.2,
         "type": "scatter",
         "x": [
          1,
          2,
          3,
          4,
          5,
          6,
          7,
          8,
          9
         ],
         "y": [
          7.559081077575684,
          -1.44545578956604,
          4.016161918640137,
          15.7775297164917,
          0.5807934999465942,
          5.0490546226501465,
          1.349056601524353,
          12.994563102722168,
          -1.0566086769104004
         ]
        },
        {
         "line": {
          "color": "black",
          "width": 0.5
         },
         "opacity": 0.2,
         "type": "scatter",
         "x": [
          1,
          2,
          3,
          4,
          5,
          6,
          7,
          8,
          9
         ],
         "y": [
          35.25675964355469,
          10.377864837646484,
          22.892120361328125,
          110.06692504882812,
          16.048749923706055,
          48.259735107421875,
          10.914824485778809,
          92.73809814453125,
          14.09168815612793
         ]
        },
        {
         "line": {
          "color": "black",
          "width": 0.5
         },
         "opacity": 0.2,
         "type": "scatter",
         "x": [
          1,
          2,
          3,
          4,
          5,
          6,
          7,
          8,
          9
         ],
         "y": [
          11.909700393676758,
          -17.426122665405273,
          8.418071746826172,
          -16.021909713745117,
          4.509608268737793,
          -2.387291431427002,
          -15.699759483337402,
          -4.526392936706543,
          -20.749086380004883
         ]
        },
        {
         "line": {
          "color": "black",
          "width": 0.5
         },
         "opacity": 0.2,
         "type": "scatter",
         "x": [
          1,
          2,
          3,
          4,
          5,
          6,
          7,
          8,
          9
         ],
         "y": [
          7.128658294677734,
          -2.283639430999756,
          6.6338019371032715,
          -0.24577713012695312,
          2.4995920658111572,
          -2.2049946784973145,
          -6.389536380767822,
          2.1478066444396973,
          -9.560283660888672
         ]
        },
        {
         "line": {
          "color": "black",
          "width": 0.5
         },
         "opacity": 0.2,
         "type": "scatter",
         "x": [
          1,
          2,
          3,
          4,
          5,
          6,
          7,
          8,
          9
         ],
         "y": [
          24.927711486816406,
          2.8582558631896973,
          9.412720680236816,
          30.316604614257812,
          11.205488204956055,
          9.724288940429688,
          -1.7693328857421875,
          24.224245071411133,
          3.011061668395996
         ]
        },
        {
         "line": {
          "color": "black",
          "width": 0.5
         },
         "opacity": 0.2,
         "type": "scatter",
         "x": [
          1,
          2,
          3,
          4,
          5,
          6,
          7,
          8,
          9
         ],
         "y": [
          -11.184904098510742,
          -0.04642224311828613,
          -4.83213996887207,
          -20.501291275024414,
          -3.6713309288024902,
          -7.333945274353027,
          1.9010255336761475,
          -12.850172996520996,
          9.41526985168457
         ]
        },
        {
         "line": {
          "color": "black",
          "width": 0.5
         },
         "opacity": 0.2,
         "type": "scatter",
         "x": [
          1,
          2,
          3,
          4,
          5,
          6,
          7,
          8,
          9
         ],
         "y": [
          5.951743125915527,
          2.464376449584961,
          4.910766124725342,
          16.195920944213867,
          5.0070695877075195,
          7.697201728820801,
          -4.170721530914307,
          15.197556495666504,
          4.944221019744873
         ]
        },
        {
         "line": {
          "color": "black",
          "width": 0.5
         },
         "opacity": 0.2,
         "type": "scatter",
         "x": [
          1,
          2,
          3,
          4,
          5,
          6,
          7,
          8,
          9
         ],
         "y": [
          21.636123657226562,
          45.8028564453125,
          8.939258575439453,
          116.39079284667969,
          5.531955242156982,
          43.13676071166992,
          51.870140075683594,
          47.073265075683594,
          97.81414031982422
         ]
        },
        {
         "line": {
          "color": "black",
          "width": 0.5
         },
         "opacity": 0.2,
         "type": "scatter",
         "x": [
          1,
          2,
          3,
          4,
          5,
          6,
          7,
          8,
          9
         ],
         "y": [
          14.909377098083496,
          -5.015631198883057,
          6.871084690093994,
          22.492172241210938,
          4.762026309967041,
          9.70068359375,
          -4.72287130355835,
          25.528766632080078,
          -14.315486907958984
         ]
        },
        {
         "line": {
          "color": "black",
          "width": 0.5
         },
         "opacity": 0.2,
         "type": "scatter",
         "x": [
          1,
          2,
          3,
          4,
          5,
          6,
          7,
          8,
          9
         ],
         "y": [
          -6.220619201660156,
          9.754192352294922,
          0.16137439012527466,
          0.5123193264007568,
          -4.493732452392578,
          -3.950289249420166,
          15.256307601928711,
          -13.56265640258789,
          34.225181579589844
         ]
        },
        {
         "line": {
          "color": "black",
          "width": 0.5
         },
         "opacity": 0.2,
         "type": "scatter",
         "x": [
          1,
          2,
          3,
          4,
          5,
          6,
          7,
          8,
          9
         ],
         "y": [
          2.3357596397399902,
          -8.404618263244629,
          1.9307948350906372,
          -17.94449234008789,
          0.42445647716522217,
          -8.053426742553711,
          -8.929414749145508,
          -0.17315340042114258,
          -10.61884880065918
         ]
        },
        {
         "line": {
          "color": "black",
          "width": 0.5
         },
         "opacity": 0.2,
         "type": "scatter",
         "x": [
          1,
          2,
          3,
          4,
          5,
          6,
          7,
          8,
          9
         ],
         "y": [
          29.525266647338867,
          33.20074462890625,
          12.657633781433105,
          105.60525512695312,
          3.701676845550537,
          30.49026107788086,
          47.384490966796875,
          46.284542083740234,
          68.1344223022461
         ]
        },
        {
         "line": {
          "color": "black",
          "width": 0.5
         },
         "opacity": 0.2,
         "type": "scatter",
         "x": [
          1,
          2,
          3,
          4,
          5,
          6,
          7,
          8,
          9
         ],
         "y": [
          21.86306381225586,
          16.356996536254883,
          7.493224620819092,
          86.64401245117188,
          4.9385085105896,
          32.178157806396484,
          20.623109817504883,
          53.938201904296875,
          9.747088432312012
         ]
        },
        {
         "line": {
          "color": "black",
          "width": 0.5
         },
         "opacity": 0.2,
         "type": "scatter",
         "x": [
          1,
          2,
          3,
          4,
          5,
          6,
          7,
          8,
          9
         ],
         "y": [
          -2.400747776031494,
          -2.065455913543701,
          -3.6972289085388184,
          -2.1187744140625,
          -2.1451828479766846,
          -3.0113511085510254,
          -1.4180927276611328,
          -2.6486377716064453,
          -17.117534637451172
         ]
        },
        {
         "line": {
          "color": "black",
          "width": 0.5
         },
         "opacity": 0.2,
         "type": "scatter",
         "x": [
          1,
          2,
          3,
          4,
          5,
          6,
          7,
          8,
          9
         ],
         "y": [
          3.075908660888672,
          1.740675687789917,
          1.0908443927764893,
          13.33284854888916,
          -0.11252444982528687,
          4.414899826049805,
          2.681018352508545,
          8.58614730834961,
          5.810088634490967
         ]
        },
        {
         "line": {
          "color": "black",
          "width": 0.5
         },
         "opacity": 0.2,
         "type": "scatter",
         "x": [
          1,
          2,
          3,
          4,
          5,
          6,
          7,
          8,
          9
         ],
         "y": [
          36.400875091552734,
          -11.656181335449219,
          19.114154815673828,
          90.2830581665039,
          15.489970207214355,
          49.166954040527344,
          -15.523756980895996,
          84.21337890625,
          -40.041587829589844
         ]
        },
        {
         "line": {
          "color": "black",
          "width": 0.5
         },
         "opacity": 0.2,
         "type": "scatter",
         "x": [
          1,
          2,
          3,
          4,
          5,
          6,
          7,
          8,
          9
         ],
         "y": [
          -13.331441879272461,
          -8.87027359008789,
          -7.393871784210205,
          -41.11048126220703,
          -4.721753120422363,
          -14.63853931427002,
          -4.3831987380981445,
          -25.40615463256836,
          1.6165354251861572
         ]
        },
        {
         "line": {
          "color": "black",
          "width": 0.5
         },
         "opacity": 0.2,
         "type": "scatter",
         "x": [
          1,
          2,
          3,
          4,
          5,
          6,
          7,
          8,
          9
         ],
         "y": [
          10.461870193481445,
          13.758344650268555,
          5.532948970794678,
          44.536521911621094,
          1.1163558959960938,
          14.296222686767578,
          19.25652503967285,
          15.938502311706543,
          28.889049530029297
         ]
        },
        {
         "line": {
          "color": "black",
          "width": 0.5
         },
         "opacity": 0.2,
         "type": "scatter",
         "x": [
          1,
          2,
          3,
          4,
          5,
          6,
          7,
          8,
          9
         ],
         "y": [
          5.637711048126221,
          -2.4064865112304688,
          7.237550258636475,
          1.8599987030029297,
          4.3228349685668945,
          4.662136077880859,
          -9.710283279418945,
          4.584475994110107,
          -13.214832305908203
         ]
        },
        {
         "line": {
          "color": "black",
          "width": 0.5
         },
         "opacity": 0.2,
         "type": "scatter",
         "x": [
          1,
          2,
          3,
          4,
          5,
          6,
          7,
          8,
          9
         ],
         "y": [
          4.459389686584473,
          -0.8188059329986572,
          1.1286427974700928,
          12.022960662841797,
          2.3463339805603027,
          6.8692498207092285,
          0.3602907657623291,
          6.065316200256348,
          -6.914150238037109
         ]
        },
        {
         "line": {
          "color": "black",
          "width": 0.5
         },
         "opacity": 0.2,
         "type": "scatter",
         "x": [
          1,
          2,
          3,
          4,
          5,
          6,
          7,
          8,
          9
         ],
         "y": [
          51.827537536621094,
          -0.1366192102432251,
          21.939926147460938,
          109.15489196777344,
          15.954269409179688,
          43.83356475830078,
          8.423511505126953,
          93.47693634033203,
          -6.584563255310059
         ]
        },
        {
         "line": {
          "color": "black",
          "width": 0.5
         },
         "opacity": 0.2,
         "type": "scatter",
         "x": [
          1,
          2,
          3,
          4,
          5,
          6,
          7,
          8,
          9
         ],
         "y": [
          12.069826126098633,
          -13.237258911132812,
          8.490778923034668,
          4.002618312835693,
          2.9742159843444824,
          2.850311040878296,
          -14.7340726852417,
          2.9927284717559814,
          -32.51814270019531
         ]
        },
        {
         "line": {
          "color": "black",
          "width": 0.5
         },
         "opacity": 0.2,
         "type": "scatter",
         "x": [
          1,
          2,
          3,
          4,
          5,
          6,
          7,
          8,
          9
         ],
         "y": [
          -28.843955993652344,
          3.179356098175049,
          -10.116033554077148,
          -53.3950080871582,
          -6.864882946014404,
          -12.235607147216797,
          -6.214242935180664,
          -48.90813446044922,
          1.2367849349975586
         ]
        },
        {
         "line": {
          "color": "black",
          "width": 0.5
         },
         "opacity": 0.2,
         "type": "scatter",
         "x": [
          1,
          2,
          3,
          4,
          5,
          6,
          7,
          8,
          9
         ],
         "y": [
          25.581920623779297,
          -29.0429630279541,
          13.937102317810059,
          26.87729263305664,
          11.795533180236816,
          21.950389862060547,
          -32.322235107421875,
          61.121788024902344,
          -68.37202453613281
         ]
        },
        {
         "line": {
          "color": "black",
          "width": 0.5
         },
         "opacity": 0.2,
         "type": "scatter",
         "x": [
          1,
          2,
          3,
          4,
          5,
          6,
          7,
          8,
          9
         ],
         "y": [
          -20.83481216430664,
          1.2874817848205566,
          -0.22028541564941406,
          -50.749595642089844,
          -2.39776611328125,
          -13.689070701599121,
          -12.082539558410645,
          -35.58088684082031,
          7.334681510925293
         ]
        },
        {
         "line": {
          "color": "black",
          "width": 0.5
         },
         "opacity": 0.2,
         "type": "scatter",
         "x": [
          1,
          2,
          3,
          4,
          5,
          6,
          7,
          8,
          9
         ],
         "y": [
          -20.123489379882812,
          -9.245418548583984,
          -12.116917610168457,
          -64.47654724121094,
          -7.158895969390869,
          -24.450008392333984,
          -7.678983211517334,
          -45.085960388183594,
          -13.240793228149414
         ]
        },
        {
         "line": {
          "color": "black",
          "width": 0.5
         },
         "opacity": 0.2,
         "type": "scatter",
         "x": [
          1,
          2,
          3,
          4,
          5,
          6,
          7,
          8,
          9
         ],
         "y": [
          23.77975845336914,
          37.61387634277344,
          9.633234977722168,
          99.09918975830078,
          -2.970489978790283,
          23.468839645385742,
          57.32512283325195,
          33.98031997680664,
          84.80264282226562
         ]
        },
        {
         "line": {
          "color": "black",
          "width": 0.5
         },
         "opacity": 0.2,
         "type": "scatter",
         "x": [
          1,
          2,
          3,
          4,
          5,
          6,
          7,
          8,
          9
         ],
         "y": [
          23.283885955810547,
          -1.9626514911651611,
          13.062997817993164,
          24.05199432373047,
          8.285442352294922,
          6.976629734039307,
          -5.049607276916504,
          21.325714111328125,
          -2.7687430381774902
         ]
        },
        {
         "line": {
          "color": "black",
          "width": 0.5
         },
         "opacity": 0.2,
         "type": "scatter",
         "x": [
          1,
          2,
          3,
          4,
          5,
          6,
          7,
          8,
          9
         ],
         "y": [
          -8.40063190460205,
          -2.01078462600708,
          0.7713451385498047,
          -46.283199310302734,
          -0.7557368278503418,
          -16.943016052246094,
          -5.621675491333008,
          -32.46690368652344,
          4.837726593017578
         ]
        },
        {
         "line": {
          "color": "black",
          "width": 0.5
         },
         "opacity": 0.2,
         "type": "scatter",
         "x": [
          1,
          2,
          3,
          4,
          5,
          6,
          7,
          8,
          9
         ],
         "y": [
          -9.03709602355957,
          -7.098265171051025,
          -4.85101842880249,
          -37.29029846191406,
          -2.7527432441711426,
          -14.649848937988281,
          -7.963716983795166,
          -22.21538543701172,
          -12.742608070373535
         ]
        },
        {
         "line": {
          "color": "black",
          "width": 0.5
         },
         "opacity": 0.2,
         "type": "scatter",
         "x": [
          1,
          2,
          3,
          4,
          5,
          6,
          7,
          8,
          9
         ],
         "y": [
          7.746749401092529,
          1.4632469415664673,
          0.984092652797699,
          21.75826072692871,
          1.0268710851669312,
          6.808242321014404,
          2.700915813446045,
          15.241035461425781,
          -2.491140365600586
         ]
        },
        {
         "line": {
          "color": "black",
          "width": 0.5
         },
         "opacity": 0.2,
         "type": "scatter",
         "x": [
          1,
          2,
          3,
          4,
          5,
          6,
          7,
          8,
          9
         ],
         "y": [
          2.429342031478882,
          15.970437049865723,
          3.0533347129821777,
          21.632535934448242,
          -5.1742939949035645,
          -1.7815465927124023,
          18.608375549316406,
          0.8954992294311523,
          25.596080780029297
         ]
        },
        {
         "line": {
          "color": "black",
          "width": 0.5
         },
         "opacity": 0.2,
         "type": "scatter",
         "x": [
          1,
          2,
          3,
          4,
          5,
          6,
          7,
          8,
          9
         ],
         "y": [
          -13.941694259643555,
          -18.753925323486328,
          -4.726038455963135,
          -72.80278778076172,
          -0.41491052508354187,
          -22.91814422607422,
          -24.242061614990234,
          -40.77166748046875,
          -30.202415466308594
         ]
        },
        {
         "line": {
          "color": "black",
          "width": 0.5
         },
         "opacity": 0.2,
         "type": "scatter",
         "x": [
          1,
          2,
          3,
          4,
          5,
          6,
          7,
          8,
          9
         ],
         "y": [
          6.415550231933594,
          3.937645435333252,
          3.0544886589050293,
          20.959754943847656,
          0.6013780832290649,
          7.05068826675415,
          6.763247489929199,
          13.466081619262695,
          7.1150336265563965
         ]
        },
        {
         "line": {
          "color": "black",
          "width": 0.5
         },
         "opacity": 0.2,
         "type": "scatter",
         "x": [
          1,
          2,
          3,
          4,
          5,
          6,
          7,
          8,
          9
         ],
         "y": [
          -7.633878231048584,
          11.869806289672852,
          -3.9703497886657715,
          -12.351219177246094,
          -0.7409733533859253,
          -6.5764851570129395,
          14.651861190795898,
          -21.211349487304688,
          35.1296272277832
         ]
        },
        {
         "line": {
          "color": "black",
          "width": 0.5
         },
         "opacity": 0.2,
         "type": "scatter",
         "x": [
          1,
          2,
          3,
          4,
          5,
          6,
          7,
          8,
          9
         ],
         "y": [
          -19.679340362548828,
          -16.528549194335938,
          -6.3021721839904785,
          -105.90727233886719,
          3.0511832237243652,
          -35.276546478271484,
          -29.045825958251953,
          -63.74927520751953,
          -22.448734283447266
         ]
        },
        {
         "line": {
          "color": "black",
          "width": 0.5
         },
         "opacity": 0.2,
         "type": "scatter",
         "x": [
          1,
          2,
          3,
          4,
          5,
          6,
          7,
          8,
          9
         ],
         "y": [
          2.5273070335388184,
          -0.6442506909370422,
          3.7543344497680664,
          10.59795093536377,
          0.6971626281738281,
          5.331909656524658,
          1.112115740776062,
          8.219329833984375,
          -2.5243334770202637
         ]
        },
        {
         "line": {
          "color": "black",
          "width": 0.5
         },
         "opacity": 0.2,
         "type": "scatter",
         "x": [
          1,
          2,
          3,
          4,
          5,
          6,
          7,
          8,
          9
         ],
         "y": [
          7.649484634399414,
          6.772860527038574,
          -1.2251217365264893,
          31.87824249267578,
          -1.7413218021392822,
          8.619255065917969,
          8.83074951171875,
          5.866449356079102,
          8.277328491210938
         ]
        },
        {
         "line": {
          "color": "black",
          "width": 0.5
         },
         "opacity": 0.2,
         "type": "scatter",
         "x": [
          1,
          2,
          3,
          4,
          5,
          6,
          7,
          8,
          9
         ],
         "y": [
          -7.323486328125,
          -30.747026443481445,
          6.140596866607666,
          -86.71075439453125,
          -4.930785655975342,
          -36.360984802246094,
          -27.78863525390625,
          -34.51906967163086,
          -73.00822448730469
         ]
        },
        {
         "line": {
          "color": "black",
          "width": 0.5
         },
         "opacity": 0.2,
         "type": "scatter",
         "x": [
          1,
          2,
          3,
          4,
          5,
          6,
          7,
          8,
          9
         ],
         "y": [
          1.746713399887085,
          -4.373285293579102,
          4.999630928039551,
          -10.40682601928711,
          3.2250425815582275,
          -3.296687602996826,
          -13.559528350830078,
          10.943614959716797,
          -10.022645950317383
         ]
        },
        {
         "line": {
          "color": "black",
          "width": 0.5
         },
         "opacity": 0.2,
         "type": "scatter",
         "x": [
          1,
          2,
          3,
          4,
          5,
          6,
          7,
          8,
          9
         ],
         "y": [
          -21.72213363647461,
          11.004687309265137,
          -7.112706184387207,
          -46.06150817871094,
          -6.557076454162598,
          -26.168140411376953,
          7.736638069152832,
          -51.285438537597656,
          37.58676528930664
         ]
        },
        {
         "line": {
          "color": "black",
          "width": 0.5
         },
         "opacity": 0.2,
         "type": "scatter",
         "x": [
          1,
          2,
          3,
          4,
          5,
          6,
          7,
          8,
          9
         ],
         "y": [
          -2.5720839500427246,
          -5.155525207519531,
          -0.6406846642494202,
          -14.422571182250977,
          0.6512970328330994,
          -4.153411865234375,
          -5.759174346923828,
          -6.920233726501465,
          -7.053041458129883
         ]
        },
        {
         "line": {
          "color": "black",
          "width": 0.5
         },
         "opacity": 0.2,
         "type": "scatter",
         "x": [
          1,
          2,
          3,
          4,
          5,
          6,
          7,
          8,
          9
         ],
         "y": [
          -24.881847381591797,
          11.392526626586914,
          -15.117982864379883,
          -21.732046127319336,
          -4.877304553985596,
          -3.411696434020996,
          6.377484321594238,
          -25.549226760864258,
          29.93834114074707
         ]
        },
        {
         "line": {
          "color": "black",
          "width": 0.5
         },
         "opacity": 0.2,
         "type": "scatter",
         "x": [
          1,
          2,
          3,
          4,
          5,
          6,
          7,
          8,
          9
         ],
         "y": [
          1.2699520587921143,
          -1.516204833984375,
          2.13961124420166,
          0.7873220443725586,
          8.46788215637207,
          10.415019989013672,
          -13.537593841552734,
          9.829888343811035,
          1.846621036529541
         ]
        },
        {
         "line": {
          "color": "black",
          "width": 0.5
         },
         "opacity": 0.2,
         "type": "scatter",
         "x": [
          1,
          2,
          3,
          4,
          5,
          6,
          7,
          8,
          9
         ],
         "y": [
          -44.562049865722656,
          -13.708113670349121,
          -17.66330337524414,
          -89.85333251953125,
          -12.47223949432373,
          -25.482616424560547,
          -23.491748809814453,
          -64.87303924560547,
          -46.12498474121094
         ]
        },
        {
         "line": {
          "color": "black",
          "width": 0.5
         },
         "opacity": 0.2,
         "type": "scatter",
         "x": [
          1,
          2,
          3,
          4,
          5,
          6,
          7,
          8,
          9
         ],
         "y": [
          9.493159294128418,
          19.93805694580078,
          1.7092711925506592,
          52.861568450927734,
          2.1782479286193848,
          18.594249725341797,
          29.902477264404297,
          19.42036247253418,
          36.34672927856445
         ]
        },
        {
         "line": {
          "color": "black",
          "width": 0.5
         },
         "opacity": 0.2,
         "type": "scatter",
         "x": [
          1,
          2,
          3,
          4,
          5,
          6,
          7,
          8,
          9
         ],
         "y": [
          13.451733589172363,
          -12.224467277526855,
          4.014385223388672,
          6.571031093597412,
          2.6395978927612305,
          3.760629415512085,
          -14.416479110717773,
          15.517321586608887,
          -29.041044235229492
         ]
        },
        {
         "line": {
          "color": "black",
          "width": 0.5
         },
         "opacity": 0.2,
         "type": "scatter",
         "x": [
          1,
          2,
          3,
          4,
          5,
          6,
          7,
          8,
          9
         ],
         "y": [
          2.8555235862731934,
          3.679614305496216,
          -2.0205459594726562,
          8.683267593383789,
          -0.77336186170578,
          1.4221067428588867,
          4.8914408683776855,
          3.5942554473876953,
          3.2491164207458496
         ]
        },
        {
         "line": {
          "color": "black",
          "width": 0.5
         },
         "opacity": 0.2,
         "type": "scatter",
         "x": [
          1,
          2,
          3,
          4,
          5,
          6,
          7,
          8,
          9
         ],
         "y": [
          0.9233951568603516,
          6.018392086029053,
          -0.37278446555137634,
          13.7069673538208,
          0.4435569643974304,
          5.43223237991333,
          7.127129554748535,
          4.133816719055176,
          12.486343383789062
         ]
        },
        {
         "line": {
          "color": "black",
          "width": 0.5
         },
         "opacity": 0.2,
         "type": "scatter",
         "x": [
          1,
          2,
          3,
          4,
          5,
          6,
          7,
          8,
          9
         ],
         "y": [
          -11.430306434631348,
          -1.345550775527954,
          -4.041076183319092,
          -50.13128662109375,
          -4.774766445159912,
          -24.454174041748047,
          2.3175697326660156,
          -35.834781646728516,
          6.351659774780273
         ]
        },
        {
         "line": {
          "color": "black",
          "width": 0.5
         },
         "opacity": 0.2,
         "type": "scatter",
         "x": [
          1,
          2,
          3,
          4,
          5,
          6,
          7,
          8,
          9
         ],
         "y": [
          -6.00544548034668,
          -5.876558303833008,
          -2.6503677368164062,
          -23.013944625854492,
          -0.20688703656196594,
          -8.673393249511719,
          -10.277654647827148,
          -11.674334526062012,
          -14.038662910461426
         ]
        },
        {
         "line": {
          "color": "black",
          "width": 0.5
         },
         "opacity": 0.2,
         "type": "scatter",
         "x": [
          1,
          2,
          3,
          4,
          5,
          6,
          7,
          8,
          9
         ],
         "y": [
          4.826630592346191,
          1.4984729290008545,
          1.2359963655471802,
          13.907047271728516,
          1.2540010213851929,
          5.119986534118652,
          3.020688056945801,
          10.16596794128418,
          2.5092175006866455
         ]
        },
        {
         "line": {
          "color": "black",
          "width": 0.5
         },
         "opacity": 0.2,
         "type": "scatter",
         "x": [
          1,
          2,
          3,
          4,
          5,
          6,
          7,
          8,
          9
         ],
         "y": [
          -14.033531188964844,
          -10.610822677612305,
          -9.427661895751953,
          -41.1827278137207,
          -9.678741455078125,
          -19.585195541381836,
          -15.085920333862305,
          -30.701059341430664,
          -38.25651168823242
         ]
        },
        {
         "line": {
          "color": "black",
          "width": 0.5
         },
         "opacity": 0.2,
         "type": "scatter",
         "x": [
          1,
          2,
          3,
          4,
          5,
          6,
          7,
          8,
          9
         ],
         "y": [
          1.6775020360946655,
          0.4462471008300781,
          -1.4289207458496094,
          -13.712217330932617,
          2.191276788711548,
          -4.064566135406494,
          -0.8192901611328125,
          -12.670160293579102,
          4.373601913452148
         ]
        },
        {
         "line": {
          "color": "black",
          "width": 0.5
         },
         "opacity": 0.2,
         "type": "scatter",
         "x": [
          1,
          2,
          3,
          4,
          5,
          6,
          7,
          8,
          9
         ],
         "y": [
          -1.97499418258667,
          7.053401947021484,
          -1.5825841426849365,
          18.480602264404297,
          0.5231766700744629,
          8.664639472961426,
          3.0237627029418945,
          8.778940200805664,
          -0.7249027490615845
         ]
        },
        {
         "line": {
          "color": "black",
          "width": 0.5
         },
         "opacity": 0.2,
         "type": "scatter",
         "x": [
          1,
          2,
          3,
          4,
          5,
          6,
          7,
          8,
          9
         ],
         "y": [
          -3.9680867195129395,
          -2.6822681427001953,
          -3.6589033603668213,
          -14.469171524047852,
          -2.211153745651245,
          -4.06904411315918,
          1.4128780364990234,
          -15.695587158203125,
          2.9713542461395264
         ]
        },
        {
         "line": {
          "color": "black",
          "width": 0.5
         },
         "opacity": 0.2,
         "type": "scatter",
         "x": [
          1,
          2,
          3,
          4,
          5,
          6,
          7,
          8,
          9
         ],
         "y": [
          -3.455264091491699,
          8.591819763183594,
          -4.076528072357178,
          9.55474853515625,
          0.9634561538696289,
          5.07546329498291,
          7.112796783447266,
          -0.4361127018928528,
          15.719223022460938
         ]
        },
        {
         "line": {
          "color": "black",
          "width": 0.5
         },
         "opacity": 0.2,
         "type": "scatter",
         "x": [
          1,
          2,
          3,
          4,
          5,
          6,
          7,
          8,
          9
         ],
         "y": [
          -4.6140851974487305,
          -7.561498165130615,
          -3.4779717922210693,
          -22.840484619140625,
          1.8388464450836182,
          -8.108987808227539,
          -13.828072547912598,
          -5.759100437164307,
          -20.173084259033203
         ]
        },
        {
         "line": {
          "color": "black",
          "width": 0.5
         },
         "opacity": 0.2,
         "type": "scatter",
         "x": [
          1,
          2,
          3,
          4,
          5,
          6,
          7,
          8,
          9
         ],
         "y": [
          3.231900215148926,
          -12.91950511932373,
          -1.6433082818984985,
          -16.803634643554688,
          0.14506322145462036,
          -1.4955286979675293,
          -11.553247451782227,
          0.5636997222900391,
          -16.31218910217285
         ]
        },
        {
         "line": {
          "color": "black",
          "width": 0.5
         },
         "opacity": 0.2,
         "type": "scatter",
         "x": [
          1,
          2,
          3,
          4,
          5,
          6,
          7,
          8,
          9
         ],
         "y": [
          5.177618980407715,
          -1.1247665882110596,
          3.719902992248535,
          8.987762451171875,
          0.2743436396121979,
          2.7482709884643555,
          1.0453822612762451,
          6.9403076171875,
          0.6617251634597778
         ]
        }
       ],
       "layout": {
        "legend": {
         "tracegroupgap": 0
        },
        "margin": {
         "t": 60
        },
        "showlegend": false,
        "template": {
         "data": {
          "bar": [
           {
            "error_x": {
             "color": "#2a3f5f"
            },
            "error_y": {
             "color": "#2a3f5f"
            },
            "marker": {
             "line": {
              "color": "white",
              "width": 0.5
             },
             "pattern": {
              "fillmode": "overlay",
              "size": 10,
              "solidity": 0.2
             }
            },
            "type": "bar"
           }
          ],
          "barpolar": [
           {
            "marker": {
             "line": {
              "color": "white",
              "width": 0.5
             },
             "pattern": {
              "fillmode": "overlay",
              "size": 10,
              "solidity": 0.2
             }
            },
            "type": "barpolar"
           }
          ],
          "carpet": [
           {
            "aaxis": {
             "endlinecolor": "#2a3f5f",
             "gridcolor": "#C8D4E3",
             "linecolor": "#C8D4E3",
             "minorgridcolor": "#C8D4E3",
             "startlinecolor": "#2a3f5f"
            },
            "baxis": {
             "endlinecolor": "#2a3f5f",
             "gridcolor": "#C8D4E3",
             "linecolor": "#C8D4E3",
             "minorgridcolor": "#C8D4E3",
             "startlinecolor": "#2a3f5f"
            },
            "type": "carpet"
           }
          ],
          "choropleth": [
           {
            "colorbar": {
             "outlinewidth": 0,
             "ticks": ""
            },
            "type": "choropleth"
           }
          ],
          "contour": [
           {
            "colorbar": {
             "outlinewidth": 0,
             "ticks": ""
            },
            "colorscale": [
             [
              0,
              "#0d0887"
             ],
             [
              0.1111111111111111,
              "#46039f"
             ],
             [
              0.2222222222222222,
              "#7201a8"
             ],
             [
              0.3333333333333333,
              "#9c179e"
             ],
             [
              0.4444444444444444,
              "#bd3786"
             ],
             [
              0.5555555555555556,
              "#d8576b"
             ],
             [
              0.6666666666666666,
              "#ed7953"
             ],
             [
              0.7777777777777778,
              "#fb9f3a"
             ],
             [
              0.8888888888888888,
              "#fdca26"
             ],
             [
              1,
              "#f0f921"
             ]
            ],
            "type": "contour"
           }
          ],
          "contourcarpet": [
           {
            "colorbar": {
             "outlinewidth": 0,
             "ticks": ""
            },
            "type": "contourcarpet"
           }
          ],
          "heatmap": [
           {
            "colorbar": {
             "outlinewidth": 0,
             "ticks": ""
            },
            "colorscale": [
             [
              0,
              "#0d0887"
             ],
             [
              0.1111111111111111,
              "#46039f"
             ],
             [
              0.2222222222222222,
              "#7201a8"
             ],
             [
              0.3333333333333333,
              "#9c179e"
             ],
             [
              0.4444444444444444,
              "#bd3786"
             ],
             [
              0.5555555555555556,
              "#d8576b"
             ],
             [
              0.6666666666666666,
              "#ed7953"
             ],
             [
              0.7777777777777778,
              "#fb9f3a"
             ],
             [
              0.8888888888888888,
              "#fdca26"
             ],
             [
              1,
              "#f0f921"
             ]
            ],
            "type": "heatmap"
           }
          ],
          "heatmapgl": [
           {
            "colorbar": {
             "outlinewidth": 0,
             "ticks": ""
            },
            "colorscale": [
             [
              0,
              "#0d0887"
             ],
             [
              0.1111111111111111,
              "#46039f"
             ],
             [
              0.2222222222222222,
              "#7201a8"
             ],
             [
              0.3333333333333333,
              "#9c179e"
             ],
             [
              0.4444444444444444,
              "#bd3786"
             ],
             [
              0.5555555555555556,
              "#d8576b"
             ],
             [
              0.6666666666666666,
              "#ed7953"
             ],
             [
              0.7777777777777778,
              "#fb9f3a"
             ],
             [
              0.8888888888888888,
              "#fdca26"
             ],
             [
              1,
              "#f0f921"
             ]
            ],
            "type": "heatmapgl"
           }
          ],
          "histogram": [
           {
            "marker": {
             "pattern": {
              "fillmode": "overlay",
              "size": 10,
              "solidity": 0.2
             }
            },
            "type": "histogram"
           }
          ],
          "histogram2d": [
           {
            "colorbar": {
             "outlinewidth": 0,
             "ticks": ""
            },
            "colorscale": [
             [
              0,
              "#0d0887"
             ],
             [
              0.1111111111111111,
              "#46039f"
             ],
             [
              0.2222222222222222,
              "#7201a8"
             ],
             [
              0.3333333333333333,
              "#9c179e"
             ],
             [
              0.4444444444444444,
              "#bd3786"
             ],
             [
              0.5555555555555556,
              "#d8576b"
             ],
             [
              0.6666666666666666,
              "#ed7953"
             ],
             [
              0.7777777777777778,
              "#fb9f3a"
             ],
             [
              0.8888888888888888,
              "#fdca26"
             ],
             [
              1,
              "#f0f921"
             ]
            ],
            "type": "histogram2d"
           }
          ],
          "histogram2dcontour": [
           {
            "colorbar": {
             "outlinewidth": 0,
             "ticks": ""
            },
            "colorscale": [
             [
              0,
              "#0d0887"
             ],
             [
              0.1111111111111111,
              "#46039f"
             ],
             [
              0.2222222222222222,
              "#7201a8"
             ],
             [
              0.3333333333333333,
              "#9c179e"
             ],
             [
              0.4444444444444444,
              "#bd3786"
             ],
             [
              0.5555555555555556,
              "#d8576b"
             ],
             [
              0.6666666666666666,
              "#ed7953"
             ],
             [
              0.7777777777777778,
              "#fb9f3a"
             ],
             [
              0.8888888888888888,
              "#fdca26"
             ],
             [
              1,
              "#f0f921"
             ]
            ],
            "type": "histogram2dcontour"
           }
          ],
          "mesh3d": [
           {
            "colorbar": {
             "outlinewidth": 0,
             "ticks": ""
            },
            "type": "mesh3d"
           }
          ],
          "parcoords": [
           {
            "line": {
             "colorbar": {
              "outlinewidth": 0,
              "ticks": ""
             }
            },
            "type": "parcoords"
           }
          ],
          "pie": [
           {
            "automargin": true,
            "type": "pie"
           }
          ],
          "scatter": [
           {
            "fillpattern": {
             "fillmode": "overlay",
             "size": 10,
             "solidity": 0.2
            },
            "type": "scatter"
           }
          ],
          "scatter3d": [
           {
            "line": {
             "colorbar": {
              "outlinewidth": 0,
              "ticks": ""
             }
            },
            "marker": {
             "colorbar": {
              "outlinewidth": 0,
              "ticks": ""
             }
            },
            "type": "scatter3d"
           }
          ],
          "scattercarpet": [
           {
            "marker": {
             "colorbar": {
              "outlinewidth": 0,
              "ticks": ""
             }
            },
            "type": "scattercarpet"
           }
          ],
          "scattergeo": [
           {
            "marker": {
             "colorbar": {
              "outlinewidth": 0,
              "ticks": ""
             }
            },
            "type": "scattergeo"
           }
          ],
          "scattergl": [
           {
            "marker": {
             "colorbar": {
              "outlinewidth": 0,
              "ticks": ""
             }
            },
            "type": "scattergl"
           }
          ],
          "scattermapbox": [
           {
            "marker": {
             "colorbar": {
              "outlinewidth": 0,
              "ticks": ""
             }
            },
            "type": "scattermapbox"
           }
          ],
          "scatterpolar": [
           {
            "marker": {
             "colorbar": {
              "outlinewidth": 0,
              "ticks": ""
             }
            },
            "type": "scatterpolar"
           }
          ],
          "scatterpolargl": [
           {
            "marker": {
             "colorbar": {
              "outlinewidth": 0,
              "ticks": ""
             }
            },
            "type": "scatterpolargl"
           }
          ],
          "scatterternary": [
           {
            "marker": {
             "colorbar": {
              "outlinewidth": 0,
              "ticks": ""
             }
            },
            "type": "scatterternary"
           }
          ],
          "surface": [
           {
            "colorbar": {
             "outlinewidth": 0,
             "ticks": ""
            },
            "colorscale": [
             [
              0,
              "#0d0887"
             ],
             [
              0.1111111111111111,
              "#46039f"
             ],
             [
              0.2222222222222222,
              "#7201a8"
             ],
             [
              0.3333333333333333,
              "#9c179e"
             ],
             [
              0.4444444444444444,
              "#bd3786"
             ],
             [
              0.5555555555555556,
              "#d8576b"
             ],
             [
              0.6666666666666666,
              "#ed7953"
             ],
             [
              0.7777777777777778,
              "#fb9f3a"
             ],
             [
              0.8888888888888888,
              "#fdca26"
             ],
             [
              1,
              "#f0f921"
             ]
            ],
            "type": "surface"
           }
          ],
          "table": [
           {
            "cells": {
             "fill": {
              "color": "#EBF0F8"
             },
             "line": {
              "color": "white"
             }
            },
            "header": {
             "fill": {
              "color": "#C8D4E3"
             },
             "line": {
              "color": "white"
             }
            },
            "type": "table"
           }
          ]
         },
         "layout": {
          "annotationdefaults": {
           "arrowcolor": "#2a3f5f",
           "arrowhead": 0,
           "arrowwidth": 1
          },
          "autotypenumbers": "strict",
          "coloraxis": {
           "colorbar": {
            "outlinewidth": 0,
            "ticks": ""
           }
          },
          "colorscale": {
           "diverging": [
            [
             0,
             "#8e0152"
            ],
            [
             0.1,
             "#c51b7d"
            ],
            [
             0.2,
             "#de77ae"
            ],
            [
             0.3,
             "#f1b6da"
            ],
            [
             0.4,
             "#fde0ef"
            ],
            [
             0.5,
             "#f7f7f7"
            ],
            [
             0.6,
             "#e6f5d0"
            ],
            [
             0.7,
             "#b8e186"
            ],
            [
             0.8,
             "#7fbc41"
            ],
            [
             0.9,
             "#4d9221"
            ],
            [
             1,
             "#276419"
            ]
           ],
           "sequential": [
            [
             0,
             "#0d0887"
            ],
            [
             0.1111111111111111,
             "#46039f"
            ],
            [
             0.2222222222222222,
             "#7201a8"
            ],
            [
             0.3333333333333333,
             "#9c179e"
            ],
            [
             0.4444444444444444,
             "#bd3786"
            ],
            [
             0.5555555555555556,
             "#d8576b"
            ],
            [
             0.6666666666666666,
             "#ed7953"
            ],
            [
             0.7777777777777778,
             "#fb9f3a"
            ],
            [
             0.8888888888888888,
             "#fdca26"
            ],
            [
             1,
             "#f0f921"
            ]
           ],
           "sequentialminus": [
            [
             0,
             "#0d0887"
            ],
            [
             0.1111111111111111,
             "#46039f"
            ],
            [
             0.2222222222222222,
             "#7201a8"
            ],
            [
             0.3333333333333333,
             "#9c179e"
            ],
            [
             0.4444444444444444,
             "#bd3786"
            ],
            [
             0.5555555555555556,
             "#d8576b"
            ],
            [
             0.6666666666666666,
             "#ed7953"
            ],
            [
             0.7777777777777778,
             "#fb9f3a"
            ],
            [
             0.8888888888888888,
             "#fdca26"
            ],
            [
             1,
             "#f0f921"
            ]
           ]
          },
          "colorway": [
           "#636efa",
           "#EF553B",
           "#00cc96",
           "#ab63fa",
           "#FFA15A",
           "#19d3f3",
           "#FF6692",
           "#B6E880",
           "#FF97FF",
           "#FECB52"
          ],
          "font": {
           "color": "#2a3f5f"
          },
          "geo": {
           "bgcolor": "white",
           "lakecolor": "white",
           "landcolor": "white",
           "showlakes": true,
           "showland": true,
           "subunitcolor": "#C8D4E3"
          },
          "hoverlabel": {
           "align": "left"
          },
          "hovermode": "closest",
          "mapbox": {
           "style": "light"
          },
          "paper_bgcolor": "white",
          "plot_bgcolor": "white",
          "polar": {
           "angularaxis": {
            "gridcolor": "#EBF0F8",
            "linecolor": "#EBF0F8",
            "ticks": ""
           },
           "bgcolor": "white",
           "radialaxis": {
            "gridcolor": "#EBF0F8",
            "linecolor": "#EBF0F8",
            "ticks": ""
           }
          },
          "scene": {
           "xaxis": {
            "backgroundcolor": "white",
            "gridcolor": "#DFE8F3",
            "gridwidth": 2,
            "linecolor": "#EBF0F8",
            "showbackground": true,
            "ticks": "",
            "zerolinecolor": "#EBF0F8"
           },
           "yaxis": {
            "backgroundcolor": "white",
            "gridcolor": "#DFE8F3",
            "gridwidth": 2,
            "linecolor": "#EBF0F8",
            "showbackground": true,
            "ticks": "",
            "zerolinecolor": "#EBF0F8"
           },
           "zaxis": {
            "backgroundcolor": "white",
            "gridcolor": "#DFE8F3",
            "gridwidth": 2,
            "linecolor": "#EBF0F8",
            "showbackground": true,
            "ticks": "",
            "zerolinecolor": "#EBF0F8"
           }
          },
          "shapedefaults": {
           "line": {
            "color": "#2a3f5f"
           }
          },
          "ternary": {
           "aaxis": {
            "gridcolor": "#DFE8F3",
            "linecolor": "#A2B1C6",
            "ticks": ""
           },
           "baxis": {
            "gridcolor": "#DFE8F3",
            "linecolor": "#A2B1C6",
            "ticks": ""
           },
           "bgcolor": "white",
           "caxis": {
            "gridcolor": "#DFE8F3",
            "linecolor": "#A2B1C6",
            "ticks": ""
           }
          },
          "title": {
           "x": 0.05
          },
          "xaxis": {
           "automargin": true,
           "gridcolor": "#EBF0F8",
           "linecolor": "#EBF0F8",
           "ticks": "",
           "title": {
            "standoff": 15
           },
           "zerolinecolor": "#EBF0F8",
           "zerolinewidth": 2
          },
          "yaxis": {
           "automargin": true,
           "gridcolor": "#EBF0F8",
           "linecolor": "#EBF0F8",
           "ticks": "",
           "title": {
            "standoff": 15
           },
           "zerolinecolor": "#EBF0F8",
           "zerolinewidth": 2
          }
         }
        },
        "title": {
         "text": "Prior Predictive Simulation"
        },
        "xaxis": {
         "anchor": "y",
         "domain": [
          0,
          1
         ],
         "title": {
          "text": "Region Index"
         }
        },
        "yaxis": {
         "anchor": "x",
         "domain": [
          0,
          1
         ],
         "title": {
          "text": "Num Cases"
         }
        }
       }
      },
      "text/html": [
       "<div>                            <div id=\"7ebff8f2-afc8-4bb9-bf72-d6348c2c226d\" class=\"plotly-graph-div\" style=\"height:525px; width:100%;\"></div>            <script type=\"text/javascript\">                require([\"plotly\"], function(Plotly) {                    window.PLOTLYENV=window.PLOTLYENV || {};                                    if (document.getElementById(\"7ebff8f2-afc8-4bb9-bf72-d6348c2c226d\")) {                    Plotly.newPlot(                        \"7ebff8f2-afc8-4bb9-bf72-d6348c2c226d\",                        [{\"hovertemplate\":\"\\u003cextra\\u003e\\u003c\\u002fextra\\u003e\",\"legendgroup\":\"\",\"line\":{\"color\":\"#636efa\",\"dash\":\"solid\"},\"marker\":{\"symbol\":\"circle\"},\"mode\":\"lines\",\"name\":\"\",\"orientation\":\"v\",\"showlegend\":false,\"xaxis\":\"x\",\"yaxis\":\"y\",\"type\":\"scatter\"},{\"line\":{\"color\":\"black\",\"width\":0.5},\"opacity\":0.2,\"x\":[1,2,3,4,5,6,7,8,9],\"y\":[-1.6514091491699219,-14.172982215881348,3.7401468753814697,-41.7008056640625,-4.9015350341796875,-20.452281951904297,-16.537086486816406,-30.0913028717041,-9.593777656555176],\"type\":\"scatter\"},{\"line\":{\"color\":\"black\",\"width\":0.5},\"opacity\":0.2,\"x\":[1,2,3,4,5,6,7,8,9],\"y\":[-8.763943672180176,-1.1474981307983398,-2.9727253913879395,-33.52421569824219,-4.315395832061768,-13.132163047790527,0.716654896736145,-29.884422302246094,9.235370635986328],\"type\":\"scatter\"},{\"line\":{\"color\":\"black\",\"width\":0.5},\"opacity\":0.2,\"x\":[1,2,3,4,5,6,7,8,9],\"y\":[-13.31083869934082,4.259298324584961,-7.750150680541992,-18.838970184326172,-5.445159435272217,-9.12369441986084,5.257820129394531,-21.838838577270508,11.929072380065918],\"type\":\"scatter\"},{\"line\":{\"color\":\"black\",\"width\":0.5},\"opacity\":0.2,\"x\":[1,2,3,4,5,6,7,8,9],\"y\":[48.111106872558594,-21.221773147583008,16.749282836914062,79.0229263305664,18.463563919067383,38.42314910888672,-15.205886840820312,95.22749328613281,-50.583248138427734],\"type\":\"scatter\"},{\"line\":{\"color\":\"black\",\"width\":0.5},\"opacity\":0.2,\"x\":[1,2,3,4,5,6,7,8,9],\"y\":[12.067168235778809,19.793148040771484,1.5629178285598755,64.50369262695312,3.808553457260132,21.200477600097656,16.653348922729492,30.56194496154785,5.764199256896973],\"type\":\"scatter\"},{\"line\":{\"color\":\"black\",\"width\":0.5},\"opacity\":0.2,\"x\":[1,2,3,4,5,6,7,8,9],\"y\":[-1.1317745447158813,0.21905282139778137,-0.7945723533630371,-2.9141502380371094,-1.0612328052520752,-1.934046745300293,0.620609700679779,-2.652374744415283,-0.739355206489563],\"type\":\"scatter\"},{\"line\":{\"color\":\"black\",\"width\":0.5},\"opacity\":0.2,\"x\":[1,2,3,4,5,6,7,8,9],\"y\":[35.31781768798828,-0.25709909200668335,20.275148391723633,53.5990104675293,9.073440551757812,15.939504623413086,6.760046005249023,42.829490661621094,4.117186546325684],\"type\":\"scatter\"},{\"line\":{\"color\":\"black\",\"width\":0.5},\"opacity\":0.2,\"x\":[1,2,3,4,5,6,7,8,9],\"y\":[-5.4629669189453125,1.9917744398117065,-3.127405881881714,-8.159730911254883,-4.2904791831970215,-6.070737361907959,2.4140658378601074,-11.557697296142578,-2.0215446949005127],\"type\":\"scatter\"},{\"line\":{\"color\":\"black\",\"width\":0.5},\"opacity\":0.2,\"x\":[1,2,3,4,5,6,7,8,9],\"y\":[-22.166643142700195,18.025638580322266,-12.479131698608398,-4.5524115562438965,-8.829167366027832,-4.294139862060547,22.99102783203125,-29.974637985229492,30.9465274810791],\"type\":\"scatter\"},{\"line\":{\"color\":\"black\",\"width\":0.5},\"opacity\":0.2,\"x\":[1,2,3,4,5,6,7,8,9],\"y\":[-24.57550811767578,8.163483619689941,-7.016698837280273,-68.48402404785156,-13.474505424499512,-38.845855712890625,6.959012985229492,-75.50995635986328,14.04507827758789],\"type\":\"scatter\"},{\"line\":{\"color\":\"black\",\"width\":0.5},\"opacity\":0.2,\"x\":[1,2,3,4,5,6,7,8,9],\"y\":[-11.462875366210938,7.49407434463501,-0.06051081418991089,-25.54874038696289,-10.838804244995117,-21.83879280090332,13.29001235961914,-32.214046478271484,42.071170806884766],\"type\":\"scatter\"},{\"line\":{\"color\":\"black\",\"width\":0.5},\"opacity\":0.2,\"x\":[1,2,3,4,5,6,7,8,9],\"y\":[9.851889610290527,-0.9528844356536865,5.669435501098633,17.410594940185547,3.3643264770507812,4.505648612976074,-2.8738722801208496,14.547271728515625,-25.460529327392578],\"type\":\"scatter\"},{\"line\":{\"color\":\"black\",\"width\":0.5},\"opacity\":0.2,\"x\":[1,2,3,4,5,6,7,8,9],\"y\":[-0.5538864135742188,-4.506305694580078,1.3616232872009277,-15.041275978088379,0.9881880879402161,-4.471648693084717,-3.7062113285064697,-7.4118170738220215,5.32331657409668],\"type\":\"scatter\"},{\"line\":{\"color\":\"black\",\"width\":0.5},\"opacity\":0.2,\"x\":[1,2,3,4,5,6,7,8,9],\"y\":[13.951486587524414,-1.9501796960830688,11.681541442871094,-1.8143219947814941,1.142659068107605,-8.422592163085938,-7.65424108505249,-3.7625503540039062,-2.3516130447387695],\"type\":\"scatter\"},{\"line\":{\"color\":\"black\",\"width\":0.5},\"opacity\":0.2,\"x\":[1,2,3,4,5,6,7,8,9],\"y\":[-4.395981788635254,-1.2600958347320557,0.3516039252281189,-9.7857666015625,-0.7106763124465942,-3.9125747680664062,-3.1637024879455566,-5.242049217224121,1.0204777717590332],\"type\":\"scatter\"},{\"line\":{\"color\":\"black\",\"width\":0.5},\"opacity\":0.2,\"x\":[1,2,3,4,5,6,7,8,9],\"y\":[-4.918968677520752,-8.53026294708252,-1.4377338886260986,-31.78877067565918,4.76713752746582,-11.576501846313477,-15.609844207763672,-22.715036392211914,-25.709611892700195],\"type\":\"scatter\"},{\"line\":{\"color\":\"black\",\"width\":0.5},\"opacity\":0.2,\"x\":[1,2,3,4,5,6,7,8,9],\"y\":[9.399847984313965,-2.0170772075653076,5.443254470825195,12.396161079406738,0.5432766675949097,1.5046887397766113,0.9931970834732056,11.168496131896973,-5.228513717651367],\"type\":\"scatter\"},{\"line\":{\"color\":\"black\",\"width\":0.5},\"opacity\":0.2,\"x\":[1,2,3,4,5,6,7,8,9],\"y\":[10.0892333984375,10.856505393981934,8.132174491882324,43.26103210449219,1.2216243743896484,10.284378051757812,11.52669620513916,23.681289672851562,18.303136825561523],\"type\":\"scatter\"},{\"line\":{\"color\":\"black\",\"width\":0.5},\"opacity\":0.2,\"x\":[1,2,3,4,5,6,7,8,9],\"y\":[9.460054397583008,0.4127480983734131,1.963850975036621,3.3648629188537598,-1.4944134950637817,-6.504546642303467,3.333812713623047,-3.7154183387756348,2.602112293243408],\"type\":\"scatter\"},{\"line\":{\"color\":\"black\",\"width\":0.5},\"opacity\":0.2,\"x\":[1,2,3,4,5,6,7,8,9],\"y\":[-7.893949508666992,4.774075031280518,-1.6119937896728516,-0.03742790222167969,-3.1715586185455322,0.8704066276550293,1.0497350692749023,-1.6416711807250977,19.053340911865234],\"type\":\"scatter\"},{\"line\":{\"color\":\"black\",\"width\":0.5},\"opacity\":0.2,\"x\":[1,2,3,4,5,6,7,8,9],\"y\":[4.155084609985352,0.005408287048339844,3.5891518592834473,12.711381912231445,5.1318135261535645,13.299964904785156,-0.3265209197998047,16.14800262451172,-1.0573806762695312],\"type\":\"scatter\"},{\"line\":{\"color\":\"black\",\"width\":0.5},\"opacity\":0.2,\"x\":[1,2,3,4,5,6,7,8,9],\"y\":[-4.78147029876709,5.3793768882751465,-0.07145547866821289,10.096436500549316,-5.011053085327148,0.4119844436645508,4.4379143714904785,-7.738494873046875,-6.951052665710449],\"type\":\"scatter\"},{\"line\":{\"color\":\"black\",\"width\":0.5},\"opacity\":0.2,\"x\":[1,2,3,4,5,6,7,8,9],\"y\":[4.332233905792236,19.884233474731445,1.9534435272216797,42.931854248046875,1.6418920755386353,16.667043685913086,22.782978057861328,12.466934204101562,41.44797134399414],\"type\":\"scatter\"},{\"line\":{\"color\":\"black\",\"width\":0.5},\"opacity\":0.2,\"x\":[1,2,3,4,5,6,7,8,9],\"y\":[-6.247378349304199,-7.413372039794922,0.9140911102294922,-33.89745330810547,-2.229670524597168,-15.24112606048584,-9.147232055664062,-17.021005630493164,-8.053229331970215],\"type\":\"scatter\"},{\"line\":{\"color\":\"black\",\"width\":0.5},\"opacity\":0.2,\"x\":[1,2,3,4,5,6,7,8,9],\"y\":[12.116296768188477,-20.796165466308594,5.734452247619629,-3.6743602752685547,2.333159923553467,-0.8815984725952148,-20.717514038085938,23.567625045776367,-42.00294876098633],\"type\":\"scatter\"},{\"line\":{\"color\":\"black\",\"width\":0.5},\"opacity\":0.2,\"x\":[1,2,3,4,5,6,7,8,9],\"y\":[5.316744804382324,-5.277696132659912,1.432349443435669,-11.882136344909668,4.350693702697754,-3.7643375396728516,-7.550593852996826,-0.8712310791015625,-9.843019485473633],\"type\":\"scatter\"},{\"line\":{\"color\":\"black\",\"width\":0.5},\"opacity\":0.2,\"x\":[1,2,3,4,5,6,7,8,9],\"y\":[-9.550381660461426,0.13344275951385498,-6.5186872482299805,-25.310016632080078,0.9579223394393921,-6.085314750671387,2.162777900695801,-23.317157745361328,2.776766777038574],\"type\":\"scatter\"},{\"line\":{\"color\":\"black\",\"width\":0.5},\"opacity\":0.2,\"x\":[1,2,3,4,5,6,7,8,9],\"y\":[-8.502555847167969,-2.2949612140655518,-5.303442478179932,-22.186145782470703,-1.993416666984558,-9.120110511779785,-2.0488617420196533,-15.09595775604248,-2.9580042362213135],\"type\":\"scatter\"},{\"line\":{\"color\":\"black\",\"width\":0.5},\"opacity\":0.2,\"x\":[1,2,3,4,5,6,7,8,9],\"y\":[13.873465538024902,2.882777452468872,7.245042324066162,47.36434555053711,3.393705368041992,17.85780143737793,2.2826855182647705,32.9381217956543,0.9950428009033203],\"type\":\"scatter\"},{\"line\":{\"color\":\"black\",\"width\":0.5},\"opacity\":0.2,\"x\":[1,2,3,4,5,6,7,8,9],\"y\":[-1.0516860485076904,-20.606548309326172,3.272184371948242,-42.19829559326172,-0.9281260967254639,-16.610633850097656,-24.56027603149414,-12.846580505371094,-20.788314819335938],\"type\":\"scatter\"},{\"line\":{\"color\":\"black\",\"width\":0.5},\"opacity\":0.2,\"x\":[1,2,3,4,5,6,7,8,9],\"y\":[-7.4983296394348145,-9.3983154296875,-1.9509460926055908,-39.15193176269531,-2.4046425819396973,-16.11660385131836,-10.818483352661133,-21.17009925842285,-11.506240844726562],\"type\":\"scatter\"},{\"line\":{\"color\":\"black\",\"width\":0.5},\"opacity\":0.2,\"x\":[1,2,3,4,5,6,7,8,9],\"y\":[-2.572155237197876,16.568666458129883,-1.1271549463272095,36.66461944580078,-3.838362693786621,14.659189224243164,25.619665145874023,11.295758247375488,36.754642486572266],\"type\":\"scatter\"},{\"line\":{\"color\":\"black\",\"width\":0.5},\"opacity\":0.2,\"x\":[1,2,3,4,5,6,7,8,9],\"y\":[2.545865297317505,4.815210342407227,1.3399977684020996,13.111738204956055,-0.6566691398620605,3.096391201019287,6.012738227844238,3.995056629180908,3.3367156982421875],\"type\":\"scatter\"},{\"line\":{\"color\":\"black\",\"width\":0.5},\"opacity\":0.2,\"x\":[1,2,3,4,5,6,7,8,9],\"y\":[-0.6957826614379883,2.480494737625122,-2.4591217041015625,-4.2308197021484375,-0.4813416600227356,-3.6501402854919434,5.3094329833984375,-12.862520217895508,-5.309558868408203],\"type\":\"scatter\"},{\"line\":{\"color\":\"black\",\"width\":0.5},\"opacity\":0.2,\"x\":[1,2,3,4,5,6,7,8,9],\"y\":[-3.6609256267547607,3.797696590423584,-0.8317167162895203,-14.407373428344727,-0.09742769598960876,-5.791321754455566,3.8031208515167236,-19.4657039642334,10.718216896057129],\"type\":\"scatter\"},{\"line\":{\"color\":\"black\",\"width\":0.5},\"opacity\":0.2,\"x\":[1,2,3,4,5,6,7,8,9],\"y\":[8.352350234985352,-0.8801809549331665,6.506597518920898,-6.747887134552002,5.662894248962402,-2.0033011436462402,-2.7292704582214355,-5.564018726348877,11.10246753692627],\"type\":\"scatter\"},{\"line\":{\"color\":\"black\",\"width\":0.5},\"opacity\":0.2,\"x\":[1,2,3,4,5,6,7,8,9],\"y\":[4.718991756439209,8.61018180847168,3.2223875522613525,23.638233184814453,-1.1813671588897705,6.273271083831787,7.456191062927246,6.950882911682129,9.653534889221191],\"type\":\"scatter\"},{\"line\":{\"color\":\"black\",\"width\":0.5},\"opacity\":0.2,\"x\":[1,2,3,4,5,6,7,8,9],\"y\":[-4.5039381980896,2.51999831199646,-0.6903098225593567,17.679075241088867,-3.6241660118103027,5.889950752258301,7.171944618225098,4.082818984985352,-5.73522424697876],\"type\":\"scatter\"},{\"line\":{\"color\":\"black\",\"width\":0.5},\"opacity\":0.2,\"x\":[1,2,3,4,5,6,7,8,9],\"y\":[14.039329528808594,2.3771419525146484,5.687743663787842,29.364356994628906,7.223263740539551,15.500656127929688,0.9594721794128418,23.092092514038086,-1.4520578384399414],\"type\":\"scatter\"},{\"line\":{\"color\":\"black\",\"width\":0.5},\"opacity\":0.2,\"x\":[1,2,3,4,5,6,7,8,9],\"y\":[4.812448501586914,21.825063705444336,-5.07757568359375,59.119415283203125,-1.3742601871490479,20.2605037689209,33.38892364501953,23.926921844482422,42.9257698059082],\"type\":\"scatter\"},{\"line\":{\"color\":\"black\",\"width\":0.5},\"opacity\":0.2,\"x\":[1,2,3,4,5,6,7,8,9],\"y\":[10.765979766845703,-24.736141204833984,6.061960697174072,-18.337209701538086,7.510659694671631,-2.2030177116394043,-28.816024780273438,28.719444274902344,-35.76547622680664],\"type\":\"scatter\"},{\"line\":{\"color\":\"black\",\"width\":0.5},\"opacity\":0.2,\"x\":[1,2,3,4,5,6,7,8,9],\"y\":[7.250211715698242,-1.2726850509643555,-1.3234889507293701,15.031106948852539,2.743619441986084,10.250943183898926,0.290485143661499,15.516626358032227,-17.492778778076172],\"type\":\"scatter\"},{\"line\":{\"color\":\"black\",\"width\":0.5},\"opacity\":0.2,\"x\":[1,2,3,4,5,6,7,8,9],\"y\":[3.853712797164917,3.7648684978485107,0.9911213517189026,5.148764610290527,0.892235517501831,1.096118688583374,5.512193202972412,-2.9698338508605957,11.811591148376465],\"type\":\"scatter\"},{\"line\":{\"color\":\"black\",\"width\":0.5},\"opacity\":0.2,\"x\":[1,2,3,4,5,6,7,8,9],\"y\":[1.2324891090393066,5.747763633728027,0.27905362844467163,22.646953582763672,1.9586200714111328,11.866124153137207,9.941068649291992,10.431713104248047,24.493005752563477],\"type\":\"scatter\"},{\"line\":{\"color\":\"black\",\"width\":0.5},\"opacity\":0.2,\"x\":[1,2,3,4,5,6,7,8,9],\"y\":[-1.1452360153198242,6.185578346252441,2.4164342880249023,13.10263442993164,6.585872650146484,10.716503143310547,8.774375915527344,7.005584239959717,27.322303771972656],\"type\":\"scatter\"},{\"line\":{\"color\":\"black\",\"width\":0.5},\"opacity\":0.2,\"x\":[1,2,3,4,5,6,7,8,9],\"y\":[-4.882927894592285,-6.757105827331543,-2.2418951988220215,-20.154876708984375,-0.8679604530334473,-6.212301254272461,-9.571231842041016,-8.335434913635254,-14.780694007873535],\"type\":\"scatter\"},{\"line\":{\"color\":\"black\",\"width\":0.5},\"opacity\":0.2,\"x\":[1,2,3,4,5,6,7,8,9],\"y\":[11.014996528625488,-1.7455527782440186,2.887087821960449,16.68677520751953,6.745891094207764,11.705816268920898,-3.4419236183166504,22.868213653564453,-7.831887722015381],\"type\":\"scatter\"},{\"line\":{\"color\":\"black\",\"width\":0.5},\"opacity\":0.2,\"x\":[1,2,3,4,5,6,7,8,9],\"y\":[0.09214138984680176,-7.753671169281006,-0.7825461030006409,-13.327127456665039,-0.9580332636833191,-5.691162109375,-8.488972663879395,-4.162228584289551,-17.033184051513672],\"type\":\"scatter\"},{\"line\":{\"color\":\"black\",\"width\":0.5},\"opacity\":0.2,\"x\":[1,2,3,4,5,6,7,8,9],\"y\":[8.569238662719727,28.742755889892578,1.1428738832473755,80.97090911865234,1.13018798828125,26.897804260253906,34.361942291259766,30.69173812866211,42.96719741821289],\"type\":\"scatter\"},{\"line\":{\"color\":\"black\",\"width\":0.5},\"opacity\":0.2,\"x\":[1,2,3,4,5,6,7,8,9],\"y\":[6.740703582763672,-13.275925636291504,2.9688656330108643,-13.94311237335205,1.6045057773590088,-4.375279426574707,-14.892568588256836,3.716902256011963,-33.73777389526367],\"type\":\"scatter\"},{\"line\":{\"color\":\"black\",\"width\":0.5},\"opacity\":0.2,\"x\":[1,2,3,4,5,6,7,8,9],\"y\":[-31.483503341674805,27.618602752685547,-15.232708930969238,-25.62447166442871,-13.53596019744873,-18.42627716064453,35.97683334350586,-57.355804443359375,73.43614196777344],\"type\":\"scatter\"},{\"line\":{\"color\":\"black\",\"width\":0.5},\"opacity\":0.2,\"x\":[1,2,3,4,5,6,7,8,9],\"y\":[11.877138137817383,3.214552879333496,5.725022315979004,47.42810821533203,9.276249885559082,28.677278518676758,0.23477530479431152,35.63452911376953,-3.47658109664917],\"type\":\"scatter\"},{\"line\":{\"color\":\"black\",\"width\":0.5},\"opacity\":0.2,\"x\":[1,2,3,4,5,6,7,8,9],\"y\":[-0.47652292251586914,-18.374431610107422,1.8766746520996094,-39.01359558105469,2.1970667839050293,-14.206655502319336,-26.85409164428711,-15.310301780700684,-37.56216049194336],\"type\":\"scatter\"},{\"line\":{\"color\":\"black\",\"width\":0.5},\"opacity\":0.2,\"x\":[1,2,3,4,5,6,7,8,9],\"y\":[0.5569660067558289,-0.8024229407310486,-0.08179745078086853,0.4960782527923584,0.1102132797241211,0.1945587396621704,-0.0967368334531784,1.837291955947876,0.18489137291908264],\"type\":\"scatter\"},{\"line\":{\"color\":\"black\",\"width\":0.5},\"opacity\":0.2,\"x\":[1,2,3,4,5,6,7,8,9],\"y\":[-24.782596588134766,7.325695037841797,-20.381418228149414,-39.86481475830078,-2.4687113761901855,-10.260756492614746,-2.175851821899414,-39.88263702392578,-12.911834716796875],\"type\":\"scatter\"},{\"line\":{\"color\":\"black\",\"width\":0.5},\"opacity\":0.2,\"x\":[1,2,3,4,5,6,7,8,9],\"y\":[-7.629834175109863,18.38827133178711,-4.798924922943115,22.82350730895996,0.2684832215309143,12.917887687683105,15.707417488098145,-0.13110876083374023,26.3445987701416],\"type\":\"scatter\"},{\"line\":{\"color\":\"black\",\"width\":0.5},\"opacity\":0.2,\"x\":[1,2,3,4,5,6,7,8,9],\"y\":[-4.617287635803223,-8.18910026550293,-3.2538039684295654,-18.643573760986328,-0.3431376516819,-3.6609721183776855,-8.191739082336426,-5.8669753074646,-17.47602653503418],\"type\":\"scatter\"},{\"line\":{\"color\":\"black\",\"width\":0.5},\"opacity\":0.2,\"x\":[1,2,3,4,5,6,7,8,9],\"y\":[-5.673483848571777,-26.030061721801758,-0.9128449559211731,-75.92147064208984,-1.4854404926300049,-27.335447311401367,-26.7341251373291,-39.14435958862305,-44.93352508544922],\"type\":\"scatter\"},{\"line\":{\"color\":\"black\",\"width\":0.5},\"opacity\":0.2,\"x\":[1,2,3,4,5,6,7,8,9],\"y\":[-11.533634185791016,13.540714263916016,-5.556751728057861,-6.201093673706055,-7.707149028778076,-9.46114730834961,14.609396934509277,-25.631868362426758,17.847543716430664],\"type\":\"scatter\"},{\"line\":{\"color\":\"black\",\"width\":0.5},\"opacity\":0.2,\"x\":[1,2,3,4,5,6,7,8,9],\"y\":[4.307608604431152,0.6686304807662964,-3.0573673248291016,8.240580558776855,-0.7775626182556152,2.005066394805908,6.986841201782227,3.967656373977661,-5.596208095550537],\"type\":\"scatter\"},{\"line\":{\"color\":\"black\",\"width\":0.5},\"opacity\":0.2,\"x\":[1,2,3,4,5,6,7,8,9],\"y\":[6.301105499267578,-2.2832679748535156,2.8572194576263428,11.979737281799316,-0.3820474147796631,2.71895170211792,1.2408981323242188,10.770539283752441,-6.39929723739624],\"type\":\"scatter\"},{\"line\":{\"color\":\"black\",\"width\":0.5},\"opacity\":0.2,\"x\":[1,2,3,4,5,6,7,8,9],\"y\":[65.95849609375,-5.005132675170898,23.476804733276367,149.14854431152344,13.630550384521484,54.43154525756836,-0.8586082458496094,129.8727264404297,-48.50251007080078],\"type\":\"scatter\"},{\"line\":{\"color\":\"black\",\"width\":0.5},\"opacity\":0.2,\"x\":[1,2,3,4,5,6,7,8,9],\"y\":[2.459167718887329,-4.212681770324707,0.09983654320240021,0.7446072101593018,2.2815654277801514,4.2749714851379395,-2.1759839057922363,6.148965835571289,-12.774539947509766],\"type\":\"scatter\"},{\"line\":{\"color\":\"black\",\"width\":0.5},\"opacity\":0.2,\"x\":[1,2,3,4,5,6,7,8,9],\"y\":[5.7554473876953125,9.144889831542969,0.07270786911249161,31.021503448486328,1.105242133140564,11.628999710083008,13.063072204589844,15.897163391113281,16.223787307739258],\"type\":\"scatter\"},{\"line\":{\"color\":\"black\",\"width\":0.5},\"opacity\":0.2,\"x\":[1,2,3,4,5,6,7,8,9],\"y\":[-17.856855392456055,5.25047492980957,-11.789749145507812,-23.491180419921875,-3.649106979370117,-8.06109619140625,3.876448154449463,-27.050216674804688,16.705869674682617],\"type\":\"scatter\"},{\"line\":{\"color\":\"black\",\"width\":0.5},\"opacity\":0.2,\"x\":[1,2,3,4,5,6,7,8,9],\"y\":[5.576376914978027,1.0333127975463867,2.4324402809143066,4.276340484619141,-0.9683756828308105,-2.4214296340942383,3.2883737087249756,2.745549201965332,-0.4143381118774414],\"type\":\"scatter\"},{\"line\":{\"color\":\"black\",\"width\":0.5},\"opacity\":0.2,\"x\":[1,2,3,4,5,6,7,8,9],\"y\":[-1.8806324005126953,10.46621036529541,-8.588655471801758,23.698030471801758,-4.559696674346924,2.700282573699951,22.927501678466797,-1.4598159790039062,-1.67921781539917],\"type\":\"scatter\"},{\"line\":{\"color\":\"black\",\"width\":0.5},\"opacity\":0.2,\"x\":[1,2,3,4,5,6,7,8,9],\"y\":[55.81205749511719,-12.750218391418457,23.57624053955078,85.22515869140625,17.63496971130371,34.36882781982422,-7.449563980102539,83.0455093383789,-19.49188232421875],\"type\":\"scatter\"},{\"line\":{\"color\":\"black\",\"width\":0.5},\"opacity\":0.2,\"x\":[1,2,3,4,5,6,7,8,9],\"y\":[-4.568658351898193,-1.5001486539840698,-2.0334830284118652,-7.838343143463135,-2.3128786087036133,-3.5149543285369873,-0.6925976276397705,-6.245818138122559,-6.272353172302246],\"type\":\"scatter\"},{\"line\":{\"color\":\"black\",\"width\":0.5},\"opacity\":0.2,\"x\":[1,2,3,4,5,6,7,8,9],\"y\":[-6.661138534545898,-4.982237815856934,-0.5637162923812866,-26.270334243774414,2.455277442932129,-6.600619316101074,-7.283733367919922,-7.848720550537109,2.8584280014038086],\"type\":\"scatter\"},{\"line\":{\"color\":\"black\",\"width\":0.5},\"opacity\":0.2,\"x\":[1,2,3,4,5,6,7,8,9],\"y\":[9.482522964477539,10.612465858459473,3.769319772720337,41.31150817871094,2.791987895965576,12.241499900817871,14.040351867675781,32.66728973388672,23.980627059936523],\"type\":\"scatter\"},{\"line\":{\"color\":\"black\",\"width\":0.5},\"opacity\":0.2,\"x\":[1,2,3,4,5,6,7,8,9],\"y\":[8.925182342529297,3.5107059478759766,3.156494617462158,22.622413635253906,2.882678985595703,6.985490798950195,2.9098026752471924,17.946956634521484,-5.063439846038818],\"type\":\"scatter\"},{\"line\":{\"color\":\"black\",\"width\":0.5},\"opacity\":0.2,\"x\":[1,2,3,4,5,6,7,8,9],\"y\":[1.6569290161132812,5.680711269378662,-2.265141725540161,19.119857788085938,5.41224479675293,10.408777236938477,3.183911085128784,16.2307071685791,1.9661707878112793],\"type\":\"scatter\"},{\"line\":{\"color\":\"black\",\"width\":0.5},\"opacity\":0.2,\"x\":[1,2,3,4,5,6,7,8,9],\"y\":[-5.104447364807129,-0.040196239948272705,-2.8832545280456543,-25.045940399169922,0.1862076073884964,-9.726118087768555,0.771912693977356,-19.842554092407227,11.724969863891602],\"type\":\"scatter\"},{\"line\":{\"color\":\"black\",\"width\":0.5},\"opacity\":0.2,\"x\":[1,2,3,4,5,6,7,8,9],\"y\":[12.377104759216309,4.566938400268555,2.4418535232543945,33.328678131103516,1.7886464595794678,12.443122863769531,7.6177239418029785,18.590606689453125,-7.6483917236328125],\"type\":\"scatter\"},{\"line\":{\"color\":\"black\",\"width\":0.5},\"opacity\":0.2,\"x\":[1,2,3,4,5,6,7,8,9],\"y\":[-7.42062520980835,3.2547600269317627,-3.3865020275115967,-6.17427396774292,0.46909618377685547,-0.0981142520904541,5.420411586761475,-3.0083892345428467,18.355159759521484],\"type\":\"scatter\"},{\"line\":{\"color\":\"black\",\"width\":0.5},\"opacity\":0.2,\"x\":[1,2,3,4,5,6,7,8,9],\"y\":[-0.3568098545074463,1.1132678985595703,-0.06496244668960571,-7.591794013977051,-2.581347942352295,-7.285525798797607,2.7000458240509033,-9.558375358581543,4.215869903564453],\"type\":\"scatter\"},{\"line\":{\"color\":\"black\",\"width\":0.5},\"opacity\":0.2,\"x\":[1,2,3,4,5,6,7,8,9],\"y\":[9.599639892578125,-4.5987348556518555,7.206384658813477,16.265243530273438,5.182945728302002,10.528658866882324,-7.15233039855957,18.93779754638672,-7.274013519287109],\"type\":\"scatter\"},{\"line\":{\"color\":\"black\",\"width\":0.5},\"opacity\":0.2,\"x\":[1,2,3,4,5,6,7,8,9],\"y\":[7.532832145690918,-1.8952850103378296,0.28737759590148926,17.615877151489258,4.939603805541992,11.00733757019043,-2.43387770652771,19.326129913330078,-7.26676607131958],\"type\":\"scatter\"},{\"line\":{\"color\":\"black\",\"width\":0.5},\"opacity\":0.2,\"x\":[1,2,3,4,5,6,7,8,9],\"y\":[-8.395142555236816,4.112918376922607,-7.073447227478027,0.06400632858276367,-2.123812675476074,2.542996644973755,3.5906386375427246,-6.88616943359375,9.220829010009766],\"type\":\"scatter\"},{\"line\":{\"color\":\"black\",\"width\":0.5},\"opacity\":0.2,\"x\":[1,2,3,4,5,6,7,8,9],\"y\":[-15.124637603759766,6.861333847045898,-5.829646587371826,-26.819366455078125,-3.162766218185425,-9.747587203979492,0.052579522132873535,-28.539592742919922,14.209037780761719],\"type\":\"scatter\"},{\"line\":{\"color\":\"black\",\"width\":0.5},\"opacity\":0.2,\"x\":[1,2,3,4,5,6,7,8,9],\"y\":[-2.1094236373901367,-1.7517539262771606,-1.7242530584335327,3.416261672973633,2.464667320251465,6.570039749145508,-7.896592140197754,5.375555515289307,-11.637651443481445],\"type\":\"scatter\"},{\"line\":{\"color\":\"black\",\"width\":0.5},\"opacity\":0.2,\"x\":[1,2,3,4,5,6,7,8,9],\"y\":[-0.4340327978134155,1.0517574548721313,-0.10037551820278168,3.0302038192749023,0.09026587009429932,1.4729810953140259,1.81589937210083,-0.02875921130180359,0.14856740832328796],\"type\":\"scatter\"},{\"line\":{\"color\":\"black\",\"width\":0.5},\"opacity\":0.2,\"x\":[1,2,3,4,5,6,7,8,9],\"y\":[3.3182458877563477,-0.0012970566749572754,1.5027097463607788,3.783980369567871,3.8044252395629883,3.5832648277282715,-0.7807304859161377,6.341148376464844,10.818367958068848],\"type\":\"scatter\"},{\"line\":{\"color\":\"black\",\"width\":0.5},\"opacity\":0.2,\"x\":[1,2,3,4,5,6,7,8,9],\"y\":[5.722153663635254,15.304204940795898,-0.7443642616271973,36.688228607177734,0.7805051803588867,9.784662246704102,14.063340187072754,10.153536796569824,17.955610275268555],\"type\":\"scatter\"},{\"line\":{\"color\":\"black\",\"width\":0.5},\"opacity\":0.2,\"x\":[1,2,3,4,5,6,7,8,9],\"y\":[15.651100158691406,5.3472137451171875,5.742570877075195,45.688194274902344,5.717350006103516,19.426910400390625,9.811603546142578,33.755489349365234,16.333175659179688],\"type\":\"scatter\"},{\"line\":{\"color\":\"black\",\"width\":0.5},\"opacity\":0.2,\"x\":[1,2,3,4,5,6,7,8,9],\"y\":[-13.963175773620605,-6.585083484649658,-3.7566661834716797,-29.80129623413086,1.6434401273727417,-6.785915374755859,-15.357288360595703,-17.695491790771484,-18.452613830566406],\"type\":\"scatter\"},{\"line\":{\"color\":\"black\",\"width\":0.5},\"opacity\":0.2,\"x\":[1,2,3,4,5,6,7,8,9],\"y\":[2.4442644119262695,-2.853170394897461,-0.3936532139778137,5.470662593841553,-1.1262396574020386,1.2074813842773438,-3.2031004428863525,6.261468887329102,-14.982938766479492],\"type\":\"scatter\"},{\"line\":{\"color\":\"black\",\"width\":0.5},\"opacity\":0.2,\"x\":[1,2,3,4,5,6,7,8,9],\"y\":[30.076576232910156,1.8535335063934326,15.905855178833008,64.48348999023438,10.791526794433594,23.974815368652344,-0.21572351455688477,53.86248779296875,-13.469046592712402],\"type\":\"scatter\"},{\"line\":{\"color\":\"black\",\"width\":0.5},\"opacity\":0.2,\"x\":[1,2,3,4,5,6,7,8,9],\"y\":[4.164738655090332,-5.8643717765808105,-1.1089792251586914,-2.5536084175109863,-1.082056999206543,-5.44655179977417,-11.046009063720703,5.898369789123535,-35.3409423828125],\"type\":\"scatter\"},{\"line\":{\"color\":\"black\",\"width\":0.5},\"opacity\":0.2,\"x\":[1,2,3,4,5,6,7,8,9],\"y\":[0.8817026615142822,-13.15796947479248,1.7233999967575073,-36.80849075317383,1.374246597290039,-14.280162811279297,-18.792781829833984,-15.311725616455078,-11.464941024780273],\"type\":\"scatter\"},{\"line\":{\"color\":\"black\",\"width\":0.5},\"opacity\":0.2,\"x\":[1,2,3,4,5,6,7,8,9],\"y\":[-2.54067063331604,0.08486020565032959,0.6106485724449158,16.071096420288086,0.10355541855096817,10.16395378112793,-1.2518219947814941,8.442317008972168,-17.783557891845703],\"type\":\"scatter\"},{\"line\":{\"color\":\"black\",\"width\":0.5},\"opacity\":0.2,\"x\":[1,2,3,4,5,6,7,8,9],\"y\":[7.9176740646362305,4.373416423797607,0.8488441109657288,32.770198822021484,-0.19823800027370453,11.463188171386719,11.3488130569458,18.28662109375,5.787349224090576],\"type\":\"scatter\"},{\"line\":{\"color\":\"black\",\"width\":0.5},\"opacity\":0.2,\"x\":[1,2,3,4,5,6,7,8,9],\"y\":[-2.205045700073242,-10.219528198242188,0.46100324392318726,-35.82683181762695,-0.06285560131072998,-18.410921096801758,-15.484099388122559,-11.609227180480957,-7.308147430419922],\"type\":\"scatter\"},{\"line\":{\"color\":\"black\",\"width\":0.5},\"opacity\":0.2,\"x\":[1,2,3,4,5,6,7,8,9],\"y\":[8.44211483001709,-18.837181091308594,-3.5525336265563965,-31.96527099609375,1.3121273517608643,-13.91851806640625,-16.502826690673828,-11.363238334655762,-29.095054626464844],\"type\":\"scatter\"},{\"line\":{\"color\":\"black\",\"width\":0.5},\"opacity\":0.2,\"x\":[1,2,3,4,5,6,7,8,9],\"y\":[2.9059267044067383,-10.99669075012207,3.6041975021362305,-8.995065689086914,0.6047266125679016,-2.544837713241577,-13.22308349609375,4.993834495544434,-23.00831413269043],\"type\":\"scatter\"},{\"line\":{\"color\":\"black\",\"width\":0.5},\"opacity\":0.2,\"x\":[1,2,3,4,5,6,7,8,9],\"y\":[15.940897941589355,4.402578353881836,4.226916313171387,51.156890869140625,4.973523139953613,21.824960708618164,7.565327167510986,39.821563720703125,1.432023286819458],\"type\":\"scatter\"},{\"line\":{\"color\":\"black\",\"width\":0.5},\"opacity\":0.2,\"x\":[1,2,3,4,5,6,7,8,9],\"y\":[-18.266443252563477,23.537933349609375,-9.625227928161621,-3.6817398071289062,-5.634884834289551,-3.6912405490875244,34.41087341308594,-32.726593017578125,59.220481872558594],\"type\":\"scatter\"},{\"line\":{\"color\":\"black\",\"width\":0.5},\"opacity\":0.2,\"x\":[1,2,3,4,5,6,7,8,9],\"y\":[-1.1597390174865723,-0.3263256549835205,-1.5516810417175293,-2.544069766998291,0.1164512038230896,-0.5540266036987305,0.28223395347595215,-1.1487445831298828,1.2691915035247803],\"type\":\"scatter\"},{\"line\":{\"color\":\"black\",\"width\":0.5},\"opacity\":0.2,\"x\":[1,2,3,4,5,6,7,8,9],\"y\":[1.412046194076538,-2.6091251373291016,0.3536643385887146,1.8465018272399902,4.513283729553223,7.491527557373047,-7.456225395202637,5.948184013366699,-14.23822021484375],\"type\":\"scatter\"},{\"line\":{\"color\":\"black\",\"width\":0.5},\"opacity\":0.2,\"x\":[1,2,3,4,5,6,7,8,9],\"y\":[-14.699406623840332,-17.307579040527344,-6.424746513366699,-80.62709045410156,-4.5028533935546875,-34.22153091430664,-22.609909057617188,-53.21900939941406,-41.47555160522461],\"type\":\"scatter\"},{\"line\":{\"color\":\"black\",\"width\":0.5},\"opacity\":0.2,\"x\":[1,2,3,4,5,6,7,8,9],\"y\":[0.20283985137939453,8.37474250793457,-1.5362504720687866,10.248651504516602,-3.09682297706604,-0.43740785121917725,14.835018157958984,-3.957387924194336,9.279539108276367],\"type\":\"scatter\"},{\"line\":{\"color\":\"black\",\"width\":0.5},\"opacity\":0.2,\"x\":[1,2,3,4,5,6,7,8,9],\"y\":[17.137475967407227,2.1290950775146484,7.372486114501953,43.79389190673828,1.773481011390686,14.471783638000488,6.502426624298096,25.76763343811035,-6.926145076751709],\"type\":\"scatter\"},{\"line\":{\"color\":\"black\",\"width\":0.5},\"opacity\":0.2,\"x\":[1,2,3,4,5,6,7,8,9],\"y\":[3.347269058227539,15.54184627532959,0.9039843082427979,8.46692180633545,-3.119403123855591,-2.012331962585449,17.080684661865234,-4.224639892578125,33.374420166015625],\"type\":\"scatter\"},{\"line\":{\"color\":\"black\",\"width\":0.5},\"opacity\":0.2,\"x\":[1,2,3,4,5,6,7,8,9],\"y\":[-4.0539164543151855,0.31678444147109985,-2.047382354736328,0.7290539741516113,-4.118913173675537,-1.8275526762008667,1.8714649677276611,-2.5768320560455322,-2.3335702419281006],\"type\":\"scatter\"},{\"line\":{\"color\":\"black\",\"width\":0.5},\"opacity\":0.2,\"x\":[1,2,3,4,5,6,7,8,9],\"y\":[10.613910675048828,-6.066378593444824,3.915519952774048,27.058006286621094,0.5449696779251099,5.986490249633789,-5.947906494140625,28.510944366455078,-29.743032455444336],\"type\":\"scatter\"},{\"line\":{\"color\":\"black\",\"width\":0.5},\"opacity\":0.2,\"x\":[1,2,3,4,5,6,7,8,9],\"y\":[3.4320428371429443,5.342906475067139,2.613861560821533,6.74397087097168,-0.3955315351486206,0.29989081621170044,2.2178940773010254,-0.3020799160003662,11.777570724487305],\"type\":\"scatter\"},{\"line\":{\"color\":\"black\",\"width\":0.5},\"opacity\":0.2,\"x\":[1,2,3,4,5,6,7,8,9],\"y\":[12.988598823547363,4.9388508796691895,7.161600112915039,10.63983154296875,1.9049841165542603,-1.4243805408477783,7.822253227233887,1.8722131252288818,22.673372268676758],\"type\":\"scatter\"},{\"line\":{\"color\":\"black\",\"width\":0.5},\"opacity\":0.2,\"x\":[1,2,3,4,5,6,7,8,9],\"y\":[-5.999365329742432,0.4364761412143707,-2.31648850440979,-17.585424423217773,-1.352821707725525,-7.150571823120117,-1.1558399200439453,-16.729991912841797,-0.670395016670227],\"type\":\"scatter\"},{\"line\":{\"color\":\"black\",\"width\":0.5},\"opacity\":0.2,\"x\":[1,2,3,4,5,6,7,8,9],\"y\":[12.162900924682617,7.70447301864624,5.5601959228515625,51.75505828857422,4.446527481079102,22.904678344726562,8.175742149353027,34.71673583984375,0.9045519828796387],\"type\":\"scatter\"},{\"line\":{\"color\":\"black\",\"width\":0.5},\"opacity\":0.2,\"x\":[1,2,3,4,5,6,7,8,9],\"y\":[13.806049346923828,7.770054817199707,5.554702281951904,35.26112365722656,4.109328746795654,11.880943298339844,9.174824714660645,22.362476348876953,11.563047409057617],\"type\":\"scatter\"},{\"line\":{\"color\":\"black\",\"width\":0.5},\"opacity\":0.2,\"x\":[1,2,3,4,5,6,7,8,9],\"y\":[2.754058837890625,7.830619812011719,-0.284298300743103,18.994335174560547,6.6865034103393555,13.109169006347656,10.42093276977539,11.739723205566406,37.5903205871582],\"type\":\"scatter\"},{\"line\":{\"color\":\"black\",\"width\":0.5},\"opacity\":0.2,\"x\":[1,2,3,4,5,6,7,8,9],\"y\":[9.459894180297852,0.43842917680740356,6.036485195159912,15.575822830200195,2.2670412063598633,3.9605679512023926,-0.8807237148284912,11.884479522705078,6.3610148429870605],\"type\":\"scatter\"},{\"line\":{\"color\":\"black\",\"width\":0.5},\"opacity\":0.2,\"x\":[1,2,3,4,5,6,7,8,9],\"y\":[-18.284664154052734,-4.558026313781738,-5.763989448547363,-52.09868240356445,-4.882854461669922,-22.709117889404297,-10.479262351989746,-36.15288543701172,-9.303119659423828],\"type\":\"scatter\"},{\"line\":{\"color\":\"black\",\"width\":0.5},\"opacity\":0.2,\"x\":[1,2,3,4,5,6,7,8,9],\"y\":[8.012435913085938,-4.310393810272217,3.9122273921966553,7.09952449798584,3.8032140731811523,4.101010322570801,-3.181882619857788,10.010334968566895,-8.953230857849121],\"type\":\"scatter\"},{\"line\":{\"color\":\"black\",\"width\":0.5},\"opacity\":0.2,\"x\":[1,2,3,4,5,6,7,8,9],\"y\":[-3.814788818359375,-0.4808197021484375,-3.149383783340454,-11.767523765563965,-2.8576607704162598,-5.56035041809082,-2.3243792057037354,-5.542463302612305,-3.99129056930542],\"type\":\"scatter\"},{\"line\":{\"color\":\"black\",\"width\":0.5},\"opacity\":0.2,\"x\":[1,2,3,4,5,6,7,8,9],\"y\":[-5.284091949462891,-5.791849136352539,-1.3444151878356934,-24.047183990478516,0.5786417126655579,-6.434405326843262,-9.059280395507812,-9.802021980285645,-12.335100173950195],\"type\":\"scatter\"},{\"line\":{\"color\":\"black\",\"width\":0.5},\"opacity\":0.2,\"x\":[1,2,3,4,5,6,7,8,9],\"y\":[-15.954052925109863,-27.859298706054688,-4.418131351470947,-86.50120544433594,-5.141389846801758,-33.361671447753906,-33.76185607910156,-42.27153015136719,-60.846435546875],\"type\":\"scatter\"},{\"line\":{\"color\":\"black\",\"width\":0.5},\"opacity\":0.2,\"x\":[1,2,3,4,5,6,7,8,9],\"y\":[-27.544992446899414,-4.283311367034912,-8.004576683044434,-107.41546630859375,-0.878162145614624,-37.49185562133789,-10.287735939025879,-72.52145385742188,18.311452865600586],\"type\":\"scatter\"},{\"line\":{\"color\":\"black\",\"width\":0.5},\"opacity\":0.2,\"x\":[1,2,3,4,5,6,7,8,9],\"y\":[-6.011589050292969,-1.9510952234268188,-3.0485353469848633,-16.97049331665039,-0.9570345878601074,-6.317037582397461,-2.8629422187805176,-13.498945236206055,-7.205724716186523],\"type\":\"scatter\"},{\"line\":{\"color\":\"black\",\"width\":0.5},\"opacity\":0.2,\"x\":[1,2,3,4,5,6,7,8,9],\"y\":[0.5843384265899658,-3.4439380168914795,2.125577449798584,-21.168781280517578,-0.35432812571525574,-7.85189151763916,-6.801612854003906,-20.723743438720703,-11.076227188110352],\"type\":\"scatter\"},{\"line\":{\"color\":\"black\",\"width\":0.5},\"opacity\":0.2,\"x\":[1,2,3,4,5,6,7,8,9],\"y\":[-23.460092544555664,-11.78535270690918,-9.14638900756836,-43.84303283691406,-6.29677152633667,-12.30125904083252,-14.130510330200195,-19.176015853881836,-27.541521072387695],\"type\":\"scatter\"},{\"line\":{\"color\":\"black\",\"width\":0.5},\"opacity\":0.2,\"x\":[1,2,3,4,5,6,7,8,9],\"y\":[-15.051224708557129,28.153884887695312,-11.49179744720459,39.92068862915039,-4.291690826416016,16.96725082397461,34.64943313598633,-4.635207176208496,51.75804901123047],\"type\":\"scatter\"},{\"line\":{\"color\":\"black\",\"width\":0.5},\"opacity\":0.2,\"x\":[1,2,3,4,5,6,7,8,9],\"y\":[1.4755369424819946,-0.08001011610031128,-1.4494948387145996,0.955500602722168,-0.305905818939209,3.0512900352478027,-0.13502860069274902,-0.29006338119506836,-3.581599473953247],\"type\":\"scatter\"},{\"line\":{\"color\":\"black\",\"width\":0.5},\"opacity\":0.2,\"x\":[1,2,3,4,5,6,7,8,9],\"y\":[-8.925613403320312,-16.0111083984375,-2.855350971221924,-57.60771179199219,-8.149787902832031,-29.73033905029297,-18.921829223632812,-37.77473831176758,-34.22995376586914],\"type\":\"scatter\"},{\"line\":{\"color\":\"black\",\"width\":0.5},\"opacity\":0.2,\"x\":[1,2,3,4,5,6,7,8,9],\"y\":[-10.243127822875977,26.340742111206055,-7.728491306304932,18.825782775878906,-0.5276236534118652,7.350635051727295,32.961219787597656,-11.280211448669434,69.75080871582031],\"type\":\"scatter\"},{\"line\":{\"color\":\"black\",\"width\":0.5},\"opacity\":0.2,\"x\":[1,2,3,4,5,6,7,8,9],\"y\":[15.314713478088379,8.478204727172852,11.160987854003906,37.170387268066406,4.810506820678711,10.274742126464844,8.780341148376465,25.522289276123047,18.185068130493164],\"type\":\"scatter\"},{\"line\":{\"color\":\"black\",\"width\":0.5},\"opacity\":0.2,\"x\":[1,2,3,4,5,6,7,8,9],\"y\":[11.498661041259766,12.400472640991211,4.0622239112854,46.92095184326172,2.7721211910247803,16.618934631347656,16.83523941040039,24.34003448486328,26.854209899902344],\"type\":\"scatter\"},{\"line\":{\"color\":\"black\",\"width\":0.5},\"opacity\":0.2,\"x\":[1,2,3,4,5,6,7,8,9],\"y\":[-2.1095845699310303,-0.46884477138519287,0.7781781554222107,-1.748703956604004,-2.784759759902954,-0.8014488220214844,0.11142420768737793,0.9890894889831543,-2.2498741149902344],\"type\":\"scatter\"},{\"line\":{\"color\":\"black\",\"width\":0.5},\"opacity\":0.2,\"x\":[1,2,3,4,5,6,7,8,9],\"y\":[3.620497941970825,-13.995357513427734,-1.344063639640808,-9.482269287109375,-3.3089332580566406,-7.163657188415527,-7.550773620605469,-0.5793514251708984,-29.481473922729492],\"type\":\"scatter\"},{\"line\":{\"color\":\"black\",\"width\":0.5},\"opacity\":0.2,\"x\":[1,2,3,4,5,6,7,8,9],\"y\":[-23.328205108642578,-2.536670207977295,-10.685035705566406,-44.26674270629883,-7.849002838134766,-16.175758361816406,-8.599807739257812,-32.824798583984375,-22.315410614013672],\"type\":\"scatter\"},{\"line\":{\"color\":\"black\",\"width\":0.5},\"opacity\":0.2,\"x\":[1,2,3,4,5,6,7,8,9],\"y\":[27.0665283203125,-4.771991729736328,17.42656135559082,75.31433868408203,13.707083702087402,38.85321044921875,-13.434562683105469,74.86970520019531,-36.804725646972656],\"type\":\"scatter\"},{\"line\":{\"color\":\"black\",\"width\":0.5},\"opacity\":0.2,\"x\":[1,2,3,4,5,6,7,8,9],\"y\":[-1.4136303663253784,16.646747589111328,-1.4202136993408203,14.58788013458252,-2.1061768531799316,0.6094087362289429,20.944669723510742,-9.04383373260498,37.64324951171875],\"type\":\"scatter\"},{\"line\":{\"color\":\"black\",\"width\":0.5},\"opacity\":0.2,\"x\":[1,2,3,4,5,6,7,8,9],\"y\":[-4.566048622131348,1.9679181575775146,-2.7734947204589844,-1.7308626174926758,-1.6911782026290894,-1.669292688369751,0.9144885540008545,-3.6661720275878906,-1.3290083408355713],\"type\":\"scatter\"},{\"line\":{\"color\":\"black\",\"width\":0.5},\"opacity\":0.2,\"x\":[1,2,3,4,5,6,7,8,9],\"y\":[33.458984375,-0.9774032831192017,16.701332092285156,66.51536560058594,9.626791000366211,25.37161636352539,2.877963066101074,59.233604431152344,-7.323117256164551],\"type\":\"scatter\"},{\"line\":{\"color\":\"black\",\"width\":0.5},\"opacity\":0.2,\"x\":[1,2,3,4,5,6,7,8,9],\"y\":[1.3483750820159912,-5.6799516677856445,-0.1571582853794098,-0.3814835548400879,-1.692265510559082,-0.06341123580932617,-6.818173408508301,4.941023826599121,-14.289230346679688],\"type\":\"scatter\"},{\"line\":{\"color\":\"black\",\"width\":0.5},\"opacity\":0.2,\"x\":[1,2,3,4,5,6,7,8,9],\"y\":[5.899838447570801,-11.289591789245605,5.847434997558594,-17.602432250976562,0.4430176019668579,-8.568870544433594,-10.354476928710938,-3.6699533462524414,-23.826189041137695],\"type\":\"scatter\"},{\"line\":{\"color\":\"black\",\"width\":0.5},\"opacity\":0.2,\"x\":[1,2,3,4,5,6,7,8,9],\"y\":[8.747048377990723,-9.933330535888672,4.90509557723999,-2.1737866401672363,1.7305502891540527,-0.3099313974380493,-13.200874328613281,6.547680854797363,-29.315555572509766],\"type\":\"scatter\"},{\"line\":{\"color\":\"black\",\"width\":0.5},\"opacity\":0.2,\"x\":[1,2,3,4,5,6,7,8,9],\"y\":[-40.124542236328125,-18.663822174072266,-17.47735595703125,-120.403564453125,-9.787890434265137,-43.40270233154297,-22.244972229003906,-74.87208557128906,-16.377962112426758],\"type\":\"scatter\"},{\"line\":{\"color\":\"black\",\"width\":0.5},\"opacity\":0.2,\"x\":[1,2,3,4,5,6,7,8,9],\"y\":[6.365832328796387,6.721157073974609,1.114503026008606,26.760080337524414,0.802230179309845,9.607194900512695,9.699190139770508,16.201128005981445,8.291891098022461],\"type\":\"scatter\"},{\"line\":{\"color\":\"black\",\"width\":0.5},\"opacity\":0.2,\"x\":[1,2,3,4,5,6,7,8,9],\"y\":[0.7969120144844055,2.4458045959472656,-0.6018691658973694,10.240316390991211,0.7671411037445068,5.074760913848877,3.0593128204345703,6.208045959472656,8.333105087280273],\"type\":\"scatter\"},{\"line\":{\"color\":\"black\",\"width\":0.5},\"opacity\":0.2,\"x\":[1,2,3,4,5,6,7,8,9],\"y\":[1.6152678728103638,-0.312055766582489,0.7428668141365051,2.0908496379852295,1.0828896760940552,1.2407021522521973,-0.8857545256614685,2.886030673980713,-2.920212745666504],\"type\":\"scatter\"},{\"line\":{\"color\":\"black\",\"width\":0.5},\"opacity\":0.2,\"x\":[1,2,3,4,5,6,7,8,9],\"y\":[-19.574480056762695,7.100535869598389,-8.071036338806152,-33.28169631958008,-2.5478110313415527,-9.3624267578125,1.3101615905761719,-31.973552703857422,19.42249298095703],\"type\":\"scatter\"},{\"line\":{\"color\":\"black\",\"width\":0.5},\"opacity\":0.2,\"x\":[1,2,3,4,5,6,7,8,9],\"y\":[7.576764106750488,-13.076091766357422,0.5819422006607056,-7.797796249389648,-3.7751686573028564,-9.08330249786377,-8.747138977050781,9.866266250610352,-41.12678527832031],\"type\":\"scatter\"},{\"line\":{\"color\":\"black\",\"width\":0.5},\"opacity\":0.2,\"x\":[1,2,3,4,5,6,7,8,9],\"y\":[21.86981201171875,11.012303352355957,8.9116792678833,66.31930541992188,6.77869987487793,21.410676956176758,11.95193099975586,35.144691467285156,13.098237991333008],\"type\":\"scatter\"},{\"line\":{\"color\":\"black\",\"width\":0.5},\"opacity\":0.2,\"x\":[1,2,3,4,5,6,7,8,9],\"y\":[10.110701560974121,7.438943862915039,6.92341947555542,58.93555450439453,4.445500373840332,25.402240753173828,6.870701313018799,40.605045318603516,10.275150299072266],\"type\":\"scatter\"},{\"line\":{\"color\":\"black\",\"width\":0.5},\"opacity\":0.2,\"x\":[1,2,3,4,5,6,7,8,9],\"y\":[0.10099488496780396,-0.06912702322006226,0.006802812218666077,-1.1885584592819214,-0.6099873185157776,-1.0613019466400146,0.6587833166122437,-0.39031630754470825,2.6138834953308105],\"type\":\"scatter\"},{\"line\":{\"color\":\"black\",\"width\":0.5},\"opacity\":0.2,\"x\":[1,2,3,4,5,6,7,8,9],\"y\":[-10.180222511291504,-10.651199340820312,-4.370565891265869,-61.32044982910156,-0.15199130773544312,-20.49698257446289,-5.824885845184326,-47.26983642578125,6.598793029785156],\"type\":\"scatter\"},{\"line\":{\"color\":\"black\",\"width\":0.5},\"opacity\":0.2,\"x\":[1,2,3,4,5,6,7,8,9],\"y\":[-11.527570724487305,-4.697160720825195,-6.06879997253418,-35.84109878540039,-1.1771211624145508,-10.17121696472168,-10.584664344787598,-17.511127471923828,-8.966724395751953],\"type\":\"scatter\"},{\"line\":{\"color\":\"black\",\"width\":0.5},\"opacity\":0.2,\"x\":[1,2,3,4,5,6,7,8,9],\"y\":[0.7273093461990356,-0.017039060592651367,-0.1910170316696167,-2.7383875846862793,-0.03247547149658203,-2.5305798053741455,3.5582308769226074,-3.476004123687744,0.3040691614151001],\"type\":\"scatter\"},{\"line\":{\"color\":\"black\",\"width\":0.5},\"opacity\":0.2,\"x\":[1,2,3,4,5,6,7,8,9],\"y\":[-21.74869155883789,-6.955342769622803,-9.458465576171875,-31.016250610351562,-7.187582015991211,-8.4905366897583,-15.001830101013184,-9.113191604614258,-35.65798568725586],\"type\":\"scatter\"},{\"line\":{\"color\":\"black\",\"width\":0.5},\"opacity\":0.2,\"x\":[1,2,3,4,5,6,7,8,9],\"y\":[4.323582649230957,8.929362297058105,3.181166410446167,28.14643096923828,1.6125849485397339,9.288259506225586,3.9651949405670166,19.10234832763672,-1.5973999500274658],\"type\":\"scatter\"},{\"line\":{\"color\":\"black\",\"width\":0.5},\"opacity\":0.2,\"x\":[1,2,3,4,5,6,7,8,9],\"y\":[-19.131303787231445,6.286951065063477,-6.683112621307373,-41.7518196105957,-7.63075590133667,-24.34984588623047,4.672920227050781,-49.707576751708984,-10.275630950927734],\"type\":\"scatter\"},{\"line\":{\"color\":\"black\",\"width\":0.5},\"opacity\":0.2,\"x\":[1,2,3,4,5,6,7,8,9],\"y\":[8.219481468200684,21.135536193847656,-2.5276200771331787,84.94588470458984,7.642576217651367,42.87864685058594,22.97149658203125,50.128623962402344,5.414795875549316],\"type\":\"scatter\"},{\"line\":{\"color\":\"black\",\"width\":0.5},\"opacity\":0.2,\"x\":[1,2,3,4,5,6,7,8,9],\"y\":[-2.213224411010742,0.9629242420196533,-1.0048474073410034,-3.1875429153442383,-0.5608468055725098,-1.915482997894287,0.2598832845687866,-4.2137956619262695,2.003260612487793],\"type\":\"scatter\"},{\"line\":{\"color\":\"black\",\"width\":0.5},\"opacity\":0.2,\"x\":[1,2,3,4,5,6,7,8,9],\"y\":[-6.72994327545166,5.867620944976807,-1.7524701356887817,3.175877809524536,-1.4480973482131958,1.0443990230560303,6.575678825378418,-1.706266164779663,17.7371826171875],\"type\":\"scatter\"},{\"line\":{\"color\":\"black\",\"width\":0.5},\"opacity\":0.2,\"x\":[1,2,3,4,5,6,7,8,9],\"y\":[-34.03553771972656,-6.858290672302246,-10.357732772827148,-116.47389221191406,-12.407094955444336,-52.348819732666016,-7.284873962402344,-91.6811752319336,2.9383492469787598],\"type\":\"scatter\"},{\"line\":{\"color\":\"black\",\"width\":0.5},\"opacity\":0.2,\"x\":[1,2,3,4,5,6,7,8,9],\"y\":[-2.129181146621704,1.30903959274292,-1.1443679332733154,3.5116357803344727,1.3861253261566162,5.119624137878418,1.283119559288025,0.9993500709533691,10.775235176086426],\"type\":\"scatter\"},{\"line\":{\"color\":\"black\",\"width\":0.5},\"opacity\":0.2,\"x\":[1,2,3,4,5,6,7,8,9],\"y\":[4.184144020080566,12.954326629638672,-0.10877105593681335,50.049739837646484,6.2106218338012695,26.708595275878906,9.7680082321167,35.239559173583984,28.262535095214844],\"type\":\"scatter\"},{\"line\":{\"color\":\"black\",\"width\":0.5},\"opacity\":0.2,\"x\":[1,2,3,4,5,6,7,8,9],\"y\":[5.370208740234375,-3.9091405868530273,-1.5817797183990479,26.182409286499023,-2.2789788246154785,4.110013961791992,1.4575166702270508,31.747238159179688,-9.265111923217773],\"type\":\"scatter\"},{\"line\":{\"color\":\"black\",\"width\":0.5},\"opacity\":0.2,\"x\":[1,2,3,4,5,6,7,8,9],\"y\":[4.329220771789551,-4.170365810394287,-0.269977331161499,5.327336311340332,3.9678187370300293,5.6060380935668945,-6.470783233642578,13.21170425415039,-10.800354957580566],\"type\":\"scatter\"},{\"line\":{\"color\":\"black\",\"width\":0.5},\"opacity\":0.2,\"x\":[1,2,3,4,5,6,7,8,9],\"y\":[3.679677963256836,0.5543878078460693,-2.106400966644287,4.980925559997559,0.6734448671340942,5.590372085571289,3.9743785858154297,4.031212329864502,7.861975193023682],\"type\":\"scatter\"},{\"line\":{\"color\":\"black\",\"width\":0.5},\"opacity\":0.2,\"x\":[1,2,3,4,5,6,7,8,9],\"y\":[-4.796421051025391,1.1498284339904785,-8.613916397094727,-10.612069129943848,-0.5664811730384827,-4.191226959228516,2.440467596054077,-6.168973922729492,-5.275852203369141],\"type\":\"scatter\"},{\"line\":{\"color\":\"black\",\"width\":0.5},\"opacity\":0.2,\"x\":[1,2,3,4,5,6,7,8,9],\"y\":[1.1747665405273438,-0.6097397804260254,-1.3725966215133667,11.738581657409668,1.7657328844070435,8.135282516479492,-1.458450436592102,9.33155345916748,-8.264668464660645],\"type\":\"scatter\"},{\"line\":{\"color\":\"black\",\"width\":0.5},\"opacity\":0.2,\"x\":[1,2,3,4,5,6,7,8,9],\"y\":[16.58196449279785,12.337223052978516,7.781444549560547,45.739234924316406,4.316889762878418,14.313902854919434,18.60323143005371,23.67489242553711,31.59381675720215],\"type\":\"scatter\"},{\"line\":{\"color\":\"black\",\"width\":0.5},\"opacity\":0.2,\"x\":[1,2,3,4,5,6,7,8,9],\"y\":[-0.924825131893158,0.24947868287563324,0.03128236532211304,-2.4955573081970215,-0.4829576313495636,-0.8095322251319885,0.4127439260482788,-1.974111557006836,0.6990864872932434],\"type\":\"scatter\"},{\"line\":{\"color\":\"black\",\"width\":0.5},\"opacity\":0.2,\"x\":[1,2,3,4,5,6,7,8,9],\"y\":[-6.117684364318848,-1.8850892782211304,-1.9488749504089355,-19.461048126220703,-1.2583421468734741,-7.656747817993164,-3.1921777725219727,-15.431756019592285,0.5182148814201355],\"type\":\"scatter\"},{\"line\":{\"color\":\"black\",\"width\":0.5},\"opacity\":0.2,\"x\":[1,2,3,4,5,6,7,8,9],\"y\":[-13.25239372253418,-3.0848050117492676,-2.3313424587249756,-24.1387882232666,-3.0964629650115967,-9.058635711669922,-6.276413917541504,-19.243606567382812,-13.461339950561523],\"type\":\"scatter\"},{\"line\":{\"color\":\"black\",\"width\":0.5},\"opacity\":0.2,\"x\":[1,2,3,4,5,6,7,8,9],\"y\":[0.8928691148757935,2.198953866958618,-0.38627105951309204,5.890735626220703,-0.23118606209754944,1.7327637672424316,3.755512237548828,0.02176046371459961,5.786535263061523],\"type\":\"scatter\"},{\"line\":{\"color\":\"black\",\"width\":0.5},\"opacity\":0.2,\"x\":[1,2,3,4,5,6,7,8,9],\"y\":[-5.85178804397583,-9.893752098083496,-7.873871803283691,-17.76952362060547,0.10254740715026855,-2.448615550994873,-11.710419654846191,-5.717006683349609,-37.8616828918457],\"type\":\"scatter\"},{\"line\":{\"color\":\"black\",\"width\":0.5},\"opacity\":0.2,\"x\":[1,2,3,4,5,6,7,8,9],\"y\":[12.035482406616211,-3.422482490539551,7.677126884460449,34.246585845947266,5.124467849731445,14.306465148925781,-5.948725700378418,27.214691162109375,-17.31531524658203],\"type\":\"scatter\"},{\"line\":{\"color\":\"black\",\"width\":0.5},\"opacity\":0.2,\"x\":[1,2,3,4,5,6,7,8,9],\"y\":[0.5567275285720825,-6.966918468475342,0.6113101840019226,-3.7545688152313232,0.24858218431472778,-0.11522424221038818,-7.988553047180176,6.136054039001465,-20.024038314819336],\"type\":\"scatter\"},{\"line\":{\"color\":\"black\",\"width\":0.5},\"opacity\":0.2,\"x\":[1,2,3,4,5,6,7,8,9],\"y\":[0.49324098229408264,-1.1927952766418457,0.16506968438625336,0.46747007966041565,0.2994040846824646,0.32409220933914185,-1.4831393957138062,1.8565610647201538,-2.8182764053344727],\"type\":\"scatter\"},{\"line\":{\"color\":\"black\",\"width\":0.5},\"opacity\":0.2,\"x\":[1,2,3,4,5,6,7,8,9],\"y\":[11.157201766967773,-7.2593231201171875,3.7841830253601074,20.114023208618164,1.396902322769165,8.968977928161621,-0.8091413974761963,25.187524795532227,-22.882766723632812],\"type\":\"scatter\"},{\"line\":{\"color\":\"black\",\"width\":0.5},\"opacity\":0.2,\"x\":[1,2,3,4,5,6,7,8,9],\"y\":[7.759248733520508,3.349666118621826,4.342062473297119,16.87651824951172,-1.6338322162628174,3.184866428375244,6.721560955047607,14.599491119384766,14.907360076904297],\"type\":\"scatter\"},{\"line\":{\"color\":\"black\",\"width\":0.5},\"opacity\":0.2,\"x\":[1,2,3,4,5,6,7,8,9],\"y\":[-2.6251800060272217,9.407459259033203,0.8518475890159607,-4.796123504638672,2.8303892612457275,-1.3860681056976318,2.787316083908081,-11.596895217895508,15.34186840057373],\"type\":\"scatter\"},{\"line\":{\"color\":\"black\",\"width\":0.5},\"opacity\":0.2,\"x\":[1,2,3,4,5,6,7,8,9],\"y\":[15.79878044128418,9.935914993286133,5.5084943771362305,42.49180603027344,4.439170837402344,10.944008827209473,9.44382381439209,21.24518394470215,14.21760368347168],\"type\":\"scatter\"},{\"line\":{\"color\":\"black\",\"width\":0.5},\"opacity\":0.2,\"x\":[1,2,3,4,5,6,7,8,9],\"y\":[12.689395904541016,-15.814764976501465,9.594300270080566,-25.39495086669922,4.384277820587158,-13.787464141845703,-16.796207427978516,6.163864612579346,-8.257109642028809],\"type\":\"scatter\"},{\"line\":{\"color\":\"black\",\"width\":0.5},\"opacity\":0.2,\"x\":[1,2,3,4,5,6,7,8,9],\"y\":[-15.752520561218262,1.8145252466201782,-7.080199718475342,-8.933897018432617,-2.63921856880188,2.819392681121826,6.207359790802002,-14.73526668548584,10.699865341186523],\"type\":\"scatter\"},{\"line\":{\"color\":\"black\",\"width\":0.5},\"opacity\":0.2,\"x\":[1,2,3,4,5,6,7,8,9],\"y\":[-11.386514663696289,-2.792729377746582,-4.1379008293151855,-31.820032119750977,-1.3349424600601196,-10.269882202148438,-2.120654582977295,-23.348278045654297,7.986793518066406],\"type\":\"scatter\"},{\"line\":{\"color\":\"black\",\"width\":0.5},\"opacity\":0.2,\"x\":[1,2,3,4,5,6,7,8,9],\"y\":[-18.10344123840332,-2.711040735244751,-7.102829456329346,-48.700653076171875,-6.09953498840332,-20.24229621887207,-6.245875358581543,-39.66654968261719,-5.586009979248047],\"type\":\"scatter\"},{\"line\":{\"color\":\"black\",\"width\":0.5},\"opacity\":0.2,\"x\":[1,2,3,4,5,6,7,8,9],\"y\":[-8.884318351745605,-5.629731178283691,-4.533980846405029,-30.582332611083984,-3.275282859802246,-12.508000373840332,-10.949033737182617,-19.34821128845215,-15.139974594116211],\"type\":\"scatter\"},{\"line\":{\"color\":\"black\",\"width\":0.5},\"opacity\":0.2,\"x\":[1,2,3,4,5,6,7,8,9],\"y\":[6.4657111167907715,-20.00899314880371,2.785839557647705,-16.072580337524414,-0.809777021408081,-6.489535331726074,-16.601797103881836,5.339084148406982,-58.93728256225586],\"type\":\"scatter\"},{\"line\":{\"color\":\"black\",\"width\":0.5},\"opacity\":0.2,\"x\":[1,2,3,4,5,6,7,8,9],\"y\":[-5.275589942932129,-0.789440393447876,-3.8744699954986572,-5.117732048034668,-3.7099521160125732,-3.63759183883667,1.947631597518921,-2.7787303924560547,2.723053216934204],\"type\":\"scatter\"},{\"line\":{\"color\":\"black\",\"width\":0.5},\"opacity\":0.2,\"x\":[1,2,3,4,5,6,7,8,9],\"y\":[3.667442560195923,-3.203713893890381,0.5621912479400635,-1.378389596939087,0.5185015201568604,-0.5309745073318481,-6.5322794914245605,0.754819929599762,-10.34389591217041],\"type\":\"scatter\"},{\"line\":{\"color\":\"black\",\"width\":0.5},\"opacity\":0.2,\"x\":[1,2,3,4,5,6,7,8,9],\"y\":[10.20714282989502,-1.6116955280303955,4.269478797912598,7.2772216796875,0.22703605890274048,-0.39349365234375,-2.7990548610687256,8.287687301635742,-10.643754959106445],\"type\":\"scatter\"},{\"line\":{\"color\":\"black\",\"width\":0.5},\"opacity\":0.2,\"x\":[1,2,3,4,5,6,7,8,9],\"y\":[-3.2568154335021973,-3.4551198482513428,-0.8429064750671387,-0.11043620109558105,1.0706532001495361,4.974066734313965,-4.360343933105469,7.14488410949707,-4.607046604156494],\"type\":\"scatter\"},{\"line\":{\"color\":\"black\",\"width\":0.5},\"opacity\":0.2,\"x\":[1,2,3,4,5,6,7,8,9],\"y\":[5.445528984069824,6.291940689086914,2.4087300300598145,19.181081771850586,1.07735013961792,5.337348937988281,9.10223388671875,8.669561386108398,15.308256149291992],\"type\":\"scatter\"},{\"line\":{\"color\":\"black\",\"width\":0.5},\"opacity\":0.2,\"x\":[1,2,3,4,5,6,7,8,9],\"y\":[0.09780669212341309,-7.0364298820495605,4.430063724517822,-20.101070404052734,-3.443779945373535,-8.82185173034668,-9.234846115112305,-7.514852523803711,-6.41595983505249],\"type\":\"scatter\"},{\"line\":{\"color\":\"black\",\"width\":0.5},\"opacity\":0.2,\"x\":[1,2,3,4,5,6,7,8,9],\"y\":[18.711109161376953,7.340827941894531,8.351293563842773,45.060890197753906,3.7957534790039062,10.636340141296387,12.973734855651855,27.772422790527344,7.5616559982299805],\"type\":\"scatter\"},{\"line\":{\"color\":\"black\",\"width\":0.5},\"opacity\":0.2,\"x\":[1,2,3,4,5,6,7,8,9],\"y\":[0.9336066246032715,4.343876361846924,-0.14250892400741577,10.985007286071777,2.2099175453186035,6.201886177062988,6.036271095275879,8.381545066833496,8.611614227294922],\"type\":\"scatter\"},{\"line\":{\"color\":\"black\",\"width\":0.5},\"opacity\":0.2,\"x\":[1,2,3,4,5,6,7,8,9],\"y\":[-3.0129494667053223,-2.556049108505249,-0.179679274559021,-6.6990814208984375,-1.0140782594680786,-1.2680654525756836,-2.5802266597747803,-3.5652642250061035,-10.395889282226562],\"type\":\"scatter\"},{\"line\":{\"color\":\"black\",\"width\":0.5},\"opacity\":0.2,\"x\":[1,2,3,4,5,6,7,8,9],\"y\":[6.455816268920898,-17.891571044921875,6.989594459533691,-26.64508056640625,2.3955836296081543,-5.707505226135254,-21.792387008666992,-0.5749902725219727,-31.00305938720703],\"type\":\"scatter\"},{\"line\":{\"color\":\"black\",\"width\":0.5},\"opacity\":0.2,\"x\":[1,2,3,4,5,6,7,8,9],\"y\":[12.055923461914062,-9.326590538024902,1.9895228147506714,28.032936096191406,4.260043144226074,11.627680778503418,-6.2528510093688965,32.546607971191406,-29.550918579101562],\"type\":\"scatter\"},{\"line\":{\"color\":\"black\",\"width\":0.5},\"opacity\":0.2,\"x\":[1,2,3,4,5,6,7,8,9],\"y\":[-13.054473876953125,-7.54496955871582,-9.974353790283203,-18.932147979736328,-4.558151721954346,-5.592700958251953,-12.813023567199707,-10.379834175109863,-31.67793083190918],\"type\":\"scatter\"},{\"line\":{\"color\":\"black\",\"width\":0.5},\"opacity\":0.2,\"x\":[1,2,3,4,5,6,7,8,9],\"y\":[-20.682666778564453,22.53224754333496,-9.379700660705566,-15.25193977355957,-5.843317031860352,-3.1498589515686035,34.821205139160156,-36.182376861572266,88.4482192993164],\"type\":\"scatter\"},{\"line\":{\"color\":\"black\",\"width\":0.5},\"opacity\":0.2,\"x\":[1,2,3,4,5,6,7,8,9],\"y\":[-6.547755241394043,27.44441032409668,-3.5135111808776855,28.43722915649414,-1.047730803489685,8.913281440734863,32.544342041015625,-6.882603645324707,76.76844024658203],\"type\":\"scatter\"},{\"line\":{\"color\":\"black\",\"width\":0.5},\"opacity\":0.2,\"x\":[1,2,3,4,5,6,7,8,9],\"y\":[4.257206916809082,0.5346403121948242,1.8621174097061157,6.758331298828125,2.0109341144561768,4.735828399658203,1.1632475852966309,5.1831865310668945,3.473494529724121],\"type\":\"scatter\"},{\"line\":{\"color\":\"black\",\"width\":0.5},\"opacity\":0.2,\"x\":[1,2,3,4,5,6,7,8,9],\"y\":[0.5015174150466919,1.974094271659851,-0.5121133327484131,6.383607864379883,-0.12514354288578033,1.4723988771438599,0.8488863706588745,4.7291717529296875,7.632431507110596],\"type\":\"scatter\"},{\"line\":{\"color\":\"black\",\"width\":0.5},\"opacity\":0.2,\"x\":[1,2,3,4,5,6,7,8,9],\"y\":[3.4624955654144287,10.978222846984863,-6.604817867279053,40.04291915893555,0.30256199836730957,17.314193725585938,16.510652542114258,17.607728958129883,14.058714866638184],\"type\":\"scatter\"},{\"line\":{\"color\":\"black\",\"width\":0.5},\"opacity\":0.2,\"x\":[1,2,3,4,5,6,7,8,9],\"y\":[-4.768440246582031,0.09435689449310303,-1.9524950981140137,-9.243346214294434,-0.6250888109207153,-3.155076265335083,-0.5658051371574402,-8.931257247924805,2.486959457397461],\"type\":\"scatter\"},{\"line\":{\"color\":\"black\",\"width\":0.5},\"opacity\":0.2,\"x\":[1,2,3,4,5,6,7,8,9],\"y\":[-3.54557466506958,-3.1722159385681152,-0.9146525263786316,-16.180395126342773,-2.3638672828674316,-7.43769645690918,-1.482708215713501,-7.4825119972229,-1.357168436050415],\"type\":\"scatter\"},{\"line\":{\"color\":\"black\",\"width\":0.5},\"opacity\":0.2,\"x\":[1,2,3,4,5,6,7,8,9],\"y\":[-19.08472442626953,0.2722920775413513,-3.953667402267456,-56.56755065917969,-2.585117816925049,-21.051603317260742,-11.308539390563965,-44.871070861816406,4.563830852508545],\"type\":\"scatter\"},{\"line\":{\"color\":\"black\",\"width\":0.5},\"opacity\":0.2,\"x\":[1,2,3,4,5,6,7,8,9],\"y\":[14.239219665527344,8.528078079223633,9.253060340881348,42.288516998291016,1.7370190620422363,10.265871047973633,9.96926498413086,24.48703384399414,12.32638931274414],\"type\":\"scatter\"},{\"line\":{\"color\":\"black\",\"width\":0.5},\"opacity\":0.2,\"x\":[1,2,3,4,5,6,7,8,9],\"y\":[-15.721198081970215,-0.5859120488166809,-4.822724342346191,-32.12253952026367,-3.554094076156616,-11.162712097167969,-6.1502838134765625,-24.774269104003906,-6.228328704833984],\"type\":\"scatter\"},{\"line\":{\"color\":\"black\",\"width\":0.5},\"opacity\":0.2,\"x\":[1,2,3,4,5,6,7,8,9],\"y\":[2.8578062057495117,-0.8068310022354126,1.2491987943649292,5.2629194259643555,0.3367686867713928,2.425910472869873,-0.4157838523387909,3.472343921661377,-0.8319908380508423],\"type\":\"scatter\"},{\"line\":{\"color\":\"black\",\"width\":0.5},\"opacity\":0.2,\"x\":[1,2,3,4,5,6,7,8,9],\"y\":[-35.877479553222656,-31.181673049926758,-19.890174865722656,-130.6830596923828,-5.685498237609863,-43.166603088378906,-40.53395462036133,-60.648826599121094,-49.20286560058594],\"type\":\"scatter\"},{\"line\":{\"color\":\"black\",\"width\":0.5},\"opacity\":0.2,\"x\":[1,2,3,4,5,6,7,8,9],\"y\":[-24.118684768676758,-1.0093547105789185,-14.701171875,-51.635643005371094,-10.373852729797363,-22.688392639160156,8.093746185302734,-40.18526077270508,9.28204345703125],\"type\":\"scatter\"},{\"line\":{\"color\":\"black\",\"width\":0.5},\"opacity\":0.2,\"x\":[1,2,3,4,5,6,7,8,9],\"y\":[21.27471160888672,-26.405241012573242,6.984518051147461,22.21354103088379,11.391637802124023,20.2501220703125,-32.59549331665039,53.537662506103516,-72.09219360351562],\"type\":\"scatter\"},{\"line\":{\"color\":\"black\",\"width\":0.5},\"opacity\":0.2,\"x\":[1,2,3,4,5,6,7,8,9],\"y\":[-20.036659240722656,-11.49736213684082,2.067152261734009,-68.40953063964844,-3.800058126449585,-21.933788299560547,-14.99720287322998,-48.710105895996094,-10.72216510772705],\"type\":\"scatter\"},{\"line\":{\"color\":\"black\",\"width\":0.5},\"opacity\":0.2,\"x\":[1,2,3,4,5,6,7,8,9],\"y\":[0.9609405994415283,-3.1128382682800293,1.038201093673706,-3.0822293758392334,-2.3112449645996094,-5.101183891296387,-3.7561535835266113,-0.7929935455322266,-3.3974428176879883],\"type\":\"scatter\"},{\"line\":{\"color\":\"black\",\"width\":0.5},\"opacity\":0.2,\"x\":[1,2,3,4,5,6,7,8,9],\"y\":[-6.589468002319336,4.023311614990234,-5.640518665313721,-5.906933307647705,-1.272661566734314,-1.9189808368682861,5.294288635253906,-2.6876158714294434,23.814298629760742],\"type\":\"scatter\"},{\"line\":{\"color\":\"black\",\"width\":0.5},\"opacity\":0.2,\"x\":[1,2,3,4,5,6,7,8,9],\"y\":[15.945038795471191,15.793334007263184,3.407587766647339,46.42139434814453,2.127686023712158,13.752650260925293,20.69906234741211,24.476539611816406,20.428794860839844],\"type\":\"scatter\"},{\"line\":{\"color\":\"black\",\"width\":0.5},\"opacity\":0.2,\"x\":[1,2,3,4,5,6,7,8,9],\"y\":[-10.019185066223145,-4.303071975708008,-5.977560997009277,-34.50889205932617,-3.59804630279541,-14.215627670288086,-10.658981323242188,-24.68072509765625,-1.817253589630127],\"type\":\"scatter\"},{\"line\":{\"color\":\"black\",\"width\":0.5},\"opacity\":0.2,\"x\":[1,2,3,4,5,6,7,8,9],\"y\":[6.7867326736450195,1.8371330499649048,4.935634136199951,14.724984169006348,3.926785707473755,11.296091079711914,10.807760238647461,12.234085083007812,25.141578674316406],\"type\":\"scatter\"},{\"line\":{\"color\":\"black\",\"width\":0.5},\"opacity\":0.2,\"x\":[1,2,3,4,5,6,7,8,9],\"y\":[-4.6307759284973145,-7.511372089385986,-2.069345235824585,-17.70936393737793,-3.097330093383789,-8.617072105407715,-2.539158821105957,-9.22265338897705,16.349817276000977],\"type\":\"scatter\"},{\"line\":{\"color\":\"black\",\"width\":0.5},\"opacity\":0.2,\"x\":[1,2,3,4,5,6,7,8,9],\"y\":[-3.8885879516601562,-3.6435344219207764,0.4972127079963684,-8.389948844909668,-1.8073979616165161,-5.492332935333252,-4.7658562660217285,-1.1924821138381958,-10.856120109558105],\"type\":\"scatter\"},{\"line\":{\"color\":\"black\",\"width\":0.5},\"opacity\":0.2,\"x\":[1,2,3,4,5,6,7,8,9],\"y\":[-31.304962158203125,15.095489501953125,-11.327048301696777,-52.43640899658203,-7.088011264801025,-24.63724136352539,11.071870803833008,-54.499568939208984,39.196964263916016],\"type\":\"scatter\"},{\"line\":{\"color\":\"black\",\"width\":0.5},\"opacity\":0.2,\"x\":[1,2,3,4,5,6,7,8,9],\"y\":[0.14651250839233398,-11.748281478881836,4.484594345092773,-35.11251449584961,-1.8866212368011475,-17.41201400756836,-16.780010223388672,-16.4422664642334,-16.099369049072266],\"type\":\"scatter\"},{\"line\":{\"color\":\"black\",\"width\":0.5},\"opacity\":0.2,\"x\":[1,2,3,4,5,6,7,8,9],\"y\":[-21.304670333862305,5.528155326843262,-10.35804557800293,-17.526824951171875,-13.471607208251953,-13.407364845275879,10.181032180786133,-34.63595199584961,-4.921238899230957],\"type\":\"scatter\"},{\"line\":{\"color\":\"black\",\"width\":0.5},\"opacity\":0.2,\"x\":[1,2,3,4,5,6,7,8,9],\"y\":[-2.1958398818969727,-3.1003081798553467,1.938393235206604,-9.690805435180664,1.1487023830413818,-1.5109167098999023,-4.786498069763184,-5.247748374938965,3.2087652683258057],\"type\":\"scatter\"},{\"line\":{\"color\":\"black\",\"width\":0.5},\"opacity\":0.2,\"x\":[1,2,3,4,5,6,7,8,9],\"y\":[-16.956972122192383,-6.892328262329102,-12.007372856140137,-56.50190734863281,-2.672734260559082,-21.78411293029785,-4.597764015197754,-32.02500915527344,-14.686118125915527],\"type\":\"scatter\"},{\"line\":{\"color\":\"black\",\"width\":0.5},\"opacity\":0.2,\"x\":[1,2,3,4,5,6,7,8,9],\"y\":[9.312636375427246,-15.46028995513916,9.351666450500488,-12.385686874389648,6.068768501281738,2.026201009750366,-16.22201919555664,5.528385639190674,-14.051676750183105],\"type\":\"scatter\"},{\"line\":{\"color\":\"black\",\"width\":0.5},\"opacity\":0.2,\"x\":[1,2,3,4,5,6,7,8,9],\"y\":[0.9893566966056824,-0.03807404637336731,0.49654898047447205,2.8040318489074707,-0.22898638248443604,0.5877590179443359,0.37382301688194275,1.9164241552352905,0.23648369312286377],\"type\":\"scatter\"},{\"line\":{\"color\":\"black\",\"width\":0.5},\"opacity\":0.2,\"x\":[1,2,3,4,5,6,7,8,9],\"y\":[25.62872886657715,-26.90998649597168,6.824536323547363,-9.343682289123535,9.03700065612793,-3.8592615127563477,-28.776180267333984,35.03810501098633,-64.24800872802734],\"type\":\"scatter\"},{\"line\":{\"color\":\"black\",\"width\":0.5},\"opacity\":0.2,\"x\":[1,2,3,4,5,6,7,8,9],\"y\":[-26.055830001831055,-1.1894034147262573,-10.173794746398926,-38.772281646728516,-7.672828197479248,-10.741947174072266,0.17134952545166016,-32.893821716308594,10.38986587524414],\"type\":\"scatter\"},{\"line\":{\"color\":\"black\",\"width\":0.5},\"opacity\":0.2,\"x\":[1,2,3,4,5,6,7,8,9],\"y\":[2.708747625350952,-5.604250907897949,0.7696893811225891,-2.9528746604919434,-0.2598560154438019,-1.523085355758667,-6.3962907791137695,4.2267866134643555,-14.716365814208984],\"type\":\"scatter\"},{\"line\":{\"color\":\"black\",\"width\":0.5},\"opacity\":0.2,\"x\":[1,2,3,4,5,6,7,8,9],\"y\":[-7.764273643493652,-8.597155570983887,-2.459906578063965,-35.39975357055664,-2.4690489768981934,-13.889506340026855,-11.008142471313477,-20.533336639404297,-19.34024429321289],\"type\":\"scatter\"},{\"line\":{\"color\":\"black\",\"width\":0.5},\"opacity\":0.2,\"x\":[1,2,3,4,5,6,7,8,9],\"y\":[13.862483024597168,1.2608388662338257,3.8889694213867188,29.84420394897461,-2.1743671894073486,4.744243144989014,11.180707931518555,16.07505226135254,-5.449550628662109],\"type\":\"scatter\"},{\"line\":{\"color\":\"black\",\"width\":0.5},\"opacity\":0.2,\"x\":[1,2,3,4,5,6,7,8,9],\"y\":[-6.823985576629639,6.462055683135986,2.795949935913086,-20.554346084594727,-3.544029712677002,-12.007965087890625,5.527915954589844,-23.08409881591797,25.89714813232422],\"type\":\"scatter\"},{\"line\":{\"color\":\"black\",\"width\":0.5},\"opacity\":0.2,\"x\":[1,2,3,4,5,6,7,8,9],\"y\":[0.6018543243408203,2.7118422985076904,1.3007851839065552,17.081985473632812,-1.0692702531814575,7.723790168762207,3.9910755157470703,20.680479049682617,1.919006109237671],\"type\":\"scatter\"},{\"line\":{\"color\":\"black\",\"width\":0.5},\"opacity\":0.2,\"x\":[1,2,3,4,5,6,7,8,9],\"y\":[4.379921913146973,16.973031997680664,-1.7801337242126465,37.82484817504883,1.389777660369873,11.915056228637695,14.2368803024292,12.258917808532715,18.378705978393555],\"type\":\"scatter\"},{\"line\":{\"color\":\"black\",\"width\":0.5},\"opacity\":0.2,\"x\":[1,2,3,4,5,6,7,8,9],\"y\":[-8.172149658203125,-22.312170028686523,-1.8885499238967896,-63.499290466308594,-5.837774276733398,-28.27564239501953,-16.394990921020508,-26.631072998046875,-35.167030334472656],\"type\":\"scatter\"},{\"line\":{\"color\":\"black\",\"width\":0.5},\"opacity\":0.2,\"x\":[1,2,3,4,5,6,7,8,9],\"y\":[1.2727234363555908,3.36942195892334,2.335508346557617,16.14044952392578,-0.41304001212120056,6.048184871673584,3.175668239593506,13.48081111907959,9.935060501098633],\"type\":\"scatter\"},{\"line\":{\"color\":\"black\",\"width\":0.5},\"opacity\":0.2,\"x\":[1,2,3,4,5,6,7,8,9],\"y\":[-23.636268615722656,6.887115001678467,-10.305462837219238,-41.071685791015625,-7.501756191253662,-17.918827056884766,7.281696319580078,-43.34575271606445,23.653539657592773],\"type\":\"scatter\"},{\"line\":{\"color\":\"black\",\"width\":0.5},\"opacity\":0.2,\"x\":[1,2,3,4,5,6,7,8,9],\"y\":[3.784666061401367,2.952824831008911,-0.27363237738609314,8.97669792175293,-1.9423596858978271,-2.397202968597412,6.7042341232299805,3.2117152214050293,-4.781699180603027],\"type\":\"scatter\"},{\"line\":{\"color\":\"black\",\"width\":0.5},\"opacity\":0.2,\"x\":[1,2,3,4,5,6,7,8,9],\"y\":[7.6108245849609375,6.315093040466309,3.882800579071045,17.249038696289062,2.2667460441589355,6.148046493530273,6.1307830810546875,9.621639251708984,9.780129432678223],\"type\":\"scatter\"},{\"line\":{\"color\":\"black\",\"width\":0.5},\"opacity\":0.2,\"x\":[1,2,3,4,5,6,7,8,9],\"y\":[7.4425787925720215,3.1439695358276367,3.6217312812805176,20.24631690979004,2.742234945297241,10.583261489868164,4.202776908874512,17.07360076904297,15.823305130004883],\"type\":\"scatter\"},{\"line\":{\"color\":\"black\",\"width\":0.5},\"opacity\":0.2,\"x\":[1,2,3,4,5,6,7,8,9],\"y\":[0.08371955156326294,-1.33433997631073,0.42614513635635376,-3.111992597579956,0.08520077168941498,-1.2072395086288452,-2.5698022842407227,-0.6953381896018982,-2.0302577018737793],\"type\":\"scatter\"},{\"line\":{\"color\":\"black\",\"width\":0.5},\"opacity\":0.2,\"x\":[1,2,3,4,5,6,7,8,9],\"y\":[-0.7681500911712646,-23.01901626586914,2.7528934478759766,-33.95799255371094,-5.362029075622559,-13.113728523254395,-18.110124588012695,-7.323544025421143,-44.60422134399414],\"type\":\"scatter\"},{\"line\":{\"color\":\"black\",\"width\":0.5},\"opacity\":0.2,\"x\":[1,2,3,4,5,6,7,8,9],\"y\":[2.0017189979553223,-3.259624481201172,0.9654092788696289,4.462798595428467,-2.319514751434326,-1.4808106422424316,-2.692903757095337,2.5064783096313477,-10.46481704711914],\"type\":\"scatter\"},{\"line\":{\"color\":\"black\",\"width\":0.5},\"opacity\":0.2,\"x\":[1,2,3,4,5,6,7,8,9],\"y\":[38.96839141845703,-10.044417381286621,15.998920440673828,62.13124465942383,12.548105239868164,27.03757095336914,-10.34634017944336,67.05032348632812,-38.91697311401367],\"type\":\"scatter\"},{\"line\":{\"color\":\"black\",\"width\":0.5},\"opacity\":0.2,\"x\":[1,2,3,4,5,6,7,8,9],\"y\":[-2.6851963996887207,12.275031089782715,-1.5253825187683105,9.47474193572998,-2.1260194778442383,0.8730411529541016,20.84667205810547,-9.53765869140625,30.683795928955078],\"type\":\"scatter\"},{\"line\":{\"color\":\"black\",\"width\":0.5},\"opacity\":0.2,\"x\":[1,2,3,4,5,6,7,8,9],\"y\":[-4.159906387329102,-1.355024814605713,-1.239630103111267,-16.025684356689453,-0.7091160416603088,-6.10690975189209,-0.6379123330116272,-11.52853775024414,-2.4802894592285156],\"type\":\"scatter\"},{\"line\":{\"color\":\"black\",\"width\":0.5},\"opacity\":0.2,\"x\":[1,2,3,4,5,6,7,8,9],\"y\":[-11.91837215423584,-17.36597442626953,-0.9242305159568787,-53.20872116088867,5.321413993835449,-10.049263000488281,-28.118873596191406,-18.36660385131836,-9.738468170166016],\"type\":\"scatter\"},{\"line\":{\"color\":\"black\",\"width\":0.5},\"opacity\":0.2,\"x\":[1,2,3,4,5,6,7,8,9],\"y\":[-11.928329467773438,-1.0819852352142334,-4.202413558959961,-33.86960983276367,-6.014711380004883,-16.712411880493164,-1.4506847858428955,-29.78717803955078,-1.8974827527999878],\"type\":\"scatter\"},{\"line\":{\"color\":\"black\",\"width\":0.5},\"opacity\":0.2,\"x\":[1,2,3,4,5,6,7,8,9],\"y\":[-8.201960563659668,7.427919387817383,-8.586847305297852,22.97502326965332,-2.862579107284546,6.965898513793945,-1.6227149963378906,18.7487850189209,-22.127042770385742],\"type\":\"scatter\"},{\"line\":{\"color\":\"black\",\"width\":0.5},\"opacity\":0.2,\"x\":[1,2,3,4,5,6,7,8,9],\"y\":[-3.517423152923584,0.47632044553756714,-1.5264028310775757,-12.543224334716797,-1.0916681289672852,-6.4889912605285645,-1.855953574180603,-7.868656635284424,-4.262927055358887],\"type\":\"scatter\"},{\"line\":{\"color\":\"black\",\"width\":0.5},\"opacity\":0.2,\"x\":[1,2,3,4,5,6,7,8,9],\"y\":[7.823586940765381,0.19749829173088074,10.67040729522705,-14.130817413330078,4.34890079498291,-8.027433395385742,2.306807041168213,-3.3883886337280273,22.945661544799805],\"type\":\"scatter\"},{\"line\":{\"color\":\"black\",\"width\":0.5},\"opacity\":0.2,\"x\":[1,2,3,4,5,6,7,8,9],\"y\":[-27.69213104248047,6.754329681396484,-12.428668975830078,-35.6571044921875,-6.417725563049316,-11.224754333496094,0.11566996574401855,-38.87548828125,11.718681335449219],\"type\":\"scatter\"},{\"line\":{\"color\":\"black\",\"width\":0.5},\"opacity\":0.2,\"x\":[1,2,3,4,5,6,7,8,9],\"y\":[-3.219097137451172,-1.2214444875717163,-2.3922815322875977,-8.3189697265625,-2.902895450592041,-2.7255382537841797,1.2893354892730713,-9.557374954223633,-0.31084561347961426],\"type\":\"scatter\"},{\"line\":{\"color\":\"black\",\"width\":0.5},\"opacity\":0.2,\"x\":[1,2,3,4,5,6,7,8,9],\"y\":[7.873175621032715,-9.350914001464844,4.794177055358887,-2.450775384902954,3.051905870437622,-0.3412039279937744,-9.244806289672852,10.816214561462402,-15.311600685119629],\"type\":\"scatter\"},{\"line\":{\"color\":\"black\",\"width\":0.5},\"opacity\":0.2,\"x\":[1,2,3,4,5,6,7,8,9],\"y\":[4.2630839347839355,27.584543228149414,1.9078080654144287,68.63139343261719,2.9358580112457275,30.413253784179688,26.843181610107422,22.245872497558594,32.29929733276367],\"type\":\"scatter\"},{\"line\":{\"color\":\"black\",\"width\":0.5},\"opacity\":0.2,\"x\":[1,2,3,4,5,6,7,8,9],\"y\":[9.041627883911133,-4.6373090744018555,4.18101692199707,8.783977508544922,7.375349998474121,9.00098991394043,-8.227685928344727,16.019474029541016,-13.026283264160156],\"type\":\"scatter\"},{\"line\":{\"color\":\"black\",\"width\":0.5},\"opacity\":0.2,\"x\":[1,2,3,4,5,6,7,8,9],\"y\":[-18.81752586364746,5.380951881408691,-9.8064546585083,-18.474700927734375,-6.2099609375,-9.682746887207031,0.49204564094543457,-25.88875961303711,-0.8712365627288818],\"type\":\"scatter\"},{\"line\":{\"color\":\"black\",\"width\":0.5},\"opacity\":0.2,\"x\":[1,2,3,4,5,6,7,8,9],\"y\":[2.686659812927246,18.858238220214844,1.346783995628357,38.01475524902344,1.5482192039489746,12.895570755004883,12.075246810913086,11.622321128845215,40.55534744262695],\"type\":\"scatter\"},{\"line\":{\"color\":\"black\",\"width\":0.5},\"opacity\":0.2,\"x\":[1,2,3,4,5,6,7,8,9],\"y\":[-8.766563415527344,12.35925579071045,-4.502168655395508,-6.04703426361084,-6.6129841804504395,-9.510427474975586,14.864660263061523,-19.245588302612305,28.892364501953125],\"type\":\"scatter\"},{\"line\":{\"color\":\"black\",\"width\":0.5},\"opacity\":0.2,\"x\":[1,2,3,4,5,6,7,8,9],\"y\":[16.071941375732422,-10.59437370300293,8.316750526428223,24.662391662597656,12.992660522460938,21.506641387939453,-18.76318359375,38.704490661621094,-2.33797025680542],\"type\":\"scatter\"},{\"line\":{\"color\":\"black\",\"width\":0.5},\"opacity\":0.2,\"x\":[1,2,3,4,5,6,7,8,9],\"y\":[-3.4879307746887207,1.5813255310058594,-1.24179208278656,-5.457954406738281,-1.5731868743896484,-3.7920727729797363,2.1402204036712646,-7.774369239807129,4.347400188446045],\"type\":\"scatter\"},{\"line\":{\"color\":\"black\",\"width\":0.5},\"opacity\":0.2,\"x\":[1,2,3,4,5,6,7,8,9],\"y\":[1.669729232788086,13.059039115905762,1.4414653778076172,28.90735626220703,-2.2541160583496094,7.874922752380371,19.66908073425293,8.811334609985352,32.86517333984375],\"type\":\"scatter\"},{\"line\":{\"color\":\"black\",\"width\":0.5},\"opacity\":0.2,\"x\":[1,2,3,4,5,6,7,8,9],\"y\":[1.8270230293273926,-1.0682835578918457,3.866502523422241,-6.870273590087891,5.4429731369018555,2.1976447105407715,-1.622948169708252,-2.960775852203369,7.037246227264404],\"type\":\"scatter\"},{\"line\":{\"color\":\"black\",\"width\":0.5},\"opacity\":0.2,\"x\":[1,2,3,4,5,6,7,8,9],\"y\":[4.910880088806152,-8.531692504882812,2.3023087978363037,-8.019983291625977,0.2999039888381958,-1.5016790628433228,-7.155291557312012,2.8347246646881104,-22.190834045410156],\"type\":\"scatter\"},{\"line\":{\"color\":\"black\",\"width\":0.5},\"opacity\":0.2,\"x\":[1,2,3,4,5,6,7,8,9],\"y\":[-10.33834171295166,-2.6338398456573486,-4.952656269073486,-24.500404357910156,-1.919356346130371,-7.470128059387207,-3.722001314163208,-15.830449104309082,-0.8913288712501526],\"type\":\"scatter\"},{\"line\":{\"color\":\"black\",\"width\":0.5},\"opacity\":0.2,\"x\":[1,2,3,4,5,6,7,8,9],\"y\":[-5.253417491912842,-14.840004920959473,0.32354146242141724,-40.92958068847656,-2.502333641052246,-16.145160675048828,-15.42557144165039,-15.893811225891113,-26.199268341064453],\"type\":\"scatter\"},{\"line\":{\"color\":\"black\",\"width\":0.5},\"opacity\":0.2,\"x\":[1,2,3,4,5,6,7,8,9],\"y\":[43.850067138671875,22.823148727416992,17.067243576049805,140.7113800048828,11.492173194885254,52.61676788330078,29.514087677001953,93.52361297607422,36.525596618652344],\"type\":\"scatter\"},{\"line\":{\"color\":\"black\",\"width\":0.5},\"opacity\":0.2,\"x\":[1,2,3,4,5,6,7,8,9],\"y\":[-21.252037048339844,-11.74525260925293,-9.972047805786133,-51.307823181152344,-8.787459373474121,-19.827991485595703,-16.951791763305664,-35.37804412841797,-38.65985107421875],\"type\":\"scatter\"},{\"line\":{\"color\":\"black\",\"width\":0.5},\"opacity\":0.2,\"x\":[1,2,3,4,5,6,7,8,9],\"y\":[4.292050361633301,4.830464839935303,2.2135894298553467,22.268592834472656,1.8778765201568604,6.62441873550415,5.118203163146973,16.139911651611328,10.720909118652344],\"type\":\"scatter\"},{\"line\":{\"color\":\"black\",\"width\":0.5},\"opacity\":0.2,\"x\":[1,2,3,4,5,6,7,8,9],\"y\":[11.228053092956543,8.729110717773438,5.5354814529418945,43.299259185791016,-1.4623275995254517,11.613136291503906,12.588199615478516,19.082233428955078,9.260252952575684],\"type\":\"scatter\"},{\"line\":{\"color\":\"black\",\"width\":0.5},\"opacity\":0.2,\"x\":[1,2,3,4,5,6,7,8,9],\"y\":[1.156158685684204,-5.579590797424316,2.041426181793213,4.754509925842285,-1.6440587043762207,0.21932125091552734,-7.622515678405762,4.799182415008545,-26.11499786376953],\"type\":\"scatter\"},{\"line\":{\"color\":\"black\",\"width\":0.5},\"opacity\":0.2,\"x\":[1,2,3,4,5,6,7,8,9],\"y\":[-0.5294167995452881,0.5696322917938232,0.20861679315567017,0.6862362623214722,-0.061954449862241745,0.011146292090415955,0.592346727848053,-0.7561314105987549,1.084415316581726],\"type\":\"scatter\"},{\"line\":{\"color\":\"black\",\"width\":0.5},\"opacity\":0.2,\"x\":[1,2,3,4,5,6,7,8,9],\"y\":[10.66110897064209,6.166405200958252,5.106078147888184,23.103906631469727,4.460443496704102,8.667789459228516,8.998016357421875,14.211677551269531,8.523665428161621],\"type\":\"scatter\"},{\"line\":{\"color\":\"black\",\"width\":0.5},\"opacity\":0.2,\"x\":[1,2,3,4,5,6,7,8,9],\"y\":[-3.8176259994506836,0.11882758140563965,-3.421966791152954,-8.332083702087402,0.41974201798439026,-1.1325225830078125,-2.935410976409912,-8.307607650756836,-1.5327913761138916],\"type\":\"scatter\"},{\"line\":{\"color\":\"black\",\"width\":0.5},\"opacity\":0.2,\"x\":[1,2,3,4,5,6,7,8,9],\"y\":[4.374682426452637,2.2982523441314697,1.328884482383728,14.09250545501709,1.3478212356567383,5.7940874099731445,3.1639280319213867,9.137454986572266,2.1977388858795166],\"type\":\"scatter\"},{\"line\":{\"color\":\"black\",\"width\":0.5},\"opacity\":0.2,\"x\":[1,2,3,4,5,6,7,8,9],\"y\":[-10.932853698730469,9.513444900512695,-3.2994132041931152,-2.0218751430511475,-1.6298496723175049,2.6003987789154053,8.902351379394531,-11.426164627075195,21.004093170166016],\"type\":\"scatter\"},{\"line\":{\"color\":\"black\",\"width\":0.5},\"opacity\":0.2,\"x\":[1,2,3,4,5,6,7,8,9],\"y\":[3.1088061332702637,-0.9381734728813171,2.440946578979492,3.045117139816284,0.4583871364593506,0.15770626068115234,-0.5328602194786072,2.923029899597168,-0.5161415934562683],\"type\":\"scatter\"},{\"line\":{\"color\":\"black\",\"width\":0.5},\"opacity\":0.2,\"x\":[1,2,3,4,5,6,7,8,9],\"y\":[32.79458236694336,5.234441757202148,14.31522274017334,90.86886596679688,10.195155143737793,36.73850631713867,6.2455644607543945,70.15249633789062,1.5498855113983154],\"type\":\"scatter\"},{\"line\":{\"color\":\"black\",\"width\":0.5},\"opacity\":0.2,\"x\":[1,2,3,4,5,6,7,8,9],\"y\":[19.844736099243164,14.612253189086914,4.5695905685424805,81.20342254638672,6.829641342163086,35.429264068603516,17.484834671020508,44.044700622558594,6.314341068267822],\"type\":\"scatter\"},{\"line\":{\"color\":\"black\",\"width\":0.5},\"opacity\":0.2,\"x\":[1,2,3,4,5,6,7,8,9],\"y\":[19.86249542236328,16.72972297668457,7.118184566497803,56.01033020019531,7.173381805419922,21.54818344116211,19.982635498046875,29.30035972595215,35.360801696777344],\"type\":\"scatter\"},{\"line\":{\"color\":\"black\",\"width\":0.5},\"opacity\":0.2,\"x\":[1,2,3,4,5,6,7,8,9],\"y\":[12.231439590454102,3.0500218868255615,3.459338903427124,29.82859992980957,-0.86501544713974,7.888700008392334,9.018791198730469,12.78529167175293,11.750425338745117],\"type\":\"scatter\"},{\"line\":{\"color\":\"black\",\"width\":0.5},\"opacity\":0.2,\"x\":[1,2,3,4,5,6,7,8,9],\"y\":[-0.6992201805114746,11.551719665527344,-1.876369595527649,24.33470916748047,-0.2550000846385956,9.630208969116211,17.322616577148438,8.165923118591309,22.993118286132812],\"type\":\"scatter\"},{\"line\":{\"color\":\"black\",\"width\":0.5},\"opacity\":0.2,\"x\":[1,2,3,4,5,6,7,8,9],\"y\":[0.9460216760635376,6.086999893188477,1.795518159866333,16.623905181884766,1.2029201984405518,8.047712326049805,9.038179397583008,5.424710750579834,17.024229049682617],\"type\":\"scatter\"},{\"line\":{\"color\":\"black\",\"width\":0.5},\"opacity\":0.2,\"x\":[1,2,3,4,5,6,7,8,9],\"y\":[-14.809284210205078,-4.21669864654541,-9.245058059692383,-41.38954162597656,-2.3787384033203125,-14.982706069946289,-3.669070243835449,-23.419353485107422,-5.42241907119751],\"type\":\"scatter\"},{\"line\":{\"color\":\"black\",\"width\":0.5},\"opacity\":0.2,\"x\":[1,2,3,4,5,6,7,8,9],\"y\":[4.6529998779296875,6.827049732208252,1.1105449199676514,29.262893676757812,1.1081454753875732,14.455522537231445,8.768937110900879,16.125228881835938,3.947530746459961],\"type\":\"scatter\"},{\"line\":{\"color\":\"black\",\"width\":0.5},\"opacity\":0.2,\"x\":[1,2,3,4,5,6,7,8,9],\"y\":[0.28481346368789673,0.9740605354309082,-0.08390508592128754,2.3825907707214355,-0.016339872032403946,0.22001123428344727,0.7088747024536133,-0.20440566539764404,-0.038083016872406006],\"type\":\"scatter\"},{\"line\":{\"color\":\"black\",\"width\":0.5},\"opacity\":0.2,\"x\":[1,2,3,4,5,6,7,8,9],\"y\":[-25.485584259033203,-4.033101558685303,-6.566549301147461,-76.71792602539062,-18.05829429626465,-45.44792938232422,-0.17824196815490723,-67.73713684082031,-0.20602846145629883],\"type\":\"scatter\"},{\"line\":{\"color\":\"black\",\"width\":0.5},\"opacity\":0.2,\"x\":[1,2,3,4,5,6,7,8,9],\"y\":[11.510557174682617,-19.514286041259766,5.719448566436768,-26.89287567138672,7.62081241607666,-7.657647609710693,-26.70429801940918,4.666094779968262,-34.99370574951172],\"type\":\"scatter\"},{\"line\":{\"color\":\"black\",\"width\":0.5},\"opacity\":0.2,\"x\":[1,2,3,4,5,6,7,8,9],\"y\":[1.289757490158081,1.704291582107544,-0.8748679161071777,9.863004684448242,-0.8199916481971741,2.988133192062378,1.1357280015945435,5.3548126220703125,-4.595734119415283],\"type\":\"scatter\"},{\"line\":{\"color\":\"black\",\"width\":0.5},\"opacity\":0.2,\"x\":[1,2,3,4,5,6,7,8,9],\"y\":[-1.908582091331482,-1.779299020767212,-1.2951993942260742,-9.445656776428223,-0.4631040394306183,-3.690164566040039,-2.0844624042510986,-5.934810161590576,-2.728549003601074],\"type\":\"scatter\"},{\"line\":{\"color\":\"black\",\"width\":0.5},\"opacity\":0.2,\"x\":[1,2,3,4,5,6,7,8,9],\"y\":[-4.891797065734863,-0.9588983058929443,-3.334045171737671,-15.244319915771484,-2.439640760421753,-7.418680667877197,-1.2388954162597656,-10.717127799987793,-2.842299222946167],\"type\":\"scatter\"},{\"line\":{\"color\":\"black\",\"width\":0.5},\"opacity\":0.2,\"x\":[1,2,3,4,5,6,7,8,9],\"y\":[-2.7265143394470215,9.972441673278809,0.16801315546035767,18.780860900878906,0.004104137420654297,8.130200386047363,8.534109115600586,2.825960159301758,16.614036560058594],\"type\":\"scatter\"},{\"line\":{\"color\":\"black\",\"width\":0.5},\"opacity\":0.2,\"x\":[1,2,3,4,5,6,7,8,9],\"y\":[-3.440281867980957,-6.396429061889648,-0.945398211479187,-23.50680923461914,4.610459804534912,-1.4029333591461182,-10.213325500488281,-5.919492721557617,-1.8280820846557617],\"type\":\"scatter\"},{\"line\":{\"color\":\"black\",\"width\":0.5},\"opacity\":0.2,\"x\":[1,2,3,4,5,6,7,8,9],\"y\":[-19.516199111938477,-1.0972980260849,-11.352206230163574,-48.16636657714844,-6.249624252319336,-22.188446044921875,3.905010223388672,-29.762248992919922,11.769491195678711],\"type\":\"scatter\"},{\"line\":{\"color\":\"black\",\"width\":0.5},\"opacity\":0.2,\"x\":[1,2,3,4,5,6,7,8,9],\"y\":[-0.9321767091751099,-0.6693604588508606,-0.10958198457956314,-3.954141616821289,-0.5155923962593079,-1.3647403717041016,-0.7549363374710083,-2.776473045349121,0.7327013611793518],\"type\":\"scatter\"},{\"line\":{\"color\":\"black\",\"width\":0.5},\"opacity\":0.2,\"x\":[1,2,3,4,5,6,7,8,9],\"y\":[-13.715527534484863,0.7881994247436523,-6.5131635665893555,-34.2673454284668,-3.8772785663604736,-13.998779296875,-0.9948443174362183,-31.630590438842773,-3.3202149868011475],\"type\":\"scatter\"},{\"line\":{\"color\":\"black\",\"width\":0.5},\"opacity\":0.2,\"x\":[1,2,3,4,5,6,7,8,9],\"y\":[0.7342653274536133,-4.439751625061035,4.7843732833862305,-17.67120933532715,-6.588176727294922,-22.782209396362305,-0.7291650772094727,-21.806915283203125,-17.490455627441406],\"type\":\"scatter\"},{\"line\":{\"color\":\"black\",\"width\":0.5},\"opacity\":0.2,\"x\":[1,2,3,4,5,6,7,8,9],\"y\":[3.4228343963623047,4.473010540008545,0.4913861155509949,19.420875549316406,-2.05692195892334,4.051337242126465,8.771247863769531,8.184167861938477,6.788241863250732],\"type\":\"scatter\"},{\"line\":{\"color\":\"black\",\"width\":0.5},\"opacity\":0.2,\"x\":[1,2,3,4,5,6,7,8,9],\"y\":[16.50668716430664,4.136721134185791,12.944615364074707,30.429595947265625,0.45382222533226013,6.290750503540039,4.18599796295166,7.5404534339904785,9.219215393066406],\"type\":\"scatter\"},{\"line\":{\"color\":\"black\",\"width\":0.5},\"opacity\":0.2,\"x\":[1,2,3,4,5,6,7,8,9],\"y\":[2.283564329147339,9.66808795928955,-0.08173958957195282,13.002252578735352,-3.182739734649658,0.8378297090530396,11.832016944885254,-4.4355244636535645,33.42449951171875],\"type\":\"scatter\"},{\"line\":{\"color\":\"black\",\"width\":0.5},\"opacity\":0.2,\"x\":[1,2,3,4,5,6,7,8,9],\"y\":[-7.770913124084473,1.746730089187622,1.8019630908966064,-29.497509002685547,-4.666289806365967,-16.712608337402344,4.165027618408203,-31.406082153320312,13.909605979919434],\"type\":\"scatter\"},{\"line\":{\"color\":\"black\",\"width\":0.5},\"opacity\":0.2,\"x\":[1,2,3,4,5,6,7,8,9],\"y\":[15.828765869140625,-1.1656776666641235,6.037047863006592,28.117897033691406,3.424355983734131,8.970941543579102,3.4713335037231445,27.547311782836914,0.11626410484313965],\"type\":\"scatter\"},{\"line\":{\"color\":\"black\",\"width\":0.5},\"opacity\":0.2,\"x\":[1,2,3,4,5,6,7,8,9],\"y\":[-7.036886692047119,-2.7913854122161865,-5.427756309509277,-11.684700965881348,-5.658403396606445,-6.025547981262207,-0.3563101291656494,-9.477692604064941,-3.2009902000427246],\"type\":\"scatter\"},{\"line\":{\"color\":\"black\",\"width\":0.5},\"opacity\":0.2,\"x\":[1,2,3,4,5,6,7,8,9],\"y\":[0.570572555065155,-0.9559974074363708,0.08379456400871277,2.983588457107544,-0.2641682028770447,0.6439412832260132,-0.5295315980911255,3.3489162921905518,-1.9885085821151733],\"type\":\"scatter\"},{\"line\":{\"color\":\"black\",\"width\":0.5},\"opacity\":0.2,\"x\":[1,2,3,4,5,6,7,8,9],\"y\":[-6.935667991638184,2.70462703704834,1.1252378225326538,-15.704604148864746,-2.6548664569854736,-9.620865821838379,-2.542410373687744,-18.58881378173828,9.158751487731934],\"type\":\"scatter\"},{\"line\":{\"color\":\"black\",\"width\":0.5},\"opacity\":0.2,\"x\":[1,2,3,4,5,6,7,8,9],\"y\":[-15.615742683410645,-3.9192113876342773,-4.195158958435059,-37.71685791015625,-5.034399509429932,-14.692031860351562,-9.720335006713867,-25.34528350830078,-0.5452998876571655],\"type\":\"scatter\"},{\"line\":{\"color\":\"black\",\"width\":0.5},\"opacity\":0.2,\"x\":[1,2,3,4,5,6,7,8,9],\"y\":[30.372833251953125,-4.383554458618164,6.813292503356934,51.36027526855469,7.756165027618408,14.943517684936523,0.23636245727539062,46.62303161621094,-10.180459022521973],\"type\":\"scatter\"},{\"line\":{\"color\":\"black\",\"width\":0.5},\"opacity\":0.2,\"x\":[1,2,3,4,5,6,7,8,9],\"y\":[-18.319486618041992,15.548909187316895,-9.439693450927734,-7.421565055847168,-7.301677703857422,-7.23676872253418,14.184679985046387,-26.33485984802246,17.45745086669922],\"type\":\"scatter\"},{\"line\":{\"color\":\"black\",\"width\":0.5},\"opacity\":0.2,\"x\":[1,2,3,4,5,6,7,8,9],\"y\":[4.161421298980713,-5.368185043334961,-1.6005680561065674,3.8636350631713867,2.187345027923584,2.9367339611053467,-7.382672309875488,11.224032402038574,-12.858451843261719],\"type\":\"scatter\"},{\"line\":{\"color\":\"black\",\"width\":0.5},\"opacity\":0.2,\"x\":[1,2,3,4,5,6,7,8,9],\"y\":[-15.218899726867676,-4.064467430114746,-7.309382915496826,-30.2686767578125,-9.28152084350586,-10.899957656860352,-7.089973449707031,-32.008304595947266,-12.316603660583496],\"type\":\"scatter\"},{\"line\":{\"color\":\"black\",\"width\":0.5},\"opacity\":0.2,\"x\":[1,2,3,4,5,6,7,8,9],\"y\":[0.10017383098602295,-8.774341583251953,-0.4899348020553589,-13.745855331420898,-0.9538441300392151,-5.070710182189941,-10.621153831481934,0.13751602172851562,-16.471590042114258],\"type\":\"scatter\"},{\"line\":{\"color\":\"black\",\"width\":0.5},\"opacity\":0.2,\"x\":[1,2,3,4,5,6,7,8,9],\"y\":[4.265206336975098,-5.7305908203125,3.4676907062530518,1.2069530487060547,2.0017504692077637,1.1727344989776611,-6.1170549392700195,8.06287956237793,-14.306459426879883],\"type\":\"scatter\"},{\"line\":{\"color\":\"black\",\"width\":0.5},\"opacity\":0.2,\"x\":[1,2,3,4,5,6,7,8,9],\"y\":[5.977057933807373,8.281014442443848,0.08564245700836182,29.240760803222656,-0.3647214472293854,7.067615032196045,9.10074234008789,15.837855339050293,15.794486999511719],\"type\":\"scatter\"},{\"line\":{\"color\":\"black\",\"width\":0.5},\"opacity\":0.2,\"x\":[1,2,3,4,5,6,7,8,9],\"y\":[7.939291000366211,-5.412371635437012,6.999616622924805,-12.98603630065918,4.616326332092285,-5.771799087524414,-6.435373306274414,1.8932437896728516,0.4847581386566162],\"type\":\"scatter\"},{\"line\":{\"color\":\"black\",\"width\":0.5},\"opacity\":0.2,\"x\":[1,2,3,4,5,6,7,8,9],\"y\":[0.297868013381958,1.6225858926773071,-0.654958188533783,6.84437370300293,-3.5334343910217285,-3.2041194438934326,5.071965217590332,-0.7251812219619751,-2.7137961387634277],\"type\":\"scatter\"},{\"line\":{\"color\":\"black\",\"width\":0.5},\"opacity\":0.2,\"x\":[1,2,3,4,5,6,7,8,9],\"y\":[-14.618422508239746,-23.544618606567383,-12.55402946472168,-89.69648742675781,-4.448071002960205,-32.602928161621094,-35.6877555847168,-46.76405334472656,-42.27938461303711],\"type\":\"scatter\"},{\"line\":{\"color\":\"black\",\"width\":0.5},\"opacity\":0.2,\"x\":[1,2,3,4,5,6,7,8,9],\"y\":[12.952842712402344,21.095787048339844,3.8328769207000732,53.011478424072266,0.7658959031105042,16.185985565185547,26.39333724975586,16.92018699645996,31.309057235717773],\"type\":\"scatter\"},{\"line\":{\"color\":\"black\",\"width\":0.5},\"opacity\":0.2,\"x\":[1,2,3,4,5,6,7,8,9],\"y\":[9.943255424499512,1.3704434633255005,3.6042957305908203,25.83890151977539,1.724865198135376,9.049236297607422,-0.08902978897094727,21.825786590576172,-3.627020835876465],\"type\":\"scatter\"},{\"line\":{\"color\":\"black\",\"width\":0.5},\"opacity\":0.2,\"x\":[1,2,3,4,5,6,7,8,9],\"y\":[1.62873375415802,-2.892806053161621,1.0098598003387451,0.25190305709838867,1.177732229232788,2.6860854625701904,0.26750874519348145,4.2407355308532715,-4.576557159423828],\"type\":\"scatter\"},{\"line\":{\"color\":\"black\",\"width\":0.5},\"opacity\":0.2,\"x\":[1,2,3,4,5,6,7,8,9],\"y\":[12.693476676940918,-9.131893157958984,5.3688154220581055,16.212085723876953,6.0286431312561035,10.63430118560791,-13.406801223754883,26.21611976623535,-25.939960479736328],\"type\":\"scatter\"},{\"line\":{\"color\":\"black\",\"width\":0.5},\"opacity\":0.2,\"x\":[1,2,3,4,5,6,7,8,9],\"y\":[4.28085470199585,-0.31724947690963745,-1.1381664276123047,11.309711456298828,2.32523775100708,5.973926544189453,2.1252617835998535,12.680733680725098,-5.549453258514404],\"type\":\"scatter\"},{\"line\":{\"color\":\"black\",\"width\":0.5},\"opacity\":0.2,\"x\":[1,2,3,4,5,6,7,8,9],\"y\":[-16.85193634033203,10.897332191467285,-13.668797492980957,0.6467370986938477,-1.6794205904006958,7.443829536437988,16.431568145751953,-18.202537536621094,18.159626007080078],\"type\":\"scatter\"},{\"line\":{\"color\":\"black\",\"width\":0.5},\"opacity\":0.2,\"x\":[1,2,3,4,5,6,7,8,9],\"y\":[-1.1140786409378052,1.2855077981948853,-1.290462613105774,13.96749496459961,1.4527174234390259,11.650346755981445,1.4689664840698242,15.044590950012207,11.142520904541016],\"type\":\"scatter\"},{\"line\":{\"color\":\"black\",\"width\":0.5},\"opacity\":0.2,\"x\":[1,2,3,4,5,6,7,8,9],\"y\":[-6.072906970977783,-0.7338564395904541,0.39173024892807007,-15.837823867797852,0.3285483121871948,-5.689284324645996,-4.594443321228027,-7.220792770385742,2.0982236862182617],\"type\":\"scatter\"},{\"line\":{\"color\":\"black\",\"width\":0.5},\"opacity\":0.2,\"x\":[1,2,3,4,5,6,7,8,9],\"y\":[-3.522223472595215,-6.577960968017578,-2.1390180587768555,-22.10548210144043,-1.5577150583267212,-8.631795883178711,-6.552356719970703,-8.124037742614746,-4.645681381225586],\"type\":\"scatter\"},{\"line\":{\"color\":\"black\",\"width\":0.5},\"opacity\":0.2,\"x\":[1,2,3,4,5,6,7,8,9],\"y\":[-7.22322940826416,-5.6033935546875,-3.136476755142212,-24.382164001464844,-2.942955493927002,-10.077962875366211,-4.198422908782959,-14.446642875671387,-13.26960277557373],\"type\":\"scatter\"},{\"line\":{\"color\":\"black\",\"width\":0.5},\"opacity\":0.2,\"x\":[1,2,3,4,5,6,7,8,9],\"y\":[-7.981553554534912,11.827524185180664,0.19553792476654053,8.028084754943848,-2.633640766143799,1.357492208480835,15.210956573486328,0.41989707946777344,19.686994552612305],\"type\":\"scatter\"},{\"line\":{\"color\":\"black\",\"width\":0.5},\"opacity\":0.2,\"x\":[1,2,3,4,5,6,7,8,9],\"y\":[11.861223220825195,9.822813987731934,4.0540995597839355,37.249908447265625,4.907662391662598,14.510300636291504,11.55300235748291,22.970783233642578,27.428707122802734],\"type\":\"scatter\"},{\"line\":{\"color\":\"black\",\"width\":0.5},\"opacity\":0.2,\"x\":[1,2,3,4,5,6,7,8,9],\"y\":[-10.410943984985352,-39.917930603027344,-3.4572391510009766,-102.76451110839844,2.6795125007629395,-31.48228645324707,-44.54004669189453,-32.39975357055664,-48.779293060302734],\"type\":\"scatter\"},{\"line\":{\"color\":\"black\",\"width\":0.5},\"opacity\":0.2,\"x\":[1,2,3,4,5,6,7,8,9],\"y\":[0.613434910774231,2.6610171794891357,0.6685226559638977,10.387157440185547,2.8135578632354736,7.285246849060059,-1.2412729263305664,8.874574661254883,-1.0130565166473389],\"type\":\"scatter\"},{\"line\":{\"color\":\"black\",\"width\":0.5},\"opacity\":0.2,\"x\":[1,2,3,4,5,6,7,8,9],\"y\":[1.383044719696045,6.156057834625244,1.405230164527893,13.436498641967773,1.5323303937911987,5.498997688293457,6.964358806610107,4.358475685119629,12.66553020477295],\"type\":\"scatter\"},{\"line\":{\"color\":\"black\",\"width\":0.5},\"opacity\":0.2,\"x\":[1,2,3,4,5,6,7,8,9],\"y\":[6.27069091796875,8.552351951599121,4.795775890350342,20.310653686523438,0.3788018226623535,2.334535598754883,9.264857292175293,0.14276838302612305,24.288249969482422],\"type\":\"scatter\"},{\"line\":{\"color\":\"black\",\"width\":0.5},\"opacity\":0.2,\"x\":[1,2,3,4,5,6,7,8,9],\"y\":[11.069772720336914,-12.965127944946289,4.590847015380859,3.8276891708374023,1.2219513654708862,-0.49483275413513184,-6.071186542510986,18.710941314697266,-23.614627838134766],\"type\":\"scatter\"},{\"line\":{\"color\":\"black\",\"width\":0.5},\"opacity\":0.2,\"x\":[1,2,3,4,5,6,7,8,9],\"y\":[3.911656141281128,2.9167251586914062,2.017301559448242,9.839975357055664,-1.1980148553848267,-0.3636651039123535,2.135563373565674,2.786360263824463,-0.4870762228965759],\"type\":\"scatter\"},{\"line\":{\"color\":\"black\",\"width\":0.5},\"opacity\":0.2,\"x\":[1,2,3,4,5,6,7,8,9],\"y\":[-0.27445554733276367,-21.5698299407959,-1.9002900123596191,-26.961376190185547,-0.9295516014099121,-6.959737777709961,-28.21653938293457,1.6917171478271484,-46.74919128417969],\"type\":\"scatter\"},{\"line\":{\"color\":\"black\",\"width\":0.5},\"opacity\":0.2,\"x\":[1,2,3,4,5,6,7,8,9],\"y\":[3.467430591583252,1.7701703310012817,-3.2976856231689453,18.38159942626953,3.7735953330993652,10.052702903747559,-2.625974416732788,18.701839447021484,-4.041051864624023],\"type\":\"scatter\"},{\"line\":{\"color\":\"black\",\"width\":0.5},\"opacity\":0.2,\"x\":[1,2,3,4,5,6,7,8,9],\"y\":[0.7327615022659302,-0.95310378074646,0.08729907125234604,0.7856738567352295,-0.005860941484570503,-0.23220522701740265,-1.1949825286865234,1.2893924713134766,-3.7393720149993896],\"type\":\"scatter\"},{\"line\":{\"color\":\"black\",\"width\":0.5},\"opacity\":0.2,\"x\":[1,2,3,4,5,6,7,8,9],\"y\":[-13.847155570983887,-4.792110919952393,-5.4243855476379395,-41.70516586303711,-4.3385515213012695,-17.387758255004883,-7.846109390258789,-27.53558349609375,-15.976548194885254],\"type\":\"scatter\"},{\"line\":{\"color\":\"black\",\"width\":0.5},\"opacity\":0.2,\"x\":[1,2,3,4,5,6,7,8,9],\"y\":[-3.0905182361602783,-13.492415428161621,-1.0889322757720947,-36.7305908203125,-3.067119598388672,-12.178518295288086,-14.40211296081543,-20.40054702758789,-23.078166961669922],\"type\":\"scatter\"},{\"line\":{\"color\":\"black\",\"width\":0.5},\"opacity\":0.2,\"x\":[1,2,3,4,5,6,7,8,9],\"y\":[10.343633651733398,9.437409400939941,6.266415119171143,40.30731201171875,6.1235198974609375,19.757198333740234,9.340536117553711,31.367431640625,21.7852840423584],\"type\":\"scatter\"},{\"line\":{\"color\":\"black\",\"width\":0.5},\"opacity\":0.2,\"x\":[1,2,3,4,5,6,7,8,9],\"y\":[25.790401458740234,0.972422182559967,10.700052261352539,62.061798095703125,9.754829406738281,27.724273681640625,3.0513205528259277,53.1422119140625,6.351254463195801],\"type\":\"scatter\"},{\"line\":{\"color\":\"black\",\"width\":0.5},\"opacity\":0.2,\"x\":[1,2,3,4,5,6,7,8,9],\"y\":[9.701542854309082,-0.5661938190460205,5.9107232093811035,14.590744018554688,1.2541329860687256,2.208552360534668,2.615156650543213,13.224597930908203,4.195861339569092],\"type\":\"scatter\"},{\"line\":{\"color\":\"black\",\"width\":0.5},\"opacity\":0.2,\"x\":[1,2,3,4,5,6,7,8,9],\"y\":[5.009866714477539,4.523270130157471,0.18432247638702393,18.28925132751465,-1.9135655164718628,0.832045316696167,9.20887565612793,10.173734664916992,4.078697204589844],\"type\":\"scatter\"},{\"line\":{\"color\":\"black\",\"width\":0.5},\"opacity\":0.2,\"x\":[1,2,3,4,5,6,7,8,9],\"y\":[7.432389259338379,1.7090489864349365,2.542085647583008,9.880533218383789,1.6696527004241943,1.7778679132461548,3.8602242469787598,2.0921802520751953,0.3286234736442566],\"type\":\"scatter\"},{\"line\":{\"color\":\"black\",\"width\":0.5},\"opacity\":0.2,\"x\":[1,2,3,4,5,6,7,8,9],\"y\":[9.126229286193848,0.363208532333374,2.4788684844970703,14.84245491027832,3.400195360183716,8.29854965209961,-0.3266146183013916,12.291789054870605,-2.452733278274536],\"type\":\"scatter\"},{\"line\":{\"color\":\"black\",\"width\":0.5},\"opacity\":0.2,\"x\":[1,2,3,4,5,6,7,8,9],\"y\":[3.3213002681732178,7.211837291717529,-0.9900703430175781,28.655717849731445,-4.893091201782227,6.089912414550781,17.954242706298828,6.883172988891602,14.48982048034668],\"type\":\"scatter\"},{\"line\":{\"color\":\"black\",\"width\":0.5},\"opacity\":0.2,\"x\":[1,2,3,4,5,6,7,8,9],\"y\":[-3.921016216278076,4.259278297424316,-3.676544666290283,2.310055732727051,-0.6864736676216125,1.691135287284851,2.1367664337158203,-2.0316312313079834,5.569813251495361],\"type\":\"scatter\"},{\"line\":{\"color\":\"black\",\"width\":0.5},\"opacity\":0.2,\"x\":[1,2,3,4,5,6,7,8,9],\"y\":[0.6592178344726562,4.207881450653076,4.764829158782959,2.161407947540283,-1.8687098026275635,-4.921340465545654,4.953281402587891,-2.5454063415527344,6.6554694175720215],\"type\":\"scatter\"},{\"line\":{\"color\":\"black\",\"width\":0.5},\"opacity\":0.2,\"x\":[1,2,3,4,5,6,7,8,9],\"y\":[-1.6742963790893555,-24.037593841552734,6.190615653991699,-45.376548767089844,-2.52844500541687,-18.568906784057617,-29.822065353393555,-15.021949768066406,-44.234100341796875],\"type\":\"scatter\"},{\"line\":{\"color\":\"black\",\"width\":0.5},\"opacity\":0.2,\"x\":[1,2,3,4,5,6,7,8,9],\"y\":[-21.13921356201172,1.8825801610946655,-8.858848571777344,-48.22916030883789,-10.500995635986328,-25.393688201904297,0.9106428623199463,-46.81660461425781,0.8055803775787354],\"type\":\"scatter\"},{\"line\":{\"color\":\"black\",\"width\":0.5},\"opacity\":0.2,\"x\":[1,2,3,4,5,6,7,8,9],\"y\":[9.22976016998291,3.8143959045410156,2.5925815105438232,23.838306427001953,1.5923655033111572,9.863448143005371,6.304323196411133,15.305981636047363,6.137446403503418],\"type\":\"scatter\"},{\"line\":{\"color\":\"black\",\"width\":0.5},\"opacity\":0.2,\"x\":[1,2,3,4,5,6,7,8,9],\"y\":[15.584394454956055,11.980897903442383,5.700249671936035,57.909584045410156,5.0658674240112305,22.457561492919922,18.35699462890625,35.864967346191406,31.341007232666016],\"type\":\"scatter\"},{\"line\":{\"color\":\"black\",\"width\":0.5},\"opacity\":0.2,\"x\":[1,2,3,4,5,6,7,8,9],\"y\":[-9.624506950378418,-6.532791614532471,0.832426905632019,-24.88814353942871,0.6851290464401245,-6.204805374145508,-10.744736671447754,-11.342729568481445,-32.60675048828125],\"type\":\"scatter\"},{\"line\":{\"color\":\"black\",\"width\":0.5},\"opacity\":0.2,\"x\":[1,2,3,4,5,6,7,8,9],\"y\":[26.314693450927734,-9.193486213684082,12.964897155761719,36.43413543701172,5.980284690856934,8.264287948608398,-13.285125732421875,39.220130920410156,-44.76477813720703],\"type\":\"scatter\"},{\"line\":{\"color\":\"black\",\"width\":0.5},\"opacity\":0.2,\"x\":[1,2,3,4,5,6,7,8,9],\"y\":[-6.176591873168945,7.907236099243164,-7.388314723968506,16.654666900634766,1.6926134824752808,12.79280948638916,5.066781044006348,7.413991451263428,0.5727944374084473],\"type\":\"scatter\"},{\"line\":{\"color\":\"black\",\"width\":0.5},\"opacity\":0.2,\"x\":[1,2,3,4,5,6,7,8,9],\"y\":[-52.3837890625,2.486070156097412,-23.651823043823242,-94.13728332519531,-21.06020736694336,-42.204750061035156,-4.466303825378418,-90.65461730957031,-13.443960189819336],\"type\":\"scatter\"},{\"line\":{\"color\":\"black\",\"width\":0.5},\"opacity\":0.2,\"x\":[1,2,3,4,5,6,7,8,9],\"y\":[-5.1207098960876465,0.5474331378936768,-0.07518213987350464,-0.2103215456008911,-4.306279182434082,-4.736645221710205,-2.4374380111694336,-2.8694262504577637,1.0889363288879395],\"type\":\"scatter\"},{\"line\":{\"color\":\"black\",\"width\":0.5},\"opacity\":0.2,\"x\":[1,2,3,4,5,6,7,8,9],\"y\":[-3.7001142501831055,14.546101570129395,-3.5528082847595215,19.972835540771484,-2.064877986907959,3.8877241611480713,18.221637725830078,2.668855667114258,23.08938980102539],\"type\":\"scatter\"},{\"line\":{\"color\":\"black\",\"width\":0.5},\"opacity\":0.2,\"x\":[1,2,3,4,5,6,7,8,9],\"y\":[-13.817021369934082,-9.852760314941406,-2.7175683975219727,-46.005374908447266,-1.7482459545135498,-15.344515800476074,-19.799606323242188,-27.017852783203125,-24.123958587646484],\"type\":\"scatter\"},{\"line\":{\"color\":\"black\",\"width\":0.5},\"opacity\":0.2,\"x\":[1,2,3,4,5,6,7,8,9],\"y\":[-20.60826301574707,3.995253801345825,-11.350847244262695,-44.36236572265625,-12.984745025634766,-25.86914825439453,7.812700271606445,-52.486083984375,3.664180278778076],\"type\":\"scatter\"},{\"line\":{\"color\":\"black\",\"width\":0.5},\"opacity\":0.2,\"x\":[1,2,3,4,5,6,7,8,9],\"y\":[-11.357781410217285,-9.477299690246582,-3.251208543777466,-44.77191925048828,-0.978229284286499,-13.530753135681152,-20.448562622070312,-20.927213668823242,-12.138402938842773],\"type\":\"scatter\"},{\"line\":{\"color\":\"black\",\"width\":0.5},\"opacity\":0.2,\"x\":[1,2,3,4,5,6,7,8,9],\"y\":[-66.8029556274414,-5.050341606140137,-26.445966720581055,-160.19949340820312,-22.794593811035156,-67.1711196899414,-12.327064514160156,-135.366455078125,0.5187901258468628],\"type\":\"scatter\"},{\"line\":{\"color\":\"black\",\"width\":0.5},\"opacity\":0.2,\"x\":[1,2,3,4,5,6,7,8,9],\"y\":[0.19226974248886108,0.5418579578399658,1.1168923377990723,4.772726058959961,0.6930302381515503,2.877481460571289,-1.441482663154602,5.920619964599609,6.581451416015625],\"type\":\"scatter\"},{\"line\":{\"color\":\"black\",\"width\":0.5},\"opacity\":0.2,\"x\":[1,2,3,4,5,6,7,8,9],\"y\":[-4.5218281745910645,1.891520619392395,-3.3706536293029785,-7.829913139343262,2.167173385620117,0.9824299812316895,1.835059642791748,-2.683847188949585,14.124610900878906],\"type\":\"scatter\"},{\"line\":{\"color\":\"black\",\"width\":0.5},\"opacity\":0.2,\"x\":[1,2,3,4,5,6,7,8,9],\"y\":[-2.4751245975494385,-3.030857801437378,-1.7376927137374878,-5.333174705505371,6.363406658172607,8.70389175415039,-9.014190673828125,-1.6798067092895508,-4.788405895233154],\"type\":\"scatter\"},{\"line\":{\"color\":\"black\",\"width\":0.5},\"opacity\":0.2,\"x\":[1,2,3,4,5,6,7,8,9],\"y\":[-21.663368225097656,-26.255916595458984,-9.892155647277832,-74.17549133300781,-1.161573052406311,-18.193214416503906,-37.15534591674805,-25.95659065246582,-50.33350372314453],\"type\":\"scatter\"},{\"line\":{\"color\":\"black\",\"width\":0.5},\"opacity\":0.2,\"x\":[1,2,3,4,5,6,7,8,9],\"y\":[4.547061920166016,1.5280499458312988,3.98876690864563,14.0216064453125,3.612290620803833,4.226101875305176,-6.96076774597168,19.32647705078125,-6.012265682220459],\"type\":\"scatter\"},{\"line\":{\"color\":\"black\",\"width\":0.5},\"opacity\":0.2,\"x\":[1,2,3,4,5,6,7,8,9],\"y\":[11.452081680297852,-14.792329788208008,12.483906745910645,5.874788284301758,11.229594230651855,14.06022834777832,-17.085403442382812,24.562353134155273,-10.854467391967773],\"type\":\"scatter\"},{\"line\":{\"color\":\"black\",\"width\":0.5},\"opacity\":0.2,\"x\":[1,2,3,4,5,6,7,8,9],\"y\":[9.186797142028809,7.184100151062012,7.338689804077148,22.291767120361328,2.093172073364258,4.759997367858887,5.613166332244873,10.175028800964355,5.647652626037598],\"type\":\"scatter\"},{\"line\":{\"color\":\"black\",\"width\":0.5},\"opacity\":0.2,\"x\":[1,2,3,4,5,6,7,8,9],\"y\":[4.126054286956787,15.130123138427734,4.357754707336426,35.87614059448242,4.519676208496094,16.98969841003418,10.877511024475098,18.21778106689453,33.585689544677734],\"type\":\"scatter\"},{\"line\":{\"color\":\"black\",\"width\":0.5},\"opacity\":0.2,\"x\":[1,2,3,4,5,6,7,8,9],\"y\":[1.7140984535217285,9.074507713317871,-0.011052370071411133,26.3453311920166,-1.8848299980163574,10.374054908752441,14.883869171142578,9.392820358276367,13.726468086242676],\"type\":\"scatter\"},{\"line\":{\"color\":\"black\",\"width\":0.5},\"opacity\":0.2,\"x\":[1,2,3,4,5,6,7,8,9],\"y\":[-1.2021664381027222,-3.4107327461242676,-1.3773658275604248,-12.01022720336914,-2.2392542362213135,-6.307147979736328,-1.4705878496170044,-8.45261001586914,-4.969909191131592],\"type\":\"scatter\"},{\"line\":{\"color\":\"black\",\"width\":0.5},\"opacity\":0.2,\"x\":[1,2,3,4,5,6,7,8,9],\"y\":[0.4901374578475952,-1.193772315979004,-1.3112003803253174,2.0537900924682617,0.07248792052268982,0.44887876510620117,-1.937193751335144,2.053199052810669,-8.087684631347656],\"type\":\"scatter\"},{\"line\":{\"color\":\"black\",\"width\":0.5},\"opacity\":0.2,\"x\":[1,2,3,4,5,6,7,8,9],\"y\":[-1.0136929750442505,2.484498977661133,-0.23668743669986725,-0.15654391050338745,-0.3281385898590088,-0.7010452747344971,1.2198734283447266,-2.7090444564819336,6.36661434173584],\"type\":\"scatter\"},{\"line\":{\"color\":\"black\",\"width\":0.5},\"opacity\":0.2,\"x\":[1,2,3,4,5,6,7,8,9],\"y\":[1.8045308589935303,15.43415355682373,2.073949098587036,29.59058952331543,-1.8361454010009766,8.211275100708008,21.92969512939453,3.1941142082214355,28.936595916748047],\"type\":\"scatter\"},{\"line\":{\"color\":\"black\",\"width\":0.5},\"opacity\":0.2,\"x\":[1,2,3,4,5,6,7,8,9],\"y\":[-30.896038055419922,-3.6894402503967285,-4.384142875671387,-68.36692810058594,-3.896253824234009,-21.988943099975586,-13.896994590759277,-45.237091064453125,1.5555768013000488],\"type\":\"scatter\"},{\"line\":{\"color\":\"black\",\"width\":0.5},\"opacity\":0.2,\"x\":[1,2,3,4,5,6,7,8,9],\"y\":[-3.71127986907959,4.587449073791504,-1.5846890211105347,-8.19250774383545,-0.31431132555007935,-3.8850626945495605,2.1663312911987305,-19.574111938476562,11.305809020996094],\"type\":\"scatter\"},{\"line\":{\"color\":\"black\",\"width\":0.5},\"opacity\":0.2,\"x\":[1,2,3,4,5,6,7,8,9],\"y\":[-15.517123222351074,-9.217778205871582,-7.606756210327148,-47.42366027832031,-8.226968765258789,-20.91903305053711,-8.534772872924805,-33.81669235229492,-36.860504150390625],\"type\":\"scatter\"},{\"line\":{\"color\":\"black\",\"width\":0.5},\"opacity\":0.2,\"x\":[1,2,3,4,5,6,7,8,9],\"y\":[-5.829217910766602,-10.2671537399292,-1.0251736640930176,-42.060489654541016,-6.142951965332031,-21.641250610351562,-9.280052185058594,-25.43604278564453,-3.2569918632507324],\"type\":\"scatter\"},{\"line\":{\"color\":\"black\",\"width\":0.5},\"opacity\":0.2,\"x\":[1,2,3,4,5,6,7,8,9],\"y\":[-1.7255326509475708,-7.979921340942383,-1.5420594215393066,-13.449148178100586,-3.8109185695648193,-8.301568031311035,-6.837897300720215,-3.428755760192871,-19.557172775268555],\"type\":\"scatter\"},{\"line\":{\"color\":\"black\",\"width\":0.5},\"opacity\":0.2,\"x\":[1,2,3,4,5,6,7,8,9],\"y\":[-16.621728897094727,8.152521133422852,-8.246296882629395,-19.894886016845703,-2.6519851684570312,-5.935646057128906,-8.429115295410156,-26.271133422851562,1.869218349456787],\"type\":\"scatter\"},{\"line\":{\"color\":\"black\",\"width\":0.5},\"opacity\":0.2,\"x\":[1,2,3,4,5,6,7,8,9],\"y\":[4.0096330642700195,1.4062610864639282,-1.6245062351226807,9.200386047363281,1.6176953315734863,3.008615732192993,4.1792216300964355,6.986048698425293,-3.477139472961426],\"type\":\"scatter\"},{\"line\":{\"color\":\"black\",\"width\":0.5},\"opacity\":0.2,\"x\":[1,2,3,4,5,6,7,8,9],\"y\":[0.959953784942627,-10.292320251464844,1.751402497291565,-19.236984252929688,0.45573294162750244,-3.3221304416656494,-10.446733474731445,2.3615562915802,-17.493423461914062],\"type\":\"scatter\"},{\"line\":{\"color\":\"black\",\"width\":0.5},\"opacity\":0.2,\"x\":[1,2,3,4,5,6,7,8,9],\"y\":[-0.24672096967697144,1.3949143886566162,0.18663406372070312,-1.0960015058517456,-0.5608805418014526,-1.6075937747955322,1.9140874147415161,-2.924689292907715,3.128175735473633],\"type\":\"scatter\"},{\"line\":{\"color\":\"black\",\"width\":0.5},\"opacity\":0.2,\"x\":[1,2,3,4,5,6,7,8,9],\"y\":[-6.84768009185791,-8.537344932556152,-6.529300689697266,-11.044107437133789,-8.374286651611328,-6.066690444946289,2.8101110458374023,-3.2491745948791504,-24.109230041503906],\"type\":\"scatter\"},{\"line\":{\"color\":\"black\",\"width\":0.5},\"opacity\":0.2,\"x\":[1,2,3,4,5,6,7,8,9],\"y\":[0.9398846626281738,5.605659484863281,0.08920907974243164,8.173788070678711,-0.6162320971488953,1.2176984548568726,4.647735595703125,0.06578207015991211,5.233616828918457],\"type\":\"scatter\"},{\"line\":{\"color\":\"black\",\"width\":0.5},\"opacity\":0.2,\"x\":[1,2,3,4,5,6,7,8,9],\"y\":[1.6132678985595703,1.7050466537475586,3.8419041633605957,28.78803253173828,0.8098171949386597,10.833995819091797,-5.01861047744751,25.31060218811035,4.158897399902344],\"type\":\"scatter\"},{\"line\":{\"color\":\"black\",\"width\":0.5},\"opacity\":0.2,\"x\":[1,2,3,4,5,6,7,8,9],\"y\":[-21.501880645751953,4.664714813232422,-11.967677116394043,-29.62490463256836,-9.477998733520508,-13.963801383972168,5.08125114440918,-34.139244079589844,-2.20700740814209],\"type\":\"scatter\"},{\"line\":{\"color\":\"black\",\"width\":0.5},\"opacity\":0.2,\"x\":[1,2,3,4,5,6,7,8,9],\"y\":[4.5455145835876465,9.95438289642334,1.1538609266281128,25.0221004486084,3.0270557403564453,11.064116477966309,9.085383415222168,11.258615493774414,22.97347068786621],\"type\":\"scatter\"},{\"line\":{\"color\":\"black\",\"width\":0.5},\"opacity\":0.2,\"x\":[1,2,3,4,5,6,7,8,9],\"y\":[-19.543119430541992,18.863422393798828,-6.8220906257629395,-23.843652725219727,-5.972940921783447,-13.435543060302734,16.61540985107422,-41.02383804321289,55.43443298339844],\"type\":\"scatter\"},{\"line\":{\"color\":\"black\",\"width\":0.5},\"opacity\":0.2,\"x\":[1,2,3,4,5,6,7,8,9],\"y\":[-4.3427934646606445,7.198729515075684,-5.434871673583984,3.2707204818725586,-2.5438311100006104,-4.069840431213379,5.2966837882995605,-14.8267183303833,-0.08857965469360352],\"type\":\"scatter\"},{\"line\":{\"color\":\"black\",\"width\":0.5},\"opacity\":0.2,\"x\":[1,2,3,4,5,6,7,8,9],\"y\":[0.06187605857849121,5.544933795928955,-0.6079610586166382,7.6238112449646,2.3824422359466553,5.773344993591309,10.203940391540527,1.1691343784332275,11.062456130981445],\"type\":\"scatter\"},{\"line\":{\"color\":\"black\",\"width\":0.5},\"opacity\":0.2,\"x\":[1,2,3,4,5,6,7,8,9],\"y\":[-8.630316734313965,-13.453600883483887,-2.0822594165802,-33.586795806884766,-1.2810649871826172,-11.797595977783203,-11.781540870666504,-15.730478286743164,-20.065414428710938],\"type\":\"scatter\"},{\"line\":{\"color\":\"black\",\"width\":0.5},\"opacity\":0.2,\"x\":[1,2,3,4,5,6,7,8,9],\"y\":[-8.51807689666748,-1.6946402788162231,-1.0281777381896973,-23.887069702148438,0.5314463973045349,-3.2695765495300293,-5.498598098754883,-20.07813835144043,-6.887367248535156],\"type\":\"scatter\"},{\"line\":{\"color\":\"black\",\"width\":0.5},\"opacity\":0.2,\"x\":[1,2,3,4,5,6,7,8,9],\"y\":[1.54371976852417,-5.674417495727539,1.5905945301055908,-0.36934375762939453,0.5368036031723022,1.3059382438659668,-7.012056350708008,8.122092247009277,-13.645618438720703],\"type\":\"scatter\"},{\"line\":{\"color\":\"black\",\"width\":0.5},\"opacity\":0.2,\"x\":[1,2,3,4,5,6,7,8,9],\"y\":[-1.4128152132034302,-4.152661323547363,-0.5645701885223389,-12.799734115600586,-0.7181684970855713,-5.113222122192383,-4.734126091003418,-6.810162544250488,-7.8482208251953125],\"type\":\"scatter\"},{\"line\":{\"color\":\"black\",\"width\":0.5},\"opacity\":0.2,\"x\":[1,2,3,4,5,6,7,8,9],\"y\":[-6.332855224609375,-4.058418273925781,-1.0814456939697266,-25.862979888916016,-1.703546166419983,-10.746397972106934,-2.1991093158721924,-19.898317337036133,-2.735161781311035],\"type\":\"scatter\"},{\"line\":{\"color\":\"black\",\"width\":0.5},\"opacity\":0.2,\"x\":[1,2,3,4,5,6,7,8,9],\"y\":[12.161264419555664,-4.5626115798950195,5.577633857727051,7.489708423614502,5.427488327026367,4.821720123291016,-3.4388697147369385,11.210787773132324,-4.223529815673828],\"type\":\"scatter\"},{\"line\":{\"color\":\"black\",\"width\":0.5},\"opacity\":0.2,\"x\":[1,2,3,4,5,6,7,8,9],\"y\":[13.307168960571289,5.071131229400635,2.808898448944092,54.220787048339844,2.5697224140167236,22.039592742919922,4.742955684661865,39.58191680908203,1.3578307628631592],\"type\":\"scatter\"},{\"line\":{\"color\":\"black\",\"width\":0.5},\"opacity\":0.2,\"x\":[1,2,3,4,5,6,7,8,9],\"y\":[17.90438461303711,-4.478973388671875,5.770955562591553,23.832950592041016,7.224937915802002,11.153369903564453,-6.054708003997803,31.138307571411133,-7.025515556335449],\"type\":\"scatter\"},{\"line\":{\"color\":\"black\",\"width\":0.5},\"opacity\":0.2,\"x\":[1,2,3,4,5,6,7,8,9],\"y\":[10.573751449584961,12.339439392089844,4.475702285766602,44.18785858154297,2.572493553161621,15.439659118652344,19.700206756591797,23.534679412841797,33.818931579589844],\"type\":\"scatter\"},{\"line\":{\"color\":\"black\",\"width\":0.5},\"opacity\":0.2,\"x\":[1,2,3,4,5,6,7,8,9],\"y\":[9.371683120727539,-6.8950910568237305,5.845205783843994,3.9602770805358887,2.790808916091919,1.7334446907043457,-5.578977584838867,10.520990371704102,-15.719024658203125],\"type\":\"scatter\"},{\"line\":{\"color\":\"black\",\"width\":0.5},\"opacity\":0.2,\"x\":[1,2,3,4,5,6,7,8,9],\"y\":[-2.3574631214141846,-5.19750452041626,0.4303843677043915,-22.88533592224121,-1.9896951913833618,-10.855021476745605,-3.9946036338806152,-14.366412162780762,-15.082297325134277],\"type\":\"scatter\"},{\"line\":{\"color\":\"black\",\"width\":0.5},\"opacity\":0.2,\"x\":[1,2,3,4,5,6,7,8,9],\"y\":[-13.894255638122559,7.005741119384766,-4.543374061584473,-23.08748435974121,-9.944160461425781,-16.89307403564453,9.289287567138672,-30.129226684570312,17.428571701049805],\"type\":\"scatter\"},{\"line\":{\"color\":\"black\",\"width\":0.5},\"opacity\":0.2,\"x\":[1,2,3,4,5,6,7,8,9],\"y\":[-0.25162485241889954,10.932958602905273,0.4305019974708557,9.292333602905273,-1.4689959287643433,-5.205270767211914,6.932236194610596,-0.9320317506790161,14.282252311706543],\"type\":\"scatter\"},{\"line\":{\"color\":\"black\",\"width\":0.5},\"opacity\":0.2,\"x\":[1,2,3,4,5,6,7,8,9],\"y\":[-6.501221179962158,-4.281728267669678,-1.4784157276153564,-23.011539459228516,1.9345606565475464,2.539019823074341,-17.226234436035156,-1.8934812545776367,-12.198537826538086],\"type\":\"scatter\"},{\"line\":{\"color\":\"black\",\"width\":0.5},\"opacity\":0.2,\"x\":[1,2,3,4,5,6,7,8,9],\"y\":[-6.722751617431641,-0.6474900245666504,5.422292709350586,-11.525432586669922,-1.2595103979110718,-3.9855926036834717,-6.445862293243408,-6.236183166503906,-4.046794414520264],\"type\":\"scatter\"},{\"line\":{\"color\":\"black\",\"width\":0.5},\"opacity\":0.2,\"x\":[1,2,3,4,5,6,7,8,9],\"y\":[11.563694953918457,-7.15103006362915,2.0339248180389404,-0.8895587921142578,6.909218788146973,4.37648868560791,1.1811373233795166,12.27524185180664,10.361881256103516],\"type\":\"scatter\"},{\"line\":{\"color\":\"black\",\"width\":0.5},\"opacity\":0.2,\"x\":[1,2,3,4,5,6,7,8,9],\"y\":[-16.535480499267578,9.126208305358887,-10.53525447845459,2.5210981369018555,0.6276764273643494,13.499744415283203,11.979762077331543,-3.5536811351776123,13.727888107299805],\"type\":\"scatter\"},{\"line\":{\"color\":\"black\",\"width\":0.5},\"opacity\":0.2,\"x\":[1,2,3,4,5,6,7,8,9],\"y\":[-5.193878173828125,-2.5204875469207764,-1.0911718606948853,-7.718435287475586,0.945245087146759,1.5422286987304688,-0.7237105369567871,-2.187077522277832,7.199892520904541],\"type\":\"scatter\"},{\"line\":{\"color\":\"black\",\"width\":0.5},\"opacity\":0.2,\"x\":[1,2,3,4,5,6,7,8,9],\"y\":[0.7475154995918274,-5.373622894287109,0.37358394265174866,-13.688681602478027,-1.930741786956787,-8.158109664916992,-3.261908769607544,-6.368803024291992,-7.92904806137085],\"type\":\"scatter\"},{\"line\":{\"color\":\"black\",\"width\":0.5},\"opacity\":0.2,\"x\":[1,2,3,4,5,6,7,8,9],\"y\":[26.04751205444336,-4.3895111083984375,8.30983829498291,43.66484069824219,4.384708404541016,13.784032821655273,3.8060390949249268,39.659339904785156,-25.624774932861328],\"type\":\"scatter\"},{\"line\":{\"color\":\"black\",\"width\":0.5},\"opacity\":0.2,\"x\":[1,2,3,4,5,6,7,8,9],\"y\":[-15.604288101196289,-0.6008538603782654,-3.8989124298095703,-27.525503158569336,-2.5182414054870605,-7.141284465789795,-2.095811367034912,-22.139385223388672,6.172717094421387],\"type\":\"scatter\"},{\"line\":{\"color\":\"black\",\"width\":0.5},\"opacity\":0.2,\"x\":[1,2,3,4,5,6,7,8,9],\"y\":[-22.792951583862305,7.969723224639893,-14.670708656311035,-26.487796783447266,-4.298165798187256,-9.337681770324707,3.1925556659698486,-26.374313354492188,7.059090614318848],\"type\":\"scatter\"},{\"line\":{\"color\":\"black\",\"width\":0.5},\"opacity\":0.2,\"x\":[1,2,3,4,5,6,7,8,9],\"y\":[-19.423357009887695,-2.5148730278015137,-9.41610336303711,-46.74165344238281,-6.715325355529785,-19.45697021484375,-4.763501167297363,-37.72747039794922,-6.857674598693848],\"type\":\"scatter\"},{\"line\":{\"color\":\"black\",\"width\":0.5},\"opacity\":0.2,\"x\":[1,2,3,4,5,6,7,8,9],\"y\":[-31.213794708251953,-36.36803436279297,-13.088065147399902,-124.19266510009766,-3.040524959564209,-37.290496826171875,-46.48542022705078,-55.59650421142578,-60.574058532714844],\"type\":\"scatter\"},{\"line\":{\"color\":\"black\",\"width\":0.5},\"opacity\":0.2,\"x\":[1,2,3,4,5,6,7,8,9],\"y\":[6.634377956390381,-6.079104423522949,3.4107015132904053,3.405449867248535,4.214300632476807,4.882284641265869,-8.895042419433594,12.763896942138672,-13.667438507080078],\"type\":\"scatter\"},{\"line\":{\"color\":\"black\",\"width\":0.5},\"opacity\":0.2,\"x\":[1,2,3,4,5,6,7,8,9],\"y\":[2.849140167236328,-7.697459697723389,8.041095733642578,-23.494037628173828,0.4524654150009155,-7.787212371826172,-12.991641998291016,-16.265399932861328,-15.456487655639648],\"type\":\"scatter\"},{\"line\":{\"color\":\"black\",\"width\":0.5},\"opacity\":0.2,\"x\":[1,2,3,4,5,6,7,8,9],\"y\":[-6.175517559051514,0.7897925972938538,-3.7798335552215576,-4.889327526092529,-1.4313507080078125,0.49225354194641113,2.3182196617126465,-2.591386079788208,8.39885139465332],\"type\":\"scatter\"},{\"line\":{\"color\":\"black\",\"width\":0.5},\"opacity\":0.2,\"x\":[1,2,3,4,5,6,7,8,9],\"y\":[-18.073444366455078,-4.5413312911987305,-11.786014556884766,-35.234405517578125,-2.247483253479004,-8.847509384155273,-9.242120742797852,-14.987945556640625,-11.983909606933594],\"type\":\"scatter\"},{\"line\":{\"color\":\"black\",\"width\":0.5},\"opacity\":0.2,\"x\":[1,2,3,4,5,6,7,8,9],\"y\":[12.873515129089355,-19.359786987304688,3.157134532928467,-16.276561737060547,0.8074342012405396,-6.662978172302246,-12.474997520446777,1.0875358581542969,-38.23426818847656],\"type\":\"scatter\"},{\"line\":{\"color\":\"black\",\"width\":0.5},\"opacity\":0.2,\"x\":[1,2,3,4,5,6,7,8,9],\"y\":[1.2414276599884033,3.1056108474731445,-2.061819314956665,23.614286422729492,-1.0042874813079834,8.75883674621582,5.518495559692383,11.159481048583984,-5.097268104553223],\"type\":\"scatter\"},{\"line\":{\"color\":\"black\",\"width\":0.5},\"opacity\":0.2,\"x\":[1,2,3,4,5,6,7,8,9],\"y\":[0.4864637851715088,-4.3215532302856445,-1.4200321435928345,-4.041288375854492,-1.1497571468353271,-0.5790848731994629,-6.209926605224609,0.06586503982543945,-10.170246124267578],\"type\":\"scatter\"},{\"line\":{\"color\":\"black\",\"width\":0.5},\"opacity\":0.2,\"x\":[1,2,3,4,5,6,7,8,9],\"y\":[-1.3298797607421875,6.361669540405273,1.1724607944488525,12.649827003479004,2.788712739944458,6.965143203735352,3.4210102558135986,7.645996570587158,15.35411548614502],\"type\":\"scatter\"},{\"line\":{\"color\":\"black\",\"width\":0.5},\"opacity\":0.2,\"x\":[1,2,3,4,5,6,7,8,9],\"y\":[-5.122418403625488,1.5240836143493652,-4.461445331573486,-1.7818248271942139,-4.271272659301758,-3.6103897094726562,2.1146044731140137,-5.409478187561035,4.922775745391846],\"type\":\"scatter\"},{\"line\":{\"color\":\"black\",\"width\":0.5},\"opacity\":0.2,\"x\":[1,2,3,4,5,6,7,8,9],\"y\":[4.9046735763549805,2.5218019485473633,2.569183349609375,20.174606323242188,0.8346067070960999,8.084226608276367,3.8123514652252197,12.012957572937012,-0.9455902576446533],\"type\":\"scatter\"},{\"line\":{\"color\":\"black\",\"width\":0.5},\"opacity\":0.2,\"x\":[1,2,3,4,5,6,7,8,9],\"y\":[6.095745086669922,5.231781959533691,2.783761739730835,17.816347122192383,0.5809608697891235,5.418179988861084,7.2900190353393555,3.360255479812622,18.01561737060547],\"type\":\"scatter\"},{\"line\":{\"color\":\"black\",\"width\":0.5},\"opacity\":0.2,\"x\":[1,2,3,4,5,6,7,8,9],\"y\":[20.71421241760254,7.168715000152588,9.270161628723145,52.74913024902344,3.321352958679199,14.075712203979492,0.9716658592224121,30.770572662353516,-1.5532135963439941],\"type\":\"scatter\"},{\"line\":{\"color\":\"black\",\"width\":0.5},\"opacity\":0.2,\"x\":[1,2,3,4,5,6,7,8,9],\"y\":[3.6911513805389404,-3.762002944946289,1.8579685688018799,-5.621981620788574,-0.5971248149871826,-3.560204267501831,-3.315992593765259,1.8052774667739868,-3.652160167694092],\"type\":\"scatter\"},{\"line\":{\"color\":\"black\",\"width\":0.5},\"opacity\":0.2,\"x\":[1,2,3,4,5,6,7,8,9],\"y\":[-0.9609823226928711,4.088725566864014,-1.7265772819519043,7.196208953857422,0.7246127128601074,2.4464917182922363,3.0477242469787598,2.8907203674316406,4.083371162414551],\"type\":\"scatter\"},{\"line\":{\"color\":\"black\",\"width\":0.5},\"opacity\":0.2,\"x\":[1,2,3,4,5,6,7,8,9],\"y\":[0.49674201011657715,-21.15928840637207,2.5858123302459717,-34.95018005371094,-1.482669711112976,-12.797813415527344,-31.313257217407227,-2.420600414276123,-34.09081268310547],\"type\":\"scatter\"},{\"line\":{\"color\":\"black\",\"width\":0.5},\"opacity\":0.2,\"x\":[1,2,3,4,5,6,7,8,9],\"y\":[-5.057392597198486,14.232812881469727,-1.9446907043457031,12.9611234664917,1.039178490638733,7.053915023803711,10.938985824584961,-0.4299936294555664,25.01656150817871],\"type\":\"scatter\"},{\"line\":{\"color\":\"black\",\"width\":0.5},\"opacity\":0.2,\"x\":[1,2,3,4,5,6,7,8,9],\"y\":[1.8804906606674194,-2.342884063720703,-0.15120935440063477,-0.35625457763671875,-1.8679561614990234,-2.7929413318634033,0.4815840721130371,2.7596209049224854,-14.356237411499023],\"type\":\"scatter\"},{\"line\":{\"color\":\"black\",\"width\":0.5},\"opacity\":0.2,\"x\":[1,2,3,4,5,6,7,8,9],\"y\":[-4.696964263916016,-7.809144020080566,-2.482445240020752,-21.44243049621582,-3.590151071548462,-6.683905124664307,0.783503532409668,-18.58191680908203,12.594165802001953],\"type\":\"scatter\"},{\"line\":{\"color\":\"black\",\"width\":0.5},\"opacity\":0.2,\"x\":[1,2,3,4,5,6,7,8,9],\"y\":[-5.1177077293396,3.2867727279663086,-1.4437894821166992,-7.061187744140625,-3.0131583213806152,-4.954843044281006,3.5029449462890625,-10.169275283813477,2.1152615547180176],\"type\":\"scatter\"},{\"line\":{\"color\":\"black\",\"width\":0.5},\"opacity\":0.2,\"x\":[1,2,3,4,5,6,7,8,9],\"y\":[1.1785815954208374,0.9044768810272217,0.4266369640827179,3.5745620727539062,0.4648821949958801,1.0186948776245117,0.7253126502037048,1.6430729627609253,0.8366583585739136],\"type\":\"scatter\"},{\"line\":{\"color\":\"black\",\"width\":0.5},\"opacity\":0.2,\"x\":[1,2,3,4,5,6,7,8,9],\"y\":[14.454487800598145,-0.7779769897460938,3.7407572269439697,30.68613052368164,-4.755858898162842,-0.08906865119934082,5.316592216491699,23.055728912353516,-2.028491973876953],\"type\":\"scatter\"},{\"line\":{\"color\":\"black\",\"width\":0.5},\"opacity\":0.2,\"x\":[1,2,3,4,5,6,7,8,9],\"y\":[-1.1174418926239014,2.0348117351531982,-0.5061442255973816,0.8449470400810242,-0.7271116971969604,-0.19565007090568542,2.381483316421509,-2.0606701374053955,2.867828369140625],\"type\":\"scatter\"},{\"line\":{\"color\":\"black\",\"width\":0.5},\"opacity\":0.2,\"x\":[1,2,3,4,5,6,7,8,9],\"y\":[-0.14724254608154297,14.817342758178711,-1.4614323377609253,23.234371185302734,0.5566888451576233,5.121101379394531,20.966875076293945,6.74265193939209,21.324193954467773],\"type\":\"scatter\"},{\"line\":{\"color\":\"black\",\"width\":0.5},\"opacity\":0.2,\"x\":[1,2,3,4,5,6,7,8,9],\"y\":[-5.989602088928223,-8.654756546020508,-1.5123764276504517,-22.286516189575195,0.42890697717666626,-4.435997009277344,-14.526568412780762,-9.105987548828125,-26.63263511657715],\"type\":\"scatter\"},{\"line\":{\"color\":\"black\",\"width\":0.5},\"opacity\":0.2,\"x\":[1,2,3,4,5,6,7,8,9],\"y\":[15.047972679138184,-4.963442802429199,2.0160977840423584,16.185794830322266,1.0646086931228638,2.515960216522217,-0.150146484375,23.39452362060547,-22.313875198364258],\"type\":\"scatter\"},{\"line\":{\"color\":\"black\",\"width\":0.5},\"opacity\":0.2,\"x\":[1,2,3,4,5,6,7,8,9],\"y\":[-9.351325988769531,-3.2077414989471436,-1.5839436054229736,-23.41687774658203,-4.337264060974121,-8.949535369873047,-4.539324760437012,-6.946052074432373,-6.3419342041015625],\"type\":\"scatter\"},{\"line\":{\"color\":\"black\",\"width\":0.5},\"opacity\":0.2,\"x\":[1,2,3,4,5,6,7,8,9],\"y\":[7.559081077575684,-1.44545578956604,4.016161918640137,15.7775297164917,0.5807934999465942,5.0490546226501465,1.349056601524353,12.994563102722168,-1.0566086769104004],\"type\":\"scatter\"},{\"line\":{\"color\":\"black\",\"width\":0.5},\"opacity\":0.2,\"x\":[1,2,3,4,5,6,7,8,9],\"y\":[35.25675964355469,10.377864837646484,22.892120361328125,110.06692504882812,16.048749923706055,48.259735107421875,10.914824485778809,92.73809814453125,14.09168815612793],\"type\":\"scatter\"},{\"line\":{\"color\":\"black\",\"width\":0.5},\"opacity\":0.2,\"x\":[1,2,3,4,5,6,7,8,9],\"y\":[11.909700393676758,-17.426122665405273,8.418071746826172,-16.021909713745117,4.509608268737793,-2.387291431427002,-15.699759483337402,-4.526392936706543,-20.749086380004883],\"type\":\"scatter\"},{\"line\":{\"color\":\"black\",\"width\":0.5},\"opacity\":0.2,\"x\":[1,2,3,4,5,6,7,8,9],\"y\":[7.128658294677734,-2.283639430999756,6.6338019371032715,-0.24577713012695312,2.4995920658111572,-2.2049946784973145,-6.389536380767822,2.1478066444396973,-9.560283660888672],\"type\":\"scatter\"},{\"line\":{\"color\":\"black\",\"width\":0.5},\"opacity\":0.2,\"x\":[1,2,3,4,5,6,7,8,9],\"y\":[24.927711486816406,2.8582558631896973,9.412720680236816,30.316604614257812,11.205488204956055,9.724288940429688,-1.7693328857421875,24.224245071411133,3.011061668395996],\"type\":\"scatter\"},{\"line\":{\"color\":\"black\",\"width\":0.5},\"opacity\":0.2,\"x\":[1,2,3,4,5,6,7,8,9],\"y\":[-11.184904098510742,-0.04642224311828613,-4.83213996887207,-20.501291275024414,-3.6713309288024902,-7.333945274353027,1.9010255336761475,-12.850172996520996,9.41526985168457],\"type\":\"scatter\"},{\"line\":{\"color\":\"black\",\"width\":0.5},\"opacity\":0.2,\"x\":[1,2,3,4,5,6,7,8,9],\"y\":[5.951743125915527,2.464376449584961,4.910766124725342,16.195920944213867,5.0070695877075195,7.697201728820801,-4.170721530914307,15.197556495666504,4.944221019744873],\"type\":\"scatter\"},{\"line\":{\"color\":\"black\",\"width\":0.5},\"opacity\":0.2,\"x\":[1,2,3,4,5,6,7,8,9],\"y\":[21.636123657226562,45.8028564453125,8.939258575439453,116.39079284667969,5.531955242156982,43.13676071166992,51.870140075683594,47.073265075683594,97.81414031982422],\"type\":\"scatter\"},{\"line\":{\"color\":\"black\",\"width\":0.5},\"opacity\":0.2,\"x\":[1,2,3,4,5,6,7,8,9],\"y\":[14.909377098083496,-5.015631198883057,6.871084690093994,22.492172241210938,4.762026309967041,9.70068359375,-4.72287130355835,25.528766632080078,-14.315486907958984],\"type\":\"scatter\"},{\"line\":{\"color\":\"black\",\"width\":0.5},\"opacity\":0.2,\"x\":[1,2,3,4,5,6,7,8,9],\"y\":[-6.220619201660156,9.754192352294922,0.16137439012527466,0.5123193264007568,-4.493732452392578,-3.950289249420166,15.256307601928711,-13.56265640258789,34.225181579589844],\"type\":\"scatter\"},{\"line\":{\"color\":\"black\",\"width\":0.5},\"opacity\":0.2,\"x\":[1,2,3,4,5,6,7,8,9],\"y\":[2.3357596397399902,-8.404618263244629,1.9307948350906372,-17.94449234008789,0.42445647716522217,-8.053426742553711,-8.929414749145508,-0.17315340042114258,-10.61884880065918],\"type\":\"scatter\"},{\"line\":{\"color\":\"black\",\"width\":0.5},\"opacity\":0.2,\"x\":[1,2,3,4,5,6,7,8,9],\"y\":[29.525266647338867,33.20074462890625,12.657633781433105,105.60525512695312,3.701676845550537,30.49026107788086,47.384490966796875,46.284542083740234,68.1344223022461],\"type\":\"scatter\"},{\"line\":{\"color\":\"black\",\"width\":0.5},\"opacity\":0.2,\"x\":[1,2,3,4,5,6,7,8,9],\"y\":[21.86306381225586,16.356996536254883,7.493224620819092,86.64401245117188,4.9385085105896,32.178157806396484,20.623109817504883,53.938201904296875,9.747088432312012],\"type\":\"scatter\"},{\"line\":{\"color\":\"black\",\"width\":0.5},\"opacity\":0.2,\"x\":[1,2,3,4,5,6,7,8,9],\"y\":[-2.400747776031494,-2.065455913543701,-3.6972289085388184,-2.1187744140625,-2.1451828479766846,-3.0113511085510254,-1.4180927276611328,-2.6486377716064453,-17.117534637451172],\"type\":\"scatter\"},{\"line\":{\"color\":\"black\",\"width\":0.5},\"opacity\":0.2,\"x\":[1,2,3,4,5,6,7,8,9],\"y\":[3.075908660888672,1.740675687789917,1.0908443927764893,13.33284854888916,-0.11252444982528687,4.414899826049805,2.681018352508545,8.58614730834961,5.810088634490967],\"type\":\"scatter\"},{\"line\":{\"color\":\"black\",\"width\":0.5},\"opacity\":0.2,\"x\":[1,2,3,4,5,6,7,8,9],\"y\":[36.400875091552734,-11.656181335449219,19.114154815673828,90.2830581665039,15.489970207214355,49.166954040527344,-15.523756980895996,84.21337890625,-40.041587829589844],\"type\":\"scatter\"},{\"line\":{\"color\":\"black\",\"width\":0.5},\"opacity\":0.2,\"x\":[1,2,3,4,5,6,7,8,9],\"y\":[-13.331441879272461,-8.87027359008789,-7.393871784210205,-41.11048126220703,-4.721753120422363,-14.63853931427002,-4.3831987380981445,-25.40615463256836,1.6165354251861572],\"type\":\"scatter\"},{\"line\":{\"color\":\"black\",\"width\":0.5},\"opacity\":0.2,\"x\":[1,2,3,4,5,6,7,8,9],\"y\":[10.461870193481445,13.758344650268555,5.532948970794678,44.536521911621094,1.1163558959960938,14.296222686767578,19.25652503967285,15.938502311706543,28.889049530029297],\"type\":\"scatter\"},{\"line\":{\"color\":\"black\",\"width\":0.5},\"opacity\":0.2,\"x\":[1,2,3,4,5,6,7,8,9],\"y\":[5.637711048126221,-2.4064865112304688,7.237550258636475,1.8599987030029297,4.3228349685668945,4.662136077880859,-9.710283279418945,4.584475994110107,-13.214832305908203],\"type\":\"scatter\"},{\"line\":{\"color\":\"black\",\"width\":0.5},\"opacity\":0.2,\"x\":[1,2,3,4,5,6,7,8,9],\"y\":[4.459389686584473,-0.8188059329986572,1.1286427974700928,12.022960662841797,2.3463339805603027,6.8692498207092285,0.3602907657623291,6.065316200256348,-6.914150238037109],\"type\":\"scatter\"},{\"line\":{\"color\":\"black\",\"width\":0.5},\"opacity\":0.2,\"x\":[1,2,3,4,5,6,7,8,9],\"y\":[51.827537536621094,-0.1366192102432251,21.939926147460938,109.15489196777344,15.954269409179688,43.83356475830078,8.423511505126953,93.47693634033203,-6.584563255310059],\"type\":\"scatter\"},{\"line\":{\"color\":\"black\",\"width\":0.5},\"opacity\":0.2,\"x\":[1,2,3,4,5,6,7,8,9],\"y\":[12.069826126098633,-13.237258911132812,8.490778923034668,4.002618312835693,2.9742159843444824,2.850311040878296,-14.7340726852417,2.9927284717559814,-32.51814270019531],\"type\":\"scatter\"},{\"line\":{\"color\":\"black\",\"width\":0.5},\"opacity\":0.2,\"x\":[1,2,3,4,5,6,7,8,9],\"y\":[-28.843955993652344,3.179356098175049,-10.116033554077148,-53.3950080871582,-6.864882946014404,-12.235607147216797,-6.214242935180664,-48.90813446044922,1.2367849349975586],\"type\":\"scatter\"},{\"line\":{\"color\":\"black\",\"width\":0.5},\"opacity\":0.2,\"x\":[1,2,3,4,5,6,7,8,9],\"y\":[25.581920623779297,-29.0429630279541,13.937102317810059,26.87729263305664,11.795533180236816,21.950389862060547,-32.322235107421875,61.121788024902344,-68.37202453613281],\"type\":\"scatter\"},{\"line\":{\"color\":\"black\",\"width\":0.5},\"opacity\":0.2,\"x\":[1,2,3,4,5,6,7,8,9],\"y\":[-20.83481216430664,1.2874817848205566,-0.22028541564941406,-50.749595642089844,-2.39776611328125,-13.689070701599121,-12.082539558410645,-35.58088684082031,7.334681510925293],\"type\":\"scatter\"},{\"line\":{\"color\":\"black\",\"width\":0.5},\"opacity\":0.2,\"x\":[1,2,3,4,5,6,7,8,9],\"y\":[-20.123489379882812,-9.245418548583984,-12.116917610168457,-64.47654724121094,-7.158895969390869,-24.450008392333984,-7.678983211517334,-45.085960388183594,-13.240793228149414],\"type\":\"scatter\"},{\"line\":{\"color\":\"black\",\"width\":0.5},\"opacity\":0.2,\"x\":[1,2,3,4,5,6,7,8,9],\"y\":[23.77975845336914,37.61387634277344,9.633234977722168,99.09918975830078,-2.970489978790283,23.468839645385742,57.32512283325195,33.98031997680664,84.80264282226562],\"type\":\"scatter\"},{\"line\":{\"color\":\"black\",\"width\":0.5},\"opacity\":0.2,\"x\":[1,2,3,4,5,6,7,8,9],\"y\":[23.283885955810547,-1.9626514911651611,13.062997817993164,24.05199432373047,8.285442352294922,6.976629734039307,-5.049607276916504,21.325714111328125,-2.7687430381774902],\"type\":\"scatter\"},{\"line\":{\"color\":\"black\",\"width\":0.5},\"opacity\":0.2,\"x\":[1,2,3,4,5,6,7,8,9],\"y\":[-8.40063190460205,-2.01078462600708,0.7713451385498047,-46.283199310302734,-0.7557368278503418,-16.943016052246094,-5.621675491333008,-32.46690368652344,4.837726593017578],\"type\":\"scatter\"},{\"line\":{\"color\":\"black\",\"width\":0.5},\"opacity\":0.2,\"x\":[1,2,3,4,5,6,7,8,9],\"y\":[-9.03709602355957,-7.098265171051025,-4.85101842880249,-37.29029846191406,-2.7527432441711426,-14.649848937988281,-7.963716983795166,-22.21538543701172,-12.742608070373535],\"type\":\"scatter\"},{\"line\":{\"color\":\"black\",\"width\":0.5},\"opacity\":0.2,\"x\":[1,2,3,4,5,6,7,8,9],\"y\":[7.746749401092529,1.4632469415664673,0.984092652797699,21.75826072692871,1.0268710851669312,6.808242321014404,2.700915813446045,15.241035461425781,-2.491140365600586],\"type\":\"scatter\"},{\"line\":{\"color\":\"black\",\"width\":0.5},\"opacity\":0.2,\"x\":[1,2,3,4,5,6,7,8,9],\"y\":[2.429342031478882,15.970437049865723,3.0533347129821777,21.632535934448242,-5.1742939949035645,-1.7815465927124023,18.608375549316406,0.8954992294311523,25.596080780029297],\"type\":\"scatter\"},{\"line\":{\"color\":\"black\",\"width\":0.5},\"opacity\":0.2,\"x\":[1,2,3,4,5,6,7,8,9],\"y\":[-13.941694259643555,-18.753925323486328,-4.726038455963135,-72.80278778076172,-0.41491052508354187,-22.91814422607422,-24.242061614990234,-40.77166748046875,-30.202415466308594],\"type\":\"scatter\"},{\"line\":{\"color\":\"black\",\"width\":0.5},\"opacity\":0.2,\"x\":[1,2,3,4,5,6,7,8,9],\"y\":[6.415550231933594,3.937645435333252,3.0544886589050293,20.959754943847656,0.6013780832290649,7.05068826675415,6.763247489929199,13.466081619262695,7.1150336265563965],\"type\":\"scatter\"},{\"line\":{\"color\":\"black\",\"width\":0.5},\"opacity\":0.2,\"x\":[1,2,3,4,5,6,7,8,9],\"y\":[-7.633878231048584,11.869806289672852,-3.9703497886657715,-12.351219177246094,-0.7409733533859253,-6.5764851570129395,14.651861190795898,-21.211349487304688,35.1296272277832],\"type\":\"scatter\"},{\"line\":{\"color\":\"black\",\"width\":0.5},\"opacity\":0.2,\"x\":[1,2,3,4,5,6,7,8,9],\"y\":[-19.679340362548828,-16.528549194335938,-6.3021721839904785,-105.90727233886719,3.0511832237243652,-35.276546478271484,-29.045825958251953,-63.74927520751953,-22.448734283447266],\"type\":\"scatter\"},{\"line\":{\"color\":\"black\",\"width\":0.5},\"opacity\":0.2,\"x\":[1,2,3,4,5,6,7,8,9],\"y\":[2.5273070335388184,-0.6442506909370422,3.7543344497680664,10.59795093536377,0.6971626281738281,5.331909656524658,1.112115740776062,8.219329833984375,-2.5243334770202637],\"type\":\"scatter\"},{\"line\":{\"color\":\"black\",\"width\":0.5},\"opacity\":0.2,\"x\":[1,2,3,4,5,6,7,8,9],\"y\":[7.649484634399414,6.772860527038574,-1.2251217365264893,31.87824249267578,-1.7413218021392822,8.619255065917969,8.83074951171875,5.866449356079102,8.277328491210938],\"type\":\"scatter\"},{\"line\":{\"color\":\"black\",\"width\":0.5},\"opacity\":0.2,\"x\":[1,2,3,4,5,6,7,8,9],\"y\":[-7.323486328125,-30.747026443481445,6.140596866607666,-86.71075439453125,-4.930785655975342,-36.360984802246094,-27.78863525390625,-34.51906967163086,-73.00822448730469],\"type\":\"scatter\"},{\"line\":{\"color\":\"black\",\"width\":0.5},\"opacity\":0.2,\"x\":[1,2,3,4,5,6,7,8,9],\"y\":[1.746713399887085,-4.373285293579102,4.999630928039551,-10.40682601928711,3.2250425815582275,-3.296687602996826,-13.559528350830078,10.943614959716797,-10.022645950317383],\"type\":\"scatter\"},{\"line\":{\"color\":\"black\",\"width\":0.5},\"opacity\":0.2,\"x\":[1,2,3,4,5,6,7,8,9],\"y\":[-21.72213363647461,11.004687309265137,-7.112706184387207,-46.06150817871094,-6.557076454162598,-26.168140411376953,7.736638069152832,-51.285438537597656,37.58676528930664],\"type\":\"scatter\"},{\"line\":{\"color\":\"black\",\"width\":0.5},\"opacity\":0.2,\"x\":[1,2,3,4,5,6,7,8,9],\"y\":[-2.5720839500427246,-5.155525207519531,-0.6406846642494202,-14.422571182250977,0.6512970328330994,-4.153411865234375,-5.759174346923828,-6.920233726501465,-7.053041458129883],\"type\":\"scatter\"},{\"line\":{\"color\":\"black\",\"width\":0.5},\"opacity\":0.2,\"x\":[1,2,3,4,5,6,7,8,9],\"y\":[-24.881847381591797,11.392526626586914,-15.117982864379883,-21.732046127319336,-4.877304553985596,-3.411696434020996,6.377484321594238,-25.549226760864258,29.93834114074707],\"type\":\"scatter\"},{\"line\":{\"color\":\"black\",\"width\":0.5},\"opacity\":0.2,\"x\":[1,2,3,4,5,6,7,8,9],\"y\":[1.2699520587921143,-1.516204833984375,2.13961124420166,0.7873220443725586,8.46788215637207,10.415019989013672,-13.537593841552734,9.829888343811035,1.846621036529541],\"type\":\"scatter\"},{\"line\":{\"color\":\"black\",\"width\":0.5},\"opacity\":0.2,\"x\":[1,2,3,4,5,6,7,8,9],\"y\":[-44.562049865722656,-13.708113670349121,-17.66330337524414,-89.85333251953125,-12.47223949432373,-25.482616424560547,-23.491748809814453,-64.87303924560547,-46.12498474121094],\"type\":\"scatter\"},{\"line\":{\"color\":\"black\",\"width\":0.5},\"opacity\":0.2,\"x\":[1,2,3,4,5,6,7,8,9],\"y\":[9.493159294128418,19.93805694580078,1.7092711925506592,52.861568450927734,2.1782479286193848,18.594249725341797,29.902477264404297,19.42036247253418,36.34672927856445],\"type\":\"scatter\"},{\"line\":{\"color\":\"black\",\"width\":0.5},\"opacity\":0.2,\"x\":[1,2,3,4,5,6,7,8,9],\"y\":[13.451733589172363,-12.224467277526855,4.014385223388672,6.571031093597412,2.6395978927612305,3.760629415512085,-14.416479110717773,15.517321586608887,-29.041044235229492],\"type\":\"scatter\"},{\"line\":{\"color\":\"black\",\"width\":0.5},\"opacity\":0.2,\"x\":[1,2,3,4,5,6,7,8,9],\"y\":[2.8555235862731934,3.679614305496216,-2.0205459594726562,8.683267593383789,-0.77336186170578,1.4221067428588867,4.8914408683776855,3.5942554473876953,3.2491164207458496],\"type\":\"scatter\"},{\"line\":{\"color\":\"black\",\"width\":0.5},\"opacity\":0.2,\"x\":[1,2,3,4,5,6,7,8,9],\"y\":[0.9233951568603516,6.018392086029053,-0.37278446555137634,13.7069673538208,0.4435569643974304,5.43223237991333,7.127129554748535,4.133816719055176,12.486343383789062],\"type\":\"scatter\"},{\"line\":{\"color\":\"black\",\"width\":0.5},\"opacity\":0.2,\"x\":[1,2,3,4,5,6,7,8,9],\"y\":[-11.430306434631348,-1.345550775527954,-4.041076183319092,-50.13128662109375,-4.774766445159912,-24.454174041748047,2.3175697326660156,-35.834781646728516,6.351659774780273],\"type\":\"scatter\"},{\"line\":{\"color\":\"black\",\"width\":0.5},\"opacity\":0.2,\"x\":[1,2,3,4,5,6,7,8,9],\"y\":[-6.00544548034668,-5.876558303833008,-2.6503677368164062,-23.013944625854492,-0.20688703656196594,-8.673393249511719,-10.277654647827148,-11.674334526062012,-14.038662910461426],\"type\":\"scatter\"},{\"line\":{\"color\":\"black\",\"width\":0.5},\"opacity\":0.2,\"x\":[1,2,3,4,5,6,7,8,9],\"y\":[4.826630592346191,1.4984729290008545,1.2359963655471802,13.907047271728516,1.2540010213851929,5.119986534118652,3.020688056945801,10.16596794128418,2.5092175006866455],\"type\":\"scatter\"},{\"line\":{\"color\":\"black\",\"width\":0.5},\"opacity\":0.2,\"x\":[1,2,3,4,5,6,7,8,9],\"y\":[-14.033531188964844,-10.610822677612305,-9.427661895751953,-41.1827278137207,-9.678741455078125,-19.585195541381836,-15.085920333862305,-30.701059341430664,-38.25651168823242],\"type\":\"scatter\"},{\"line\":{\"color\":\"black\",\"width\":0.5},\"opacity\":0.2,\"x\":[1,2,3,4,5,6,7,8,9],\"y\":[1.6775020360946655,0.4462471008300781,-1.4289207458496094,-13.712217330932617,2.191276788711548,-4.064566135406494,-0.8192901611328125,-12.670160293579102,4.373601913452148],\"type\":\"scatter\"},{\"line\":{\"color\":\"black\",\"width\":0.5},\"opacity\":0.2,\"x\":[1,2,3,4,5,6,7,8,9],\"y\":[-1.97499418258667,7.053401947021484,-1.5825841426849365,18.480602264404297,0.5231766700744629,8.664639472961426,3.0237627029418945,8.778940200805664,-0.7249027490615845],\"type\":\"scatter\"},{\"line\":{\"color\":\"black\",\"width\":0.5},\"opacity\":0.2,\"x\":[1,2,3,4,5,6,7,8,9],\"y\":[-3.9680867195129395,-2.6822681427001953,-3.6589033603668213,-14.469171524047852,-2.211153745651245,-4.06904411315918,1.4128780364990234,-15.695587158203125,2.9713542461395264],\"type\":\"scatter\"},{\"line\":{\"color\":\"black\",\"width\":0.5},\"opacity\":0.2,\"x\":[1,2,3,4,5,6,7,8,9],\"y\":[-3.455264091491699,8.591819763183594,-4.076528072357178,9.55474853515625,0.9634561538696289,5.07546329498291,7.112796783447266,-0.4361127018928528,15.719223022460938],\"type\":\"scatter\"},{\"line\":{\"color\":\"black\",\"width\":0.5},\"opacity\":0.2,\"x\":[1,2,3,4,5,6,7,8,9],\"y\":[-4.6140851974487305,-7.561498165130615,-3.4779717922210693,-22.840484619140625,1.8388464450836182,-8.108987808227539,-13.828072547912598,-5.759100437164307,-20.173084259033203],\"type\":\"scatter\"},{\"line\":{\"color\":\"black\",\"width\":0.5},\"opacity\":0.2,\"x\":[1,2,3,4,5,6,7,8,9],\"y\":[3.231900215148926,-12.91950511932373,-1.6433082818984985,-16.803634643554688,0.14506322145462036,-1.4955286979675293,-11.553247451782227,0.5636997222900391,-16.31218910217285],\"type\":\"scatter\"},{\"line\":{\"color\":\"black\",\"width\":0.5},\"opacity\":0.2,\"x\":[1,2,3,4,5,6,7,8,9],\"y\":[5.177618980407715,-1.1247665882110596,3.719902992248535,8.987762451171875,0.2743436396121979,2.7482709884643555,1.0453822612762451,6.9403076171875,0.6617251634597778],\"type\":\"scatter\"}],                        {\"template\":{\"data\":{\"barpolar\":[{\"marker\":{\"line\":{\"color\":\"white\",\"width\":0.5},\"pattern\":{\"fillmode\":\"overlay\",\"size\":10,\"solidity\":0.2}},\"type\":\"barpolar\"}],\"bar\":[{\"error_x\":{\"color\":\"#2a3f5f\"},\"error_y\":{\"color\":\"#2a3f5f\"},\"marker\":{\"line\":{\"color\":\"white\",\"width\":0.5},\"pattern\":{\"fillmode\":\"overlay\",\"size\":10,\"solidity\":0.2}},\"type\":\"bar\"}],\"carpet\":[{\"aaxis\":{\"endlinecolor\":\"#2a3f5f\",\"gridcolor\":\"#C8D4E3\",\"linecolor\":\"#C8D4E3\",\"minorgridcolor\":\"#C8D4E3\",\"startlinecolor\":\"#2a3f5f\"},\"baxis\":{\"endlinecolor\":\"#2a3f5f\",\"gridcolor\":\"#C8D4E3\",\"linecolor\":\"#C8D4E3\",\"minorgridcolor\":\"#C8D4E3\",\"startlinecolor\":\"#2a3f5f\"},\"type\":\"carpet\"}],\"choropleth\":[{\"colorbar\":{\"outlinewidth\":0,\"ticks\":\"\"},\"type\":\"choropleth\"}],\"contourcarpet\":[{\"colorbar\":{\"outlinewidth\":0,\"ticks\":\"\"},\"type\":\"contourcarpet\"}],\"contour\":[{\"colorbar\":{\"outlinewidth\":0,\"ticks\":\"\"},\"colorscale\":[[0.0,\"#0d0887\"],[0.1111111111111111,\"#46039f\"],[0.2222222222222222,\"#7201a8\"],[0.3333333333333333,\"#9c179e\"],[0.4444444444444444,\"#bd3786\"],[0.5555555555555556,\"#d8576b\"],[0.6666666666666666,\"#ed7953\"],[0.7777777777777778,\"#fb9f3a\"],[0.8888888888888888,\"#fdca26\"],[1.0,\"#f0f921\"]],\"type\":\"contour\"}],\"heatmapgl\":[{\"colorbar\":{\"outlinewidth\":0,\"ticks\":\"\"},\"colorscale\":[[0.0,\"#0d0887\"],[0.1111111111111111,\"#46039f\"],[0.2222222222222222,\"#7201a8\"],[0.3333333333333333,\"#9c179e\"],[0.4444444444444444,\"#bd3786\"],[0.5555555555555556,\"#d8576b\"],[0.6666666666666666,\"#ed7953\"],[0.7777777777777778,\"#fb9f3a\"],[0.8888888888888888,\"#fdca26\"],[1.0,\"#f0f921\"]],\"type\":\"heatmapgl\"}],\"heatmap\":[{\"colorbar\":{\"outlinewidth\":0,\"ticks\":\"\"},\"colorscale\":[[0.0,\"#0d0887\"],[0.1111111111111111,\"#46039f\"],[0.2222222222222222,\"#7201a8\"],[0.3333333333333333,\"#9c179e\"],[0.4444444444444444,\"#bd3786\"],[0.5555555555555556,\"#d8576b\"],[0.6666666666666666,\"#ed7953\"],[0.7777777777777778,\"#fb9f3a\"],[0.8888888888888888,\"#fdca26\"],[1.0,\"#f0f921\"]],\"type\":\"heatmap\"}],\"histogram2dcontour\":[{\"colorbar\":{\"outlinewidth\":0,\"ticks\":\"\"},\"colorscale\":[[0.0,\"#0d0887\"],[0.1111111111111111,\"#46039f\"],[0.2222222222222222,\"#7201a8\"],[0.3333333333333333,\"#9c179e\"],[0.4444444444444444,\"#bd3786\"],[0.5555555555555556,\"#d8576b\"],[0.6666666666666666,\"#ed7953\"],[0.7777777777777778,\"#fb9f3a\"],[0.8888888888888888,\"#fdca26\"],[1.0,\"#f0f921\"]],\"type\":\"histogram2dcontour\"}],\"histogram2d\":[{\"colorbar\":{\"outlinewidth\":0,\"ticks\":\"\"},\"colorscale\":[[0.0,\"#0d0887\"],[0.1111111111111111,\"#46039f\"],[0.2222222222222222,\"#7201a8\"],[0.3333333333333333,\"#9c179e\"],[0.4444444444444444,\"#bd3786\"],[0.5555555555555556,\"#d8576b\"],[0.6666666666666666,\"#ed7953\"],[0.7777777777777778,\"#fb9f3a\"],[0.8888888888888888,\"#fdca26\"],[1.0,\"#f0f921\"]],\"type\":\"histogram2d\"}],\"histogram\":[{\"marker\":{\"pattern\":{\"fillmode\":\"overlay\",\"size\":10,\"solidity\":0.2}},\"type\":\"histogram\"}],\"mesh3d\":[{\"colorbar\":{\"outlinewidth\":0,\"ticks\":\"\"},\"type\":\"mesh3d\"}],\"parcoords\":[{\"line\":{\"colorbar\":{\"outlinewidth\":0,\"ticks\":\"\"}},\"type\":\"parcoords\"}],\"pie\":[{\"automargin\":true,\"type\":\"pie\"}],\"scatter3d\":[{\"line\":{\"colorbar\":{\"outlinewidth\":0,\"ticks\":\"\"}},\"marker\":{\"colorbar\":{\"outlinewidth\":0,\"ticks\":\"\"}},\"type\":\"scatter3d\"}],\"scattercarpet\":[{\"marker\":{\"colorbar\":{\"outlinewidth\":0,\"ticks\":\"\"}},\"type\":\"scattercarpet\"}],\"scattergeo\":[{\"marker\":{\"colorbar\":{\"outlinewidth\":0,\"ticks\":\"\"}},\"type\":\"scattergeo\"}],\"scattergl\":[{\"marker\":{\"colorbar\":{\"outlinewidth\":0,\"ticks\":\"\"}},\"type\":\"scattergl\"}],\"scattermapbox\":[{\"marker\":{\"colorbar\":{\"outlinewidth\":0,\"ticks\":\"\"}},\"type\":\"scattermapbox\"}],\"scatterpolargl\":[{\"marker\":{\"colorbar\":{\"outlinewidth\":0,\"ticks\":\"\"}},\"type\":\"scatterpolargl\"}],\"scatterpolar\":[{\"marker\":{\"colorbar\":{\"outlinewidth\":0,\"ticks\":\"\"}},\"type\":\"scatterpolar\"}],\"scatter\":[{\"fillpattern\":{\"fillmode\":\"overlay\",\"size\":10,\"solidity\":0.2},\"type\":\"scatter\"}],\"scatterternary\":[{\"marker\":{\"colorbar\":{\"outlinewidth\":0,\"ticks\":\"\"}},\"type\":\"scatterternary\"}],\"surface\":[{\"colorbar\":{\"outlinewidth\":0,\"ticks\":\"\"},\"colorscale\":[[0.0,\"#0d0887\"],[0.1111111111111111,\"#46039f\"],[0.2222222222222222,\"#7201a8\"],[0.3333333333333333,\"#9c179e\"],[0.4444444444444444,\"#bd3786\"],[0.5555555555555556,\"#d8576b\"],[0.6666666666666666,\"#ed7953\"],[0.7777777777777778,\"#fb9f3a\"],[0.8888888888888888,\"#fdca26\"],[1.0,\"#f0f921\"]],\"type\":\"surface\"}],\"table\":[{\"cells\":{\"fill\":{\"color\":\"#EBF0F8\"},\"line\":{\"color\":\"white\"}},\"header\":{\"fill\":{\"color\":\"#C8D4E3\"},\"line\":{\"color\":\"white\"}},\"type\":\"table\"}]},\"layout\":{\"annotationdefaults\":{\"arrowcolor\":\"#2a3f5f\",\"arrowhead\":0,\"arrowwidth\":1},\"autotypenumbers\":\"strict\",\"coloraxis\":{\"colorbar\":{\"outlinewidth\":0,\"ticks\":\"\"}},\"colorscale\":{\"diverging\":[[0,\"#8e0152\"],[0.1,\"#c51b7d\"],[0.2,\"#de77ae\"],[0.3,\"#f1b6da\"],[0.4,\"#fde0ef\"],[0.5,\"#f7f7f7\"],[0.6,\"#e6f5d0\"],[0.7,\"#b8e186\"],[0.8,\"#7fbc41\"],[0.9,\"#4d9221\"],[1,\"#276419\"]],\"sequential\":[[0.0,\"#0d0887\"],[0.1111111111111111,\"#46039f\"],[0.2222222222222222,\"#7201a8\"],[0.3333333333333333,\"#9c179e\"],[0.4444444444444444,\"#bd3786\"],[0.5555555555555556,\"#d8576b\"],[0.6666666666666666,\"#ed7953\"],[0.7777777777777778,\"#fb9f3a\"],[0.8888888888888888,\"#fdca26\"],[1.0,\"#f0f921\"]],\"sequentialminus\":[[0.0,\"#0d0887\"],[0.1111111111111111,\"#46039f\"],[0.2222222222222222,\"#7201a8\"],[0.3333333333333333,\"#9c179e\"],[0.4444444444444444,\"#bd3786\"],[0.5555555555555556,\"#d8576b\"],[0.6666666666666666,\"#ed7953\"],[0.7777777777777778,\"#fb9f3a\"],[0.8888888888888888,\"#fdca26\"],[1.0,\"#f0f921\"]]},\"colorway\":[\"#636efa\",\"#EF553B\",\"#00cc96\",\"#ab63fa\",\"#FFA15A\",\"#19d3f3\",\"#FF6692\",\"#B6E880\",\"#FF97FF\",\"#FECB52\"],\"font\":{\"color\":\"#2a3f5f\"},\"geo\":{\"bgcolor\":\"white\",\"lakecolor\":\"white\",\"landcolor\":\"white\",\"showlakes\":true,\"showland\":true,\"subunitcolor\":\"#C8D4E3\"},\"hoverlabel\":{\"align\":\"left\"},\"hovermode\":\"closest\",\"mapbox\":{\"style\":\"light\"},\"paper_bgcolor\":\"white\",\"plot_bgcolor\":\"white\",\"polar\":{\"angularaxis\":{\"gridcolor\":\"#EBF0F8\",\"linecolor\":\"#EBF0F8\",\"ticks\":\"\"},\"bgcolor\":\"white\",\"radialaxis\":{\"gridcolor\":\"#EBF0F8\",\"linecolor\":\"#EBF0F8\",\"ticks\":\"\"}},\"scene\":{\"xaxis\":{\"backgroundcolor\":\"white\",\"gridcolor\":\"#DFE8F3\",\"gridwidth\":2,\"linecolor\":\"#EBF0F8\",\"showbackground\":true,\"ticks\":\"\",\"zerolinecolor\":\"#EBF0F8\"},\"yaxis\":{\"backgroundcolor\":\"white\",\"gridcolor\":\"#DFE8F3\",\"gridwidth\":2,\"linecolor\":\"#EBF0F8\",\"showbackground\":true,\"ticks\":\"\",\"zerolinecolor\":\"#EBF0F8\"},\"zaxis\":{\"backgroundcolor\":\"white\",\"gridcolor\":\"#DFE8F3\",\"gridwidth\":2,\"linecolor\":\"#EBF0F8\",\"showbackground\":true,\"ticks\":\"\",\"zerolinecolor\":\"#EBF0F8\"}},\"shapedefaults\":{\"line\":{\"color\":\"#2a3f5f\"}},\"ternary\":{\"aaxis\":{\"gridcolor\":\"#DFE8F3\",\"linecolor\":\"#A2B1C6\",\"ticks\":\"\"},\"baxis\":{\"gridcolor\":\"#DFE8F3\",\"linecolor\":\"#A2B1C6\",\"ticks\":\"\"},\"bgcolor\":\"white\",\"caxis\":{\"gridcolor\":\"#DFE8F3\",\"linecolor\":\"#A2B1C6\",\"ticks\":\"\"}},\"title\":{\"x\":0.05},\"xaxis\":{\"automargin\":true,\"gridcolor\":\"#EBF0F8\",\"linecolor\":\"#EBF0F8\",\"ticks\":\"\",\"title\":{\"standoff\":15},\"zerolinecolor\":\"#EBF0F8\",\"zerolinewidth\":2},\"yaxis\":{\"automargin\":true,\"gridcolor\":\"#EBF0F8\",\"linecolor\":\"#EBF0F8\",\"ticks\":\"\",\"title\":{\"standoff\":15},\"zerolinecolor\":\"#EBF0F8\",\"zerolinewidth\":2}}},\"xaxis\":{\"anchor\":\"y\",\"domain\":[0.0,1.0],\"title\":{\"text\":\"Region Index\"}},\"yaxis\":{\"anchor\":\"x\",\"domain\":[0.0,1.0],\"title\":{\"text\":\"Num Cases\"}},\"legend\":{\"tracegroupgap\":0},\"margin\":{\"t\":60},\"title\":{\"text\":\"Prior Predictive Simulation\"},\"showlegend\":false},                        {\"responsive\": true}                    ).then(function(){\n",
       "                            \n",
       "var gd = document.getElementById('7ebff8f2-afc8-4bb9-bf72-d6348c2c226d');\n",
       "var x = new MutationObserver(function (mutations, observer) {{\n",
       "        var display = window.getComputedStyle(gd).display;\n",
       "        if (!display || display === 'none') {{\n",
       "            console.log([gd, 'removed!']);\n",
       "            Plotly.purge(gd);\n",
       "            observer.disconnect();\n",
       "        }}\n",
       "}});\n",
       "\n",
       "// Listen for the removal of the full notebook cells\n",
       "var notebookContainer = gd.closest('#notebook-container');\n",
       "if (notebookContainer) {{\n",
       "    x.observe(notebookContainer, {childList: true});\n",
       "}}\n",
       "\n",
       "// Listen for the clearing of the current output cell\n",
       "var outputEl = gd.closest('.output');\n",
       "if (outputEl) {{\n",
       "    x.observe(outputEl, {childList: true});\n",
       "}}\n",
       "\n",
       "                        })                };                });            </script>        </div>"
      ]
     },
     "metadata": {},
     "output_type": "display_data"
    }
   ],
   "source": [
    "agg_gp_predictive = Predictive(gp_aggr, num_samples = 500)\n",
    "agg_gp_preds = agg_gp_predictive(args)\n",
    "agg_gp_draws = agg_gp_preds[\"gp_aggr_m1\"]\n",
    "\n",
    "p1 = px.line()\n",
    "#map(lambda x: p1.add_scatter(x = np.arange(1,10), y = agg_gp_draws[x :]), np.arange(len(agg_gp_draws)))\n",
    "\n",
    "for i in range(len(agg_gp_draws)):\n",
    "    p1.add_scatter(\n",
    "        x = np.arange(1,10), \n",
    "        y = agg_gp_draws[i, :].to(\"cpu\").numpy(), \n",
    "        line_color = \"black\", \n",
    "        line_width = 0.5,\n",
    "        opacity = 0.2\n",
    "    )\n",
    "p1.update_layout(\n",
    "    template = \"plotly_white\", \n",
    "    xaxis_title = \"Region Index\", yaxis_title = \"Num Cases\", \n",
    "    title = \"Prior Predictive Simulation\",\n",
    "    showlegend = False\n",
    ")\n",
    "p1.show()\n"
   ]
  },
  {
   "cell_type": "code",
   "execution_count": 38,
   "metadata": {},
   "outputs": [
    {
     "data": {
      "text/plain": [
       "torch.Size([500, 9])"
      ]
     },
     "execution_count": 38,
     "metadata": {},
     "output_type": "execute_result"
    }
   ],
   "source": [
    "agg_gp_draws.shape"
   ]
  },
  {
   "cell_type": "code",
   "execution_count": 40,
   "metadata": {},
   "outputs": [
    {
     "data": {
      "image/png": "[encoded data removed]",
      "text/plain": [
       "<Figure size 2000x500 with 10 Axes>"
      ]
     },
     "metadata": {},
     "output_type": "display_data"
    }
   ],
   "source": [
    "# First 5 samples\n",
    "fig, axs = plt.subplots(1,5, figsize = (20,5))\n",
    "df_lo2 = df_lo.copy()\n",
    "for i in range(5):\n",
    "    nm = f\"gp_aggr_{i}\"\n",
    "    df_lo2[nm] = agg_gp_draws[i, :].to(\"cpu\").numpy()\n",
    "    df_lo2.plot(column = nm, ax = axs[i], legend = True)\n",
    "    axs[i].set_title(\"aggGP-prior\" + str(i))\n",
    "    "
   ]
  },
  {
   "cell_type": "code",
   "execution_count": 37,
   "metadata": {},
   "outputs": [
    {
     "data": {
      "text/html": [
       "<div>\n",
       "<style scoped>\n",
       "    .dataframe tbody tr th:only-of-type {\n",
       "        vertical-align: middle;\n",
       "    }\n",
       "\n",
       "    .dataframe tbody tr th {\n",
       "        vertical-align: top;\n",
       "    }\n",
       "\n",
       "    .dataframe thead th {\n",
       "        text-align: right;\n",
       "    }\n",
       "</style>\n",
       "<table border=\"1\" class=\"dataframe\">\n",
       "  <thead>\n",
       "    <tr style=\"text-align: right;\">\n",
       "      <th></th>\n",
       "      <th>area</th>\n",
       "      <th>tot_specs</th>\n",
       "      <th>tot_cases</th>\n",
       "      <th>geometry</th>\n",
       "    </tr>\n",
       "  </thead>\n",
       "  <tbody>\n",
       "    <tr>\n",
       "      <th>0</th>\n",
       "      <td>East North Central</td>\n",
       "      <td>62901</td>\n",
       "      <td>3762</td>\n",
       "      <td>MULTIPOLYGON (((-91.50504 40.19993, -91.50666 ...</td>\n",
       "    </tr>\n",
       "    <tr>\n",
       "      <th>1</th>\n",
       "      <td>East South Central</td>\n",
       "      <td>1532</td>\n",
       "      <td>484</td>\n",
       "      <td>MULTIPOLYGON (((-88.45324 30.20648, -88.44905 ...</td>\n",
       "    </tr>\n",
       "    <tr>\n",
       "      <th>2</th>\n",
       "      <td>Middle Atlantic</td>\n",
       "      <td>80827</td>\n",
       "      <td>2266</td>\n",
       "      <td>MULTIPOLYGON (((-75.55064 39.63791, -75.5472 3...</td>\n",
       "    </tr>\n",
       "    <tr>\n",
       "      <th>3</th>\n",
       "      <td>Mountain</td>\n",
       "      <td>42251</td>\n",
       "      <td>5961</td>\n",
       "      <td>POLYGON ((-103.00196 36.90957, -103.0022 36.71...</td>\n",
       "    </tr>\n",
       "    <tr>\n",
       "      <th>4</th>\n",
       "      <td>New England</td>\n",
       "      <td>20954</td>\n",
       "      <td>2964</td>\n",
       "      <td>MULTIPOLYGON (((-71.58023 41.20484, -71.5773 4...</td>\n",
       "    </tr>\n",
       "    <tr>\n",
       "      <th>5</th>\n",
       "      <td>Pacific</td>\n",
       "      <td>48541</td>\n",
       "      <td>7167</td>\n",
       "      <td>MULTIPOLYGON (((-122.41847 37.86176, -122.4184...</td>\n",
       "    </tr>\n",
       "    <tr>\n",
       "      <th>6</th>\n",
       "      <td>South Atlantic</td>\n",
       "      <td>12874</td>\n",
       "      <td>5185</td>\n",
       "      <td>MULTIPOLYGON (((-81.87468 24.56361, -81.88775 ...</td>\n",
       "    </tr>\n",
       "    <tr>\n",
       "      <th>7</th>\n",
       "      <td>West North Central</td>\n",
       "      <td>9762</td>\n",
       "      <td>2948</td>\n",
       "      <td>POLYGON ((-91.42663 40.37199, -91.42944 40.370...</td>\n",
       "    </tr>\n",
       "    <tr>\n",
       "      <th>8</th>\n",
       "      <td>West South Central</td>\n",
       "      <td>14849</td>\n",
       "      <td>873</td>\n",
       "      <td>MULTIPOLYGON (((-90.66162 29.07226, -90.65212 ...</td>\n",
       "    </tr>\n",
       "  </tbody>\n",
       "</table>\n",
       "</div>"
      ],
      "text/plain": [
       "                 area  tot_specs  tot_cases  \\\n",
       "0  East North Central      62901       3762   \n",
       "1  East South Central       1532        484   \n",
       "2     Middle Atlantic      80827       2266   \n",
       "3            Mountain      42251       5961   \n",
       "4         New England      20954       2964   \n",
       "5             Pacific      48541       7167   \n",
       "6      South Atlantic      12874       5185   \n",
       "7  West North Central       9762       2948   \n",
       "8  West South Central      14849        873   \n",
       "\n",
       "                                            geometry  \n",
       "0  MULTIPOLYGON (((-91.50504 40.19993, -91.50666 ...  \n",
       "1  MULTIPOLYGON (((-88.45324 30.20648, -88.44905 ...  \n",
       "2  MULTIPOLYGON (((-75.55064 39.63791, -75.5472 3...  \n",
       "3  POLYGON ((-103.00196 36.90957, -103.0022 36.71...  \n",
       "4  MULTIPOLYGON (((-71.58023 41.20484, -71.5773 4...  \n",
       "5  MULTIPOLYGON (((-122.41847 37.86176, -122.4184...  \n",
       "6  MULTIPOLYGON (((-81.87468 24.56361, -81.88775 ...  \n",
       "7  POLYGON ((-91.42663 40.37199, -91.42944 40.370...  \n",
       "8  MULTIPOLYGON (((-90.66162 29.07226, -90.65212 ...  "
      ]
     },
     "execution_count": 37,
     "metadata": {},
     "output_type": "execute_result"
    }
   ],
   "source": [
    "#! Check with Swapnil if we need to do this for HI resolution data"
   ]
  },
  {
   "cell_type": "markdown",
   "metadata": {},
   "source": [
    "## Train VAE"
   ]
  },
  {
   "cell_type": "code",
   "execution_count": null,
   "metadata": {},
   "outputs": [],
   "source": []
  }
 ],
 "metadata": {
  "kernelspec": {
   "display_name": "lo2hi",
   "language": "python",
   "name": "python3"
  },
  "language_info": {
   "codemirror_mode": {
    "name": "ipython",
    "version": 3
   },
   "file_extension": ".py",
   "mimetype": "text/x-python",
   "name": "python",
   "nbconvert_exporter": "python",
   "pygments_lexer": "ipython3",
   "version": "3.10.14"
  }
 },
 "nbformat": 4,
 "nbformat_minor": 2
}
